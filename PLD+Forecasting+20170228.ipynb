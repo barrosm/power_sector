{
 "cells": [
  {
   "cell_type": "markdown",
   "metadata": {},
   "source": [
    "### Load Forecasting"
   ]
  },
  {
   "cell_type": "markdown",
   "metadata": {},
   "source": [
    "#### Monica Barros - v. 1.0 - 29/01/2017"
   ]
  },
  {
   "cell_type": "code",
   "execution_count": 1,
   "metadata": {
    "collapsed": false
   },
   "outputs": [
    {
     "name": "stdout",
     "output_type": "stream",
     "text": [
      "[1] \"R version 3.3.2 (2016-10-31)\"\n"
     ]
    }
   ],
   "source": [
    "print(R.Version()$version.string)"
   ]
  },
  {
   "cell_type": "code",
   "execution_count": 2,
   "metadata": {
    "collapsed": true
   },
   "outputs": [],
   "source": [
    "# ==================================================================================\n",
    "# Function Instala_Pacote\n",
    "# ==================================================================================\n",
    "# It works silently, echoing nothing if package \"pacote\" is already installed \n",
    "# and installing it otherwise. \n",
    "# Don't forget to write the name of the package between quotes!\n",
    "# ==================================================================================\n",
    "# Need to choose the CRAN mirror to avoid errors inside the Jupyter notebook\n",
    "# ==================================================================================\n",
    "\n",
    "instala_pacote <- function(pacote) {\n",
    "  if (!pacote %in% installed.packages()) install.packages(pacote, repos = c(\"http://cloud.r-project.org/\") )\n",
    "}\n",
    "# ==================================================================================\n"
   ]
  },
  {
   "cell_type": "code",
   "execution_count": 3,
   "metadata": {
    "collapsed": false
   },
   "outputs": [
    {
     "name": "stderr",
     "output_type": "stream",
     "text": [
      "Installing package into 'C:/Users/Monica/Documents/R/win-library/3.3'\n",
      "(as 'lib' is unspecified)\n",
      "also installing the dependencies 'XML', 'miniCRAN'\n",
      "\n"
     ]
    },
    {
     "name": "stdout",
     "output_type": "stream",
     "text": [
      "package 'XML' successfully unpacked and MD5 sums checked\n",
      "package 'miniCRAN' successfully unpacked and MD5 sums checked\n",
      "package 'AzureML' successfully unpacked and MD5 sums checked\n",
      "\n",
      "The downloaded binary packages are in\n",
      "\tC:\\Users\\Monica\\AppData\\Local\\Temp\\RtmpgZhHiL\\downloaded_packages\n"
     ]
    }
   ],
   "source": [
    "# Package Installation\n",
    "instala_pacote(\"AzureML\") # necessary only if using Azure Machine Learning (not local implementation)\n",
    "instala_pacote(\"ggplot2\")"
   ]
  },
  {
   "cell_type": "code",
   "execution_count": 4,
   "metadata": {
    "collapsed": false
   },
   "outputs": [
    {
     "name": "stderr",
     "output_type": "stream",
     "text": [
      "Installing package into 'C:/Users/Monica/Documents/R/win-library/3.3'\n",
      "(as 'lib' is unspecified)\n"
     ]
    },
    {
     "name": "stdout",
     "output_type": "stream",
     "text": [
      "package 'gbm' successfully unpacked and MD5 sums checked\n",
      "\n",
      "The downloaded binary packages are in\n",
      "\tC:\\Users\\Monica\\AppData\\Local\\Temp\\RtmpgZhHiL\\downloaded_packages\n"
     ]
    }
   ],
   "source": [
    "instala_pacote(\"gbm\")   # gradient boosting machine\n",
    "instala_pacote(\"caret\") # to estimate hyperparameters in GBM"
   ]
  },
  {
   "cell_type": "code",
   "execution_count": 5,
   "metadata": {
    "collapsed": false
   },
   "outputs": [],
   "source": [
    "library(\"AzureML\")\n",
    "library(\"ggplot2\")"
   ]
  },
  {
   "cell_type": "code",
   "execution_count": null,
   "metadata": {
    "collapsed": true
   },
   "outputs": [],
   "source": [
    "### Use this to sign in in Azure and download data\n",
    "### ===============================================\n",
    "### Code Snippet to read-in data set\n",
    "### ===================================\n",
    "ws <- workspace(\n",
    "  id = \"cee094f50cdd4a94b0e60771f06a0b3c\",\n",
    "  auth = \"CjppaUQqoJdUBSp15XKz2Ma1hAQE1EytDAeBhaa0F8Ay+zSHwW6bqLYTQzw9+LGTabrUI7/sC9bsxu8MhHZRPA==\",\n",
    "  api_endpoint = \"https://studioapi.azureml.net\"\n",
    ")\n",
    "\n",
    "### Download data\n",
    "dst <- download.datasets(dataset = ws,name = \"PLD_ENA_Sudeste.csv\")\n"
   ]
  },
  {
   "cell_type": "code",
   "execution_count": 61,
   "metadata": {
    "collapsed": true
   },
   "outputs": [],
   "source": [
    "### Use this to download local data\n",
    "### ===========================================\n",
    "dst = read.csv(\"PLD_ENA_Sudeste.csv\", header = TRUE, sep = \";\")"
   ]
  },
  {
   "cell_type": "code",
   "execution_count": 62,
   "metadata": {
    "collapsed": false
   },
   "outputs": [
    {
     "name": "stdout",
     "output_type": "stream",
     "text": [
      "'data.frame':\t796 obs. of  14 variables:\n",
      " $ Start.Date        : Factor w/ 796 levels \"01/01/2002\",\"01/01/2005\",..: 1 108 290 472 654 33 215 397 579 6 ...\n",
      " $ End.Date          : Factor w/ 796 levels \"01/01/2010\",\"01/01/2016\",..: 79 261 443 625 3 186 368 550 707 6 ...\n",
      " $ Date              : Factor w/ 795 levels \"01/01/2010\",\"01/01/2016\",..: 79 261 443 625 3 186 368 550 6 6 ...\n",
      " $ SE_EAR_Average_MW : int  55636 62083 69841 75077 78741 83430 91800 99483 102088 105794 ...\n",
      " $ SE_EAR.           : num  34.5 37.1 41.7 44.8 47 ...\n",
      " $ ENA_Average_MW    : int  49893 40548 54053 84439 23894 64660 59647 54279 63196 45270 ...\n",
      " $ ENA._long_term_avg: num  126 76.5 102 159 44.7 ...\n",
      " $ Year              : int  2002 2002 2002 2002 2002 2002 2002 2002 2002 2002 ...\n",
      " $ Month             : int  1 1 1 1 2 2 2 2 3 3 ...\n",
      " $ Wk_of_Month       : int  1 2 3 4 1 2 3 4 1 1 ...\n",
      " $ Price_Heavy       : num  336 336 336 336 135 ...\n",
      " $ Price_Medium      : num  336 336 336 336 135 ...\n",
      " $ Price_Light       : num  336 336 336 336 135 ...\n",
      " $ Max_Price         : num  336 336 336 336 336 336 336 336 336 336 ...\n"
     ]
    }
   ],
   "source": [
    "str(dst)"
   ]
  },
  {
   "cell_type": "code",
   "execution_count": 63,
   "metadata": {
    "collapsed": false
   },
   "outputs": [
    {
     "data": {
      "text/html": [
       "<table>\n",
       "<thead><tr><th></th><th scope=col>Start.Date</th><th scope=col>End.Date</th><th scope=col>Date</th><th scope=col>SE_EAR_Average_MW</th><th scope=col>SE_EAR.</th><th scope=col>ENA_Average_MW</th><th scope=col>ENA._long_term_avg</th><th scope=col>Year</th><th scope=col>Month</th><th scope=col>Wk_of_Month</th><th scope=col>Price_Heavy</th><th scope=col>Price_Medium</th><th scope=col>Price_Light</th><th scope=col>Max_Price</th></tr></thead>\n",
       "<tbody>\n",
       "\t<tr><th scope=row>791</th><td>21/01/2017</td><td>27/01/2017</td><td>27/01/2017</td><td>75441     </td><td>36.8      </td><td>54252     </td><td>85        </td><td>2017      </td><td>1         </td><td>4         </td><td>131.27    </td><td>131.27    </td><td>127.50    </td><td>533.82    </td></tr>\n",
       "\t<tr><th scope=row>792</th><td>28/01/2017</td><td>03/02/2017</td><td>03/02/2017</td><td>77491     </td><td>37.8      </td><td>55350     </td><td>84        </td><td>2017      </td><td>2         </td><td>1         </td><td>101.31    </td><td>101.31    </td><td> 99.46    </td><td>533.82    </td></tr>\n",
       "\t<tr><th scope=row>793</th><td>04/02/2017</td><td>10/02/2017</td><td>10/02/2017</td><td>80976     </td><td>39.5      </td><td>53862     </td><td>78        </td><td>2017      </td><td>2         </td><td>2         </td><td>112.71    </td><td>112.71    </td><td>110.50    </td><td>533.82    </td></tr>\n",
       "\t<tr><th scope=row>794</th><td>11/02/2017</td><td>17/02/2017</td><td>17/02/2017</td><td>82411     </td><td>40.2      </td><td>52749     </td><td>76        </td><td>2017      </td><td>2         </td><td>3         </td><td>122.27    </td><td>122.27    </td><td>118.69    </td><td>533.82    </td></tr>\n",
       "\t<tr><th scope=row>795</th><td>18/02/2017</td><td>24/02/2017</td><td>24/02/2017</td><td>81591     </td><td>39.8      </td><td>43576     </td><td>63        </td><td>2017      </td><td>2         </td><td>4         </td><td>133.87    </td><td>133.87    </td><td>129.74    </td><td>533.82    </td></tr>\n",
       "\t<tr><th scope=row>796</th><td>25/02/2017</td><td>03/03/2017</td><td>03/03/2017</td><td>   NA     </td><td>  NA      </td><td>   NA     </td><td>NA        </td><td>2017      </td><td>3         </td><td>1         </td><td>186.18    </td><td>185.54    </td><td>183.00    </td><td>533.82    </td></tr>\n",
       "</tbody>\n",
       "</table>\n"
      ],
      "text/latex": [
       "\\begin{tabular}{r|llllllllllllll}\n",
       "  & Start.Date & End.Date & Date & SE\\_EAR\\_Average\\_MW & SE\\_EAR. & ENA\\_Average\\_MW & ENA.\\_long\\_term\\_avg & Year & Month & Wk\\_of\\_Month & Price\\_Heavy & Price\\_Medium & Price\\_Light & Max\\_Price\\\\\n",
       "\\hline\n",
       "\t791 & 21/01/2017 & 27/01/2017 & 27/01/2017 & 75441      & 36.8       & 54252      & 85         & 2017       & 1          & 4          & 131.27     & 131.27     & 127.50     & 533.82    \\\\\n",
       "\t792 & 28/01/2017 & 03/02/2017 & 03/02/2017 & 77491      & 37.8       & 55350      & 84         & 2017       & 2          & 1          & 101.31     & 101.31     &  99.46     & 533.82    \\\\\n",
       "\t793 & 04/02/2017 & 10/02/2017 & 10/02/2017 & 80976      & 39.5       & 53862      & 78         & 2017       & 2          & 2          & 112.71     & 112.71     & 110.50     & 533.82    \\\\\n",
       "\t794 & 11/02/2017 & 17/02/2017 & 17/02/2017 & 82411      & 40.2       & 52749      & 76         & 2017       & 2          & 3          & 122.27     & 122.27     & 118.69     & 533.82    \\\\\n",
       "\t795 & 18/02/2017 & 24/02/2017 & 24/02/2017 & 81591      & 39.8       & 43576      & 63         & 2017       & 2          & 4          & 133.87     & 133.87     & 129.74     & 533.82    \\\\\n",
       "\t796 & 25/02/2017 & 03/03/2017 & 03/03/2017 &    NA      &   NA       &    NA      & NA         & 2017       & 3          & 1          & 186.18     & 185.54     & 183.00     & 533.82    \\\\\n",
       "\\end{tabular}\n"
      ],
      "text/markdown": [
       "\n",
       "| <!--/--> | Start.Date | End.Date | Date | SE_EAR_Average_MW | SE_EAR. | ENA_Average_MW | ENA._long_term_avg | Year | Month | Wk_of_Month | Price_Heavy | Price_Medium | Price_Light | Max_Price | \n",
       "|---|---|---|---|---|---|\n",
       "| 791 | 21/01/2017 | 27/01/2017 | 27/01/2017 | 75441      | 36.8       | 54252      | 85         | 2017       | 1          | 4          | 131.27     | 131.27     | 127.50     | 533.82     | \n",
       "| 792 | 28/01/2017 | 03/02/2017 | 03/02/2017 | 77491      | 37.8       | 55350      | 84         | 2017       | 2          | 1          | 101.31     | 101.31     |  99.46     | 533.82     | \n",
       "| 793 | 04/02/2017 | 10/02/2017 | 10/02/2017 | 80976      | 39.5       | 53862      | 78         | 2017       | 2          | 2          | 112.71     | 112.71     | 110.50     | 533.82     | \n",
       "| 794 | 11/02/2017 | 17/02/2017 | 17/02/2017 | 82411      | 40.2       | 52749      | 76         | 2017       | 2          | 3          | 122.27     | 122.27     | 118.69     | 533.82     | \n",
       "| 795 | 18/02/2017 | 24/02/2017 | 24/02/2017 | 81591      | 39.8       | 43576      | 63         | 2017       | 2          | 4          | 133.87     | 133.87     | 129.74     | 533.82     | \n",
       "| 796 | 25/02/2017 | 03/03/2017 | 03/03/2017 |    NA      |   NA       |    NA      | NA         | 2017       | 3          | 1          | 186.18     | 185.54     | 183.00     | 533.82     | \n",
       "\n",
       "\n"
      ],
      "text/plain": [
       "    Start.Date End.Date   Date       SE_EAR_Average_MW SE_EAR. ENA_Average_MW\n",
       "791 21/01/2017 27/01/2017 27/01/2017 75441             36.8    54252         \n",
       "792 28/01/2017 03/02/2017 03/02/2017 77491             37.8    55350         \n",
       "793 04/02/2017 10/02/2017 10/02/2017 80976             39.5    53862         \n",
       "794 11/02/2017 17/02/2017 17/02/2017 82411             40.2    52749         \n",
       "795 18/02/2017 24/02/2017 24/02/2017 81591             39.8    43576         \n",
       "796 25/02/2017 03/03/2017 03/03/2017    NA               NA       NA         \n",
       "    ENA._long_term_avg Year Month Wk_of_Month Price_Heavy Price_Medium\n",
       "791 85                 2017 1     4           131.27      131.27      \n",
       "792 84                 2017 2     1           101.31      101.31      \n",
       "793 78                 2017 2     2           112.71      112.71      \n",
       "794 76                 2017 2     3           122.27      122.27      \n",
       "795 63                 2017 2     4           133.87      133.87      \n",
       "796 NA                 2017 3     1           186.18      185.54      \n",
       "    Price_Light Max_Price\n",
       "791 127.50      533.82   \n",
       "792  99.46      533.82   \n",
       "793 110.50      533.82   \n",
       "794 118.69      533.82   \n",
       "795 129.74      533.82   \n",
       "796 183.00      533.82   "
      ]
     },
     "metadata": {},
     "output_type": "display_data"
    }
   ],
   "source": [
    "tail(dst)"
   ]
  },
  {
   "cell_type": "code",
   "execution_count": 64,
   "metadata": {
    "collapsed": false
   },
   "outputs": [
    {
     "data": {
      "image/png": "[encoded data removed]",
      "text/plain": [
       "Plot with title \"Spot Price (medium load) - training and test periods\""
      ]
     },
     "metadata": {},
     "output_type": "display_data"
    }
   ],
   "source": [
    "time=1:nrow(dst)\n",
    "plot(time,dst$Price_Medium, type =\"l\", col = \"navy\", main = \"Spot Price (medium load) - training and test periods\")"
   ]
  },
  {
   "cell_type": "code",
   "execution_count": 65,
   "metadata": {
    "collapsed": false
   },
   "outputs": [
    {
     "data": {
      "text/html": [
       "'double'"
      ],
      "text/latex": [
       "'double'"
      ],
      "text/markdown": [
       "'double'"
      ],
      "text/plain": [
       "[1] \"double\""
      ]
     },
     "metadata": {},
     "output_type": "display_data"
    }
   ],
   "source": [
    "typeof(dst$Price_Medium)"
   ]
  },
  {
   "cell_type": "code",
   "execution_count": 66,
   "metadata": {
    "collapsed": true
   },
   "outputs": [],
   "source": [
    "# Package to resize plots\n",
    "instala_pacote(\"repr\")\n",
    "library(repr)"
   ]
  },
  {
   "cell_type": "code",
   "execution_count": 67,
   "metadata": {
    "collapsed": false
   },
   "outputs": [
    {
     "data": {
      "image/png": "[encoded data removed]",
      "text/plain": [
       "Plot with title \"Distribution of Spot Price\""
      ]
     },
     "metadata": {},
     "output_type": "display_data"
    }
   ],
   "source": [
    "options(repr.plot.width = 5, repr.plot.height = 5)\n",
    "hist(dst$Price_Medium, main = \"Distribution of Spot Price\", col = \"orange\", xlab = NULL)"
   ]
  },
  {
   "cell_type": "markdown",
   "metadata": {},
   "source": [
    "### Script to create lagged variables"
   ]
  },
  {
   "cell_type": "code",
   "execution_count": 68,
   "metadata": {
    "collapsed": true
   },
   "outputs": [],
   "source": [
    "nlags = 8 # up to 8 weeks \n",
    "orig_names <- names(dst)\n",
    "n_rows = nrow(dst) # or dim(dst)[1]\n",
    "n_cols = ncol(dst) # or dim(dst)[2]\n",
    "\n",
    "# computes lags of the Price_Heavy series (11th column of dataframe)\n",
    "# ==================================================================\n",
    "for (i in 1:nlags) {\n",
    "       dst[1:i,n_cols+i] = 0 \n",
    "       dst[(i+1):n_rows,n_cols+i] = dst[1:(n_rows-i),11]}  \n",
    "\n",
    "# a ranges from 1 to nlags\n",
    "a  =  1:nlags\n",
    "new_names <- paste0(\"Price_Heavy_lag_\",a)\n",
    "names(dst) <- c(orig_names,new_names)"
   ]
  },
  {
   "cell_type": "code",
   "execution_count": 69,
   "metadata": {
    "collapsed": true
   },
   "outputs": [],
   "source": [
    "nlags = 8 # up to 8 weeks \n",
    "orig_names <- names(dst)\n",
    "n_rows = nrow(dst) # or dim(dst)[1]\n",
    "n_cols = ncol(dst) # or dim(dst)[2]\n",
    "\n",
    "# computes lags of the Price_Medium series (12th column of dataframe)\n",
    "# ==================================================================\n",
    "for (i in 1:nlags) {\n",
    "       dst[1:i,n_cols+i] = 0 \n",
    "       dst[(i+1):n_rows,n_cols+i] = dst[1:(n_rows-i),12]}  \n",
    "\n",
    "# a ranges from 1 to nlags\n",
    "a  =  1:nlags\n",
    "new_names <- paste0(\"Price_Medium_lag_\",a)\n",
    "names(dst) <- c(orig_names,new_names)"
   ]
  },
  {
   "cell_type": "code",
   "execution_count": 70,
   "metadata": {
    "collapsed": true
   },
   "outputs": [],
   "source": [
    "nlags = 8 # up to 8 weeks \n",
    "orig_names <- names(dst)\n",
    "n_rows = nrow(dst) # or dim(dst)[1]\n",
    "n_cols = ncol(dst) # or dim(dst)[2]\n",
    "\n",
    "# computes lags of the Price_Light series (13th column of dataframe)\n",
    "# ==================================================================\n",
    "for (i in 1:nlags) {\n",
    "       dst[1:i,n_cols+i] = 0 \n",
    "       dst[(i+1):n_rows,n_cols+i] = dst[1:(n_rows-i),13]}  \n",
    "\n",
    "# a ranges from 1 to nlags\n",
    "a  =  1:nlags\n",
    "new_names <- paste0(\"Price_Light_lag_\",a)\n",
    "names(dst) <- c(orig_names,new_names)"
   ]
  },
  {
   "cell_type": "code",
   "execution_count": 71,
   "metadata": {
    "collapsed": true
   },
   "outputs": [],
   "source": [
    "nlags = 8 # up to 8 weeks \n",
    "orig_names <- names(dst)\n",
    "n_rows = nrow(dst) # or dim(dst)[1]\n",
    "n_cols = ncol(dst) # or dim(dst)[2]\n",
    "\n",
    "# computes lags of the SE_EAR_Average_MW series(4th column of dataframe)\n",
    "# ==================================================================\n",
    "for (i in 1:nlags) {\n",
    "       dst[1:i,n_cols+i] = 0 \n",
    "       dst[(i+1):n_rows,n_cols+i] = dst[1:(n_rows-i),4]}  \n",
    "\n",
    "# a ranges from 1 to nlags\n",
    "a  =  1:nlags\n",
    "new_names <- paste0(\"SE_EAR_Average_MW_lag_\",a)\n",
    "names(dst) <- c(orig_names,new_names)"
   ]
  },
  {
   "cell_type": "code",
   "execution_count": 72,
   "metadata": {
    "collapsed": true
   },
   "outputs": [],
   "source": [
    "nlags = 8 # up to 8 weeks \n",
    "orig_names <- names(dst)\n",
    "n_rows = nrow(dst) # or dim(dst)[1]\n",
    "n_cols = ncol(dst) # or dim(dst)[2]\n",
    "\n",
    "# computes lags of the ENA_Average_MW series (6th column of dataframe)\n",
    "# ==================================================================\n",
    "for (i in 1:nlags) {\n",
    "       dst[1:i,n_cols+i] = 0 \n",
    "       dst[(i+1):n_rows,n_cols+i] = dst[1:(n_rows-i),6]}  \n",
    "\n",
    "# a ranges from 1 to nlags\n",
    "a  =  1:nlags\n",
    "new_names <- paste0(\"ENA_Average_MW_lag_\",a)\n",
    "names(dst) <- c(orig_names,new_names)"
   ]
  },
  {
   "cell_type": "code",
   "execution_count": 73,
   "metadata": {
    "collapsed": false
   },
   "outputs": [
    {
     "name": "stdout",
     "output_type": "stream",
     "text": [
      "'data.frame':\t796 obs. of  54 variables:\n",
      " $ Start.Date             : Factor w/ 796 levels \"01/01/2002\",\"01/01/2005\",..: 1 108 290 472 654 33 215 397 579 6 ...\n",
      " $ End.Date               : Factor w/ 796 levels \"01/01/2010\",\"01/01/2016\",..: 79 261 443 625 3 186 368 550 707 6 ...\n",
      " $ Date                   : Factor w/ 795 levels \"01/01/2010\",\"01/01/2016\",..: 79 261 443 625 3 186 368 550 6 6 ...\n",
      " $ SE_EAR_Average_MW      : int  55636 62083 69841 75077 78741 83430 91800 99483 102088 105794 ...\n",
      " $ SE_EAR.                : num  34.5 37.1 41.7 44.8 47 ...\n",
      " $ ENA_Average_MW         : int  49893 40548 54053 84439 23894 64660 59647 54279 63196 45270 ...\n",
      " $ ENA._long_term_avg     : num  126 76.5 102 159 44.7 ...\n",
      " $ Year                   : int  2002 2002 2002 2002 2002 2002 2002 2002 2002 2002 ...\n",
      " $ Month                  : int  1 1 1 1 2 2 2 2 3 3 ...\n",
      " $ Wk_of_Month            : int  1 2 3 4 1 2 3 4 1 1 ...\n",
      " $ Price_Heavy            : num  336 336 336 336 135 ...\n",
      " $ Price_Medium           : num  336 336 336 336 135 ...\n",
      " $ Price_Light            : num  336 336 336 336 135 ...\n",
      " $ Max_Price              : num  336 336 336 336 336 336 336 336 336 336 ...\n",
      " $ Price_Heavy_lag_1      : num  0 336 336 336 336 ...\n",
      " $ Price_Heavy_lag_2      : num  0 0 336 336 336 ...\n",
      " $ Price_Heavy_lag_3      : num  0 0 0 336 336 ...\n",
      " $ Price_Heavy_lag_4      : num  0 0 0 0 336 ...\n",
      " $ Price_Heavy_lag_5      : num  0 0 0 0 0 ...\n",
      " $ Price_Heavy_lag_6      : num  0 0 0 0 0 0 336 336 336 336 ...\n",
      " $ Price_Heavy_lag_7      : num  0 0 0 0 0 0 0 336 336 336 ...\n",
      " $ Price_Heavy_lag_8      : num  0 0 0 0 0 0 0 0 336 336 ...\n",
      " $ Price_Medium_lag_1     : num  0 336 336 336 336 ...\n",
      " $ Price_Medium_lag_2     : num  0 0 336 336 336 ...\n",
      " $ Price_Medium_lag_3     : num  0 0 0 336 336 ...\n",
      " $ Price_Medium_lag_4     : num  0 0 0 0 336 ...\n",
      " $ Price_Medium_lag_5     : num  0 0 0 0 0 ...\n",
      " $ Price_Medium_lag_6     : num  0 0 0 0 0 0 336 336 336 336 ...\n",
      " $ Price_Medium_lag_7     : num  0 0 0 0 0 0 0 336 336 336 ...\n",
      " $ Price_Medium_lag_8     : num  0 0 0 0 0 0 0 0 336 336 ...\n",
      " $ Price_Light_lag_1      : num  0 336 336 336 336 ...\n",
      " $ Price_Light_lag_2      : num  0 0 336 336 336 ...\n",
      " $ Price_Light_lag_3      : num  0 0 0 336 336 ...\n",
      " $ Price_Light_lag_4      : num  0 0 0 0 336 ...\n",
      " $ Price_Light_lag_5      : num  0 0 0 0 0 ...\n",
      " $ Price_Light_lag_6      : num  0 0 0 0 0 0 336 336 336 336 ...\n",
      " $ Price_Light_lag_7      : num  0 0 0 0 0 0 0 336 336 336 ...\n",
      " $ Price_Light_lag_8      : num  0 0 0 0 0 0 0 0 336 336 ...\n",
      " $ SE_EAR_Average_MW_lag_1: num  0 55636 62083 69841 75077 ...\n",
      " $ SE_EAR_Average_MW_lag_2: num  0 0 55636 62083 69841 ...\n",
      " $ SE_EAR_Average_MW_lag_3: num  0 0 0 55636 62083 ...\n",
      " $ SE_EAR_Average_MW_lag_4: num  0 0 0 0 55636 ...\n",
      " $ SE_EAR_Average_MW_lag_5: num  0 0 0 0 0 ...\n",
      " $ SE_EAR_Average_MW_lag_6: num  0 0 0 0 0 ...\n",
      " $ SE_EAR_Average_MW_lag_7: num  0 0 0 0 0 ...\n",
      " $ SE_EAR_Average_MW_lag_8: num  0 0 0 0 0 ...\n",
      " $ ENA_Average_MW_lag_1   : num  0 49893 40548 54053 84439 ...\n",
      " $ ENA_Average_MW_lag_2   : num  0 0 49893 40548 54053 ...\n",
      " $ ENA_Average_MW_lag_3   : num  0 0 0 49893 40548 ...\n",
      " $ ENA_Average_MW_lag_4   : num  0 0 0 0 49893 ...\n",
      " $ ENA_Average_MW_lag_5   : num  0 0 0 0 0 ...\n",
      " $ ENA_Average_MW_lag_6   : num  0 0 0 0 0 ...\n",
      " $ ENA_Average_MW_lag_7   : num  0 0 0 0 0 ...\n",
      " $ ENA_Average_MW_lag_8   : num  0 0 0 0 0 ...\n"
     ]
    }
   ],
   "source": [
    "str(dst)"
   ]
  },
  {
   "cell_type": "markdown",
   "metadata": {},
   "source": [
    "### Specify factor variables"
   ]
  },
  {
   "cell_type": "code",
   "execution_count": 77,
   "metadata": {
    "collapsed": false
   },
   "outputs": [],
   "source": [
    "dst$Month = factor(dst$Month);\n",
    "dst$Year =  factor(dst$Year);\n",
    "dst$Wk_of_Month =  factor(dst$Wk_of_Month);"
   ]
  },
  {
   "cell_type": "code",
   "execution_count": 86,
   "metadata": {
    "collapsed": false
   },
   "outputs": [
    {
     "name": "stdout",
     "output_type": "stream",
     "text": [
      "'data.frame':\t796 obs. of  54 variables:\n",
      " $ Start.Date             : Factor w/ 796 levels \"01/01/2002\",\"01/01/2005\",..: 1 108 290 472 654 33 215 397 579 6 ...\n",
      " $ End.Date               : Factor w/ 796 levels \"01/01/2010\",\"01/01/2016\",..: 79 261 443 625 3 186 368 550 707 6 ...\n",
      " $ Date                   : Factor w/ 795 levels \"01/01/2010\",\"01/01/2016\",..: 79 261 443 625 3 186 368 550 6 6 ...\n",
      " $ SE_EAR_Average_MW      : int  55636 62083 69841 75077 78741 83430 91800 99483 102088 105794 ...\n",
      " $ SE_EAR.                : num  34.5 37.1 41.7 44.8 47 ...\n",
      " $ ENA_Average_MW         : int  49893 40548 54053 84439 23894 64660 59647 54279 63196 45270 ...\n",
      " $ ENA._long_term_avg     : num  126 76.5 102 159 44.7 ...\n",
      " $ Year                   : Factor w/ 16 levels \"2002\",\"2003\",..: 1 1 1 1 1 1 1 1 1 1 ...\n",
      " $ Month                  : Factor w/ 12 levels \"1\",\"2\",\"3\",\"4\",..: 1 1 1 1 2 2 2 2 3 3 ...\n",
      " $ Wk_of_Month            : Factor w/ 5 levels \"1\",\"2\",\"3\",\"4\",..: 1 2 3 4 1 2 3 4 1 1 ...\n",
      " $ Price_Heavy            : num  336 336 336 336 135 ...\n",
      " $ Price_Medium           : num  336 336 336 336 135 ...\n",
      " $ Price_Light            : num  336 336 336 336 135 ...\n",
      " $ Max_Price              : num  336 336 336 336 336 336 336 336 336 336 ...\n",
      " $ Price_Heavy_lag_1      : num  0 336 336 336 336 ...\n",
      " $ Price_Heavy_lag_2      : num  0 0 336 336 336 ...\n",
      " $ Price_Heavy_lag_3      : num  0 0 0 336 336 ...\n",
      " $ Price_Heavy_lag_4      : num  0 0 0 0 336 ...\n",
      " $ Price_Heavy_lag_5      : num  0 0 0 0 0 ...\n",
      " $ Price_Heavy_lag_6      : num  0 0 0 0 0 0 336 336 336 336 ...\n",
      " $ Price_Heavy_lag_7      : num  0 0 0 0 0 0 0 336 336 336 ...\n",
      " $ Price_Heavy_lag_8      : num  0 0 0 0 0 0 0 0 336 336 ...\n",
      " $ Price_Medium_lag_1     : num  0 336 336 336 336 ...\n",
      " $ Price_Medium_lag_2     : num  0 0 336 336 336 ...\n",
      " $ Price_Medium_lag_3     : num  0 0 0 336 336 ...\n",
      " $ Price_Medium_lag_4     : num  0 0 0 0 336 ...\n",
      " $ Price_Medium_lag_5     : num  0 0 0 0 0 ...\n",
      " $ Price_Medium_lag_6     : num  0 0 0 0 0 0 336 336 336 336 ...\n",
      " $ Price_Medium_lag_7     : num  0 0 0 0 0 0 0 336 336 336 ...\n",
      " $ Price_Medium_lag_8     : num  0 0 0 0 0 0 0 0 336 336 ...\n",
      " $ Price_Light_lag_1      : num  0 336 336 336 336 ...\n",
      " $ Price_Light_lag_2      : num  0 0 336 336 336 ...\n",
      " $ Price_Light_lag_3      : num  0 0 0 336 336 ...\n",
      " $ Price_Light_lag_4      : num  0 0 0 0 336 ...\n",
      " $ Price_Light_lag_5      : num  0 0 0 0 0 ...\n",
      " $ Price_Light_lag_6      : num  0 0 0 0 0 0 336 336 336 336 ...\n",
      " $ Price_Light_lag_7      : num  0 0 0 0 0 0 0 336 336 336 ...\n",
      " $ Price_Light_lag_8      : num  0 0 0 0 0 0 0 0 336 336 ...\n",
      " $ SE_EAR_Average_MW_lag_1: num  0 55636 62083 69841 75077 ...\n",
      " $ SE_EAR_Average_MW_lag_2: num  0 0 55636 62083 69841 ...\n",
      " $ SE_EAR_Average_MW_lag_3: num  0 0 0 55636 62083 ...\n",
      " $ SE_EAR_Average_MW_lag_4: num  0 0 0 0 55636 ...\n",
      " $ SE_EAR_Average_MW_lag_5: num  0 0 0 0 0 ...\n",
      " $ SE_EAR_Average_MW_lag_6: num  0 0 0 0 0 ...\n",
      " $ SE_EAR_Average_MW_lag_7: num  0 0 0 0 0 ...\n",
      " $ SE_EAR_Average_MW_lag_8: num  0 0 0 0 0 ...\n",
      " $ ENA_Average_MW_lag_1   : num  0 49893 40548 54053 84439 ...\n",
      " $ ENA_Average_MW_lag_2   : num  0 0 49893 40548 54053 ...\n",
      " $ ENA_Average_MW_lag_3   : num  0 0 0 49893 40548 ...\n",
      " $ ENA_Average_MW_lag_4   : num  0 0 0 0 49893 ...\n",
      " $ ENA_Average_MW_lag_5   : num  0 0 0 0 0 ...\n",
      " $ ENA_Average_MW_lag_6   : num  0 0 0 0 0 ...\n",
      " $ ENA_Average_MW_lag_7   : num  0 0 0 0 0 ...\n",
      " $ ENA_Average_MW_lag_8   : num  0 0 0 0 0 ...\n"
     ]
    }
   ],
   "source": [
    "str(dst)"
   ]
  },
  {
   "cell_type": "code",
   "execution_count": 87,
   "metadata": {
    "collapsed": false
   },
   "outputs": [],
   "source": [
    "library(gbm)   # Gradient Boosting Machine\n",
    "library(caret) # to estimate hyperparameters"
   ]
  },
  {
   "cell_type": "markdown",
   "metadata": {},
   "source": [
    "### Splitting the data into training and testing"
   ]
  },
  {
   "cell_type": "code",
   "execution_count": 99,
   "metadata": {
    "collapsed": true
   },
   "outputs": [],
   "source": [
    "train_percentage = 75/100  # Define pecentage of data used in training"
   ]
  },
  {
   "cell_type": "code",
   "execution_count": 100,
   "metadata": {
    "collapsed": false
   },
   "outputs": [],
   "source": [
    "dst_train = dst[1:floor(train_percentage*nrow(dst)),] "
   ]
  },
  {
   "cell_type": "code",
   "execution_count": 101,
   "metadata": {
    "collapsed": false
   },
   "outputs": [
    {
     "data": {
      "text/html": [
       "<table>\n",
       "<thead><tr><th></th><th scope=col>Start.Date</th><th scope=col>End.Date</th><th scope=col>Date</th><th scope=col>SE_EAR_Average_MW</th><th scope=col>SE_EAR.</th><th scope=col>ENA_Average_MW</th><th scope=col>ENA._long_term_avg</th><th scope=col>Year</th><th scope=col>Month</th><th scope=col>Wk_of_Month</th><th scope=col>...</th><th scope=col>SE_EAR_Average_MW_lag_7</th><th scope=col>SE_EAR_Average_MW_lag_8</th><th scope=col>ENA_Average_MW_lag_1</th><th scope=col>ENA_Average_MW_lag_2</th><th scope=col>ENA_Average_MW_lag_3</th><th scope=col>ENA_Average_MW_lag_4</th><th scope=col>ENA_Average_MW_lag_5</th><th scope=col>ENA_Average_MW_lag_6</th><th scope=col>ENA_Average_MW_lag_7</th><th scope=col>ENA_Average_MW_lag_8</th></tr></thead>\n",
       "<tbody>\n",
       "\t<tr><th scope=row>592</th><td>06/04/2013</td><td>12/04/2013</td><td>12/04/2013</td><td>117740    </td><td>58.5      </td><td>56163     </td><td>135       </td><td>2013      </td><td>4         </td><td>2         </td><td>...       </td><td> 89965    </td><td> 87550    </td><td>54393     </td><td>55587     </td><td>51676     </td><td>44928     </td><td>42574     </td><td>42763     </td><td>53938     </td><td>62422     </td></tr>\n",
       "\t<tr><th scope=row>593</th><td>13/04/2013</td><td>19/04/2013</td><td>19/04/2013</td><td>122973    </td><td>61.1      </td><td>59059     </td><td>142       </td><td>2013      </td><td>4         </td><td>3         </td><td>...       </td><td> 91978    </td><td> 89965    </td><td>56163     </td><td>54393     </td><td>55587     </td><td>51676     </td><td>44928     </td><td>42574     </td><td>42763     </td><td>53938     </td></tr>\n",
       "\t<tr><th scope=row>594</th><td>20/04/2013</td><td>26/04/2013</td><td>26/04/2013</td><td>124986    </td><td>62.1      </td><td>43999     </td><td>106       </td><td>2013      </td><td>4         </td><td>4         </td><td>...       </td><td> 94192    </td><td> 91978    </td><td>59059     </td><td>56163     </td><td>54393     </td><td>55587     </td><td>51676     </td><td>44928     </td><td>42574     </td><td>42763     </td></tr>\n",
       "\t<tr><th scope=row>595</th><td>27/04/2013</td><td>03/05/2013</td><td>03/05/2013</td><td>126193    </td><td>62.7      </td><td>33970     </td><td> 93       </td><td>2013      </td><td>5         </td><td>1         </td><td>...       </td><td> 97010    </td><td> 94192    </td><td>43999     </td><td>59059     </td><td>56163     </td><td>54393     </td><td>55587     </td><td>51676     </td><td>44928     </td><td>42574     </td></tr>\n",
       "\t<tr><th scope=row>596</th><td>04/05/2013</td><td>10/05/2013</td><td>10/05/2013</td><td>125992    </td><td>62.6      </td><td>29312     </td><td> 98       </td><td>2013      </td><td>5         </td><td>2         </td><td>...       </td><td>101236    </td><td> 97010    </td><td>33970     </td><td>43999     </td><td>59059     </td><td>56163     </td><td>54393     </td><td>55587     </td><td>51676     </td><td>44928     </td></tr>\n",
       "\t<tr><th scope=row>597</th><td>11/05/2013</td><td>17/05/2013</td><td>17/05/2013</td><td>125187    </td><td>62.2      </td><td>27244     </td><td> 91       </td><td>2013      </td><td>5         </td><td>3         </td><td>...       </td><td>107476    </td><td>101236    </td><td>29312     </td><td>33970     </td><td>43999     </td><td>59059     </td><td>56163     </td><td>54393     </td><td>55587     </td><td>51676     </td></tr>\n",
       "</tbody>\n",
       "</table>\n"
      ],
      "text/latex": [
       "\\begin{tabular}{r|llllllllllllllllllllllllllllllllllllllllllllllllllllll}\n",
       "  & Start.Date & End.Date & Date & SE\\_EAR\\_Average\\_MW & SE\\_EAR. & ENA\\_Average\\_MW & ENA.\\_long\\_term\\_avg & Year & Month & Wk\\_of\\_Month & ... & SE\\_EAR\\_Average\\_MW\\_lag\\_7 & SE\\_EAR\\_Average\\_MW\\_lag\\_8 & ENA\\_Average\\_MW\\_lag\\_1 & ENA\\_Average\\_MW\\_lag\\_2 & ENA\\_Average\\_MW\\_lag\\_3 & ENA\\_Average\\_MW\\_lag\\_4 & ENA\\_Average\\_MW\\_lag\\_5 & ENA\\_Average\\_MW\\_lag\\_6 & ENA\\_Average\\_MW\\_lag\\_7 & ENA\\_Average\\_MW\\_lag\\_8\\\\\n",
       "\\hline\n",
       "\t592 & 06/04/2013 & 12/04/2013 & 12/04/2013 & 117740     & 58.5       & 56163      & 135        & 2013       & 4          & 2          & ...        &  89965     &  87550     & 54393      & 55587      & 51676      & 44928      & 42574      & 42763      & 53938      & 62422     \\\\\n",
       "\t593 & 13/04/2013 & 19/04/2013 & 19/04/2013 & 122973     & 61.1       & 59059      & 142        & 2013       & 4          & 3          & ...        &  91978     &  89965     & 56163      & 54393      & 55587      & 51676      & 44928      & 42574      & 42763      & 53938     \\\\\n",
       "\t594 & 20/04/2013 & 26/04/2013 & 26/04/2013 & 124986     & 62.1       & 43999      & 106        & 2013       & 4          & 4          & ...        &  94192     &  91978     & 59059      & 56163      & 54393      & 55587      & 51676      & 44928      & 42574      & 42763     \\\\\n",
       "\t595 & 27/04/2013 & 03/05/2013 & 03/05/2013 & 126193     & 62.7       & 33970      &  93        & 2013       & 5          & 1          & ...        &  97010     &  94192     & 43999      & 59059      & 56163      & 54393      & 55587      & 51676      & 44928      & 42574     \\\\\n",
       "\t596 & 04/05/2013 & 10/05/2013 & 10/05/2013 & 125992     & 62.6       & 29312      &  98        & 2013       & 5          & 2          & ...        & 101236     &  97010     & 33970      & 43999      & 59059      & 56163      & 54393      & 55587      & 51676      & 44928     \\\\\n",
       "\t597 & 11/05/2013 & 17/05/2013 & 17/05/2013 & 125187     & 62.2       & 27244      &  91        & 2013       & 5          & 3          & ...        & 107476     & 101236     & 29312      & 33970      & 43999      & 59059      & 56163      & 54393      & 55587      & 51676     \\\\\n",
       "\\end{tabular}\n"
      ],
      "text/markdown": [
       "\n",
       "| <!--/--> | Start.Date | End.Date | Date | SE_EAR_Average_MW | SE_EAR. | ENA_Average_MW | ENA._long_term_avg | Year | Month | Wk_of_Month | ... | SE_EAR_Average_MW_lag_7 | SE_EAR_Average_MW_lag_8 | ENA_Average_MW_lag_1 | ENA_Average_MW_lag_2 | ENA_Average_MW_lag_3 | ENA_Average_MW_lag_4 | ENA_Average_MW_lag_5 | ENA_Average_MW_lag_6 | ENA_Average_MW_lag_7 | ENA_Average_MW_lag_8 | \n",
       "|---|---|---|---|---|---|\n",
       "| 592 | 06/04/2013 | 12/04/2013 | 12/04/2013 | 117740     | 58.5       | 56163      | 135        | 2013       | 4          | 2          | ...        |  89965     |  87550     | 54393      | 55587      | 51676      | 44928      | 42574      | 42763      | 53938      | 62422      | \n",
       "| 593 | 13/04/2013 | 19/04/2013 | 19/04/2013 | 122973     | 61.1       | 59059      | 142        | 2013       | 4          | 3          | ...        |  91978     |  89965     | 56163      | 54393      | 55587      | 51676      | 44928      | 42574      | 42763      | 53938      | \n",
       "| 594 | 20/04/2013 | 26/04/2013 | 26/04/2013 | 124986     | 62.1       | 43999      | 106        | 2013       | 4          | 4          | ...        |  94192     |  91978     | 59059      | 56163      | 54393      | 55587      | 51676      | 44928      | 42574      | 42763      | \n",
       "| 595 | 27/04/2013 | 03/05/2013 | 03/05/2013 | 126193     | 62.7       | 33970      |  93        | 2013       | 5          | 1          | ...        |  97010     |  94192     | 43999      | 59059      | 56163      | 54393      | 55587      | 51676      | 44928      | 42574      | \n",
       "| 596 | 04/05/2013 | 10/05/2013 | 10/05/2013 | 125992     | 62.6       | 29312      |  98        | 2013       | 5          | 2          | ...        | 101236     |  97010     | 33970      | 43999      | 59059      | 56163      | 54393      | 55587      | 51676      | 44928      | \n",
       "| 597 | 11/05/2013 | 17/05/2013 | 17/05/2013 | 125187     | 62.2       | 27244      |  91        | 2013       | 5          | 3          | ...        | 107476     | 101236     | 29312      | 33970      | 43999      | 59059      | 56163      | 54393      | 55587      | 51676      | \n",
       "\n",
       "\n"
      ],
      "text/plain": [
       "    Start.Date End.Date   Date       SE_EAR_Average_MW SE_EAR. ENA_Average_MW\n",
       "592 06/04/2013 12/04/2013 12/04/2013 117740            58.5    56163         \n",
       "593 13/04/2013 19/04/2013 19/04/2013 122973            61.1    59059         \n",
       "594 20/04/2013 26/04/2013 26/04/2013 124986            62.1    43999         \n",
       "595 27/04/2013 03/05/2013 03/05/2013 126193            62.7    33970         \n",
       "596 04/05/2013 10/05/2013 10/05/2013 125992            62.6    29312         \n",
       "597 11/05/2013 17/05/2013 17/05/2013 125187            62.2    27244         \n",
       "    ENA._long_term_avg Year Month Wk_of_Month ... SE_EAR_Average_MW_lag_7\n",
       "592 135                2013 4     2           ...  89965                 \n",
       "593 142                2013 4     3           ...  91978                 \n",
       "594 106                2013 4     4           ...  94192                 \n",
       "595  93                2013 5     1           ...  97010                 \n",
       "596  98                2013 5     2           ... 101236                 \n",
       "597  91                2013 5     3           ... 107476                 \n",
       "    SE_EAR_Average_MW_lag_8 ENA_Average_MW_lag_1 ENA_Average_MW_lag_2\n",
       "592  87550                  54393                55587               \n",
       "593  89965                  56163                54393               \n",
       "594  91978                  59059                56163               \n",
       "595  94192                  43999                59059               \n",
       "596  97010                  33970                43999               \n",
       "597 101236                  29312                33970               \n",
       "    ENA_Average_MW_lag_3 ENA_Average_MW_lag_4 ENA_Average_MW_lag_5\n",
       "592 51676                44928                42574               \n",
       "593 55587                51676                44928               \n",
       "594 54393                55587                51676               \n",
       "595 56163                54393                55587               \n",
       "596 59059                56163                54393               \n",
       "597 43999                59059                56163               \n",
       "    ENA_Average_MW_lag_6 ENA_Average_MW_lag_7 ENA_Average_MW_lag_8\n",
       "592 42763                53938                62422               \n",
       "593 42574                42763                53938               \n",
       "594 44928                42574                42763               \n",
       "595 51676                44928                42574               \n",
       "596 55587                51676                44928               \n",
       "597 54393                55587                51676               "
      ]
     },
     "metadata": {},
     "output_type": "display_data"
    }
   ],
   "source": [
    "tail(dst_train)"
   ]
  },
  {
   "cell_type": "code",
   "execution_count": 102,
   "metadata": {
    "collapsed": false
   },
   "outputs": [],
   "source": [
    "dst_test=dst[(floor(0.75*nrow(dst))+1):n_rows,]"
   ]
  },
  {
   "cell_type": "code",
   "execution_count": 103,
   "metadata": {
    "collapsed": false
   },
   "outputs": [
    {
     "data": {
      "text/html": [
       "<table>\n",
       "<thead><tr><th></th><th scope=col>Start.Date</th><th scope=col>End.Date</th><th scope=col>Date</th><th scope=col>SE_EAR_Average_MW</th><th scope=col>SE_EAR.</th><th scope=col>ENA_Average_MW</th><th scope=col>ENA._long_term_avg</th><th scope=col>Year</th><th scope=col>Month</th><th scope=col>Wk_of_Month</th><th scope=col>...</th><th scope=col>SE_EAR_Average_MW_lag_7</th><th scope=col>SE_EAR_Average_MW_lag_8</th><th scope=col>ENA_Average_MW_lag_1</th><th scope=col>ENA_Average_MW_lag_2</th><th scope=col>ENA_Average_MW_lag_3</th><th scope=col>ENA_Average_MW_lag_4</th><th scope=col>ENA_Average_MW_lag_5</th><th scope=col>ENA_Average_MW_lag_6</th><th scope=col>ENA_Average_MW_lag_7</th><th scope=col>ENA_Average_MW_lag_8</th></tr></thead>\n",
       "<tbody>\n",
       "\t<tr><th scope=row>598</th><td>18/05/2013</td><td>24/05/2013</td><td>24/05/2013</td><td>124583    </td><td>61.9      </td><td>25981     </td><td> 87       </td><td>2013      </td><td>5         </td><td>4         </td><td>...       </td><td>112105    </td><td>107476    </td><td>27244     </td><td>29312     </td><td>33970     </td><td>43999     </td><td>59059     </td><td>56163     </td><td>54393     </td><td>55587     </td></tr>\n",
       "\t<tr><th scope=row>599</th><td>25/05/2013</td><td>31/05/2013</td><td>31/05/2013</td><td>126596    </td><td>62.9      </td><td>30506     </td><td>102       </td><td>2013      </td><td>5         </td><td>5         </td><td>...       </td><td>117740    </td><td>112105    </td><td>25981     </td><td>27244     </td><td>29312     </td><td>33970     </td><td>43999     </td><td>59059     </td><td>56163     </td><td>54393     </td></tr>\n",
       "\t<tr><th scope=row>600</th><td>01/06/2013</td><td>07/06/2013</td><td>07/06/2013</td><td>128407    </td><td>63.8      </td><td>41279     </td><td>163       </td><td>2013      </td><td>6         </td><td>1         </td><td>...       </td><td>122973    </td><td>117740    </td><td>30506     </td><td>25981     </td><td>27244     </td><td>29312     </td><td>33970     </td><td>43999     </td><td>59059     </td><td>56163     </td></tr>\n",
       "\t<tr><th scope=row>601</th><td>08/06/2013</td><td>14/06/2013</td><td>14/06/2013</td><td>128608    </td><td>63.9      </td><td>34114     </td><td>135       </td><td>2013      </td><td>6         </td><td>2         </td><td>...       </td><td>124986    </td><td>122973    </td><td>41279     </td><td>30506     </td><td>25981     </td><td>27244     </td><td>29312     </td><td>33970     </td><td>43999     </td><td>59059     </td></tr>\n",
       "\t<tr><th scope=row>602</th><td>15/06/2013</td><td>21/06/2013</td><td>21/06/2013</td><td>127803    </td><td>63.5      </td><td>31093     </td><td>123       </td><td>2013      </td><td>6         </td><td>3         </td><td>...       </td><td>126193    </td><td>124986    </td><td>34114     </td><td>41279     </td><td>30506     </td><td>25981     </td><td>27244     </td><td>29312     </td><td>33970     </td><td>43999     </td></tr>\n",
       "\t<tr><th scope=row>603</th><td>22/06/2013</td><td>28/06/2013</td><td>28/06/2013</td><td>128206    </td><td>63.7      </td><td>42634     </td><td>168       </td><td>2013      </td><td>6         </td><td>4         </td><td>...       </td><td>125992    </td><td>126193    </td><td>31093     </td><td>34114     </td><td>41279     </td><td>30506     </td><td>25981     </td><td>27244     </td><td>29312     </td><td>33970     </td></tr>\n",
       "</tbody>\n",
       "</table>\n"
      ],
      "text/latex": [
       "\\begin{tabular}{r|llllllllllllllllllllllllllllllllllllllllllllllllllllll}\n",
       "  & Start.Date & End.Date & Date & SE\\_EAR\\_Average\\_MW & SE\\_EAR. & ENA\\_Average\\_MW & ENA.\\_long\\_term\\_avg & Year & Month & Wk\\_of\\_Month & ... & SE\\_EAR\\_Average\\_MW\\_lag\\_7 & SE\\_EAR\\_Average\\_MW\\_lag\\_8 & ENA\\_Average\\_MW\\_lag\\_1 & ENA\\_Average\\_MW\\_lag\\_2 & ENA\\_Average\\_MW\\_lag\\_3 & ENA\\_Average\\_MW\\_lag\\_4 & ENA\\_Average\\_MW\\_lag\\_5 & ENA\\_Average\\_MW\\_lag\\_6 & ENA\\_Average\\_MW\\_lag\\_7 & ENA\\_Average\\_MW\\_lag\\_8\\\\\n",
       "\\hline\n",
       "\t598 & 18/05/2013 & 24/05/2013 & 24/05/2013 & 124583     & 61.9       & 25981      &  87        & 2013       & 5          & 4          & ...        & 112105     & 107476     & 27244      & 29312      & 33970      & 43999      & 59059      & 56163      & 54393      & 55587     \\\\\n",
       "\t599 & 25/05/2013 & 31/05/2013 & 31/05/2013 & 126596     & 62.9       & 30506      & 102        & 2013       & 5          & 5          & ...        & 117740     & 112105     & 25981      & 27244      & 29312      & 33970      & 43999      & 59059      & 56163      & 54393     \\\\\n",
       "\t600 & 01/06/2013 & 07/06/2013 & 07/06/2013 & 128407     & 63.8       & 41279      & 163        & 2013       & 6          & 1          & ...        & 122973     & 117740     & 30506      & 25981      & 27244      & 29312      & 33970      & 43999      & 59059      & 56163     \\\\\n",
       "\t601 & 08/06/2013 & 14/06/2013 & 14/06/2013 & 128608     & 63.9       & 34114      & 135        & 2013       & 6          & 2          & ...        & 124986     & 122973     & 41279      & 30506      & 25981      & 27244      & 29312      & 33970      & 43999      & 59059     \\\\\n",
       "\t602 & 15/06/2013 & 21/06/2013 & 21/06/2013 & 127803     & 63.5       & 31093      & 123        & 2013       & 6          & 3          & ...        & 126193     & 124986     & 34114      & 41279      & 30506      & 25981      & 27244      & 29312      & 33970      & 43999     \\\\\n",
       "\t603 & 22/06/2013 & 28/06/2013 & 28/06/2013 & 128206     & 63.7       & 42634      & 168        & 2013       & 6          & 4          & ...        & 125992     & 126193     & 31093      & 34114      & 41279      & 30506      & 25981      & 27244      & 29312      & 33970     \\\\\n",
       "\\end{tabular}\n"
      ],
      "text/markdown": [
       "\n",
       "| <!--/--> | Start.Date | End.Date | Date | SE_EAR_Average_MW | SE_EAR. | ENA_Average_MW | ENA._long_term_avg | Year | Month | Wk_of_Month | ... | SE_EAR_Average_MW_lag_7 | SE_EAR_Average_MW_lag_8 | ENA_Average_MW_lag_1 | ENA_Average_MW_lag_2 | ENA_Average_MW_lag_3 | ENA_Average_MW_lag_4 | ENA_Average_MW_lag_5 | ENA_Average_MW_lag_6 | ENA_Average_MW_lag_7 | ENA_Average_MW_lag_8 | \n",
       "|---|---|---|---|---|---|\n",
       "| 598 | 18/05/2013 | 24/05/2013 | 24/05/2013 | 124583     | 61.9       | 25981      |  87        | 2013       | 5          | 4          | ...        | 112105     | 107476     | 27244      | 29312      | 33970      | 43999      | 59059      | 56163      | 54393      | 55587      | \n",
       "| 599 | 25/05/2013 | 31/05/2013 | 31/05/2013 | 126596     | 62.9       | 30506      | 102        | 2013       | 5          | 5          | ...        | 117740     | 112105     | 25981      | 27244      | 29312      | 33970      | 43999      | 59059      | 56163      | 54393      | \n",
       "| 600 | 01/06/2013 | 07/06/2013 | 07/06/2013 | 128407     | 63.8       | 41279      | 163        | 2013       | 6          | 1          | ...        | 122973     | 117740     | 30506      | 25981      | 27244      | 29312      | 33970      | 43999      | 59059      | 56163      | \n",
       "| 601 | 08/06/2013 | 14/06/2013 | 14/06/2013 | 128608     | 63.9       | 34114      | 135        | 2013       | 6          | 2          | ...        | 124986     | 122973     | 41279      | 30506      | 25981      | 27244      | 29312      | 33970      | 43999      | 59059      | \n",
       "| 602 | 15/06/2013 | 21/06/2013 | 21/06/2013 | 127803     | 63.5       | 31093      | 123        | 2013       | 6          | 3          | ...        | 126193     | 124986     | 34114      | 41279      | 30506      | 25981      | 27244      | 29312      | 33970      | 43999      | \n",
       "| 603 | 22/06/2013 | 28/06/2013 | 28/06/2013 | 128206     | 63.7       | 42634      | 168        | 2013       | 6          | 4          | ...        | 125992     | 126193     | 31093      | 34114      | 41279      | 30506      | 25981      | 27244      | 29312      | 33970      | \n",
       "\n",
       "\n"
      ],
      "text/plain": [
       "    Start.Date End.Date   Date       SE_EAR_Average_MW SE_EAR. ENA_Average_MW\n",
       "598 18/05/2013 24/05/2013 24/05/2013 124583            61.9    25981         \n",
       "599 25/05/2013 31/05/2013 31/05/2013 126596            62.9    30506         \n",
       "600 01/06/2013 07/06/2013 07/06/2013 128407            63.8    41279         \n",
       "601 08/06/2013 14/06/2013 14/06/2013 128608            63.9    34114         \n",
       "602 15/06/2013 21/06/2013 21/06/2013 127803            63.5    31093         \n",
       "603 22/06/2013 28/06/2013 28/06/2013 128206            63.7    42634         \n",
       "    ENA._long_term_avg Year Month Wk_of_Month ... SE_EAR_Average_MW_lag_7\n",
       "598  87                2013 5     4           ... 112105                 \n",
       "599 102                2013 5     5           ... 117740                 \n",
       "600 163                2013 6     1           ... 122973                 \n",
       "601 135                2013 6     2           ... 124986                 \n",
       "602 123                2013 6     3           ... 126193                 \n",
       "603 168                2013 6     4           ... 125992                 \n",
       "    SE_EAR_Average_MW_lag_8 ENA_Average_MW_lag_1 ENA_Average_MW_lag_2\n",
       "598 107476                  27244                29312               \n",
       "599 112105                  25981                27244               \n",
       "600 117740                  30506                25981               \n",
       "601 122973                  41279                30506               \n",
       "602 124986                  34114                41279               \n",
       "603 126193                  31093                34114               \n",
       "    ENA_Average_MW_lag_3 ENA_Average_MW_lag_4 ENA_Average_MW_lag_5\n",
       "598 33970                43999                59059               \n",
       "599 29312                33970                43999               \n",
       "600 27244                29312                33970               \n",
       "601 25981                27244                29312               \n",
       "602 30506                25981                27244               \n",
       "603 41279                30506                25981               \n",
       "    ENA_Average_MW_lag_6 ENA_Average_MW_lag_7 ENA_Average_MW_lag_8\n",
       "598 56163                54393                55587               \n",
       "599 59059                56163                54393               \n",
       "600 43999                59059                56163               \n",
       "601 33970                43999                59059               \n",
       "602 29312                33970                43999               \n",
       "603 27244                29312                33970               "
      ]
     },
     "metadata": {},
     "output_type": "display_data"
    }
   ],
   "source": [
    "head(dst_test)"
   ]
  },
  {
   "cell_type": "code",
   "execution_count": 104,
   "metadata": {
    "collapsed": false
   },
   "outputs": [
    {
     "data": {
      "text/html": [
       "<table>\n",
       "<thead><tr><th></th><th scope=col>Start.Date</th><th scope=col>End.Date</th><th scope=col>Date</th><th scope=col>SE_EAR_Average_MW</th><th scope=col>SE_EAR.</th><th scope=col>ENA_Average_MW</th><th scope=col>ENA._long_term_avg</th><th scope=col>Year</th><th scope=col>Month</th><th scope=col>Wk_of_Month</th><th scope=col>...</th><th scope=col>SE_EAR_Average_MW_lag_7</th><th scope=col>SE_EAR_Average_MW_lag_8</th><th scope=col>ENA_Average_MW_lag_1</th><th scope=col>ENA_Average_MW_lag_2</th><th scope=col>ENA_Average_MW_lag_3</th><th scope=col>ENA_Average_MW_lag_4</th><th scope=col>ENA_Average_MW_lag_5</th><th scope=col>ENA_Average_MW_lag_6</th><th scope=col>ENA_Average_MW_lag_7</th><th scope=col>ENA_Average_MW_lag_8</th></tr></thead>\n",
       "<tbody>\n",
       "\t<tr><th scope=row>791</th><td>21/01/2017</td><td>27/01/2017</td><td>27/01/2017</td><td>75441     </td><td>36.8      </td><td>54252     </td><td>85        </td><td>2017      </td><td>1         </td><td>4         </td><td>...       </td><td>67241     </td><td>68266     </td><td>44885     </td><td>35392     </td><td>32905     </td><td>35617     </td><td>42360     </td><td>41114     </td><td>31611     </td><td>29386     </td></tr>\n",
       "\t<tr><th scope=row>792</th><td>28/01/2017</td><td>03/02/2017</td><td>03/02/2017</td><td>77491     </td><td>37.8      </td><td>55350     </td><td>84        </td><td>2017      </td><td>2         </td><td>1         </td><td>...       </td><td>69086     </td><td>67241     </td><td>54252     </td><td>44885     </td><td>35392     </td><td>32905     </td><td>35617     </td><td>42360     </td><td>41114     </td><td>31611     </td></tr>\n",
       "\t<tr><th scope=row>793</th><td>04/02/2017</td><td>10/02/2017</td><td>10/02/2017</td><td>80976     </td><td>39.5      </td><td>53862     </td><td>78        </td><td>2017      </td><td>2         </td><td>2         </td><td>...       </td><td>70111     </td><td>69086     </td><td>55350     </td><td>54252     </td><td>44885     </td><td>35392     </td><td>32905     </td><td>35617     </td><td>42360     </td><td>41114     </td></tr>\n",
       "\t<tr><th scope=row>794</th><td>11/02/2017</td><td>17/02/2017</td><td>17/02/2017</td><td>82411     </td><td>40.2      </td><td>52749     </td><td>76        </td><td>2017      </td><td>2         </td><td>3         </td><td>...       </td><td>69291     </td><td>70111     </td><td>53862     </td><td>55350     </td><td>54252     </td><td>44885     </td><td>35392     </td><td>32905     </td><td>35617     </td><td>42360     </td></tr>\n",
       "\t<tr><th scope=row>795</th><td>18/02/2017</td><td>24/02/2017</td><td>24/02/2017</td><td>81591     </td><td>39.8      </td><td>43576     </td><td>63        </td><td>2017      </td><td>2         </td><td>4         </td><td>...       </td><td>67241     </td><td>69291     </td><td>52749     </td><td>53862     </td><td>55350     </td><td>54252     </td><td>44885     </td><td>35392     </td><td>32905     </td><td>35617     </td></tr>\n",
       "\t<tr><th scope=row>796</th><td>25/02/2017</td><td>03/03/2017</td><td>03/03/2017</td><td>   NA     </td><td>  NA      </td><td>   NA     </td><td>NA        </td><td>2017      </td><td>3         </td><td>1         </td><td>...       </td><td>67241     </td><td>67241     </td><td>43576     </td><td>52749     </td><td>53862     </td><td>55350     </td><td>54252     </td><td>44885     </td><td>35392     </td><td>32905     </td></tr>\n",
       "</tbody>\n",
       "</table>\n"
      ],
      "text/latex": [
       "\\begin{tabular}{r|llllllllllllllllllllllllllllllllllllllllllllllllllllll}\n",
       "  & Start.Date & End.Date & Date & SE\\_EAR\\_Average\\_MW & SE\\_EAR. & ENA\\_Average\\_MW & ENA.\\_long\\_term\\_avg & Year & Month & Wk\\_of\\_Month & ... & SE\\_EAR\\_Average\\_MW\\_lag\\_7 & SE\\_EAR\\_Average\\_MW\\_lag\\_8 & ENA\\_Average\\_MW\\_lag\\_1 & ENA\\_Average\\_MW\\_lag\\_2 & ENA\\_Average\\_MW\\_lag\\_3 & ENA\\_Average\\_MW\\_lag\\_4 & ENA\\_Average\\_MW\\_lag\\_5 & ENA\\_Average\\_MW\\_lag\\_6 & ENA\\_Average\\_MW\\_lag\\_7 & ENA\\_Average\\_MW\\_lag\\_8\\\\\n",
       "\\hline\n",
       "\t791 & 21/01/2017 & 27/01/2017 & 27/01/2017 & 75441      & 36.8       & 54252      & 85         & 2017       & 1          & 4          & ...        & 67241      & 68266      & 44885      & 35392      & 32905      & 35617      & 42360      & 41114      & 31611      & 29386     \\\\\n",
       "\t792 & 28/01/2017 & 03/02/2017 & 03/02/2017 & 77491      & 37.8       & 55350      & 84         & 2017       & 2          & 1          & ...        & 69086      & 67241      & 54252      & 44885      & 35392      & 32905      & 35617      & 42360      & 41114      & 31611     \\\\\n",
       "\t793 & 04/02/2017 & 10/02/2017 & 10/02/2017 & 80976      & 39.5       & 53862      & 78         & 2017       & 2          & 2          & ...        & 70111      & 69086      & 55350      & 54252      & 44885      & 35392      & 32905      & 35617      & 42360      & 41114     \\\\\n",
       "\t794 & 11/02/2017 & 17/02/2017 & 17/02/2017 & 82411      & 40.2       & 52749      & 76         & 2017       & 2          & 3          & ...        & 69291      & 70111      & 53862      & 55350      & 54252      & 44885      & 35392      & 32905      & 35617      & 42360     \\\\\n",
       "\t795 & 18/02/2017 & 24/02/2017 & 24/02/2017 & 81591      & 39.8       & 43576      & 63         & 2017       & 2          & 4          & ...        & 67241      & 69291      & 52749      & 53862      & 55350      & 54252      & 44885      & 35392      & 32905      & 35617     \\\\\n",
       "\t796 & 25/02/2017 & 03/03/2017 & 03/03/2017 &    NA      &   NA       &    NA      & NA         & 2017       & 3          & 1          & ...        & 67241      & 67241      & 43576      & 52749      & 53862      & 55350      & 54252      & 44885      & 35392      & 32905     \\\\\n",
       "\\end{tabular}\n"
      ],
      "text/markdown": [
       "\n",
       "| <!--/--> | Start.Date | End.Date | Date | SE_EAR_Average_MW | SE_EAR. | ENA_Average_MW | ENA._long_term_avg | Year | Month | Wk_of_Month | ... | SE_EAR_Average_MW_lag_7 | SE_EAR_Average_MW_lag_8 | ENA_Average_MW_lag_1 | ENA_Average_MW_lag_2 | ENA_Average_MW_lag_3 | ENA_Average_MW_lag_4 | ENA_Average_MW_lag_5 | ENA_Average_MW_lag_6 | ENA_Average_MW_lag_7 | ENA_Average_MW_lag_8 | \n",
       "|---|---|---|---|---|---|\n",
       "| 791 | 21/01/2017 | 27/01/2017 | 27/01/2017 | 75441      | 36.8       | 54252      | 85         | 2017       | 1          | 4          | ...        | 67241      | 68266      | 44885      | 35392      | 32905      | 35617      | 42360      | 41114      | 31611      | 29386      | \n",
       "| 792 | 28/01/2017 | 03/02/2017 | 03/02/2017 | 77491      | 37.8       | 55350      | 84         | 2017       | 2          | 1          | ...        | 69086      | 67241      | 54252      | 44885      | 35392      | 32905      | 35617      | 42360      | 41114      | 31611      | \n",
       "| 793 | 04/02/2017 | 10/02/2017 | 10/02/2017 | 80976      | 39.5       | 53862      | 78         | 2017       | 2          | 2          | ...        | 70111      | 69086      | 55350      | 54252      | 44885      | 35392      | 32905      | 35617      | 42360      | 41114      | \n",
       "| 794 | 11/02/2017 | 17/02/2017 | 17/02/2017 | 82411      | 40.2       | 52749      | 76         | 2017       | 2          | 3          | ...        | 69291      | 70111      | 53862      | 55350      | 54252      | 44885      | 35392      | 32905      | 35617      | 42360      | \n",
       "| 795 | 18/02/2017 | 24/02/2017 | 24/02/2017 | 81591      | 39.8       | 43576      | 63         | 2017       | 2          | 4          | ...        | 67241      | 69291      | 52749      | 53862      | 55350      | 54252      | 44885      | 35392      | 32905      | 35617      | \n",
       "| 796 | 25/02/2017 | 03/03/2017 | 03/03/2017 |    NA      |   NA       |    NA      | NA         | 2017       | 3          | 1          | ...        | 67241      | 67241      | 43576      | 52749      | 53862      | 55350      | 54252      | 44885      | 35392      | 32905      | \n",
       "\n",
       "\n"
      ],
      "text/plain": [
       "    Start.Date End.Date   Date       SE_EAR_Average_MW SE_EAR. ENA_Average_MW\n",
       "791 21/01/2017 27/01/2017 27/01/2017 75441             36.8    54252         \n",
       "792 28/01/2017 03/02/2017 03/02/2017 77491             37.8    55350         \n",
       "793 04/02/2017 10/02/2017 10/02/2017 80976             39.5    53862         \n",
       "794 11/02/2017 17/02/2017 17/02/2017 82411             40.2    52749         \n",
       "795 18/02/2017 24/02/2017 24/02/2017 81591             39.8    43576         \n",
       "796 25/02/2017 03/03/2017 03/03/2017    NA               NA       NA         \n",
       "    ENA._long_term_avg Year Month Wk_of_Month ... SE_EAR_Average_MW_lag_7\n",
       "791 85                 2017 1     4           ... 67241                  \n",
       "792 84                 2017 2     1           ... 69086                  \n",
       "793 78                 2017 2     2           ... 70111                  \n",
       "794 76                 2017 2     3           ... 69291                  \n",
       "795 63                 2017 2     4           ... 67241                  \n",
       "796 NA                 2017 3     1           ... 67241                  \n",
       "    SE_EAR_Average_MW_lag_8 ENA_Average_MW_lag_1 ENA_Average_MW_lag_2\n",
       "791 68266                   44885                35392               \n",
       "792 67241                   54252                44885               \n",
       "793 69086                   55350                54252               \n",
       "794 70111                   53862                55350               \n",
       "795 69291                   52749                53862               \n",
       "796 67241                   43576                52749               \n",
       "    ENA_Average_MW_lag_3 ENA_Average_MW_lag_4 ENA_Average_MW_lag_5\n",
       "791 32905                35617                42360               \n",
       "792 35392                32905                35617               \n",
       "793 44885                35392                32905               \n",
       "794 54252                44885                35392               \n",
       "795 55350                54252                44885               \n",
       "796 53862                55350                54252               \n",
       "    ENA_Average_MW_lag_6 ENA_Average_MW_lag_7 ENA_Average_MW_lag_8\n",
       "791 41114                31611                29386               \n",
       "792 42360                41114                31611               \n",
       "793 35617                42360                41114               \n",
       "794 32905                35617                42360               \n",
       "795 35392                32905                35617               \n",
       "796 44885                35392                32905               "
      ]
     },
     "metadata": {},
     "output_type": "display_data"
    }
   ],
   "source": [
    "tail(dst_test)"
   ]
  },
  {
   "cell_type": "code",
   "execution_count": 106,
   "metadata": {
    "collapsed": false
   },
   "outputs": [
    {
     "name": "stdout",
     "output_type": "stream",
     "text": [
      "'data.frame':\t597 obs. of  54 variables:\n",
      " $ Start.Date             : Factor w/ 796 levels \"01/01/2002\",\"01/01/2005\",..: 1 108 290 472 654 33 215 397 579 6 ...\n",
      " $ End.Date               : Factor w/ 796 levels \"01/01/2010\",\"01/01/2016\",..: 79 261 443 625 3 186 368 550 707 6 ...\n",
      " $ Date                   : Factor w/ 795 levels \"01/01/2010\",\"01/01/2016\",..: 79 261 443 625 3 186 368 550 6 6 ...\n",
      " $ SE_EAR_Average_MW      : int  55636 62083 69841 75077 78741 83430 91800 99483 102088 105794 ...\n",
      " $ SE_EAR.                : num  34.5 37.1 41.7 44.8 47 ...\n",
      " $ ENA_Average_MW         : int  49893 40548 54053 84439 23894 64660 59647 54279 63196 45270 ...\n",
      " $ ENA._long_term_avg     : num  126 76.5 102 159 44.7 ...\n",
      " $ Year                   : Factor w/ 16 levels \"2002\",\"2003\",..: 1 1 1 1 1 1 1 1 1 1 ...\n",
      " $ Month                  : Factor w/ 12 levels \"1\",\"2\",\"3\",\"4\",..: 1 1 1 1 2 2 2 2 3 3 ...\n",
      " $ Wk_of_Month            : Factor w/ 5 levels \"1\",\"2\",\"3\",\"4\",..: 1 2 3 4 1 2 3 4 1 1 ...\n",
      " $ Price_Heavy            : num  336 336 336 336 135 ...\n",
      " $ Price_Medium           : num  336 336 336 336 135 ...\n",
      " $ Price_Light            : num  336 336 336 336 135 ...\n",
      " $ Max_Price              : num  336 336 336 336 336 336 336 336 336 336 ...\n",
      " $ Price_Heavy_lag_1      : num  0 336 336 336 336 ...\n",
      " $ Price_Heavy_lag_2      : num  0 0 336 336 336 ...\n",
      " $ Price_Heavy_lag_3      : num  0 0 0 336 336 ...\n",
      " $ Price_Heavy_lag_4      : num  0 0 0 0 336 ...\n",
      " $ Price_Heavy_lag_5      : num  0 0 0 0 0 ...\n",
      " $ Price_Heavy_lag_6      : num  0 0 0 0 0 0 336 336 336 336 ...\n",
      " $ Price_Heavy_lag_7      : num  0 0 0 0 0 0 0 336 336 336 ...\n",
      " $ Price_Heavy_lag_8      : num  0 0 0 0 0 0 0 0 336 336 ...\n",
      " $ Price_Medium_lag_1     : num  0 336 336 336 336 ...\n",
      " $ Price_Medium_lag_2     : num  0 0 336 336 336 ...\n",
      " $ Price_Medium_lag_3     : num  0 0 0 336 336 ...\n",
      " $ Price_Medium_lag_4     : num  0 0 0 0 336 ...\n",
      " $ Price_Medium_lag_5     : num  0 0 0 0 0 ...\n",
      " $ Price_Medium_lag_6     : num  0 0 0 0 0 0 336 336 336 336 ...\n",
      " $ Price_Medium_lag_7     : num  0 0 0 0 0 0 0 336 336 336 ...\n",
      " $ Price_Medium_lag_8     : num  0 0 0 0 0 0 0 0 336 336 ...\n",
      " $ Price_Light_lag_1      : num  0 336 336 336 336 ...\n",
      " $ Price_Light_lag_2      : num  0 0 336 336 336 ...\n",
      " $ Price_Light_lag_3      : num  0 0 0 336 336 ...\n",
      " $ Price_Light_lag_4      : num  0 0 0 0 336 ...\n",
      " $ Price_Light_lag_5      : num  0 0 0 0 0 ...\n",
      " $ Price_Light_lag_6      : num  0 0 0 0 0 0 336 336 336 336 ...\n",
      " $ Price_Light_lag_7      : num  0 0 0 0 0 0 0 336 336 336 ...\n",
      " $ Price_Light_lag_8      : num  0 0 0 0 0 0 0 0 336 336 ...\n",
      " $ SE_EAR_Average_MW_lag_1: num  0 55636 62083 69841 75077 ...\n",
      " $ SE_EAR_Average_MW_lag_2: num  0 0 55636 62083 69841 ...\n",
      " $ SE_EAR_Average_MW_lag_3: num  0 0 0 55636 62083 ...\n",
      " $ SE_EAR_Average_MW_lag_4: num  0 0 0 0 55636 ...\n",
      " $ SE_EAR_Average_MW_lag_5: num  0 0 0 0 0 ...\n",
      " $ SE_EAR_Average_MW_lag_6: num  0 0 0 0 0 ...\n",
      " $ SE_EAR_Average_MW_lag_7: num  0 0 0 0 0 ...\n",
      " $ SE_EAR_Average_MW_lag_8: num  0 0 0 0 0 ...\n",
      " $ ENA_Average_MW_lag_1   : num  0 49893 40548 54053 84439 ...\n",
      " $ ENA_Average_MW_lag_2   : num  0 0 49893 40548 54053 ...\n",
      " $ ENA_Average_MW_lag_3   : num  0 0 0 49893 40548 ...\n",
      " $ ENA_Average_MW_lag_4   : num  0 0 0 0 49893 ...\n",
      " $ ENA_Average_MW_lag_5   : num  0 0 0 0 0 ...\n",
      " $ ENA_Average_MW_lag_6   : num  0 0 0 0 0 ...\n",
      " $ ENA_Average_MW_lag_7   : num  0 0 0 0 0 ...\n",
      " $ ENA_Average_MW_lag_8   : num  0 0 0 0 0 ...\n"
     ]
    }
   ],
   "source": [
    "str(dst_train)"
   ]
  },
  {
   "cell_type": "code",
   "execution_count": 143,
   "metadata": {
    "collapsed": false
   },
   "outputs": [
    {
     "data": {
      "text/html": [
       "<table>\n",
       "<thead><tr><th scope=col>Year</th><th scope=col>Month</th><th scope=col>Wk_of_Month</th><th scope=col>Price_Medium</th><th scope=col>Price_Medium_lag_1</th><th scope=col>Price_Medium_lag_2</th><th scope=col>Price_Medium_lag_3</th><th scope=col>Price_Medium_lag_4</th><th scope=col>Price_Medium_lag_5</th><th scope=col>Price_Medium_lag_6</th><th scope=col>...</th><th scope=col>SE_EAR_Average_MW_lag_7</th><th scope=col>SE_EAR_Average_MW_lag_8</th><th scope=col>ENA_Average_MW_lag_1</th><th scope=col>ENA_Average_MW_lag_2</th><th scope=col>ENA_Average_MW_lag_3</th><th scope=col>ENA_Average_MW_lag_4</th><th scope=col>ENA_Average_MW_lag_5</th><th scope=col>ENA_Average_MW_lag_6</th><th scope=col>ENA_Average_MW_lag_7</th><th scope=col>ENA_Average_MW_lag_8</th></tr></thead>\n",
       "<tbody>\n",
       "\t<tr><td>2002  </td><td>1     </td><td>1     </td><td>336.00</td><td>  0.00</td><td>  0   </td><td>  0   </td><td>  0   </td><td>  0   </td><td>0     </td><td>...   </td><td>0     </td><td>0     </td><td>    0 </td><td>    0 </td><td>    0 </td><td>    0 </td><td>    0 </td><td>0     </td><td>0     </td><td>0     </td></tr>\n",
       "\t<tr><td>2002  </td><td>1     </td><td>2     </td><td>336.00</td><td>336.00</td><td>  0   </td><td>  0   </td><td>  0   </td><td>  0   </td><td>0     </td><td>...   </td><td>0     </td><td>0     </td><td>49893 </td><td>    0 </td><td>    0 </td><td>    0 </td><td>    0 </td><td>0     </td><td>0     </td><td>0     </td></tr>\n",
       "\t<tr><td>2002  </td><td>1     </td><td>3     </td><td>336.00</td><td>336.00</td><td>336   </td><td>  0   </td><td>  0   </td><td>  0   </td><td>0     </td><td>...   </td><td>0     </td><td>0     </td><td>40548 </td><td>49893 </td><td>    0 </td><td>    0 </td><td>    0 </td><td>0     </td><td>0     </td><td>0     </td></tr>\n",
       "\t<tr><td>2002  </td><td>1     </td><td>4     </td><td>336.00</td><td>336.00</td><td>336   </td><td>336   </td><td>  0   </td><td>  0   </td><td>0     </td><td>...   </td><td>0     </td><td>0     </td><td>54053 </td><td>40548 </td><td>49893 </td><td>    0 </td><td>    0 </td><td>0     </td><td>0     </td><td>0     </td></tr>\n",
       "\t<tr><td>2002  </td><td>2     </td><td>1     </td><td>134.76</td><td>336.00</td><td>336   </td><td>336   </td><td>336   </td><td>  0   </td><td>0     </td><td>...   </td><td>0     </td><td>0     </td><td>84439 </td><td>54053 </td><td>40548 </td><td>49893 </td><td>    0 </td><td>0     </td><td>0     </td><td>0     </td></tr>\n",
       "\t<tr><td>2002  </td><td>2     </td><td>2     </td><td>134.76</td><td>134.76</td><td>336   </td><td>336   </td><td>336   </td><td>336   </td><td>0     </td><td>...   </td><td>0     </td><td>0     </td><td>23894 </td><td>84439 </td><td>54053 </td><td>40548 </td><td>49893 </td><td>0     </td><td>0     </td><td>0     </td></tr>\n",
       "</tbody>\n",
       "</table>\n"
      ],
      "text/latex": [
       "\\begin{tabular}{r|lllllllllllllllllllllllllll}\n",
       " Year & Month & Wk\\_of\\_Month & Price\\_Medium & Price\\_Medium\\_lag\\_1 & Price\\_Medium\\_lag\\_2 & Price\\_Medium\\_lag\\_3 & Price\\_Medium\\_lag\\_4 & Price\\_Medium\\_lag\\_5 & Price\\_Medium\\_lag\\_6 & ... & SE\\_EAR\\_Average\\_MW\\_lag\\_7 & SE\\_EAR\\_Average\\_MW\\_lag\\_8 & ENA\\_Average\\_MW\\_lag\\_1 & ENA\\_Average\\_MW\\_lag\\_2 & ENA\\_Average\\_MW\\_lag\\_3 & ENA\\_Average\\_MW\\_lag\\_4 & ENA\\_Average\\_MW\\_lag\\_5 & ENA\\_Average\\_MW\\_lag\\_6 & ENA\\_Average\\_MW\\_lag\\_7 & ENA\\_Average\\_MW\\_lag\\_8\\\\\n",
       "\\hline\n",
       "\t 2002   & 1      & 1      & 336.00 &   0.00 &   0    &   0    &   0    &   0    & 0      & ...    & 0      & 0      &     0  &     0  &     0  &     0  &     0  & 0      & 0      & 0     \\\\\n",
       "\t 2002   & 1      & 2      & 336.00 & 336.00 &   0    &   0    &   0    &   0    & 0      & ...    & 0      & 0      & 49893  &     0  &     0  &     0  &     0  & 0      & 0      & 0     \\\\\n",
       "\t 2002   & 1      & 3      & 336.00 & 336.00 & 336    &   0    &   0    &   0    & 0      & ...    & 0      & 0      & 40548  & 49893  &     0  &     0  &     0  & 0      & 0      & 0     \\\\\n",
       "\t 2002   & 1      & 4      & 336.00 & 336.00 & 336    & 336    &   0    &   0    & 0      & ...    & 0      & 0      & 54053  & 40548  & 49893  &     0  &     0  & 0      & 0      & 0     \\\\\n",
       "\t 2002   & 2      & 1      & 134.76 & 336.00 & 336    & 336    & 336    &   0    & 0      & ...    & 0      & 0      & 84439  & 54053  & 40548  & 49893  &     0  & 0      & 0      & 0     \\\\\n",
       "\t 2002   & 2      & 2      & 134.76 & 134.76 & 336    & 336    & 336    & 336    & 0      & ...    & 0      & 0      & 23894  & 84439  & 54053  & 40548  & 49893  & 0      & 0      & 0     \\\\\n",
       "\\end{tabular}\n"
      ],
      "text/markdown": [
       "\n",
       "Year | Month | Wk_of_Month | Price_Medium | Price_Medium_lag_1 | Price_Medium_lag_2 | Price_Medium_lag_3 | Price_Medium_lag_4 | Price_Medium_lag_5 | Price_Medium_lag_6 | ... | SE_EAR_Average_MW_lag_7 | SE_EAR_Average_MW_lag_8 | ENA_Average_MW_lag_1 | ENA_Average_MW_lag_2 | ENA_Average_MW_lag_3 | ENA_Average_MW_lag_4 | ENA_Average_MW_lag_5 | ENA_Average_MW_lag_6 | ENA_Average_MW_lag_7 | ENA_Average_MW_lag_8 | \n",
       "|---|---|---|---|---|---|\n",
       "| 2002   | 1      | 1      | 336.00 |   0.00 |   0    |   0    |   0    |   0    | 0      | ...    | 0      | 0      |     0  |     0  |     0  |     0  |     0  | 0      | 0      | 0      | \n",
       "| 2002   | 1      | 2      | 336.00 | 336.00 |   0    |   0    |   0    |   0    | 0      | ...    | 0      | 0      | 49893  |     0  |     0  |     0  |     0  | 0      | 0      | 0      | \n",
       "| 2002   | 1      | 3      | 336.00 | 336.00 | 336    |   0    |   0    |   0    | 0      | ...    | 0      | 0      | 40548  | 49893  |     0  |     0  |     0  | 0      | 0      | 0      | \n",
       "| 2002   | 1      | 4      | 336.00 | 336.00 | 336    | 336    |   0    |   0    | 0      | ...    | 0      | 0      | 54053  | 40548  | 49893  |     0  |     0  | 0      | 0      | 0      | \n",
       "| 2002   | 2      | 1      | 134.76 | 336.00 | 336    | 336    | 336    |   0    | 0      | ...    | 0      | 0      | 84439  | 54053  | 40548  | 49893  |     0  | 0      | 0      | 0      | \n",
       "| 2002   | 2      | 2      | 134.76 | 134.76 | 336    | 336    | 336    | 336    | 0      | ...    | 0      | 0      | 23894  | 84439  | 54053  | 40548  | 49893  | 0      | 0      | 0      | \n",
       "\n",
       "\n"
      ],
      "text/plain": [
       "  Year Month Wk_of_Month Price_Medium Price_Medium_lag_1 Price_Medium_lag_2\n",
       "1 2002 1     1           336.00         0.00               0               \n",
       "2 2002 1     2           336.00       336.00               0               \n",
       "3 2002 1     3           336.00       336.00             336               \n",
       "4 2002 1     4           336.00       336.00             336               \n",
       "5 2002 2     1           134.76       336.00             336               \n",
       "6 2002 2     2           134.76       134.76             336               \n",
       "  Price_Medium_lag_3 Price_Medium_lag_4 Price_Medium_lag_5 Price_Medium_lag_6\n",
       "1   0                  0                  0                0                 \n",
       "2   0                  0                  0                0                 \n",
       "3   0                  0                  0                0                 \n",
       "4 336                  0                  0                0                 \n",
       "5 336                336                  0                0                 \n",
       "6 336                336                336                0                 \n",
       "  ... SE_EAR_Average_MW_lag_7 SE_EAR_Average_MW_lag_8 ENA_Average_MW_lag_1\n",
       "1 ... 0                       0                           0               \n",
       "2 ... 0                       0                       49893               \n",
       "3 ... 0                       0                       40548               \n",
       "4 ... 0                       0                       54053               \n",
       "5 ... 0                       0                       84439               \n",
       "6 ... 0                       0                       23894               \n",
       "  ENA_Average_MW_lag_2 ENA_Average_MW_lag_3 ENA_Average_MW_lag_4\n",
       "1     0                    0                    0               \n",
       "2     0                    0                    0               \n",
       "3 49893                    0                    0               \n",
       "4 40548                49893                    0               \n",
       "5 54053                40548                49893               \n",
       "6 84439                54053                40548               \n",
       "  ENA_Average_MW_lag_5 ENA_Average_MW_lag_6 ENA_Average_MW_lag_7\n",
       "1     0                0                    0                   \n",
       "2     0                0                    0                   \n",
       "3     0                0                    0                   \n",
       "4     0                0                    0                   \n",
       "5     0                0                    0                   \n",
       "6 49893                0                    0                   \n",
       "  ENA_Average_MW_lag_8\n",
       "1 0                   \n",
       "2 0                   \n",
       "3 0                   \n",
       "4 0                   \n",
       "5 0                   \n",
       "6 0                   "
      ]
     },
     "metadata": {},
     "output_type": "display_data"
    }
   ],
   "source": [
    "cols_to_ignore <- -c(1, 2, 3, 4, 5, 6, 7, 11, 13, 14,15:22,30:38)\n",
    "head(dst_train[,cols_to_ignore])  # This dataframe contains ONLY the columns we want to INCLUDE in the model"
   ]
  },
  {
   "cell_type": "markdown",
   "metadata": {},
   "source": [
    "### Create smaller dataframes with only variables to be included in GBM"
   ]
  },
  {
   "cell_type": "code",
   "execution_count": 145,
   "metadata": {
    "collapsed": false
   },
   "outputs": [],
   "source": [
    "dst_train_small = dst_train[,cols_to_ignore]"
   ]
  },
  {
   "cell_type": "code",
   "execution_count": 146,
   "metadata": {
    "collapsed": true
   },
   "outputs": [],
   "source": [
    "dst_test_small = dst_test[, cols_to_ignore]"
   ]
  },
  {
   "cell_type": "code",
   "execution_count": 147,
   "metadata": {
    "collapsed": false
   },
   "outputs": [
    {
     "name": "stdout",
     "output_type": "stream",
     "text": [
      "'data.frame':\t597 obs. of  27 variables:\n",
      " $ Year                   : Factor w/ 16 levels \"2002\",\"2003\",..: 1 1 1 1 1 1 1 1 1 1 ...\n",
      " $ Month                  : Factor w/ 12 levels \"1\",\"2\",\"3\",\"4\",..: 1 1 1 1 2 2 2 2 3 3 ...\n",
      " $ Wk_of_Month            : Factor w/ 5 levels \"1\",\"2\",\"3\",\"4\",..: 1 2 3 4 1 2 3 4 1 1 ...\n",
      " $ Price_Medium           : num  336 336 336 336 135 ...\n",
      " $ Price_Medium_lag_1     : num  0 336 336 336 336 ...\n",
      " $ Price_Medium_lag_2     : num  0 0 336 336 336 ...\n",
      " $ Price_Medium_lag_3     : num  0 0 0 336 336 ...\n",
      " $ Price_Medium_lag_4     : num  0 0 0 0 336 ...\n",
      " $ Price_Medium_lag_5     : num  0 0 0 0 0 ...\n",
      " $ Price_Medium_lag_6     : num  0 0 0 0 0 0 336 336 336 336 ...\n",
      " $ Price_Medium_lag_7     : num  0 0 0 0 0 0 0 336 336 336 ...\n",
      " $ SE_EAR_Average_MW_lag_1: num  0 55636 62083 69841 75077 ...\n",
      " $ SE_EAR_Average_MW_lag_2: num  0 0 55636 62083 69841 ...\n",
      " $ SE_EAR_Average_MW_lag_3: num  0 0 0 55636 62083 ...\n",
      " $ SE_EAR_Average_MW_lag_4: num  0 0 0 0 55636 ...\n",
      " $ SE_EAR_Average_MW_lag_5: num  0 0 0 0 0 ...\n",
      " $ SE_EAR_Average_MW_lag_6: num  0 0 0 0 0 ...\n",
      " $ SE_EAR_Average_MW_lag_7: num  0 0 0 0 0 ...\n",
      " $ SE_EAR_Average_MW_lag_8: num  0 0 0 0 0 ...\n",
      " $ ENA_Average_MW_lag_1   : num  0 49893 40548 54053 84439 ...\n",
      " $ ENA_Average_MW_lag_2   : num  0 0 49893 40548 54053 ...\n",
      " $ ENA_Average_MW_lag_3   : num  0 0 0 49893 40548 ...\n",
      " $ ENA_Average_MW_lag_4   : num  0 0 0 0 49893 ...\n",
      " $ ENA_Average_MW_lag_5   : num  0 0 0 0 0 ...\n",
      " $ ENA_Average_MW_lag_6   : num  0 0 0 0 0 ...\n",
      " $ ENA_Average_MW_lag_7   : num  0 0 0 0 0 ...\n",
      " $ ENA_Average_MW_lag_8   : num  0 0 0 0 0 ...\n"
     ]
    }
   ],
   "source": [
    "str(dst_train_small)"
   ]
  },
  {
   "cell_type": "code",
   "execution_count": 149,
   "metadata": {
    "collapsed": false
   },
   "outputs": [
    {
     "name": "stdout",
     "output_type": "stream",
     "text": [
      "'data.frame':\t199 obs. of  27 variables:\n",
      " $ Year                   : Factor w/ 16 levels \"2002\",\"2003\",..: 12 12 12 12 12 12 12 12 12 12 ...\n",
      " $ Month                  : Factor w/ 12 levels \"1\",\"2\",\"3\",\"4\",..: 5 5 6 6 6 6 7 7 7 7 ...\n",
      " $ Wk_of_Month            : Factor w/ 5 levels \"1\",\"2\",\"3\",\"4\",..: 4 5 1 2 3 4 1 2 3 4 ...\n",
      " $ Price_Medium           : num  357 357 325 181 194 ...\n",
      " $ Price_Medium_lag_1     : num  357 357 357 325 181 ...\n",
      " $ Price_Medium_lag_2     : num  342 357 357 357 325 ...\n",
      " $ Price_Medium_lag_3     : num  279 342 357 357 357 ...\n",
      " $ Price_Medium_lag_4     : num  129 279 342 357 357 ...\n",
      " $ Price_Medium_lag_5     : num  151 129 279 342 357 ...\n",
      " $ Price_Medium_lag_6     : num  191 151 129 279 342 ...\n",
      " $ Price_Medium_lag_7     : num  300 191 151 129 279 ...\n",
      " $ SE_EAR_Average_MW_lag_1: num  125187 124583 126596 128407 128608 ...\n",
      " $ SE_EAR_Average_MW_lag_2: num  125992 125187 124583 126596 128407 ...\n",
      " $ SE_EAR_Average_MW_lag_3: num  126193 125992 125187 124583 126596 ...\n",
      " $ SE_EAR_Average_MW_lag_4: num  124986 126193 125992 125187 124583 ...\n",
      " $ SE_EAR_Average_MW_lag_5: num  122973 124986 126193 125992 125187 ...\n",
      " $ SE_EAR_Average_MW_lag_6: num  117740 122973 124986 126193 125992 ...\n",
      " $ SE_EAR_Average_MW_lag_7: num  112105 117740 122973 124986 126193 ...\n",
      " $ SE_EAR_Average_MW_lag_8: num  107476 112105 117740 122973 124986 ...\n",
      " $ ENA_Average_MW_lag_1   : num  27244 25981 30506 41279 34114 ...\n",
      " $ ENA_Average_MW_lag_2   : num  29312 27244 25981 30506 41279 ...\n",
      " $ ENA_Average_MW_lag_3   : num  33970 29312 27244 25981 30506 ...\n",
      " $ ENA_Average_MW_lag_4   : num  43999 33970 29312 27244 25981 ...\n",
      " $ ENA_Average_MW_lag_5   : num  59059 43999 33970 29312 27244 ...\n",
      " $ ENA_Average_MW_lag_6   : num  56163 59059 43999 33970 29312 ...\n",
      " $ ENA_Average_MW_lag_7   : num  54393 56163 59059 43999 33970 ...\n",
      " $ ENA_Average_MW_lag_8   : num  55587 54393 56163 59059 43999 ...\n"
     ]
    }
   ],
   "source": [
    "str(dst_test_small)"
   ]
  },
  {
   "cell_type": "markdown",
   "metadata": {
    "collapsed": true
   },
   "source": [
    "### Forecasting using GBM"
   ]
  },
  {
   "cell_type": "code",
   "execution_count": 150,
   "metadata": {
    "collapsed": true
   },
   "outputs": [],
   "source": [
    "model_struc = as.formula(\"dst_train_small$Price_Medium ~ .\")"
   ]
  },
  {
   "cell_type": "code",
   "execution_count": 51,
   "metadata": {
    "collapsed": false
   },
   "outputs": [],
   "source": [
    "### EXplicity declare the model formula\n",
    "\n",
    "\n",
    "### model_struc = as.formula(\"dst_train$Demand ~ .  - dst_train$Month - dst_train$Day - dst_train$July - dst_train$winter - dst_train$fall - dst_train$summer - dst_train$spring\")\n",
    "\n",
    "# model_struc = as.formula(\"dst_train$Demand ~ dst_train$Year +  dst_train$Hour +  dst_train$Day_of_week +  dst_train$DaylightSavingsTime  +  dst_train$Temp +    dst_train$Temp_lag_1     +     dst_train$Temp_lag_2    +      dst_train$Temp_lag_3    +      dst_train$Temp_lag_4     +     dst_train$Temp_lag_5      +    dst_train$Temp_lag_6 +   dst_train$Temp_lag_12 +  dst_train$Temp_lag_24  +  dst_train$Temp_lag_25  +  dst_train$Temp_lag_168 +  dst_train$Temp_lag_169 +  dst_train$January +  dst_train$February +  dst_train$March +  dst_train$April +  dst_train$May +  dst_train$June +  dst_train$July +  dst_train$August +  dst_train$September +  dst_train$October +  dst_train$November +  dst_train$December +  dst_train$Demand_lag_1       +  dst_train$Demand_lag_2       +  dst_train$Demand_lag_3       +  dst_train$Demand_lag_4       +  dst_train$Demand_lag_5       +  dst_train$Demand_lag_6       +  dst_train$Demand_lag_7       +  dst_train$Demand_lag_8       +  dst_train$Demand_lag_9       +  dst_train$Demand_lag_10      +  dst_train$Demand_lag_11      +  dst_train$Demand_lag_12      +  dst_train$Demand_lag_13      +  dst_train$Demand_lag_14      +  dst_train$Demand_lag_15      +  dst_train$Demand_lag_16      +  dst_train$Demand_lag_17      +  dst_train$Demand_lag_18      +  dst_train$Demand_lag_19      +  dst_train$Demand_lag_20      +  dst_train$Demand_lag_21      +  dst_train$Demand_lag_22      +  dst_train$Demand_lag_23      +  dst_train$Demand_lag_24\")  \n",
    "# model_struc = as.formula(paste0(\"dst_train$Demand ~ \", paste0(\"dst_train$\",paste(colnames(dst_train[,cols_to_ignore])), collapse = \" + \")))"
   ]
  },
  {
   "cell_type": "code",
   "execution_count": 122,
   "metadata": {
    "collapsed": true
   },
   "outputs": [],
   "source": [
    "# model_struc = as.formula(\"dst$Price_Medium ~ dst$Year + dst$Month + dst$Wk_of_Month + dst$Price_Medium_lag_1 + \n",
    "#+dst$Price_Medium_lag_2 + dst$Price_Medium_lag_3 + dst$Price_Medium_lag_4 + dst$Price_Medium_lag_5 +\n",
    "#+dst$Price_Medium_lag_6 + dst$Price_Medium_lag_7 +\n",
    "#+dst$Price_Medium_lag_8 + dst$SE_EAR_Average_MW_lag_1 +\n",
    "#+dst$SE_EAR_Average_MW_lag_2 + dst$SE_EAR_Average_MW_lag_3 + dst$SE_EAR_Average_MW_lag_4 +\n",
    "# + dst$SE_EAR_Average_MW_lag_5 + dst$SE_EAR_Average_MW_lag_6 + dst$SE_EAR_Average_MW_lag_7 +\n",
    "# + dst$SE_EAR_Average_MW_lag_8 + dst$ENA_Average_MW_lag_1 + dst$ENA_Average_MW_lag_2 +\n",
    "# + dst$ENA_Average_MW_lag_3 + dst$ENA_Average_MW_lag_4   + dst$ENA_Average_MW_lag_5 +\n",
    "# + dst$ENA_Average_MW_lag_6  + dst$ENA_Average_MW_lag_7  + dst$ENA_Average_MW_lag_8\")   \n"
   ]
  },
  {
   "cell_type": "code",
   "execution_count": 151,
   "metadata": {
    "collapsed": false
   },
   "outputs": [
    {
     "data": {
      "text/plain": [
       "dst_train_small$Price_Medium ~ ."
      ]
     },
     "metadata": {},
     "output_type": "display_data"
    }
   ],
   "source": [
    "model_struc"
   ]
  },
  {
   "cell_type": "code",
   "execution_count": 139,
   "metadata": {
    "collapsed": true
   },
   "outputs": [],
   "source": [
    "#model_struc = as.formula(\"dst$Price_Medium ~ . - dst$Start.Date - dst$End.Date - dst$Date - dst$SE_EAR_Average_MW -dst$SE_EAR. -\n",
    "#- dst$ENA_Average_MW - dst$ENA._long_term_avg - dst$Price_Heavy - dst$Price_Light - dst$Max_Price - dst$Price_Heavy_lag_1 -\n",
    "#- dst$Price_Heavy_lag_2 - dst$Price_Heavy_lag_3 - dst$Price_Heavy_lag_4 - dst$Price_Heavy_lag_5 - dst$Price_Heavy_lag_6 -\n",
    "#- dst$Price_Heavy_lag_7 - dst$Price_Heavy_lag_8 - dst$Price_Light_lag_1 - dst$Price_Light_lag_2 - dst$Price_Light_lag_3 -\n",
    "#- dst$Price_Light_lag_4 - dst$Price_Light_lag_5 - dst$Price_Light_lag_6 - dst$Price_Light_lag_7 - dst$Price_Light_lag_8\")"
   ]
  },
  {
   "cell_type": "code",
   "execution_count": 152,
   "metadata": {
    "collapsed": false
   },
   "outputs": [
    {
     "data": {
      "text/plain": [
       "dst_train_small$Price_Medium ~ ."
      ]
     },
     "metadata": {},
     "output_type": "display_data"
    }
   ],
   "source": [
    "model_struc"
   ]
  },
  {
   "cell_type": "markdown",
   "metadata": {},
   "source": [
    "#### TEM UM TREMENDO BUG NA ESPECIFICACAO DISSO. O gmb NAO RECONHECE AS VARIAVEIS QUE ESTOU EXCLUINDO E AJUSTA O MODELO COM TUDO.\n",
    " SE EU MUDO A ESPECIFICACAO PARA INCLUIR APENAS AS VARIAVIES DE INTERESSE, A RODADA FUNCIONA, MAS DÁ ERRO QUANDO QUERO FAZER \n",
    " A PREVISAO, O R RECLAMA DOS COMPRIMENTOS DIFERENTES DAS SERIES NO IN E OUT OF SAMPLE."
   ]
  },
  {
   "cell_type": "code",
   "execution_count": null,
   "metadata": {
    "collapsed": true
   },
   "outputs": [],
   "source": []
  },
  {
   "cell_type": "code",
   "execution_count": 153,
   "metadata": {
    "collapsed": false
   },
   "outputs": [],
   "source": [
    "# Computing GBM model and keeping track of time taken to run\n",
    "#\n",
    "# tic and toc are an \"inspiration\" from Matlab\n",
    "\n",
    "## dst_train$Demand ~ .  - dst_train$Month - dst_train$Day - dst_train$July - dst_train$winter - dst_train$fall - dst_train$summer - dst_train$spring, \n",
    "           \n",
    "tic = Sys.time()\n",
    "\n",
    "set.seed(123) # To make sure results can be repeated\n",
    "# Note that we are excluding the dummies for the seasons and July (all other monthly dummies kept)\n",
    "gbm1 <- gbm(formula = model_struc, distribution = \"gaussian\",\n",
    "            n.trees =  1000, # c(5000, 7500, 10000)\n",
    "            interaction.depth = 3,\n",
    "            n.minobsinnode = 2, #c(1,2)\n",
    "            shrinkage = 0.01,\n",
    "            cv.folds = 2,\n",
    "            data = dst_train_small, keep.data = FALSE,\n",
    "            n.cores = NULL) # You can set this to n.cores = NULL to use all cores\n",
    "best.iter <- gbm.perf(gbm1, method=\"cv\", plot=FALSE)\n",
    "\n",
    "toc = Sys.time()\n",
    "\n",
    "delta_t = toc - tic  # Computes elapsed time"
   ]
  },
  {
   "cell_type": "code",
   "execution_count": 154,
   "metadata": {
    "collapsed": false
   },
   "outputs": [
    {
     "name": "stdout",
     "output_type": "stream",
     "text": [
      "[1] \"Elapsed Time to run GBM: 10.57\"\n"
     ]
    }
   ],
   "source": [
    "print(paste0(\"Elapsed Time to run GBM: \" , round(delta_t,2)))"
   ]
  },
  {
   "cell_type": "code",
   "execution_count": 155,
   "metadata": {
    "collapsed": false
   },
   "outputs": [
    {
     "name": "stdout",
     "output_type": "stream",
     "text": [
      "gbm(formula = model_struc, distribution = \"gaussian\", data = dst_train_small, \n",
      "    n.trees = 1000, interaction.depth = 3, n.minobsinnode = 2, \n",
      "    shrinkage = 0.01, cv.folds = 2, keep.data = FALSE, n.cores = NULL)\n",
      "A gradient boosted model with gaussian loss function.\n",
      "1000 iterations were performed.\n",
      "The best cross-validation iteration was 415.\n",
      "There were 26 predictors of which 26 had non-zero influence.\n"
     ]
    }
   ],
   "source": [
    "# print model\n",
    "print(gbm1) "
   ]
  },
  {
   "cell_type": "code",
   "execution_count": 156,
   "metadata": {
    "collapsed": false
   },
   "outputs": [
    {
     "data": {
      "image/png": "[encoded data removed]",
      "text/plain": [
       "plot without title"
      ]
     },
     "metadata": {},
     "output_type": "display_data"
    }
   ],
   "source": [
    "# check performance using 5-fold cross-validation\n",
    "options(repr.plot.width = 10, repr.plot.height = 5)\n",
    "best.iter <- gbm.perf(gbm1,method=\"cv\")"
   ]
  },
  {
   "cell_type": "code",
   "execution_count": 157,
   "metadata": {
    "collapsed": false
   },
   "outputs": [
    {
     "data": {
      "text/html": [
       "<table>\n",
       "<thead><tr><th></th><th scope=col>var</th><th scope=col>rel.inf</th></tr></thead>\n",
       "<tbody>\n",
       "\t<tr><th scope=row>Price_Medium_lag_1</th><td>Price_Medium_lag_1     </td><td>73.49767280            </td></tr>\n",
       "\t<tr><th scope=row>Price_Medium_lag_2</th><td>Price_Medium_lag_2     </td><td> 4.17572469            </td></tr>\n",
       "\t<tr><th scope=row>Month</th><td>Month                  </td><td> 3.06951421            </td></tr>\n",
       "\t<tr><th scope=row>SE_EAR_Average_MW_lag_1</th><td>SE_EAR_Average_MW_lag_1</td><td> 2.50152934            </td></tr>\n",
       "\t<tr><th scope=row>Price_Medium_lag_3</th><td>Price_Medium_lag_3     </td><td> 2.21671340            </td></tr>\n",
       "\t<tr><th scope=row>Year</th><td>Year                   </td><td> 1.72491909            </td></tr>\n",
       "\t<tr><th scope=row>Price_Medium_lag_5</th><td>Price_Medium_lag_5     </td><td> 1.64603996            </td></tr>\n",
       "\t<tr><th scope=row>Price_Medium_lag_4</th><td>Price_Medium_lag_4     </td><td> 1.61820868            </td></tr>\n",
       "\t<tr><th scope=row>ENA_Average_MW_lag_2</th><td>ENA_Average_MW_lag_2   </td><td> 1.09783552            </td></tr>\n",
       "\t<tr><th scope=row>Price_Medium_lag_7</th><td>Price_Medium_lag_7     </td><td> 1.09080250            </td></tr>\n",
       "\t<tr><th scope=row>SE_EAR_Average_MW_lag_5</th><td>SE_EAR_Average_MW_lag_5</td><td> 0.89210509            </td></tr>\n",
       "\t<tr><th scope=row>ENA_Average_MW_lag_1</th><td>ENA_Average_MW_lag_1   </td><td> 0.83774514            </td></tr>\n",
       "\t<tr><th scope=row>SE_EAR_Average_MW_lag_3</th><td>SE_EAR_Average_MW_lag_3</td><td> 0.83033338            </td></tr>\n",
       "\t<tr><th scope=row>SE_EAR_Average_MW_lag_4</th><td>SE_EAR_Average_MW_lag_4</td><td> 0.82307454            </td></tr>\n",
       "\t<tr><th scope=row>Price_Medium_lag_6</th><td>Price_Medium_lag_6     </td><td> 0.77010982            </td></tr>\n",
       "\t<tr><th scope=row>SE_EAR_Average_MW_lag_2</th><td>SE_EAR_Average_MW_lag_2</td><td> 0.74374146            </td></tr>\n",
       "\t<tr><th scope=row>ENA_Average_MW_lag_3</th><td>ENA_Average_MW_lag_3   </td><td> 0.45003892            </td></tr>\n",
       "\t<tr><th scope=row>SE_EAR_Average_MW_lag_7</th><td>SE_EAR_Average_MW_lag_7</td><td> 0.41964340            </td></tr>\n",
       "\t<tr><th scope=row>ENA_Average_MW_lag_4</th><td>ENA_Average_MW_lag_4   </td><td> 0.38003680            </td></tr>\n",
       "\t<tr><th scope=row>ENA_Average_MW_lag_5</th><td>ENA_Average_MW_lag_5   </td><td> 0.27518428            </td></tr>\n",
       "\t<tr><th scope=row>ENA_Average_MW_lag_7</th><td>ENA_Average_MW_lag_7   </td><td> 0.26016289            </td></tr>\n",
       "\t<tr><th scope=row>Wk_of_Month</th><td>Wk_of_Month            </td><td> 0.20565981            </td></tr>\n",
       "\t<tr><th scope=row>SE_EAR_Average_MW_lag_6</th><td>SE_EAR_Average_MW_lag_6</td><td> 0.19734216            </td></tr>\n",
       "\t<tr><th scope=row>SE_EAR_Average_MW_lag_8</th><td>SE_EAR_Average_MW_lag_8</td><td> 0.11919778            </td></tr>\n",
       "\t<tr><th scope=row>ENA_Average_MW_lag_8</th><td>ENA_Average_MW_lag_8   </td><td> 0.10786847            </td></tr>\n",
       "\t<tr><th scope=row>ENA_Average_MW_lag_6</th><td>ENA_Average_MW_lag_6   </td><td> 0.04879589            </td></tr>\n",
       "</tbody>\n",
       "</table>\n"
      ],
      "text/latex": [
       "\\begin{tabular}{r|ll}\n",
       "  & var & rel.inf\\\\\n",
       "\\hline\n",
       "\tPrice\\_Medium\\_lag\\_1 & Price\\_Medium\\_lag\\_1      & 73.49767280                  \\\\\n",
       "\tPrice\\_Medium\\_lag\\_2 & Price\\_Medium\\_lag\\_2      &  4.17572469                  \\\\\n",
       "\tMonth & Month                   &  3.06951421            \\\\\n",
       "\tSE\\_EAR\\_Average\\_MW\\_lag\\_1 & SE\\_EAR\\_Average\\_MW\\_lag\\_1 &  2.50152934                      \\\\\n",
       "\tPrice\\_Medium\\_lag\\_3 & Price\\_Medium\\_lag\\_3      &  2.21671340                  \\\\\n",
       "\tYear & Year                    &  1.72491909            \\\\\n",
       "\tPrice\\_Medium\\_lag\\_5 & Price\\_Medium\\_lag\\_5      &  1.64603996                  \\\\\n",
       "\tPrice\\_Medium\\_lag\\_4 & Price\\_Medium\\_lag\\_4      &  1.61820868                  \\\\\n",
       "\tENA\\_Average\\_MW\\_lag\\_2 & ENA\\_Average\\_MW\\_lag\\_2    &  1.09783552                    \\\\\n",
       "\tPrice\\_Medium\\_lag\\_7 & Price\\_Medium\\_lag\\_7      &  1.09080250                  \\\\\n",
       "\tSE\\_EAR\\_Average\\_MW\\_lag\\_5 & SE\\_EAR\\_Average\\_MW\\_lag\\_5 &  0.89210509                      \\\\\n",
       "\tENA\\_Average\\_MW\\_lag\\_1 & ENA\\_Average\\_MW\\_lag\\_1    &  0.83774514                    \\\\\n",
       "\tSE\\_EAR\\_Average\\_MW\\_lag\\_3 & SE\\_EAR\\_Average\\_MW\\_lag\\_3 &  0.83033338                      \\\\\n",
       "\tSE\\_EAR\\_Average\\_MW\\_lag\\_4 & SE\\_EAR\\_Average\\_MW\\_lag\\_4 &  0.82307454                      \\\\\n",
       "\tPrice\\_Medium\\_lag\\_6 & Price\\_Medium\\_lag\\_6      &  0.77010982                  \\\\\n",
       "\tSE\\_EAR\\_Average\\_MW\\_lag\\_2 & SE\\_EAR\\_Average\\_MW\\_lag\\_2 &  0.74374146                      \\\\\n",
       "\tENA\\_Average\\_MW\\_lag\\_3 & ENA\\_Average\\_MW\\_lag\\_3    &  0.45003892                    \\\\\n",
       "\tSE\\_EAR\\_Average\\_MW\\_lag\\_7 & SE\\_EAR\\_Average\\_MW\\_lag\\_7 &  0.41964340                      \\\\\n",
       "\tENA\\_Average\\_MW\\_lag\\_4 & ENA\\_Average\\_MW\\_lag\\_4    &  0.38003680                    \\\\\n",
       "\tENA\\_Average\\_MW\\_lag\\_5 & ENA\\_Average\\_MW\\_lag\\_5    &  0.27518428                    \\\\\n",
       "\tENA\\_Average\\_MW\\_lag\\_7 & ENA\\_Average\\_MW\\_lag\\_7    &  0.26016289                    \\\\\n",
       "\tWk\\_of\\_Month & Wk\\_of\\_Month             &  0.20565981                \\\\\n",
       "\tSE\\_EAR\\_Average\\_MW\\_lag\\_6 & SE\\_EAR\\_Average\\_MW\\_lag\\_6 &  0.19734216                      \\\\\n",
       "\tSE\\_EAR\\_Average\\_MW\\_lag\\_8 & SE\\_EAR\\_Average\\_MW\\_lag\\_8 &  0.11919778                      \\\\\n",
       "\tENA\\_Average\\_MW\\_lag\\_8 & ENA\\_Average\\_MW\\_lag\\_8    &  0.10786847                    \\\\\n",
       "\tENA\\_Average\\_MW\\_lag\\_6 & ENA\\_Average\\_MW\\_lag\\_6    &  0.04879589                    \\\\\n",
       "\\end{tabular}\n"
      ],
      "text/markdown": [
       "\n",
       "| <!--/--> | var | rel.inf | \n",
       "|---|---|---|---|---|---|---|---|---|---|---|---|---|---|---|---|---|---|---|---|---|---|---|---|---|---|\n",
       "| Price_Medium_lag_1 | Price_Medium_lag_1      | 73.49767280             | \n",
       "| Price_Medium_lag_2 | Price_Medium_lag_2      |  4.17572469             | \n",
       "| Month | Month                   |  3.06951421             | \n",
       "| SE_EAR_Average_MW_lag_1 | SE_EAR_Average_MW_lag_1 |  2.50152934             | \n",
       "| Price_Medium_lag_3 | Price_Medium_lag_3      |  2.21671340             | \n",
       "| Year | Year                    |  1.72491909             | \n",
       "| Price_Medium_lag_5 | Price_Medium_lag_5      |  1.64603996             | \n",
       "| Price_Medium_lag_4 | Price_Medium_lag_4      |  1.61820868             | \n",
       "| ENA_Average_MW_lag_2 | ENA_Average_MW_lag_2    |  1.09783552             | \n",
       "| Price_Medium_lag_7 | Price_Medium_lag_7      |  1.09080250             | \n",
       "| SE_EAR_Average_MW_lag_5 | SE_EAR_Average_MW_lag_5 |  0.89210509             | \n",
       "| ENA_Average_MW_lag_1 | ENA_Average_MW_lag_1    |  0.83774514             | \n",
       "| SE_EAR_Average_MW_lag_3 | SE_EAR_Average_MW_lag_3 |  0.83033338             | \n",
       "| SE_EAR_Average_MW_lag_4 | SE_EAR_Average_MW_lag_4 |  0.82307454             | \n",
       "| Price_Medium_lag_6 | Price_Medium_lag_6      |  0.77010982             | \n",
       "| SE_EAR_Average_MW_lag_2 | SE_EAR_Average_MW_lag_2 |  0.74374146             | \n",
       "| ENA_Average_MW_lag_3 | ENA_Average_MW_lag_3    |  0.45003892             | \n",
       "| SE_EAR_Average_MW_lag_7 | SE_EAR_Average_MW_lag_7 |  0.41964340             | \n",
       "| ENA_Average_MW_lag_4 | ENA_Average_MW_lag_4    |  0.38003680             | \n",
       "| ENA_Average_MW_lag_5 | ENA_Average_MW_lag_5    |  0.27518428             | \n",
       "| ENA_Average_MW_lag_7 | ENA_Average_MW_lag_7    |  0.26016289             | \n",
       "| Wk_of_Month | Wk_of_Month             |  0.20565981             | \n",
       "| SE_EAR_Average_MW_lag_6 | SE_EAR_Average_MW_lag_6 |  0.19734216             | \n",
       "| SE_EAR_Average_MW_lag_8 | SE_EAR_Average_MW_lag_8 |  0.11919778             | \n",
       "| ENA_Average_MW_lag_8 | ENA_Average_MW_lag_8    |  0.10786847             | \n",
       "| ENA_Average_MW_lag_6 | ENA_Average_MW_lag_6    |  0.04879589             | \n",
       "\n",
       "\n"
      ],
      "text/plain": [
       "                        var                     rel.inf    \n",
       "Price_Medium_lag_1      Price_Medium_lag_1      73.49767280\n",
       "Price_Medium_lag_2      Price_Medium_lag_2       4.17572469\n",
       "Month                   Month                    3.06951421\n",
       "SE_EAR_Average_MW_lag_1 SE_EAR_Average_MW_lag_1  2.50152934\n",
       "Price_Medium_lag_3      Price_Medium_lag_3       2.21671340\n",
       "Year                    Year                     1.72491909\n",
       "Price_Medium_lag_5      Price_Medium_lag_5       1.64603996\n",
       "Price_Medium_lag_4      Price_Medium_lag_4       1.61820868\n",
       "ENA_Average_MW_lag_2    ENA_Average_MW_lag_2     1.09783552\n",
       "Price_Medium_lag_7      Price_Medium_lag_7       1.09080250\n",
       "SE_EAR_Average_MW_lag_5 SE_EAR_Average_MW_lag_5  0.89210509\n",
       "ENA_Average_MW_lag_1    ENA_Average_MW_lag_1     0.83774514\n",
       "SE_EAR_Average_MW_lag_3 SE_EAR_Average_MW_lag_3  0.83033338\n",
       "SE_EAR_Average_MW_lag_4 SE_EAR_Average_MW_lag_4  0.82307454\n",
       "Price_Medium_lag_6      Price_Medium_lag_6       0.77010982\n",
       "SE_EAR_Average_MW_lag_2 SE_EAR_Average_MW_lag_2  0.74374146\n",
       "ENA_Average_MW_lag_3    ENA_Average_MW_lag_3     0.45003892\n",
       "SE_EAR_Average_MW_lag_7 SE_EAR_Average_MW_lag_7  0.41964340\n",
       "ENA_Average_MW_lag_4    ENA_Average_MW_lag_4     0.38003680\n",
       "ENA_Average_MW_lag_5    ENA_Average_MW_lag_5     0.27518428\n",
       "ENA_Average_MW_lag_7    ENA_Average_MW_lag_7     0.26016289\n",
       "Wk_of_Month             Wk_of_Month              0.20565981\n",
       "SE_EAR_Average_MW_lag_6 SE_EAR_Average_MW_lag_6  0.19734216\n",
       "SE_EAR_Average_MW_lag_8 SE_EAR_Average_MW_lag_8  0.11919778\n",
       "ENA_Average_MW_lag_8    ENA_Average_MW_lag_8     0.10786847\n",
       "ENA_Average_MW_lag_6    ENA_Average_MW_lag_6     0.04879589"
      ]
     },
     "metadata": {},
     "output_type": "display_data"
    },
    {
     "data": {
      "image/png": "[encoded data removed]",
      "text/plain": [
       "plot without title"
      ]
     },
     "metadata": {},
     "output_type": "display_data"
    }
   ],
   "source": [
    "# summary - Gradient Boosting Machine - variables in descending order of importance\n",
    "summary(gbm1)"
   ]
  },
  {
   "cell_type": "markdown",
   "metadata": {
    "collapsed": true
   },
   "source": [
    "#### A plot comparing the importance of variables is generated with the following code."
   ]
  },
  {
   "cell_type": "code",
   "execution_count": 160,
   "metadata": {
    "collapsed": false
   },
   "outputs": [
    {
     "data": {
      "image/png": "[encoded data removed]",
      "text/plain": [
       "plot without title"
      ]
     },
     "metadata": {},
     "output_type": "display_data"
    }
   ],
   "source": [
    "options(repr.plot.width = 10, repr.plot.height = 5)\n",
    "# check variable importance\n",
    "f_imp <- summary(gbm1, n.trees = best.iter, plot = FALSE) \n",
    "# use a custom plot to show variable importance\n",
    "\n",
    "# Show first 20 variables only\n",
    "barplot(f_imp$rel.inf[1:20], names.arg = f_imp$var[1:20], xlab = \"Feature\", ylab = \"Relative influence\", las = 2, cex.names = 0.7, col=c(\"darkblue\"))"
   ]
  },
  {
   "cell_type": "code",
   "execution_count": 161,
   "metadata": {
    "collapsed": false
   },
   "outputs": [
    {
     "data": {
      "text/html": [
       "<table>\n",
       "<thead><tr><th></th><th scope=col>var</th><th scope=col>rel.inf</th></tr></thead>\n",
       "<tbody>\n",
       "\t<tr><th scope=row>Price_Medium_lag_1</th><td>Price_Medium_lag_1     </td><td>78.7346809             </td></tr>\n",
       "\t<tr><th scope=row>Price_Medium_lag_2</th><td>Price_Medium_lag_2     </td><td> 4.1314511             </td></tr>\n",
       "\t<tr><th scope=row>Month</th><td>Month                  </td><td> 3.1286224             </td></tr>\n",
       "\t<tr><th scope=row>Price_Medium_lag_3</th><td>Price_Medium_lag_3     </td><td> 1.8633877             </td></tr>\n",
       "\t<tr><th scope=row>SE_EAR_Average_MW_lag_1</th><td>SE_EAR_Average_MW_lag_1</td><td> 1.8568719             </td></tr>\n",
       "\t<tr><th scope=row>Year</th><td>Year                   </td><td> 1.4816408             </td></tr>\n",
       "\t<tr><th scope=row>Price_Medium_lag_5</th><td>Price_Medium_lag_5     </td><td> 1.0293421             </td></tr>\n",
       "\t<tr><th scope=row>ENA_Average_MW_lag_2</th><td>ENA_Average_MW_lag_2   </td><td> 0.8779375             </td></tr>\n",
       "\t<tr><th scope=row>SE_EAR_Average_MW_lag_5</th><td>SE_EAR_Average_MW_lag_5</td><td> 0.8690493             </td></tr>\n",
       "\t<tr><th scope=row>Price_Medium_lag_4</th><td>Price_Medium_lag_4     </td><td> 0.8539392             </td></tr>\n",
       "\t<tr><th scope=row>SE_EAR_Average_MW_lag_3</th><td>SE_EAR_Average_MW_lag_3</td><td> 0.6892286             </td></tr>\n",
       "\t<tr><th scope=row>SE_EAR_Average_MW_lag_4</th><td>SE_EAR_Average_MW_lag_4</td><td> 0.6629192             </td></tr>\n",
       "\t<tr><th scope=row>SE_EAR_Average_MW_lag_2</th><td>SE_EAR_Average_MW_lag_2</td><td> 0.6530541             </td></tr>\n",
       "\t<tr><th scope=row>ENA_Average_MW_lag_1</th><td>ENA_Average_MW_lag_1   </td><td> 0.6047657             </td></tr>\n",
       "\t<tr><th scope=row>Price_Medium_lag_7</th><td>Price_Medium_lag_7     </td><td> 0.4760188             </td></tr>\n",
       "\t<tr><th scope=row>Price_Medium_lag_6</th><td>Price_Medium_lag_6     </td><td> 0.3982860             </td></tr>\n",
       "\t<tr><th scope=row>SE_EAR_Average_MW_lag_7</th><td>SE_EAR_Average_MW_lag_7</td><td> 0.3681069             </td></tr>\n",
       "\t<tr><th scope=row>ENA_Average_MW_lag_4</th><td>ENA_Average_MW_lag_4   </td><td> 0.3178266             </td></tr>\n",
       "\t<tr><th scope=row>ENA_Average_MW_lag_3</th><td>ENA_Average_MW_lag_3   </td><td> 0.2864485             </td></tr>\n",
       "\t<tr><th scope=row>ENA_Average_MW_lag_5</th><td>ENA_Average_MW_lag_5   </td><td> 0.1948697             </td></tr>\n",
       "</tbody>\n",
       "</table>\n"
      ],
      "text/latex": [
       "\\begin{tabular}{r|ll}\n",
       "  & var & rel.inf\\\\\n",
       "\\hline\n",
       "\tPrice\\_Medium\\_lag\\_1 & Price\\_Medium\\_lag\\_1      & 78.7346809                   \\\\\n",
       "\tPrice\\_Medium\\_lag\\_2 & Price\\_Medium\\_lag\\_2      &  4.1314511                   \\\\\n",
       "\tMonth & Month                   &  3.1286224             \\\\\n",
       "\tPrice\\_Medium\\_lag\\_3 & Price\\_Medium\\_lag\\_3      &  1.8633877                   \\\\\n",
       "\tSE\\_EAR\\_Average\\_MW\\_lag\\_1 & SE\\_EAR\\_Average\\_MW\\_lag\\_1 &  1.8568719                       \\\\\n",
       "\tYear & Year                    &  1.4816408             \\\\\n",
       "\tPrice\\_Medium\\_lag\\_5 & Price\\_Medium\\_lag\\_5      &  1.0293421                   \\\\\n",
       "\tENA\\_Average\\_MW\\_lag\\_2 & ENA\\_Average\\_MW\\_lag\\_2    &  0.8779375                     \\\\\n",
       "\tSE\\_EAR\\_Average\\_MW\\_lag\\_5 & SE\\_EAR\\_Average\\_MW\\_lag\\_5 &  0.8690493                       \\\\\n",
       "\tPrice\\_Medium\\_lag\\_4 & Price\\_Medium\\_lag\\_4      &  0.8539392                   \\\\\n",
       "\tSE\\_EAR\\_Average\\_MW\\_lag\\_3 & SE\\_EAR\\_Average\\_MW\\_lag\\_3 &  0.6892286                       \\\\\n",
       "\tSE\\_EAR\\_Average\\_MW\\_lag\\_4 & SE\\_EAR\\_Average\\_MW\\_lag\\_4 &  0.6629192                       \\\\\n",
       "\tSE\\_EAR\\_Average\\_MW\\_lag\\_2 & SE\\_EAR\\_Average\\_MW\\_lag\\_2 &  0.6530541                       \\\\\n",
       "\tENA\\_Average\\_MW\\_lag\\_1 & ENA\\_Average\\_MW\\_lag\\_1    &  0.6047657                     \\\\\n",
       "\tPrice\\_Medium\\_lag\\_7 & Price\\_Medium\\_lag\\_7      &  0.4760188                   \\\\\n",
       "\tPrice\\_Medium\\_lag\\_6 & Price\\_Medium\\_lag\\_6      &  0.3982860                   \\\\\n",
       "\tSE\\_EAR\\_Average\\_MW\\_lag\\_7 & SE\\_EAR\\_Average\\_MW\\_lag\\_7 &  0.3681069                       \\\\\n",
       "\tENA\\_Average\\_MW\\_lag\\_4 & ENA\\_Average\\_MW\\_lag\\_4    &  0.3178266                     \\\\\n",
       "\tENA\\_Average\\_MW\\_lag\\_3 & ENA\\_Average\\_MW\\_lag\\_3    &  0.2864485                     \\\\\n",
       "\tENA\\_Average\\_MW\\_lag\\_5 & ENA\\_Average\\_MW\\_lag\\_5    &  0.1948697                     \\\\\n",
       "\\end{tabular}\n"
      ],
      "text/markdown": [
       "\n",
       "| <!--/--> | var | rel.inf | \n",
       "|---|---|---|---|---|---|---|---|---|---|---|---|---|---|---|---|---|---|---|---|\n",
       "| Price_Medium_lag_1 | Price_Medium_lag_1      | 78.7346809              | \n",
       "| Price_Medium_lag_2 | Price_Medium_lag_2      |  4.1314511              | \n",
       "| Month | Month                   |  3.1286224              | \n",
       "| Price_Medium_lag_3 | Price_Medium_lag_3      |  1.8633877              | \n",
       "| SE_EAR_Average_MW_lag_1 | SE_EAR_Average_MW_lag_1 |  1.8568719              | \n",
       "| Year | Year                    |  1.4816408              | \n",
       "| Price_Medium_lag_5 | Price_Medium_lag_5      |  1.0293421              | \n",
       "| ENA_Average_MW_lag_2 | ENA_Average_MW_lag_2    |  0.8779375              | \n",
       "| SE_EAR_Average_MW_lag_5 | SE_EAR_Average_MW_lag_5 |  0.8690493              | \n",
       "| Price_Medium_lag_4 | Price_Medium_lag_4      |  0.8539392              | \n",
       "| SE_EAR_Average_MW_lag_3 | SE_EAR_Average_MW_lag_3 |  0.6892286              | \n",
       "| SE_EAR_Average_MW_lag_4 | SE_EAR_Average_MW_lag_4 |  0.6629192              | \n",
       "| SE_EAR_Average_MW_lag_2 | SE_EAR_Average_MW_lag_2 |  0.6530541              | \n",
       "| ENA_Average_MW_lag_1 | ENA_Average_MW_lag_1    |  0.6047657              | \n",
       "| Price_Medium_lag_7 | Price_Medium_lag_7      |  0.4760188              | \n",
       "| Price_Medium_lag_6 | Price_Medium_lag_6      |  0.3982860              | \n",
       "| SE_EAR_Average_MW_lag_7 | SE_EAR_Average_MW_lag_7 |  0.3681069              | \n",
       "| ENA_Average_MW_lag_4 | ENA_Average_MW_lag_4    |  0.3178266              | \n",
       "| ENA_Average_MW_lag_3 | ENA_Average_MW_lag_3    |  0.2864485              | \n",
       "| ENA_Average_MW_lag_5 | ENA_Average_MW_lag_5    |  0.1948697              | \n",
       "\n",
       "\n"
      ],
      "text/plain": [
       "                        var                     rel.inf   \n",
       "Price_Medium_lag_1      Price_Medium_lag_1      78.7346809\n",
       "Price_Medium_lag_2      Price_Medium_lag_2       4.1314511\n",
       "Month                   Month                    3.1286224\n",
       "Price_Medium_lag_3      Price_Medium_lag_3       1.8633877\n",
       "SE_EAR_Average_MW_lag_1 SE_EAR_Average_MW_lag_1  1.8568719\n",
       "Year                    Year                     1.4816408\n",
       "Price_Medium_lag_5      Price_Medium_lag_5       1.0293421\n",
       "ENA_Average_MW_lag_2    ENA_Average_MW_lag_2     0.8779375\n",
       "SE_EAR_Average_MW_lag_5 SE_EAR_Average_MW_lag_5  0.8690493\n",
       "Price_Medium_lag_4      Price_Medium_lag_4       0.8539392\n",
       "SE_EAR_Average_MW_lag_3 SE_EAR_Average_MW_lag_3  0.6892286\n",
       "SE_EAR_Average_MW_lag_4 SE_EAR_Average_MW_lag_4  0.6629192\n",
       "SE_EAR_Average_MW_lag_2 SE_EAR_Average_MW_lag_2  0.6530541\n",
       "ENA_Average_MW_lag_1    ENA_Average_MW_lag_1     0.6047657\n",
       "Price_Medium_lag_7      Price_Medium_lag_7       0.4760188\n",
       "Price_Medium_lag_6      Price_Medium_lag_6       0.3982860\n",
       "SE_EAR_Average_MW_lag_7 SE_EAR_Average_MW_lag_7  0.3681069\n",
       "ENA_Average_MW_lag_4    ENA_Average_MW_lag_4     0.3178266\n",
       "ENA_Average_MW_lag_3    ENA_Average_MW_lag_3     0.2864485\n",
       "ENA_Average_MW_lag_5    ENA_Average_MW_lag_5     0.1948697"
      ]
     },
     "metadata": {},
     "output_type": "display_data"
    }
   ],
   "source": [
    "# Top 20 variables and their relative importances\n",
    "head(f_imp,20)"
   ]
  },
  {
   "cell_type": "code",
   "execution_count": 162,
   "metadata": {
    "collapsed": true
   },
   "outputs": [],
   "source": [
    "# Define prediction function\n",
    "predict_gbm <- function(newdata)\n",
    "{\n",
    "  require(gbm)\n",
    "  predict(gbm1, newdata, best.iter)\n",
    "}"
   ]
  },
  {
   "cell_type": "code",
   "execution_count": 167,
   "metadata": {
    "collapsed": false
   },
   "outputs": [],
   "source": [
    "# test the prediction function\n",
    "newdata <- dst_test_small\n",
    "pred <- predict_gbm(dst_test_small)\n",
    "actual = dst_test_small$Price_Medium"
   ]
  },
  {
   "cell_type": "code",
   "execution_count": 168,
   "metadata": {
    "collapsed": false
   },
   "outputs": [
    {
     "name": "stdout",
     "output_type": "stream",
     "text": [
      " num [1:199] 366 358 335 271 174 ...\n"
     ]
    }
   ],
   "source": [
    "str(pred)"
   ]
  },
  {
   "cell_type": "code",
   "execution_count": 169,
   "metadata": {
    "collapsed": false
   },
   "outputs": [],
   "source": [
    "perc_error = round(100*((actual-pred)/actual), digits = 3)\n",
    "abs_perc_error = abs(perc_error)\n",
    "result_test_period = data.frame(actual, forecast = pred, perc_error, abs_perc_error);"
   ]
  },
  {
   "cell_type": "code",
   "execution_count": 170,
   "metadata": {
    "collapsed": false
   },
   "outputs": [],
   "source": [
    "MAPE = function(real, pred){\n",
    "    y = 100 * mean(abs((real-pred)/real), na.rm = TRUE)\n",
    "    return(y)\n",
    "    }"
   ]
  },
  {
   "cell_type": "code",
   "execution_count": 171,
   "metadata": {
    "collapsed": false
   },
   "outputs": [
    {
     "name": "stdout",
     "output_type": "stream",
     "text": [
      "[1] \"MAPE = 24.7256\"\n"
     ]
    }
   ],
   "source": [
    "print(paste0(\"MAPE = \", round(MAPE(actual,pred),4)))"
   ]
  },
  {
   "cell_type": "code",
   "execution_count": 174,
   "metadata": {
    "collapsed": false
   },
   "outputs": [
    {
     "data": {
      "text/html": [
       "<table>\n",
       "<thead><tr><th scope=col>actual</th><th scope=col>forecast</th><th scope=col>perc_error</th><th scope=col>abs_perc_error</th></tr></thead>\n",
       "<tbody>\n",
       "\t<tr><td>356.80  </td><td>365.6184</td><td> -2.472 </td><td> 2.472  </td></tr>\n",
       "\t<tr><td>357.29  </td><td>357.5283</td><td> -0.067 </td><td> 0.067  </td></tr>\n",
       "\t<tr><td>324.69  </td><td>335.3679</td><td> -3.289 </td><td> 3.289  </td></tr>\n",
       "\t<tr><td>180.95  </td><td>271.3855</td><td>-49.978 </td><td>49.978  </td></tr>\n",
       "\t<tr><td>193.93  </td><td>174.0999</td><td> 10.225 </td><td>10.225  </td></tr>\n",
       "\t<tr><td>167.90  </td><td>199.8492</td><td>-19.029 </td><td>19.029  </td></tr>\n",
       "</tbody>\n",
       "</table>\n"
      ],
      "text/latex": [
       "\\begin{tabular}{r|llll}\n",
       " actual & forecast & perc\\_error & abs\\_perc\\_error\\\\\n",
       "\\hline\n",
       "\t 356.80   & 365.6184 &  -2.472  &  2.472  \\\\\n",
       "\t 357.29   & 357.5283 &  -0.067  &  0.067  \\\\\n",
       "\t 324.69   & 335.3679 &  -3.289  &  3.289  \\\\\n",
       "\t 180.95   & 271.3855 & -49.978  & 49.978  \\\\\n",
       "\t 193.93   & 174.0999 &  10.225  & 10.225  \\\\\n",
       "\t 167.90   & 199.8492 & -19.029  & 19.029  \\\\\n",
       "\\end{tabular}\n"
      ],
      "text/markdown": [
       "\n",
       "actual | forecast | perc_error | abs_perc_error | \n",
       "|---|---|---|---|---|---|\n",
       "| 356.80   | 365.6184 |  -2.472  |  2.472   | \n",
       "| 357.29   | 357.5283 |  -0.067  |  0.067   | \n",
       "| 324.69   | 335.3679 |  -3.289  |  3.289   | \n",
       "| 180.95   | 271.3855 | -49.978  | 49.978   | \n",
       "| 193.93   | 174.0999 |  10.225  | 10.225   | \n",
       "| 167.90   | 199.8492 | -19.029  | 19.029   | \n",
       "\n",
       "\n"
      ],
      "text/plain": [
       "  actual forecast perc_error abs_perc_error\n",
       "1 356.80 365.6184  -2.472     2.472        \n",
       "2 357.29 357.5283  -0.067     0.067        \n",
       "3 324.69 335.3679  -3.289     3.289        \n",
       "4 180.95 271.3855 -49.978    49.978        \n",
       "5 193.93 174.0999  10.225    10.225        \n",
       "6 167.90 199.8492 -19.029    19.029        "
      ]
     },
     "metadata": {},
     "output_type": "display_data"
    }
   ],
   "source": [
    "head(result_test_period)"
   ]
  },
  {
   "cell_type": "code",
   "execution_count": 175,
   "metadata": {
    "collapsed": false
   },
   "outputs": [
    {
     "data": {
      "text/html": [
       "<table>\n",
       "<thead><tr><th></th><th scope=col>actual</th><th scope=col>forecast</th><th scope=col>perc_error</th><th scope=col>abs_perc_error</th></tr></thead>\n",
       "<tbody>\n",
       "\t<tr><th scope=row>194</th><td>131.27   </td><td>146.48143</td><td>-11.588  </td><td>11.588   </td></tr>\n",
       "\t<tr><th scope=row>195</th><td>101.31   </td><td>127.56113</td><td>-25.912  </td><td>25.912   </td></tr>\n",
       "\t<tr><th scope=row>196</th><td>112.71   </td><td> 92.45471</td><td> 17.971  </td><td>17.971   </td></tr>\n",
       "\t<tr><th scope=row>197</th><td>122.27   </td><td> 91.05051</td><td> 25.533  </td><td>25.533   </td></tr>\n",
       "\t<tr><th scope=row>198</th><td>133.87   </td><td>106.20898</td><td> 20.663  </td><td>20.663   </td></tr>\n",
       "\t<tr><th scope=row>199</th><td>185.54   </td><td>125.94121</td><td> 32.122  </td><td>32.122   </td></tr>\n",
       "</tbody>\n",
       "</table>\n"
      ],
      "text/latex": [
       "\\begin{tabular}{r|llll}\n",
       "  & actual & forecast & perc\\_error & abs\\_perc\\_error\\\\\n",
       "\\hline\n",
       "\t194 & 131.27    & 146.48143 & -11.588   & 11.588   \\\\\n",
       "\t195 & 101.31    & 127.56113 & -25.912   & 25.912   \\\\\n",
       "\t196 & 112.71    &  92.45471 &  17.971   & 17.971   \\\\\n",
       "\t197 & 122.27    &  91.05051 &  25.533   & 25.533   \\\\\n",
       "\t198 & 133.87    & 106.20898 &  20.663   & 20.663   \\\\\n",
       "\t199 & 185.54    & 125.94121 &  32.122   & 32.122   \\\\\n",
       "\\end{tabular}\n"
      ],
      "text/markdown": [
       "\n",
       "| <!--/--> | actual | forecast | perc_error | abs_perc_error | \n",
       "|---|---|---|---|---|---|\n",
       "| 194 | 131.27    | 146.48143 | -11.588   | 11.588    | \n",
       "| 195 | 101.31    | 127.56113 | -25.912   | 25.912    | \n",
       "| 196 | 112.71    |  92.45471 |  17.971   | 17.971    | \n",
       "| 197 | 122.27    |  91.05051 |  25.533   | 25.533    | \n",
       "| 198 | 133.87    | 106.20898 |  20.663   | 20.663    | \n",
       "| 199 | 185.54    | 125.94121 |  32.122   | 32.122    | \n",
       "\n",
       "\n"
      ],
      "text/plain": [
       "    actual forecast  perc_error abs_perc_error\n",
       "194 131.27 146.48143 -11.588    11.588        \n",
       "195 101.31 127.56113 -25.912    25.912        \n",
       "196 112.71  92.45471  17.971    17.971        \n",
       "197 122.27  91.05051  25.533    25.533        \n",
       "198 133.87 106.20898  20.663    20.663        \n",
       "199 185.54 125.94121  32.122    32.122        "
      ]
     },
     "metadata": {},
     "output_type": "display_data"
    }
   ],
   "source": [
    "tail(result_test_period)"
   ]
  },
  {
   "cell_type": "code",
   "execution_count": 177,
   "metadata": {
    "collapsed": false
   },
   "outputs": [
    {
     "data": {
      "image/png": "[encoded data removed]",
      "text/plain": [
       "Plot with title \"GBM Forecast - Absolute % Error - Test Period\""
      ]
     },
     "metadata": {},
     "output_type": "display_data"
    }
   ],
   "source": [
    "time=1:nrow(result_test_period)\n",
    "plot(time,abs_perc_error, type =\"l\", col = \"red\", main = \"GBM Forecast - Absolute % Error - Test Period\")"
   ]
  },
  {
   "cell_type": "code",
   "execution_count": 183,
   "metadata": {
    "collapsed": false
   },
   "outputs": [
    {
     "data": {
      "image/png": "[encoded data removed]",
      "text/plain": [
       "Plot with title \"GBM - Distribution of % Errors\""
      ]
     },
     "metadata": {},
     "output_type": "display_data"
    }
   ],
   "source": [
    "# Histogram of Absolute Percentage Errors \n",
    "options(repr.plot.width = 5, repr.plot.height = 5)\n",
    "hist(perc_error, main = \"GBM - Distribution of % Errors\", col = \"green\", xlab = NULL, breaks = seq(-300,300,20))"
   ]
  },
  {
   "cell_type": "code",
   "execution_count": 182,
   "metadata": {
    "collapsed": false
   },
   "outputs": [
    {
     "data": {
      "image/png": "[encoded data removed]",
      "text/plain": [
       "Plot with title \"GBM - Distribution of Absolute % Errors\""
      ]
     },
     "metadata": {},
     "output_type": "display_data"
    }
   ],
   "source": [
    "# Histogram of Absolute Percentage Errors \n",
    "options(repr.plot.width = 5, repr.plot.height = 5)\n",
    "hist(abs_perc_error, main = \"GBM - Distribution of Absolute % Errors\", col = \"red\", xlab = NULL, breaks = seq(0,300,20))"
   ]
  },
  {
   "cell_type": "code",
   "execution_count": 184,
   "metadata": {
    "collapsed": false
   },
   "outputs": [
    {
     "name": "stdout",
     "output_type": "stream",
     "text": [
      "[1] \"MAPE = 24.7256\"\n"
     ]
    }
   ],
   "source": [
    "MAPE = mean(abs_perc_error)\n",
    "print(paste0(\"MAPE = \", round(MAPE,4)))"
   ]
  },
  {
   "cell_type": "code",
   "execution_count": 187,
   "metadata": {
    "collapsed": false
   },
   "outputs": [
    {
     "name": "stdout",
     "output_type": "stream",
     "text": [
      "[1] \"Minimum % Error (test period): -259.602\"\n"
     ]
    }
   ],
   "source": [
    "print(paste0(\"Minimum % Error (test period): \", min(perc_error, na.rm = TRUE)))"
   ]
  },
  {
   "cell_type": "code",
   "execution_count": 188,
   "metadata": {
    "collapsed": false
   },
   "outputs": [
    {
     "name": "stdout",
     "output_type": "stream",
     "text": [
      "[1] \"Maximum  % Error (test period): 57.244\"\n"
     ]
    }
   ],
   "source": [
    "print(paste0(\"Maximum  % Error (test period): \",max(perc_error, na.rm = TRUE)))"
   ]
  },
  {
   "cell_type": "code",
   "execution_count": 189,
   "metadata": {
    "collapsed": false
   },
   "outputs": [
    {
     "data": {
      "text/html": [
       "<table>\n",
       "<thead><tr><th scope=col>actual</th><th scope=col>forecast</th><th scope=col>perc_error</th><th scope=col>abs_perc_error</th></tr></thead>\n",
       "<tbody>\n",
       "\t<tr><td>356.80  </td><td>365.6184</td><td> -2.472 </td><td> 2.472  </td></tr>\n",
       "\t<tr><td>357.29  </td><td>357.5283</td><td> -0.067 </td><td> 0.067  </td></tr>\n",
       "\t<tr><td>324.69  </td><td>335.3679</td><td> -3.289 </td><td> 3.289  </td></tr>\n",
       "\t<tr><td>180.95  </td><td>271.3855</td><td>-49.978 </td><td>49.978  </td></tr>\n",
       "\t<tr><td>193.93  </td><td>174.0999</td><td> 10.225 </td><td>10.225  </td></tr>\n",
       "\t<tr><td>167.90  </td><td>199.8492</td><td>-19.029 </td><td>19.029  </td></tr>\n",
       "</tbody>\n",
       "</table>\n"
      ],
      "text/latex": [
       "\\begin{tabular}{r|llll}\n",
       " actual & forecast & perc\\_error & abs\\_perc\\_error\\\\\n",
       "\\hline\n",
       "\t 356.80   & 365.6184 &  -2.472  &  2.472  \\\\\n",
       "\t 357.29   & 357.5283 &  -0.067  &  0.067  \\\\\n",
       "\t 324.69   & 335.3679 &  -3.289  &  3.289  \\\\\n",
       "\t 180.95   & 271.3855 & -49.978  & 49.978  \\\\\n",
       "\t 193.93   & 174.0999 &  10.225  & 10.225  \\\\\n",
       "\t 167.90   & 199.8492 & -19.029  & 19.029  \\\\\n",
       "\\end{tabular}\n"
      ],
      "text/markdown": [
       "\n",
       "actual | forecast | perc_error | abs_perc_error | \n",
       "|---|---|---|---|---|---|\n",
       "| 356.80   | 365.6184 |  -2.472  |  2.472   | \n",
       "| 357.29   | 357.5283 |  -0.067  |  0.067   | \n",
       "| 324.69   | 335.3679 |  -3.289  |  3.289   | \n",
       "| 180.95   | 271.3855 | -49.978  | 49.978   | \n",
       "| 193.93   | 174.0999 |  10.225  | 10.225   | \n",
       "| 167.90   | 199.8492 | -19.029  | 19.029   | \n",
       "\n",
       "\n"
      ],
      "text/plain": [
       "  actual forecast perc_error abs_perc_error\n",
       "1 356.80 365.6184  -2.472     2.472        \n",
       "2 357.29 357.5283  -0.067     0.067        \n",
       "3 324.69 335.3679  -3.289     3.289        \n",
       "4 180.95 271.3855 -49.978    49.978        \n",
       "5 193.93 174.0999  10.225    10.225        \n",
       "6 167.90 199.8492 -19.029    19.029        "
      ]
     },
     "metadata": {},
     "output_type": "display_data"
    }
   ],
   "source": [
    "head(result_test_period)"
   ]
  },
  {
   "cell_type": "code",
   "execution_count": 190,
   "metadata": {
    "collapsed": false
   },
   "outputs": [
    {
     "data": {
      "text/plain": [
       "    Min.  1st Qu.   Median     Mean  3rd Qu.     Max. \n",
       "-259.600   -8.702    7.213    5.656   29.540   57.240 "
      ]
     },
     "metadata": {},
     "output_type": "display_data"
    }
   ],
   "source": [
    "summary(perc_error)"
   ]
  },
  {
   "cell_type": "code",
   "execution_count": 191,
   "metadata": {
    "collapsed": false
   },
   "outputs": [
    {
     "name": "stderr",
     "output_type": "stream",
     "text": [
      "`geom_smooth()` using method = 'loess'\n"
     ]
    },
    {
     "data": {},
     "metadata": {},
     "output_type": "display_data"
    },
    {
     "data": {
      "image/png": "[encoded data removed]",
      "text/plain": [
       "plot without title"
      ]
     },
     "metadata": {},
     "output_type": "display_data"
    }
   ],
   "source": [
    "library(ggplot2)\n",
    "options(repr.plot.width = 10, repr.plot.height = 5)\n",
    "ggplot(result_test_period, aes(x = actual, y = forecast)) + \n",
    "    geom_point(colour = \"blue\", alpha = 0.5) +\n",
    "    stat_smooth(colour = \"red\") + \n",
    "    ggtitle(\"GBM prediction of Spot Price (medium load)- Test Period\")"
   ]
  },
  {
   "cell_type": "code",
   "execution_count": 194,
   "metadata": {
    "collapsed": true
   },
   "outputs": [],
   "source": [
    "rtp = rtp=cbind(result_test_period,dst_test[,c(1,2,3,8,9,10)])  # Contains results and date/time information - will be useful in plotting"
   ]
  },
  {
   "cell_type": "code",
   "execution_count": 195,
   "metadata": {
    "collapsed": false
   },
   "outputs": [
    {
     "data": {
      "text/html": [
       "<table>\n",
       "<thead><tr><th></th><th scope=col>actual</th><th scope=col>forecast</th><th scope=col>perc_error</th><th scope=col>abs_perc_error</th><th scope=col>Start.Date</th><th scope=col>End.Date</th><th scope=col>Date</th><th scope=col>Year</th><th scope=col>Month</th><th scope=col>Wk_of_Month</th></tr></thead>\n",
       "<tbody>\n",
       "\t<tr><th scope=row>598</th><td>356.80    </td><td>365.6184  </td><td> -2.472   </td><td> 2.472    </td><td>18/05/2013</td><td>24/05/2013</td><td>24/05/2013</td><td>2013      </td><td>5         </td><td>4         </td></tr>\n",
       "\t<tr><th scope=row>599</th><td>357.29    </td><td>357.5283  </td><td> -0.067   </td><td> 0.067    </td><td>25/05/2013</td><td>31/05/2013</td><td>31/05/2013</td><td>2013      </td><td>5         </td><td>5         </td></tr>\n",
       "\t<tr><th scope=row>600</th><td>324.69    </td><td>335.3679  </td><td> -3.289   </td><td> 3.289    </td><td>01/06/2013</td><td>07/06/2013</td><td>07/06/2013</td><td>2013      </td><td>6         </td><td>1         </td></tr>\n",
       "\t<tr><th scope=row>601</th><td>180.95    </td><td>271.3855  </td><td>-49.978   </td><td>49.978    </td><td>08/06/2013</td><td>14/06/2013</td><td>14/06/2013</td><td>2013      </td><td>6         </td><td>2         </td></tr>\n",
       "\t<tr><th scope=row>602</th><td>193.93    </td><td>174.0999  </td><td> 10.225   </td><td>10.225    </td><td>15/06/2013</td><td>21/06/2013</td><td>21/06/2013</td><td>2013      </td><td>6         </td><td>3         </td></tr>\n",
       "\t<tr><th scope=row>603</th><td>167.90    </td><td>199.8492  </td><td>-19.029   </td><td>19.029    </td><td>22/06/2013</td><td>28/06/2013</td><td>28/06/2013</td><td>2013      </td><td>6         </td><td>4         </td></tr>\n",
       "</tbody>\n",
       "</table>\n"
      ],
      "text/latex": [
       "\\begin{tabular}{r|llllllllll}\n",
       "  & actual & forecast & perc\\_error & abs\\_perc\\_error & Start.Date & End.Date & Date & Year & Month & Wk\\_of\\_Month\\\\\n",
       "\\hline\n",
       "\t598 & 356.80     & 365.6184   &  -2.472    &  2.472     & 18/05/2013 & 24/05/2013 & 24/05/2013 & 2013       & 5          & 4         \\\\\n",
       "\t599 & 357.29     & 357.5283   &  -0.067    &  0.067     & 25/05/2013 & 31/05/2013 & 31/05/2013 & 2013       & 5          & 5         \\\\\n",
       "\t600 & 324.69     & 335.3679   &  -3.289    &  3.289     & 01/06/2013 & 07/06/2013 & 07/06/2013 & 2013       & 6          & 1         \\\\\n",
       "\t601 & 180.95     & 271.3855   & -49.978    & 49.978     & 08/06/2013 & 14/06/2013 & 14/06/2013 & 2013       & 6          & 2         \\\\\n",
       "\t602 & 193.93     & 174.0999   &  10.225    & 10.225     & 15/06/2013 & 21/06/2013 & 21/06/2013 & 2013       & 6          & 3         \\\\\n",
       "\t603 & 167.90     & 199.8492   & -19.029    & 19.029     & 22/06/2013 & 28/06/2013 & 28/06/2013 & 2013       & 6          & 4         \\\\\n",
       "\\end{tabular}\n"
      ],
      "text/markdown": [
       "\n",
       "| <!--/--> | actual | forecast | perc_error | abs_perc_error | Start.Date | End.Date | Date | Year | Month | Wk_of_Month | \n",
       "|---|---|---|---|---|---|\n",
       "| 598 | 356.80     | 365.6184   |  -2.472    |  2.472     | 18/05/2013 | 24/05/2013 | 24/05/2013 | 2013       | 5          | 4          | \n",
       "| 599 | 357.29     | 357.5283   |  -0.067    |  0.067     | 25/05/2013 | 31/05/2013 | 31/05/2013 | 2013       | 5          | 5          | \n",
       "| 600 | 324.69     | 335.3679   |  -3.289    |  3.289     | 01/06/2013 | 07/06/2013 | 07/06/2013 | 2013       | 6          | 1          | \n",
       "| 601 | 180.95     | 271.3855   | -49.978    | 49.978     | 08/06/2013 | 14/06/2013 | 14/06/2013 | 2013       | 6          | 2          | \n",
       "| 602 | 193.93     | 174.0999   |  10.225    | 10.225     | 15/06/2013 | 21/06/2013 | 21/06/2013 | 2013       | 6          | 3          | \n",
       "| 603 | 167.90     | 199.8492   | -19.029    | 19.029     | 22/06/2013 | 28/06/2013 | 28/06/2013 | 2013       | 6          | 4          | \n",
       "\n",
       "\n"
      ],
      "text/plain": [
       "    actual forecast perc_error abs_perc_error Start.Date End.Date   Date      \n",
       "598 356.80 365.6184  -2.472     2.472         18/05/2013 24/05/2013 24/05/2013\n",
       "599 357.29 357.5283  -0.067     0.067         25/05/2013 31/05/2013 31/05/2013\n",
       "600 324.69 335.3679  -3.289     3.289         01/06/2013 07/06/2013 07/06/2013\n",
       "601 180.95 271.3855 -49.978    49.978         08/06/2013 14/06/2013 14/06/2013\n",
       "602 193.93 174.0999  10.225    10.225         15/06/2013 21/06/2013 21/06/2013\n",
       "603 167.90 199.8492 -19.029    19.029         22/06/2013 28/06/2013 28/06/2013\n",
       "    Year Month Wk_of_Month\n",
       "598 2013 5     4          \n",
       "599 2013 5     5          \n",
       "600 2013 6     1          \n",
       "601 2013 6     2          \n",
       "602 2013 6     3          \n",
       "603 2013 6     4          "
      ]
     },
     "metadata": {},
     "output_type": "display_data"
    }
   ],
   "source": [
    "head(rtp)"
   ]
  },
  {
   "cell_type": "code",
   "execution_count": 232,
   "metadata": {
    "collapsed": false
   },
   "outputs": [
    {
     "data": {
      "text/html": [
       "<table>\n",
       "<thead><tr><th></th><th scope=col>actual</th><th scope=col>forecast</th><th scope=col>perc_error</th><th scope=col>abs_perc_error</th><th scope=col>Start.Date</th><th scope=col>End.Date</th><th scope=col>Date</th><th scope=col>Year</th><th scope=col>Month</th><th scope=col>Wk_of_Month</th></tr></thead>\n",
       "<tbody>\n",
       "\t<tr><th scope=row>601</th><td>180.95    </td><td>271.3855  </td><td> -49.978  </td><td> 49.978   </td><td>08/06/2013</td><td>14/06/2013</td><td>14/06/2013</td><td>2013      </td><td>6         </td><td>2         </td></tr>\n",
       "\t<tr><th scope=row>604</th><td> 98.56    </td><td>199.7903  </td><td>-102.709  </td><td>102.709   </td><td>29/06/2013</td><td>05/07/2013</td><td>05/07/2013</td><td>2013      </td><td>7         </td><td>1         </td></tr>\n",
       "\t<tr><th scope=row>613</th><td>259.04    </td><td>166.6927  </td><td>  35.650  </td><td> 35.650   </td><td>31/08/2013</td><td>06/09/2013</td><td>06/09/2013</td><td>2013      </td><td>9         </td><td>1         </td></tr>\n",
       "\t<tr><th scope=row>635</th><td>822.83    </td><td>351.8068  </td><td>  57.244  </td><td> 57.244   </td><td>01/02/2014</td><td>07/02/2014</td><td>07/02/2014</td><td>2014      </td><td>2         </td><td>1         </td></tr>\n",
       "\t<tr><th scope=row>636</th><td>822.83    </td><td>412.8379  </td><td>  49.827  </td><td> 49.827   </td><td>08/02/2014</td><td>14/02/2014</td><td>14/02/2014</td><td>2014      </td><td>2         </td><td>2         </td></tr>\n",
       "\t<tr><th scope=row>637</th><td>822.83    </td><td>417.2625  </td><td>  49.289  </td><td> 49.289   </td><td>15/02/2014</td><td>21/02/2014</td><td>21/02/2014</td><td>2014      </td><td>2         </td><td>3         </td></tr>\n",
       "\t<tr><th scope=row>638</th><td>822.83    </td><td>400.4144  </td><td>  51.337  </td><td> 51.337   </td><td>22/02/2014</td><td>28/02/2014</td><td>28/02/2014</td><td>2014      </td><td>2         </td><td>4         </td></tr>\n",
       "\t<tr><th scope=row>639</th><td>822.83    </td><td>415.4364  </td><td>  49.511  </td><td> 49.511   </td><td>01/03/2014</td><td>07/03/2014</td><td>07/03/2014</td><td>2014      </td><td>3         </td><td>1         </td></tr>\n",
       "\t<tr><th scope=row>640</th><td>822.83    </td><td>412.5111  </td><td>  49.867  </td><td> 49.867   </td><td>08/03/2014</td><td>14/03/2014</td><td>14/03/2014</td><td>2014      </td><td>3         </td><td>2         </td></tr>\n",
       "\t<tr><th scope=row>641</th><td>822.83    </td><td>410.8038  </td><td>  50.074  </td><td> 50.074   </td><td>15/03/2014</td><td>21/03/2014</td><td>21/03/2014</td><td>2014      </td><td>3         </td><td>3         </td></tr>\n",
       "\t<tr><th scope=row>642</th><td>822.83    </td><td>410.3761  </td><td>  50.126  </td><td> 50.126   </td><td>22/03/2014</td><td>28/03/2014</td><td>28/03/2014</td><td>2014      </td><td>3         </td><td>4         </td></tr>\n",
       "\t<tr><th scope=row>643</th><td>822.83    </td><td>403.2835  </td><td>  50.988  </td><td> 50.988   </td><td>29/03/2014</td><td>04/04/2014</td><td>04/04/2014</td><td>2014      </td><td>4         </td><td>1         </td></tr>\n",
       "\t<tr><th scope=row>644</th><td>822.83    </td><td>401.2459  </td><td>  51.236  </td><td> 51.236   </td><td>05/04/2014</td><td>11/04/2014</td><td>11/04/2014</td><td>2014      </td><td>4         </td><td>2         </td></tr>\n",
       "\t<tr><th scope=row>645</th><td>822.83    </td><td>403.7714  </td><td>  50.929  </td><td> 50.929   </td><td>12/04/2014</td><td>18/04/2014</td><td>18/04/2014</td><td>2014      </td><td>4         </td><td>3         </td></tr>\n",
       "\t<tr><th scope=row>646</th><td>822.83    </td><td>403.6279  </td><td>  50.946  </td><td> 50.946   </td><td>19/04/2014</td><td>25/04/2014</td><td>25/04/2014</td><td>2014      </td><td>4         </td><td>4         </td></tr>\n",
       "\t<tr><th scope=row>647</th><td>822.83    </td><td>424.6213  </td><td>  48.395  </td><td> 48.395   </td><td>26/04/2014</td><td>02/05/2014</td><td>02/05/2014</td><td>2014      </td><td>5         </td><td>1         </td></tr>\n",
       "\t<tr><th scope=row>648</th><td>800.10    </td><td>425.3489  </td><td>  46.838  </td><td> 46.838   </td><td>03/05/2014</td><td>09/05/2014</td><td>09/05/2014</td><td>2014      </td><td>5         </td><td>2         </td></tr>\n",
       "\t<tr><th scope=row>649</th><td>822.83    </td><td>423.6633  </td><td>  48.511  </td><td> 48.511   </td><td>10/05/2014</td><td>16/05/2014</td><td>16/05/2014</td><td>2014      </td><td>5         </td><td>3         </td></tr>\n",
       "\t<tr><th scope=row>650</th><td>822.83    </td><td>426.9537  </td><td>  48.112  </td><td> 48.112   </td><td>17/05/2014</td><td>23/05/2014</td><td>23/05/2014</td><td>2014      </td><td>5         </td><td>4         </td></tr>\n",
       "\t<tr><th scope=row>651</th><td>822.83    </td><td>429.9166  </td><td>  47.751  </td><td> 47.751   </td><td>24/05/2014</td><td>30/05/2014</td><td>30/05/2014</td><td>2014      </td><td>5         </td><td>5         </td></tr>\n",
       "\t<tr><th scope=row>654</th><td>420.29    </td><td>289.7412  </td><td>  31.062  </td><td> 31.062   </td><td>14/06/2014</td><td>20/06/2014</td><td>20/06/2014</td><td>2014      </td><td>6         </td><td>3         </td></tr>\n",
       "\t<tr><th scope=row>655</th><td>503.70    </td><td>334.5589  </td><td>  33.580  </td><td> 33.580   </td><td>21/06/2014</td><td>27/06/2014</td><td>27/06/2014</td><td>2014      </td><td>6         </td><td>4         </td></tr>\n",
       "\t<tr><th scope=row>657</th><td>548.68    </td><td>372.7198  </td><td>  32.070  </td><td> 32.070   </td><td>05/07/2014</td><td>11/07/2014</td><td>11/07/2014</td><td>2014      </td><td>7         </td><td>2         </td></tr>\n",
       "\t<tr><th scope=row>658</th><td>670.92    </td><td>395.1993  </td><td>  41.096  </td><td> 41.096   </td><td>12/07/2014</td><td>18/07/2014</td><td>18/07/2014</td><td>2014      </td><td>7         </td><td>3         </td></tr>\n",
       "\t<tr><th scope=row>659</th><td>731.08    </td><td>435.9296  </td><td>  40.372  </td><td> 40.372   </td><td>19/07/2014</td><td>25/07/2014</td><td>25/07/2014</td><td>2014      </td><td>7         </td><td>4         </td></tr>\n",
       "\t<tr><th scope=row>661</th><td>815.92    </td><td>437.7247  </td><td>  46.352  </td><td> 46.352   </td><td>02/08/2014</td><td>08/08/2014</td><td>08/08/2014</td><td>2014      </td><td>8         </td><td>2         </td></tr>\n",
       "\t<tr><th scope=row>662</th><td>652.35    </td><td>433.5664  </td><td>  33.538  </td><td> 33.538   </td><td>09/08/2014</td><td>15/08/2014</td><td>15/08/2014</td><td>2014      </td><td>8         </td><td>3         </td></tr>\n",
       "\t<tr><th scope=row>663</th><td>702.27    </td><td>435.1796  </td><td>  38.032  </td><td> 38.032   </td><td>16/08/2014</td><td>22/08/2014</td><td>22/08/2014</td><td>2014      </td><td>8         </td><td>4         </td></tr>\n",
       "\t<tr><th scope=row>664</th><td>700.76    </td><td>434.0266  </td><td>  38.063  </td><td> 38.063   </td><td>23/08/2014</td><td>29/08/2014</td><td>29/08/2014</td><td>2014      </td><td>8         </td><td>5         </td></tr>\n",
       "\t<tr><th scope=row>665</th><td>735.03    </td><td>416.2049  </td><td>  43.376  </td><td> 43.376   </td><td>30/08/2014</td><td>05/09/2014</td><td>05/09/2014</td><td>2014      </td><td>9         </td><td>1         </td></tr>\n",
       "\t<tr><th scope=row>...</th><td>...</td><td>...</td><td>...</td><td>...</td><td>...</td><td>...</td><td>...</td><td>...</td><td>...</td><td>...</td></tr>\n",
       "\t<tr><th scope=row>673</th><td>822.83    </td><td>474.70040 </td><td>  42.309  </td><td> 42.309   </td><td>25/10/2014</td><td>31/10/2014</td><td>31/10/2014</td><td>2014      </td><td>10        </td><td>5         </td></tr>\n",
       "\t<tr><th scope=row>674</th><td>822.83    </td><td>476.42421 </td><td>  42.099  </td><td> 42.099   </td><td>01/11/2014</td><td>07/11/2014</td><td>07/11/2014</td><td>2014      </td><td>11        </td><td>1         </td></tr>\n",
       "\t<tr><th scope=row>675</th><td>822.83    </td><td>468.43285 </td><td>  43.071  </td><td> 43.071   </td><td>08/11/2014</td><td>14/11/2014</td><td>14/11/2014</td><td>2014      </td><td>11        </td><td>2         </td></tr>\n",
       "\t<tr><th scope=row>676</th><td>822.83    </td><td>465.31798 </td><td>  43.449  </td><td> 43.449   </td><td>15/11/2014</td><td>21/11/2014</td><td>21/11/2014</td><td>2014      </td><td>11        </td><td>3         </td></tr>\n",
       "\t<tr><th scope=row>677</th><td>822.83    </td><td>465.94366 </td><td>  43.373  </td><td> 43.373   </td><td>22/11/2014</td><td>28/11/2014</td><td>28/11/2014</td><td>2014      </td><td>11        </td><td>4         </td></tr>\n",
       "\t<tr><th scope=row>679</th><td>677.68    </td><td>414.72503 </td><td>  38.802  </td><td> 38.802   </td><td>06/12/2014</td><td>12/12/2014</td><td>12/12/2014</td><td>2014      </td><td>12        </td><td>2         </td></tr>\n",
       "\t<tr><th scope=row>680</th><td>665.96    </td><td>446.58423 </td><td>  32.941  </td><td> 32.941   </td><td>13/12/2014</td><td>19/12/2014</td><td>19/12/2014</td><td>2014      </td><td>12        </td><td>3         </td></tr>\n",
       "\t<tr><th scope=row>681</th><td>658.73    </td><td>460.78906 </td><td>  30.049  </td><td> 30.049   </td><td>20/12/2014</td><td>26/12/2014</td><td>26/12/2014</td><td>2014      </td><td>12        </td><td>4         </td></tr>\n",
       "\t<tr><th scope=row>711</th><td>236.51    </td><td>307.50892 </td><td> -30.019  </td><td> 30.019   </td><td>11/07/2015</td><td>17/07/2015</td><td>17/07/2015</td><td>2015      </td><td>7         </td><td>3         </td></tr>\n",
       "\t<tr><th scope=row>714</th><td>120.67    </td><td>248.82186 </td><td>-106.200  </td><td>106.200   </td><td>01/08/2015</td><td>07/08/2015</td><td>07/08/2015</td><td>2015      </td><td>8         </td><td>1         </td></tr>\n",
       "\t<tr><th scope=row>718</th><td>279.01    </td><td>140.40195 </td><td>  49.679  </td><td> 49.679   </td><td>29/08/2015</td><td>04/09/2015</td><td>04/09/2015</td><td>2015      </td><td>9         </td><td>1         </td></tr>\n",
       "\t<tr><th scope=row>728</th><td>215.58    </td><td>333.61341 </td><td> -54.752  </td><td> 54.752   </td><td>07/11/2015</td><td>13/11/2015</td><td>13/11/2015</td><td>2015      </td><td>11        </td><td>2         </td></tr>\n",
       "\t<tr><th scope=row>729</th><td>194.23    </td><td>313.11439 </td><td> -61.208  </td><td> 61.208   </td><td>14/11/2015</td><td>20/11/2015</td><td>20/11/2015</td><td>2015      </td><td>11        </td><td>3         </td></tr>\n",
       "\t<tr><th scope=row>730</th><td>214.12    </td><td>298.86950 </td><td> -39.580  </td><td> 39.580   </td><td>21/11/2015</td><td>27/11/2015</td><td>27/11/2015</td><td>2015      </td><td>11        </td><td>4         </td></tr>\n",
       "\t<tr><th scope=row>731</th><td>153.84    </td><td>291.11088 </td><td> -89.230  </td><td> 89.230   </td><td>28/11/2015</td><td>04/12/2015</td><td>04/12/2015</td><td>2015      </td><td>12        </td><td>1         </td></tr>\n",
       "\t<tr><th scope=row>732</th><td>140.31    </td><td>242.01979 </td><td> -72.489  </td><td> 72.489   </td><td>05/12/2015</td><td>11/12/2015</td><td>11/12/2015</td><td>2015      </td><td>12        </td><td>2         </td></tr>\n",
       "\t<tr><th scope=row>733</th><td>114.93    </td><td>184.01660 </td><td> -60.112  </td><td> 60.112   </td><td>12/12/2015</td><td>18/12/2015</td><td>18/12/2015</td><td>2015      </td><td>12        </td><td>3         </td></tr>\n",
       "\t<tr><th scope=row>735</th><td> 52.33    </td><td>188.17967 </td><td>-259.602  </td><td>259.602   </td><td>26/12/2015</td><td>01/01/2016</td><td>01/01/2016</td><td>2016      </td><td>1         </td><td>1         </td></tr>\n",
       "\t<tr><th scope=row>736</th><td> 48.02    </td><td> 81.46076 </td><td> -69.639  </td><td> 69.639   </td><td>02/01/2016</td><td>08/01/2016</td><td>08/01/2016</td><td>2016      </td><td>1         </td><td>2         </td></tr>\n",
       "\t<tr><th scope=row>737</th><td> 37.64    </td><td> 49.01249 </td><td> -30.214  </td><td> 30.214   </td><td>09/01/2016</td><td>15/01/2016</td><td>15/01/2016</td><td>2016      </td><td>1         </td><td>3         </td></tr>\n",
       "\t<tr><th scope=row>745</th><td> 54.30    </td><td> 31.53174 </td><td>  41.930  </td><td> 41.930   </td><td>05/03/2016</td><td>11/03/2016</td><td>11/03/2016</td><td>2016      </td><td>3         </td><td>2         </td></tr>\n",
       "\t<tr><th scope=row>746</th><td> 30.65    </td><td> 49.48123 </td><td> -61.440  </td><td> 61.440   </td><td>12/03/2016</td><td>18/03/2016</td><td>18/03/2016</td><td>2016      </td><td>3         </td><td>3         </td></tr>\n",
       "\t<tr><th scope=row>748</th><td> 46.96    </td><td> 23.39580 </td><td>  50.179  </td><td> 50.179   </td><td>26/03/2016</td><td>01/04/2016</td><td>01/04/2016</td><td>2016      </td><td>3         </td><td>5         </td></tr>\n",
       "\t<tr><th scope=row>753</th><td> 86.99    </td><td> 52.92044 </td><td>  39.165  </td><td> 39.165   </td><td>30/04/2016</td><td>06/05/2016</td><td>06/05/2016</td><td>2016      </td><td>5         </td><td>1         </td></tr>\n",
       "\t<tr><th scope=row>766</th><td>119.01    </td><td> 73.75957 </td><td>  38.022  </td><td> 38.022   </td><td>30/07/2016</td><td>05/08/2016</td><td>05/08/2016</td><td>2016      </td><td>8         </td><td>1         </td></tr>\n",
       "\t<tr><th scope=row>770</th><td>148.65    </td><td> 94.03221 </td><td>  36.743  </td><td> 36.743   </td><td>27/08/2016</td><td>02/09/2016</td><td>02/09/2016</td><td>2016      </td><td>9         </td><td>1         </td></tr>\n",
       "\t<tr><th scope=row>780</th><td>186.33    </td><td>256.20559 </td><td> -37.501  </td><td> 37.501   </td><td>05/11/2016</td><td>11/11/2016</td><td>11/11/2016</td><td>2016      </td><td>11        </td><td>2         </td></tr>\n",
       "\t<tr><th scope=row>784</th><td>102.90    </td><td>155.76807 </td><td> -51.378  </td><td> 51.378   </td><td>03/12/2016</td><td>09/12/2016</td><td>09/12/2016</td><td>2016      </td><td>12        </td><td>2         </td></tr>\n",
       "\t<tr><th scope=row>789</th><td>102.74    </td><td>154.33836 </td><td> -50.222  </td><td> 50.222   </td><td>07/01/2017</td><td>13/01/2017</td><td>13/01/2017</td><td>2017      </td><td>1         </td><td>2         </td></tr>\n",
       "\t<tr><th scope=row>796</th><td>185.54    </td><td>125.94121 </td><td>  32.122  </td><td> 32.122   </td><td>25/02/2017</td><td>03/03/2017</td><td>03/03/2017</td><td>2017      </td><td>3         </td><td>1         </td></tr>\n",
       "</tbody>\n",
       "</table>\n"
      ],
      "text/latex": [
       "\\begin{tabular}{r|llllllllll}\n",
       "  & actual & forecast & perc\\_error & abs\\_perc\\_error & Start.Date & End.Date & Date & Year & Month & Wk\\_of\\_Month\\\\\n",
       "\\hline\n",
       "\t601 & 180.95     & 271.3855   &  -49.978   &  49.978    & 08/06/2013 & 14/06/2013 & 14/06/2013 & 2013       & 6          & 2         \\\\\n",
       "\t604 &  98.56     & 199.7903   & -102.709   & 102.709    & 29/06/2013 & 05/07/2013 & 05/07/2013 & 2013       & 7          & 1         \\\\\n",
       "\t613 & 259.04     & 166.6927   &   35.650   &  35.650    & 31/08/2013 & 06/09/2013 & 06/09/2013 & 2013       & 9          & 1         \\\\\n",
       "\t635 & 822.83     & 351.8068   &   57.244   &  57.244    & 01/02/2014 & 07/02/2014 & 07/02/2014 & 2014       & 2          & 1         \\\\\n",
       "\t636 & 822.83     & 412.8379   &   49.827   &  49.827    & 08/02/2014 & 14/02/2014 & 14/02/2014 & 2014       & 2          & 2         \\\\\n",
       "\t637 & 822.83     & 417.2625   &   49.289   &  49.289    & 15/02/2014 & 21/02/2014 & 21/02/2014 & 2014       & 2          & 3         \\\\\n",
       "\t638 & 822.83     & 400.4144   &   51.337   &  51.337    & 22/02/2014 & 28/02/2014 & 28/02/2014 & 2014       & 2          & 4         \\\\\n",
       "\t639 & 822.83     & 415.4364   &   49.511   &  49.511    & 01/03/2014 & 07/03/2014 & 07/03/2014 & 2014       & 3          & 1         \\\\\n",
       "\t640 & 822.83     & 412.5111   &   49.867   &  49.867    & 08/03/2014 & 14/03/2014 & 14/03/2014 & 2014       & 3          & 2         \\\\\n",
       "\t641 & 822.83     & 410.8038   &   50.074   &  50.074    & 15/03/2014 & 21/03/2014 & 21/03/2014 & 2014       & 3          & 3         \\\\\n",
       "\t642 & 822.83     & 410.3761   &   50.126   &  50.126    & 22/03/2014 & 28/03/2014 & 28/03/2014 & 2014       & 3          & 4         \\\\\n",
       "\t643 & 822.83     & 403.2835   &   50.988   &  50.988    & 29/03/2014 & 04/04/2014 & 04/04/2014 & 2014       & 4          & 1         \\\\\n",
       "\t644 & 822.83     & 401.2459   &   51.236   &  51.236    & 05/04/2014 & 11/04/2014 & 11/04/2014 & 2014       & 4          & 2         \\\\\n",
       "\t645 & 822.83     & 403.7714   &   50.929   &  50.929    & 12/04/2014 & 18/04/2014 & 18/04/2014 & 2014       & 4          & 3         \\\\\n",
       "\t646 & 822.83     & 403.6279   &   50.946   &  50.946    & 19/04/2014 & 25/04/2014 & 25/04/2014 & 2014       & 4          & 4         \\\\\n",
       "\t647 & 822.83     & 424.6213   &   48.395   &  48.395    & 26/04/2014 & 02/05/2014 & 02/05/2014 & 2014       & 5          & 1         \\\\\n",
       "\t648 & 800.10     & 425.3489   &   46.838   &  46.838    & 03/05/2014 & 09/05/2014 & 09/05/2014 & 2014       & 5          & 2         \\\\\n",
       "\t649 & 822.83     & 423.6633   &   48.511   &  48.511    & 10/05/2014 & 16/05/2014 & 16/05/2014 & 2014       & 5          & 3         \\\\\n",
       "\t650 & 822.83     & 426.9537   &   48.112   &  48.112    & 17/05/2014 & 23/05/2014 & 23/05/2014 & 2014       & 5          & 4         \\\\\n",
       "\t651 & 822.83     & 429.9166   &   47.751   &  47.751    & 24/05/2014 & 30/05/2014 & 30/05/2014 & 2014       & 5          & 5         \\\\\n",
       "\t654 & 420.29     & 289.7412   &   31.062   &  31.062    & 14/06/2014 & 20/06/2014 & 20/06/2014 & 2014       & 6          & 3         \\\\\n",
       "\t655 & 503.70     & 334.5589   &   33.580   &  33.580    & 21/06/2014 & 27/06/2014 & 27/06/2014 & 2014       & 6          & 4         \\\\\n",
       "\t657 & 548.68     & 372.7198   &   32.070   &  32.070    & 05/07/2014 & 11/07/2014 & 11/07/2014 & 2014       & 7          & 2         \\\\\n",
       "\t658 & 670.92     & 395.1993   &   41.096   &  41.096    & 12/07/2014 & 18/07/2014 & 18/07/2014 & 2014       & 7          & 3         \\\\\n",
       "\t659 & 731.08     & 435.9296   &   40.372   &  40.372    & 19/07/2014 & 25/07/2014 & 25/07/2014 & 2014       & 7          & 4         \\\\\n",
       "\t661 & 815.92     & 437.7247   &   46.352   &  46.352    & 02/08/2014 & 08/08/2014 & 08/08/2014 & 2014       & 8          & 2         \\\\\n",
       "\t662 & 652.35     & 433.5664   &   33.538   &  33.538    & 09/08/2014 & 15/08/2014 & 15/08/2014 & 2014       & 8          & 3         \\\\\n",
       "\t663 & 702.27     & 435.1796   &   38.032   &  38.032    & 16/08/2014 & 22/08/2014 & 22/08/2014 & 2014       & 8          & 4         \\\\\n",
       "\t664 & 700.76     & 434.0266   &   38.063   &  38.063    & 23/08/2014 & 29/08/2014 & 29/08/2014 & 2014       & 8          & 5         \\\\\n",
       "\t665 & 735.03     & 416.2049   &   43.376   &  43.376    & 30/08/2014 & 05/09/2014 & 05/09/2014 & 2014       & 9          & 1         \\\\\n",
       "\t... & ... & ... & ... & ... & ... & ... & ... & ... & ... & ...\\\\\n",
       "\t673 & 822.83     & 474.70040  &   42.309   &  42.309    & 25/10/2014 & 31/10/2014 & 31/10/2014 & 2014       & 10         & 5         \\\\\n",
       "\t674 & 822.83     & 476.42421  &   42.099   &  42.099    & 01/11/2014 & 07/11/2014 & 07/11/2014 & 2014       & 11         & 1         \\\\\n",
       "\t675 & 822.83     & 468.43285  &   43.071   &  43.071    & 08/11/2014 & 14/11/2014 & 14/11/2014 & 2014       & 11         & 2         \\\\\n",
       "\t676 & 822.83     & 465.31798  &   43.449   &  43.449    & 15/11/2014 & 21/11/2014 & 21/11/2014 & 2014       & 11         & 3         \\\\\n",
       "\t677 & 822.83     & 465.94366  &   43.373   &  43.373    & 22/11/2014 & 28/11/2014 & 28/11/2014 & 2014       & 11         & 4         \\\\\n",
       "\t679 & 677.68     & 414.72503  &   38.802   &  38.802    & 06/12/2014 & 12/12/2014 & 12/12/2014 & 2014       & 12         & 2         \\\\\n",
       "\t680 & 665.96     & 446.58423  &   32.941   &  32.941    & 13/12/2014 & 19/12/2014 & 19/12/2014 & 2014       & 12         & 3         \\\\\n",
       "\t681 & 658.73     & 460.78906  &   30.049   &  30.049    & 20/12/2014 & 26/12/2014 & 26/12/2014 & 2014       & 12         & 4         \\\\\n",
       "\t711 & 236.51     & 307.50892  &  -30.019   &  30.019    & 11/07/2015 & 17/07/2015 & 17/07/2015 & 2015       & 7          & 3         \\\\\n",
       "\t714 & 120.67     & 248.82186  & -106.200   & 106.200    & 01/08/2015 & 07/08/2015 & 07/08/2015 & 2015       & 8          & 1         \\\\\n",
       "\t718 & 279.01     & 140.40195  &   49.679   &  49.679    & 29/08/2015 & 04/09/2015 & 04/09/2015 & 2015       & 9          & 1         \\\\\n",
       "\t728 & 215.58     & 333.61341  &  -54.752   &  54.752    & 07/11/2015 & 13/11/2015 & 13/11/2015 & 2015       & 11         & 2         \\\\\n",
       "\t729 & 194.23     & 313.11439  &  -61.208   &  61.208    & 14/11/2015 & 20/11/2015 & 20/11/2015 & 2015       & 11         & 3         \\\\\n",
       "\t730 & 214.12     & 298.86950  &  -39.580   &  39.580    & 21/11/2015 & 27/11/2015 & 27/11/2015 & 2015       & 11         & 4         \\\\\n",
       "\t731 & 153.84     & 291.11088  &  -89.230   &  89.230    & 28/11/2015 & 04/12/2015 & 04/12/2015 & 2015       & 12         & 1         \\\\\n",
       "\t732 & 140.31     & 242.01979  &  -72.489   &  72.489    & 05/12/2015 & 11/12/2015 & 11/12/2015 & 2015       & 12         & 2         \\\\\n",
       "\t733 & 114.93     & 184.01660  &  -60.112   &  60.112    & 12/12/2015 & 18/12/2015 & 18/12/2015 & 2015       & 12         & 3         \\\\\n",
       "\t735 &  52.33     & 188.17967  & -259.602   & 259.602    & 26/12/2015 & 01/01/2016 & 01/01/2016 & 2016       & 1          & 1         \\\\\n",
       "\t736 &  48.02     &  81.46076  &  -69.639   &  69.639    & 02/01/2016 & 08/01/2016 & 08/01/2016 & 2016       & 1          & 2         \\\\\n",
       "\t737 &  37.64     &  49.01249  &  -30.214   &  30.214    & 09/01/2016 & 15/01/2016 & 15/01/2016 & 2016       & 1          & 3         \\\\\n",
       "\t745 &  54.30     &  31.53174  &   41.930   &  41.930    & 05/03/2016 & 11/03/2016 & 11/03/2016 & 2016       & 3          & 2         \\\\\n",
       "\t746 &  30.65     &  49.48123  &  -61.440   &  61.440    & 12/03/2016 & 18/03/2016 & 18/03/2016 & 2016       & 3          & 3         \\\\\n",
       "\t748 &  46.96     &  23.39580  &   50.179   &  50.179    & 26/03/2016 & 01/04/2016 & 01/04/2016 & 2016       & 3          & 5         \\\\\n",
       "\t753 &  86.99     &  52.92044  &   39.165   &  39.165    & 30/04/2016 & 06/05/2016 & 06/05/2016 & 2016       & 5          & 1         \\\\\n",
       "\t766 & 119.01     &  73.75957  &   38.022   &  38.022    & 30/07/2016 & 05/08/2016 & 05/08/2016 & 2016       & 8          & 1         \\\\\n",
       "\t770 & 148.65     &  94.03221  &   36.743   &  36.743    & 27/08/2016 & 02/09/2016 & 02/09/2016 & 2016       & 9          & 1         \\\\\n",
       "\t780 & 186.33     & 256.20559  &  -37.501   &  37.501    & 05/11/2016 & 11/11/2016 & 11/11/2016 & 2016       & 11         & 2         \\\\\n",
       "\t784 & 102.90     & 155.76807  &  -51.378   &  51.378    & 03/12/2016 & 09/12/2016 & 09/12/2016 & 2016       & 12         & 2         \\\\\n",
       "\t789 & 102.74     & 154.33836  &  -50.222   &  50.222    & 07/01/2017 & 13/01/2017 & 13/01/2017 & 2017       & 1          & 2         \\\\\n",
       "\t796 & 185.54     & 125.94121  &   32.122   &  32.122    & 25/02/2017 & 03/03/2017 & 03/03/2017 & 2017       & 3          & 1         \\\\\n",
       "\\end{tabular}\n"
      ],
      "text/markdown": [
       "\n",
       "| <!--/--> | actual | forecast | perc_error | abs_perc_error | Start.Date | End.Date | Date | Year | Month | Wk_of_Month | \n",
       "|---|---|---|---|---|---|---|---|---|---|---|---|---|---|---|---|---|---|---|---|---|---|---|---|---|---|---|---|---|---|---|---|---|---|---|---|---|---|---|---|---|---|---|---|---|---|---|---|---|---|---|---|---|---|---|---|---|---|---|---|---|\n",
       "| 601 | 180.95     | 271.3855   |  -49.978   |  49.978    | 08/06/2013 | 14/06/2013 | 14/06/2013 | 2013       | 6          | 2          | \n",
       "| 604 |  98.56     | 199.7903   | -102.709   | 102.709    | 29/06/2013 | 05/07/2013 | 05/07/2013 | 2013       | 7          | 1          | \n",
       "| 613 | 259.04     | 166.6927   |   35.650   |  35.650    | 31/08/2013 | 06/09/2013 | 06/09/2013 | 2013       | 9          | 1          | \n",
       "| 635 | 822.83     | 351.8068   |   57.244   |  57.244    | 01/02/2014 | 07/02/2014 | 07/02/2014 | 2014       | 2          | 1          | \n",
       "| 636 | 822.83     | 412.8379   |   49.827   |  49.827    | 08/02/2014 | 14/02/2014 | 14/02/2014 | 2014       | 2          | 2          | \n",
       "| 637 | 822.83     | 417.2625   |   49.289   |  49.289    | 15/02/2014 | 21/02/2014 | 21/02/2014 | 2014       | 2          | 3          | \n",
       "| 638 | 822.83     | 400.4144   |   51.337   |  51.337    | 22/02/2014 | 28/02/2014 | 28/02/2014 | 2014       | 2          | 4          | \n",
       "| 639 | 822.83     | 415.4364   |   49.511   |  49.511    | 01/03/2014 | 07/03/2014 | 07/03/2014 | 2014       | 3          | 1          | \n",
       "| 640 | 822.83     | 412.5111   |   49.867   |  49.867    | 08/03/2014 | 14/03/2014 | 14/03/2014 | 2014       | 3          | 2          | \n",
       "| 641 | 822.83     | 410.8038   |   50.074   |  50.074    | 15/03/2014 | 21/03/2014 | 21/03/2014 | 2014       | 3          | 3          | \n",
       "| 642 | 822.83     | 410.3761   |   50.126   |  50.126    | 22/03/2014 | 28/03/2014 | 28/03/2014 | 2014       | 3          | 4          | \n",
       "| 643 | 822.83     | 403.2835   |   50.988   |  50.988    | 29/03/2014 | 04/04/2014 | 04/04/2014 | 2014       | 4          | 1          | \n",
       "| 644 | 822.83     | 401.2459   |   51.236   |  51.236    | 05/04/2014 | 11/04/2014 | 11/04/2014 | 2014       | 4          | 2          | \n",
       "| 645 | 822.83     | 403.7714   |   50.929   |  50.929    | 12/04/2014 | 18/04/2014 | 18/04/2014 | 2014       | 4          | 3          | \n",
       "| 646 | 822.83     | 403.6279   |   50.946   |  50.946    | 19/04/2014 | 25/04/2014 | 25/04/2014 | 2014       | 4          | 4          | \n",
       "| 647 | 822.83     | 424.6213   |   48.395   |  48.395    | 26/04/2014 | 02/05/2014 | 02/05/2014 | 2014       | 5          | 1          | \n",
       "| 648 | 800.10     | 425.3489   |   46.838   |  46.838    | 03/05/2014 | 09/05/2014 | 09/05/2014 | 2014       | 5          | 2          | \n",
       "| 649 | 822.83     | 423.6633   |   48.511   |  48.511    | 10/05/2014 | 16/05/2014 | 16/05/2014 | 2014       | 5          | 3          | \n",
       "| 650 | 822.83     | 426.9537   |   48.112   |  48.112    | 17/05/2014 | 23/05/2014 | 23/05/2014 | 2014       | 5          | 4          | \n",
       "| 651 | 822.83     | 429.9166   |   47.751   |  47.751    | 24/05/2014 | 30/05/2014 | 30/05/2014 | 2014       | 5          | 5          | \n",
       "| 654 | 420.29     | 289.7412   |   31.062   |  31.062    | 14/06/2014 | 20/06/2014 | 20/06/2014 | 2014       | 6          | 3          | \n",
       "| 655 | 503.70     | 334.5589   |   33.580   |  33.580    | 21/06/2014 | 27/06/2014 | 27/06/2014 | 2014       | 6          | 4          | \n",
       "| 657 | 548.68     | 372.7198   |   32.070   |  32.070    | 05/07/2014 | 11/07/2014 | 11/07/2014 | 2014       | 7          | 2          | \n",
       "| 658 | 670.92     | 395.1993   |   41.096   |  41.096    | 12/07/2014 | 18/07/2014 | 18/07/2014 | 2014       | 7          | 3          | \n",
       "| 659 | 731.08     | 435.9296   |   40.372   |  40.372    | 19/07/2014 | 25/07/2014 | 25/07/2014 | 2014       | 7          | 4          | \n",
       "| 661 | 815.92     | 437.7247   |   46.352   |  46.352    | 02/08/2014 | 08/08/2014 | 08/08/2014 | 2014       | 8          | 2          | \n",
       "| 662 | 652.35     | 433.5664   |   33.538   |  33.538    | 09/08/2014 | 15/08/2014 | 15/08/2014 | 2014       | 8          | 3          | \n",
       "| 663 | 702.27     | 435.1796   |   38.032   |  38.032    | 16/08/2014 | 22/08/2014 | 22/08/2014 | 2014       | 8          | 4          | \n",
       "| 664 | 700.76     | 434.0266   |   38.063   |  38.063    | 23/08/2014 | 29/08/2014 | 29/08/2014 | 2014       | 8          | 5          | \n",
       "| 665 | 735.03     | 416.2049   |   43.376   |  43.376    | 30/08/2014 | 05/09/2014 | 05/09/2014 | 2014       | 9          | 1          | \n",
       "| ... | ... | ... | ... | ... | ... | ... | ... | ... | ... | ... | \n",
       "| 673 | 822.83     | 474.70040  |   42.309   |  42.309    | 25/10/2014 | 31/10/2014 | 31/10/2014 | 2014       | 10         | 5          | \n",
       "| 674 | 822.83     | 476.42421  |   42.099   |  42.099    | 01/11/2014 | 07/11/2014 | 07/11/2014 | 2014       | 11         | 1          | \n",
       "| 675 | 822.83     | 468.43285  |   43.071   |  43.071    | 08/11/2014 | 14/11/2014 | 14/11/2014 | 2014       | 11         | 2          | \n",
       "| 676 | 822.83     | 465.31798  |   43.449   |  43.449    | 15/11/2014 | 21/11/2014 | 21/11/2014 | 2014       | 11         | 3          | \n",
       "| 677 | 822.83     | 465.94366  |   43.373   |  43.373    | 22/11/2014 | 28/11/2014 | 28/11/2014 | 2014       | 11         | 4          | \n",
       "| 679 | 677.68     | 414.72503  |   38.802   |  38.802    | 06/12/2014 | 12/12/2014 | 12/12/2014 | 2014       | 12         | 2          | \n",
       "| 680 | 665.96     | 446.58423  |   32.941   |  32.941    | 13/12/2014 | 19/12/2014 | 19/12/2014 | 2014       | 12         | 3          | \n",
       "| 681 | 658.73     | 460.78906  |   30.049   |  30.049    | 20/12/2014 | 26/12/2014 | 26/12/2014 | 2014       | 12         | 4          | \n",
       "| 711 | 236.51     | 307.50892  |  -30.019   |  30.019    | 11/07/2015 | 17/07/2015 | 17/07/2015 | 2015       | 7          | 3          | \n",
       "| 714 | 120.67     | 248.82186  | -106.200   | 106.200    | 01/08/2015 | 07/08/2015 | 07/08/2015 | 2015       | 8          | 1          | \n",
       "| 718 | 279.01     | 140.40195  |   49.679   |  49.679    | 29/08/2015 | 04/09/2015 | 04/09/2015 | 2015       | 9          | 1          | \n",
       "| 728 | 215.58     | 333.61341  |  -54.752   |  54.752    | 07/11/2015 | 13/11/2015 | 13/11/2015 | 2015       | 11         | 2          | \n",
       "| 729 | 194.23     | 313.11439  |  -61.208   |  61.208    | 14/11/2015 | 20/11/2015 | 20/11/2015 | 2015       | 11         | 3          | \n",
       "| 730 | 214.12     | 298.86950  |  -39.580   |  39.580    | 21/11/2015 | 27/11/2015 | 27/11/2015 | 2015       | 11         | 4          | \n",
       "| 731 | 153.84     | 291.11088  |  -89.230   |  89.230    | 28/11/2015 | 04/12/2015 | 04/12/2015 | 2015       | 12         | 1          | \n",
       "| 732 | 140.31     | 242.01979  |  -72.489   |  72.489    | 05/12/2015 | 11/12/2015 | 11/12/2015 | 2015       | 12         | 2          | \n",
       "| 733 | 114.93     | 184.01660  |  -60.112   |  60.112    | 12/12/2015 | 18/12/2015 | 18/12/2015 | 2015       | 12         | 3          | \n",
       "| 735 |  52.33     | 188.17967  | -259.602   | 259.602    | 26/12/2015 | 01/01/2016 | 01/01/2016 | 2016       | 1          | 1          | \n",
       "| 736 |  48.02     |  81.46076  |  -69.639   |  69.639    | 02/01/2016 | 08/01/2016 | 08/01/2016 | 2016       | 1          | 2          | \n",
       "| 737 |  37.64     |  49.01249  |  -30.214   |  30.214    | 09/01/2016 | 15/01/2016 | 15/01/2016 | 2016       | 1          | 3          | \n",
       "| 745 |  54.30     |  31.53174  |   41.930   |  41.930    | 05/03/2016 | 11/03/2016 | 11/03/2016 | 2016       | 3          | 2          | \n",
       "| 746 |  30.65     |  49.48123  |  -61.440   |  61.440    | 12/03/2016 | 18/03/2016 | 18/03/2016 | 2016       | 3          | 3          | \n",
       "| 748 |  46.96     |  23.39580  |   50.179   |  50.179    | 26/03/2016 | 01/04/2016 | 01/04/2016 | 2016       | 3          | 5          | \n",
       "| 753 |  86.99     |  52.92044  |   39.165   |  39.165    | 30/04/2016 | 06/05/2016 | 06/05/2016 | 2016       | 5          | 1          | \n",
       "| 766 | 119.01     |  73.75957  |   38.022   |  38.022    | 30/07/2016 | 05/08/2016 | 05/08/2016 | 2016       | 8          | 1          | \n",
       "| 770 | 148.65     |  94.03221  |   36.743   |  36.743    | 27/08/2016 | 02/09/2016 | 02/09/2016 | 2016       | 9          | 1          | \n",
       "| 780 | 186.33     | 256.20559  |  -37.501   |  37.501    | 05/11/2016 | 11/11/2016 | 11/11/2016 | 2016       | 11         | 2          | \n",
       "| 784 | 102.90     | 155.76807  |  -51.378   |  51.378    | 03/12/2016 | 09/12/2016 | 09/12/2016 | 2016       | 12         | 2          | \n",
       "| 789 | 102.74     | 154.33836  |  -50.222   |  50.222    | 07/01/2017 | 13/01/2017 | 13/01/2017 | 2017       | 1          | 2          | \n",
       "| 796 | 185.54     | 125.94121  |   32.122   |  32.122    | 25/02/2017 | 03/03/2017 | 03/03/2017 | 2017       | 3          | 1          | \n",
       "\n",
       "\n"
      ],
      "text/plain": [
       "    actual forecast  perc_error abs_perc_error Start.Date End.Date   Date      \n",
       "601 180.95 271.3855   -49.978    49.978        08/06/2013 14/06/2013 14/06/2013\n",
       "604  98.56 199.7903  -102.709   102.709        29/06/2013 05/07/2013 05/07/2013\n",
       "613 259.04 166.6927    35.650    35.650        31/08/2013 06/09/2013 06/09/2013\n",
       "635 822.83 351.8068    57.244    57.244        01/02/2014 07/02/2014 07/02/2014\n",
       "636 822.83 412.8379    49.827    49.827        08/02/2014 14/02/2014 14/02/2014\n",
       "637 822.83 417.2625    49.289    49.289        15/02/2014 21/02/2014 21/02/2014\n",
       "638 822.83 400.4144    51.337    51.337        22/02/2014 28/02/2014 28/02/2014\n",
       "639 822.83 415.4364    49.511    49.511        01/03/2014 07/03/2014 07/03/2014\n",
       "640 822.83 412.5111    49.867    49.867        08/03/2014 14/03/2014 14/03/2014\n",
       "641 822.83 410.8038    50.074    50.074        15/03/2014 21/03/2014 21/03/2014\n",
       "642 822.83 410.3761    50.126    50.126        22/03/2014 28/03/2014 28/03/2014\n",
       "643 822.83 403.2835    50.988    50.988        29/03/2014 04/04/2014 04/04/2014\n",
       "644 822.83 401.2459    51.236    51.236        05/04/2014 11/04/2014 11/04/2014\n",
       "645 822.83 403.7714    50.929    50.929        12/04/2014 18/04/2014 18/04/2014\n",
       "646 822.83 403.6279    50.946    50.946        19/04/2014 25/04/2014 25/04/2014\n",
       "647 822.83 424.6213    48.395    48.395        26/04/2014 02/05/2014 02/05/2014\n",
       "648 800.10 425.3489    46.838    46.838        03/05/2014 09/05/2014 09/05/2014\n",
       "649 822.83 423.6633    48.511    48.511        10/05/2014 16/05/2014 16/05/2014\n",
       "650 822.83 426.9537    48.112    48.112        17/05/2014 23/05/2014 23/05/2014\n",
       "651 822.83 429.9166    47.751    47.751        24/05/2014 30/05/2014 30/05/2014\n",
       "654 420.29 289.7412    31.062    31.062        14/06/2014 20/06/2014 20/06/2014\n",
       "655 503.70 334.5589    33.580    33.580        21/06/2014 27/06/2014 27/06/2014\n",
       "657 548.68 372.7198    32.070    32.070        05/07/2014 11/07/2014 11/07/2014\n",
       "658 670.92 395.1993    41.096    41.096        12/07/2014 18/07/2014 18/07/2014\n",
       "659 731.08 435.9296    40.372    40.372        19/07/2014 25/07/2014 25/07/2014\n",
       "661 815.92 437.7247    46.352    46.352        02/08/2014 08/08/2014 08/08/2014\n",
       "662 652.35 433.5664    33.538    33.538        09/08/2014 15/08/2014 15/08/2014\n",
       "663 702.27 435.1796    38.032    38.032        16/08/2014 22/08/2014 22/08/2014\n",
       "664 700.76 434.0266    38.063    38.063        23/08/2014 29/08/2014 29/08/2014\n",
       "665 735.03 416.2049    43.376    43.376        30/08/2014 05/09/2014 05/09/2014\n",
       "... ...    ...       ...        ...            ...        ...        ...       \n",
       "673 822.83 474.70040   42.309    42.309        25/10/2014 31/10/2014 31/10/2014\n",
       "674 822.83 476.42421   42.099    42.099        01/11/2014 07/11/2014 07/11/2014\n",
       "675 822.83 468.43285   43.071    43.071        08/11/2014 14/11/2014 14/11/2014\n",
       "676 822.83 465.31798   43.449    43.449        15/11/2014 21/11/2014 21/11/2014\n",
       "677 822.83 465.94366   43.373    43.373        22/11/2014 28/11/2014 28/11/2014\n",
       "679 677.68 414.72503   38.802    38.802        06/12/2014 12/12/2014 12/12/2014\n",
       "680 665.96 446.58423   32.941    32.941        13/12/2014 19/12/2014 19/12/2014\n",
       "681 658.73 460.78906   30.049    30.049        20/12/2014 26/12/2014 26/12/2014\n",
       "711 236.51 307.50892  -30.019    30.019        11/07/2015 17/07/2015 17/07/2015\n",
       "714 120.67 248.82186 -106.200   106.200        01/08/2015 07/08/2015 07/08/2015\n",
       "718 279.01 140.40195   49.679    49.679        29/08/2015 04/09/2015 04/09/2015\n",
       "728 215.58 333.61341  -54.752    54.752        07/11/2015 13/11/2015 13/11/2015\n",
       "729 194.23 313.11439  -61.208    61.208        14/11/2015 20/11/2015 20/11/2015\n",
       "730 214.12 298.86950  -39.580    39.580        21/11/2015 27/11/2015 27/11/2015\n",
       "731 153.84 291.11088  -89.230    89.230        28/11/2015 04/12/2015 04/12/2015\n",
       "732 140.31 242.01979  -72.489    72.489        05/12/2015 11/12/2015 11/12/2015\n",
       "733 114.93 184.01660  -60.112    60.112        12/12/2015 18/12/2015 18/12/2015\n",
       "735  52.33 188.17967 -259.602   259.602        26/12/2015 01/01/2016 01/01/2016\n",
       "736  48.02  81.46076  -69.639    69.639        02/01/2016 08/01/2016 08/01/2016\n",
       "737  37.64  49.01249  -30.214    30.214        09/01/2016 15/01/2016 15/01/2016\n",
       "745  54.30  31.53174   41.930    41.930        05/03/2016 11/03/2016 11/03/2016\n",
       "746  30.65  49.48123  -61.440    61.440        12/03/2016 18/03/2016 18/03/2016\n",
       "748  46.96  23.39580   50.179    50.179        26/03/2016 01/04/2016 01/04/2016\n",
       "753  86.99  52.92044   39.165    39.165        30/04/2016 06/05/2016 06/05/2016\n",
       "766 119.01  73.75957   38.022    38.022        30/07/2016 05/08/2016 05/08/2016\n",
       "770 148.65  94.03221   36.743    36.743        27/08/2016 02/09/2016 02/09/2016\n",
       "780 186.33 256.20559  -37.501    37.501        05/11/2016 11/11/2016 11/11/2016\n",
       "784 102.90 155.76807  -51.378    51.378        03/12/2016 09/12/2016 09/12/2016\n",
       "789 102.74 154.33836  -50.222    50.222        07/01/2017 13/01/2017 13/01/2017\n",
       "796 185.54 125.94121   32.122    32.122        25/02/2017 03/03/2017 03/03/2017\n",
       "    Year Month Wk_of_Month\n",
       "601 2013 6     2          \n",
       "604 2013 7     1          \n",
       "613 2013 9     1          \n",
       "635 2014 2     1          \n",
       "636 2014 2     2          \n",
       "637 2014 2     3          \n",
       "638 2014 2     4          \n",
       "639 2014 3     1          \n",
       "640 2014 3     2          \n",
       "641 2014 3     3          \n",
       "642 2014 3     4          \n",
       "643 2014 4     1          \n",
       "644 2014 4     2          \n",
       "645 2014 4     3          \n",
       "646 2014 4     4          \n",
       "647 2014 5     1          \n",
       "648 2014 5     2          \n",
       "649 2014 5     3          \n",
       "650 2014 5     4          \n",
       "651 2014 5     5          \n",
       "654 2014 6     3          \n",
       "655 2014 6     4          \n",
       "657 2014 7     2          \n",
       "658 2014 7     3          \n",
       "659 2014 7     4          \n",
       "661 2014 8     2          \n",
       "662 2014 8     3          \n",
       "663 2014 8     4          \n",
       "664 2014 8     5          \n",
       "665 2014 9     1          \n",
       "... ...  ...   ...        \n",
       "673 2014 10    5          \n",
       "674 2014 11    1          \n",
       "675 2014 11    2          \n",
       "676 2014 11    3          \n",
       "677 2014 11    4          \n",
       "679 2014 12    2          \n",
       "680 2014 12    3          \n",
       "681 2014 12    4          \n",
       "711 2015 7     3          \n",
       "714 2015 8     1          \n",
       "718 2015 9     1          \n",
       "728 2015 11    2          \n",
       "729 2015 11    3          \n",
       "730 2015 11    4          \n",
       "731 2015 12    1          \n",
       "732 2015 12    2          \n",
       "733 2015 12    3          \n",
       "735 2016 1     1          \n",
       "736 2016 1     2          \n",
       "737 2016 1     3          \n",
       "745 2016 3     2          \n",
       "746 2016 3     3          \n",
       "748 2016 3     5          \n",
       "753 2016 5     1          \n",
       "766 2016 8     1          \n",
       "770 2016 9     1          \n",
       "780 2016 11    2          \n",
       "784 2016 12    2          \n",
       "789 2017 1     2          \n",
       "796 2017 3     1          "
      ]
     },
     "metadata": {},
     "output_type": "display_data"
    }
   ],
   "source": [
    "# Finding the rows with absolute % errors above 30%\n",
    "subset(rtp, abs_perc_error > 30)"
   ]
  },
  {
   "cell_type": "code",
   "execution_count": 200,
   "metadata": {
    "collapsed": false
   },
   "outputs": [
    {
     "name": "stdout",
     "output_type": "stream",
     "text": [
      "[1] \" GBM - Number of forecasts with abs. error > 10%: 137\"\n",
      "[1] \" GBM - Number of forecasts with abs. error > 20%: 93\"\n",
      "[1] \" GBM - Number of forecasts with abs. error > 30%: 67\"\n"
     ]
    }
   ],
   "source": [
    "# Finding the number of rows with absolute % errors above 10%, 20%, 30%\n",
    "\n",
    "print(paste0(\" GBM - Number of forecasts with abs. error > 10%: \",nrow(subset(rtp, abs_perc_error > 10))))\n",
    "print(paste0(\" GBM - Number of forecasts with abs. error > 20%: \",nrow(subset(rtp, abs_perc_error > 20))))\n",
    "print(paste0(\" GBM - Number of forecasts with abs. error > 30%: \",nrow(subset(rtp, abs_perc_error > 30))))"
   ]
  },
  {
   "cell_type": "code",
   "execution_count": 201,
   "metadata": {
    "collapsed": false
   },
   "outputs": [
    {
     "data": {},
     "metadata": {},
     "output_type": "display_data"
    },
    {
     "data": {
      "image/png": "[encoded data removed]",
      "text/plain": [
       "plot without title"
      ]
     },
     "metadata": {},
     "output_type": "display_data"
    }
   ],
   "source": [
    "ggplot(rtp, aes(x = Month, y = perc_error)) + geom_boxplot(colour = \"darkcyan\", fill = \"blanchedalmond\") + ggtitle(\"Box-Plot of Percentage Errors - GBM prediction\")"
   ]
  },
  {
   "cell_type": "code",
   "execution_count": 202,
   "metadata": {
    "collapsed": false
   },
   "outputs": [
    {
     "data": {},
     "metadata": {},
     "output_type": "display_data"
    },
    {
     "data": {
      "image/png": "[encoded data removed]",
      "text/plain": [
       "plot without title"
      ]
     },
     "metadata": {},
     "output_type": "display_data"
    }
   ],
   "source": [
    "ggplot(rtp, aes(x = Month, y = abs_perc_error)) + geom_boxplot(colour = \"navy\", fill = \"blanchedalmond\") + ggtitle(\"Box-Plot of ABSOLUTE Percentage Errors - GBM prediction\")"
   ]
  },
  {
   "cell_type": "code",
   "execution_count": 203,
   "metadata": {
    "collapsed": false
   },
   "outputs": [
    {
     "data": {},
     "metadata": {},
     "output_type": "display_data"
    },
    {
     "data": {
      "image/png": "[encoded data removed]",
      "text/plain": [
       "plot without title"
      ]
     },
     "metadata": {},
     "output_type": "display_data"
    }
   ],
   "source": [
    "ggplot(rtp, aes(x = Year, y = perc_error)) + geom_boxplot(colour = \"coral2\", fill = \"bisque2\") + ggtitle(\"Box-Plot of Percentage Errors - GBM prediction\")"
   ]
  },
  {
   "cell_type": "code",
   "execution_count": 204,
   "metadata": {
    "collapsed": false
   },
   "outputs": [
    {
     "data": {},
     "metadata": {},
     "output_type": "display_data"
    },
    {
     "data": {
      "image/png": "[encoded data removed]",
      "text/plain": [
       "plot without title"
      ]
     },
     "metadata": {},
     "output_type": "display_data"
    }
   ],
   "source": [
    "ggplot(rtp, aes(x = Year, y = abs_perc_error)) + geom_boxplot(colour = \"navy\", fill = \"bisque2\") + ggtitle(\"Box-Plot of ABSOLUTE Percentage Errors - GBM prediction\")"
   ]
  },
  {
   "cell_type": "markdown",
   "metadata": {
    "collapsed": true
   },
   "source": [
    "### Forecasting using LASSO"
   ]
  },
  {
   "cell_type": "code",
   "execution_count": 205,
   "metadata": {
    "collapsed": false
   },
   "outputs": [],
   "source": [
    "# to make results replicable\n",
    "set.seed(123)\n",
    "# load libraries\n",
    "instala_pacote(\"glmnet\")\n",
    "library(glmnet) # to fit a LASSO model"
   ]
  },
  {
   "cell_type": "code",
   "execution_count": 206,
   "metadata": {
    "collapsed": true
   },
   "outputs": [],
   "source": [
    "# define response variable and predictor variables\n",
    "response_column <- 4 # Spot Price (medium load) is the 4th column in the dataframe\n",
    "train_X <- data.matrix(dst_train_small[, -response_column])\n",
    "train_y <- dst_train_small$Price_Medium\n",
    "\n",
    "# use cv.glmnet with 10-fold cross-validation to pick lambda\n",
    "lasso1 <- cv.glmnet(x = train_X, \n",
    "                    y = train_y, \n",
    "                    alpha = 1, \n",
    "                    nfolds = 10, \n",
    "                    family = \"gaussian\", \n",
    "                    type.measure = \"mse\")"
   ]
  },
  {
   "cell_type": "code",
   "execution_count": 207,
   "metadata": {
    "collapsed": false
   },
   "outputs": [
    {
     "data": {
      "text/plain": [
       "           Length Class  Mode     \n",
       "lambda     86     -none- numeric  \n",
       "cvm        86     -none- numeric  \n",
       "cvsd       86     -none- numeric  \n",
       "cvup       86     -none- numeric  \n",
       "cvlo       86     -none- numeric  \n",
       "nzero      86     -none- numeric  \n",
       "name        1     -none- character\n",
       "glmnet.fit 12     elnet  list     \n",
       "lambda.min  1     -none- numeric  \n",
       "lambda.1se  1     -none- numeric  "
      ]
     },
     "metadata": {},
     "output_type": "display_data"
    }
   ],
   "source": [
    "summary(lasso1)"
   ]
  },
  {
   "cell_type": "code",
   "execution_count": 208,
   "metadata": {
    "collapsed": false
   },
   "outputs": [
    {
     "data": {
      "image/png": "[encoded data removed]",
      "text/plain": [
       "plot without title"
      ]
     },
     "metadata": {},
     "output_type": "display_data"
    }
   ],
   "source": [
    "options(repr.plot.width = 10, repr.plot.height = 5)\n",
    "plot(lasso1)"
   ]
  },
  {
   "cell_type": "markdown",
   "metadata": {},
   "source": [
    "In the plot above:\n",
    "The red dotted line shows the cross-validation error and the error bars show the uppper and lower standard deviation.\n",
    "The dotted vertical line to the left is for the optimal lambda that gives minimum mean cross-validation error.\n",
    "The vertical line to the right is for the lambda where cross-validation error falls within one standard error of the minimum error.\n",
    "\n",
    "The number of nonzero coefficients for different lambda is shown along the axis at the top. The values for lambda and associated coefficients are printed below."
   ]
  },
  {
   "cell_type": "markdown",
   "metadata": {},
   "source": [
    "### Lambda that gives minimum mean cross-validated error:"
   ]
  },
  {
   "cell_type": "code",
   "execution_count": 209,
   "metadata": {
    "collapsed": false
   },
   "outputs": [
    {
     "data": {
      "text/html": [
       "0.6605"
      ],
      "text/latex": [
       "0.6605"
      ],
      "text/markdown": [
       "0.6605"
      ],
      "text/plain": [
       "[1] 0.6605"
      ]
     },
     "metadata": {},
     "output_type": "display_data"
    }
   ],
   "source": [
    "round(lasso1$lambda.min, 4)"
   ]
  },
  {
   "cell_type": "markdown",
   "metadata": {},
   "source": [
    "### Largest lambda with mean cross-validated error within 1 standard error of the minimum error:"
   ]
  },
  {
   "cell_type": "code",
   "execution_count": 210,
   "metadata": {
    "collapsed": false
   },
   "outputs": [
    {
     "data": {
      "text/html": [
       "6.7605"
      ],
      "text/latex": [
       "6.7605"
      ],
      "text/markdown": [
       "6.7605"
      ],
      "text/plain": [
       "[1] 6.7605"
      ]
     },
     "metadata": {},
     "output_type": "display_data"
    }
   ],
   "source": [
    "round(lasso1$lambda.1se, 4)"
   ]
  },
  {
   "cell_type": "markdown",
   "metadata": {},
   "source": [
    "### Coefficients based on lambda that gives minimum mean cross-validated error:"
   ]
  },
  {
   "cell_type": "code",
   "execution_count": 211,
   "metadata": {
    "collapsed": false
   },
   "outputs": [],
   "source": [
    "coefs_lasso = as.matrix(coef(lasso1, s = \"lambda.min\"))"
   ]
  },
  {
   "cell_type": "code",
   "execution_count": 212,
   "metadata": {
    "collapsed": false
   },
   "outputs": [],
   "source": [
    "# Create dataframe (df_coefs_lasso) with \"nice\" row and column names\n",
    "# Creates data frame with ALL lasso coefficients (including = 0)\n",
    "names = rownames(coefs_lasso)\n",
    "\n",
    "rownames(coefs_lasso) <- NULL\n",
    "df_coefs_lasso <- cbind(names,coefs_lasso)\n",
    "colnames(df_coefs_lasso) = c(\"Variable\", \"Coefficient\")\n",
    "\n",
    "# Convert to dataframe\n",
    "df_coefs_lasso = as.data.frame(df_coefs_lasso)   "
   ]
  },
  {
   "cell_type": "code",
   "execution_count": 213,
   "metadata": {
    "collapsed": false
   },
   "outputs": [
    {
     "data": {
      "text/html": [
       "<table>\n",
       "<thead><tr><th scope=col>Variable</th><th scope=col>Coefficient</th></tr></thead>\n",
       "<tbody>\n",
       "\t<tr><td>(Intercept)       </td><td>73.0365242768332  </td></tr>\n",
       "\t<tr><td>Year              </td><td>2.91616426555802  </td></tr>\n",
       "\t<tr><td>Month             </td><td>-2.32372608617624 </td></tr>\n",
       "\t<tr><td>Wk_of_Month       </td><td>-0.808941246663143</td></tr>\n",
       "\t<tr><td>Price_Medium_lag_1</td><td>0.826789438903539 </td></tr>\n",
       "\t<tr><td>Price_Medium_lag_2</td><td>0.0766494379631563</td></tr>\n",
       "</tbody>\n",
       "</table>\n"
      ],
      "text/latex": [
       "\\begin{tabular}{r|ll}\n",
       " Variable & Coefficient\\\\\n",
       "\\hline\n",
       "\t (Intercept)        & 73.0365242768332  \\\\\n",
       "\t Year               & 2.91616426555802  \\\\\n",
       "\t Month              & -2.32372608617624 \\\\\n",
       "\t Wk\\_of\\_Month        & -0.808941246663143    \\\\\n",
       "\t Price\\_Medium\\_lag\\_1 & 0.826789438903539       \\\\\n",
       "\t Price\\_Medium\\_lag\\_2 & 0.0766494379631563      \\\\\n",
       "\\end{tabular}\n"
      ],
      "text/markdown": [
       "\n",
       "Variable | Coefficient | \n",
       "|---|---|---|---|---|---|\n",
       "| (Intercept)        | 73.0365242768332   | \n",
       "| Year               | 2.91616426555802   | \n",
       "| Month              | -2.32372608617624  | \n",
       "| Wk_of_Month        | -0.808941246663143 | \n",
       "| Price_Medium_lag_1 | 0.826789438903539  | \n",
       "| Price_Medium_lag_2 | 0.0766494379631563 | \n",
       "\n",
       "\n"
      ],
      "text/plain": [
       "  Variable           Coefficient       \n",
       "1 (Intercept)        73.0365242768332  \n",
       "2 Year               2.91616426555802  \n",
       "3 Month              -2.32372608617624 \n",
       "4 Wk_of_Month        -0.808941246663143\n",
       "5 Price_Medium_lag_1 0.826789438903539 \n",
       "6 Price_Medium_lag_2 0.0766494379631563"
      ]
     },
     "metadata": {},
     "output_type": "display_data"
    }
   ],
   "source": [
    "head(df_coefs_lasso)"
   ]
  },
  {
   "cell_type": "code",
   "execution_count": 214,
   "metadata": {
    "collapsed": false
   },
   "outputs": [
    {
     "data": {
      "text/html": [
       "<table>\n",
       "<thead><tr><th></th><th scope=col>Variable</th><th scope=col>Coefficient</th></tr></thead>\n",
       "<tbody>\n",
       "\t<tr><th scope=row>22</th><td>ENA_Average_MW_lag_3 </td><td>-0.000309553948903491</td></tr>\n",
       "\t<tr><th scope=row>23</th><td>ENA_Average_MW_lag_4 </td><td>0                    </td></tr>\n",
       "\t<tr><th scope=row>24</th><td>ENA_Average_MW_lag_5 </td><td>0.0002057639995938   </td></tr>\n",
       "\t<tr><th scope=row>25</th><td>ENA_Average_MW_lag_6 </td><td>0                    </td></tr>\n",
       "\t<tr><th scope=row>26</th><td>ENA_Average_MW_lag_7 </td><td>0                    </td></tr>\n",
       "\t<tr><th scope=row>27</th><td>ENA_Average_MW_lag_8 </td><td>0                    </td></tr>\n",
       "</tbody>\n",
       "</table>\n"
      ],
      "text/latex": [
       "\\begin{tabular}{r|ll}\n",
       "  & Variable & Coefficient\\\\\n",
       "\\hline\n",
       "\t22 & ENA\\_Average\\_MW\\_lag\\_3 & -0.000309553948903491       \\\\\n",
       "\t23 & ENA\\_Average\\_MW\\_lag\\_4 & 0                           \\\\\n",
       "\t24 & ENA\\_Average\\_MW\\_lag\\_5 & 0.0002057639995938          \\\\\n",
       "\t25 & ENA\\_Average\\_MW\\_lag\\_6 & 0                           \\\\\n",
       "\t26 & ENA\\_Average\\_MW\\_lag\\_7 & 0                           \\\\\n",
       "\t27 & ENA\\_Average\\_MW\\_lag\\_8 & 0                           \\\\\n",
       "\\end{tabular}\n"
      ],
      "text/markdown": [
       "\n",
       "| <!--/--> | Variable | Coefficient | \n",
       "|---|---|---|---|---|---|\n",
       "| 22 | ENA_Average_MW_lag_3  | -0.000309553948903491 | \n",
       "| 23 | ENA_Average_MW_lag_4  | 0                     | \n",
       "| 24 | ENA_Average_MW_lag_5  | 0.0002057639995938    | \n",
       "| 25 | ENA_Average_MW_lag_6  | 0                     | \n",
       "| 26 | ENA_Average_MW_lag_7  | 0                     | \n",
       "| 27 | ENA_Average_MW_lag_8  | 0                     | \n",
       "\n",
       "\n"
      ],
      "text/plain": [
       "   Variable             Coefficient          \n",
       "22 ENA_Average_MW_lag_3 -0.000309553948903491\n",
       "23 ENA_Average_MW_lag_4 0                    \n",
       "24 ENA_Average_MW_lag_5 0.0002057639995938   \n",
       "25 ENA_Average_MW_lag_6 0                    \n",
       "26 ENA_Average_MW_lag_7 0                    \n",
       "27 ENA_Average_MW_lag_8 0                    "
      ]
     },
     "metadata": {},
     "output_type": "display_data"
    }
   ],
   "source": [
    "tail(df_coefs_lasso)   "
   ]
  },
  {
   "cell_type": "code",
   "execution_count": 215,
   "metadata": {
    "collapsed": false
   },
   "outputs": [],
   "source": [
    "# Create dataframe with only variables whose coefficients are different from zero\n",
    "df_coefs_lasso_gt_0 = subset(df_coefs_lasso, Coefficient !=0)"
   ]
  },
  {
   "cell_type": "code",
   "execution_count": 219,
   "metadata": {
    "collapsed": false
   },
   "outputs": [
    {
     "data": {
      "text/html": [
       "<table>\n",
       "<thead><tr><th></th><th scope=col>Variable</th><th scope=col>Coefficient</th></tr></thead>\n",
       "<tbody>\n",
       "\t<tr><th scope=row>1</th><td>(Intercept)            </td><td>73.0365242768332       </td></tr>\n",
       "\t<tr><th scope=row>2</th><td>Year                   </td><td>2.91616426555802       </td></tr>\n",
       "\t<tr><th scope=row>3</th><td>Month                  </td><td>-2.32372608617624      </td></tr>\n",
       "\t<tr><th scope=row>4</th><td>Wk_of_Month            </td><td>-0.808941246663143     </td></tr>\n",
       "\t<tr><th scope=row>5</th><td>Price_Medium_lag_1     </td><td>0.826789438903539      </td></tr>\n",
       "\t<tr><th scope=row>6</th><td>Price_Medium_lag_2     </td><td>0.0766494379631563     </td></tr>\n",
       "\t<tr><th scope=row>7</th><td>Price_Medium_lag_3     </td><td>-0.173129397549443     </td></tr>\n",
       "\t<tr><th scope=row>10</th><td>Price_Medium_lag_6     </td><td>0.118373387521365      </td></tr>\n",
       "\t<tr><th scope=row>12</th><td>SE_EAR_Average_MW_lag_1</td><td>-0.000125917976740713  </td></tr>\n",
       "\t<tr><th scope=row>13</th><td>SE_EAR_Average_MW_lag_2</td><td>-0.000222788190820093  </td></tr>\n",
       "\t<tr><th scope=row>20</th><td>ENA_Average_MW_lag_1   </td><td>-0.000213735952932975  </td></tr>\n",
       "\t<tr><th scope=row>21</th><td>ENA_Average_MW_lag_2   </td><td>-0.00023914723243012   </td></tr>\n",
       "\t<tr><th scope=row>22</th><td>ENA_Average_MW_lag_3   </td><td>-0.000309553948903491  </td></tr>\n",
       "\t<tr><th scope=row>24</th><td>ENA_Average_MW_lag_5   </td><td>0.0002057639995938     </td></tr>\n",
       "</tbody>\n",
       "</table>\n"
      ],
      "text/latex": [
       "\\begin{tabular}{r|ll}\n",
       "  & Variable & Coefficient\\\\\n",
       "\\hline\n",
       "\t1 & (Intercept)             & 73.0365242768332       \\\\\n",
       "\t2 & Year                    & 2.91616426555802       \\\\\n",
       "\t3 & Month                   & -2.32372608617624      \\\\\n",
       "\t4 & Wk\\_of\\_Month             & -0.808941246663143         \\\\\n",
       "\t5 & Price\\_Medium\\_lag\\_1      & 0.826789438903539            \\\\\n",
       "\t6 & Price\\_Medium\\_lag\\_2      & 0.0766494379631563           \\\\\n",
       "\t7 & Price\\_Medium\\_lag\\_3      & -0.173129397549443           \\\\\n",
       "\t10 & Price\\_Medium\\_lag\\_6      & 0.118373387521365            \\\\\n",
       "\t12 & SE\\_EAR\\_Average\\_MW\\_lag\\_1 & -0.000125917976740713            \\\\\n",
       "\t13 & SE\\_EAR\\_Average\\_MW\\_lag\\_2 & -0.000222788190820093            \\\\\n",
       "\t20 & ENA\\_Average\\_MW\\_lag\\_1    & -0.000213735952932975          \\\\\n",
       "\t21 & ENA\\_Average\\_MW\\_lag\\_2    & -0.00023914723243012           \\\\\n",
       "\t22 & ENA\\_Average\\_MW\\_lag\\_3    & -0.000309553948903491          \\\\\n",
       "\t24 & ENA\\_Average\\_MW\\_lag\\_5    & 0.0002057639995938             \\\\\n",
       "\\end{tabular}\n"
      ],
      "text/markdown": [
       "\n",
       "| <!--/--> | Variable | Coefficient | \n",
       "|---|---|---|---|---|---|---|---|---|---|---|---|---|---|\n",
       "| 1 | (Intercept)             | 73.0365242768332        | \n",
       "| 2 | Year                    | 2.91616426555802        | \n",
       "| 3 | Month                   | -2.32372608617624       | \n",
       "| 4 | Wk_of_Month             | -0.808941246663143      | \n",
       "| 5 | Price_Medium_lag_1      | 0.826789438903539       | \n",
       "| 6 | Price_Medium_lag_2      | 0.0766494379631563      | \n",
       "| 7 | Price_Medium_lag_3      | -0.173129397549443      | \n",
       "| 10 | Price_Medium_lag_6      | 0.118373387521365       | \n",
       "| 12 | SE_EAR_Average_MW_lag_1 | -0.000125917976740713   | \n",
       "| 13 | SE_EAR_Average_MW_lag_2 | -0.000222788190820093   | \n",
       "| 20 | ENA_Average_MW_lag_1    | -0.000213735952932975   | \n",
       "| 21 | ENA_Average_MW_lag_2    | -0.00023914723243012    | \n",
       "| 22 | ENA_Average_MW_lag_3    | -0.000309553948903491   | \n",
       "| 24 | ENA_Average_MW_lag_5    | 0.0002057639995938      | \n",
       "\n",
       "\n"
      ],
      "text/plain": [
       "   Variable                Coefficient          \n",
       "1  (Intercept)             73.0365242768332     \n",
       "2  Year                    2.91616426555802     \n",
       "3  Month                   -2.32372608617624    \n",
       "4  Wk_of_Month             -0.808941246663143   \n",
       "5  Price_Medium_lag_1      0.826789438903539    \n",
       "6  Price_Medium_lag_2      0.0766494379631563   \n",
       "7  Price_Medium_lag_3      -0.173129397549443   \n",
       "10 Price_Medium_lag_6      0.118373387521365    \n",
       "12 SE_EAR_Average_MW_lag_1 -0.000125917976740713\n",
       "13 SE_EAR_Average_MW_lag_2 -0.000222788190820093\n",
       "20 ENA_Average_MW_lag_1    -0.000213735952932975\n",
       "21 ENA_Average_MW_lag_2    -0.00023914723243012 \n",
       "22 ENA_Average_MW_lag_3    -0.000309553948903491\n",
       "24 ENA_Average_MW_lag_5    0.0002057639995938   "
      ]
     },
     "metadata": {},
     "output_type": "display_data"
    }
   ],
   "source": [
    "head(df_coefs_lasso_gt_0, 20)"
   ]
  },
  {
   "cell_type": "code",
   "execution_count": null,
   "metadata": {
    "collapsed": false
   },
   "outputs": [],
   "source": []
  },
  {
   "cell_type": "markdown",
   "metadata": {},
   "source": [
    "### Varying lambda\n",
    "\n",
    "While the model selected by cv.glmnet() can be used for making predictions, we also want to better understand how the values of lambda impact the estimated coefficients. \n",
    "\n",
    "Such information can be produced by the glmnet() function.\n",
    "\n",
    "In the plot that's generated below, it can be observed that by increasing the value of lambda, the regression parameters are increasingly penalised, and thus move closer to zero.\n",
    "\n",
    "In the lambda plot below, you can see how the coefficients gradually decrease in value as lambda increaes. \n",
    "\n",
    "\n",
    "This shows the value of LASSO regression: the algorithm deals very well with problematic predictors, for example situations where the predictors are higly correlated with one another (multi-collinearity).\n"
   ]
  },
  {
   "cell_type": "code",
   "execution_count": 220,
   "metadata": {
    "collapsed": false
   },
   "outputs": [
    {
     "data": {
      "image/png": "[encoded data removed]",
      "text/plain": [
       "plot without title"
      ]
     },
     "metadata": {},
     "output_type": "display_data"
    }
   ],
   "source": [
    "lasso2 <- glmnet(x = train_X, \n",
    "                 y = train_y, \n",
    "                 alpha = 1, \n",
    "                 family = \"gaussian\")\n",
    "\n",
    "# identify variable names\n",
    "vn = colnames(train_X)\n",
    "vid <- as.character(seq(1, length(vn)))\n",
    "\n",
    "# check and exclude the variables with coefficient value 0 \n",
    "vnat = coef(lasso2)   # Sparse matrix with lasso coeffs and values\n",
    "vnat_f <- vnat[-1, ncol(vnat)] # Delete intercept\n",
    "vid <- vid[vnat_f != 0] # Select indexes of nonzero coefficients\n",
    "vn <- vn[vnat_f != 0]   # Select only variables with coefficients different from zero\n",
    "\n",
    "# define the legend description, line type, and line color\n",
    "nvars <- length(vn)\n",
    "legend_desc <- paste(vid, vn, sep=\": \")\n",
    "mylty <- rep(1,nvars)\n",
    "mycl <- seq(1,nvars)\n",
    "\n",
    "# plot\n",
    "options(repr.plot.width = 11, repr.plot.height = 8)\n",
    "plot(lasso2, xvar = \"lambda\", label = TRUE, col = mycl, xlim = c(-6, 3))\n",
    "legend(-5.5, 1.5, legend_desc, lty = mylty, col = mycl, cex = 0.7) "
   ]
  },
  {
   "cell_type": "code",
   "execution_count": 222,
   "metadata": {
    "collapsed": false
   },
   "outputs": [],
   "source": [
    "#  Forecasting with lasso (and lambda.min)\n",
    "newdata <- data.matrix(dst_test_small[, -response_column])  # eliminates response column from dataframe \"newdata\"\n",
    "pred_lasso <- predict(lasso1, newx = newdata, s = \"lambda.min\")"
   ]
  },
  {
   "cell_type": "code",
   "execution_count": 224,
   "metadata": {
    "collapsed": false
   },
   "outputs": [],
   "source": [
    "# This entire cell fixes indexing and column/row name problems\n",
    "\n",
    "actual = as.matrix(dst_test_small$Price_Medium)\n",
    "row.names(actual) <- 1:nrow(actual)\n",
    "\n",
    "row.names(pred_lasso) <- 1:nrow(pred_lasso)\n",
    "colnames(pred_lasso) = NULL\n",
    "\n",
    "perc_error_lasso = round(100*((actual-pred_lasso)/actual), digits = 3) # percentage errors\n",
    "abs_perc_error_lasso = abs(perc_error_lasso)  # ABSOLUTE percentage errors\n",
    "row.names(perc_error_lasso) <- 1:nrow(perc_error_lasso)\n",
    "colnames(perc_error_lasso) = NULL"
   ]
  },
  {
   "cell_type": "code",
   "execution_count": 225,
   "metadata": {
    "collapsed": false
   },
   "outputs": [],
   "source": [
    "# Creates data frame with lasso forecasts and errors\n",
    "result_test_period_lasso = data.frame(actual, forecast = pred_lasso, perc_error_lasso, abs_perc_error_lasso)"
   ]
  },
  {
   "cell_type": "code",
   "execution_count": 226,
   "metadata": {
    "collapsed": false
   },
   "outputs": [
    {
     "data": {
      "text/plain": [
       "     actual          forecast      perc_error_lasso   abs_perc_error_lasso\n",
       " Min.   : 30.25   Min.   : 48.26   Min.   :-273.879   Min.   :  0.122     \n",
       " 1st Qu.:131.09   1st Qu.:168.29   1st Qu.: -27.934   1st Qu.:  6.321     \n",
       " Median :254.33   Median :253.82   Median :  -3.402   Median : 12.898     \n",
       " Mean   :331.40   Mean   :333.11   Mean   : -18.199   Mean   : 26.577     \n",
       " 3rd Qu.:388.48   3rd Qu.:423.60   3rd Qu.:   7.571   3rd Qu.: 30.997     \n",
       " Max.   :822.83   Max.   :774.27   Max.   :  43.561   Max.   :273.879     "
      ]
     },
     "metadata": {},
     "output_type": "display_data"
    }
   ],
   "source": [
    "# Summary of forecasts and errors\n",
    "summary(result_test_period_lasso)"
   ]
  },
  {
   "cell_type": "code",
   "execution_count": 227,
   "metadata": {
    "collapsed": true
   },
   "outputs": [],
   "source": [
    "# Creates data frame with lasso forecasts, errors and date information\n",
    "rtp_lasso = cbind(result_test_period_lasso,dst_test[,c(1,2,3,8,9,10)])  # Contains results and date/time information - will be useful in plotting"
   ]
  },
  {
   "cell_type": "code",
   "execution_count": 228,
   "metadata": {
    "collapsed": false
   },
   "outputs": [
    {
     "data": {
      "text/html": [
       "<table>\n",
       "<thead><tr><th scope=col>actual</th><th scope=col>forecast</th><th scope=col>perc_error_lasso</th><th scope=col>abs_perc_error_lasso</th><th scope=col>Start.Date</th><th scope=col>End.Date</th><th scope=col>Date</th><th scope=col>Year</th><th scope=col>Month</th><th scope=col>Wk_of_Month</th></tr></thead>\n",
       "<tbody>\n",
       "\t<tr><td>356.80    </td><td>334.0123  </td><td>  6.387   </td><td> 6.387    </td><td>18/05/2013</td><td>24/05/2013</td><td>24/05/2013</td><td>2013      </td><td>5         </td><td>4         </td></tr>\n",
       "\t<tr><td>357.29    </td><td>317.8061  </td><td> 11.051   </td><td>11.051    </td><td>25/05/2013</td><td>31/05/2013</td><td>31/05/2013</td><td>2013      </td><td>5         </td><td>5         </td></tr>\n",
       "\t<tr><td>324.69    </td><td>311.6086  </td><td>  4.029   </td><td> 4.029    </td><td>01/06/2013</td><td>07/06/2013</td><td>07/06/2013</td><td>2013      </td><td>6         </td><td>1         </td></tr>\n",
       "\t<tr><td>180.95    </td><td>297.0899  </td><td>-64.183   </td><td>64.183    </td><td>08/06/2013</td><td>14/06/2013</td><td>14/06/2013</td><td>2013      </td><td>6         </td><td>2         </td></tr>\n",
       "\t<tr><td>193.93    </td><td>178.9803  </td><td>  7.709   </td><td> 7.709    </td><td>15/06/2013</td><td>21/06/2013</td><td>21/06/2013</td><td>2013      </td><td>6         </td><td>3         </td></tr>\n",
       "\t<tr><td>167.90    </td><td>184.1652  </td><td> -9.687   </td><td> 9.687    </td><td>22/06/2013</td><td>28/06/2013</td><td>28/06/2013</td><td>2013      </td><td>6         </td><td>4         </td></tr>\n",
       "</tbody>\n",
       "</table>\n"
      ],
      "text/latex": [
       "\\begin{tabular}{r|llllllllll}\n",
       " actual & forecast & perc\\_error\\_lasso & abs\\_perc\\_error\\_lasso & Start.Date & End.Date & Date & Year & Month & Wk\\_of\\_Month\\\\\n",
       "\\hline\n",
       "\t 356.80     & 334.0123   &   6.387    &  6.387     & 18/05/2013 & 24/05/2013 & 24/05/2013 & 2013       & 5          & 4         \\\\\n",
       "\t 357.29     & 317.8061   &  11.051    & 11.051     & 25/05/2013 & 31/05/2013 & 31/05/2013 & 2013       & 5          & 5         \\\\\n",
       "\t 324.69     & 311.6086   &   4.029    &  4.029     & 01/06/2013 & 07/06/2013 & 07/06/2013 & 2013       & 6          & 1         \\\\\n",
       "\t 180.95     & 297.0899   & -64.183    & 64.183     & 08/06/2013 & 14/06/2013 & 14/06/2013 & 2013       & 6          & 2         \\\\\n",
       "\t 193.93     & 178.9803   &   7.709    &  7.709     & 15/06/2013 & 21/06/2013 & 21/06/2013 & 2013       & 6          & 3         \\\\\n",
       "\t 167.90     & 184.1652   &  -9.687    &  9.687     & 22/06/2013 & 28/06/2013 & 28/06/2013 & 2013       & 6          & 4         \\\\\n",
       "\\end{tabular}\n"
      ],
      "text/markdown": [
       "\n",
       "actual | forecast | perc_error_lasso | abs_perc_error_lasso | Start.Date | End.Date | Date | Year | Month | Wk_of_Month | \n",
       "|---|---|---|---|---|---|\n",
       "| 356.80     | 334.0123   |   6.387    |  6.387     | 18/05/2013 | 24/05/2013 | 24/05/2013 | 2013       | 5          | 4          | \n",
       "| 357.29     | 317.8061   |  11.051    | 11.051     | 25/05/2013 | 31/05/2013 | 31/05/2013 | 2013       | 5          | 5          | \n",
       "| 324.69     | 311.6086   |   4.029    |  4.029     | 01/06/2013 | 07/06/2013 | 07/06/2013 | 2013       | 6          | 1          | \n",
       "| 180.95     | 297.0899   | -64.183    | 64.183     | 08/06/2013 | 14/06/2013 | 14/06/2013 | 2013       | 6          | 2          | \n",
       "| 193.93     | 178.9803   |   7.709    |  7.709     | 15/06/2013 | 21/06/2013 | 21/06/2013 | 2013       | 6          | 3          | \n",
       "| 167.90     | 184.1652   |  -9.687    |  9.687     | 22/06/2013 | 28/06/2013 | 28/06/2013 | 2013       | 6          | 4          | \n",
       "\n",
       "\n"
      ],
      "text/plain": [
       "  actual forecast perc_error_lasso abs_perc_error_lasso Start.Date End.Date  \n",
       "1 356.80 334.0123   6.387           6.387               18/05/2013 24/05/2013\n",
       "2 357.29 317.8061  11.051          11.051               25/05/2013 31/05/2013\n",
       "3 324.69 311.6086   4.029           4.029               01/06/2013 07/06/2013\n",
       "4 180.95 297.0899 -64.183          64.183               08/06/2013 14/06/2013\n",
       "5 193.93 178.9803   7.709           7.709               15/06/2013 21/06/2013\n",
       "6 167.90 184.1652  -9.687           9.687               22/06/2013 28/06/2013\n",
       "  Date       Year Month Wk_of_Month\n",
       "1 24/05/2013 2013 5     4          \n",
       "2 31/05/2013 2013 5     5          \n",
       "3 07/06/2013 2013 6     1          \n",
       "4 14/06/2013 2013 6     2          \n",
       "5 21/06/2013 2013 6     3          \n",
       "6 28/06/2013 2013 6     4          "
      ]
     },
     "metadata": {},
     "output_type": "display_data"
    }
   ],
   "source": [
    "head(rtp_lasso)"
   ]
  },
  {
   "cell_type": "code",
   "execution_count": 231,
   "metadata": {
    "collapsed": false
   },
   "outputs": [
    {
     "data": {
      "text/html": [
       "<table>\n",
       "<thead><tr><th></th><th scope=col>actual</th><th scope=col>forecast</th><th scope=col>perc_error_lasso</th><th scope=col>abs_perc_error_lasso</th><th scope=col>Start.Date</th><th scope=col>End.Date</th><th scope=col>Date</th><th scope=col>Year</th><th scope=col>Month</th><th scope=col>Wk_of_Month</th></tr></thead>\n",
       "<tbody>\n",
       "\t<tr><th scope=row>4</th><td>180.95    </td><td>297.08992 </td><td> -64.183  </td><td> 64.183   </td><td>08/06/2013</td><td>14/06/2013</td><td>14/06/2013</td><td>2013      </td><td>6         </td><td>2         </td></tr>\n",
       "\t<tr><th scope=row>7</th><td> 98.56    </td><td>190.09815 </td><td> -92.876  </td><td> 92.876   </td><td>29/06/2013</td><td>05/07/2013</td><td>05/07/2013</td><td>2013      </td><td>7         </td><td>1         </td></tr>\n",
       "\t<tr><th scope=row>16</th><td>259.04    </td><td>172.91896 </td><td>  33.246  </td><td> 33.246   </td><td>31/08/2013</td><td>06/09/2013</td><td>06/09/2013</td><td>2013      </td><td>9         </td><td>1         </td></tr>\n",
       "\t<tr><th scope=row>38</th><td>822.83    </td><td>464.39580 </td><td>  43.561  </td><td> 43.561   </td><td>01/02/2014</td><td>07/02/2014</td><td>07/02/2014</td><td>2014      </td><td>2         </td><td>1         </td></tr>\n",
       "\t<tr><th scope=row>56</th><td>333.80    </td><td>564.79562 </td><td> -69.202  </td><td> 69.202   </td><td>07/06/2014</td><td>13/06/2014</td><td>13/06/2014</td><td>2014      </td><td>6         </td><td>2         </td></tr>\n",
       "\t<tr><th scope=row>59</th><td>398.95    </td><td>540.12151 </td><td> -35.386  </td><td> 35.386   </td><td>28/06/2014</td><td>04/07/2014</td><td>04/07/2014</td><td>2014      </td><td>7         </td><td>1         </td></tr>\n",
       "\t<tr><th scope=row>64</th><td>815.92    </td><td>537.76502 </td><td>  34.091  </td><td> 34.091   </td><td>02/08/2014</td><td>08/08/2014</td><td>08/08/2014</td><td>2014      </td><td>8         </td><td>2         </td></tr>\n",
       "\t<tr><th scope=row>81</th><td>549.18    </td><td>757.91550 </td><td> -38.009  </td><td> 38.009   </td><td>29/11/2014</td><td>05/12/2014</td><td>05/12/2014</td><td>2014      </td><td>12        </td><td>1         </td></tr>\n",
       "\t<tr><th scope=row>85</th><td>388.48    </td><td>651.47678 </td><td> -67.699  </td><td> 67.699   </td><td>27/12/2014</td><td>02/01/2015</td><td>02/01/2015</td><td>2015      </td><td>1         </td><td>1         </td></tr>\n",
       "\t<tr><th scope=row>114</th><td>236.51    </td><td>332.79014 </td><td> -40.709  </td><td> 40.709   </td><td>11/07/2015</td><td>17/07/2015</td><td>17/07/2015</td><td>2015      </td><td>7         </td><td>3         </td></tr>\n",
       "\t<tr><th scope=row>117</th><td>120.67    </td><td>247.50719 </td><td>-105.111  </td><td>105.111   </td><td>01/08/2015</td><td>07/08/2015</td><td>07/08/2015</td><td>2015      </td><td>8         </td><td>1         </td></tr>\n",
       "\t<tr><th scope=row>118</th><td>130.90    </td><td>178.52085 </td><td> -36.380  </td><td> 36.380   </td><td>08/08/2015</td><td>14/08/2015</td><td>14/08/2015</td><td>2015      </td><td>8         </td><td>2         </td></tr>\n",
       "\t<tr><th scope=row>120</th><td>142.07    </td><td>191.76687 </td><td> -34.981  </td><td> 34.981   </td><td>22/08/2015</td><td>28/08/2015</td><td>28/08/2015</td><td>2015      </td><td>8         </td><td>4         </td></tr>\n",
       "\t<tr><th scope=row>121</th><td>279.01    </td><td>191.06888 </td><td>  31.519  </td><td> 31.519   </td><td>29/08/2015</td><td>04/09/2015</td><td>04/09/2015</td><td>2015      </td><td>9         </td><td>1         </td></tr>\n",
       "\t<tr><th scope=row>123</th><td>203.46    </td><td>275.55790 </td><td> -35.436  </td><td> 35.436   </td><td>12/09/2015</td><td>18/09/2015</td><td>18/09/2015</td><td>2015      </td><td>9         </td><td>3         </td></tr>\n",
       "\t<tr><th scope=row>131</th><td>215.58    </td><td>280.33091 </td><td> -30.036  </td><td> 30.036   </td><td>07/11/2015</td><td>13/11/2015</td><td>13/11/2015</td><td>2015      </td><td>11        </td><td>2         </td></tr>\n",
       "\t<tr><th scope=row>134</th><td>153.84    </td><td>225.12661 </td><td> -46.338  </td><td> 46.338   </td><td>28/11/2015</td><td>04/12/2015</td><td>04/12/2015</td><td>2015      </td><td>12        </td><td>1         </td></tr>\n",
       "\t<tr><th scope=row>136</th><td>114.93    </td><td>157.97084 </td><td> -37.450  </td><td> 37.450   </td><td>12/12/2015</td><td>18/12/2015</td><td>18/12/2015</td><td>2015      </td><td>12        </td><td>3         </td></tr>\n",
       "\t<tr><th scope=row>138</th><td> 52.33    </td><td>195.65105 </td><td>-273.879  </td><td>273.879   </td><td>26/12/2015</td><td>01/01/2016</td><td>01/01/2016</td><td>2016      </td><td>1         </td><td>1         </td></tr>\n",
       "\t<tr><th scope=row>139</th><td> 48.02    </td><td>127.83307 </td><td>-166.208  </td><td>166.208   </td><td>02/01/2016</td><td>08/01/2016</td><td>08/01/2016</td><td>2016      </td><td>1         </td><td>2         </td></tr>\n",
       "\t<tr><th scope=row>140</th><td> 37.64    </td><td> 97.94498 </td><td>-160.215  </td><td>160.215   </td><td>09/01/2016</td><td>15/01/2016</td><td>15/01/2016</td><td>2016      </td><td>1         </td><td>3         </td></tr>\n",
       "\t<tr><th scope=row>141</th><td> 30.25    </td><td> 91.81750 </td><td>-203.529  </td><td>203.529   </td><td>16/01/2016</td><td>22/01/2016</td><td>22/01/2016</td><td>2016      </td><td>1         </td><td>4         </td></tr>\n",
       "\t<tr><th scope=row>142</th><td> 30.25    </td><td> 68.90305 </td><td>-127.779  </td><td>127.779   </td><td>23/01/2016</td><td>29/01/2016</td><td>29/01/2016</td><td>2016      </td><td>1         </td><td>5         </td></tr>\n",
       "\t<tr><th scope=row>143</th><td> 30.25    </td><td> 61.07822 </td><td>-101.911  </td><td>101.911   </td><td>30/01/2016</td><td>05/02/2016</td><td>05/02/2016</td><td>2016      </td><td>2         </td><td>1         </td></tr>\n",
       "\t<tr><th scope=row>144</th><td> 30.25    </td><td> 48.25899 </td><td> -59.534  </td><td> 59.534   </td><td>06/02/2016</td><td>12/02/2016</td><td>12/02/2016</td><td>2016      </td><td>2         </td><td>2         </td></tr>\n",
       "\t<tr><th scope=row>145</th><td> 30.25    </td><td> 62.31176 </td><td>-105.989  </td><td>105.989   </td><td>13/02/2016</td><td>19/02/2016</td><td>19/02/2016</td><td>2016      </td><td>2         </td><td>3         </td></tr>\n",
       "\t<tr><th scope=row>146</th><td> 30.25    </td><td> 77.75169 </td><td>-157.030  </td><td>157.030   </td><td>20/02/2016</td><td>26/02/2016</td><td>26/02/2016</td><td>2016      </td><td>2         </td><td>4         </td></tr>\n",
       "\t<tr><th scope=row>147</th><td> 33.25    </td><td> 76.34311 </td><td>-129.603  </td><td>129.603   </td><td>27/02/2016</td><td>04/03/2016</td><td>04/03/2016</td><td>2016      </td><td>3         </td><td>1         </td></tr>\n",
       "\t<tr><th scope=row>149</th><td> 30.65    </td><td> 77.69214 </td><td>-153.482  </td><td>153.482   </td><td>12/03/2016</td><td>18/03/2016</td><td>18/03/2016</td><td>2016      </td><td>3         </td><td>3         </td></tr>\n",
       "\t<tr><th scope=row>150</th><td> 30.25    </td><td> 52.85795 </td><td> -74.737  </td><td> 74.737   </td><td>19/03/2016</td><td>25/03/2016</td><td>25/03/2016</td><td>2016      </td><td>3         </td><td>4         </td></tr>\n",
       "\t<tr><th scope=row>152</th><td> 43.77    </td><td> 72.01921 </td><td> -64.540  </td><td> 64.540   </td><td>02/04/2016</td><td>08/04/2016</td><td>08/04/2016</td><td>2016      </td><td>4         </td><td>1         </td></tr>\n",
       "\t<tr><th scope=row>153</th><td> 48.24    </td><td> 76.62398 </td><td> -58.839  </td><td> 58.839   </td><td>09/04/2016</td><td>15/04/2016</td><td>15/04/2016</td><td>2016      </td><td>4         </td><td>2         </td></tr>\n",
       "\t<tr><th scope=row>154</th><td> 51.98    </td><td> 83.95158 </td><td> -61.507  </td><td> 61.507   </td><td>16/04/2016</td><td>22/04/2016</td><td>22/04/2016</td><td>2016      </td><td>4         </td><td>3         </td></tr>\n",
       "\t<tr><th scope=row>155</th><td> 51.41    </td><td> 87.47505 </td><td> -70.152  </td><td> 70.152   </td><td>23/04/2016</td><td>29/04/2016</td><td>29/04/2016</td><td>2016      </td><td>4         </td><td>4         </td></tr>\n",
       "\t<tr><th scope=row>157</th><td> 81.43    </td><td>119.88692 </td><td> -47.227  </td><td> 47.227   </td><td>07/05/2016</td><td>13/05/2016</td><td>13/05/2016</td><td>2016      </td><td>5         </td><td>2         </td></tr>\n",
       "\t<tr><th scope=row>158</th><td> 76.46    </td><td>115.32829 </td><td> -50.835  </td><td> 50.835   </td><td>14/05/2016</td><td>20/05/2016</td><td>20/05/2016</td><td>2016      </td><td>5         </td><td>3         </td></tr>\n",
       "\t<tr><th scope=row>159</th><td> 74.96    </td><td>103.25628 </td><td> -37.749  </td><td> 37.749   </td><td>21/05/2016</td><td>27/05/2016</td><td>27/05/2016</td><td>2016      </td><td>5         </td><td>4         </td></tr>\n",
       "\t<tr><th scope=row>160</th><td> 61.03    </td><td>102.70539 </td><td> -68.287  </td><td> 68.287   </td><td>28/05/2016</td><td>03/06/2016</td><td>03/06/2016</td><td>2016      </td><td>6         </td><td>1         </td></tr>\n",
       "\t<tr><th scope=row>161</th><td> 61.34    </td><td> 90.09190 </td><td> -46.873  </td><td> 46.873   </td><td>04/06/2016</td><td>10/06/2016</td><td>10/06/2016</td><td>2016      </td><td>6         </td><td>2         </td></tr>\n",
       "\t<tr><th scope=row>162</th><td> 60.23    </td><td> 89.98973 </td><td> -49.410  </td><td> 49.410   </td><td>11/06/2016</td><td>17/06/2016</td><td>17/06/2016</td><td>2016      </td><td>6         </td><td>3         </td></tr>\n",
       "\t<tr><th scope=row>163</th><td> 57.64    </td><td> 88.16494 </td><td> -52.958  </td><td> 52.958   </td><td>18/06/2016</td><td>24/06/2016</td><td>24/06/2016</td><td>2016      </td><td>6         </td><td>4         </td></tr>\n",
       "\t<tr><th scope=row>166</th><td> 87.05    </td><td>117.15684 </td><td> -34.586  </td><td> 34.586   </td><td>09/07/2016</td><td>15/07/2016</td><td>15/07/2016</td><td>2016      </td><td>7         </td><td>3         </td></tr>\n",
       "\t<tr><th scope=row>167</th><td> 80.51    </td><td>120.27963 </td><td> -49.397  </td><td> 49.397   </td><td>16/07/2016</td><td>22/07/2016</td><td>22/07/2016</td><td>2016      </td><td>7         </td><td>4         </td></tr>\n",
       "\t<tr><th scope=row>168</th><td> 78.47    </td><td>113.23994 </td><td> -44.310  </td><td> 44.310   </td><td>23/07/2016</td><td>29/07/2016</td><td>29/07/2016</td><td>2016      </td><td>7         </td><td>5         </td></tr>\n",
       "\t<tr><th scope=row>171</th><td>117.09    </td><td>153.47384 </td><td> -31.073  </td><td> 31.073   </td><td>13/08/2016</td><td>19/08/2016</td><td>19/08/2016</td><td>2016      </td><td>8         </td><td>3         </td></tr>\n",
       "\t<tr><th scope=row>172</th><td> 95.68    </td><td>146.80672 </td><td> -53.435  </td><td> 53.435   </td><td>20/08/2016</td><td>26/08/2016</td><td>26/08/2016</td><td>2016      </td><td>8         </td><td>4         </td></tr>\n",
       "\t<tr><th scope=row>183</th><td>186.33    </td><td>243.94350 </td><td> -30.920  </td><td> 30.920   </td><td>05/11/2016</td><td>11/11/2016</td><td>11/11/2016</td><td>2016      </td><td>11        </td><td>2         </td></tr>\n",
       "\t<tr><th scope=row>187</th><td>102.90    </td><td>166.58464 </td><td> -61.890  </td><td> 61.890   </td><td>03/12/2016</td><td>09/12/2016</td><td>09/12/2016</td><td>2016      </td><td>12        </td><td>2         </td></tr>\n",
       "\t<tr><th scope=row>190</th><td>113.95    </td><td>169.42957 </td><td> -48.688  </td><td> 48.688   </td><td>24/12/2016</td><td>31/12/2016</td><td>31/12/2016</td><td>2016      </td><td>12        </td><td>5         </td></tr>\n",
       "\t<tr><th scope=row>192</th><td>102.74    </td><td>187.90858 </td><td> -82.897  </td><td> 82.897   </td><td>07/01/2017</td><td>13/01/2017</td><td>13/01/2017</td><td>2017      </td><td>1         </td><td>2         </td></tr>\n",
       "\t<tr><th scope=row>194</th><td>131.27    </td><td>175.57113 </td><td> -33.748  </td><td> 33.748   </td><td>21/01/2017</td><td>27/01/2017</td><td>27/01/2017</td><td>2017      </td><td>1         </td><td>4         </td></tr>\n",
       "\t<tr><th scope=row>195</th><td>101.31    </td><td>180.63771 </td><td> -78.302  </td><td> 78.302   </td><td>28/01/2017</td><td>03/02/2017</td><td>03/02/2017</td><td>2017      </td><td>2         </td><td>1         </td></tr>\n",
       "</tbody>\n",
       "</table>\n"
      ],
      "text/latex": [
       "\\begin{tabular}{r|llllllllll}\n",
       "  & actual & forecast & perc\\_error\\_lasso & abs\\_perc\\_error\\_lasso & Start.Date & End.Date & Date & Year & Month & Wk\\_of\\_Month\\\\\n",
       "\\hline\n",
       "\t4 & 180.95     & 297.08992  &  -64.183   &  64.183    & 08/06/2013 & 14/06/2013 & 14/06/2013 & 2013       & 6          & 2         \\\\\n",
       "\t7 &  98.56     & 190.09815  &  -92.876   &  92.876    & 29/06/2013 & 05/07/2013 & 05/07/2013 & 2013       & 7          & 1         \\\\\n",
       "\t16 & 259.04     & 172.91896  &   33.246   &  33.246    & 31/08/2013 & 06/09/2013 & 06/09/2013 & 2013       & 9          & 1         \\\\\n",
       "\t38 & 822.83     & 464.39580  &   43.561   &  43.561    & 01/02/2014 & 07/02/2014 & 07/02/2014 & 2014       & 2          & 1         \\\\\n",
       "\t56 & 333.80     & 564.79562  &  -69.202   &  69.202    & 07/06/2014 & 13/06/2014 & 13/06/2014 & 2014       & 6          & 2         \\\\\n",
       "\t59 & 398.95     & 540.12151  &  -35.386   &  35.386    & 28/06/2014 & 04/07/2014 & 04/07/2014 & 2014       & 7          & 1         \\\\\n",
       "\t64 & 815.92     & 537.76502  &   34.091   &  34.091    & 02/08/2014 & 08/08/2014 & 08/08/2014 & 2014       & 8          & 2         \\\\\n",
       "\t81 & 549.18     & 757.91550  &  -38.009   &  38.009    & 29/11/2014 & 05/12/2014 & 05/12/2014 & 2014       & 12         & 1         \\\\\n",
       "\t85 & 388.48     & 651.47678  &  -67.699   &  67.699    & 27/12/2014 & 02/01/2015 & 02/01/2015 & 2015       & 1          & 1         \\\\\n",
       "\t114 & 236.51     & 332.79014  &  -40.709   &  40.709    & 11/07/2015 & 17/07/2015 & 17/07/2015 & 2015       & 7          & 3         \\\\\n",
       "\t117 & 120.67     & 247.50719  & -105.111   & 105.111    & 01/08/2015 & 07/08/2015 & 07/08/2015 & 2015       & 8          & 1         \\\\\n",
       "\t118 & 130.90     & 178.52085  &  -36.380   &  36.380    & 08/08/2015 & 14/08/2015 & 14/08/2015 & 2015       & 8          & 2         \\\\\n",
       "\t120 & 142.07     & 191.76687  &  -34.981   &  34.981    & 22/08/2015 & 28/08/2015 & 28/08/2015 & 2015       & 8          & 4         \\\\\n",
       "\t121 & 279.01     & 191.06888  &   31.519   &  31.519    & 29/08/2015 & 04/09/2015 & 04/09/2015 & 2015       & 9          & 1         \\\\\n",
       "\t123 & 203.46     & 275.55790  &  -35.436   &  35.436    & 12/09/2015 & 18/09/2015 & 18/09/2015 & 2015       & 9          & 3         \\\\\n",
       "\t131 & 215.58     & 280.33091  &  -30.036   &  30.036    & 07/11/2015 & 13/11/2015 & 13/11/2015 & 2015       & 11         & 2         \\\\\n",
       "\t134 & 153.84     & 225.12661  &  -46.338   &  46.338    & 28/11/2015 & 04/12/2015 & 04/12/2015 & 2015       & 12         & 1         \\\\\n",
       "\t136 & 114.93     & 157.97084  &  -37.450   &  37.450    & 12/12/2015 & 18/12/2015 & 18/12/2015 & 2015       & 12         & 3         \\\\\n",
       "\t138 &  52.33     & 195.65105  & -273.879   & 273.879    & 26/12/2015 & 01/01/2016 & 01/01/2016 & 2016       & 1          & 1         \\\\\n",
       "\t139 &  48.02     & 127.83307  & -166.208   & 166.208    & 02/01/2016 & 08/01/2016 & 08/01/2016 & 2016       & 1          & 2         \\\\\n",
       "\t140 &  37.64     &  97.94498  & -160.215   & 160.215    & 09/01/2016 & 15/01/2016 & 15/01/2016 & 2016       & 1          & 3         \\\\\n",
       "\t141 &  30.25     &  91.81750  & -203.529   & 203.529    & 16/01/2016 & 22/01/2016 & 22/01/2016 & 2016       & 1          & 4         \\\\\n",
       "\t142 &  30.25     &  68.90305  & -127.779   & 127.779    & 23/01/2016 & 29/01/2016 & 29/01/2016 & 2016       & 1          & 5         \\\\\n",
       "\t143 &  30.25     &  61.07822  & -101.911   & 101.911    & 30/01/2016 & 05/02/2016 & 05/02/2016 & 2016       & 2          & 1         \\\\\n",
       "\t144 &  30.25     &  48.25899  &  -59.534   &  59.534    & 06/02/2016 & 12/02/2016 & 12/02/2016 & 2016       & 2          & 2         \\\\\n",
       "\t145 &  30.25     &  62.31176  & -105.989   & 105.989    & 13/02/2016 & 19/02/2016 & 19/02/2016 & 2016       & 2          & 3         \\\\\n",
       "\t146 &  30.25     &  77.75169  & -157.030   & 157.030    & 20/02/2016 & 26/02/2016 & 26/02/2016 & 2016       & 2          & 4         \\\\\n",
       "\t147 &  33.25     &  76.34311  & -129.603   & 129.603    & 27/02/2016 & 04/03/2016 & 04/03/2016 & 2016       & 3          & 1         \\\\\n",
       "\t149 &  30.65     &  77.69214  & -153.482   & 153.482    & 12/03/2016 & 18/03/2016 & 18/03/2016 & 2016       & 3          & 3         \\\\\n",
       "\t150 &  30.25     &  52.85795  &  -74.737   &  74.737    & 19/03/2016 & 25/03/2016 & 25/03/2016 & 2016       & 3          & 4         \\\\\n",
       "\t152 &  43.77     &  72.01921  &  -64.540   &  64.540    & 02/04/2016 & 08/04/2016 & 08/04/2016 & 2016       & 4          & 1         \\\\\n",
       "\t153 &  48.24     &  76.62398  &  -58.839   &  58.839    & 09/04/2016 & 15/04/2016 & 15/04/2016 & 2016       & 4          & 2         \\\\\n",
       "\t154 &  51.98     &  83.95158  &  -61.507   &  61.507    & 16/04/2016 & 22/04/2016 & 22/04/2016 & 2016       & 4          & 3         \\\\\n",
       "\t155 &  51.41     &  87.47505  &  -70.152   &  70.152    & 23/04/2016 & 29/04/2016 & 29/04/2016 & 2016       & 4          & 4         \\\\\n",
       "\t157 &  81.43     & 119.88692  &  -47.227   &  47.227    & 07/05/2016 & 13/05/2016 & 13/05/2016 & 2016       & 5          & 2         \\\\\n",
       "\t158 &  76.46     & 115.32829  &  -50.835   &  50.835    & 14/05/2016 & 20/05/2016 & 20/05/2016 & 2016       & 5          & 3         \\\\\n",
       "\t159 &  74.96     & 103.25628  &  -37.749   &  37.749    & 21/05/2016 & 27/05/2016 & 27/05/2016 & 2016       & 5          & 4         \\\\\n",
       "\t160 &  61.03     & 102.70539  &  -68.287   &  68.287    & 28/05/2016 & 03/06/2016 & 03/06/2016 & 2016       & 6          & 1         \\\\\n",
       "\t161 &  61.34     &  90.09190  &  -46.873   &  46.873    & 04/06/2016 & 10/06/2016 & 10/06/2016 & 2016       & 6          & 2         \\\\\n",
       "\t162 &  60.23     &  89.98973  &  -49.410   &  49.410    & 11/06/2016 & 17/06/2016 & 17/06/2016 & 2016       & 6          & 3         \\\\\n",
       "\t163 &  57.64     &  88.16494  &  -52.958   &  52.958    & 18/06/2016 & 24/06/2016 & 24/06/2016 & 2016       & 6          & 4         \\\\\n",
       "\t166 &  87.05     & 117.15684  &  -34.586   &  34.586    & 09/07/2016 & 15/07/2016 & 15/07/2016 & 2016       & 7          & 3         \\\\\n",
       "\t167 &  80.51     & 120.27963  &  -49.397   &  49.397    & 16/07/2016 & 22/07/2016 & 22/07/2016 & 2016       & 7          & 4         \\\\\n",
       "\t168 &  78.47     & 113.23994  &  -44.310   &  44.310    & 23/07/2016 & 29/07/2016 & 29/07/2016 & 2016       & 7          & 5         \\\\\n",
       "\t171 & 117.09     & 153.47384  &  -31.073   &  31.073    & 13/08/2016 & 19/08/2016 & 19/08/2016 & 2016       & 8          & 3         \\\\\n",
       "\t172 &  95.68     & 146.80672  &  -53.435   &  53.435    & 20/08/2016 & 26/08/2016 & 26/08/2016 & 2016       & 8          & 4         \\\\\n",
       "\t183 & 186.33     & 243.94350  &  -30.920   &  30.920    & 05/11/2016 & 11/11/2016 & 11/11/2016 & 2016       & 11         & 2         \\\\\n",
       "\t187 & 102.90     & 166.58464  &  -61.890   &  61.890    & 03/12/2016 & 09/12/2016 & 09/12/2016 & 2016       & 12         & 2         \\\\\n",
       "\t190 & 113.95     & 169.42957  &  -48.688   &  48.688    & 24/12/2016 & 31/12/2016 & 31/12/2016 & 2016       & 12         & 5         \\\\\n",
       "\t192 & 102.74     & 187.90858  &  -82.897   &  82.897    & 07/01/2017 & 13/01/2017 & 13/01/2017 & 2017       & 1          & 2         \\\\\n",
       "\t194 & 131.27     & 175.57113  &  -33.748   &  33.748    & 21/01/2017 & 27/01/2017 & 27/01/2017 & 2017       & 1          & 4         \\\\\n",
       "\t195 & 101.31     & 180.63771  &  -78.302   &  78.302    & 28/01/2017 & 03/02/2017 & 03/02/2017 & 2017       & 2          & 1         \\\\\n",
       "\\end{tabular}\n"
      ],
      "text/markdown": [
       "\n",
       "| <!--/--> | actual | forecast | perc_error_lasso | abs_perc_error_lasso | Start.Date | End.Date | Date | Year | Month | Wk_of_Month | \n",
       "|---|---|---|---|---|---|---|---|---|---|---|---|---|---|---|---|---|---|---|---|---|---|---|---|---|---|---|---|---|---|---|---|---|---|---|---|---|---|---|---|---|---|---|---|---|---|---|---|---|---|---|---|\n",
       "| 4 | 180.95     | 297.08992  |  -64.183   |  64.183    | 08/06/2013 | 14/06/2013 | 14/06/2013 | 2013       | 6          | 2          | \n",
       "| 7 |  98.56     | 190.09815  |  -92.876   |  92.876    | 29/06/2013 | 05/07/2013 | 05/07/2013 | 2013       | 7          | 1          | \n",
       "| 16 | 259.04     | 172.91896  |   33.246   |  33.246    | 31/08/2013 | 06/09/2013 | 06/09/2013 | 2013       | 9          | 1          | \n",
       "| 38 | 822.83     | 464.39580  |   43.561   |  43.561    | 01/02/2014 | 07/02/2014 | 07/02/2014 | 2014       | 2          | 1          | \n",
       "| 56 | 333.80     | 564.79562  |  -69.202   |  69.202    | 07/06/2014 | 13/06/2014 | 13/06/2014 | 2014       | 6          | 2          | \n",
       "| 59 | 398.95     | 540.12151  |  -35.386   |  35.386    | 28/06/2014 | 04/07/2014 | 04/07/2014 | 2014       | 7          | 1          | \n",
       "| 64 | 815.92     | 537.76502  |   34.091   |  34.091    | 02/08/2014 | 08/08/2014 | 08/08/2014 | 2014       | 8          | 2          | \n",
       "| 81 | 549.18     | 757.91550  |  -38.009   |  38.009    | 29/11/2014 | 05/12/2014 | 05/12/2014 | 2014       | 12         | 1          | \n",
       "| 85 | 388.48     | 651.47678  |  -67.699   |  67.699    | 27/12/2014 | 02/01/2015 | 02/01/2015 | 2015       | 1          | 1          | \n",
       "| 114 | 236.51     | 332.79014  |  -40.709   |  40.709    | 11/07/2015 | 17/07/2015 | 17/07/2015 | 2015       | 7          | 3          | \n",
       "| 117 | 120.67     | 247.50719  | -105.111   | 105.111    | 01/08/2015 | 07/08/2015 | 07/08/2015 | 2015       | 8          | 1          | \n",
       "| 118 | 130.90     | 178.52085  |  -36.380   |  36.380    | 08/08/2015 | 14/08/2015 | 14/08/2015 | 2015       | 8          | 2          | \n",
       "| 120 | 142.07     | 191.76687  |  -34.981   |  34.981    | 22/08/2015 | 28/08/2015 | 28/08/2015 | 2015       | 8          | 4          | \n",
       "| 121 | 279.01     | 191.06888  |   31.519   |  31.519    | 29/08/2015 | 04/09/2015 | 04/09/2015 | 2015       | 9          | 1          | \n",
       "| 123 | 203.46     | 275.55790  |  -35.436   |  35.436    | 12/09/2015 | 18/09/2015 | 18/09/2015 | 2015       | 9          | 3          | \n",
       "| 131 | 215.58     | 280.33091  |  -30.036   |  30.036    | 07/11/2015 | 13/11/2015 | 13/11/2015 | 2015       | 11         | 2          | \n",
       "| 134 | 153.84     | 225.12661  |  -46.338   |  46.338    | 28/11/2015 | 04/12/2015 | 04/12/2015 | 2015       | 12         | 1          | \n",
       "| 136 | 114.93     | 157.97084  |  -37.450   |  37.450    | 12/12/2015 | 18/12/2015 | 18/12/2015 | 2015       | 12         | 3          | \n",
       "| 138 |  52.33     | 195.65105  | -273.879   | 273.879    | 26/12/2015 | 01/01/2016 | 01/01/2016 | 2016       | 1          | 1          | \n",
       "| 139 |  48.02     | 127.83307  | -166.208   | 166.208    | 02/01/2016 | 08/01/2016 | 08/01/2016 | 2016       | 1          | 2          | \n",
       "| 140 |  37.64     |  97.94498  | -160.215   | 160.215    | 09/01/2016 | 15/01/2016 | 15/01/2016 | 2016       | 1          | 3          | \n",
       "| 141 |  30.25     |  91.81750  | -203.529   | 203.529    | 16/01/2016 | 22/01/2016 | 22/01/2016 | 2016       | 1          | 4          | \n",
       "| 142 |  30.25     |  68.90305  | -127.779   | 127.779    | 23/01/2016 | 29/01/2016 | 29/01/2016 | 2016       | 1          | 5          | \n",
       "| 143 |  30.25     |  61.07822  | -101.911   | 101.911    | 30/01/2016 | 05/02/2016 | 05/02/2016 | 2016       | 2          | 1          | \n",
       "| 144 |  30.25     |  48.25899  |  -59.534   |  59.534    | 06/02/2016 | 12/02/2016 | 12/02/2016 | 2016       | 2          | 2          | \n",
       "| 145 |  30.25     |  62.31176  | -105.989   | 105.989    | 13/02/2016 | 19/02/2016 | 19/02/2016 | 2016       | 2          | 3          | \n",
       "| 146 |  30.25     |  77.75169  | -157.030   | 157.030    | 20/02/2016 | 26/02/2016 | 26/02/2016 | 2016       | 2          | 4          | \n",
       "| 147 |  33.25     |  76.34311  | -129.603   | 129.603    | 27/02/2016 | 04/03/2016 | 04/03/2016 | 2016       | 3          | 1          | \n",
       "| 149 |  30.65     |  77.69214  | -153.482   | 153.482    | 12/03/2016 | 18/03/2016 | 18/03/2016 | 2016       | 3          | 3          | \n",
       "| 150 |  30.25     |  52.85795  |  -74.737   |  74.737    | 19/03/2016 | 25/03/2016 | 25/03/2016 | 2016       | 3          | 4          | \n",
       "| 152 |  43.77     |  72.01921  |  -64.540   |  64.540    | 02/04/2016 | 08/04/2016 | 08/04/2016 | 2016       | 4          | 1          | \n",
       "| 153 |  48.24     |  76.62398  |  -58.839   |  58.839    | 09/04/2016 | 15/04/2016 | 15/04/2016 | 2016       | 4          | 2          | \n",
       "| 154 |  51.98     |  83.95158  |  -61.507   |  61.507    | 16/04/2016 | 22/04/2016 | 22/04/2016 | 2016       | 4          | 3          | \n",
       "| 155 |  51.41     |  87.47505  |  -70.152   |  70.152    | 23/04/2016 | 29/04/2016 | 29/04/2016 | 2016       | 4          | 4          | \n",
       "| 157 |  81.43     | 119.88692  |  -47.227   |  47.227    | 07/05/2016 | 13/05/2016 | 13/05/2016 | 2016       | 5          | 2          | \n",
       "| 158 |  76.46     | 115.32829  |  -50.835   |  50.835    | 14/05/2016 | 20/05/2016 | 20/05/2016 | 2016       | 5          | 3          | \n",
       "| 159 |  74.96     | 103.25628  |  -37.749   |  37.749    | 21/05/2016 | 27/05/2016 | 27/05/2016 | 2016       | 5          | 4          | \n",
       "| 160 |  61.03     | 102.70539  |  -68.287   |  68.287    | 28/05/2016 | 03/06/2016 | 03/06/2016 | 2016       | 6          | 1          | \n",
       "| 161 |  61.34     |  90.09190  |  -46.873   |  46.873    | 04/06/2016 | 10/06/2016 | 10/06/2016 | 2016       | 6          | 2          | \n",
       "| 162 |  60.23     |  89.98973  |  -49.410   |  49.410    | 11/06/2016 | 17/06/2016 | 17/06/2016 | 2016       | 6          | 3          | \n",
       "| 163 |  57.64     |  88.16494  |  -52.958   |  52.958    | 18/06/2016 | 24/06/2016 | 24/06/2016 | 2016       | 6          | 4          | \n",
       "| 166 |  87.05     | 117.15684  |  -34.586   |  34.586    | 09/07/2016 | 15/07/2016 | 15/07/2016 | 2016       | 7          | 3          | \n",
       "| 167 |  80.51     | 120.27963  |  -49.397   |  49.397    | 16/07/2016 | 22/07/2016 | 22/07/2016 | 2016       | 7          | 4          | \n",
       "| 168 |  78.47     | 113.23994  |  -44.310   |  44.310    | 23/07/2016 | 29/07/2016 | 29/07/2016 | 2016       | 7          | 5          | \n",
       "| 171 | 117.09     | 153.47384  |  -31.073   |  31.073    | 13/08/2016 | 19/08/2016 | 19/08/2016 | 2016       | 8          | 3          | \n",
       "| 172 |  95.68     | 146.80672  |  -53.435   |  53.435    | 20/08/2016 | 26/08/2016 | 26/08/2016 | 2016       | 8          | 4          | \n",
       "| 183 | 186.33     | 243.94350  |  -30.920   |  30.920    | 05/11/2016 | 11/11/2016 | 11/11/2016 | 2016       | 11         | 2          | \n",
       "| 187 | 102.90     | 166.58464  |  -61.890   |  61.890    | 03/12/2016 | 09/12/2016 | 09/12/2016 | 2016       | 12         | 2          | \n",
       "| 190 | 113.95     | 169.42957  |  -48.688   |  48.688    | 24/12/2016 | 31/12/2016 | 31/12/2016 | 2016       | 12         | 5          | \n",
       "| 192 | 102.74     | 187.90858  |  -82.897   |  82.897    | 07/01/2017 | 13/01/2017 | 13/01/2017 | 2017       | 1          | 2          | \n",
       "| 194 | 131.27     | 175.57113  |  -33.748   |  33.748    | 21/01/2017 | 27/01/2017 | 27/01/2017 | 2017       | 1          | 4          | \n",
       "| 195 | 101.31     | 180.63771  |  -78.302   |  78.302    | 28/01/2017 | 03/02/2017 | 03/02/2017 | 2017       | 2          | 1          | \n",
       "\n",
       "\n"
      ],
      "text/plain": [
       "    actual forecast  perc_error_lasso abs_perc_error_lasso Start.Date\n",
       "4   180.95 297.08992  -64.183          64.183              08/06/2013\n",
       "7    98.56 190.09815  -92.876          92.876              29/06/2013\n",
       "16  259.04 172.91896   33.246          33.246              31/08/2013\n",
       "38  822.83 464.39580   43.561          43.561              01/02/2014\n",
       "56  333.80 564.79562  -69.202          69.202              07/06/2014\n",
       "59  398.95 540.12151  -35.386          35.386              28/06/2014\n",
       "64  815.92 537.76502   34.091          34.091              02/08/2014\n",
       "81  549.18 757.91550  -38.009          38.009              29/11/2014\n",
       "85  388.48 651.47678  -67.699          67.699              27/12/2014\n",
       "114 236.51 332.79014  -40.709          40.709              11/07/2015\n",
       "117 120.67 247.50719 -105.111         105.111              01/08/2015\n",
       "118 130.90 178.52085  -36.380          36.380              08/08/2015\n",
       "120 142.07 191.76687  -34.981          34.981              22/08/2015\n",
       "121 279.01 191.06888   31.519          31.519              29/08/2015\n",
       "123 203.46 275.55790  -35.436          35.436              12/09/2015\n",
       "131 215.58 280.33091  -30.036          30.036              07/11/2015\n",
       "134 153.84 225.12661  -46.338          46.338              28/11/2015\n",
       "136 114.93 157.97084  -37.450          37.450              12/12/2015\n",
       "138  52.33 195.65105 -273.879         273.879              26/12/2015\n",
       "139  48.02 127.83307 -166.208         166.208              02/01/2016\n",
       "140  37.64  97.94498 -160.215         160.215              09/01/2016\n",
       "141  30.25  91.81750 -203.529         203.529              16/01/2016\n",
       "142  30.25  68.90305 -127.779         127.779              23/01/2016\n",
       "143  30.25  61.07822 -101.911         101.911              30/01/2016\n",
       "144  30.25  48.25899  -59.534          59.534              06/02/2016\n",
       "145  30.25  62.31176 -105.989         105.989              13/02/2016\n",
       "146  30.25  77.75169 -157.030         157.030              20/02/2016\n",
       "147  33.25  76.34311 -129.603         129.603              27/02/2016\n",
       "149  30.65  77.69214 -153.482         153.482              12/03/2016\n",
       "150  30.25  52.85795  -74.737          74.737              19/03/2016\n",
       "152  43.77  72.01921  -64.540          64.540              02/04/2016\n",
       "153  48.24  76.62398  -58.839          58.839              09/04/2016\n",
       "154  51.98  83.95158  -61.507          61.507              16/04/2016\n",
       "155  51.41  87.47505  -70.152          70.152              23/04/2016\n",
       "157  81.43 119.88692  -47.227          47.227              07/05/2016\n",
       "158  76.46 115.32829  -50.835          50.835              14/05/2016\n",
       "159  74.96 103.25628  -37.749          37.749              21/05/2016\n",
       "160  61.03 102.70539  -68.287          68.287              28/05/2016\n",
       "161  61.34  90.09190  -46.873          46.873              04/06/2016\n",
       "162  60.23  89.98973  -49.410          49.410              11/06/2016\n",
       "163  57.64  88.16494  -52.958          52.958              18/06/2016\n",
       "166  87.05 117.15684  -34.586          34.586              09/07/2016\n",
       "167  80.51 120.27963  -49.397          49.397              16/07/2016\n",
       "168  78.47 113.23994  -44.310          44.310              23/07/2016\n",
       "171 117.09 153.47384  -31.073          31.073              13/08/2016\n",
       "172  95.68 146.80672  -53.435          53.435              20/08/2016\n",
       "183 186.33 243.94350  -30.920          30.920              05/11/2016\n",
       "187 102.90 166.58464  -61.890          61.890              03/12/2016\n",
       "190 113.95 169.42957  -48.688          48.688              24/12/2016\n",
       "192 102.74 187.90858  -82.897          82.897              07/01/2017\n",
       "194 131.27 175.57113  -33.748          33.748              21/01/2017\n",
       "195 101.31 180.63771  -78.302          78.302              28/01/2017\n",
       "    End.Date   Date       Year Month Wk_of_Month\n",
       "4   14/06/2013 14/06/2013 2013 6     2          \n",
       "7   05/07/2013 05/07/2013 2013 7     1          \n",
       "16  06/09/2013 06/09/2013 2013 9     1          \n",
       "38  07/02/2014 07/02/2014 2014 2     1          \n",
       "56  13/06/2014 13/06/2014 2014 6     2          \n",
       "59  04/07/2014 04/07/2014 2014 7     1          \n",
       "64  08/08/2014 08/08/2014 2014 8     2          \n",
       "81  05/12/2014 05/12/2014 2014 12    1          \n",
       "85  02/01/2015 02/01/2015 2015 1     1          \n",
       "114 17/07/2015 17/07/2015 2015 7     3          \n",
       "117 07/08/2015 07/08/2015 2015 8     1          \n",
       "118 14/08/2015 14/08/2015 2015 8     2          \n",
       "120 28/08/2015 28/08/2015 2015 8     4          \n",
       "121 04/09/2015 04/09/2015 2015 9     1          \n",
       "123 18/09/2015 18/09/2015 2015 9     3          \n",
       "131 13/11/2015 13/11/2015 2015 11    2          \n",
       "134 04/12/2015 04/12/2015 2015 12    1          \n",
       "136 18/12/2015 18/12/2015 2015 12    3          \n",
       "138 01/01/2016 01/01/2016 2016 1     1          \n",
       "139 08/01/2016 08/01/2016 2016 1     2          \n",
       "140 15/01/2016 15/01/2016 2016 1     3          \n",
       "141 22/01/2016 22/01/2016 2016 1     4          \n",
       "142 29/01/2016 29/01/2016 2016 1     5          \n",
       "143 05/02/2016 05/02/2016 2016 2     1          \n",
       "144 12/02/2016 12/02/2016 2016 2     2          \n",
       "145 19/02/2016 19/02/2016 2016 2     3          \n",
       "146 26/02/2016 26/02/2016 2016 2     4          \n",
       "147 04/03/2016 04/03/2016 2016 3     1          \n",
       "149 18/03/2016 18/03/2016 2016 3     3          \n",
       "150 25/03/2016 25/03/2016 2016 3     4          \n",
       "152 08/04/2016 08/04/2016 2016 4     1          \n",
       "153 15/04/2016 15/04/2016 2016 4     2          \n",
       "154 22/04/2016 22/04/2016 2016 4     3          \n",
       "155 29/04/2016 29/04/2016 2016 4     4          \n",
       "157 13/05/2016 13/05/2016 2016 5     2          \n",
       "158 20/05/2016 20/05/2016 2016 5     3          \n",
       "159 27/05/2016 27/05/2016 2016 5     4          \n",
       "160 03/06/2016 03/06/2016 2016 6     1          \n",
       "161 10/06/2016 10/06/2016 2016 6     2          \n",
       "162 17/06/2016 17/06/2016 2016 6     3          \n",
       "163 24/06/2016 24/06/2016 2016 6     4          \n",
       "166 15/07/2016 15/07/2016 2016 7     3          \n",
       "167 22/07/2016 22/07/2016 2016 7     4          \n",
       "168 29/07/2016 29/07/2016 2016 7     5          \n",
       "171 19/08/2016 19/08/2016 2016 8     3          \n",
       "172 26/08/2016 26/08/2016 2016 8     4          \n",
       "183 11/11/2016 11/11/2016 2016 11    2          \n",
       "187 09/12/2016 09/12/2016 2016 12    2          \n",
       "190 31/12/2016 31/12/2016 2016 12    5          \n",
       "192 13/01/2017 13/01/2017 2017 1     2          \n",
       "194 27/01/2017 27/01/2017 2017 1     4          \n",
       "195 03/02/2017 03/02/2017 2017 2     1          "
      ]
     },
     "metadata": {},
     "output_type": "display_data"
    }
   ],
   "source": [
    "# Finding the rows with ABSOLUTE % errors above 30%\n",
    "subset(rtp_lasso, abs_perc_error_lasso > 30)"
   ]
  },
  {
   "cell_type": "code",
   "execution_count": 230,
   "metadata": {
    "collapsed": false
   },
   "outputs": [
    {
     "name": "stdout",
     "output_type": "stream",
     "text": [
      "[1] \" LASSO - Number of forecasts with abs. error > 10%: 137\"\n",
      "[1] \" LASSO - Number of forecasts with abs. error > 20%: 93\"\n",
      "[1] \" LASSO - Number of forecasts with abs. error > 30%: 67\"\n"
     ]
    }
   ],
   "source": [
    "# Finding the number of rows with absolute % errors above 10%, 20%, 30%\n",
    "\n",
    "print(paste0(\" LASSO - Number of forecasts with abs. error > 10%: \",nrow(subset(rtp_lasso, abs_perc_error > 10))))\n",
    "print(paste0(\" LASSO - Number of forecasts with abs. error > 20%: \",nrow(subset(rtp_lasso, abs_perc_error > 20))))\n",
    "print(paste0(\" LASSO - Number of forecasts with abs. error > 30%: \",nrow(subset(rtp_lasso, abs_perc_error > 30))))"
   ]
  },
  {
   "cell_type": "code",
   "execution_count": 289,
   "metadata": {
    "collapsed": false
   },
   "outputs": [
    {
     "data": {
      "image/png": "[encoded data removed]",
      "text/plain": [
       "Plot with title \"Lasso - Absolute % Error - Test Period\""
      ]
     },
     "metadata": {},
     "output_type": "display_data"
    }
   ],
   "source": [
    "time=1:nrow(result_test_period_lasso)\n",
    "plot(time,abs_perc_error_lasso, type =\"l\", col = \"darkcyan\", main = \"Lasso - Absolute % Error - Test Period\")"
   ]
  },
  {
   "cell_type": "code",
   "execution_count": 291,
   "metadata": {
    "collapsed": false
   },
   "outputs": [
    {
     "data": {
      "image/png": "[encoded data removed]",
      "text/plain": [
       "Plot with title \"Lasso - Distribution of Absolute % Errors\""
      ]
     },
     "metadata": {},
     "output_type": "display_data"
    }
   ],
   "source": [
    "# Histogram of Absolute Percentage Errors \n",
    "options(repr.plot.width = 5, repr.plot.height = 5)\n",
    "hist(abs_perc_error_lasso, main = \"Lasso - Distribution of Absolute % Errors\", col = \"dodgerblue4\", xlab = NULL)"
   ]
  },
  {
   "cell_type": "code",
   "execution_count": 294,
   "metadata": {
    "collapsed": false
   },
   "outputs": [
    {
     "name": "stdout",
     "output_type": "stream",
     "text": [
      "[1] \"MAPE Lasso= 1.9726\"\n"
     ]
    }
   ],
   "source": [
    "MAPE_lasso = mean(abs_perc_error_lasso)\n",
    "print(paste0(\"MAPE Lasso= \", round(MAPE_lasso,4)))"
   ]
  },
  {
   "cell_type": "code",
   "execution_count": 298,
   "metadata": {
    "collapsed": false
   },
   "outputs": [
    {
     "name": "stdout",
     "output_type": "stream",
     "text": [
      "[1] \"LASSO - Minimum Absolute % Error (test period): 0\"\n"
     ]
    }
   ],
   "source": [
    "print(paste0(\"LASSO - Minimum Absolute % Error (test period): \", min(abs_perc_error_lasso, na.rm = TRUE)))"
   ]
  },
  {
   "cell_type": "code",
   "execution_count": 299,
   "metadata": {
    "collapsed": false
   },
   "outputs": [
    {
     "name": "stdout",
     "output_type": "stream",
     "text": [
      "[1] \"LASSO - Maximum Absolute % Error (test period): 17.223\"\n"
     ]
    }
   ],
   "source": [
    "print(paste0(\"LASSO - Maximum Absolute % Error (test period): \", max(abs_perc_error_lasso, na.rm = TRUE)))"
   ]
  },
  {
   "cell_type": "code",
   "execution_count": 300,
   "metadata": {
    "collapsed": false
   },
   "outputs": [
    {
     "name": "stderr",
     "output_type": "stream",
     "text": [
      "`geom_smooth()` using method = 'gam'\n"
     ]
    },
    {
     "data": {},
     "metadata": {},
     "output_type": "display_data"
    },
    {
     "data": {
      "image/png": "[encoded data removed]",
      "text/plain": [
       "plot without title"
      ]
     },
     "metadata": {},
     "output_type": "display_data"
    }
   ],
   "source": [
    "library(ggplot2)\n",
    "\n",
    "options(repr.plot.width = 5, repr.plot.height = 5)\n",
    "ggplot(rtp_lasso, aes(x = actual, y = forecast)) + \n",
    "    geom_point(colour = \"blue\", alpha = 0.5) +\n",
    "    stat_smooth(colour = \"red\") + \n",
    "    ggtitle(\"Lasso prediction of Load - Test Period\")"
   ]
  },
  {
   "cell_type": "code",
   "execution_count": 301,
   "metadata": {
    "collapsed": false
   },
   "outputs": [
    {
     "data": {},
     "metadata": {},
     "output_type": "display_data"
    },
    {
     "data": {
      "text/html": [
       "<strong>png:</strong> 2"
      ],
      "text/latex": [
       "\\textbf{png:} 2"
      ],
      "text/markdown": [
       "**png:** 2"
      ],
      "text/plain": [
       "png \n",
       "  2 "
      ]
     },
     "metadata": {},
     "output_type": "display_data"
    },
    {
     "data": {},
     "metadata": {},
     "output_type": "display_data"
    },
    {
     "data": {
      "image/png": "[encoded data removed]",
      "text/plain": [
       "plot without title"
      ]
     },
     "metadata": {},
     "output_type": "display_data"
    }
   ],
   "source": [
    "pdf(\"box_plot_lasso_months.pdf\")\n",
    "ggplot(rtp_lasso, aes(x = Month, y = abs_perc_error_lasso)) + geom_boxplot(colour = \"dodgerblue\", fill = \"blanchedalmond\") + ggtitle(\"Box-Plot of Absolute % Errors - LASSO prediction\")\n",
    "dev.off()\n",
    "# To show graph on screen\n",
    "ggplot(rtp_lasso, aes(x = Month, y = abs_perc_error_lasso)) + geom_boxplot(colour = \"dodgerblue\", fill = \"blanchedalmond\") + ggtitle(\"Box-Plot of Absolute %  Errors - LASSO prediction\")"
   ]
  },
  {
   "cell_type": "code",
   "execution_count": 302,
   "metadata": {
    "collapsed": false
   },
   "outputs": [
    {
     "data": {},
     "metadata": {},
     "output_type": "display_data"
    },
    {
     "data": {
      "text/html": [
       "<strong>png:</strong> 2"
      ],
      "text/latex": [
       "\\textbf{png:} 2"
      ],
      "text/markdown": [
       "**png:** 2"
      ],
      "text/plain": [
       "png \n",
       "  2 "
      ]
     },
     "metadata": {},
     "output_type": "display_data"
    },
    {
     "data": {},
     "metadata": {},
     "output_type": "display_data"
    },
    {
     "data": {
      "image/png": "[encoded data removed]",
      "text/plain": [
       "plot without title"
      ]
     },
     "metadata": {},
     "output_type": "display_data"
    }
   ],
   "source": [
    "# To create graph in pdf format \n",
    "pdf(\"box_plot_lasso_hours.pdf\")\n",
    "ggplot(rtp_lasso, aes(x = Hour, y = abs_perc_error_lasso)) + geom_boxplot(colour = \"brown2\", fill = \"bisque2\") + ggtitle(\"Box-Plot of Absolute %  Errors - LASSO prediction\")\n",
    "dev.off()\n",
    "# To show graph on screen\n",
    "ggplot(rtp_lasso, aes(x = Hour, y = abs_perc_error_lasso)) + geom_boxplot(colour = \"brown2\", fill = \"bisque2\") + ggtitle(\"Box-Plot of Absolute %  Errors - LASSO prediction\")"
   ]
  },
  {
   "cell_type": "code",
   "execution_count": 309,
   "metadata": {
    "collapsed": false
   },
   "outputs": [
    {
     "data": {},
     "metadata": {},
     "output_type": "display_data"
    },
    {
     "data": {
      "text/html": [
       "<strong>png:</strong> 2"
      ],
      "text/latex": [
       "\\textbf{png:} 2"
      ],
      "text/markdown": [
       "**png:** 2"
      ],
      "text/plain": [
       "png \n",
       "  2 "
      ]
     },
     "metadata": {},
     "output_type": "display_data"
    },
    {
     "data": {},
     "metadata": {},
     "output_type": "display_data"
    },
    {
     "data": {
      "image/png": "[encoded data removed]",
      "text/plain": [
       "plot without title"
      ]
     },
     "metadata": {},
     "output_type": "display_data"
    }
   ],
   "source": [
    "# LASSO Forecasts - line plot\n",
    "# Create pdf file with graph\n",
    "pdf(\"forec_lasso.pdf\")\n",
    "ggplot(rtp_lasso, aes(x = 1:nrow(rtp_lasso), y = forecast)) + xlab(\"Time index\") + ylab(\"Forecast\") + theme(plot.title = element_text(hjust = 0.5)) + ggtitle(\"LASSO prediction\") + geom_line(colour = \"darkblue\")\n",
    "dev.off()\n",
    "# To show graph on screen\n",
    "ggplot(rtp_lasso, aes(x = 1:nrow(rtp_lasso), y = forecast)) + \n",
    "    xlab(\"Time index\") + ylab(\"Forecast\") + \n",
    "    theme(plot.title = element_text(hjust = 0.5)) + \n",
    "    ggtitle(\"LASSO prediction\") + geom_line(colour = \"darkblue\")\n"
   ]
  },
  {
   "cell_type": "code",
   "execution_count": 312,
   "metadata": {
    "collapsed": false
   },
   "outputs": [
    {
     "data": {},
     "metadata": {},
     "output_type": "display_data"
    },
    {
     "data": {
      "text/html": [
       "<strong>png:</strong> 2"
      ],
      "text/latex": [
       "\\textbf{png:} 2"
      ],
      "text/markdown": [
       "**png:** 2"
      ],
      "text/plain": [
       "png \n",
       "  2 "
      ]
     },
     "metadata": {},
     "output_type": "display_data"
    },
    {
     "data": {},
     "metadata": {},
     "output_type": "display_data"
    },
    {
     "data": {
      "image/png": "[encoded data removed]",
      "text/plain": [
       "plot without title"
      ]
     },
     "metadata": {},
     "output_type": "display_data"
    }
   ],
   "source": [
    "# Heat map - Absolute Percentage Errors - LASSO\n",
    "# Create pdf file with graph\n",
    "pdf(\"heat_map_abs_errors_lasso.pdf\")\n",
    "ggplot(data = rtp_lasso, aes(Month, Hour, fill = abs_perc_error_lasso))+\n",
    "geom_tile(color = \"white\")+ scale_fill_gradient2(low = \"blue\", high = \"red\", mid = \"white\",  name=\"LASSO - Absolute % errors\") +\n",
    "  theme_minimal() + theme(axis.text.x = element_text(angle = 45, vjust = 1, size = 10, hjust = 1)) +  theme(plot.title = element_text(hjust = 0.5)) + ggtitle(\"LASSO Absolute % errors\")+ coord_fixed()\n",
    "dev.off()\n",
    "# To show graph on screen\n",
    "ggplot(data = rtp_lasso, aes(Month, Hour, fill = abs_perc_error_lasso)) + geom_tile(color = \"white\") +\n",
    "        scale_fill_gradient2(low = \"blue\", high = \"red\", mid = \"white\",  name=\"LASSO - Absolute % errors\") +\n",
    "        theme_minimal() + theme(axis.text.x = element_text(angle = 45, vjust = 1, size = 12, hjust = 1)) +  \n",
    "        theme(plot.title = element_text(hjust = 0.5)) + ggtitle(\"LASSO Absolute % errors\")+ coord_fixed()\n"
   ]
  },
  {
   "cell_type": "code",
   "execution_count": 313,
   "metadata": {
    "collapsed": false
   },
   "outputs": [
    {
     "data": {},
     "metadata": {},
     "output_type": "display_data"
    },
    {
     "data": {
      "text/html": [
       "<strong>png:</strong> 2"
      ],
      "text/latex": [
       "\\textbf{png:} 2"
      ],
      "text/markdown": [
       "**png:** 2"
      ],
      "text/plain": [
       "png \n",
       "  2 "
      ]
     },
     "metadata": {},
     "output_type": "display_data"
    },
    {
     "data": {},
     "metadata": {},
     "output_type": "display_data"
    },
    {
     "data": {
      "image/png": "[encoded data removed]",
      "text/plain": [
       "plot without title"
      ]
     },
     "metadata": {},
     "output_type": "display_data"
    }
   ],
   "source": [
    "# Heat map - Percentage Errors - LASSO\n",
    "# Create pdf file with graph\n",
    "pdf(\"heat_map_errors_lasso.pdf\")\n",
    "ggplot(data = rtp_lasso, aes(Month, Hour, fill = perc_error_lasso))+\n",
    "geom_tile(color = \"white\")+ scale_fill_gradient2(low = \"blue\", high = \"red\", mid = \"white\",  name=\"LASSO - % errors\") +\n",
    "  theme_minimal() + theme(axis.text.x = element_text(angle = 45, vjust = 1, size = 10, hjust = 1)) +  theme(plot.title = element_text(hjust = 0.5)) + ggtitle(\"LASSO  % errors\")+ coord_fixed()\n",
    "dev.off()\n",
    "\n",
    "# To show graph on screen\n",
    "ggplot(data = rtp_lasso, aes(Month, Hour, fill = perc_error_lasso))+\n",
    "geom_tile(color = \"white\")+ scale_fill_gradient2(low = \"blue\", high = \"red\", mid = \"white\",  name=\"LASSO - % errors\") +\n",
    "  theme_minimal() + theme(axis.text.x = element_text(angle = 45, vjust = 1, size = 10, hjust = 1)) +  theme(plot.title = element_text(hjust = 0.5)) + ggtitle(\"LASSO  % errors\")+ coord_fixed()\n"
   ]
  },
  {
   "cell_type": "code",
   "execution_count": null,
   "metadata": {
    "collapsed": true
   },
   "outputs": [],
   "source": []
  },
  {
   "cell_type": "markdown",
   "metadata": {
    "collapsed": true
   },
   "source": [
    "### Comparing different methods"
   ]
  },
  {
   "cell_type": "code",
   "execution_count": 89,
   "metadata": {
    "collapsed": true
   },
   "outputs": [],
   "source": [
    "instala_pacote(\"caret\")"
   ]
  },
  {
   "cell_type": "code",
   "execution_count": null,
   "metadata": {
    "collapsed": true
   },
   "outputs": [],
   "source": [
    "library(caret)"
   ]
  },
  {
   "cell_type": "code",
   "execution_count": null,
   "metadata": {
    "collapsed": true
   },
   "outputs": [],
   "source": [
    "mat = lapply(c(\"LogitBoost\", 'xgbTree', 'rf', 'svmRadial'), \n",
    "          function (met) {\n",
    "  train(subClasTrain~., method=met, data=smallSetTrain)\n",
    "})"
   ]
  },
  {
   "cell_type": "code",
   "execution_count": null,
   "metadata": {
    "collapsed": true
   },
   "outputs": [],
   "source": []
  },
  {
   "cell_type": "code",
   "execution_count": null,
   "metadata": {
    "collapsed": true
   },
   "outputs": [],
   "source": []
  },
  {
   "cell_type": "code",
   "execution_count": null,
   "metadata": {
    "collapsed": true
   },
   "outputs": [],
   "source": []
  },
  {
   "cell_type": "code",
   "execution_count": null,
   "metadata": {
    "collapsed": true
   },
   "outputs": [],
   "source": []
  }
 ],
 "metadata": {
  "kernelspec": {
   "display_name": "R",
   "language": "R",
   "name": "ir"
  },
  "language_info": {
   "codemirror_mode": "r",
   "file_extension": ".r",
   "mimetype": "text/x-r-source",
   "name": "R",
   "pygments_lexer": "r",
   "version": "3.3.2"
  }
 },
 "nbformat": 4,
 "nbformat_minor": 0
}
