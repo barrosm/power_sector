{
 "cells": [
  {
   "cell_type": "markdown",
   "metadata": {},
   "source": [
    "### R notebook to read data and attempt forecasting model"
   ]
  },
  {
   "cell_type": "markdown",
   "metadata": {},
   "source": [
    "### Date: 21/01/2016 - last revision: 16/02/2016"
   ]
  },
  {
   "cell_type": "code",
   "execution_count": 1,
   "metadata": {
    "collapsed": false
   },
   "outputs": [
    {
     "data": {
      "text/html": [
       "\"C:/Users/barro/Dropbox/a2i2_mb/PROGRAMAS\""
      ],
      "text/latex": [
       "\"C:/Users/barro/Dropbox/a2i2_mb/PROGRAMAS\""
      ],
      "text/markdown": [
       "\"C:/Users/barro/Dropbox/a2i2_mb/PROGRAMAS\""
      ],
      "text/plain": [
       "[1] \"C:/Users/barro/Dropbox/a2i2_mb/PROGRAMAS\""
      ]
     },
     "execution_count": 1,
     "metadata": {},
     "output_type": "execute_result"
    }
   ],
   "source": [
    "getwd()"
   ]
  },
  {
   "cell_type": "markdown",
   "metadata": {},
   "source": [
    "#### Need to change the lines below according to the location of the Dropbox"
   ]
  },
  {
   "cell_type": "code",
   "execution_count": 2,
   "metadata": {
    "collapsed": false
   },
   "outputs": [],
   "source": [
    "file_name=file.path((\"C:/Users/barro/Dropbox/a2i2_flashfarma/Estudos\"), \"Historico_Categorias_e_lojas_desde_20120101.csv\") "
   ]
  },
  {
   "cell_type": "code",
   "execution_count": 3,
   "metadata": {
    "collapsed": false
   },
   "outputs": [
    {
     "data": {
      "text/html": [
       "\"C:/Users/barro/Dropbox/a2i2_flashfarma/Estudos/Historico_Categorias_e_lojas_desde_20120101.csv\""
      ],
      "text/latex": [
       "\"C:/Users/barro/Dropbox/a2i2_flashfarma/Estudos/Historico_Categorias_e_lojas_desde_20120101.csv\""
      ],
      "text/markdown": [
       "\"C:/Users/barro/Dropbox/a2i2_flashfarma/Estudos/Historico_Categorias_e_lojas_desde_20120101.csv\""
      ],
      "text/plain": [
       "[1] \"C:/Users/barro/Dropbox/a2i2_flashfarma/Estudos/Historico_Categorias_e_lojas_desde_20120101.csv\""
      ]
     },
     "execution_count": 3,
     "metadata": {},
     "output_type": "execute_result"
    }
   ],
   "source": [
    "file_name"
   ]
  },
  {
   "cell_type": "markdown",
   "metadata": {},
   "source": [
    "#### Define dataframe to hold the data"
   ]
  },
  {
   "cell_type": "code",
   "execution_count": 4,
   "metadata": {
    "collapsed": false
   },
   "outputs": [],
   "source": [
    "df = read.table(file=file_name,header = TRUE, sep = \",\", dec = \".\")"
   ]
  },
  {
   "cell_type": "code",
   "execution_count": 5,
   "metadata": {
    "collapsed": false
   },
   "outputs": [
    {
     "data": {
      "text/html": [
       "<ol class=list-inline>\n",
       "\t<li>1484</li>\n",
       "\t<li>66</li>\n",
       "</ol>\n"
      ],
      "text/latex": [
       "\\begin{enumerate*}\n",
       "\\item 1484\n",
       "\\item 66\n",
       "\\end{enumerate*}\n"
      ],
      "text/markdown": [
       "1. 1484\n",
       "2. 66\n",
       "\n",
       "\n"
      ],
      "text/plain": [
       "[1] 1484   66"
      ]
     },
     "execution_count": 5,
     "metadata": {},
     "output_type": "execute_result"
    }
   ],
   "source": [
    "# Dimensions of the dataframe\n",
    "dim(df)"
   ]
  },
  {
   "cell_type": "markdown",
   "metadata": {},
   "source": [
    "#### To verify if reading was done correctly - pay attention to dates and whatever (if any) was read as factor"
   ]
  },
  {
   "cell_type": "code",
   "execution_count": 6,
   "metadata": {
    "collapsed": false
   },
   "outputs": [
    {
     "name": "stdout",
     "output_type": "stream",
     "text": [
      "'data.frame':\t1484 obs. of  66 variables:\n",
      " $ dataVenda         : Factor w/ 1484 levels \"2012-01-01\",\"2012-01-02\",..: 1 2 3 4 5 6 7 8 9 10 ...\n",
      " $ Dia.da.Semana     : int  1 2 3 4 5 6 7 1 2 3 ...\n",
      " $ Feriado_Nacional  : int  1 0 0 0 0 0 0 0 0 0 ...\n",
      " $ Carnaval          : int  0 0 0 0 0 0 0 0 0 0 ...\n",
      " $ Pascoa            : int  0 0 0 0 0 0 0 0 0 0 ...\n",
      " $ Tiradentes        : int  0 0 0 0 0 0 0 0 0 0 ...\n",
      " $ Dia_Trabalho      : int  0 0 0 0 0 0 0 0 0 0 ...\n",
      " $ Corpus_Christi    : int  0 0 0 0 0 0 0 0 0 0 ...\n",
      " $ Independencia     : int  0 0 0 0 0 0 0 0 0 0 ...\n",
      " $ NSAparecida       : int  0 0 0 0 0 0 0 0 0 0 ...\n",
      " $ Finados           : int  0 0 0 0 0 0 0 0 0 0 ...\n",
      " $ Republica         : int  0 0 0 0 0 0 0 0 0 0 ...\n",
      " $ Natal             : int  0 0 0 0 0 0 0 0 0 0 ...\n",
      " $ Reveillon         : int  1 0 0 0 0 0 0 0 0 0 ...\n",
      " $ valorCategoria1   : num  108 149 152 197 111 ...\n",
      " $ valorCategoria2   : num  23.1 87 128.9 209.8 225.7 ...\n",
      " $ valorCategoria3   : num  45.3 576.7 576.9 664 626.5 ...\n",
      " $ valorCategoria4   : num  39.2 134.3 131.1 148.7 195.3 ...\n",
      " $ valorCategoria5   : num  6.58 34.44 37.98 22 19.78 ...\n",
      " $ valorCategoria6   : num  761 4972 4706 5003 4999 ...\n",
      " $ valorCategoria7   : num  10.5 187.2 110 115 107.4 ...\n",
      " $ valorCategoria8   : num  438 2411 2803 2678 3012 ...\n",
      " $ valorCategoria9   : num  43.1 184.8 220.6 142.4 99.6 ...\n",
      " $ valorCategoria10  : num  22 155 139 157 147 ...\n",
      " $ valorCategoria11  : num  48 410 409 486 483 ...\n",
      " $ valorCategoria12  : num  22 235 123 238 107 ...\n",
      " $ valorCategoria13  : num  0 12.7 58.7 78 2.4 ...\n",
      " $ valorCategoria14  : num  222 2061 1478 2043 1640 ...\n",
      " $ valorCategoria15  : num  122 971 1110 998 1049 ...\n",
      " $ valorCategoria16  : num  4.49 168.39 70.54 146.7 95.97 ...\n",
      " $ valorCategoria17  : num  0 39.2 54.7 30.2 76 ...\n",
      " $ valorCategoria18  : num  10.9 143.2 143.1 166.3 137.7 ...\n",
      " $ valorCategoria19  : num  0 8.56 0 27.06 56.46 ...\n",
      " $ valorCategoria20  : num  228 2375 1938 1531 2419 ...\n",
      " $ valorCategoria21  : num  0 0 46 0 0 ...\n",
      " $ valorCategoria22  : num  0 181 144 194 157 ...\n",
      " $ qtdeCategoria1    : int  21 42 39 48 33 39 28 32 40 52 ...\n",
      " $ qtdeCategoria2    : int  3 14 23 25 27 25 37 15 14 34 ...\n",
      " $ qtdeCategoria3    : int  8 132 149 163 147 117 184 61 134 137 ...\n",
      " $ qtdeCategoria4    : int  33 91 93 84 126 79 90 90 98 105 ...\n",
      " $ qtdeCategoria5    : int  1 9 4 7 7 6 24 2 4 7 ...\n",
      " $ qtdeCategoria6    : int  39 248 229 267 248 237 223 76 260 216 ...\n",
      " $ qtdeCategoria7    : int  4 20 14 11 9 19 26 5 17 23 ...\n",
      " $ qtdeCategoria8    : int  30 240 287 258 263 277 210 130 279 286 ...\n",
      " $ qtdeCategoria9    : int  5 28 31 30 16 22 26 16 39 29 ...\n",
      " $ qtdeCategoria10   : int  2 34 23 24 26 31 36 12 24 23 ...\n",
      " $ qtdeCategoria11   : int  6 38 48 47 43 57 81 46 42 50 ...\n",
      " $ qtdeCategoria12   : int  1 13 6 11 6 7 2 7 12 13 ...\n",
      " $ qtdeCategoria13   : int  0 4 14 22 3 18 15 6 11 11 ...\n",
      " $ qtdeCategoria14   : int  56 447 359 427 396 378 371 167 376 309 ...\n",
      " $ qtdeCategoria15   : int  13 81 83 79 75 74 44 30 37 48 ...\n",
      " $ qtdeCategoria16   : int  2 48 25 28 29 30 41 15 25 20 ...\n",
      " $ qtdeCategoria17   : int  0 5 16 15 22 24 34 8 24 10 ...\n",
      " $ qtdeCategoria18   : int  2 21 25 29 24 15 38 28 31 22 ...\n",
      " $ qtdeCategoria19   : int  0 1 0 2 2 7 13 0 0 2 ...\n",
      " $ qtdeCategoria20   : int  25 240 184 149 197 193 199 102 174 148 ...\n",
      " $ qtdeCategoria21   : int  0 0 2 0 0 0 0 0 0 0 ...\n",
      " $ qtdeCategoria22   : int  0 19 15 24 14 22 23 16 17 20 ...\n",
      " $ qtde_Loja01       : int  251 975 1054 1080 1044 1015 899 624 1031 982 ...\n",
      " $ qtde_Loja02       : int  0 800 615 670 669 662 846 240 627 583 ...\n",
      " $ qtde_Loja03       : int  0 0 0 0 0 0 0 0 0 0 ...\n",
      " $ Entrada_op_Loja_03: int  0 0 0 0 0 0 0 0 0 0 ...\n",
      " $ valor_Loja01      : num  2155 8789 9209 9380 9403 ...\n",
      " $ valor_Loja02      : num  0 6708 5373 5896 6362 ...\n",
      " $ valor_Loja03      : num  0 0 0 0 0 0 0 0 0 0 ...\n",
      " $ Faturamento_total : num  2155 15497 14582 15276 15766 ...\n"
     ]
    }
   ],
   "source": [
    "str(df)   "
   ]
  },
  {
   "cell_type": "markdown",
   "metadata": {},
   "source": [
    "### Create column with dates"
   ]
  },
  {
   "cell_type": "code",
   "execution_count": 7,
   "metadata": {
    "collapsed": false
   },
   "outputs": [],
   "source": [
    "df$Data = as.Date(df$dataVenda, format = \"%d-%m-%y\")"
   ]
  },
  {
   "cell_type": "code",
   "execution_count": 8,
   "metadata": {
    "collapsed": false
   },
   "outputs": [
    {
     "data": {
      "text/html": [
       "<table>\n",
       "<thead><tr><th></th><th scope=col>dataVenda</th><th scope=col>Dia.da.Semana</th><th scope=col>Feriado_Nacional</th><th scope=col>Carnaval</th><th scope=col>Pascoa</th><th scope=col>Tiradentes</th><th scope=col>Dia_Trabalho</th><th scope=col>Corpus_Christi</th><th scope=col>Independencia</th><th scope=col>NSAparecida</th><th scope=col>ellip.h</th><th scope=col>qtdeCategoria22</th><th scope=col>qtde_Loja01</th><th scope=col>qtde_Loja02</th><th scope=col>qtde_Loja03</th><th scope=col>Entrada_op_Loja_03</th><th scope=col>valor_Loja01</th><th scope=col>valor_Loja02</th><th scope=col>valor_Loja03</th><th scope=col>Faturamento_total</th><th scope=col>Data</th></tr></thead>\n",
       "<tbody>\n",
       "\t<tr><th scope=row>1</th><td>2012-01-01</td><td>1</td><td>1</td><td>0</td><td>0</td><td>0</td><td>0</td><td>0</td><td>0</td><td>0</td><td><e2><8b><af></td><td>0</td><td>251</td><td>0</td><td>0</td><td>0</td><td>2154.84</td><td>0</td><td>0</td><td>2154.84</td><td>NA</td></tr>\n",
       "\t<tr><th scope=row>2</th><td>2012-01-02</td><td>2</td><td>0</td><td>0</td><td>0</td><td>0</td><td>0</td><td>0</td><td>0</td><td>0</td><td><e2><8b><af></td><td>19</td><td>975</td><td>800</td><td>0</td><td>0</td><td>8788.77</td><td>6707.82</td><td>0</td><td>15496.59</td><td>NA</td></tr>\n",
       "\t<tr><th scope=row>3</th><td>2012-01-03</td><td>3</td><td>0</td><td>0</td><td>0</td><td>0</td><td>0</td><td>0</td><td>0</td><td>0</td><td><e2><8b><af></td><td>15</td><td>1054</td><td>615</td><td>0</td><td>0</td><td>9209.07</td><td>5372.7</td><td>0</td><td>14581.77</td><td>NA</td></tr>\n",
       "</tbody>\n",
       "</table>\n"
      ],
      "text/latex": [
       "\\begin{tabular}{r|lllllllllllllllllllllllllllllllllllllllllllllllllllllllllllllllllll}\n",
       "  & dataVenda & Dia.da.Semana & Feriado_Nacional & Carnaval & Pascoa & Tiradentes & Dia_Trabalho & Corpus_Christi & Independencia & NSAparecida & ellip.h & qtdeCategoria22 & qtde_Loja01 & qtde_Loja02 & qtde_Loja03 & Entrada_op_Loja_03 & valor_Loja01 & valor_Loja02 & valor_Loja03 & Faturamento_total & Data\\\\\n",
       "\\hline\n",
       "\t1 & 2012-01-01 & 1 & 1 & 0 & 0 & 0 & 0 & 0 & 0 & 0 & <e2><8b><af> & 0 & 251 & 0 & 0 & 0 & 2154.84 & 0 & 0 & 2154.84 & NA\\\\\n",
       "\t2 & 2012-01-02 & 2 & 0 & 0 & 0 & 0 & 0 & 0 & 0 & 0 & <e2><8b><af> & 19 & 975 & 800 & 0 & 0 & 8788.77 & 6707.82 & 0 & 15496.59 & NA\\\\\n",
       "\t3 & 2012-01-03 & 3 & 0 & 0 & 0 & 0 & 0 & 0 & 0 & 0 & <e2><8b><af> & 15 & 1054 & 615 & 0 & 0 & 9209.07 & 5372.7 & 0 & 14581.77 & NA\\\\\n",
       "\\end{tabular}\n"
      ],
      "text/plain": [
       "   dataVenda Dia.da.Semana Feriado_Nacional Carnaval Pascoa Tiradentes\n",
       "1 2012-01-01             1                1        0      0          0\n",
       "2 2012-01-02             2                0        0      0          0\n",
       "3 2012-01-03             3                0        0      0          0\n",
       "  Dia_Trabalho Corpus_Christi Independencia NSAparecida Finados Republica Natal\n",
       "1            0              0             0           0       0         0     0\n",
       "2            0              0             0           0       0         0     0\n",
       "3            0              0             0           0       0         0     0\n",
       "  Reveillon valorCategoria1 valorCategoria2 valorCategoria3 valorCategoria4\n",
       "1         1          108.41           23.07           45.34           39.18\n",
       "2         0          148.53           87.00          576.72          134.33\n",
       "3         0          151.62          128.86          576.85          131.09\n",
       "  valorCategoria5 valorCategoria6 valorCategoria7 valorCategoria8\n",
       "1            6.58          761.06           10.50          438.42\n",
       "2           34.44         4971.94          187.16         2411.14\n",
       "3           37.98         4706.49          109.98         2802.60\n",
       "  valorCategoria9 valorCategoria10 valorCategoria11 valorCategoria12\n",
       "1           43.09            21.98            48.05            22.00\n",
       "2          184.75           154.60           409.68           235.42\n",
       "3          220.56           139.44           408.66           123.41\n",
       "  valorCategoria13 valorCategoria14 valorCategoria15 valorCategoria16\n",
       "1             0.00           222.01           121.72             4.49\n",
       "2            12.71          2060.76           971.45           168.39\n",
       "3            58.73          1478.43          1110.12            70.54\n",
       "  valorCategoria17 valorCategoria18 valorCategoria19 valorCategoria20\n",
       "1             0.00            10.92             0.00           228.02\n",
       "2            39.22           143.18             8.56          2375.13\n",
       "3            54.70           143.09             0.00          1938.24\n",
       "  valorCategoria21 valorCategoria22 qtdeCategoria1 qtdeCategoria2\n",
       "1             0.00             0.00             21              3\n",
       "2             0.00           181.48             42             14\n",
       "3            46.04           144.34             39             23\n",
       "  qtdeCategoria3 qtdeCategoria4 qtdeCategoria5 qtdeCategoria6 qtdeCategoria7\n",
       "1              8             33              1             39              4\n",
       "2            132             91              9            248             20\n",
       "3            149             93              4            229             14\n",
       "  qtdeCategoria8 qtdeCategoria9 qtdeCategoria10 qtdeCategoria11 qtdeCategoria12\n",
       "1             30              5               2               6               1\n",
       "2            240             28              34              38              13\n",
       "3            287             31              23              48               6\n",
       "  qtdeCategoria13 qtdeCategoria14 qtdeCategoria15 qtdeCategoria16\n",
       "1               0              56              13               2\n",
       "2               4             447              81              48\n",
       "3              14             359              83              25\n",
       "  qtdeCategoria17 qtdeCategoria18 qtdeCategoria19 qtdeCategoria20\n",
       "1               0               2               0              25\n",
       "2               5              21               1             240\n",
       "3              16              25               0             184\n",
       "  qtdeCategoria21 qtdeCategoria22 qtde_Loja01 qtde_Loja02 qtde_Loja03\n",
       "1               0               0         251           0           0\n",
       "2               0              19         975         800           0\n",
       "3               2              15        1054         615           0\n",
       "  Entrada_op_Loja_03 valor_Loja01 valor_Loja02 valor_Loja03 Faturamento_total\n",
       "1                  0      2154.84         0.00            0           2154.84\n",
       "2                  0      8788.77      6707.82            0          15496.59\n",
       "3                  0      9209.07      5372.70            0          14581.77\n",
       "  Data\n",
       "1 <NA>\n",
       "2 <NA>\n",
       "3 <NA>"
      ]
     },
     "execution_count": 8,
     "metadata": {},
     "output_type": "execute_result"
    }
   ],
   "source": [
    "head(df, n = 3)"
   ]
  },
  {
   "cell_type": "code",
   "execution_count": 9,
   "metadata": {
    "collapsed": false
   },
   "outputs": [
    {
     "data": {
      "text/html": [
       "<table>\n",
       "<thead><tr><th></th><th scope=col>dataVenda</th><th scope=col>Dia.da.Semana</th><th scope=col>Feriado_Nacional</th><th scope=col>Carnaval</th><th scope=col>Pascoa</th><th scope=col>Tiradentes</th><th scope=col>Dia_Trabalho</th><th scope=col>Corpus_Christi</th><th scope=col>Independencia</th><th scope=col>NSAparecida</th><th scope=col>ellip.h</th><th scope=col>qtdeCategoria22</th><th scope=col>qtde_Loja01</th><th scope=col>qtde_Loja02</th><th scope=col>qtde_Loja03</th><th scope=col>Entrada_op_Loja_03</th><th scope=col>valor_Loja01</th><th scope=col>valor_Loja02</th><th scope=col>valor_Loja03</th><th scope=col>Faturamento_total</th><th scope=col>Data</th></tr></thead>\n",
       "<tbody>\n",
       "\t<tr><th scope=row>1481</th><td>2016-01-20</td><td>4</td><td>0</td><td>0</td><td>0</td><td>0</td><td>0</td><td>0</td><td>0</td><td>0</td><td><e2><8b><af></td><td>12</td><td>536</td><td>394</td><td>235</td><td>1</td><td>5605.84</td><td>4093.54</td><td>2807.4</td><td>12506.78</td><td>NA</td></tr>\n",
       "\t<tr><th scope=row>1482</th><td>2016-01-21</td><td>5</td><td>0</td><td>0</td><td>0</td><td>0</td><td>0</td><td>0</td><td>0</td><td>0</td><td><e2><8b><af></td><td>16</td><td>531</td><td>430</td><td>395</td><td>1</td><td>6122.49</td><td>4408.54</td><td>4686.73</td><td>15217.76</td><td>NA</td></tr>\n",
       "\t<tr><th scope=row>1483</th><td>2016-01-22</td><td>6</td><td>0</td><td>0</td><td>0</td><td>0</td><td>0</td><td>0</td><td>0</td><td>0</td><td><e2><8b><af></td><td>20</td><td>554</td><td>397</td><td>413</td><td>1</td><td>6398.82</td><td>4504.21</td><td>4244.33</td><td>15147.36</td><td>NA</td></tr>\n",
       "\t<tr><th scope=row>1484</th><td>2016-01-23</td><td>7</td><td>0</td><td>0</td><td>0</td><td>0</td><td>0</td><td>0</td><td>0</td><td>0</td><td><e2><8b><af></td><td>25</td><td>605</td><td>443</td><td>402</td><td>1</td><td>5365.61</td><td>4954.79</td><td>3661.45</td><td>13981.85</td><td>NA</td></tr>\n",
       "</tbody>\n",
       "</table>\n"
      ],
      "text/latex": [
       "\\begin{tabular}{r|lllllllllllllllllllllllllllllllllllllllllllllllllllllllllllllllllll}\n",
       "  & dataVenda & Dia.da.Semana & Feriado_Nacional & Carnaval & Pascoa & Tiradentes & Dia_Trabalho & Corpus_Christi & Independencia & NSAparecida & ellip.h & qtdeCategoria22 & qtde_Loja01 & qtde_Loja02 & qtde_Loja03 & Entrada_op_Loja_03 & valor_Loja01 & valor_Loja02 & valor_Loja03 & Faturamento_total & Data\\\\\n",
       "\\hline\n",
       "\t1481 & 2016-01-20 & 4 & 0 & 0 & 0 & 0 & 0 & 0 & 0 & 0 & <e2><8b><af> & 12 & 536 & 394 & 235 & 1 & 5605.84 & 4093.54 & 2807.4 & 12506.78 & NA\\\\\n",
       "\t1482 & 2016-01-21 & 5 & 0 & 0 & 0 & 0 & 0 & 0 & 0 & 0 & <e2><8b><af> & 16 & 531 & 430 & 395 & 1 & 6122.49 & 4408.54 & 4686.73 & 15217.76 & NA\\\\\n",
       "\t1483 & 2016-01-22 & 6 & 0 & 0 & 0 & 0 & 0 & 0 & 0 & 0 & <e2><8b><af> & 20 & 554 & 397 & 413 & 1 & 6398.82 & 4504.21 & 4244.33 & 15147.36 & NA\\\\\n",
       "\t1484 & 2016-01-23 & 7 & 0 & 0 & 0 & 0 & 0 & 0 & 0 & 0 & <e2><8b><af> & 25 & 605 & 443 & 402 & 1 & 5365.61 & 4954.79 & 3661.45 & 13981.85 & NA\\\\\n",
       "\\end{tabular}\n"
      ],
      "text/plain": [
       "      dataVenda Dia.da.Semana Feriado_Nacional Carnaval Pascoa Tiradentes\n",
       "1481 2016-01-20             4                0        0      0          0\n",
       "1482 2016-01-21             5                0        0      0          0\n",
       "1483 2016-01-22             6                0        0      0          0\n",
       "1484 2016-01-23             7                0        0      0          0\n",
       "     Dia_Trabalho Corpus_Christi Independencia NSAparecida Finados Republica\n",
       "1481            0              0             0           0       0         0\n",
       "1482            0              0             0           0       0         0\n",
       "1483            0              0             0           0       0         0\n",
       "1484            0              0             0           0       0         0\n",
       "     Natal Reveillon valorCategoria1 valorCategoria2 valorCategoria3\n",
       "1481     0         0          194.49           76.85          793.91\n",
       "1482     0         0          227.27           55.65          738.86\n",
       "1483     0         0          201.73          109.40          838.77\n",
       "1484     0         0          244.71          234.20          905.90\n",
       "     valorCategoria4 valorCategoria5 valorCategoria6 valorCategoria7\n",
       "1481          240.74           24.25         3773.60           77.00\n",
       "1482          364.65           30.25         5587.53          153.90\n",
       "1483          288.90           41.11         4446.30           70.60\n",
       "1484          365.72           49.45         3515.19          107.65\n",
       "     valorCategoria8 valorCategoria9 valorCategoria10 valorCategoria11\n",
       "1481         1913.50          144.32           228.18           883.20\n",
       "1482         2422.97          213.86           229.96           670.47\n",
       "1483         2464.43          317.19           204.50           921.05\n",
       "1484         2063.65          119.26           281.73          1010.15\n",
       "     valorCategoria12 valorCategoria13 valorCategoria14 valorCategoria15\n",
       "1481            59.25            43.58          1828.44           361.34\n",
       "1482           150.74            73.74          1754.97           557.55\n",
       "1483            35.65            65.57          2153.64           567.41\n",
       "1484            20.55            64.38          2129.14           361.42\n",
       "     valorCategoria16 valorCategoria17 valorCategoria18 valorCategoria19\n",
       "1481            99.15           121.10           120.95             0.00\n",
       "1482            28.45            64.90           163.16            93.30\n",
       "1483           107.55           154.50           153.59            82.95\n",
       "1484           112.05            92.45           279.72            30.15\n",
       "     valorCategoria20 valorCategoria21 valorCategoria22 qtdeCategoria1\n",
       "1481          1366.69            12.90           143.34             33\n",
       "1482          1438.83             0.00           196.75             40\n",
       "1483          1531.74            36.55           354.23             35\n",
       "1484          1747.39             0.00           246.99             43\n",
       "     qtdeCategoria2 qtdeCategoria3 qtdeCategoria4 qtdeCategoria5 qtdeCategoria6\n",
       "1481             12            107             67              4            146\n",
       "1482             10            107            139              3            201\n",
       "1483             14            128            111              5            190\n",
       "1484             32            142            116              7            175\n",
       "     qtdeCategoria7 qtdeCategoria8 qtdeCategoria9 qtdeCategoria10\n",
       "1481             17            159             14              32\n",
       "1482             13            194             33              24\n",
       "1483             12            171             39              20\n",
       "1484             17            173             20              38\n",
       "     qtdeCategoria11 qtdeCategoria12 qtdeCategoria13 qtdeCategoria14\n",
       "1481              56               3               6             308\n",
       "1482              52               6              15             320\n",
       "1483              58               1              13             311\n",
       "1484              61               2              11             352\n",
       "     qtdeCategoria15 qtdeCategoria16 qtdeCategoria17 qtdeCategoria18\n",
       "1481              18              20              25              12\n",
       "1482              24               6              15              17\n",
       "1483              28              25              17              17\n",
       "1484              19              25              17              28\n",
       "     qtdeCategoria19 qtdeCategoria20 qtdeCategoria21 qtdeCategoria22\n",
       "1481               0             113               1              12\n",
       "1482               2             119               0              16\n",
       "1483               2             146               1              20\n",
       "1484               1             146               0              25\n",
       "     qtde_Loja01 qtde_Loja02 qtde_Loja03 Entrada_op_Loja_03 valor_Loja01\n",
       "1481         536         394         235                  1      5605.84\n",
       "1482         531         430         395                  1      6122.49\n",
       "1483         554         397         413                  1      6398.82\n",
       "1484         605         443         402                  1      5365.61\n",
       "     valor_Loja02 valor_Loja03 Faturamento_total Data\n",
       "1481      4093.54      2807.40          12506.78 <NA>\n",
       "1482      4408.54      4686.73          15217.76 <NA>\n",
       "1483      4504.21      4244.33          15147.36 <NA>\n",
       "1484      4954.79      3661.45          13981.85 <NA>"
      ]
     },
     "execution_count": 9,
     "metadata": {},
     "output_type": "execute_result"
    }
   ],
   "source": [
    "tail(df, n=4)"
   ]
  },
  {
   "cell_type": "code",
   "execution_count": 10,
   "metadata": {
    "collapsed": false
   },
   "outputs": [],
   "source": [
    "# Attaches the data frame, so we don´t need to refer to its name and the column name all the time\n",
    "attach(df)"
   ]
  },
  {
   "cell_type": "markdown",
   "metadata": {},
   "source": [
    "### Creating lagged values of the Total Daily Revenue"
   ]
  },
  {
   "cell_type": "code",
   "execution_count": 11,
   "metadata": {
    "collapsed": false
   },
   "outputs": [
    {
     "data": {
      "text/plain": [
       " [1] NA NA NA NA NA NA NA NA NA NA"
      ]
     },
     "execution_count": 11,
     "metadata": {},
     "output_type": "execute_result"
    }
   ],
   "source": [
    "df$Data[1:10]"
   ]
  },
  {
   "cell_type": "code",
   "execution_count": 12,
   "metadata": {
    "collapsed": false
   },
   "outputs": [
    {
     "name": "stdout",
     "output_type": "stream",
     "text": [
      " Date[1:1484], format: NA NA NA NA NA NA NA NA NA NA NA NA NA NA ...\n"
     ]
    }
   ],
   "source": [
    "str(df$Data)"
   ]
  },
  {
   "cell_type": "markdown",
   "metadata": {
    "collapsed": true
   },
   "source": [
    "### Need to call xts package, which needs to be previously installed"
   ]
  },
  {
   "cell_type": "code",
   "execution_count": 13,
   "metadata": {
    "collapsed": false
   },
   "outputs": [
    {
     "name": "stderr",
     "output_type": "stream",
     "text": [
      "Warning message:\n",
      ": package 'xts' was built under R version 3.2.3Loading required package: zoo\n",
      "Warning message:\n",
      ": package 'zoo' was built under R version 3.2.3\n",
      "Attaching package: 'zoo'\n",
      "\n",
      "The following objects are masked from 'package:base':\n",
      "\n",
      "    as.Date, as.Date.numeric\n",
      "\n"
     ]
    }
   ],
   "source": [
    "library(xts)"
   ]
  },
  {
   "cell_type": "markdown",
   "metadata": {},
   "source": [
    "### Create Column with Total revenue"
   ]
  },
  {
   "cell_type": "code",
   "execution_count": 14,
   "metadata": {
    "collapsed": true
   },
   "outputs": [],
   "source": [
    "df$Receita_Liq_Total =df$valor_Loja01 + df$valor_Loja02 + df$valor_Loja03"
   ]
  },
  {
   "cell_type": "code",
   "execution_count": 15,
   "metadata": {
    "collapsed": false
   },
   "outputs": [
    {
     "name": "stdout",
     "output_type": "stream",
     "text": [
      "'data.frame':\t1484 obs. of  68 variables:\n",
      " $ dataVenda         : Factor w/ 1484 levels \"2012-01-01\",\"2012-01-02\",..: 1 2 3 4 5 6 7 8 9 10 ...\n",
      " $ Dia.da.Semana     : int  1 2 3 4 5 6 7 1 2 3 ...\n",
      " $ Feriado_Nacional  : int  1 0 0 0 0 0 0 0 0 0 ...\n",
      " $ Carnaval          : int  0 0 0 0 0 0 0 0 0 0 ...\n",
      " $ Pascoa            : int  0 0 0 0 0 0 0 0 0 0 ...\n",
      " $ Tiradentes        : int  0 0 0 0 0 0 0 0 0 0 ...\n",
      " $ Dia_Trabalho      : int  0 0 0 0 0 0 0 0 0 0 ...\n",
      " $ Corpus_Christi    : int  0 0 0 0 0 0 0 0 0 0 ...\n",
      " $ Independencia     : int  0 0 0 0 0 0 0 0 0 0 ...\n",
      " $ NSAparecida       : int  0 0 0 0 0 0 0 0 0 0 ...\n",
      " $ Finados           : int  0 0 0 0 0 0 0 0 0 0 ...\n",
      " $ Republica         : int  0 0 0 0 0 0 0 0 0 0 ...\n",
      " $ Natal             : int  0 0 0 0 0 0 0 0 0 0 ...\n",
      " $ Reveillon         : int  1 0 0 0 0 0 0 0 0 0 ...\n",
      " $ valorCategoria1   : num  108 149 152 197 111 ...\n",
      " $ valorCategoria2   : num  23.1 87 128.9 209.8 225.7 ...\n",
      " $ valorCategoria3   : num  45.3 576.7 576.9 664 626.5 ...\n",
      " $ valorCategoria4   : num  39.2 134.3 131.1 148.7 195.3 ...\n",
      " $ valorCategoria5   : num  6.58 34.44 37.98 22 19.78 ...\n",
      " $ valorCategoria6   : num  761 4972 4706 5003 4999 ...\n",
      " $ valorCategoria7   : num  10.5 187.2 110 115 107.4 ...\n",
      " $ valorCategoria8   : num  438 2411 2803 2678 3012 ...\n",
      " $ valorCategoria9   : num  43.1 184.8 220.6 142.4 99.6 ...\n",
      " $ valorCategoria10  : num  22 155 139 157 147 ...\n",
      " $ valorCategoria11  : num  48 410 409 486 483 ...\n",
      " $ valorCategoria12  : num  22 235 123 238 107 ...\n",
      " $ valorCategoria13  : num  0 12.7 58.7 78 2.4 ...\n",
      " $ valorCategoria14  : num  222 2061 1478 2043 1640 ...\n",
      " $ valorCategoria15  : num  122 971 1110 998 1049 ...\n",
      " $ valorCategoria16  : num  4.49 168.39 70.54 146.7 95.97 ...\n",
      " $ valorCategoria17  : num  0 39.2 54.7 30.2 76 ...\n",
      " $ valorCategoria18  : num  10.9 143.2 143.1 166.3 137.7 ...\n",
      " $ valorCategoria19  : num  0 8.56 0 27.06 56.46 ...\n",
      " $ valorCategoria20  : num  228 2375 1938 1531 2419 ...\n",
      " $ valorCategoria21  : num  0 0 46 0 0 ...\n",
      " $ valorCategoria22  : num  0 181 144 194 157 ...\n",
      " $ qtdeCategoria1    : int  21 42 39 48 33 39 28 32 40 52 ...\n",
      " $ qtdeCategoria2    : int  3 14 23 25 27 25 37 15 14 34 ...\n",
      " $ qtdeCategoria3    : int  8 132 149 163 147 117 184 61 134 137 ...\n",
      " $ qtdeCategoria4    : int  33 91 93 84 126 79 90 90 98 105 ...\n",
      " $ qtdeCategoria5    : int  1 9 4 7 7 6 24 2 4 7 ...\n",
      " $ qtdeCategoria6    : int  39 248 229 267 248 237 223 76 260 216 ...\n",
      " $ qtdeCategoria7    : int  4 20 14 11 9 19 26 5 17 23 ...\n",
      " $ qtdeCategoria8    : int  30 240 287 258 263 277 210 130 279 286 ...\n",
      " $ qtdeCategoria9    : int  5 28 31 30 16 22 26 16 39 29 ...\n",
      " $ qtdeCategoria10   : int  2 34 23 24 26 31 36 12 24 23 ...\n",
      " $ qtdeCategoria11   : int  6 38 48 47 43 57 81 46 42 50 ...\n",
      " $ qtdeCategoria12   : int  1 13 6 11 6 7 2 7 12 13 ...\n",
      " $ qtdeCategoria13   : int  0 4 14 22 3 18 15 6 11 11 ...\n",
      " $ qtdeCategoria14   : int  56 447 359 427 396 378 371 167 376 309 ...\n",
      " $ qtdeCategoria15   : int  13 81 83 79 75 74 44 30 37 48 ...\n",
      " $ qtdeCategoria16   : int  2 48 25 28 29 30 41 15 25 20 ...\n",
      " $ qtdeCategoria17   : int  0 5 16 15 22 24 34 8 24 10 ...\n",
      " $ qtdeCategoria18   : int  2 21 25 29 24 15 38 28 31 22 ...\n",
      " $ qtdeCategoria19   : int  0 1 0 2 2 7 13 0 0 2 ...\n",
      " $ qtdeCategoria20   : int  25 240 184 149 197 193 199 102 174 148 ...\n",
      " $ qtdeCategoria21   : int  0 0 2 0 0 0 0 0 0 0 ...\n",
      " $ qtdeCategoria22   : int  0 19 15 24 14 22 23 16 17 20 ...\n",
      " $ qtde_Loja01       : int  251 975 1054 1080 1044 1015 899 624 1031 982 ...\n",
      " $ qtde_Loja02       : int  0 800 615 670 669 662 846 240 627 583 ...\n",
      " $ qtde_Loja03       : int  0 0 0 0 0 0 0 0 0 0 ...\n",
      " $ Entrada_op_Loja_03: int  0 0 0 0 0 0 0 0 0 0 ...\n",
      " $ valor_Loja01      : num  2155 8789 9209 9380 9403 ...\n",
      " $ valor_Loja02      : num  0 6708 5373 5896 6362 ...\n",
      " $ valor_Loja03      : num  0 0 0 0 0 0 0 0 0 0 ...\n",
      " $ Faturamento_total : num  2155 15497 14582 15276 15766 ...\n",
      " $ Data              : Date, format: NA NA ...\n",
      " $ Receita_Liq_Total : num  2155 15497 14582 15276 15766 ...\n"
     ]
    }
   ],
   "source": [
    "str(df)"
   ]
  },
  {
   "cell_type": "markdown",
   "metadata": {},
   "source": [
    "### Converting revenue columns to time series"
   ]
  },
  {
   "cell_type": "code",
   "execution_count": 16,
   "metadata": {
    "collapsed": false
   },
   "outputs": [],
   "source": [
    "df$Receita_Liq_Total = as.xts(df$Receita_Liq_Total, as.Date(df$Data, format = \"%d-%m-%y\"))\n",
    "df$valor_Loja01 = as.xts(df$valor_Loja01, as.Date(df$Data, format = \"%d-%m-%y\"))\n",
    "df$valor_Loja02 = as.xts(df$valor_Loja02, as.Date(df$Data, format = \"%d-%m-%y\"))\n",
    "df$valor_Loja03 = as.xts(df$valor_Loja03, as.Date(df$Data, format = \"%d-%m-%y\"))"
   ]
  },
  {
   "cell_type": "code",
   "execution_count": 17,
   "metadata": {
    "collapsed": false
   },
   "outputs": [
    {
     "data": {
      "text/plain": [
       "         [,1]\n",
       "<NA>  2154.84\n",
       "<NA> 15496.59\n",
       "<NA> 14581.77\n",
       "<NA> 15275.80\n",
       "<NA> 15765.62"
      ]
     },
     "execution_count": 17,
     "metadata": {},
     "output_type": "execute_result"
    }
   ],
   "source": [
    "df$Receita_Liq_Total[1:5]"
   ]
  },
  {
   "cell_type": "code",
   "execution_count": 18,
   "metadata": {
    "collapsed": false
   },
   "outputs": [
    {
     "name": "stdout",
     "output_type": "stream",
     "text": [
      " num [1:1484] 2155 8789 9209 9380 9403 ...\n"
     ]
    }
   ],
   "source": [
    "str(valor_Loja01)"
   ]
  },
  {
   "cell_type": "code",
   "execution_count": 19,
   "metadata": {
    "collapsed": false
   },
   "outputs": [
    {
     "name": "stdout",
     "output_type": "stream",
     "text": [
      "An 'xts' object on NA/NA containing:\n",
      "  Data: num [1:1484, 1] 2155 8789 9209 9380 9403 ...\n",
      "  Indexed by objects of class: [Date] TZ: UTC\n",
      "  Original class: 'double'  \n",
      "  xts Attributes:  \n",
      " NULL\n"
     ]
    }
   ],
   "source": [
    "str(df$valor_Loja01)"
   ]
  },
  {
   "cell_type": "markdown",
   "metadata": {},
   "source": [
    "### Create lagged variables"
   ]
  },
  {
   "cell_type": "code",
   "execution_count": 20,
   "metadata": {
    "collapsed": true
   },
   "outputs": [],
   "source": [
    "df$l01_Receita_Liq_Total=lag(df$Receita_Liq_Total,1)"
   ]
  },
  {
   "cell_type": "code",
   "execution_count": 21,
   "metadata": {
    "collapsed": false
   },
   "outputs": [
    {
     "data": {
      "text/plain": [
       "         [,1]\n",
       "<NA>       NA\n",
       "<NA>  2154.84\n",
       "<NA> 15496.59\n",
       "<NA> 14581.77\n",
       "<NA> 15275.80\n",
       "<NA> 15765.62\n",
       "<NA> 16031.13\n",
       "<NA> 14253.16"
      ]
     },
     "execution_count": 21,
     "metadata": {},
     "output_type": "execute_result"
    }
   ],
   "source": [
    "df$l01_Receita_Liq_Total[1:8] "
   ]
  },
  {
   "cell_type": "code",
   "execution_count": 22,
   "metadata": {
    "collapsed": true
   },
   "outputs": [],
   "source": [
    "df$l02_Receita_Liq_Total=lag(df$Receita_Liq_Total,2)"
   ]
  },
  {
   "cell_type": "code",
   "execution_count": 23,
   "metadata": {
    "collapsed": false
   },
   "outputs": [
    {
     "data": {
      "text/plain": [
       "         [,1]\n",
       "<NA>       NA\n",
       "<NA>       NA\n",
       "<NA>  2154.84\n",
       "<NA> 15496.59\n",
       "<NA> 14581.77\n",
       "<NA> 15275.80\n",
       "<NA> 15765.62\n",
       "<NA> 16031.13"
      ]
     },
     "execution_count": 23,
     "metadata": {},
     "output_type": "execute_result"
    }
   ],
   "source": [
    "df$l02_Receita_Liq_Total[1:8] "
   ]
  },
  {
   "cell_type": "code",
   "execution_count": 24,
   "metadata": {
    "collapsed": true
   },
   "outputs": [],
   "source": [
    "df$l03_Receita_Liq_Total=lag(df$Receita_Liq_Total,3)"
   ]
  },
  {
   "cell_type": "code",
   "execution_count": 25,
   "metadata": {
    "collapsed": true
   },
   "outputs": [],
   "source": [
    "df$l04_Receita_Liq_Total=lag(df$Receita_Liq_Total,4)"
   ]
  },
  {
   "cell_type": "code",
   "execution_count": 26,
   "metadata": {
    "collapsed": true
   },
   "outputs": [],
   "source": [
    "df$l05_Receita_Liq_Total=lag(df$Receita_Liq_Total,5)"
   ]
  },
  {
   "cell_type": "code",
   "execution_count": 27,
   "metadata": {
    "collapsed": true
   },
   "outputs": [],
   "source": [
    "df$l06_Receita_Liq_Total=lag(df$Receita_Liq_Total,6)"
   ]
  },
  {
   "cell_type": "code",
   "execution_count": 28,
   "metadata": {
    "collapsed": true
   },
   "outputs": [],
   "source": [
    "df$l07_Receita_Liq_Total=lag(df$Receita_Liq_Total,7)"
   ]
  },
  {
   "cell_type": "code",
   "execution_count": 29,
   "metadata": {
    "collapsed": true
   },
   "outputs": [],
   "source": [
    "df$l08_Receita_Liq_Total=lag(df$Receita_Liq_Total,8)"
   ]
  },
  {
   "cell_type": "code",
   "execution_count": 30,
   "metadata": {
    "collapsed": true
   },
   "outputs": [],
   "source": [
    "df$l09_Receita_Liq_Total=lag(df$Receita_Liq_Total,9)"
   ]
  },
  {
   "cell_type": "code",
   "execution_count": 31,
   "metadata": {
    "collapsed": true
   },
   "outputs": [],
   "source": [
    "df$l10_Receita_Liq_Total=lag(df$Receita_Liq_Total,10)"
   ]
  },
  {
   "cell_type": "code",
   "execution_count": 32,
   "metadata": {
    "collapsed": true
   },
   "outputs": [],
   "source": [
    "df$l11_Receita_Liq_Total=lag(df$Receita_Liq_Total,11)"
   ]
  },
  {
   "cell_type": "code",
   "execution_count": 33,
   "metadata": {
    "collapsed": true
   },
   "outputs": [],
   "source": [
    "df$l12_Receita_Liq_Total=lag(df$Receita_Liq_Total,12)"
   ]
  },
  {
   "cell_type": "code",
   "execution_count": 34,
   "metadata": {
    "collapsed": true
   },
   "outputs": [],
   "source": [
    "df$l13_Receita_Liq_Total=lag(df$Receita_Liq_Total,13)"
   ]
  },
  {
   "cell_type": "code",
   "execution_count": 35,
   "metadata": {
    "collapsed": true
   },
   "outputs": [],
   "source": [
    "df$l14_Receita_Liq_Total=lag(df$Receita_Liq_Total,14)"
   ]
  },
  {
   "cell_type": "markdown",
   "metadata": {},
   "source": [
    "### Dimension of the dataframe with the recently created columns of lagged revenues"
   ]
  },
  {
   "cell_type": "code",
   "execution_count": 36,
   "metadata": {
    "collapsed": false
   },
   "outputs": [
    {
     "data": {
      "text/html": [
       "<ol class=list-inline>\n",
       "\t<li>1484</li>\n",
       "\t<li>82</li>\n",
       "</ol>\n"
      ],
      "text/latex": [
       "\\begin{enumerate*}\n",
       "\\item 1484\n",
       "\\item 82\n",
       "\\end{enumerate*}\n"
      ],
      "text/markdown": [
       "1. 1484\n",
       "2. 82\n",
       "\n",
       "\n"
      ],
      "text/plain": [
       "[1] 1484   82"
      ]
     },
     "execution_count": 36,
     "metadata": {},
     "output_type": "execute_result"
    }
   ],
   "source": [
    "dim(df)"
   ]
  },
  {
   "cell_type": "markdown",
   "metadata": {},
   "source": [
    "### Installing Graphics packages"
   ]
  },
  {
   "cell_type": "code",
   "execution_count": 37,
   "metadata": {
    "collapsed": false
   },
   "outputs": [
    {
     "name": "stderr",
     "output_type": "stream",
     "text": [
      "Warning message:\n",
      ": package 'ggplot2' was built under R version 3.2.3"
     ]
    }
   ],
   "source": [
    "library(ggplot2)"
   ]
  },
  {
   "cell_type": "markdown",
   "metadata": {},
   "source": [
    "### Time Series Plot of Total Revenue"
   ]
  },
  {
   "cell_type": "code",
   "execution_count": 38,
   "metadata": {
    "collapsed": false
   },
   "outputs": [
    {
     "name": "stderr",
     "output_type": "stream",
     "text": [
      "Don't know how to automatically pick scale for object of type xts/zoo. Defaulting to continuous\n",
      "Warning message:\n",
      "In data.row.names(row.names, rowsi, i): some row.names duplicated: 2,3,4,5,6,7,8,9,10,11,12,13,14,15,16,17,18,19,20,21,22,23,24,25,26,27,28,29,30,31,32,33,34,35,36,37,38,39,40,41,42,43,44,45,46,47,48,49,50,51,52,53,54,55,56,57,58,59,60,61,62,63,64,65,66,67,68,69,70,71,72,73,74,75,76,77,78,79,80,81,82,83,84,85,86,87,88,89,90,91,92,93,94,95,96,97,98,99,100,101,102,103,104,105,106,107,108,109,110,111,112,113,114,115,116,117,118,119,120,121,122,123,124,125,126,127,128,129,130,131,132,133,134,135,136,137,138,139,140,141,142,143,144,145,146,147,148,149,150,151,152,153,154,155,156,157,158,159,160,161,162,163,164,165,166,167,168,169,170,171,172,173,174,175,176,177,178,179,180,181,182,183,184,185,186,187,188,189,190,191,192,193,194,195,196,197,198,199,200,201,202,203,204,205,206,207,208,209,210,211,212,213,214,215,216,217,218,219,220,221,222,223,224,225,226,227,228,229,230,231,232,233,234,235,236,237,238,239,240,241,242,243,244,245,246,247,248,249,250,251,252,253,254,255,256,257,258,259,260,261,262,263,264,265,266,267,268,269,270,271,272,273,274,275,276,277,278,279,280,281,282,283,284,285,286,287,288,289,290,291,292,293,294,295,296,297,298,299,300,301,302,303,304,305,306,307,308,309,310,311,312,313,314,315,316,317,318,319,320,321,322,323,324,325,326,327,328,329,330,331,332,333,334,335,336,337,338,339,340,341,342,343,344,345,346,347,348,349,350,351,352,353,354,355,356,357,358,359,360,361,362,363,364,365,366,367,368,369,370,371,372,373,374,375,376,377,378,379,380,381,382,383,384,385,386,387,388,389,390,391,392,393,394,395,396,397,398,399,400,401,402,403,404,405,406,407,408,409,410,411,412,413,414,415,416,417,418,419,420,421,422,423,424,425,426,427,428,429,430,431,432,433,434,435,436,437,438,439,440,441,442,443,444,445,446,447,448,449,450,451,452,453,454,455,456,457,458,459,460,461,462,463,464,465,466,467,468,469,470,471,472,473,474,475,476,477,478,479,480,481,482,483,484,485,486,487,488,489,490,491,492,493,494,495,496,497,498,499,500,501,502,503,504,505,506,507,508,509,510,511,512,513,514,515,516,517,518,519,520,521,522,523,524,525,526,527,528,529,530,531,532,533,534,535,536,537,538,539,540,541,542,543,544,545,546,547,548,549,550,551,552,553,554,555,556,557,558,559,560,561,562,563,564,565,566,567,568,569,570,571,572,573,574,575,576,577,578,579,580,581,582,583,584,585,586,587,588,589,590,591,592,593,594,595,596,597,598,599,600,601,602,603,604,605,606,607,608,609,610,611,612,613,614,615,616,617,618,619,620,621,622,623,624,625,626,627,628,629,630,631,632,633,634,635,636,637,638,639,640,641,642,643,644,645,646,647,648,649,650,651,652,653,654,655,656,657,658,659,660,661,662,663,664,665,666,667,668,669,670,671,672,673,674,675,676,677,678,679,680,681,682,683,684,685,686,687,688,689,690,691,692,693,694,695,696,697,698,699,700,701,702,703,704,705,706,707,708,709,710,711,712,713,714,715,716,717,718,719,720,721,722,723,724,725,726,727,728,729,730,731,732,733,734,735,736,737,738,739,740,741,742,743,744,745,746,747,748,749,750,751,752,753,754,755,756,757,758,759,760,761,762,763,764,765,766,767,768,769,770,771,772,773,774,775,776,777,778,779,780,781,782,783,784,785,786,787,788,789,790,791,792,793,794,795,796,797,798,799,800,801,802,803,804,805,806,807,808,809,810,811,812,813,814,815,816,817,818,819,820,821,822,823,824,825,826,827,828,829,830,831,832,833,834,835,836,837,838,839,840,841,842,843,844,845,846,847,848,849,850,851,852,853,854,855,856,857,858,859,860,861,862,863,864,865,866,867,868,869,870,871,872,873,874,875,876,877,878,879,880,881,882,883,884,885,886,887,888,889,890,891,892,893,894,895,896,897,898,899,900,901,902,903,904,905,906,907,908,909,910,911,912,913,914,915,916,917,918,919,920,921,922,923,924,925,926,927,928,929,930,931,932,933,934,935,936,937,938,939,940,941,942,943,944,945,946,947,948,949,950,951,952,953,954,955,956,957,958,959,960,961,962,963,964,965,966,967,968,969,970,971,972,973,974,975,976,977,978,979,980,981,982,983,984,985,986,987,988,989,990,991,992,993,994,995,996,997,998,999,1000,1001,1002,1003,1004,1005,1006,1007,1008,1009,1010,1011,1012,1013,1014,1015,1016,1017,1018,1019,1020,1021,1022,1023,1024,1025,1026,1027,1028,1029,1030,1031,1032,1033,1034,1035,1036,1037,1038,1039,1040,1041,1042,1043,1044,1045,1046,1047,1048,1049,1050,1051,1052,1053,1054,1055,1056,1057,1058,1059,1060,1061,1062,1063,1064,1065,1066,1067,1068,1069,1070,1071,1072,1073,1074,1075,1076,1077,1078,1079,1080,1081,1082,1083,1084,1085,1086,1087,1088,1089,1090,1091,1092,1093,1094,1095,1096,1097,1098,1099,1100,1101,1102,1103,1104,1105,1106,1107,1108,1109,1110,1111,1112,1113,1114,1115,1116,1117,1118,1119,1120,1121,1122,1123,1124,1125,1126,1127,1128,1129,1130,1131,1132,1133,1134,1135,1136,1137,1138,1139,1140,1141,1142,1143,1144,1145,1146,1147,1148,1149,1150,1151,1152,1153,1154,1155,1156,1157,1158,1159,1160,1161,1162,1163,1164,1165,1166,1167,1168,1169,1170,1171,1172,1173,1174,1175,1176,1177,1178,1179,1180,1181,1182,1183,1184,1185,1186,1187,1188,1189,1190,1191,1192,1193,1194,1195,1196,1197,1198,1199,1200,1201,1202,1203,1204,1205,1206,1207,1208,1209,1210,1211,1212,1213,1214,1215,1216,1217,1218,1219,1220,1221,1222,1223,1224,1225,1226,1227,1228,1229,1230,1231,1232,1233,1234,1235,1236,1237,1238,1239,1240,1241,1242,1243,1244,1245,1246,1247,1248,1249,1250,1251,1252,1253,1254,1255,1256,1257,1258,1259,1260,1261,1262,1263,1264,1265,1266,1267,1268,1269,1270,1271,1272,1273,1274,1275,1276,1277,1278,1279,1280,1281,1282,1283,1284,1285,1286,1287,1288,1289,1290,1291,1292,1293,1294,1295,1296,1297,1298,1299,1300,1301,1302,1303,1304,1305,1306,1307,1308,1309,1310,1311,1312,1313,1314,1315,1316,1317,1318,1319,1320,1321,1322,1323,1324,1325,1326,1327,1328,1329,1330,1331,1332,1333,1334,1335,1336,1337,1338,1339,1340,1341,1342,1343,1344,1345,1346,1347,1348,1349,1350,1351,1352,1353,1354,1355,1356,1357,1358,1359,1360,1361,1362,1363,1364,1365,1366,1367,1368,1369,1370,1371,1372,1373,1374,1375,1376,1377,1378,1379,1380,1381,1382,1383,1384,1385,1386,1387,1388,1389,1390,1391,1392,1393,1394,1395,1396,1397,1398,1399,1400,1401,1402,1403,1404,1405,1406,1407,1408,1409,1410,1411,1412,1413,1414,1415,1416,1417,1418,1419,1420,1421,1422,1423,1424,1425,1426,1427,1428,1429,1430,1431,1432,1433,1434,1435,1436,1437,1438,1439,1440,1441,1442,1443,1444,1445,1446,1447,1448,1449,1450,1451,1452,1453,1454,1455,1456,1457,1458,1459,1460,1461,1462,1463,1464,1465,1466,1467,1468,1469,1470,1471,1472,1473,1474,1475,1476,1477,1478,1479,1480,1481,1482,1483,1484 --> row.names NOT used"
     ]
    },
    {
     "ename": "ERROR",
     "evalue": "Error in seq.int(0, to0 - from, by): 'to' cannot be NA, NaN or infinite\n",
     "output_type": "error",
     "traceback": [
      "Error in seq.int(0, to0 - from, by): 'to' cannot be NA, NaN or infinite\n"
     ]
    },
    {
     "ename": "ERROR",
     "evalue": "Error in file(con, \"rb\"): cannot open the connection\n",
     "output_type": "error",
     "traceback": [
      "Error in file(con, \"rb\"): cannot open the connection\n"
     ]
    },
    {
     "data": {
      "image/png": "[encoded data removed]",
      "text/plain": [
       "plot without title"
      ]
     },
     "metadata": {
      "image/svg+xml": {
       "isolated": true
      }
     },
     "output_type": "display_data"
    }
   ],
   "source": [
    "ggplot(df, aes(Data, Receita_Liq_Total)) + geom_line(color='#000033') + ggtitle(\"Vendas Liquidas Totais Diarias\");"
   ]
  },
  {
   "cell_type": "code",
   "execution_count": 39,
   "metadata": {
    "collapsed": false
   },
   "outputs": [
    {
     "name": "stderr",
     "output_type": "stream",
     "text": [
      "Don't know how to automatically pick scale for object of type xts/zoo. Defaulting to continuous\n",
      "Warning message:\n",
      "In data.row.names(row.names, rowsi, i): some row.names duplicated: 2,3,4,5,6,7,8,9,10,11,12,13,14,15,16,17,18,19,20,21,22,23,24,25,26,27,28,29,30,31,32,33,34,35,36,37,38,39,40,41,42,43,44,45,46,47,48,49,50,51,52,53,54,55,56,57,58,59,60,61,62,63,64,65,66,67,68,69,70,71,72,73,74,75,76,77,78,79,80,81,82,83,84,85,86,87,88,89,90,91,92,93,94,95,96,97,98,99,100,101,102,103,104,105,106,107,108,109,110,111,112,113,114,115,116,117,118,119,120,121,122,123,124,125,126,127,128,129,130,131,132,133,134,135,136,137,138,139,140,141,142,143,144,145,146,147,148,149,150,151,152,153,154,155,156,157,158,159,160,161,162,163,164,165,166,167,168,169,170,171,172,173,174,175,176,177,178,179,180,181,182,183,184,185,186,187,188,189,190,191,192,193,194,195,196,197,198,199,200,201,202,203,204,205,206,207,208,209,210,211,212,213,214,215,216,217,218,219,220,221,222,223,224,225,226,227,228,229,230,231,232,233,234,235,236,237,238,239,240,241,242,243,244,245,246,247,248,249,250,251,252,253,254,255,256,257,258,259,260,261,262,263,264,265,266,267,268,269,270,271,272,273,274,275,276,277,278,279,280,281,282,283,284,285,286,287,288,289,290,291,292,293,294,295,296,297,298,299,300,301,302,303,304,305,306,307,308,309,310,311,312,313,314,315,316,317,318,319,320,321,322,323,324,325,326,327,328,329,330,331,332,333,334,335,336,337,338,339,340,341,342,343,344,345,346,347,348,349,350,351,352,353,354,355,356,357,358,359,360,361,362,363,364,365,366,367,368,369,370,371,372,373,374,375,376,377,378,379,380,381,382,383,384,385,386,387,388,389,390,391,392,393,394,395,396,397,398,399,400,401,402,403,404,405,406,407,408,409,410,411,412,413,414,415,416,417,418,419,420,421,422,423,424,425,426,427,428,429,430,431,432,433,434,435,436,437,438,439,440,441,442,443,444,445,446,447,448,449,450,451,452,453,454,455,456,457,458,459,460,461,462,463,464,465,466,467,468,469,470,471,472,473,474,475,476,477,478,479,480,481,482,483,484,485,486,487,488,489,490,491,492,493,494,495,496,497,498,499,500,501,502,503,504,505,506,507,508,509,510,511,512,513,514,515,516,517,518,519,520,521,522,523,524,525,526,527,528,529,530,531,532,533,534,535,536,537,538,539,540,541,542,543,544,545,546,547,548,549,550,551,552,553,554,555,556,557,558,559,560,561,562,563,564,565,566,567,568,569,570,571,572,573,574,575,576,577,578,579,580,581,582,583,584,585,586,587,588,589,590,591,592,593,594,595,596,597,598,599,600,601,602,603,604,605,606,607,608,609,610,611,612,613,614,615,616,617,618,619,620,621,622,623,624,625,626,627,628,629,630,631,632,633,634,635,636,637,638,639,640,641,642,643,644,645,646,647,648,649,650,651,652,653,654,655,656,657,658,659,660,661,662,663,664,665,666,667,668,669,670,671,672,673,674,675,676,677,678,679,680,681,682,683,684,685,686,687,688,689,690,691,692,693,694,695,696,697,698,699,700,701,702,703,704,705,706,707,708,709,710,711,712,713,714,715,716,717,718,719,720,721,722,723,724,725,726,727,728,729,730,731,732,733,734,735,736,737,738,739,740,741,742,743,744,745,746,747,748,749,750,751,752,753,754,755,756,757,758,759,760,761,762,763,764,765,766,767,768,769,770,771,772,773,774,775,776,777,778,779,780,781,782,783,784,785,786,787,788,789,790,791,792,793,794,795,796,797,798,799,800,801,802,803,804,805,806,807,808,809,810,811,812,813,814,815,816,817,818,819,820,821,822,823,824,825,826,827,828,829,830,831,832,833,834,835,836,837,838,839,840,841,842,843,844,845,846,847,848,849,850,851,852,853,854,855,856,857,858,859,860,861,862,863,864,865,866,867,868,869,870,871,872,873,874,875,876,877,878,879,880,881,882,883,884,885,886,887,888,889,890,891,892,893,894,895,896,897,898,899,900,901,902,903,904,905,906,907,908,909,910,911,912,913,914,915,916,917,918,919,920,921,922,923,924,925,926,927,928,929,930,931,932,933,934,935,936,937,938,939,940,941,942,943,944,945,946,947,948,949,950,951,952,953,954,955,956,957,958,959,960,961,962,963,964,965,966,967,968,969,970,971,972,973,974,975,976,977,978,979,980,981,982,983,984,985,986,987,988,989,990,991,992,993,994,995,996,997,998,999,1000,1001,1002,1003,1004,1005,1006,1007,1008,1009,1010,1011,1012,1013,1014,1015,1016,1017,1018,1019,1020,1021,1022,1023,1024,1025,1026,1027,1028,1029,1030,1031,1032,1033,1034,1035,1036,1037,1038,1039,1040,1041,1042,1043,1044,1045,1046,1047,1048,1049,1050,1051,1052,1053,1054,1055,1056,1057,1058,1059,1060,1061,1062,1063,1064,1065,1066,1067,1068,1069,1070,1071,1072,1073,1074,1075,1076,1077,1078,1079,1080,1081,1082,1083,1084,1085,1086,1087,1088,1089,1090,1091,1092,1093,1094,1095,1096,1097,1098,1099,1100,1101,1102,1103,1104,1105,1106,1107,1108,1109,1110,1111,1112,1113,1114,1115,1116,1117,1118,1119,1120,1121,1122,1123,1124,1125,1126,1127,1128,1129,1130,1131,1132,1133,1134,1135,1136,1137,1138,1139,1140,1141,1142,1143,1144,1145,1146,1147,1148,1149,1150,1151,1152,1153,1154,1155,1156,1157,1158,1159,1160,1161,1162,1163,1164,1165,1166,1167,1168,1169,1170,1171,1172,1173,1174,1175,1176,1177,1178,1179,1180,1181,1182,1183,1184,1185,1186,1187,1188,1189,1190,1191,1192,1193,1194,1195,1196,1197,1198,1199,1200,1201,1202,1203,1204,1205,1206,1207,1208,1209,1210,1211,1212,1213,1214,1215,1216,1217,1218,1219,1220,1221,1222,1223,1224,1225,1226,1227,1228,1229,1230,1231,1232,1233,1234,1235,1236,1237,1238,1239,1240,1241,1242,1243,1244,1245,1246,1247,1248,1249,1250,1251,1252,1253,1254,1255,1256,1257,1258,1259,1260,1261,1262,1263,1264,1265,1266,1267,1268,1269,1270,1271,1272,1273,1274,1275,1276,1277,1278,1279,1280,1281,1282,1283,1284,1285,1286,1287,1288,1289,1290,1291,1292,1293,1294,1295,1296,1297,1298,1299,1300,1301,1302,1303,1304,1305,1306,1307,1308,1309,1310,1311,1312,1313,1314,1315,1316,1317,1318,1319,1320,1321,1322,1323,1324,1325,1326,1327,1328,1329,1330,1331,1332,1333,1334,1335,1336,1337,1338,1339,1340,1341,1342,1343,1344,1345,1346,1347,1348,1349,1350,1351,1352,1353,1354,1355,1356,1357,1358,1359,1360,1361,1362,1363,1364,1365,1366,1367,1368,1369,1370,1371,1372,1373,1374,1375,1376,1377,1378,1379,1380,1381,1382,1383,1384,1385,1386,1387,1388,1389,1390,1391,1392,1393,1394,1395,1396,1397,1398,1399,1400,1401,1402,1403,1404,1405,1406,1407,1408,1409,1410,1411,1412,1413,1414,1415,1416,1417,1418,1419,1420,1421,1422,1423,1424,1425,1426,1427,1428,1429,1430,1431,1432,1433,1434,1435,1436,1437,1438,1439,1440,1441,1442,1443,1444,1445,1446,1447,1448,1449,1450,1451,1452,1453,1454,1455,1456,1457,1458,1459,1460,1461,1462,1463,1464,1465,1466,1467,1468,1469,1470,1471,1472,1473,1474,1475,1476,1477,1478,1479,1480,1481,1482,1483,1484 --> row.names NOT used`stat_bin()` using `bins = 30`. Pick better value with `binwidth`.\n"
     ]
    },
    {
     "data": {
      "image/png": "[encoded data removed]",
      "image/svg+xml": [
       "<?xml version=\"1.0\" encoding=\"UTF-8\"?>\n",
       "<svg xmlns=\"http://www.w3.org/2000/svg\" xmlns:xlink=\"http://www.w3.org/1999/xlink\" width=\"504pt\" height=\"504pt\" viewBox=\"0 0 504 504\" version=\"1.1\">\n",
       "<defs>\n",
       "<g>\n",
       "<symbol overflow=\"visible\" id=\"glyph0-0\">\n",
       "<path style=\"stroke:none;\" d=\"M 0.367188 -3.105469 C 0.363281 -3.847656 0.4375 -4.445313 0.59375 -4.902344 C 0.742188 -5.355469 0.972656 -5.707031 1.277344 -5.953125 C 1.578125 -6.199219 1.957031 -6.320313 2.417969 -6.324219 C 2.753906 -6.320313 3.050781 -6.253906 3.308594 -6.121094 C 3.5625 -5.984375 3.773438 -5.789063 3.9375 -5.53125 C 4.101563 -5.273438 4.230469 -4.960938 4.328125 -4.59375 C 4.421875 -4.226563 4.46875 -3.730469 4.472656 -3.105469 C 4.46875 -2.367188 4.394531 -1.769531 4.242188 -1.316406 C 4.089844 -0.859375 3.863281 -0.507813 3.5625 -0.261719 C 3.257813 -0.015625 2.875 0.105469 2.417969 0.109375 C 1.808594 0.105469 1.332031 -0.109375 0.988281 -0.546875 C 0.570313 -1.066406 0.363281 -1.921875 0.367188 -3.105469 Z M 1.160156 -3.105469 C 1.160156 -2.070313 1.28125 -1.378906 1.523438 -1.039063 C 1.765625 -0.695313 2.0625 -0.527344 2.417969 -0.527344 C 2.773438 -0.527344 3.074219 -0.699219 3.316406 -1.042969 C 3.558594 -1.386719 3.679688 -2.074219 3.679688 -3.105469 C 3.679688 -4.144531 3.558594 -4.832031 3.316406 -5.171875 C 3.074219 -5.511719 2.769531 -5.683594 2.410156 -5.683594 C 2.050781 -5.683594 1.769531 -5.53125 1.558594 -5.234375 C 1.292969 -4.84375 1.160156 -4.136719 1.160156 -3.105469 Z M 1.160156 -3.105469 \"/>\n",
       "</symbol>\n",
       "<symbol overflow=\"visible\" id=\"glyph0-1\">\n",
       "<path style=\"stroke:none;\" d=\"M 0.367188 -1.648438 L 1.175781 -1.71875 C 1.234375 -1.320313 1.375 -1.023438 1.59375 -0.824219 C 1.8125 -0.625 2.078125 -0.527344 2.390625 -0.527344 C 2.761719 -0.527344 3.074219 -0.667969 3.335938 -0.949219 C 3.589844 -1.230469 3.71875 -1.601563 3.722656 -2.066406 C 3.71875 -2.503906 3.59375 -2.851563 3.347656 -3.109375 C 3.097656 -3.363281 2.773438 -3.492188 2.375 -3.492188 C 2.125 -3.492188 1.902344 -3.433594 1.703125 -3.320313 C 1.5 -3.207031 1.34375 -3.0625 1.230469 -2.882813 L 0.503906 -2.976563 L 1.113281 -6.214844 L 4.246094 -6.214844 L 4.246094 -5.472656 L 1.730469 -5.472656 L 1.390625 -3.78125 C 1.765625 -4.039063 2.164063 -4.171875 2.582031 -4.175781 C 3.128906 -4.171875 3.59375 -3.980469 3.972656 -3.605469 C 4.351563 -3.222656 4.539063 -2.734375 4.542969 -2.136719 C 4.539063 -1.5625 4.375 -1.070313 4.042969 -0.65625 C 3.636719 -0.148438 3.085938 0.105469 2.390625 0.109375 C 1.816406 0.105469 1.347656 -0.0507813 0.984375 -0.371094 C 0.621094 -0.691406 0.414063 -1.117188 0.367188 -1.648438 Z M 0.367188 -1.648438 \"/>\n",
       "</symbol>\n",
       "<symbol overflow=\"visible\" id=\"glyph0-2\">\n",
       "<path style=\"stroke:none;\" d=\"M 3.277344 0 L 2.503906 0 L 2.503906 -4.929688 C 2.316406 -4.75 2.074219 -4.574219 1.773438 -4.394531 C 1.46875 -4.214844 1.195313 -4.082031 0.957031 -3.996094 L 0.957031 -4.742188 C 1.386719 -4.941406 1.765625 -5.1875 2.089844 -5.480469 C 2.414063 -5.769531 2.644531 -6.050781 2.78125 -6.324219 L 3.277344 -6.324219 Z M 3.277344 0 \"/>\n",
       "</symbol>\n",
       "<symbol overflow=\"visible\" id=\"glyph0-3\">\n",
       "<path style=\"stroke:none;\" d=\"M 4.429688 -0.742188 L 4.429688 0 L 0.265625 0 C 0.257813 -0.1875 0.289063 -0.367188 0.355469 -0.539063 C 0.460938 -0.820313 0.628906 -1.097656 0.863281 -1.375 C 1.09375 -1.648438 1.433594 -1.964844 1.878906 -2.328125 C 2.5625 -2.886719 3.023438 -3.332031 3.265625 -3.664063 C 3.5 -3.988281 3.621094 -4.300781 3.625 -4.59375 C 3.621094 -4.898438 3.511719 -5.15625 3.296875 -5.367188 C 3.074219 -5.578125 2.789063 -5.683594 2.441406 -5.683594 C 2.066406 -5.683594 1.769531 -5.570313 1.546875 -5.347656 C 1.320313 -5.125 1.207031 -4.816406 1.207031 -4.421875 L 0.414063 -4.503906 C 0.464844 -5.09375 0.667969 -5.542969 1.027344 -5.855469 C 1.378906 -6.164063 1.855469 -6.320313 2.457031 -6.324219 C 3.058594 -6.320313 3.539063 -6.152344 3.890625 -5.820313 C 4.242188 -5.484375 4.417969 -5.070313 4.421875 -4.578125 C 4.417969 -4.320313 4.367188 -4.074219 4.265625 -3.832031 C 4.164063 -3.589844 3.992188 -3.332031 3.753906 -3.0625 C 3.511719 -2.792969 3.113281 -2.425781 2.5625 -1.957031 C 2.09375 -1.566406 1.796875 -1.300781 1.664063 -1.160156 C 1.53125 -1.019531 1.421875 -0.878906 1.339844 -0.742188 Z M 4.429688 -0.742188 \"/>\n",
       "</symbol>\n",
       "<symbol overflow=\"visible\" id=\"glyph0-4\">\n",
       "<path style=\"stroke:none;\" d=\"M 0.371094 -1.664063 L 1.144531 -1.765625 C 1.230469 -1.324219 1.382813 -1.007813 1.597656 -0.816406 C 1.808594 -0.621094 2.066406 -0.527344 2.375 -0.527344 C 2.734375 -0.527344 3.042969 -0.652344 3.296875 -0.90625 C 3.546875 -1.15625 3.671875 -1.46875 3.675781 -1.84375 C 3.671875 -2.195313 3.554688 -2.488281 3.324219 -2.71875 C 3.089844 -2.949219 2.796875 -3.0625 2.441406 -3.066406 C 2.292969 -3.0625 2.109375 -3.035156 1.894531 -2.980469 L 1.980469 -3.660156 C 2.03125 -3.652344 2.070313 -3.648438 2.105469 -3.652344 C 2.433594 -3.648438 2.730469 -3.734375 2.996094 -3.910156 C 3.253906 -4.078125 3.386719 -4.34375 3.390625 -4.703125 C 3.386719 -4.984375 3.289063 -5.21875 3.101563 -5.40625 C 2.90625 -5.589844 2.660156 -5.683594 2.359375 -5.6875 C 2.054688 -5.683594 1.804688 -5.589844 1.605469 -5.402344 C 1.402344 -5.214844 1.273438 -4.929688 1.21875 -4.554688 L 0.445313 -4.691406 C 0.539063 -5.207031 0.753906 -5.609375 1.089844 -5.894531 C 1.425781 -6.179688 1.84375 -6.320313 2.34375 -6.324219 C 2.6875 -6.320313 3.003906 -6.246094 3.292969 -6.101563 C 3.582031 -5.953125 3.800781 -5.753906 3.953125 -5.5 C 4.105469 -5.242188 4.183594 -4.972656 4.183594 -4.6875 C 4.183594 -4.414063 4.109375 -4.164063 3.964844 -3.945313 C 3.816406 -3.71875 3.601563 -3.542969 3.316406 -3.410156 C 3.6875 -3.324219 3.976563 -3.144531 4.183594 -2.875 C 4.390625 -2.601563 4.492188 -2.261719 4.496094 -1.859375 C 4.492188 -1.304688 4.292969 -0.839844 3.894531 -0.460938 C 3.492188 -0.078125 2.984375 0.109375 2.371094 0.113281 C 1.816406 0.109375 1.355469 -0.0507813 0.992188 -0.378906 C 0.625 -0.707031 0.417969 -1.136719 0.371094 -1.664063 Z M 0.371094 -1.664063 \"/>\n",
       "</symbol>\n",
       "<symbol overflow=\"visible\" id=\"glyph1-0\">\n",
       "<path style=\"stroke:none;\" d=\"M 0.863281 0 L 0.863281 -7.875 L 4.355469 -7.875 C 5.054688 -7.875 5.589844 -7.800781 5.957031 -7.660156 C 6.320313 -7.515625 6.613281 -7.265625 6.832031 -6.910156 C 7.050781 -6.550781 7.160156 -6.15625 7.160156 -5.726563 C 7.160156 -5.164063 6.976563 -4.695313 6.617188 -4.3125 C 6.25 -3.929688 5.691406 -3.683594 4.941406 -3.582031 C 5.214844 -3.445313 5.425781 -3.316406 5.570313 -3.191406 C 5.871094 -2.910156 6.160156 -2.5625 6.433594 -2.144531 L 7.804688 0 L 6.492188 0 L 5.453125 -1.636719 C 5.144531 -2.105469 4.894531 -2.46875 4.699219 -2.722656 C 4.503906 -2.96875 4.328125 -3.144531 4.171875 -3.246094 C 4.015625 -3.347656 3.855469 -3.417969 3.695313 -3.460938 C 3.574219 -3.480469 3.382813 -3.492188 3.117188 -3.496094 L 1.90625 -3.496094 L 1.90625 0 Z M 1.90625 -4.398438 L 4.148438 -4.398438 C 4.621094 -4.394531 4.992188 -4.445313 5.261719 -4.546875 C 5.53125 -4.644531 5.734375 -4.800781 5.875 -5.019531 C 6.011719 -5.234375 6.082031 -5.46875 6.085938 -5.726563 C 6.082031 -6.09375 5.945313 -6.402344 5.679688 -6.644531 C 5.40625 -6.882813 4.980469 -7 4.398438 -7.003906 L 1.90625 -7.003906 Z M 1.90625 -4.398438 \"/>\n",
       "</symbol>\n",
       "<symbol overflow=\"visible\" id=\"glyph1-1\">\n",
       "<path style=\"stroke:none;\" d=\"M 4.628906 -1.835938 L 5.628906 -1.714844 C 5.46875 -1.125 5.175781 -0.671875 4.75 -0.351563 C 4.324219 -0.03125 3.78125 0.128906 3.121094 0.128906 C 2.28125 0.128906 1.617188 -0.125 1.132813 -0.640625 C 0.640625 -1.152344 0.398438 -1.875 0.402344 -2.804688 C 0.398438 -3.761719 0.644531 -4.503906 1.144531 -5.035156 C 1.636719 -5.5625 2.277344 -5.828125 3.066406 -5.832031 C 3.824219 -5.828125 4.449219 -5.570313 4.933594 -5.050781 C 5.417969 -4.53125 5.660156 -3.800781 5.660156 -2.863281 C 5.660156 -2.804688 5.65625 -2.71875 5.65625 -2.605469 L 1.402344 -2.605469 C 1.433594 -1.976563 1.613281 -1.496094 1.933594 -1.164063 C 2.25 -0.828125 2.644531 -0.660156 3.125 -0.664063 C 3.476563 -0.660156 3.78125 -0.753906 4.03125 -0.945313 C 4.28125 -1.128906 4.480469 -1.425781 4.628906 -1.835938 Z M 1.457031 -3.398438 L 4.640625 -3.398438 C 4.597656 -3.878906 4.472656 -4.238281 4.273438 -4.480469 C 3.960938 -4.851563 3.5625 -5.039063 3.078125 -5.039063 C 2.628906 -5.039063 2.257813 -4.890625 1.957031 -4.59375 C 1.652344 -4.296875 1.484375 -3.898438 1.457031 -3.398438 Z M 1.457031 -3.398438 \"/>\n",
       "</symbol>\n",
       "<symbol overflow=\"visible\" id=\"glyph1-2\">\n",
       "<path style=\"stroke:none;\" d=\"M 4.445313 -2.089844 L 5.398438 -1.964844 C 5.289063 -1.308594 5.023438 -0.796875 4.597656 -0.425781 C 4.167969 -0.0546875 3.644531 0.128906 3.023438 0.128906 C 2.242188 0.128906 1.613281 -0.125 1.140625 -0.636719 C 0.664063 -1.144531 0.425781 -1.875 0.429688 -2.832031 C 0.425781 -3.441406 0.527344 -3.980469 0.734375 -4.445313 C 0.9375 -4.90625 1.25 -5.253906 1.667969 -5.484375 C 2.082031 -5.714844 2.535156 -5.828125 3.03125 -5.832031 C 3.644531 -5.828125 4.152344 -5.671875 4.546875 -5.363281 C 4.941406 -5.046875 5.191406 -4.601563 5.304688 -4.027344 L 4.367188 -3.882813 C 4.273438 -4.261719 4.117188 -4.550781 3.890625 -4.746094 C 3.664063 -4.941406 3.386719 -5.039063 3.066406 -5.039063 C 2.574219 -5.039063 2.179688 -4.863281 1.878906 -4.515625 C 1.570313 -4.164063 1.417969 -3.613281 1.421875 -2.859375 C 1.417969 -2.089844 1.566406 -1.53125 1.863281 -1.183594 C 2.15625 -0.835938 2.539063 -0.660156 3.011719 -0.664063 C 3.390625 -0.660156 3.707031 -0.777344 3.960938 -1.011719 C 4.214844 -1.242188 4.375 -1.601563 4.445313 -2.089844 Z M 4.445313 -2.089844 \"/>\n",
       "</symbol>\n",
       "<symbol overflow=\"visible\" id=\"glyph1-3\">\n",
       "<path style=\"stroke:none;\" d=\"M 0.730469 -6.761719 L 0.730469 -7.875 L 1.695313 -7.875 L 1.695313 -6.761719 Z M 0.730469 0 L 0.730469 -5.703125 L 1.695313 -5.703125 L 1.695313 0 Z M 0.730469 0 \"/>\n",
       "</symbol>\n",
       "<symbol overflow=\"visible\" id=\"glyph1-4\">\n",
       "<path style=\"stroke:none;\" d=\"M 2.835938 -0.863281 L 2.976563 -0.0117188 C 2.703125 0.0429688 2.457031 0.0703125 2.246094 0.0742188 C 1.890625 0.0703125 1.621094 0.0195313 1.429688 -0.0898438 C 1.234375 -0.199219 1.097656 -0.347656 1.019531 -0.527344 C 0.941406 -0.707031 0.902344 -1.085938 0.902344 -1.671875 L 0.902344 -4.953125 L 0.195313 -4.953125 L 0.195313 -5.703125 L 0.902344 -5.703125 L 0.902344 -7.117188 L 1.863281 -7.695313 L 1.863281 -5.703125 L 2.835938 -5.703125 L 2.835938 -4.953125 L 1.863281 -4.953125 L 1.863281 -1.617188 C 1.863281 -1.339844 1.878906 -1.160156 1.914063 -1.085938 C 1.945313 -1.003906 2 -0.941406 2.078125 -0.898438 C 2.152344 -0.847656 2.261719 -0.824219 2.410156 -0.828125 C 2.515625 -0.824219 2.660156 -0.835938 2.835938 -0.863281 Z M 2.835938 -0.863281 \"/>\n",
       "</symbol>\n",
       "<symbol overflow=\"visible\" id=\"glyph1-5\">\n",
       "<path style=\"stroke:none;\" d=\"M 4.445313 -0.703125 C 4.085938 -0.398438 3.742188 -0.183594 3.414063 -0.0585938 C 3.082031 0.0664063 2.726563 0.128906 2.347656 0.128906 C 1.71875 0.128906 1.238281 -0.0234375 0.902344 -0.328125 C 0.566406 -0.632813 0.398438 -1.023438 0.398438 -1.503906 C 0.398438 -1.78125 0.460938 -2.035156 0.585938 -2.269531 C 0.710938 -2.496094 0.875 -2.683594 1.085938 -2.824219 C 1.289063 -2.964844 1.523438 -3.070313 1.78125 -3.140625 C 1.96875 -3.191406 2.253906 -3.238281 2.640625 -3.289063 C 3.417969 -3.375 3.992188 -3.488281 4.367188 -3.621094 C 4.367188 -3.753906 4.371094 -3.835938 4.371094 -3.871094 C 4.371094 -4.265625 4.277344 -4.542969 4.097656 -4.703125 C 3.847656 -4.917969 3.480469 -5.027344 2.996094 -5.03125 C 2.539063 -5.027344 2.203125 -4.949219 1.988281 -4.792969 C 1.769531 -4.632813 1.609375 -4.351563 1.507813 -3.949219 L 0.5625 -4.078125 C 0.648438 -4.480469 0.789063 -4.804688 0.988281 -5.054688 C 1.183594 -5.300781 1.46875 -5.492188 1.84375 -5.628906 C 2.214844 -5.761719 2.644531 -5.828125 3.136719 -5.832031 C 3.621094 -5.828125 4.019531 -5.773438 4.324219 -5.660156 C 4.628906 -5.542969 4.851563 -5.398438 4.996094 -5.226563 C 5.136719 -5.054688 5.238281 -4.835938 5.296875 -4.570313 C 5.328125 -4.40625 5.34375 -4.109375 5.34375 -3.679688 L 5.34375 -2.390625 C 5.34375 -1.492188 5.363281 -0.921875 5.40625 -0.683594 C 5.445313 -0.445313 5.527344 -0.21875 5.648438 0 L 4.640625 0 C 4.539063 -0.199219 4.472656 -0.433594 4.445313 -0.703125 Z M 4.367188 -2.863281 C 4.011719 -2.71875 3.488281 -2.597656 2.789063 -2.496094 C 2.390625 -2.4375 2.105469 -2.371094 1.941406 -2.300781 C 1.773438 -2.226563 1.648438 -2.121094 1.5625 -1.988281 C 1.472656 -1.847656 1.429688 -1.695313 1.429688 -1.53125 C 1.429688 -1.269531 1.527344 -1.054688 1.722656 -0.886719 C 1.917969 -0.710938 2.203125 -0.625 2.578125 -0.628906 C 2.949219 -0.625 3.277344 -0.707031 3.570313 -0.871094 C 3.859375 -1.03125 4.074219 -1.253906 4.210938 -1.542969 C 4.3125 -1.753906 4.363281 -2.078125 4.367188 -2.507813 Z M 4.367188 -2.863281 \"/>\n",
       "</symbol>\n",
       "<symbol overflow=\"visible\" id=\"glyph1-6\">\n",
       "<path style=\"stroke:none;\" d=\"M -0.167969 2.1875 L -0.167969 1.488281 L 6.242188 1.488281 L 6.242188 2.1875 Z M -0.167969 2.1875 \"/>\n",
       "</symbol>\n",
       "<symbol overflow=\"visible\" id=\"glyph1-7\">\n",
       "<path style=\"stroke:none;\" d=\"M 0.804688 0 L 0.804688 -7.875 L 1.847656 -7.875 L 1.847656 -0.929688 L 5.726563 -0.929688 L 5.726563 0 Z M 0.804688 0 \"/>\n",
       "</symbol>\n",
       "<symbol overflow=\"visible\" id=\"glyph1-8\">\n",
       "<path style=\"stroke:none;\" d=\"M 4.359375 2.1875 L 4.359375 -0.605469 C 4.210938 -0.390625 4 -0.214844 3.730469 -0.078125 C 3.457031 0.0625 3.167969 0.128906 2.867188 0.128906 C 2.1875 0.128906 1.605469 -0.140625 1.117188 -0.679688 C 0.628906 -1.21875 0.386719 -1.960938 0.386719 -2.90625 C 0.386719 -3.476563 0.484375 -3.988281 0.683594 -4.445313 C 0.882813 -4.898438 1.171875 -5.242188 1.550781 -5.480469 C 1.925781 -5.710938 2.339844 -5.828125 2.792969 -5.832031 C 3.496094 -5.828125 4.050781 -5.53125 4.457031 -4.941406 L 4.457031 -5.703125 L 5.328125 -5.703125 L 5.328125 2.1875 Z M 1.378906 -2.867188 C 1.375 -2.128906 1.53125 -1.578125 1.839844 -1.214844 C 2.148438 -0.84375 2.515625 -0.660156 2.949219 -0.664063 C 3.355469 -0.660156 3.710938 -0.835938 4.011719 -1.1875 C 4.304688 -1.535156 4.453125 -2.066406 4.457031 -2.78125 C 4.453125 -3.539063 4.296875 -4.109375 3.988281 -4.496094 C 3.671875 -4.875 3.304688 -5.066406 2.882813 -5.070313 C 2.464844 -5.066406 2.109375 -4.890625 1.816406 -4.535156 C 1.523438 -4.175781 1.375 -3.617188 1.378906 -2.867188 Z M 1.378906 -2.867188 \"/>\n",
       "</symbol>\n",
       "<symbol overflow=\"visible\" id=\"glyph1-9\">\n",
       "<path style=\"stroke:none;\" d=\"M 2.851563 0 L 2.851563 -6.945313 L 0.257813 -6.945313 L 0.257813 -7.875 L 6.5 -7.875 L 6.5 -6.945313 L 3.894531 -6.945313 L 3.894531 0 Z M 2.851563 0 \"/>\n",
       "</symbol>\n",
       "<symbol overflow=\"visible\" id=\"glyph1-10\">\n",
       "<path style=\"stroke:none;\" d=\"M 0.367188 -2.851563 C 0.363281 -3.90625 0.65625 -4.6875 1.246094 -5.199219 C 1.734375 -5.617188 2.332031 -5.828125 3.039063 -5.832031 C 3.820313 -5.828125 4.460938 -5.574219 4.960938 -5.0625 C 5.457031 -4.546875 5.707031 -3.835938 5.710938 -2.933594 C 5.707031 -2.195313 5.597656 -1.617188 5.378906 -1.199219 C 5.15625 -0.777344 4.832031 -0.449219 4.414063 -0.21875 C 3.992188 0.015625 3.535156 0.128906 3.039063 0.128906 C 2.238281 0.128906 1.59375 -0.125 1.105469 -0.636719 C 0.609375 -1.148438 0.363281 -1.886719 0.367188 -2.851563 Z M 1.359375 -2.851563 C 1.359375 -2.121094 1.515625 -1.574219 1.835938 -1.210938 C 2.152344 -0.84375 2.554688 -0.660156 3.039063 -0.664063 C 3.515625 -0.660156 3.914063 -0.84375 4.234375 -1.210938 C 4.550781 -1.574219 4.710938 -2.132813 4.714844 -2.882813 C 4.710938 -3.585938 4.550781 -4.117188 4.234375 -4.484375 C 3.910156 -4.84375 3.511719 -5.027344 3.039063 -5.03125 C 2.554688 -5.027344 2.152344 -4.847656 1.835938 -4.488281 C 1.515625 -4.128906 1.359375 -3.582031 1.359375 -2.851563 Z M 1.359375 -2.851563 \"/>\n",
       "</symbol>\n",
       "<symbol overflow=\"visible\" id=\"glyph1-11\">\n",
       "<path style=\"stroke:none;\" d=\"M 0.703125 0 L 0.703125 -7.875 L 1.671875 -7.875 L 1.671875 0 Z M 0.703125 0 \"/>\n",
       "</symbol>\n",
       "<symbol overflow=\"visible\" id=\"glyph2-0\">\n",
       "<path style=\"stroke:none;\" d=\"M -2.089844 -4.445313 L -1.964844 -5.398438 C -1.308594 -5.289063 -0.796875 -5.023438 -0.425781 -4.597656 C -0.0546875 -4.167969 0.128906 -3.644531 0.128906 -3.023438 C 0.128906 -2.242188 -0.125 -1.613281 -0.636719 -1.140625 C -1.144531 -0.664063 -1.875 -0.425781 -2.832031 -0.429688 C -3.441406 -0.425781 -3.980469 -0.527344 -4.445313 -0.734375 C -4.90625 -0.9375 -5.253906 -1.25 -5.484375 -1.667969 C -5.714844 -2.082031 -5.828125 -2.535156 -5.832031 -3.03125 C -5.828125 -3.644531 -5.671875 -4.152344 -5.363281 -4.546875 C -5.046875 -4.941406 -4.601563 -5.191406 -4.027344 -5.304688 L -3.882813 -4.367188 C -4.261719 -4.273438 -4.550781 -4.117188 -4.746094 -3.890625 C -4.941406 -3.664063 -5.039063 -3.386719 -5.039063 -3.066406 C -5.039063 -2.574219 -4.863281 -2.179688 -4.515625 -1.878906 C -4.164063 -1.570313 -3.613281 -1.417969 -2.859375 -1.421875 C -2.089844 -1.417969 -1.53125 -1.566406 -1.183594 -1.863281 C -0.835938 -2.15625 -0.660156 -2.539063 -0.664063 -3.011719 C -0.660156 -3.390625 -0.777344 -3.707031 -1.011719 -3.960938 C -1.242188 -4.214844 -1.601563 -4.375 -2.089844 -4.445313 Z M -2.089844 -4.445313 \"/>\n",
       "</symbol>\n",
       "<symbol overflow=\"visible\" id=\"glyph2-1\">\n",
       "<path style=\"stroke:none;\" d=\"M -2.851563 -0.367188 C -3.90625 -0.363281 -4.6875 -0.65625 -5.199219 -1.246094 C -5.617188 -1.734375 -5.828125 -2.332031 -5.832031 -3.039063 C -5.828125 -3.820313 -5.574219 -4.460938 -5.0625 -4.960938 C -4.546875 -5.457031 -3.835938 -5.707031 -2.933594 -5.710938 C -2.195313 -5.707031 -1.617188 -5.597656 -1.199219 -5.378906 C -0.777344 -5.15625 -0.449219 -4.832031 -0.21875 -4.414063 C 0.015625 -3.992188 0.128906 -3.535156 0.128906 -3.039063 C 0.128906 -2.238281 -0.125 -1.59375 -0.636719 -1.105469 C -1.148438 -0.609375 -1.886719 -0.363281 -2.851563 -0.367188 Z M -2.851563 -1.359375 C -2.121094 -1.359375 -1.574219 -1.515625 -1.210938 -1.835938 C -0.84375 -2.152344 -0.660156 -2.554688 -0.664063 -3.039063 C -0.660156 -3.515625 -0.84375 -3.914063 -1.210938 -4.234375 C -1.574219 -4.550781 -2.132813 -4.710938 -2.882813 -4.714844 C -3.585938 -4.710938 -4.117188 -4.550781 -4.484375 -4.234375 C -4.84375 -3.910156 -5.027344 -3.511719 -5.03125 -3.039063 C -5.027344 -2.554688 -4.847656 -2.152344 -4.488281 -1.835938 C -4.128906 -1.515625 -3.582031 -1.359375 -2.851563 -1.359375 Z M -2.851563 -1.359375 \"/>\n",
       "</symbol>\n",
       "<symbol overflow=\"visible\" id=\"glyph2-2\">\n",
       "<path style=\"stroke:none;\" d=\"M 0 -4.464844 L -0.835938 -4.464844 C -0.191406 -4.019531 0.128906 -3.414063 0.128906 -2.652344 C 0.128906 -2.3125 0.0664063 -2 -0.0625 -1.710938 C -0.191406 -1.417969 -0.355469 -1.199219 -0.550781 -1.058594 C -0.746094 -0.914063 -0.984375 -0.816406 -1.265625 -0.761719 C -1.453125 -0.722656 -1.753906 -0.703125 -2.171875 -0.703125 L -5.703125 -0.703125 L -5.703125 -1.671875 L -2.539063 -1.671875 C -2.03125 -1.667969 -1.691406 -1.6875 -1.519531 -1.730469 C -1.261719 -1.785156 -1.0625 -1.914063 -0.917969 -2.113281 C -0.773438 -2.308594 -0.703125 -2.554688 -0.703125 -2.847656 C -0.703125 -3.136719 -0.777344 -3.40625 -0.925781 -3.660156 C -1.074219 -3.914063 -1.273438 -4.09375 -1.53125 -4.199219 C -1.785156 -4.304688 -2.160156 -4.359375 -2.648438 -4.359375 L -5.703125 -4.359375 L -5.703125 -5.328125 L 0 -5.328125 Z M 0 -4.464844 \"/>\n",
       "</symbol>\n",
       "<symbol overflow=\"visible\" id=\"glyph2-3\">\n",
       "<path style=\"stroke:none;\" d=\"M 0 -0.726563 L -5.703125 -0.726563 L -5.703125 -1.59375 L -4.894531 -1.59375 C -5.515625 -2.011719 -5.828125 -2.617188 -5.832031 -3.410156 C -5.828125 -3.753906 -5.765625 -4.066406 -5.644531 -4.355469 C -5.519531 -4.640625 -5.359375 -4.859375 -5.160156 -5.003906 C -4.957031 -5.144531 -4.71875 -5.242188 -4.445313 -5.304688 C -4.265625 -5.335938 -3.953125 -5.355469 -3.507813 -5.359375 L 0 -5.359375 L 0 -4.394531 L -3.46875 -4.394531 C -3.863281 -4.394531 -4.15625 -4.355469 -4.351563 -4.28125 C -4.542969 -4.203125 -4.699219 -4.070313 -4.820313 -3.878906 C -4.933594 -3.6875 -4.992188 -3.460938 -4.996094 -3.207031 C -4.992188 -2.792969 -4.859375 -2.4375 -4.601563 -2.140625 C -4.335938 -1.835938 -3.84375 -1.6875 -3.117188 -1.691406 L 0 -1.691406 Z M 0 -0.726563 \"/>\n",
       "</symbol>\n",
       "<symbol overflow=\"visible\" id=\"glyph2-4\">\n",
       "<path style=\"stroke:none;\" d=\"M -0.863281 -2.835938 L -0.0117188 -2.976563 C 0.0429688 -2.703125 0.0703125 -2.457031 0.0742188 -2.246094 C 0.0703125 -1.890625 0.0195313 -1.621094 -0.0898438 -1.429688 C -0.199219 -1.234375 -0.347656 -1.097656 -0.527344 -1.019531 C -0.707031 -0.941406 -1.085938 -0.902344 -1.671875 -0.902344 L -4.953125 -0.902344 L -4.953125 -0.195313 L -5.703125 -0.195313 L -5.703125 -0.902344 L -7.117188 -0.902344 L -7.695313 -1.863281 L -5.703125 -1.863281 L -5.703125 -2.835938 L -4.953125 -2.835938 L -4.953125 -1.863281 L -1.617188 -1.863281 C -1.339844 -1.863281 -1.160156 -1.878906 -1.082031 -1.914063 C -1 -1.945313 -0.9375 -2 -0.894531 -2.078125 C -0.847656 -2.152344 -0.824219 -2.261719 -0.828125 -2.410156 C -0.824219 -2.515625 -0.835938 -2.660156 -0.863281 -2.835938 Z M -0.863281 -2.835938 \"/>\n",
       "</symbol>\n",
       "<symbol overflow=\"visible\" id=\"glyph3-0\">\n",
       "<path style=\"stroke:none;\" d=\"M 1.058594 0 L 1.058594 -9.449219 L 2.308594 -9.449219 L 2.308594 -5.570313 L 7.21875 -5.570313 L 7.21875 -9.449219 L 8.46875 -9.449219 L 8.46875 0 L 7.21875 0 L 7.21875 -4.453125 L 2.308594 -4.453125 L 2.308594 0 Z M 1.058594 0 \"/>\n",
       "</symbol>\n",
       "<symbol overflow=\"visible\" id=\"glyph3-1\">\n",
       "<path style=\"stroke:none;\" d=\"M 0.875 -8.113281 L 0.875 -9.449219 L 2.035156 -9.449219 L 2.035156 -8.113281 Z M 0.875 0 L 0.875 -6.84375 L 2.035156 -6.84375 L 2.035156 0 Z M 0.875 0 \"/>\n",
       "</symbol>\n",
       "<symbol overflow=\"visible\" id=\"glyph3-2\">\n",
       "<path style=\"stroke:none;\" d=\"M 0.40625 -2.042969 L 1.554688 -2.222656 C 1.613281 -1.761719 1.792969 -1.410156 2.089844 -1.167969 C 2.382813 -0.917969 2.792969 -0.796875 3.324219 -0.800781 C 3.855469 -0.796875 4.253906 -0.90625 4.511719 -1.125 C 4.769531 -1.339844 4.898438 -1.59375 4.898438 -1.886719 C 4.898438 -2.148438 4.785156 -2.355469 4.558594 -2.507813 C 4.398438 -2.609375 4 -2.738281 3.371094 -2.898438 C 2.515625 -3.113281 1.925781 -3.300781 1.601563 -3.457031 C 1.269531 -3.613281 1.019531 -3.828125 0.851563 -4.105469 C 0.679688 -4.382813 0.597656 -4.691406 0.597656 -5.027344 C 0.597656 -5.332031 0.667969 -5.613281 0.808594 -5.875 C 0.949219 -6.132813 1.136719 -6.347656 1.378906 -6.523438 C 1.554688 -6.652344 1.800781 -6.765625 2.117188 -6.859375 C 2.425781 -6.949219 2.761719 -6.996094 3.121094 -7 C 3.65625 -6.996094 4.128906 -6.917969 4.535156 -6.765625 C 4.941406 -6.609375 5.238281 -6.398438 5.433594 -6.136719 C 5.621094 -5.871094 5.753906 -5.519531 5.832031 -5.078125 L 4.699219 -4.925781 C 4.644531 -5.273438 4.492188 -5.546875 4.25 -5.75 C 4 -5.945313 3.652344 -6.046875 3.203125 -6.046875 C 2.667969 -6.046875 2.289063 -5.957031 2.0625 -5.78125 C 1.835938 -5.601563 1.722656 -5.394531 1.722656 -5.164063 C 1.722656 -5.007813 1.769531 -4.875 1.863281 -4.757813 C 1.957031 -4.632813 2.105469 -4.527344 2.308594 -4.445313 C 2.421875 -4.402344 2.761719 -4.304688 3.332031 -4.152344 C 4.148438 -3.929688 4.71875 -3.75 5.046875 -3.609375 C 5.367188 -3.46875 5.625 -3.265625 5.8125 -3.003906 C 5.996094 -2.734375 6.085938 -2.402344 6.089844 -2.011719 C 6.085938 -1.621094 5.972656 -1.257813 5.75 -0.917969 C 5.523438 -0.574219 5.199219 -0.308594 4.773438 -0.125 C 4.347656 0.0625 3.867188 0.152344 3.332031 0.15625 C 2.441406 0.152344 1.761719 -0.03125 1.296875 -0.398438 C 0.828125 -0.765625 0.53125 -1.3125 0.40625 -2.042969 Z M 0.40625 -2.042969 \"/>\n",
       "</symbol>\n",
       "<symbol overflow=\"visible\" id=\"glyph3-3\">\n",
       "<path style=\"stroke:none;\" d=\"M 3.402344 -1.039063 L 3.570313 -0.0117188 C 3.242188 0.0546875 2.953125 0.0859375 2.695313 0.0898438 C 2.273438 0.0859375 1.945313 0.0234375 1.714844 -0.109375 C 1.480469 -0.238281 1.316406 -0.414063 1.222656 -0.632813 C 1.125 -0.851563 1.078125 -1.308594 1.082031 -2.003906 L 1.082031 -5.941406 L 0.230469 -5.941406 L 0.230469 -6.84375 L 1.082031 -6.84375 L 1.082031 -8.539063 L 2.238281 -9.234375 L 2.238281 -6.84375 L 3.402344 -6.84375 L 3.402344 -5.941406 L 2.238281 -5.941406 L 2.238281 -1.941406 C 2.238281 -1.605469 2.257813 -1.394531 2.296875 -1.300781 C 2.335938 -1.207031 2.402344 -1.128906 2.496094 -1.074219 C 2.589844 -1.015625 2.722656 -0.988281 2.894531 -0.992188 C 3.019531 -0.988281 3.1875 -1.003906 3.402344 -1.039063 Z M 3.402344 -1.039063 \"/>\n",
       "</symbol>\n",
       "<symbol overflow=\"visible\" id=\"glyph3-4\">\n",
       "<path style=\"stroke:none;\" d=\"M 0.4375 -3.421875 C 0.433594 -4.6875 0.785156 -5.625 1.496094 -6.238281 C 2.082031 -6.742188 2.800781 -6.996094 3.648438 -7 C 4.585938 -6.996094 5.355469 -6.6875 5.953125 -6.074219 C 6.550781 -5.453125 6.847656 -4.601563 6.851563 -3.519531 C 6.847656 -2.636719 6.714844 -1.945313 6.453125 -1.441406 C 6.1875 -0.933594 5.804688 -0.539063 5.300781 -0.261719 C 4.792969 0.015625 4.242188 0.152344 3.648438 0.15625 C 2.6875 0.152344 1.914063 -0.152344 1.324219 -0.765625 C 0.730469 -1.378906 0.433594 -2.265625 0.4375 -3.421875 Z M 1.628906 -3.421875 C 1.628906 -2.546875 1.820313 -1.890625 2.203125 -1.453125 C 2.585938 -1.015625 3.066406 -0.796875 3.648438 -0.800781 C 4.222656 -0.796875 4.703125 -1.015625 5.085938 -1.457031 C 5.46875 -1.890625 5.660156 -2.558594 5.660156 -3.460938 C 5.660156 -4.304688 5.464844 -4.945313 5.082031 -5.382813 C 4.691406 -5.816406 4.214844 -6.035156 3.648438 -6.039063 C 3.066406 -6.035156 2.585938 -5.816406 2.203125 -5.386719 C 1.820313 -4.949219 1.628906 -4.296875 1.628906 -3.421875 Z M 1.628906 -3.421875 \"/>\n",
       "</symbol>\n",
       "<symbol overflow=\"visible\" id=\"glyph3-5\">\n",
       "<path style=\"stroke:none;\" d=\"M 0.65625 0.566406 L 1.785156 0.734375 C 1.828125 1.078125 1.960938 1.332031 2.179688 1.496094 C 2.464844 1.707031 2.855469 1.816406 3.359375 1.816406 C 3.890625 1.816406 4.304688 1.707031 4.601563 1.492188 C 4.890625 1.277344 5.089844 0.976563 5.195313 0.59375 C 5.253906 0.351563 5.28125 -0.140625 5.277344 -0.894531 C 4.769531 -0.296875 4.136719 0 3.382813 0 C 2.4375 0 1.710938 -0.335938 1.199219 -1.015625 C 0.679688 -1.691406 0.421875 -2.507813 0.425781 -3.460938 C 0.421875 -4.113281 0.539063 -4.714844 0.777344 -5.269531 C 1.011719 -5.816406 1.355469 -6.242188 1.804688 -6.546875 C 2.253906 -6.84375 2.78125 -6.996094 3.390625 -7 C 4.195313 -6.996094 4.859375 -6.667969 5.386719 -6.019531 L 5.386719 -6.84375 L 6.457031 -6.84375 L 6.457031 -0.929688 C 6.457031 0.136719 6.347656 0.890625 6.132813 1.335938 C 5.914063 1.78125 5.570313 2.132813 5.101563 2.390625 C 4.628906 2.648438 4.050781 2.777344 3.363281 2.777344 C 2.546875 2.777344 1.886719 2.59375 1.386719 2.226563 C 0.882813 1.859375 0.640625 1.304688 0.65625 0.566406 Z M 1.617188 -3.546875 C 1.617188 -2.644531 1.792969 -1.988281 2.152344 -1.578125 C 2.503906 -1.164063 2.953125 -0.960938 3.492188 -0.960938 C 4.023438 -0.960938 4.46875 -1.164063 4.832031 -1.574219 C 5.191406 -1.984375 5.371094 -2.628906 5.375 -3.507813 C 5.371094 -4.339844 5.1875 -4.96875 4.816406 -5.398438 C 4.445313 -5.820313 3.996094 -6.035156 3.472656 -6.039063 C 2.953125 -6.035156 2.515625 -5.824219 2.15625 -5.410156 C 1.796875 -4.988281 1.617188 -4.367188 1.617188 -3.546875 Z M 1.617188 -3.546875 \"/>\n",
       "</symbol>\n",
       "<symbol overflow=\"visible\" id=\"glyph3-6\">\n",
       "<path style=\"stroke:none;\" d=\"M 0.855469 0 L 0.855469 -6.84375 L 1.902344 -6.84375 L 1.902344 -5.808594 C 2.164063 -6.289063 2.410156 -6.609375 2.636719 -6.765625 C 2.863281 -6.917969 3.109375 -6.996094 3.382813 -7 C 3.769531 -6.996094 4.167969 -6.871094 4.578125 -6.625 L 4.175781 -5.550781 C 3.890625 -5.714844 3.605469 -5.800781 3.324219 -5.800781 C 3.066406 -5.800781 2.839844 -5.722656 2.640625 -5.570313 C 2.4375 -5.417969 2.292969 -5.207031 2.210938 -4.9375 C 2.078125 -4.523438 2.015625 -4.070313 2.015625 -3.582031 L 2.015625 0 Z M 0.855469 0 \"/>\n",
       "</symbol>\n",
       "<symbol overflow=\"visible\" id=\"glyph3-7\">\n",
       "<path style=\"stroke:none;\" d=\"M 5.335938 -0.84375 C 4.902344 -0.476563 4.488281 -0.21875 4.09375 -0.0703125 C 3.695313 0.078125 3.269531 0.152344 2.816406 0.15625 C 2.0625 0.152344 1.484375 -0.0273438 1.082031 -0.394531 C 0.675781 -0.761719 0.472656 -1.234375 0.476563 -1.804688 C 0.472656 -2.140625 0.550781 -2.445313 0.703125 -2.722656 C 0.855469 -3 1.054688 -3.222656 1.304688 -3.390625 C 1.550781 -3.554688 1.828125 -3.679688 2.140625 -3.769531 C 2.363281 -3.824219 2.707031 -3.882813 3.171875 -3.945313 C 4.105469 -4.054688 4.796875 -4.1875 5.238281 -4.34375 C 5.242188 -4.5 5.242188 -4.601563 5.246094 -4.648438 C 5.242188 -5.117188 5.132813 -5.449219 4.917969 -5.644531 C 4.617188 -5.902344 4.179688 -6.035156 3.597656 -6.039063 C 3.050781 -6.035156 2.644531 -5.9375 2.386719 -5.75 C 2.125 -5.554688 1.933594 -5.21875 1.8125 -4.738281 L 0.675781 -4.890625 C 0.777344 -5.375 0.949219 -5.765625 1.183594 -6.066406 C 1.417969 -6.363281 1.757813 -6.59375 2.210938 -6.757813 C 2.65625 -6.914063 3.175781 -6.996094 3.765625 -7 C 4.347656 -6.996094 4.820313 -6.925781 5.1875 -6.792969 C 5.546875 -6.652344 5.816406 -6.480469 5.992188 -6.273438 C 6.160156 -6.0625 6.28125 -5.800781 6.355469 -5.484375 C 6.390625 -5.285156 6.410156 -4.925781 6.414063 -4.414063 L 6.414063 -2.867188 C 6.410156 -1.785156 6.433594 -1.105469 6.488281 -0.820313 C 6.535156 -0.535156 6.632813 -0.261719 6.78125 0 L 5.570313 0 C 5.445313 -0.238281 5.367188 -0.519531 5.335938 -0.84375 Z M 5.238281 -3.433594 C 4.816406 -3.261719 4.183594 -3.113281 3.34375 -2.996094 C 2.863281 -2.925781 2.527344 -2.851563 2.332031 -2.765625 C 2.132813 -2.679688 1.980469 -2.550781 1.875 -2.386719 C 1.765625 -2.21875 1.710938 -2.035156 1.714844 -1.835938 C 1.710938 -1.523438 1.828125 -1.265625 2.066406 -1.0625 C 2.296875 -0.851563 2.640625 -0.75 3.09375 -0.753906 C 3.539063 -0.75 3.933594 -0.847656 4.285156 -1.046875 C 4.628906 -1.238281 4.886719 -1.507813 5.054688 -1.851563 C 5.175781 -2.109375 5.238281 -2.496094 5.238281 -3.011719 Z M 5.238281 -3.433594 \"/>\n",
       "</symbol>\n",
       "<symbol overflow=\"visible\" id=\"glyph3-8\">\n",
       "<path style=\"stroke:none;\" d=\"M 0.871094 0 L 0.871094 -6.84375 L 1.90625 -6.84375 L 1.90625 -5.882813 C 2.117188 -6.21875 2.40625 -6.488281 2.765625 -6.691406 C 3.121094 -6.894531 3.527344 -6.996094 3.984375 -7 C 4.488281 -6.996094 4.902344 -6.890625 5.230469 -6.683594 C 5.554688 -6.46875 5.785156 -6.175781 5.917969 -5.800781 C 6.457031 -6.597656 7.160156 -6.996094 8.03125 -7 C 8.707031 -6.996094 9.230469 -6.808594 9.597656 -6.433594 C 9.960938 -6.058594 10.140625 -5.480469 10.144531 -4.699219 L 10.144531 0 L 8.992188 0 L 8.992188 -4.3125 C 8.988281 -4.773438 8.949219 -5.105469 8.878906 -5.3125 C 8.800781 -5.515625 8.664063 -5.679688 8.46875 -5.804688 C 8.265625 -5.925781 8.035156 -5.988281 7.773438 -5.992188 C 7.289063 -5.988281 6.890625 -5.828125 6.574219 -5.511719 C 6.253906 -5.191406 6.09375 -4.679688 6.097656 -3.976563 L 6.097656 0 L 4.9375 0 L 4.9375 -4.445313 C 4.933594 -4.957031 4.839844 -5.34375 4.652344 -5.605469 C 4.464844 -5.859375 4.15625 -5.988281 3.726563 -5.992188 C 3.398438 -5.988281 3.09375 -5.902344 2.816406 -5.734375 C 2.539063 -5.558594 2.339844 -5.308594 2.214844 -4.980469 C 2.089844 -4.648438 2.027344 -4.171875 2.03125 -3.550781 L 2.03125 0 Z M 0.871094 0 \"/>\n",
       "</symbol>\n",
       "<symbol overflow=\"visible\" id=\"glyph3-9\">\n",
       "<path style=\"stroke:none;\" d=\"\"/>\n",
       "</symbol>\n",
       "<symbol overflow=\"visible\" id=\"glyph3-10\">\n",
       "<path style=\"stroke:none;\" d=\"M 0.417969 -2.835938 L 0.417969 -4.003906 L 3.984375 -4.003906 L 3.984375 -2.835938 Z M 0.417969 -2.835938 \"/>\n",
       "</symbol>\n",
       "<symbol overflow=\"visible\" id=\"glyph3-11\">\n",
       "<path style=\"stroke:none;\" d=\"M 3.71875 0 L 0.0585938 -9.449219 L 1.410156 -9.449219 L 3.867188 -2.585938 C 4.0625 -2.03125 4.226563 -1.515625 4.363281 -1.039063 C 4.507813 -1.550781 4.675781 -2.066406 4.871094 -2.585938 L 7.425781 -9.449219 L 8.703125 -9.449219 L 5 0 Z M 3.71875 0 \"/>\n",
       "</symbol>\n",
       "<symbol overflow=\"visible\" id=\"glyph3-12\">\n",
       "<path style=\"stroke:none;\" d=\"M 5.554688 -2.203125 L 6.753906 -2.054688 C 6.5625 -1.351563 6.210938 -0.808594 5.703125 -0.421875 C 5.1875 -0.0390625 4.535156 0.152344 3.746094 0.15625 C 2.738281 0.152344 1.945313 -0.152344 1.363281 -0.769531 C 0.773438 -1.382813 0.480469 -2.25 0.484375 -3.363281 C 0.480469 -4.515625 0.777344 -5.410156 1.371094 -6.046875 C 1.964844 -6.679688 2.734375 -6.996094 3.679688 -7 C 4.59375 -6.996094 5.339844 -6.683594 5.921875 -6.0625 C 6.5 -5.4375 6.789063 -4.5625 6.792969 -3.433594 C 6.789063 -3.363281 6.789063 -3.257813 6.785156 -3.125 L 1.683594 -3.125 C 1.722656 -2.371094 1.9375 -1.796875 2.320313 -1.398438 C 2.703125 -0.996094 3.179688 -0.796875 3.75 -0.800781 C 4.175781 -0.796875 4.539063 -0.90625 4.839844 -1.132813 C 5.140625 -1.351563 5.378906 -1.710938 5.554688 -2.203125 Z M 1.746094 -4.078125 L 5.570313 -4.078125 C 5.515625 -4.65625 5.367188 -5.085938 5.128906 -5.375 C 4.757813 -5.820313 4.28125 -6.046875 3.691406 -6.046875 C 3.160156 -6.046875 2.710938 -5.867188 2.347656 -5.511719 C 1.984375 -5.152344 1.785156 -4.675781 1.746094 -4.078125 Z M 1.746094 -4.078125 \"/>\n",
       "</symbol>\n",
       "<symbol overflow=\"visible\" id=\"glyph3-13\">\n",
       "<path style=\"stroke:none;\" d=\"M 0.871094 0 L 0.871094 -6.84375 L 1.914063 -6.84375 L 1.914063 -5.871094 C 2.414063 -6.621094 3.140625 -6.996094 4.09375 -7 C 4.503906 -6.996094 4.882813 -6.921875 5.230469 -6.777344 C 5.574219 -6.625 5.832031 -6.429688 6.007813 -6.191406 C 6.175781 -5.949219 6.296875 -5.664063 6.367188 -5.335938 C 6.410156 -5.121094 6.433594 -4.746094 6.433594 -4.207031 L 6.433594 0 L 5.273438 0 L 5.273438 -4.164063 C 5.273438 -4.632813 5.226563 -4.984375 5.136719 -5.222656 C 5.042969 -5.453125 4.882813 -5.640625 4.65625 -5.78125 C 4.425781 -5.917969 4.15625 -5.988281 3.847656 -5.992188 C 3.351563 -5.988281 2.925781 -5.832031 2.566406 -5.523438 C 2.207031 -5.207031 2.027344 -4.613281 2.03125 -3.738281 L 2.03125 0 Z M 0.871094 0 \"/>\n",
       "</symbol>\n",
       "<symbol overflow=\"visible\" id=\"glyph3-14\">\n",
       "<path style=\"stroke:none;\" d=\"M 5.3125 0 L 5.3125 -0.863281 C 4.875 -0.183594 4.238281 0.152344 3.398438 0.15625 C 2.851563 0.152344 2.347656 0.00390625 1.890625 -0.292969 C 1.433594 -0.59375 1.078125 -1.011719 0.828125 -1.554688 C 0.574219 -2.09375 0.449219 -2.714844 0.453125 -3.414063 C 0.449219 -4.097656 0.5625 -4.71875 0.792969 -5.273438 C 1.015625 -5.828125 1.359375 -6.253906 1.816406 -6.554688 C 2.269531 -6.847656 2.777344 -6.996094 3.34375 -7 C 3.753906 -6.996094 4.121094 -6.910156 4.445313 -6.738281 C 4.765625 -6.5625 5.027344 -6.335938 5.234375 -6.058594 L 5.234375 -9.449219 L 6.386719 -9.449219 L 6.386719 0 Z M 1.644531 -3.414063 C 1.640625 -2.535156 1.824219 -1.878906 2.199219 -1.449219 C 2.566406 -1.011719 3.003906 -0.796875 3.507813 -0.800781 C 4.011719 -0.796875 4.441406 -1.003906 4.796875 -1.421875 C 5.152344 -1.832031 5.332031 -2.464844 5.332031 -3.320313 C 5.332031 -4.253906 5.148438 -4.941406 4.789063 -5.378906 C 4.421875 -5.816406 3.976563 -6.035156 3.453125 -6.039063 C 2.933594 -6.035156 2.503906 -5.824219 2.160156 -5.40625 C 1.8125 -4.984375 1.640625 -4.320313 1.644531 -3.414063 Z M 1.644531 -3.414063 \"/>\n",
       "</symbol>\n",
       "<symbol overflow=\"visible\" id=\"glyph3-15\">\n",
       "<path style=\"stroke:none;\" d=\"M 0.96875 0 L 0.96875 -9.449219 L 2.21875 -9.449219 L 2.21875 -1.113281 L 6.871094 -1.113281 L 6.871094 0 Z M 0.96875 0 \"/>\n",
       "</symbol>\n",
       "<symbol overflow=\"visible\" id=\"glyph3-16\">\n",
       "<path style=\"stroke:none;\" d=\"M 5.234375 2.625 L 5.234375 -0.726563 C 5.046875 -0.472656 4.792969 -0.261719 4.472656 -0.09375 C 4.144531 0.0703125 3.800781 0.152344 3.441406 0.15625 C 2.625 0.152344 1.925781 -0.167969 1.34375 -0.816406 C 0.753906 -1.464844 0.460938 -2.355469 0.464844 -3.488281 C 0.460938 -4.171875 0.582031 -4.789063 0.820313 -5.335938 C 1.058594 -5.878906 1.402344 -6.292969 1.859375 -6.578125 C 2.308594 -6.855469 2.808594 -6.996094 3.351563 -7 C 4.195313 -6.996094 4.859375 -6.640625 5.351563 -5.929688 L 5.351563 -6.84375 L 6.394531 -6.84375 L 6.394531 2.625 Z M 1.65625 -3.441406 C 1.652344 -2.558594 1.835938 -1.898438 2.210938 -1.460938 C 2.578125 -1.015625 3.023438 -0.796875 3.539063 -0.800781 C 4.03125 -0.796875 4.457031 -1.003906 4.816406 -1.425781 C 5.171875 -1.839844 5.347656 -2.480469 5.351563 -3.339844 C 5.347656 -4.246094 5.160156 -4.929688 4.785156 -5.394531 C 4.40625 -5.851563 3.964844 -6.082031 3.460938 -6.085938 C 2.957031 -6.082031 2.53125 -5.867188 2.179688 -5.441406 C 1.828125 -5.011719 1.652344 -4.34375 1.65625 -3.441406 Z M 1.65625 -3.441406 \"/>\n",
       "</symbol>\n",
       "<symbol overflow=\"visible\" id=\"glyph3-17\">\n",
       "<path style=\"stroke:none;\" d=\"M 5.355469 0 L 5.355469 -1.003906 C 4.824219 -0.230469 4.097656 0.152344 3.183594 0.15625 C 2.777344 0.152344 2.402344 0.078125 2.050781 -0.0742188 C 1.699219 -0.226563 1.4375 -0.421875 1.273438 -0.660156 C 1.101563 -0.890625 0.984375 -1.175781 0.914063 -1.519531 C 0.867188 -1.746094 0.84375 -2.109375 0.84375 -2.605469 L 0.84375 -6.84375 L 2.003906 -6.84375 L 2.003906 -3.046875 C 2.003906 -2.441406 2.027344 -2.03125 2.074219 -1.824219 C 2.144531 -1.515625 2.296875 -1.277344 2.539063 -1.105469 C 2.773438 -0.929688 3.066406 -0.84375 3.414063 -0.84375 C 3.761719 -0.84375 4.089844 -0.929688 4.394531 -1.109375 C 4.699219 -1.285156 4.914063 -1.53125 5.042969 -1.839844 C 5.167969 -2.144531 5.230469 -2.589844 5.234375 -3.175781 L 5.234375 -6.84375 L 6.394531 -6.84375 L 6.394531 0 Z M 5.355469 0 \"/>\n",
       "</symbol>\n",
       "<symbol overflow=\"visible\" id=\"glyph3-18\">\n",
       "<path style=\"stroke:none;\" d=\"M 3.421875 0 L 3.421875 -8.332031 L 0.308594 -8.332031 L 0.308594 -9.449219 L 7.796875 -9.449219 L 7.796875 -8.332031 L 4.671875 -8.332031 L 4.671875 0 Z M 3.421875 0 \"/>\n",
       "</symbol>\n",
       "<symbol overflow=\"visible\" id=\"glyph3-19\">\n",
       "<path style=\"stroke:none;\" d=\"M 1.019531 0 L 1.019531 -9.449219 L 4.273438 -9.449219 C 5.003906 -9.445313 5.566406 -9.398438 5.957031 -9.3125 C 6.492188 -9.183594 6.953125 -8.960938 7.339844 -8.636719 C 7.835938 -8.214844 8.207031 -7.675781 8.457031 -7.019531 C 8.699219 -6.363281 8.824219 -5.613281 8.828125 -4.777344 C 8.824219 -4.054688 8.742188 -3.417969 8.578125 -2.867188 C 8.410156 -2.308594 8.195313 -1.851563 7.933594 -1.492188 C 7.667969 -1.128906 7.378906 -0.84375 7.070313 -0.632813 C 6.757813 -0.421875 6.382813 -0.261719 5.945313 -0.160156 C 5.503906 -0.0507813 5 0 4.429688 0 Z M 2.269531 -1.113281 L 4.285156 -1.113281 C 4.902344 -1.113281 5.390625 -1.171875 5.75 -1.289063 C 6.101563 -1.40625 6.386719 -1.566406 6.601563 -1.777344 C 6.894531 -2.070313 7.125 -2.46875 7.289063 -2.972656 C 7.453125 -3.472656 7.535156 -4.082031 7.539063 -4.796875 C 7.535156 -5.78125 7.371094 -6.539063 7.050781 -7.074219 C 6.722656 -7.601563 6.332031 -7.957031 5.871094 -8.140625 C 5.535156 -8.265625 4.996094 -8.332031 4.253906 -8.332031 L 2.269531 -8.332031 Z M 2.269531 -1.113281 \"/>\n",
       "</symbol>\n",
       "</g>\n",
       "<clipPath id=\"clip1\">\n",
       "  <path d=\"M 39.542969 21.503906 L 499.519531 21.503906 L 499.519531 473.839844 L 39.542969 473.839844 Z M 39.542969 21.503906 \"/>\n",
       "</clipPath>\n",
       "</defs>\n",
       "<g id=\"surface1\">\n",
       "<rect x=\"0\" y=\"0\" width=\"504\" height=\"504\" style=\"fill:rgb(100%,100%,100%);fill-opacity:1;stroke:none;\"/>\n",
       "<rect x=\"0\" y=\"0\" width=\"504\" height=\"504\" style=\"fill:rgb(100%,100%,100%);fill-opacity:1;stroke:none;\"/>\n",
       "<path style=\"fill:none;stroke-width:1.066978;stroke-linecap:round;stroke-linejoin:round;stroke:rgb(100%,100%,100%);stroke-opacity:1;stroke-miterlimit:10;\" d=\"M 0 504 L 504 504 L 504 0 L 0 0 Z M 0 504 \"/>\n",
       "<g clip-path=\"url(#clip1)\" clip-rule=\"nonzero\">\n",
       "<path style=\" stroke:none;fill-rule:nonzero;fill:rgb(92.156863%,92.156863%,92.156863%);fill-opacity:1;\" d=\"M 39.542969 472.839844 L 498.519531 472.839844 L 498.519531 21.503906 L 39.542969 21.503906 Z M 39.542969 472.839844 \"/>\n",
       "<path style=\"fill:none;stroke-width:0.533489;stroke-linecap:butt;stroke-linejoin:round;stroke:rgb(100%,100%,100%);stroke-opacity:1;stroke-miterlimit:10;\" d=\"M 39.542969 384.394531 L 498.519531 384.394531 \"/>\n",
       "<path style=\"fill:none;stroke-width:0.533489;stroke-linecap:butt;stroke-linejoin:round;stroke:rgb(100%,100%,100%);stroke-opacity:1;stroke-miterlimit:10;\" d=\"M 39.542969 248.53125 L 498.519531 248.53125 \"/>\n",
       "<path style=\"fill:none;stroke-width:0.533489;stroke-linecap:butt;stroke-linejoin:round;stroke:rgb(100%,100%,100%);stroke-opacity:1;stroke-miterlimit:10;\" d=\"M 39.542969 112.667969 L 498.519531 112.667969 \"/>\n",
       "<path style=\"fill:none;stroke-width:0.533489;stroke-linecap:butt;stroke-linejoin:round;stroke:rgb(100%,100%,100%);stroke-opacity:1;stroke-miterlimit:10;\" d=\"M 116.707031 472.839844 L 116.707031 21.503906 \"/>\n",
       "<path style=\"fill:none;stroke-width:0.533489;stroke-linecap:butt;stroke-linejoin:round;stroke:rgb(100%,100%,100%);stroke-opacity:1;stroke-miterlimit:10;\" d=\"M 254.597656 472.839844 L 254.597656 21.503906 \"/>\n",
       "<path style=\"fill:none;stroke-width:0.533489;stroke-linecap:butt;stroke-linejoin:round;stroke:rgb(100%,100%,100%);stroke-opacity:1;stroke-miterlimit:10;\" d=\"M 392.488281 472.839844 L 392.488281 21.503906 \"/>\n",
       "<path style=\"fill:none;stroke-width:1.066978;stroke-linecap:butt;stroke-linejoin:round;stroke:rgb(100%,100%,100%);stroke-opacity:1;stroke-miterlimit:10;\" d=\"M 39.542969 452.324219 L 498.519531 452.324219 \"/>\n",
       "<path style=\"fill:none;stroke-width:1.066978;stroke-linecap:butt;stroke-linejoin:round;stroke:rgb(100%,100%,100%);stroke-opacity:1;stroke-miterlimit:10;\" d=\"M 39.542969 316.460938 L 498.519531 316.460938 \"/>\n",
       "<path style=\"fill:none;stroke-width:1.066978;stroke-linecap:butt;stroke-linejoin:round;stroke:rgb(100%,100%,100%);stroke-opacity:1;stroke-miterlimit:10;\" d=\"M 39.542969 180.597656 L 498.519531 180.597656 \"/>\n",
       "<path style=\"fill:none;stroke-width:1.066978;stroke-linecap:butt;stroke-linejoin:round;stroke:rgb(100%,100%,100%);stroke-opacity:1;stroke-miterlimit:10;\" d=\"M 39.542969 44.734375 L 498.519531 44.734375 \"/>\n",
       "<path style=\"fill:none;stroke-width:1.066978;stroke-linecap:butt;stroke-linejoin:round;stroke:rgb(100%,100%,100%);stroke-opacity:1;stroke-miterlimit:10;\" d=\"M 47.761719 472.839844 L 47.761719 21.503906 \"/>\n",
       "<path style=\"fill:none;stroke-width:1.066978;stroke-linecap:butt;stroke-linejoin:round;stroke:rgb(100%,100%,100%);stroke-opacity:1;stroke-miterlimit:10;\" d=\"M 185.652344 472.839844 L 185.652344 21.503906 \"/>\n",
       "<path style=\"fill:none;stroke-width:1.066978;stroke-linecap:butt;stroke-linejoin:round;stroke:rgb(100%,100%,100%);stroke-opacity:1;stroke-miterlimit:10;\" d=\"M 323.542969 472.839844 L 323.542969 21.503906 \"/>\n",
       "<path style=\"fill:none;stroke-width:1.066978;stroke-linecap:butt;stroke-linejoin:round;stroke:rgb(100%,100%,100%);stroke-opacity:1;stroke-miterlimit:10;\" d=\"M 461.433594 472.839844 L 461.433594 21.503906 \"/>\n",
       "<path style=\"fill-rule:nonzero;fill:rgb(0%,10.196078%,20%);fill-opacity:1;stroke-width:1.066978;stroke-linecap:butt;stroke-linejoin:round;stroke:rgb(0%,0%,50.196078%);stroke-opacity:1;stroke-miterlimit:10;\" d=\"M 60.40625 452.324219 L 73.050781 452.324219 Z M 60.40625 452.324219 \"/>\n",
       "<path style=\"fill-rule:nonzero;fill:rgb(0%,10.196078%,20%);fill-opacity:1;stroke-width:1.066978;stroke-linecap:butt;stroke-linejoin:round;stroke:rgb(0%,0%,50.196078%);stroke-opacity:1;stroke-miterlimit:10;\" d=\"M 73.050781 452.324219 L 85.695313 452.324219 L 85.695313 449.605469 L 73.050781 449.605469 Z M 73.050781 452.324219 \"/>\n",
       "<path style=\"fill-rule:nonzero;fill:rgb(0%,10.196078%,20%);fill-opacity:1;stroke-width:1.066978;stroke-linecap:butt;stroke-linejoin:round;stroke:rgb(0%,0%,50.196078%);stroke-opacity:1;stroke-miterlimit:10;\" d=\"M 85.695313 452.324219 L 98.339844 452.324219 Z M 85.695313 452.324219 \"/>\n",
       "<path style=\"fill-rule:nonzero;fill:rgb(0%,10.196078%,20%);fill-opacity:1;stroke-width:1.066978;stroke-linecap:butt;stroke-linejoin:round;stroke:rgb(0%,0%,50.196078%);stroke-opacity:1;stroke-miterlimit:10;\" d=\"M 98.335938 452.324219 L 110.980469 452.324219 L 110.980469 446.890625 L 98.335938 446.890625 Z M 98.335938 452.324219 \"/>\n",
       "<path style=\"fill-rule:nonzero;fill:rgb(0%,10.196078%,20%);fill-opacity:1;stroke-width:1.066978;stroke-linecap:butt;stroke-linejoin:round;stroke:rgb(0%,0%,50.196078%);stroke-opacity:1;stroke-miterlimit:10;\" d=\"M 110.980469 452.324219 L 123.625 452.324219 L 123.625 438.738281 L 110.980469 438.738281 Z M 110.980469 452.324219 \"/>\n",
       "<path style=\"fill-rule:nonzero;fill:rgb(0%,10.196078%,20%);fill-opacity:1;stroke-width:1.066978;stroke-linecap:butt;stroke-linejoin:round;stroke:rgb(0%,0%,50.196078%);stroke-opacity:1;stroke-miterlimit:10;\" d=\"M 123.625 452.324219 L 136.269531 452.324219 L 136.269531 436.019531 L 123.625 436.019531 Z M 123.625 452.324219 \"/>\n",
       "<path style=\"fill-rule:nonzero;fill:rgb(0%,10.196078%,20%);fill-opacity:1;stroke-width:1.066978;stroke-linecap:butt;stroke-linejoin:round;stroke:rgb(0%,0%,50.196078%);stroke-opacity:1;stroke-miterlimit:10;\" d=\"M 136.269531 452.324219 L 148.914063 452.324219 L 148.914063 419.71875 L 136.269531 419.71875 Z M 136.269531 452.324219 \"/>\n",
       "<path style=\"fill-rule:nonzero;fill:rgb(0%,10.196078%,20%);fill-opacity:1;stroke-width:1.066978;stroke-linecap:butt;stroke-linejoin:round;stroke:rgb(0%,0%,50.196078%);stroke-opacity:1;stroke-miterlimit:10;\" d=\"M 148.914063 452.324219 L 161.558594 452.324219 L 161.558594 422.433594 L 148.914063 422.433594 Z M 148.914063 452.324219 \"/>\n",
       "<path style=\"fill-rule:nonzero;fill:rgb(0%,10.196078%,20%);fill-opacity:1;stroke-width:1.066978;stroke-linecap:butt;stroke-linejoin:round;stroke:rgb(0%,0%,50.196078%);stroke-opacity:1;stroke-miterlimit:10;\" d=\"M 161.558594 452.324219 L 174.203125 452.324219 L 174.203125 384.394531 L 161.558594 384.394531 Z M 161.558594 452.324219 \"/>\n",
       "<path style=\"fill-rule:nonzero;fill:rgb(0%,10.196078%,20%);fill-opacity:1;stroke-width:1.066978;stroke-linecap:butt;stroke-linejoin:round;stroke:rgb(0%,0%,50.196078%);stroke-opacity:1;stroke-miterlimit:10;\" d=\"M 174.203125 452.324219 L 186.847656 452.324219 L 186.847656 343.632813 L 174.203125 343.632813 Z M 174.203125 452.324219 \"/>\n",
       "<path style=\"fill-rule:nonzero;fill:rgb(0%,10.196078%,20%);fill-opacity:1;stroke-width:1.066978;stroke-linecap:butt;stroke-linejoin:round;stroke:rgb(0%,0%,50.196078%);stroke-opacity:1;stroke-miterlimit:10;\" d=\"M 186.84375 452.324219 L 199.488281 452.324219 L 199.488281 368.089844 L 186.84375 368.089844 Z M 186.84375 452.324219 \"/>\n",
       "<path style=\"fill-rule:nonzero;fill:rgb(0%,10.196078%,20%);fill-opacity:1;stroke-width:1.066978;stroke-linecap:butt;stroke-linejoin:round;stroke:rgb(0%,0%,50.196078%);stroke-opacity:1;stroke-miterlimit:10;\" d=\"M 199.488281 452.324219 L 212.132813 452.324219 L 212.132813 324.613281 L 199.488281 324.613281 Z M 199.488281 452.324219 \"/>\n",
       "<path style=\"fill-rule:nonzero;fill:rgb(0%,10.196078%,20%);fill-opacity:1;stroke-width:1.066978;stroke-linecap:butt;stroke-linejoin:round;stroke:rgb(0%,0%,50.196078%);stroke-opacity:1;stroke-miterlimit:10;\" d=\"M 212.132813 452.324219 L 224.777344 452.324219 L 224.777344 294.722656 L 212.132813 294.722656 Z M 212.132813 452.324219 \"/>\n",
       "<path style=\"fill-rule:nonzero;fill:rgb(0%,10.196078%,20%);fill-opacity:1;stroke-width:1.066978;stroke-linecap:butt;stroke-linejoin:round;stroke:rgb(0%,0%,50.196078%);stroke-opacity:1;stroke-miterlimit:10;\" d=\"M 224.777344 452.324219 L 237.421875 452.324219 L 237.421875 300.15625 L 224.777344 300.15625 Z M 224.777344 452.324219 \"/>\n",
       "<path style=\"fill-rule:nonzero;fill:rgb(0%,10.196078%,20%);fill-opacity:1;stroke-width:1.066978;stroke-linecap:butt;stroke-linejoin:round;stroke:rgb(0%,0%,50.196078%);stroke-opacity:1;stroke-miterlimit:10;\" d=\"M 237.421875 452.324219 L 250.066406 452.324219 L 250.066406 180.597656 L 237.421875 180.597656 Z M 237.421875 452.324219 \"/>\n",
       "<path style=\"fill-rule:nonzero;fill:rgb(0%,10.196078%,20%);fill-opacity:1;stroke-width:1.066978;stroke-linecap:butt;stroke-linejoin:round;stroke:rgb(0%,0%,50.196078%);stroke-opacity:1;stroke-miterlimit:10;\" d=\"M 250.066406 452.324219 L 262.710938 452.324219 L 262.710938 226.792969 L 250.066406 226.792969 Z M 250.066406 452.324219 \"/>\n",
       "<path style=\"fill-rule:nonzero;fill:rgb(0%,10.196078%,20%);fill-opacity:1;stroke-width:1.066978;stroke-linecap:butt;stroke-linejoin:round;stroke:rgb(0%,0%,50.196078%);stroke-opacity:1;stroke-miterlimit:10;\" d=\"M 262.710938 452.324219 L 275.355469 452.324219 L 275.355469 205.054688 L 262.710938 205.054688 Z M 262.710938 452.324219 \"/>\n",
       "<path style=\"fill-rule:nonzero;fill:rgb(0%,10.196078%,20%);fill-opacity:1;stroke-width:1.066978;stroke-linecap:butt;stroke-linejoin:round;stroke:rgb(0%,0%,50.196078%);stroke-opacity:1;stroke-miterlimit:10;\" d=\"M 275.355469 452.324219 L 288 452.324219 L 288 164.292969 L 275.355469 164.292969 Z M 275.355469 452.324219 \"/>\n",
       "<path style=\"fill-rule:nonzero;fill:rgb(0%,10.196078%,20%);fill-opacity:1;stroke-width:1.066978;stroke-linecap:butt;stroke-linejoin:round;stroke:rgb(0%,0%,50.196078%);stroke-opacity:1;stroke-miterlimit:10;\" d=\"M 287.996094 452.324219 L 300.640625 452.324219 L 300.640625 147.992188 L 287.996094 147.992188 Z M 287.996094 452.324219 \"/>\n",
       "<path style=\"fill-rule:nonzero;fill:rgb(0%,10.196078%,20%);fill-opacity:1;stroke-width:1.066978;stroke-linecap:butt;stroke-linejoin:round;stroke:rgb(0%,0%,50.196078%);stroke-opacity:1;stroke-miterlimit:10;\" d=\"M 300.640625 452.324219 L 313.285156 452.324219 L 313.285156 107.230469 L 300.640625 107.230469 Z M 300.640625 452.324219 \"/>\n",
       "<path style=\"fill-rule:nonzero;fill:rgb(0%,10.196078%,20%);fill-opacity:1;stroke-width:1.066978;stroke-linecap:butt;stroke-linejoin:round;stroke:rgb(0%,0%,50.196078%);stroke-opacity:1;stroke-miterlimit:10;\" d=\"M 313.285156 452.324219 L 325.929688 452.324219 L 325.929688 42.019531 L 313.285156 42.019531 Z M 313.285156 452.324219 \"/>\n",
       "<path style=\"fill-rule:nonzero;fill:rgb(0%,10.196078%,20%);fill-opacity:1;stroke-width:1.066978;stroke-linecap:butt;stroke-linejoin:round;stroke:rgb(0%,0%,50.196078%);stroke-opacity:1;stroke-miterlimit:10;\" d=\"M 325.929688 452.324219 L 338.574219 452.324219 L 338.574219 161.578125 L 325.929688 161.578125 Z M 325.929688 452.324219 \"/>\n",
       "<path style=\"fill-rule:nonzero;fill:rgb(0%,10.196078%,20%);fill-opacity:1;stroke-width:1.066978;stroke-linecap:butt;stroke-linejoin:round;stroke:rgb(0%,0%,50.196078%);stroke-opacity:1;stroke-miterlimit:10;\" d=\"M 338.574219 452.324219 L 351.21875 452.324219 L 351.21875 150.707031 L 338.574219 150.707031 Z M 338.574219 452.324219 \"/>\n",
       "<path style=\"fill-rule:nonzero;fill:rgb(0%,10.196078%,20%);fill-opacity:1;stroke-width:1.066978;stroke-linecap:butt;stroke-linejoin:round;stroke:rgb(0%,0%,50.196078%);stroke-opacity:1;stroke-miterlimit:10;\" d=\"M 351.21875 452.324219 L 363.863281 452.324219 L 363.863281 262.117188 L 351.21875 262.117188 Z M 351.21875 452.324219 \"/>\n",
       "<path style=\"fill-rule:nonzero;fill:rgb(0%,10.196078%,20%);fill-opacity:1;stroke-width:1.066978;stroke-linecap:butt;stroke-linejoin:round;stroke:rgb(0%,0%,50.196078%);stroke-opacity:1;stroke-miterlimit:10;\" d=\"M 363.863281 452.324219 L 376.507813 452.324219 L 376.507813 275.703125 L 363.863281 275.703125 Z M 363.863281 452.324219 \"/>\n",
       "<path style=\"fill-rule:nonzero;fill:rgb(0%,10.196078%,20%);fill-opacity:1;stroke-width:1.066978;stroke-linecap:butt;stroke-linejoin:round;stroke:rgb(0%,0%,50.196078%);stroke-opacity:1;stroke-miterlimit:10;\" d=\"M 376.503906 452.324219 L 389.148438 452.324219 L 389.148438 370.804688 L 376.503906 370.804688 Z M 376.503906 452.324219 \"/>\n",
       "<path style=\"fill-rule:nonzero;fill:rgb(0%,10.196078%,20%);fill-opacity:1;stroke-width:1.066978;stroke-linecap:butt;stroke-linejoin:round;stroke:rgb(0%,0%,50.196078%);stroke-opacity:1;stroke-miterlimit:10;\" d=\"M 389.148438 452.324219 L 401.792969 452.324219 L 401.792969 403.414063 L 389.148438 403.414063 Z M 389.148438 452.324219 \"/>\n",
       "<path style=\"fill-rule:nonzero;fill:rgb(0%,10.196078%,20%);fill-opacity:1;stroke-width:1.066978;stroke-linecap:butt;stroke-linejoin:round;stroke:rgb(0%,0%,50.196078%);stroke-opacity:1;stroke-miterlimit:10;\" d=\"M 401.792969 452.324219 L 414.4375 452.324219 L 414.4375 427.867188 L 401.792969 427.867188 Z M 401.792969 452.324219 \"/>\n",
       "<path style=\"fill-rule:nonzero;fill:rgb(0%,10.196078%,20%);fill-opacity:1;stroke-width:1.066978;stroke-linecap:butt;stroke-linejoin:round;stroke:rgb(0%,0%,50.196078%);stroke-opacity:1;stroke-miterlimit:10;\" d=\"M 414.4375 452.324219 L 427.082031 452.324219 L 427.082031 436.019531 L 414.4375 436.019531 Z M 414.4375 452.324219 \"/>\n",
       "<path style=\"fill-rule:nonzero;fill:rgb(0%,10.196078%,20%);fill-opacity:1;stroke-width:1.066978;stroke-linecap:butt;stroke-linejoin:round;stroke:rgb(0%,0%,50.196078%);stroke-opacity:1;stroke-miterlimit:10;\" d=\"M 427.082031 452.324219 L 439.726563 452.324219 L 439.726563 444.171875 L 427.082031 444.171875 Z M 427.082031 452.324219 \"/>\n",
       "<path style=\"fill-rule:nonzero;fill:rgb(0%,10.196078%,20%);fill-opacity:1;stroke-width:1.066978;stroke-linecap:butt;stroke-linejoin:round;stroke:rgb(0%,0%,50.196078%);stroke-opacity:1;stroke-miterlimit:10;\" d=\"M 439.726563 452.324219 L 452.371094 452.324219 Z M 439.726563 452.324219 \"/>\n",
       "<path style=\"fill-rule:nonzero;fill:rgb(0%,10.196078%,20%);fill-opacity:1;stroke-width:1.066978;stroke-linecap:butt;stroke-linejoin:round;stroke:rgb(0%,0%,50.196078%);stroke-opacity:1;stroke-miterlimit:10;\" d=\"M 452.371094 452.324219 L 465.015625 452.324219 L 465.015625 449.605469 L 452.371094 449.605469 Z M 452.371094 452.324219 \"/>\n",
       "<path style=\"fill-rule:nonzero;fill:rgb(0%,10.196078%,20%);fill-opacity:1;stroke-width:1.066978;stroke-linecap:butt;stroke-linejoin:round;stroke:rgb(0%,0%,50.196078%);stroke-opacity:1;stroke-miterlimit:10;\" d=\"M 465.015625 452.324219 L 477.660156 452.324219 Z M 465.015625 452.324219 \"/>\n",
       "</g>\n",
       "<g style=\"fill:rgb(30.196078%,30.196078%,30.196078%);fill-opacity:1;\">\n",
       "  <use xlink:href=\"#glyph0-0\" x=\"29.714844\" y=\"455.476563\"/>\n",
       "</g>\n",
       "<g style=\"fill:rgb(30.196078%,30.196078%,30.196078%);fill-opacity:1;\">\n",
       "  <use xlink:href=\"#glyph0-1\" x=\"24.820313\" y=\"319.613281\"/>\n",
       "  <use xlink:href=\"#glyph0-0\" x=\"29.714453\" y=\"319.613281\"/>\n",
       "</g>\n",
       "<g style=\"fill:rgb(30.196078%,30.196078%,30.196078%);fill-opacity:1;\">\n",
       "  <use xlink:href=\"#glyph0-2\" x=\"19.925781\" y=\"183.75\"/>\n",
       "  <use xlink:href=\"#glyph0-0\" x=\"24.819922\" y=\"183.75\"/>\n",
       "  <use xlink:href=\"#glyph0-0\" x=\"29.714062\" y=\"183.75\"/>\n",
       "</g>\n",
       "<g style=\"fill:rgb(30.196078%,30.196078%,30.196078%);fill-opacity:1;\">\n",
       "  <use xlink:href=\"#glyph0-2\" x=\"19.925781\" y=\"47.886719\"/>\n",
       "  <use xlink:href=\"#glyph0-1\" x=\"24.819922\" y=\"47.886719\"/>\n",
       "  <use xlink:href=\"#glyph0-0\" x=\"29.714062\" y=\"47.886719\"/>\n",
       "</g>\n",
       "<path style=\"fill:none;stroke-width:1.066978;stroke-linecap:butt;stroke-linejoin:round;stroke:rgb(20%,20%,20%);stroke-opacity:1;stroke-miterlimit:10;\" d=\"M 36.804688 452.324219 L 39.542969 452.324219 \"/>\n",
       "<path style=\"fill:none;stroke-width:1.066978;stroke-linecap:butt;stroke-linejoin:round;stroke:rgb(20%,20%,20%);stroke-opacity:1;stroke-miterlimit:10;\" d=\"M 36.804688 316.460938 L 39.542969 316.460938 \"/>\n",
       "<path style=\"fill:none;stroke-width:1.066978;stroke-linecap:butt;stroke-linejoin:round;stroke:rgb(20%,20%,20%);stroke-opacity:1;stroke-miterlimit:10;\" d=\"M 36.804688 180.597656 L 39.542969 180.597656 \"/>\n",
       "<path style=\"fill:none;stroke-width:1.066978;stroke-linecap:butt;stroke-linejoin:round;stroke:rgb(20%,20%,20%);stroke-opacity:1;stroke-miterlimit:10;\" d=\"M 36.804688 44.734375 L 39.542969 44.734375 \"/>\n",
       "<path style=\"fill:none;stroke-width:1.066978;stroke-linecap:butt;stroke-linejoin:round;stroke:rgb(20%,20%,20%);stroke-opacity:1;stroke-miterlimit:10;\" d=\"M 47.761719 475.582031 L 47.761719 472.839844 \"/>\n",
       "<path style=\"fill:none;stroke-width:1.066978;stroke-linecap:butt;stroke-linejoin:round;stroke:rgb(20%,20%,20%);stroke-opacity:1;stroke-miterlimit:10;\" d=\"M 185.652344 475.582031 L 185.652344 472.839844 \"/>\n",
       "<path style=\"fill:none;stroke-width:1.066978;stroke-linecap:butt;stroke-linejoin:round;stroke:rgb(20%,20%,20%);stroke-opacity:1;stroke-miterlimit:10;\" d=\"M 323.542969 475.582031 L 323.542969 472.839844 \"/>\n",
       "<path style=\"fill:none;stroke-width:1.066978;stroke-linecap:butt;stroke-linejoin:round;stroke:rgb(20%,20%,20%);stroke-opacity:1;stroke-miterlimit:10;\" d=\"M 461.433594 475.582031 L 461.433594 472.839844 \"/>\n",
       "<g style=\"fill:rgb(30.196078%,30.196078%,30.196078%);fill-opacity:1;\">\n",
       "  <use xlink:href=\"#glyph0-0\" x=\"45.316406\" y=\"484.070313\"/>\n",
       "</g>\n",
       "<g style=\"fill:rgb(30.196078%,30.196078%,30.196078%);fill-opacity:1;\">\n",
       "  <use xlink:href=\"#glyph0-2\" x=\"173.417969\" y=\"484.070313\"/>\n",
       "  <use xlink:href=\"#glyph0-0\" x=\"178.312109\" y=\"484.070313\"/>\n",
       "  <use xlink:href=\"#glyph0-0\" x=\"183.20625\" y=\"484.070313\"/>\n",
       "  <use xlink:href=\"#glyph0-0\" x=\"188.100391\" y=\"484.070313\"/>\n",
       "  <use xlink:href=\"#glyph0-0\" x=\"192.994531\" y=\"484.070313\"/>\n",
       "</g>\n",
       "<g style=\"fill:rgb(30.196078%,30.196078%,30.196078%);fill-opacity:1;\">\n",
       "  <use xlink:href=\"#glyph0-3\" x=\"311.308594\" y=\"484.070313\"/>\n",
       "  <use xlink:href=\"#glyph0-0\" x=\"316.202734\" y=\"484.070313\"/>\n",
       "  <use xlink:href=\"#glyph0-0\" x=\"321.096875\" y=\"484.070313\"/>\n",
       "  <use xlink:href=\"#glyph0-0\" x=\"325.991016\" y=\"484.070313\"/>\n",
       "  <use xlink:href=\"#glyph0-0\" x=\"330.885156\" y=\"484.070313\"/>\n",
       "</g>\n",
       "<g style=\"fill:rgb(30.196078%,30.196078%,30.196078%);fill-opacity:1;\">\n",
       "  <use xlink:href=\"#glyph0-4\" x=\"449.199219\" y=\"484.070313\"/>\n",
       "  <use xlink:href=\"#glyph0-0\" x=\"454.093359\" y=\"484.070313\"/>\n",
       "  <use xlink:href=\"#glyph0-0\" x=\"458.9875\" y=\"484.070313\"/>\n",
       "  <use xlink:href=\"#glyph0-0\" x=\"463.881641\" y=\"484.070313\"/>\n",
       "  <use xlink:href=\"#glyph0-0\" x=\"468.775781\" y=\"484.070313\"/>\n",
       "</g>\n",
       "<g style=\"fill:rgb(0%,0%,0%);fill-opacity:1;\">\n",
       "  <use xlink:href=\"#glyph1-0\" x=\"224.699219\" y=\"496.328125\"/>\n",
       "  <use xlink:href=\"#glyph1-1\" x=\"232.643066\" y=\"496.328125\"/>\n",
       "  <use xlink:href=\"#glyph1-2\" x=\"238.760742\" y=\"496.328125\"/>\n",
       "  <use xlink:href=\"#glyph1-1\" x=\"244.260742\" y=\"496.328125\"/>\n",
       "  <use xlink:href=\"#glyph1-3\" x=\"250.378418\" y=\"496.328125\"/>\n",
       "  <use xlink:href=\"#glyph1-4\" x=\"252.822266\" y=\"496.328125\"/>\n",
       "  <use xlink:href=\"#glyph1-5\" x=\"255.878418\" y=\"496.328125\"/>\n",
       "  <use xlink:href=\"#glyph1-6\" x=\"261.996094\" y=\"496.328125\"/>\n",
       "  <use xlink:href=\"#glyph1-7\" x=\"268.11377\" y=\"496.328125\"/>\n",
       "  <use xlink:href=\"#glyph1-3\" x=\"274.231445\" y=\"496.328125\"/>\n",
       "  <use xlink:href=\"#glyph1-8\" x=\"276.675293\" y=\"496.328125\"/>\n",
       "  <use xlink:href=\"#glyph1-6\" x=\"282.792969\" y=\"496.328125\"/>\n",
       "  <use xlink:href=\"#glyph1-9\" x=\"288.910645\" y=\"496.328125\"/>\n",
       "  <use xlink:href=\"#glyph1-10\" x=\"295.629883\" y=\"496.328125\"/>\n",
       "  <use xlink:href=\"#glyph1-4\" x=\"301.747559\" y=\"496.328125\"/>\n",
       "  <use xlink:href=\"#glyph1-5\" x=\"304.803711\" y=\"496.328125\"/>\n",
       "  <use xlink:href=\"#glyph1-11\" x=\"310.921387\" y=\"496.328125\"/>\n",
       "</g>\n",
       "<g style=\"fill:rgb(0%,0%,0%);fill-opacity:1;\">\n",
       "  <use xlink:href=\"#glyph2-0\" x=\"15.546875\" y=\"260.625\"/>\n",
       "  <use xlink:href=\"#glyph2-1\" x=\"15.546875\" y=\"255.125\"/>\n",
       "  <use xlink:href=\"#glyph2-2\" x=\"15.546875\" y=\"249.007324\"/>\n",
       "  <use xlink:href=\"#glyph2-3\" x=\"15.546875\" y=\"242.889648\"/>\n",
       "  <use xlink:href=\"#glyph2-4\" x=\"15.546875\" y=\"236.771973\"/>\n",
       "</g>\n",
       "<g style=\"fill:rgb(0%,0%,0%);fill-opacity:1;\">\n",
       "  <use xlink:href=\"#glyph3-0\" x=\"138.441406\" y=\"14.929688\"/>\n",
       "  <use xlink:href=\"#glyph3-1\" x=\"147.974023\" y=\"14.929688\"/>\n",
       "  <use xlink:href=\"#glyph3-2\" x=\"150.906641\" y=\"14.929688\"/>\n",
       "  <use xlink:href=\"#glyph3-3\" x=\"157.506641\" y=\"14.929688\"/>\n",
       "  <use xlink:href=\"#glyph3-4\" x=\"161.174023\" y=\"14.929688\"/>\n",
       "  <use xlink:href=\"#glyph3-5\" x=\"168.515234\" y=\"14.929688\"/>\n",
       "  <use xlink:href=\"#glyph3-6\" x=\"175.856445\" y=\"14.929688\"/>\n",
       "  <use xlink:href=\"#glyph3-7\" x=\"180.252148\" y=\"14.929688\"/>\n",
       "  <use xlink:href=\"#glyph3-8\" x=\"187.593359\" y=\"14.929688\"/>\n",
       "  <use xlink:href=\"#glyph3-7\" x=\"198.589062\" y=\"14.929688\"/>\n",
       "  <use xlink:href=\"#glyph3-9\" x=\"205.930273\" y=\"14.929688\"/>\n",
       "  <use xlink:href=\"#glyph3-10\" x=\"209.597656\" y=\"14.929688\"/>\n",
       "  <use xlink:href=\"#glyph3-9\" x=\"213.993359\" y=\"14.929688\"/>\n",
       "  <use xlink:href=\"#glyph3-11\" x=\"217.660742\" y=\"14.929688\"/>\n",
       "  <use xlink:href=\"#glyph3-12\" x=\"226.465039\" y=\"14.929688\"/>\n",
       "  <use xlink:href=\"#glyph3-13\" x=\"233.80625\" y=\"14.929688\"/>\n",
       "  <use xlink:href=\"#glyph3-14\" x=\"241.147461\" y=\"14.929688\"/>\n",
       "  <use xlink:href=\"#glyph3-7\" x=\"248.488672\" y=\"14.929688\"/>\n",
       "  <use xlink:href=\"#glyph3-2\" x=\"255.829883\" y=\"14.929688\"/>\n",
       "  <use xlink:href=\"#glyph3-9\" x=\"262.429883\" y=\"14.929688\"/>\n",
       "  <use xlink:href=\"#glyph3-15\" x=\"266.097266\" y=\"14.929688\"/>\n",
       "  <use xlink:href=\"#glyph3-1\" x=\"273.438477\" y=\"14.929688\"/>\n",
       "  <use xlink:href=\"#glyph3-16\" x=\"276.371094\" y=\"14.929688\"/>\n",
       "  <use xlink:href=\"#glyph3-17\" x=\"283.712305\" y=\"14.929688\"/>\n",
       "  <use xlink:href=\"#glyph3-1\" x=\"291.053516\" y=\"14.929688\"/>\n",
       "  <use xlink:href=\"#glyph3-14\" x=\"293.986133\" y=\"14.929688\"/>\n",
       "  <use xlink:href=\"#glyph3-7\" x=\"301.327344\" y=\"14.929688\"/>\n",
       "  <use xlink:href=\"#glyph3-2\" x=\"308.668555\" y=\"14.929688\"/>\n",
       "  <use xlink:href=\"#glyph3-9\" x=\"315.268555\" y=\"14.929688\"/>\n",
       "  <use xlink:href=\"#glyph3-18\" x=\"318.935938\" y=\"14.929688\"/>\n",
       "  <use xlink:href=\"#glyph3-4\" x=\"326.999023\" y=\"14.929688\"/>\n",
       "  <use xlink:href=\"#glyph3-3\" x=\"334.340234\" y=\"14.929688\"/>\n",
       "  <use xlink:href=\"#glyph3-7\" x=\"338.007617\" y=\"14.929688\"/>\n",
       "  <use xlink:href=\"#glyph3-1\" x=\"345.348828\" y=\"14.929688\"/>\n",
       "  <use xlink:href=\"#glyph3-2\" x=\"348.281445\" y=\"14.929688\"/>\n",
       "  <use xlink:href=\"#glyph3-9\" x=\"354.881445\" y=\"14.929688\"/>\n",
       "  <use xlink:href=\"#glyph3-19\" x=\"358.548828\" y=\"14.929688\"/>\n",
       "  <use xlink:href=\"#glyph3-1\" x=\"368.081445\" y=\"14.929688\"/>\n",
       "  <use xlink:href=\"#glyph3-7\" x=\"371.014063\" y=\"14.929688\"/>\n",
       "  <use xlink:href=\"#glyph3-6\" x=\"378.355273\" y=\"14.929688\"/>\n",
       "  <use xlink:href=\"#glyph3-1\" x=\"382.750977\" y=\"14.929688\"/>\n",
       "  <use xlink:href=\"#glyph3-7\" x=\"385.683594\" y=\"14.929688\"/>\n",
       "  <use xlink:href=\"#glyph3-2\" x=\"393.024805\" y=\"14.929688\"/>\n",
       "</g>\n",
       "</g>\n",
       "</svg>\n"
      ],
      "text/plain": [
       "plot without title"
      ]
     },
     "metadata": {
      "image/svg+xml": {
       "isolated": true
      }
     },
     "output_type": "display_data"
    }
   ],
   "source": [
    "ggplot(df, aes(Receita_Liq_Total))+ geom_histogram (color='navy', fill = '#001a33') + ggtitle(\"Histograma - Vendas Liquidas Totais Diarias\")"
   ]
  },
  {
   "cell_type": "markdown",
   "metadata": {},
   "source": [
    "### Calculate Autocorrelation Function and Partial Autocorrelation Function of Total Daily Revenue - note seasonal peaks"
   ]
  },
  {
   "cell_type": "code",
   "execution_count": 40,
   "metadata": {
    "collapsed": false
   },
   "outputs": [
    {
     "ename": "ERROR",
     "evalue": "Error in round(frequency): non-numeric argument to mathematical function\n",
     "output_type": "error",
     "traceback": [
      "Error in round(frequency): non-numeric argument to mathematical function\n"
     ]
    }
   ],
   "source": [
    "acf(df$Receita_Liq_Total, na.action = na.pass,lag.max = 52)"
   ]
  },
  {
   "cell_type": "code",
   "execution_count": 41,
   "metadata": {
    "collapsed": false
   },
   "outputs": [
    {
     "ename": "ERROR",
     "evalue": "Error in round(frequency): non-numeric argument to mathematical function\n",
     "output_type": "error",
     "traceback": [
      "Error in round(frequency): non-numeric argument to mathematical function\n"
     ]
    }
   ],
   "source": [
    "pacf(df$Receita_Liq_Total, na.action = na.pass,lag.max = 52)"
   ]
  },
  {
   "cell_type": "markdown",
   "metadata": {},
   "source": [
    "### Time Series Plots of Total Revenue per Store"
   ]
  },
  {
   "cell_type": "code",
   "execution_count": 42,
   "metadata": {
    "collapsed": false
   },
   "outputs": [
    {
     "name": "stderr",
     "output_type": "stream",
     "text": [
      "Don't know how to automatically pick scale for object of type xts/zoo. Defaulting to continuous\n",
      "Warning message:\n",
      "In data.row.names(row.names, rowsi, i): some row.names duplicated: 2,3,4,5,6,7,8,9,10,11,12,13,14,15,16,17,18,19,20,21,22,23,24,25,26,27,28,29,30,31,32,33,34,35,36,37,38,39,40,41,42,43,44,45,46,47,48,49,50,51,52,53,54,55,56,57,58,59,60,61,62,63,64,65,66,67,68,69,70,71,72,73,74,75,76,77,78,79,80,81,82,83,84,85,86,87,88,89,90,91,92,93,94,95,96,97,98,99,100,101,102,103,104,105,106,107,108,109,110,111,112,113,114,115,116,117,118,119,120,121,122,123,124,125,126,127,128,129,130,131,132,133,134,135,136,137,138,139,140,141,142,143,144,145,146,147,148,149,150,151,152,153,154,155,156,157,158,159,160,161,162,163,164,165,166,167,168,169,170,171,172,173,174,175,176,177,178,179,180,181,182,183,184,185,186,187,188,189,190,191,192,193,194,195,196,197,198,199,200,201,202,203,204,205,206,207,208,209,210,211,212,213,214,215,216,217,218,219,220,221,222,223,224,225,226,227,228,229,230,231,232,233,234,235,236,237,238,239,240,241,242,243,244,245,246,247,248,249,250,251,252,253,254,255,256,257,258,259,260,261,262,263,264,265,266,267,268,269,270,271,272,273,274,275,276,277,278,279,280,281,282,283,284,285,286,287,288,289,290,291,292,293,294,295,296,297,298,299,300,301,302,303,304,305,306,307,308,309,310,311,312,313,314,315,316,317,318,319,320,321,322,323,324,325,326,327,328,329,330,331,332,333,334,335,336,337,338,339,340,341,342,343,344,345,346,347,348,349,350,351,352,353,354,355,356,357,358,359,360,361,362,363,364,365,366,367,368,369,370,371,372,373,374,375,376,377,378,379,380,381,382,383,384,385,386,387,388,389,390,391,392,393,394,395,396,397,398,399,400,401,402,403,404,405,406,407,408,409,410,411,412,413,414,415,416,417,418,419,420,421,422,423,424,425,426,427,428,429,430,431,432,433,434,435,436,437,438,439,440,441,442,443,444,445,446,447,448,449,450,451,452,453,454,455,456,457,458,459,460,461,462,463,464,465,466,467,468,469,470,471,472,473,474,475,476,477,478,479,480,481,482,483,484,485,486,487,488,489,490,491,492,493,494,495,496,497,498,499,500,501,502,503,504,505,506,507,508,509,510,511,512,513,514,515,516,517,518,519,520,521,522,523,524,525,526,527,528,529,530,531,532,533,534,535,536,537,538,539,540,541,542,543,544,545,546,547,548,549,550,551,552,553,554,555,556,557,558,559,560,561,562,563,564,565,566,567,568,569,570,571,572,573,574,575,576,577,578,579,580,581,582,583,584,585,586,587,588,589,590,591,592,593,594,595,596,597,598,599,600,601,602,603,604,605,606,607,608,609,610,611,612,613,614,615,616,617,618,619,620,621,622,623,624,625,626,627,628,629,630,631,632,633,634,635,636,637,638,639,640,641,642,643,644,645,646,647,648,649,650,651,652,653,654,655,656,657,658,659,660,661,662,663,664,665,666,667,668,669,670,671,672,673,674,675,676,677,678,679,680,681,682,683,684,685,686,687,688,689,690,691,692,693,694,695,696,697,698,699,700,701,702,703,704,705,706,707,708,709,710,711,712,713,714,715,716,717,718,719,720,721,722,723,724,725,726,727,728,729,730,731,732,733,734,735,736,737,738,739,740,741,742,743,744,745,746,747,748,749,750,751,752,753,754,755,756,757,758,759,760,761,762,763,764,765,766,767,768,769,770,771,772,773,774,775,776,777,778,779,780,781,782,783,784,785,786,787,788,789,790,791,792,793,794,795,796,797,798,799,800,801,802,803,804,805,806,807,808,809,810,811,812,813,814,815,816,817,818,819,820,821,822,823,824,825,826,827,828,829,830,831,832,833,834,835,836,837,838,839,840,841,842,843,844,845,846,847,848,849,850,851,852,853,854,855,856,857,858,859,860,861,862,863,864,865,866,867,868,869,870,871,872,873,874,875,876,877,878,879,880,881,882,883,884,885,886,887,888,889,890,891,892,893,894,895,896,897,898,899,900,901,902,903,904,905,906,907,908,909,910,911,912,913,914,915,916,917,918,919,920,921,922,923,924,925,926,927,928,929,930,931,932,933,934,935,936,937,938,939,940,941,942,943,944,945,946,947,948,949,950,951,952,953,954,955,956,957,958,959,960,961,962,963,964,965,966,967,968,969,970,971,972,973,974,975,976,977,978,979,980,981,982,983,984,985,986,987,988,989,990,991,992,993,994,995,996,997,998,999,1000,1001,1002,1003,1004,1005,1006,1007,1008,1009,1010,1011,1012,1013,1014,1015,1016,1017,1018,1019,1020,1021,1022,1023,1024,1025,1026,1027,1028,1029,1030,1031,1032,1033,1034,1035,1036,1037,1038,1039,1040,1041,1042,1043,1044,1045,1046,1047,1048,1049,1050,1051,1052,1053,1054,1055,1056,1057,1058,1059,1060,1061,1062,1063,1064,1065,1066,1067,1068,1069,1070,1071,1072,1073,1074,1075,1076,1077,1078,1079,1080,1081,1082,1083,1084,1085,1086,1087,1088,1089,1090,1091,1092,1093,1094,1095,1096,1097,1098,1099,1100,1101,1102,1103,1104,1105,1106,1107,1108,1109,1110,1111,1112,1113,1114,1115,1116,1117,1118,1119,1120,1121,1122,1123,1124,1125,1126,1127,1128,1129,1130,1131,1132,1133,1134,1135,1136,1137,1138,1139,1140,1141,1142,1143,1144,1145,1146,1147,1148,1149,1150,1151,1152,1153,1154,1155,1156,1157,1158,1159,1160,1161,1162,1163,1164,1165,1166,1167,1168,1169,1170,1171,1172,1173,1174,1175,1176,1177,1178,1179,1180,1181,1182,1183,1184,1185,1186,1187,1188,1189,1190,1191,1192,1193,1194,1195,1196,1197,1198,1199,1200,1201,1202,1203,1204,1205,1206,1207,1208,1209,1210,1211,1212,1213,1214,1215,1216,1217,1218,1219,1220,1221,1222,1223,1224,1225,1226,1227,1228,1229,1230,1231,1232,1233,1234,1235,1236,1237,1238,1239,1240,1241,1242,1243,1244,1245,1246,1247,1248,1249,1250,1251,1252,1253,1254,1255,1256,1257,1258,1259,1260,1261,1262,1263,1264,1265,1266,1267,1268,1269,1270,1271,1272,1273,1274,1275,1276,1277,1278,1279,1280,1281,1282,1283,1284,1285,1286,1287,1288,1289,1290,1291,1292,1293,1294,1295,1296,1297,1298,1299,1300,1301,1302,1303,1304,1305,1306,1307,1308,1309,1310,1311,1312,1313,1314,1315,1316,1317,1318,1319,1320,1321,1322,1323,1324,1325,1326,1327,1328,1329,1330,1331,1332,1333,1334,1335,1336,1337,1338,1339,1340,1341,1342,1343,1344,1345,1346,1347,1348,1349,1350,1351,1352,1353,1354,1355,1356,1357,1358,1359,1360,1361,1362,1363,1364,1365,1366,1367,1368,1369,1370,1371,1372,1373,1374,1375,1376,1377,1378,1379,1380,1381,1382,1383,1384,1385,1386,1387,1388,1389,1390,1391,1392,1393,1394,1395,1396,1397,1398,1399,1400,1401,1402,1403,1404,1405,1406,1407,1408,1409,1410,1411,1412,1413,1414,1415,1416,1417,1418,1419,1420,1421,1422,1423,1424,1425,1426,1427,1428,1429,1430,1431,1432,1433,1434,1435,1436,1437,1438,1439,1440,1441,1442,1443,1444,1445,1446,1447,1448,1449,1450,1451,1452,1453,1454,1455,1456,1457,1458,1459,1460,1461,1462,1463,1464,1465,1466,1467,1468,1469,1470,1471,1472,1473,1474,1475,1476,1477,1478,1479,1480,1481,1482,1483,1484 --> row.names NOT used"
     ]
    },
    {
     "ename": "ERROR",
     "evalue": "Error in seq.int(0, to0 - from, by): 'to' cannot be NA, NaN or infinite\n",
     "output_type": "error",
     "traceback": [
      "Error in seq.int(0, to0 - from, by): 'to' cannot be NA, NaN or infinite\n"
     ]
    },
    {
     "ename": "ERROR",
     "evalue": "Error in file(con, \"rb\"): cannot open the connection\n",
     "output_type": "error",
     "traceback": [
      "Error in file(con, \"rb\"): cannot open the connection\n"
     ]
    },
    {
     "data": {
      "image/png": "[encoded data removed]",
      "text/plain": [
       "plot without title"
      ]
     },
     "metadata": {
      "image/svg+xml": {
       "isolated": true
      }
     },
     "output_type": "display_data"
    }
   ],
   "source": [
    "ggplot(df, aes(Data, valor_Loja01)) + geom_line(color='#b80000') + ggtitle(\"Vendas Liquidas Loja 01\");"
   ]
  },
  {
   "cell_type": "code",
   "execution_count": 43,
   "metadata": {
    "collapsed": false
   },
   "outputs": [
    {
     "name": "stderr",
     "output_type": "stream",
     "text": [
      "Don't know how to automatically pick scale for object of type xts/zoo. Defaulting to continuous\n",
      "Warning message:\n",
      "In data.row.names(row.names, rowsi, i): some row.names duplicated: 2,3,4,5,6,7,8,9,10,11,12,13,14,15,16,17,18,19,20,21,22,23,24,25,26,27,28,29,30,31,32,33,34,35,36,37,38,39,40,41,42,43,44,45,46,47,48,49,50,51,52,53,54,55,56,57,58,59,60,61,62,63,64,65,66,67,68,69,70,71,72,73,74,75,76,77,78,79,80,81,82,83,84,85,86,87,88,89,90,91,92,93,94,95,96,97,98,99,100,101,102,103,104,105,106,107,108,109,110,111,112,113,114,115,116,117,118,119,120,121,122,123,124,125,126,127,128,129,130,131,132,133,134,135,136,137,138,139,140,141,142,143,144,145,146,147,148,149,150,151,152,153,154,155,156,157,158,159,160,161,162,163,164,165,166,167,168,169,170,171,172,173,174,175,176,177,178,179,180,181,182,183,184,185,186,187,188,189,190,191,192,193,194,195,196,197,198,199,200,201,202,203,204,205,206,207,208,209,210,211,212,213,214,215,216,217,218,219,220,221,222,223,224,225,226,227,228,229,230,231,232,233,234,235,236,237,238,239,240,241,242,243,244,245,246,247,248,249,250,251,252,253,254,255,256,257,258,259,260,261,262,263,264,265,266,267,268,269,270,271,272,273,274,275,276,277,278,279,280,281,282,283,284,285,286,287,288,289,290,291,292,293,294,295,296,297,298,299,300,301,302,303,304,305,306,307,308,309,310,311,312,313,314,315,316,317,318,319,320,321,322,323,324,325,326,327,328,329,330,331,332,333,334,335,336,337,338,339,340,341,342,343,344,345,346,347,348,349,350,351,352,353,354,355,356,357,358,359,360,361,362,363,364,365,366,367,368,369,370,371,372,373,374,375,376,377,378,379,380,381,382,383,384,385,386,387,388,389,390,391,392,393,394,395,396,397,398,399,400,401,402,403,404,405,406,407,408,409,410,411,412,413,414,415,416,417,418,419,420,421,422,423,424,425,426,427,428,429,430,431,432,433,434,435,436,437,438,439,440,441,442,443,444,445,446,447,448,449,450,451,452,453,454,455,456,457,458,459,460,461,462,463,464,465,466,467,468,469,470,471,472,473,474,475,476,477,478,479,480,481,482,483,484,485,486,487,488,489,490,491,492,493,494,495,496,497,498,499,500,501,502,503,504,505,506,507,508,509,510,511,512,513,514,515,516,517,518,519,520,521,522,523,524,525,526,527,528,529,530,531,532,533,534,535,536,537,538,539,540,541,542,543,544,545,546,547,548,549,550,551,552,553,554,555,556,557,558,559,560,561,562,563,564,565,566,567,568,569,570,571,572,573,574,575,576,577,578,579,580,581,582,583,584,585,586,587,588,589,590,591,592,593,594,595,596,597,598,599,600,601,602,603,604,605,606,607,608,609,610,611,612,613,614,615,616,617,618,619,620,621,622,623,624,625,626,627,628,629,630,631,632,633,634,635,636,637,638,639,640,641,642,643,644,645,646,647,648,649,650,651,652,653,654,655,656,657,658,659,660,661,662,663,664,665,666,667,668,669,670,671,672,673,674,675,676,677,678,679,680,681,682,683,684,685,686,687,688,689,690,691,692,693,694,695,696,697,698,699,700,701,702,703,704,705,706,707,708,709,710,711,712,713,714,715,716,717,718,719,720,721,722,723,724,725,726,727,728,729,730,731,732,733,734,735,736,737,738,739,740,741,742,743,744,745,746,747,748,749,750,751,752,753,754,755,756,757,758,759,760,761,762,763,764,765,766,767,768,769,770,771,772,773,774,775,776,777,778,779,780,781,782,783,784,785,786,787,788,789,790,791,792,793,794,795,796,797,798,799,800,801,802,803,804,805,806,807,808,809,810,811,812,813,814,815,816,817,818,819,820,821,822,823,824,825,826,827,828,829,830,831,832,833,834,835,836,837,838,839,840,841,842,843,844,845,846,847,848,849,850,851,852,853,854,855,856,857,858,859,860,861,862,863,864,865,866,867,868,869,870,871,872,873,874,875,876,877,878,879,880,881,882,883,884,885,886,887,888,889,890,891,892,893,894,895,896,897,898,899,900,901,902,903,904,905,906,907,908,909,910,911,912,913,914,915,916,917,918,919,920,921,922,923,924,925,926,927,928,929,930,931,932,933,934,935,936,937,938,939,940,941,942,943,944,945,946,947,948,949,950,951,952,953,954,955,956,957,958,959,960,961,962,963,964,965,966,967,968,969,970,971,972,973,974,975,976,977,978,979,980,981,982,983,984,985,986,987,988,989,990,991,992,993,994,995,996,997,998,999,1000,1001,1002,1003,1004,1005,1006,1007,1008,1009,1010,1011,1012,1013,1014,1015,1016,1017,1018,1019,1020,1021,1022,1023,1024,1025,1026,1027,1028,1029,1030,1031,1032,1033,1034,1035,1036,1037,1038,1039,1040,1041,1042,1043,1044,1045,1046,1047,1048,1049,1050,1051,1052,1053,1054,1055,1056,1057,1058,1059,1060,1061,1062,1063,1064,1065,1066,1067,1068,1069,1070,1071,1072,1073,1074,1075,1076,1077,1078,1079,1080,1081,1082,1083,1084,1085,1086,1087,1088,1089,1090,1091,1092,1093,1094,1095,1096,1097,1098,1099,1100,1101,1102,1103,1104,1105,1106,1107,1108,1109,1110,1111,1112,1113,1114,1115,1116,1117,1118,1119,1120,1121,1122,1123,1124,1125,1126,1127,1128,1129,1130,1131,1132,1133,1134,1135,1136,1137,1138,1139,1140,1141,1142,1143,1144,1145,1146,1147,1148,1149,1150,1151,1152,1153,1154,1155,1156,1157,1158,1159,1160,1161,1162,1163,1164,1165,1166,1167,1168,1169,1170,1171,1172,1173,1174,1175,1176,1177,1178,1179,1180,1181,1182,1183,1184,1185,1186,1187,1188,1189,1190,1191,1192,1193,1194,1195,1196,1197,1198,1199,1200,1201,1202,1203,1204,1205,1206,1207,1208,1209,1210,1211,1212,1213,1214,1215,1216,1217,1218,1219,1220,1221,1222,1223,1224,1225,1226,1227,1228,1229,1230,1231,1232,1233,1234,1235,1236,1237,1238,1239,1240,1241,1242,1243,1244,1245,1246,1247,1248,1249,1250,1251,1252,1253,1254,1255,1256,1257,1258,1259,1260,1261,1262,1263,1264,1265,1266,1267,1268,1269,1270,1271,1272,1273,1274,1275,1276,1277,1278,1279,1280,1281,1282,1283,1284,1285,1286,1287,1288,1289,1290,1291,1292,1293,1294,1295,1296,1297,1298,1299,1300,1301,1302,1303,1304,1305,1306,1307,1308,1309,1310,1311,1312,1313,1314,1315,1316,1317,1318,1319,1320,1321,1322,1323,1324,1325,1326,1327,1328,1329,1330,1331,1332,1333,1334,1335,1336,1337,1338,1339,1340,1341,1342,1343,1344,1345,1346,1347,1348,1349,1350,1351,1352,1353,1354,1355,1356,1357,1358,1359,1360,1361,1362,1363,1364,1365,1366,1367,1368,1369,1370,1371,1372,1373,1374,1375,1376,1377,1378,1379,1380,1381,1382,1383,1384,1385,1386,1387,1388,1389,1390,1391,1392,1393,1394,1395,1396,1397,1398,1399,1400,1401,1402,1403,1404,1405,1406,1407,1408,1409,1410,1411,1412,1413,1414,1415,1416,1417,1418,1419,1420,1421,1422,1423,1424,1425,1426,1427,1428,1429,1430,1431,1432,1433,1434,1435,1436,1437,1438,1439,1440,1441,1442,1443,1444,1445,1446,1447,1448,1449,1450,1451,1452,1453,1454,1455,1456,1457,1458,1459,1460,1461,1462,1463,1464,1465,1466,1467,1468,1469,1470,1471,1472,1473,1474,1475,1476,1477,1478,1479,1480,1481,1482,1483,1484 --> row.names NOT used"
     ]
    },
    {
     "ename": "ERROR",
     "evalue": "Error in seq.int(0, to0 - from, by): 'to' cannot be NA, NaN or infinite\n",
     "output_type": "error",
     "traceback": [
      "Error in seq.int(0, to0 - from, by): 'to' cannot be NA, NaN or infinite\n"
     ]
    },
    {
     "ename": "ERROR",
     "evalue": "Error in file(con, \"rb\"): cannot open the connection\n",
     "output_type": "error",
     "traceback": [
      "Error in file(con, \"rb\"): cannot open the connection\n"
     ]
    },
    {
     "data": {
      "image/png": "[encoded data removed]",
      "text/plain": [
       "plot without title"
      ]
     },
     "metadata": {
      "image/svg+xml": {
       "isolated": true
      }
     },
     "output_type": "display_data"
    }
   ],
   "source": [
    "ggplot(df, aes(Data, valor_Loja02)) + geom_line(color='#300052') + ggtitle(\"Vendas Liquidas Loja 02\");"
   ]
  },
  {
   "cell_type": "code",
   "execution_count": 44,
   "metadata": {
    "collapsed": false
   },
   "outputs": [
    {
     "name": "stderr",
     "output_type": "stream",
     "text": [
      "Don't know how to automatically pick scale for object of type xts/zoo. Defaulting to continuous\n",
      "Warning message:\n",
      "In data.row.names(row.names, rowsi, i): some row.names duplicated: 2,3,4,5,6,7,8,9,10,11,12,13,14,15,16,17,18,19,20,21,22,23,24,25,26,27,28,29,30,31,32,33,34,35,36,37,38,39,40,41,42,43,44,45,46,47,48,49,50,51,52,53,54,55,56,57,58,59,60,61,62,63,64,65,66,67,68,69,70,71,72,73,74,75,76,77,78,79,80,81,82,83,84,85,86,87,88,89,90,91,92,93,94,95,96,97,98,99,100,101,102,103,104,105,106,107,108,109,110,111,112,113,114,115,116,117,118,119,120,121,122,123,124,125,126,127,128,129,130,131,132,133,134,135,136,137,138,139,140,141,142,143,144,145,146,147,148,149,150,151,152,153,154,155,156,157,158,159,160,161,162,163,164,165,166,167,168,169,170,171,172,173,174,175,176,177,178,179,180,181,182,183,184,185,186,187,188,189,190,191,192,193,194,195,196,197,198,199,200,201,202,203,204,205,206,207,208,209,210,211,212,213,214,215,216,217,218,219,220,221,222,223,224,225,226,227,228,229,230,231,232,233,234,235,236,237,238,239,240,241,242,243,244,245,246,247,248,249,250,251,252,253,254,255,256,257,258,259,260,261,262,263,264,265,266,267,268,269,270,271,272,273,274,275,276,277,278,279,280,281,282,283,284,285,286,287,288,289,290,291,292,293,294,295,296,297,298,299,300,301,302,303,304,305,306,307,308,309,310,311,312,313,314,315,316,317,318,319,320,321,322,323,324,325,326,327,328,329,330,331,332,333,334,335,336,337,338,339,340,341,342,343,344,345,346,347,348,349,350,351,352,353,354,355,356,357,358,359,360,361,362,363,364,365,366,367,368,369,370,371,372,373,374,375,376,377,378,379,380,381,382,383,384,385,386,387,388,389,390,391,392,393,394,395,396,397,398,399,400,401,402,403,404,405,406,407,408,409,410,411,412,413,414,415,416,417,418,419,420,421,422,423,424,425,426,427,428,429,430,431,432,433,434,435,436,437,438,439,440,441,442,443,444,445,446,447,448,449,450,451,452,453,454,455,456,457,458,459,460,461,462,463,464,465,466,467,468,469,470,471,472,473,474,475,476,477,478,479,480,481,482,483,484,485,486,487,488,489,490,491,492,493,494,495,496,497,498,499,500,501,502,503,504,505,506,507,508,509,510,511,512,513,514,515,516,517,518,519,520,521,522,523,524,525,526,527,528,529,530,531,532,533,534,535,536,537,538,539,540,541,542,543,544,545,546,547,548,549,550,551,552,553,554,555,556,557,558,559,560,561,562,563,564,565,566,567,568,569,570,571,572,573,574,575,576,577,578,579,580,581,582,583,584,585,586,587,588,589,590,591,592,593,594,595,596,597,598,599,600,601,602,603,604,605,606,607,608,609,610,611,612,613,614,615,616,617,618,619,620,621,622,623,624,625,626,627,628,629,630,631,632,633,634,635,636,637,638,639,640,641,642,643,644,645,646,647,648,649,650,651,652,653,654,655,656,657,658,659,660,661,662,663,664,665,666,667,668,669,670,671,672,673,674,675,676,677,678,679,680,681,682,683,684,685,686,687,688,689,690,691,692,693,694,695,696,697,698,699,700,701,702,703,704,705,706,707,708,709,710,711,712,713,714,715,716,717,718,719,720,721,722,723,724,725,726,727,728,729,730,731,732,733,734,735,736,737,738,739,740,741,742,743,744,745,746,747,748,749,750,751,752,753,754,755,756,757,758,759,760,761,762,763,764,765,766,767,768,769,770,771,772,773,774,775,776,777,778,779,780,781,782,783,784,785,786,787,788,789,790,791,792,793,794,795,796,797,798,799,800,801,802,803,804,805,806,807,808,809,810,811,812,813,814,815,816,817,818,819,820,821,822,823,824,825,826,827,828,829,830,831,832,833,834,835,836,837,838,839,840,841,842,843,844,845,846,847,848,849,850,851,852,853,854,855,856,857,858,859,860,861,862,863,864,865,866,867,868,869,870,871,872,873,874,875,876,877,878,879,880,881,882,883,884,885,886,887,888,889,890,891,892,893,894,895,896,897,898,899,900,901,902,903,904,905,906,907,908,909,910,911,912,913,914,915,916,917,918,919,920,921,922,923,924,925,926,927,928,929,930,931,932,933,934,935,936,937,938,939,940,941,942,943,944,945,946,947,948,949,950,951,952,953,954,955,956,957,958,959,960,961,962,963,964,965,966,967,968,969,970,971,972,973,974,975,976,977,978,979,980,981,982,983,984,985,986,987,988,989,990,991,992,993,994,995,996,997,998,999,1000,1001,1002,1003,1004,1005,1006,1007,1008,1009,1010,1011,1012,1013,1014,1015,1016,1017,1018,1019,1020,1021,1022,1023,1024,1025,1026,1027,1028,1029,1030,1031,1032,1033,1034,1035,1036,1037,1038,1039,1040,1041,1042,1043,1044,1045,1046,1047,1048,1049,1050,1051,1052,1053,1054,1055,1056,1057,1058,1059,1060,1061,1062,1063,1064,1065,1066,1067,1068,1069,1070,1071,1072,1073,1074,1075,1076,1077,1078,1079,1080,1081,1082,1083,1084,1085,1086,1087,1088,1089,1090,1091,1092,1093,1094,1095,1096,1097,1098,1099,1100,1101,1102,1103,1104,1105,1106,1107,1108,1109,1110,1111,1112,1113,1114,1115,1116,1117,1118,1119,1120,1121,1122,1123,1124,1125,1126,1127,1128,1129,1130,1131,1132,1133,1134,1135,1136,1137,1138,1139,1140,1141,1142,1143,1144,1145,1146,1147,1148,1149,1150,1151,1152,1153,1154,1155,1156,1157,1158,1159,1160,1161,1162,1163,1164,1165,1166,1167,1168,1169,1170,1171,1172,1173,1174,1175,1176,1177,1178,1179,1180,1181,1182,1183,1184,1185,1186,1187,1188,1189,1190,1191,1192,1193,1194,1195,1196,1197,1198,1199,1200,1201,1202,1203,1204,1205,1206,1207,1208,1209,1210,1211,1212,1213,1214,1215,1216,1217,1218,1219,1220,1221,1222,1223,1224,1225,1226,1227,1228,1229,1230,1231,1232,1233,1234,1235,1236,1237,1238,1239,1240,1241,1242,1243,1244,1245,1246,1247,1248,1249,1250,1251,1252,1253,1254,1255,1256,1257,1258,1259,1260,1261,1262,1263,1264,1265,1266,1267,1268,1269,1270,1271,1272,1273,1274,1275,1276,1277,1278,1279,1280,1281,1282,1283,1284,1285,1286,1287,1288,1289,1290,1291,1292,1293,1294,1295,1296,1297,1298,1299,1300,1301,1302,1303,1304,1305,1306,1307,1308,1309,1310,1311,1312,1313,1314,1315,1316,1317,1318,1319,1320,1321,1322,1323,1324,1325,1326,1327,1328,1329,1330,1331,1332,1333,1334,1335,1336,1337,1338,1339,1340,1341,1342,1343,1344,1345,1346,1347,1348,1349,1350,1351,1352,1353,1354,1355,1356,1357,1358,1359,1360,1361,1362,1363,1364,1365,1366,1367,1368,1369,1370,1371,1372,1373,1374,1375,1376,1377,1378,1379,1380,1381,1382,1383,1384,1385,1386,1387,1388,1389,1390,1391,1392,1393,1394,1395,1396,1397,1398,1399,1400,1401,1402,1403,1404,1405,1406,1407,1408,1409,1410,1411,1412,1413,1414,1415,1416,1417,1418,1419,1420,1421,1422,1423,1424,1425,1426,1427,1428,1429,1430,1431,1432,1433,1434,1435,1436,1437,1438,1439,1440,1441,1442,1443,1444,1445,1446,1447,1448,1449,1450,1451,1452,1453,1454,1455,1456,1457,1458,1459,1460,1461,1462,1463,1464,1465,1466,1467,1468,1469,1470,1471,1472,1473,1474,1475,1476,1477,1478,1479,1480,1481,1482,1483,1484 --> row.names NOT used"
     ]
    },
    {
     "ename": "ERROR",
     "evalue": "Error in seq.int(0, to0 - from, by): 'to' cannot be NA, NaN or infinite\n",
     "output_type": "error",
     "traceback": [
      "Error in seq.int(0, to0 - from, by): 'to' cannot be NA, NaN or infinite\n"
     ]
    },
    {
     "ename": "ERROR",
     "evalue": "Error in file(con, \"rb\"): cannot open the connection\n",
     "output_type": "error",
     "traceback": [
      "Error in file(con, \"rb\"): cannot open the connection\n"
     ]
    },
    {
     "data": {
      "image/png": "[encoded data removed]",
      "text/plain": [
       "plot without title"
      ]
     },
     "metadata": {
      "image/svg+xml": {
       "isolated": true
      }
     },
     "output_type": "display_data"
    }
   ],
   "source": [
    "ggplot(df, aes(Data, valor_Loja03)) + geom_line(color='#003b4d') + ggtitle(\"Vendas Liquidas Loja 03\");"
   ]
  },
  {
   "cell_type": "markdown",
   "metadata": {},
   "source": [
    "### Call Dynamic Linear Regression Package (needs to be previously installed with all dependencies)"
   ]
  },
  {
   "cell_type": "code",
   "execution_count": 45,
   "metadata": {
    "collapsed": false
   },
   "outputs": [
    {
     "name": "stderr",
     "output_type": "stream",
     "text": [
      "Warning message:\n",
      ": package 'dynlm' was built under R version 3.2.3"
     ]
    }
   ],
   "source": [
    "library(\"dynlm\")"
   ]
  },
  {
   "cell_type": "code",
   "execution_count": 46,
   "metadata": {
    "collapsed": false
   },
   "outputs": [],
   "source": [
    "library(\"zoo\")    # Another time series library"
   ]
  },
  {
   "cell_type": "markdown",
   "metadata": {},
   "source": [
    "### Read the data frame into zoo format"
   ]
  },
  {
   "cell_type": "code",
   "execution_count": 47,
   "metadata": {
    "collapsed": false
   },
   "outputs": [
    {
     "ename": "ERROR",
     "evalue": "Error in read.zoo(df, format = \"%d-%m-%Y\"): index has 1484 bad entries at data rows: 1 2 3 4 5 6 7 8 9 10 11 12 13 14 15 16 17 18 19 20 21 22 23 24 25 26 27 28 29 30 31 32 33 34 35 36 37 38 39 40 41 42 43 44 45 46 47 48 49 50 51 52 53 54 55 56 57 58 59 60 61 62 63 64 65 66 67 68 69 70 71 72 73 74 75 76 77 78 79 80 81 82 83 84 85 86 87 88 89 90 91 92 93 94 95 96 97 98 99 100 ...\n",
     "output_type": "error",
     "traceback": [
      "Error in read.zoo(df, format = \"%d-%m-%Y\"): index has 1484 bad entries at data rows: 1 2 3 4 5 6 7 8 9 10 11 12 13 14 15 16 17 18 19 20 21 22 23 24 25 26 27 28 29 30 31 32 33 34 35 36 37 38 39 40 41 42 43 44 45 46 47 48 49 50 51 52 53 54 55 56 57 58 59 60 61 62 63 64 65 66 67 68 69 70 71 72 73 74 75 76 77 78 79 80 81 82 83 84 85 86 87 88 89 90 91 92 93 94 95 96 97 98 99 100 ...\n"
     ]
    }
   ],
   "source": [
    "df_como_st = read.zoo(df, format = \"%d-%m-%Y\")"
   ]
  },
  {
   "cell_type": "code",
   "execution_count": 48,
   "metadata": {
    "collapsed": true
   },
   "outputs": [],
   "source": [
    "dfTozoo = function(tsdataframe, dateformat=\"%d-%m-%y\"){\n",
    "\n",
    "  library(zoo)\n",
    "\n",
    "  framedates = as.Date(tsdataframe[,1], format=dateformat)\n",
    "  n=ncol(tsdataframe)\n",
    "  zoodata = zoo(tsdataframe[,2:n], order.by=framedates)\n",
    "\n",
    "  return(zoodata)\n",
    "}"
   ]
  },
  {
   "cell_type": "code",
   "execution_count": 49,
   "metadata": {
    "collapsed": false
   },
   "outputs": [
    {
     "name": "stderr",
     "output_type": "stream",
     "text": [
      "Warning message:\n",
      "In zoo(tsdataframe[, 2:n], order.by = framedates): some methods for \"zoo\" objects do not work if the index entries in 'order.by' are not unique"
     ]
    }
   ],
   "source": [
    "df_como_st = dfTozoo(df)"
   ]
  },
  {
   "cell_type": "code",
   "execution_count": 50,
   "metadata": {
    "collapsed": false
   },
   "outputs": [
    {
     "name": "stdout",
     "output_type": "stream",
     "text": [
      "'zoo' series from NA to NA\n",
      "  Data: chr [1:1484, 1:81] \"1\" \"2\" \"3\" \"4\" \"5\" \"6\" \"7\" \"1\" \"2\" ...\n",
      " - attr(*, \"dimnames\")=List of 2\n",
      "  ..$ : NULL\n",
      "  ..$ : chr [1:81] \"Dia.da.Semana\" \"Feriado_Nacional\" \"Carnaval\" \"Pascoa\" ...\n",
      "  Index:  Date[1:1484], format: NA NA NA NA NA NA NA NA NA NA NA NA NA NA ...\n"
     ]
    }
   ],
   "source": [
    "str(df_como_st)"
   ]
  },
  {
   "cell_type": "code",
   "execution_count": 51,
   "metadata": {
    "collapsed": false
   },
   "outputs": [
    {
     "name": "stderr",
     "output_type": "stream",
     "text": [
      "Warning message:\n",
      "In zoo(rval, index(x)[i]): some methods for \"zoo\" objects do not work if the index entries in 'order.by' are not uniqueWarning message:\n",
      "In zoo(rval[i], index(x)[i]): some methods for \"zoo\" objects do not work if the index entries in 'order.by' are not unique"
     ]
    },
    {
     "data": {
      "text/plain": [
       "    <NA>     <NA>     <NA>     <NA>     <NA>     <NA>     <NA>     <NA> \n",
       " 2154.84 15496.59 14581.77 15275.80 15765.62 16031.13 14253.16  7163.59 \n",
       "    <NA>     <NA> \n",
       "15809.17 13986.53 "
      ]
     },
     "execution_count": 51,
     "metadata": {},
     "output_type": "execute_result"
    }
   ],
   "source": [
    "df_como_st$Receita_Liq_Total[1:10]"
   ]
  },
  {
   "cell_type": "code",
   "execution_count": 52,
   "metadata": {
    "collapsed": false
   },
   "outputs": [
    {
     "name": "stderr",
     "output_type": "stream",
     "text": [
      "Warning message:\n",
      "In zoo(rval, index(x)[i]): some methods for \"zoo\" objects do not work if the index entries in 'order.by' are not uniqueWarning message:\n",
      "In zoo(rval[i], index(x)[i]): some methods for \"zoo\" objects do not work if the index entries in 'order.by' are not unique"
     ]
    },
    {
     "data": {
      "text/plain": [
       "    <NA>     <NA>     <NA>     <NA>     <NA>     <NA>     <NA>     <NA> \n",
       "18477.97 15137.46 16116.02 16433.12  9673.44 15875.96 13722.74 12506.78 \n",
       "    <NA>     <NA>     <NA> \n",
       "15217.76 15147.36 13981.85 "
      ]
     },
     "execution_count": 52,
     "metadata": {},
     "output_type": "execute_result"
    }
   ],
   "source": [
    "df_como_st$Receita_Liq_Total[1474:1484]"
   ]
  },
  {
   "cell_type": "code",
   "execution_count": null,
   "metadata": {
    "collapsed": true
   },
   "outputs": [],
   "source": []
  },
  {
   "cell_type": "markdown",
   "metadata": {},
   "source": [
    "### Create zoo object from the original data frame using the date column as index"
   ]
  },
  {
   "cell_type": "code",
   "execution_count": 53,
   "metadata": {
    "collapsed": false
   },
   "outputs": [
    {
     "name": "stderr",
     "output_type": "stream",
     "text": [
      "Warning message:\n",
      "In zoo(df, df$Data): some methods for \"zoo\" objects do not work if the index entries in 'order.by' are not unique"
     ]
    }
   ],
   "source": [
    "df_zoo = zoo(df,df$Data)"
   ]
  },
  {
   "cell_type": "code",
   "execution_count": 54,
   "metadata": {
    "collapsed": false
   },
   "outputs": [
    {
     "name": "stdout",
     "output_type": "stream",
     "text": [
      "'zoo' series from NA to NA\n",
      "  Data: chr [1:1484, 1:82] \"2012-01-01\" \"2012-01-02\" \"2012-01-03\" ...\n",
      " - attr(*, \"dimnames\")=List of 2\n",
      "  ..$ : NULL\n",
      "  ..$ : chr [1:82] \"dataVenda\" \"Dia.da.Semana\" \"Feriado_Nacional\" \"Carnaval\" ...\n",
      "  Index:  Date[1:1484], format: NA NA NA NA NA NA NA NA NA NA NA NA NA NA ...\n"
     ]
    }
   ],
   "source": [
    "str(df_zoo)"
   ]
  },
  {
   "cell_type": "code",
   "execution_count": 55,
   "metadata": {
    "collapsed": false
   },
   "outputs": [
    {
     "name": "stderr",
     "output_type": "stream",
     "text": [
      "Warning message:\n",
      "In zoo(rlt_serie, rlt.Date): some methods for \"zoo\" objects do not work if the index entries in 'order.by' are not unique"
     ]
    }
   ],
   "source": [
    "rlt_serie = as.numeric(df$Receita_Liq_Total)\n",
    "rlt.Date <- df$Data\n",
    "rlt <- zoo(rlt_serie, rlt.Date)"
   ]
  },
  {
   "cell_type": "code",
   "execution_count": 56,
   "metadata": {
    "collapsed": false
   },
   "outputs": [
    {
     "name": "stdout",
     "output_type": "stream",
     "text": [
      "'zoo' series from NA to NA\n",
      "  Data: num [1:1484] 2155 15497 14582 15276 15766 ...\n",
      "  Index:  Date[1:1484], format: NA NA NA NA NA NA NA NA NA NA NA NA NA NA ...\n"
     ]
    }
   ],
   "source": [
    "str(rlt)"
   ]
  },
  {
   "cell_type": "code",
   "execution_count": null,
   "metadata": {
    "collapsed": false
   },
   "outputs": [],
   "source": []
  },
  {
   "cell_type": "code",
   "execution_count": 57,
   "metadata": {
    "collapsed": false
   },
   "outputs": [
    {
     "name": "stderr",
     "output_type": "stream",
     "text": [
      "Warning message:\n",
      "In zoo(rval, index(x)[i]): some methods for \"zoo\" objects do not work if the index entries in 'order.by' are not uniqueWarning message:\n",
      "In zoo(rval, index(x)[i]): some methods for \"zoo\" objects do not work if the index entries in 'order.by' are not uniqueWarning message:\n",
      "In zoo(rval, index(x)[i]): some methods for \"zoo\" objects do not work if the index entries in 'order.by' are not uniqueWarning message:\n",
      "In zoo(rval[i], index(x)[i]): some methods for \"zoo\" objects do not work if the index entries in 'order.by' are not uniqueWarning message:\n",
      "In zoo(rval, index(x)[i]): some methods for \"zoo\" objects do not work if the index entries in 'order.by' are not uniqueWarning message:\n",
      "In zoo(rval[i], index(x)[i]): some methods for \"zoo\" objects do not work if the index entries in 'order.by' are not unique"
     ]
    },
    {
     "ename": "ERROR",
     "evalue": "Error in merge.zoo(df_zoo$Receita_Liq_Total, L(df_zoo$Receita_Liq_Total, : series cannot be merged with non-unique index entries in a series\n",
     "output_type": "error",
     "traceback": [
      "Error in merge.zoo(df_zoo$Receita_Liq_Total, L(df_zoo$Receita_Liq_Total, : series cannot be merged with non-unique index entries in a series\n"
     ]
    },
    {
     "ename": "ERROR",
     "evalue": "Error in eval(expr, envir, enclos): object 'model' not found\n",
     "output_type": "error",
     "traceback": [
      "Error in eval(expr, envir, enclos): object 'model' not found\n"
     ]
    }
   ],
   "source": [
    "model <- dynlm(df_zoo$Receita_Liq_Total ~ L(df_zoo$Receita_Liq_Total, k = 1) + L(df_zoo$Receita_Liq_Total, k = 7))\n",
    "               \n",
    "               \n",
    "model\n",
    "\n",
    "#df_zoo\n",
    "#++ df_zoo$Carnaval+ L(rlt, k = 14) + L(rlt, k = 21) + L(rlt, k = 28)) +  + Pascoa + Natal + Reveillon"
   ]
  },
  {
   "cell_type": "code",
   "execution_count": 58,
   "metadata": {
    "collapsed": false
   },
   "outputs": [
    {
     "name": "stderr",
     "output_type": "stream",
     "text": [
      "Warning message:\n",
      "In zoo(rval[i], index(x)[i]): some methods for \"zoo\" objects do not work if the index entries in 'order.by' are not uniqueWarning message:\n",
      "In zoo(rval[i], index(x)[i]): some methods for \"zoo\" objects do not work if the index entries in 'order.by' are not uniqueWarning message:\n",
      "In zoo(rval[i], index(x)[i]): some methods for \"zoo\" objects do not work if the index entries in 'order.by' are not uniqueWarning message:\n",
      "In zoo(rval[i], index(x)[i]): some methods for \"zoo\" objects do not work if the index entries in 'order.by' are not uniqueWarning message:\n",
      "In zoo(rval[i], index(x)[i]): some methods for \"zoo\" objects do not work if the index entries in 'order.by' are not unique"
     ]
    },
    {
     "ename": "ERROR",
     "evalue": "Error in merge.zoo(rlt, L(rlt, k = 1), L(rlt, k = 7), L(rlt, k = 14), : series cannot be merged with non-unique index entries in a series\n",
     "output_type": "error",
     "traceback": [
      "Error in merge.zoo(rlt, L(rlt, k = 1), L(rlt, k = 7), L(rlt, k = 14), : series cannot be merged with non-unique index entries in a series\n"
     ]
    },
    {
     "ename": "ERROR",
     "evalue": "Error in eval(expr, envir, enclos): object 'model' not found\n",
     "output_type": "error",
     "traceback": [
      "Error in eval(expr, envir, enclos): object 'model' not found\n"
     ]
    }
   ],
   "source": [
    "# Fit dynamic linear model - DOES NOT FIT DUMMY VARIABLES! SEE RESULTS BELOW!\n",
    "model <- dynlm(rlt ~ L(rlt, k = 1) + L(rlt, k = 7) + L(rlt, k = 14) + L(rlt, k = 21) + L(rlt, k = 28)) + Carnaval + Pascoa + Natal + Reveillon\n",
    "model"
   ]
  },
  {
   "cell_type": "code",
   "execution_count": null,
   "metadata": {
    "collapsed": true
   },
   "outputs": [],
   "source": []
  },
  {
   "cell_type": "code",
   "execution_count": 59,
   "metadata": {
    "collapsed": false
   },
   "outputs": [
    {
     "name": "stderr",
     "output_type": "stream",
     "text": [
      "Warning message:\n",
      ": package 'data.table' was built under R version 3.2.3\n",
      "Attaching package: 'data.table'\n",
      "\n",
      "The following object is masked from 'package:xts':\n",
      "\n",
      "    last\n",
      "\n",
      "Warning message:\n",
      ": package 'forecast' was built under R version 3.2.3Loading required package: timeDate\n",
      "Warning message:\n",
      ": package 'timeDate' was built under R version 3.2.3This is forecast 6.2 \n",
      "\n",
      "Warning message:\n",
      ": package 'plyr' was built under R version 3.2.3"
     ]
    }
   ],
   "source": [
    "library(data.table)\n",
    "library(forecast)\n",
    "library(plyr)"
   ]
  },
  {
   "cell_type": "code",
   "execution_count": 60,
   "metadata": {
    "collapsed": true
   },
   "outputs": [],
   "source": [
    "# Using the Forecast package - summary of the time series characteristics\n",
    "\n",
    "# tsdisplay(x, plot.type=c(\"partial\",\"scatter\",\"spectrum\"),\n",
    "#    points=TRUE, ci.type=c(\"white\", \"ma\"),\n",
    "#    lag.max, na.action=na.contiguous,main=NULL, xlab=\"\", ylab=\"\", pch=1, cex=0.5, ...)\n"
   ]
  },
  {
   "cell_type": "code",
   "execution_count": 61,
   "metadata": {
    "collapsed": false
   },
   "outputs": [
    {
     "data": {
      "image/png": "[encoded data removed]",
      "image/svg+xml": [
       "<?xml version=\"1.0\" encoding=\"UTF-8\"?>\n",
       "<svg xmlns=\"http://www.w3.org/2000/svg\" xmlns:xlink=\"http://www.w3.org/1999/xlink\" width=\"504pt\" height=\"504pt\" viewBox=\"0 0 504 504\" version=\"1.1\">\n",
       "<defs>\n",
       "<g>\n",
       "<symbol overflow=\"visible\" id=\"glyph0-0\">\n",
       "<path style=\"stroke:none;\" d=\"M 0.875 0 L 0.875 -8.554688 L 4.511719 -8.554688 C 5.425781 -8.554688 6.089844 -8.476563 6.503906 -8.324219 C 6.917969 -8.167969 7.246094 -7.894531 7.496094 -7.503906 C 7.742188 -7.109375 7.867188 -6.660156 7.871094 -6.15625 C 7.867188 -5.511719 7.679688 -4.980469 7.304688 -4.566406 C 6.925781 -4.144531 6.363281 -3.882813 5.613281 -3.777344 C 5.988281 -3.554688 6.296875 -3.316406 6.539063 -3.058594 C 6.78125 -2.796875 7.109375 -2.332031 7.523438 -1.667969 L 8.566406 0 L 6.5 0 L 5.253906 -1.863281 C 4.804688 -2.527344 4.5 -2.945313 4.339844 -3.117188 C 4.175781 -3.289063 4.003906 -3.40625 3.820313 -3.472656 C 3.636719 -3.535156 3.347656 -3.566406 2.953125 -3.570313 L 2.601563 -3.570313 L 2.601563 0 Z M 2.601563 -4.9375 L 3.882813 -4.9375 C 4.707031 -4.933594 5.222656 -4.96875 5.433594 -5.042969 C 5.636719 -5.109375 5.800781 -5.230469 5.917969 -5.402344 C 6.035156 -5.574219 6.09375 -5.789063 6.09375 -6.046875 C 6.09375 -6.332031 6.015625 -6.5625 5.863281 -6.742188 C 5.707031 -6.917969 5.488281 -7.03125 5.210938 -7.078125 C 5.066406 -7.097656 4.648438 -7.105469 3.949219 -7.109375 L 2.601563 -7.109375 Z M 2.601563 -4.9375 \"/>\n",
       "</symbol>\n",
       "<symbol overflow=\"visible\" id=\"glyph0-1\">\n",
       "<path style=\"stroke:none;\" d=\"M 4.445313 -1.972656 L 6.082031 -1.699219 C 5.871094 -1.097656 5.539063 -0.640625 5.085938 -0.328125 C 4.632813 -0.015625 4.066406 0.140625 3.386719 0.140625 C 2.308594 0.140625 1.507813 -0.210938 0.992188 -0.917969 C 0.578125 -1.476563 0.375 -2.1875 0.378906 -3.050781 C 0.375 -4.078125 0.644531 -4.882813 1.183594 -5.464844 C 1.71875 -6.042969 2.398438 -6.332031 3.222656 -6.335938 C 4.144531 -6.332031 4.871094 -6.027344 5.402344 -5.421875 C 5.933594 -4.8125 6.1875 -3.882813 6.167969 -2.625 L 2.058594 -2.625 C 2.066406 -2.140625 2.199219 -1.761719 2.457031 -1.492188 C 2.707031 -1.21875 3.023438 -1.082031 3.402344 -1.085938 C 3.65625 -1.082031 3.871094 -1.152344 4.050781 -1.292969 C 4.222656 -1.429688 4.355469 -1.65625 4.445313 -1.972656 Z M 4.539063 -3.628906 C 4.527344 -4.101563 4.40625 -4.464844 4.171875 -4.710938 C 3.9375 -4.957031 3.652344 -5.078125 3.320313 -5.082031 C 2.960938 -5.078125 2.664063 -4.949219 2.433594 -4.691406 C 2.195313 -4.429688 2.082031 -4.074219 2.089844 -3.628906 Z M 4.539063 -3.628906 \"/>\n",
       "</symbol>\n",
       "<symbol overflow=\"visible\" id=\"glyph0-2\">\n",
       "<path style=\"stroke:none;\" d=\"M 6.261719 -4.367188 L 4.644531 -4.074219 C 4.585938 -4.394531 4.460938 -4.636719 4.273438 -4.800781 C 4.078125 -4.960938 3.828125 -5.042969 3.523438 -5.046875 C 3.113281 -5.042969 2.789063 -4.902344 2.546875 -4.625 C 2.300781 -4.339844 2.179688 -3.871094 2.183594 -3.210938 C 2.179688 -2.472656 2.300781 -1.949219 2.550781 -1.648438 C 2.792969 -1.34375 3.125 -1.195313 3.546875 -1.195313 C 3.855469 -1.195313 4.113281 -1.28125 4.3125 -1.460938 C 4.507813 -1.632813 4.648438 -1.9375 4.734375 -2.375 L 6.34375 -2.101563 C 6.175781 -1.359375 5.855469 -0.800781 5.378906 -0.425781 C 4.902344 -0.046875 4.265625 0.140625 3.472656 0.140625 C 2.5625 0.140625 1.839844 -0.144531 1.304688 -0.714844 C 0.761719 -1.285156 0.492188 -2.078125 0.496094 -3.09375 C 0.492188 -4.117188 0.761719 -4.910156 1.304688 -5.480469 C 1.84375 -6.046875 2.574219 -6.332031 3.5 -6.335938 C 4.25 -6.332031 4.851563 -6.171875 5.300781 -5.847656 C 5.742188 -5.523438 6.0625 -5.027344 6.261719 -4.367188 Z M 6.261719 -4.367188 \"/>\n",
       "</symbol>\n",
       "<symbol overflow=\"visible\" id=\"glyph0-3\">\n",
       "<path style=\"stroke:none;\" d=\"M 0.859375 -7.039063 L 0.859375 -8.554688 L 2.496094 -8.554688 L 2.496094 -7.039063 Z M 0.859375 0 L 0.859375 -6.199219 L 2.496094 -6.199219 L 2.496094 0 Z M 0.859375 0 \"/>\n",
       "</symbol>\n",
       "<symbol overflow=\"visible\" id=\"glyph0-4\">\n",
       "<path style=\"stroke:none;\" d=\"M 3.699219 -6.199219 L 3.699219 -4.890625 L 2.578125 -4.890625 L 2.578125 -2.394531 C 2.578125 -1.882813 2.585938 -1.585938 2.609375 -1.507813 C 2.628906 -1.421875 2.679688 -1.355469 2.757813 -1.300781 C 2.832031 -1.246094 2.925781 -1.21875 3.035156 -1.21875 C 3.183594 -1.21875 3.402344 -1.269531 3.695313 -1.378906 L 3.835938 -0.105469 C 3.449219 0.0585938 3.015625 0.140625 2.539063 0.140625 C 2.238281 0.140625 1.972656 0.09375 1.738281 -0.0078125 C 1.5 -0.101563 1.324219 -0.230469 1.214844 -0.390625 C 1.101563 -0.546875 1.027344 -0.761719 0.984375 -1.03125 C 0.949219 -1.222656 0.929688 -1.605469 0.933594 -2.1875 L 0.933594 -4.890625 L 0.179688 -4.890625 L 0.179688 -6.199219 L 0.933594 -6.199219 L 0.933594 -7.429688 L 2.578125 -8.386719 L 2.578125 -6.199219 Z M 3.699219 -6.199219 \"/>\n",
       "</symbol>\n",
       "<symbol overflow=\"visible\" id=\"glyph0-5\">\n",
       "<path style=\"stroke:none;\" d=\"M 2.082031 -4.308594 L 0.59375 -4.574219 C 0.757813 -5.171875 1.046875 -5.613281 1.457031 -5.902344 C 1.863281 -6.1875 2.472656 -6.332031 3.28125 -6.335938 C 4.007813 -6.332031 4.550781 -6.246094 4.910156 -6.078125 C 5.269531 -5.902344 5.519531 -5.683594 5.667969 -5.417969 C 5.808594 -5.148438 5.882813 -4.660156 5.886719 -3.949219 L 5.871094 -2.035156 C 5.871094 -1.488281 5.894531 -1.089844 5.949219 -0.832031 C 5.996094 -0.574219 6.097656 -0.296875 6.246094 0 L 4.621094 0 C 4.578125 -0.109375 4.527344 -0.269531 4.464844 -0.484375 C 4.433594 -0.578125 4.414063 -0.640625 4.40625 -0.675781 C 4.125 -0.402344 3.824219 -0.199219 3.503906 -0.0625 C 3.183594 0.0742188 2.84375 0.140625 2.484375 0.140625 C 1.84375 0.140625 1.339844 -0.03125 0.976563 -0.378906 C 0.605469 -0.722656 0.421875 -1.160156 0.425781 -1.691406 C 0.421875 -2.039063 0.503906 -2.351563 0.675781 -2.628906 C 0.839844 -2.898438 1.074219 -3.109375 1.378906 -3.257813 C 1.675781 -3.402344 2.113281 -3.527344 2.683594 -3.640625 C 3.449219 -3.78125 3.980469 -3.917969 4.277344 -4.042969 L 4.277344 -4.207031 C 4.277344 -4.519531 4.199219 -4.742188 4.042969 -4.878906 C 3.886719 -5.011719 3.59375 -5.078125 3.164063 -5.082031 C 2.871094 -5.078125 2.640625 -5.023438 2.480469 -4.910156 C 2.3125 -4.792969 2.179688 -4.589844 2.082031 -4.308594 Z M 4.277344 -2.976563 C 4.066406 -2.90625 3.730469 -2.820313 3.277344 -2.722656 C 2.820313 -2.625 2.523438 -2.53125 2.386719 -2.4375 C 2.167969 -2.285156 2.0625 -2.09375 2.066406 -1.863281 C 2.0625 -1.628906 2.148438 -1.429688 2.320313 -1.265625 C 2.492188 -1.097656 2.710938 -1.011719 2.976563 -1.015625 C 3.269531 -1.011719 3.550781 -1.109375 3.824219 -1.308594 C 4.019531 -1.449219 4.148438 -1.632813 4.214844 -1.851563 C 4.253906 -1.988281 4.277344 -2.253906 4.277344 -2.648438 Z M 4.277344 -2.976563 \"/>\n",
       "</symbol>\n",
       "<symbol overflow=\"visible\" id=\"glyph0-6\">\n",
       "<path style=\"stroke:none;\" d=\"\"/>\n",
       "</symbol>\n",
       "<symbol overflow=\"visible\" id=\"glyph0-7\">\n",
       "<path style=\"stroke:none;\" d=\"M 0.917969 0 L 0.917969 -8.484375 L 2.644531 -8.484375 L 2.644531 -1.441406 L 6.9375 -1.441406 L 6.9375 0 Z M 0.917969 0 \"/>\n",
       "</symbol>\n",
       "<symbol overflow=\"visible\" id=\"glyph0-8\">\n",
       "<path style=\"stroke:none;\" d=\"M 4.90625 2.359375 L 4.90625 -0.757813 C 4.6875 -0.476563 4.421875 -0.257813 4.105469 -0.101563 C 3.785156 0.0625 3.441406 0.140625 3.074219 0.140625 C 2.367188 0.140625 1.789063 -0.121094 1.335938 -0.652344 C 0.796875 -1.269531 0.527344 -2.109375 0.53125 -3.167969 C 0.527344 -4.164063 0.777344 -4.941406 1.285156 -5.5 C 1.785156 -6.054688 2.414063 -6.332031 3.164063 -6.335938 C 3.574219 -6.332031 3.929688 -6.246094 4.234375 -6.074219 C 4.535156 -5.898438 4.800781 -5.632813 5.035156 -5.28125 L 5.035156 -6.199219 L 6.546875 -6.199219 L 6.546875 2.359375 Z M 4.960938 -3.175781 C 4.957031 -3.808594 4.828125 -4.277344 4.570313 -4.589844 C 4.3125 -4.894531 3.988281 -5.050781 3.601563 -5.054688 C 3.199219 -5.050781 2.867188 -4.894531 2.605469 -4.582031 C 2.335938 -4.265625 2.203125 -3.765625 2.207031 -3.082031 C 2.203125 -2.398438 2.332031 -1.90625 2.589844 -1.605469 C 2.847656 -1.304688 3.164063 -1.152344 3.542969 -1.15625 C 3.917969 -1.152344 4.25 -1.324219 4.535156 -1.664063 C 4.816406 -2 4.957031 -2.503906 4.960938 -3.175781 Z M 4.960938 -3.175781 \"/>\n",
       "</symbol>\n",
       "<symbol overflow=\"visible\" id=\"glyph0-9\">\n",
       "<path style=\"stroke:none;\" d=\"M 0.859375 0 L 0.859375 -1.640625 L 2.496094 -1.640625 L 2.496094 0 Z M 0.859375 0 \"/>\n",
       "</symbol>\n",
       "<symbol overflow=\"visible\" id=\"glyph0-10\">\n",
       "<path style=\"stroke:none;\" d=\"M 2.796875 0 L 2.796875 -7.109375 L 0.257813 -7.109375 L 0.257813 -8.554688 L 7.054688 -8.554688 L 7.054688 -7.109375 L 4.523438 -7.109375 L 4.523438 0 Z M 2.796875 0 \"/>\n",
       "</symbol>\n",
       "<symbol overflow=\"visible\" id=\"glyph0-11\">\n",
       "<path style=\"stroke:none;\" d=\"M 0.480469 -3.1875 C 0.480469 -3.730469 0.613281 -4.253906 0.882813 -4.765625 C 1.148438 -5.273438 1.527344 -5.664063 2.023438 -5.933594 C 2.511719 -6.199219 3.0625 -6.332031 3.671875 -6.335938 C 4.605469 -6.332031 5.375 -6.027344 5.976563 -5.421875 C 6.574219 -4.8125 6.871094 -4.046875 6.875 -3.117188 C 6.871094 -2.179688 6.570313 -1.402344 5.964844 -0.785156 C 5.359375 -0.167969 4.597656 0.140625 3.683594 0.140625 C 3.113281 0.140625 2.570313 0.015625 2.058594 -0.242188 C 1.539063 -0.496094 1.148438 -0.875 0.882813 -1.371094 C 0.613281 -1.867188 0.480469 -2.472656 0.480469 -3.1875 Z M 2.160156 -3.097656 C 2.15625 -2.480469 2.300781 -2.007813 2.597656 -1.683594 C 2.886719 -1.355469 3.246094 -1.195313 3.675781 -1.195313 C 4.101563 -1.195313 4.460938 -1.355469 4.753906 -1.683594 C 5.039063 -2.007813 5.183594 -2.484375 5.1875 -3.109375 C 5.183594 -3.714844 5.039063 -4.179688 4.753906 -4.507813 C 4.460938 -4.832031 4.101563 -4.996094 3.675781 -5 C 3.246094 -4.996094 2.886719 -4.832031 2.597656 -4.507813 C 2.300781 -4.179688 2.15625 -3.710938 2.160156 -3.097656 Z M 2.160156 -3.097656 \"/>\n",
       "</symbol>\n",
       "<symbol overflow=\"visible\" id=\"glyph0-12\">\n",
       "<path style=\"stroke:none;\" d=\"M 0.859375 0 L 0.859375 -8.554688 L 2.496094 -8.554688 L 2.496094 0 Z M 0.859375 0 \"/>\n",
       "</symbol>\n",
       "<symbol overflow=\"visible\" id=\"glyph1-0\">\n",
       "<path style=\"stroke:none;\" d=\"M 0.414063 -3.515625 C 0.410156 -4.359375 0.496094 -5.035156 0.671875 -5.550781 C 0.84375 -6.058594 1.101563 -6.457031 1.445313 -6.738281 C 1.785156 -7.019531 2.214844 -7.160156 2.738281 -7.160156 C 3.117188 -7.160156 3.453125 -7.082031 3.742188 -6.925781 C 4.027344 -6.769531 4.265625 -6.546875 4.457031 -6.261719 C 4.644531 -5.96875 4.792969 -5.617188 4.902344 -5.203125 C 5.007813 -4.785156 5.0625 -4.222656 5.0625 -3.515625 C 5.0625 -2.679688 4.976563 -2.003906 4.804688 -1.488281 C 4.632813 -0.972656 4.375 -0.574219 4.03125 -0.296875 C 3.6875 -0.0195313 3.253906 0.117188 2.738281 0.121094 C 2.046875 0.117188 1.507813 -0.125 1.117188 -0.617188 C 0.644531 -1.207031 0.410156 -2.175781 0.414063 -3.515625 Z M 1.3125 -3.515625 C 1.3125 -2.34375 1.449219 -1.5625 1.722656 -1.179688 C 1.996094 -0.789063 2.332031 -0.597656 2.738281 -0.597656 C 3.136719 -0.597656 3.476563 -0.789063 3.75 -1.179688 C 4.023438 -1.566406 4.160156 -2.347656 4.164063 -3.515625 C 4.160156 -4.6875 4.023438 -5.464844 3.75 -5.855469 C 3.476563 -6.238281 3.132813 -6.433594 2.726563 -6.433594 C 2.320313 -6.433594 2 -6.261719 1.765625 -5.921875 C 1.460938 -5.488281 1.3125 -4.6875 1.3125 -3.515625 Z M 1.3125 -3.515625 \"/>\n",
       "</symbol>\n",
       "<symbol overflow=\"visible\" id=\"glyph1-1\">\n",
       "<path style=\"stroke:none;\" d=\"M 0.414063 -1.867188 L 1.332031 -1.945313 C 1.394531 -1.496094 1.554688 -1.15625 1.804688 -0.933594 C 2.054688 -0.707031 2.351563 -0.597656 2.703125 -0.597656 C 3.121094 -0.597656 3.480469 -0.753906 3.773438 -1.074219 C 4.0625 -1.386719 4.207031 -1.808594 4.210938 -2.339844 C 4.207031 -2.835938 4.066406 -3.230469 3.789063 -3.519531 C 3.507813 -3.804688 3.140625 -3.949219 2.6875 -3.953125 C 2.402344 -3.949219 2.148438 -3.886719 1.925781 -3.761719 C 1.695313 -3.632813 1.515625 -3.464844 1.390625 -3.261719 L 0.570313 -3.371094 L 1.257813 -7.03125 L 4.804688 -7.03125 L 4.804688 -6.195313 L 1.960938 -6.195313 L 1.574219 -4.28125 C 2 -4.574219 2.449219 -4.722656 2.921875 -4.726563 C 3.542969 -4.722656 4.066406 -4.507813 4.496094 -4.078125 C 4.921875 -3.648438 5.136719 -3.09375 5.140625 -2.417969 C 5.136719 -1.769531 4.949219 -1.210938 4.578125 -0.742188 C 4.117188 -0.167969 3.492188 0.117188 2.703125 0.121094 C 2.050781 0.117188 1.523438 -0.0625 1.113281 -0.421875 C 0.703125 -0.785156 0.46875 -1.265625 0.414063 -1.867188 Z M 0.414063 -1.867188 \"/>\n",
       "</symbol>\n",
       "<symbol overflow=\"visible\" id=\"glyph1-2\">\n",
       "<path style=\"stroke:none;\" d=\"M 3.710938 0 L 2.835938 0 L 2.835938 -5.578125 C 2.625 -5.375 2.347656 -5.171875 2.003906 -4.972656 C 1.660156 -4.769531 1.351563 -4.621094 1.085938 -4.523438 L 1.085938 -5.367188 C 1.570313 -5.597656 2 -5.875 2.367188 -6.203125 C 2.734375 -6.527344 2.992188 -6.847656 3.148438 -7.160156 L 3.710938 -7.160156 Z M 3.710938 0 \"/>\n",
       "</symbol>\n",
       "<symbol overflow=\"visible\" id=\"glyph1-3\">\n",
       "<path style=\"stroke:none;\" d=\"M 5.015625 -0.839844 L 5.015625 0 L 0.300781 0 C 0.292969 -0.210938 0.328125 -0.414063 0.402344 -0.609375 C 0.519531 -0.929688 0.710938 -1.242188 0.976563 -1.554688 C 1.238281 -1.863281 1.621094 -2.226563 2.125 -2.636719 C 2.898438 -3.269531 3.421875 -3.769531 3.695313 -4.144531 C 3.964844 -4.511719 4.101563 -4.863281 4.105469 -5.199219 C 4.101563 -5.542969 3.976563 -5.835938 3.730469 -6.074219 C 3.480469 -6.3125 3.15625 -6.433594 2.761719 -6.433594 C 2.335938 -6.433594 2 -6.304688 1.75 -6.054688 C 1.496094 -5.796875 1.367188 -5.449219 1.367188 -5.003906 L 0.46875 -5.097656 C 0.527344 -5.765625 0.757813 -6.273438 1.160156 -6.628906 C 1.5625 -6.980469 2.101563 -7.160156 2.78125 -7.160156 C 3.464844 -7.160156 4.007813 -6.96875 4.40625 -6.589844 C 4.804688 -6.207031 5.003906 -5.738281 5.003906 -5.179688 C 5.003906 -4.890625 4.945313 -4.609375 4.828125 -4.335938 C 4.710938 -4.0625 4.515625 -3.773438 4.246094 -3.46875 C 3.976563 -3.164063 3.527344 -2.742188 2.898438 -2.210938 C 2.371094 -1.765625 2.035156 -1.46875 1.886719 -1.3125 C 1.738281 -1.15625 1.613281 -0.996094 1.515625 -0.839844 Z M 5.015625 -0.839844 \"/>\n",
       "</symbol>\n",
       "<symbol overflow=\"visible\" id=\"glyph1-4\">\n",
       "<path style=\"stroke:none;\" d=\"M 3.21875 0 L 3.21875 -1.707031 L 0.125 -1.707031 L 0.125 -2.507813 L 3.378906 -7.128906 L 4.09375 -7.128906 L 4.09375 -2.507813 L 5.058594 -2.507813 L 5.058594 -1.707031 L 4.09375 -1.707031 L 4.09375 0 Z M 3.21875 -2.507813 L 3.21875 -5.722656 L 0.988281 -2.507813 Z M 3.21875 -2.507813 \"/>\n",
       "</symbol>\n",
       "<symbol overflow=\"visible\" id=\"glyph1-5\">\n",
       "<path style=\"stroke:none;\" d=\"M 4.957031 -5.382813 L 4.085938 -5.316406 C 4.003906 -5.65625 3.894531 -5.90625 3.753906 -6.066406 C 3.515625 -6.308594 3.222656 -6.433594 2.878906 -6.4375 C 2.597656 -6.433594 2.355469 -6.355469 2.144531 -6.207031 C 1.867188 -6 1.648438 -5.707031 1.492188 -5.324219 C 1.332031 -4.9375 1.25 -4.386719 1.246094 -3.675781 C 1.453125 -3.992188 1.710938 -4.230469 2.019531 -4.390625 C 2.320313 -4.542969 2.640625 -4.621094 2.976563 -4.625 C 3.558594 -4.621094 4.054688 -4.40625 4.464844 -3.980469 C 4.875 -3.546875 5.078125 -2.992188 5.082031 -2.316406 C 5.078125 -1.863281 4.984375 -1.449219 4.792969 -1.066406 C 4.597656 -0.683594 4.332031 -0.386719 3.996094 -0.183594 C 3.660156 0.0195313 3.277344 0.117188 2.851563 0.121094 C 2.117188 0.117188 1.519531 -0.148438 1.0625 -0.683594 C 0.601563 -1.21875 0.375 -2.101563 0.375 -3.335938 C 0.375 -4.710938 0.628906 -5.714844 1.136719 -6.339844 C 1.582031 -6.886719 2.179688 -7.160156 2.933594 -7.160156 C 3.492188 -7.160156 3.949219 -7 4.308594 -6.6875 C 4.664063 -6.367188 4.882813 -5.933594 4.957031 -5.382813 Z M 1.382813 -2.308594 C 1.382813 -2.007813 1.445313 -1.71875 1.574219 -1.445313 C 1.699219 -1.167969 1.878906 -0.957031 2.109375 -0.8125 C 2.339844 -0.667969 2.582031 -0.597656 2.835938 -0.597656 C 3.203125 -0.597656 3.519531 -0.746094 3.789063 -1.042969 C 4.050781 -1.339844 4.183594 -1.746094 4.1875 -2.261719 C 4.183594 -2.753906 4.050781 -3.140625 3.792969 -3.425781 C 3.527344 -3.707031 3.199219 -3.847656 2.800781 -3.851563 C 2.402344 -3.847656 2.066406 -3.707031 1.792969 -3.425781 C 1.519531 -3.140625 1.382813 -2.769531 1.382813 -2.308594 Z M 1.382813 -2.308594 \"/>\n",
       "</symbol>\n",
       "<symbol overflow=\"visible\" id=\"glyph1-6\">\n",
       "<path style=\"stroke:none;\" d=\"M 1.761719 -3.867188 C 1.394531 -4 1.125 -4.1875 0.953125 -4.433594 C 0.777344 -4.679688 0.691406 -4.976563 0.691406 -5.320313 C 0.691406 -5.835938 0.875 -6.269531 1.25 -6.628906 C 1.617188 -6.980469 2.113281 -7.160156 2.738281 -7.160156 C 3.355469 -7.160156 3.855469 -6.976563 4.238281 -6.617188 C 4.613281 -6.25 4.804688 -5.8125 4.808594 -5.296875 C 4.804688 -4.964844 4.71875 -4.675781 4.546875 -4.433594 C 4.375 -4.1875 4.109375 -4 3.757813 -3.867188 C 4.191406 -3.722656 4.527344 -3.492188 4.757813 -3.175781 C 4.984375 -2.855469 5.097656 -2.476563 5.101563 -2.039063 C 5.097656 -1.429688 4.882813 -0.914063 4.453125 -0.5 C 4.023438 -0.0859375 3.457031 0.117188 2.753906 0.121094 C 2.050781 0.117188 1.480469 -0.0898438 1.050781 -0.503906 C 0.613281 -0.917969 0.398438 -1.4375 0.402344 -2.0625 C 0.398438 -2.523438 0.515625 -2.910156 0.753906 -3.226563 C 0.988281 -3.535156 1.324219 -3.75 1.761719 -3.867188 Z M 1.585938 -5.347656 C 1.582031 -5.007813 1.691406 -4.734375 1.910156 -4.523438 C 2.128906 -4.308594 2.410156 -4.199219 2.757813 -4.203125 C 3.089844 -4.199219 3.367188 -4.304688 3.585938 -4.519531 C 3.800781 -4.730469 3.90625 -4.992188 3.910156 -5.300781 C 3.90625 -5.617188 3.796875 -5.886719 3.574219 -6.109375 C 3.351563 -6.324219 3.074219 -6.433594 2.746094 -6.4375 C 2.410156 -6.433594 2.132813 -6.328125 1.914063 -6.117188 C 1.691406 -5.902344 1.582031 -5.644531 1.585938 -5.347656 Z M 1.304688 -2.058594 C 1.300781 -1.804688 1.359375 -1.5625 1.480469 -1.332031 C 1.597656 -1.09375 1.773438 -0.914063 2.007813 -0.789063 C 2.238281 -0.660156 2.488281 -0.597656 2.761719 -0.597656 C 3.175781 -0.597656 3.523438 -0.730469 3.796875 -1 C 4.070313 -1.269531 4.207031 -1.613281 4.207031 -2.027344 C 4.207031 -2.449219 4.066406 -2.796875 3.785156 -3.074219 C 3.503906 -3.347656 3.152344 -3.484375 2.734375 -3.488281 C 2.320313 -3.484375 1.980469 -3.347656 1.710938 -3.078125 C 1.4375 -2.804688 1.300781 -2.464844 1.304688 -2.058594 Z M 1.304688 -2.058594 \"/>\n",
       "</symbol>\n",
       "<symbol overflow=\"visible\" id=\"glyph1-7\">\n",
       "<path style=\"stroke:none;\" d=\"M 0.730469 0 L 0.730469 -7.128906 L 1.671875 -7.128906 L 1.671875 -0.839844 L 5.183594 -0.839844 L 5.183594 0 Z M 0.730469 0 \"/>\n",
       "</symbol>\n",
       "<symbol overflow=\"visible\" id=\"glyph1-8\">\n",
       "<path style=\"stroke:none;\" d=\"M 4.027344 -0.636719 C 3.699219 -0.359375 3.386719 -0.164063 3.089844 -0.0507813 C 2.785156 0.0625 2.464844 0.117188 2.125 0.117188 C 1.554688 0.117188 1.117188 -0.0195313 0.816406 -0.296875 C 0.507813 -0.574219 0.355469 -0.929688 0.359375 -1.363281 C 0.355469 -1.613281 0.414063 -1.84375 0.53125 -2.054688 C 0.644531 -2.261719 0.796875 -2.429688 0.984375 -2.554688 C 1.171875 -2.679688 1.378906 -2.773438 1.613281 -2.84375 C 1.78125 -2.886719 2.042969 -2.933594 2.394531 -2.976563 C 3.097656 -3.058594 3.617188 -3.15625 3.953125 -3.277344 C 3.953125 -3.394531 3.953125 -3.472656 3.957031 -3.507813 C 3.953125 -3.863281 3.871094 -4.113281 3.710938 -4.261719 C 3.484375 -4.457031 3.152344 -4.558594 2.714844 -4.558594 C 2.300781 -4.558594 1.996094 -4.484375 1.800781 -4.339844 C 1.601563 -4.195313 1.457031 -3.941406 1.367188 -3.574219 L 0.511719 -3.691406 C 0.585938 -4.058594 0.714844 -4.351563 0.894531 -4.578125 C 1.070313 -4.800781 1.328125 -4.976563 1.667969 -5.097656 C 2.003906 -5.21875 2.394531 -5.277344 2.839844 -5.28125 C 3.277344 -5.277344 3.636719 -5.226563 3.914063 -5.125 C 4.1875 -5.019531 4.390625 -4.890625 4.523438 -4.734375 C 4.652344 -4.578125 4.742188 -4.378906 4.796875 -4.136719 C 4.824219 -3.988281 4.839844 -3.71875 4.839844 -3.332031 L 4.839844 -2.164063 C 4.839844 -1.347656 4.855469 -0.835938 4.894531 -0.621094 C 4.925781 -0.402344 5 -0.195313 5.117188 0 L 4.203125 0 C 4.109375 -0.179688 4.050781 -0.390625 4.027344 -0.636719 Z M 3.953125 -2.59375 C 3.632813 -2.460938 3.15625 -2.351563 2.523438 -2.261719 C 2.160156 -2.207031 1.90625 -2.148438 1.757813 -2.085938 C 1.609375 -2.019531 1.492188 -1.921875 1.414063 -1.800781 C 1.328125 -1.671875 1.289063 -1.535156 1.292969 -1.386719 C 1.289063 -1.148438 1.378906 -0.953125 1.558594 -0.800781 C 1.734375 -0.644531 1.992188 -0.566406 2.335938 -0.570313 C 2.667969 -0.566406 2.96875 -0.640625 3.234375 -0.789063 C 3.496094 -0.933594 3.6875 -1.136719 3.8125 -1.394531 C 3.902344 -1.589844 3.949219 -1.878906 3.953125 -2.269531 Z M 3.953125 -2.59375 \"/>\n",
       "</symbol>\n",
       "<symbol overflow=\"visible\" id=\"glyph1-9\">\n",
       "<path style=\"stroke:none;\" d=\"M 0.496094 0.429688 L 1.347656 0.554688 C 1.382813 0.816406 1.480469 1.007813 1.644531 1.128906 C 1.859375 1.289063 2.15625 1.371094 2.535156 1.371094 C 2.9375 1.371094 3.25 1.289063 3.472656 1.128906 C 3.691406 0.964844 3.839844 0.738281 3.917969 0.449219 C 3.960938 0.265625 3.984375 -0.105469 3.984375 -0.675781 C 3.601563 -0.222656 3.125 0 2.554688 0 C 1.84375 0 1.292969 -0.253906 0.902344 -0.765625 C 0.511719 -1.277344 0.316406 -1.894531 0.320313 -2.613281 C 0.316406 -3.105469 0.40625 -3.558594 0.585938 -3.976563 C 0.765625 -4.390625 1.023438 -4.710938 1.363281 -4.941406 C 1.699219 -5.164063 2.097656 -5.277344 2.558594 -5.28125 C 3.164063 -5.277344 3.667969 -5.03125 4.066406 -4.542969 L 4.066406 -5.164063 L 4.871094 -5.164063 L 4.871094 -0.699219 C 4.867188 0.105469 4.785156 0.671875 4.625 1.007813 C 4.460938 1.34375 4.203125 1.609375 3.847656 1.804688 C 3.492188 2 3.054688 2.097656 2.539063 2.097656 C 1.917969 2.097656 1.421875 1.957031 1.042969 1.679688 C 0.664063 1.402344 0.480469 0.984375 0.496094 0.429688 Z M 1.21875 -2.675781 C 1.21875 -1.996094 1.351563 -1.5 1.621094 -1.191406 C 1.890625 -0.878906 2.230469 -0.726563 2.636719 -0.726563 C 3.035156 -0.726563 3.371094 -0.878906 3.644531 -1.1875 C 3.917969 -1.496094 4.054688 -1.980469 4.054688 -2.644531 C 4.054688 -3.273438 3.914063 -3.75 3.632813 -4.074219 C 3.351563 -4.394531 3.011719 -4.558594 2.621094 -4.558594 C 2.230469 -4.558594 1.902344 -4.398438 1.628906 -4.082031 C 1.355469 -3.765625 1.21875 -3.296875 1.21875 -2.675781 Z M 1.21875 -2.675781 \"/>\n",
       "</symbol>\n",
       "<symbol overflow=\"visible\" id=\"glyph2-0\">\n",
       "<path style=\"stroke:none;\" d=\"M -1.867188 -0.414063 L -1.945313 -1.332031 C -1.496094 -1.394531 -1.15625 -1.554688 -0.933594 -1.804688 C -0.707031 -2.054688 -0.597656 -2.351563 -0.597656 -2.703125 C -0.597656 -3.121094 -0.753906 -3.480469 -1.074219 -3.773438 C -1.386719 -4.0625 -1.808594 -4.207031 -2.339844 -4.210938 C -2.835938 -4.207031 -3.230469 -4.066406 -3.519531 -3.789063 C -3.804688 -3.507813 -3.949219 -3.140625 -3.953125 -2.6875 C -3.949219 -2.402344 -3.886719 -2.148438 -3.761719 -1.925781 C -3.632813 -1.695313 -3.464844 -1.515625 -3.261719 -1.390625 L -3.371094 -0.570313 L -7.03125 -1.257813 L -7.03125 -4.804688 L -6.195313 -4.804688 L -6.195313 -1.960938 L -4.28125 -1.574219 C -4.574219 -2 -4.722656 -2.449219 -4.726563 -2.921875 C -4.722656 -3.542969 -4.507813 -4.066406 -4.078125 -4.496094 C -3.648438 -4.921875 -3.09375 -5.136719 -2.417969 -5.140625 C -1.769531 -5.136719 -1.210938 -4.949219 -0.742188 -4.578125 C -0.167969 -4.117188 0.117188 -3.492188 0.121094 -2.703125 C 0.117188 -2.050781 -0.0625 -1.523438 -0.421875 -1.113281 C -0.785156 -0.703125 -1.265625 -0.46875 -1.867188 -0.414063 Z M -1.867188 -0.414063 \"/>\n",
       "</symbol>\n",
       "<symbol overflow=\"visible\" id=\"glyph2-1\">\n",
       "<path style=\"stroke:none;\" d=\"M -3.515625 -0.414063 C -4.359375 -0.410156 -5.035156 -0.496094 -5.550781 -0.671875 C -6.058594 -0.84375 -6.457031 -1.101563 -6.738281 -1.445313 C -7.019531 -1.785156 -7.160156 -2.214844 -7.160156 -2.738281 C -7.160156 -3.117188 -7.082031 -3.453125 -6.925781 -3.742188 C -6.769531 -4.027344 -6.546875 -4.265625 -6.261719 -4.457031 C -5.96875 -4.644531 -5.617188 -4.792969 -5.203125 -4.902344 C -4.785156 -5.007813 -4.222656 -5.0625 -3.515625 -5.0625 C -2.679688 -5.0625 -2.003906 -4.976563 -1.488281 -4.804688 C -0.972656 -4.632813 -0.574219 -4.375 -0.296875 -4.03125 C -0.0195313 -3.6875 0.117188 -3.253906 0.121094 -2.738281 C 0.117188 -2.046875 -0.125 -1.507813 -0.617188 -1.117188 C -1.207031 -0.644531 -2.175781 -0.410156 -3.515625 -0.414063 Z M -3.515625 -1.3125 C -2.34375 -1.3125 -1.5625 -1.449219 -1.179688 -1.722656 C -0.789063 -1.996094 -0.597656 -2.332031 -0.597656 -2.738281 C -0.597656 -3.136719 -0.789063 -3.476563 -1.179688 -3.75 C -1.566406 -4.023438 -2.347656 -4.160156 -3.515625 -4.164063 C -4.6875 -4.160156 -5.464844 -4.023438 -5.855469 -3.75 C -6.238281 -3.476563 -6.433594 -3.132813 -6.433594 -2.726563 C -6.433594 -2.320313 -6.261719 -2 -5.921875 -1.765625 C -5.488281 -1.460938 -4.6875 -1.3125 -3.515625 -1.3125 Z M -3.515625 -1.3125 \"/>\n",
       "</symbol>\n",
       "<symbol overflow=\"visible\" id=\"glyph2-2\">\n",
       "<path style=\"stroke:none;\" d=\"M 0 -3.710938 L 0 -2.835938 L -5.578125 -2.835938 C -5.375 -2.625 -5.171875 -2.347656 -4.972656 -2.003906 C -4.769531 -1.660156 -4.621094 -1.351563 -4.523438 -1.085938 L -5.367188 -1.085938 C -5.597656 -1.570313 -5.875 -2 -6.203125 -2.367188 C -6.527344 -2.734375 -6.847656 -2.992188 -7.160156 -3.148438 L -7.160156 -3.710938 Z M 0 -3.710938 \"/>\n",
       "</symbol>\n",
       "<symbol overflow=\"visible\" id=\"glyph2-3\">\n",
       "<path style=\"stroke:none;\" d=\"M -0.839844 -5.015625 L 0 -5.015625 L 0 -0.300781 C -0.210938 -0.292969 -0.414063 -0.328125 -0.609375 -0.402344 C -0.929688 -0.519531 -1.242188 -0.710938 -1.554688 -0.976563 C -1.863281 -1.238281 -2.226563 -1.621094 -2.636719 -2.125 C -3.269531 -2.898438 -3.769531 -3.421875 -4.144531 -3.695313 C -4.511719 -3.964844 -4.863281 -4.101563 -5.199219 -4.105469 C -5.542969 -4.101563 -5.835938 -3.976563 -6.074219 -3.730469 C -6.3125 -3.480469 -6.433594 -3.15625 -6.433594 -2.761719 C -6.433594 -2.335938 -6.304688 -2 -6.054688 -1.75 C -5.796875 -1.496094 -5.449219 -1.367188 -5.003906 -1.367188 L -5.097656 -0.46875 C -5.765625 -0.527344 -6.273438 -0.757813 -6.628906 -1.160156 C -6.980469 -1.5625 -7.160156 -2.101563 -7.160156 -2.78125 C -7.160156 -3.464844 -6.96875 -4.007813 -6.589844 -4.40625 C -6.207031 -4.804688 -5.738281 -5.003906 -5.179688 -5.003906 C -4.890625 -5.003906 -4.609375 -4.945313 -4.335938 -4.828125 C -4.0625 -4.710938 -3.773438 -4.515625 -3.46875 -4.246094 C -3.164063 -3.976563 -2.742188 -3.527344 -2.210938 -2.898438 C -1.765625 -2.371094 -1.46875 -2.035156 -1.3125 -1.886719 C -1.15625 -1.738281 -0.996094 -1.613281 -0.839844 -1.515625 Z M -0.839844 -5.015625 \"/>\n",
       "</symbol>\n",
       "<symbol overflow=\"visible\" id=\"glyph2-4\">\n",
       "<path style=\"stroke:none;\" d=\"M 0 -0.90625 L -0.996094 -0.90625 L -0.996094 -1.902344 L 0 -1.902344 Z M 0 -0.90625 \"/>\n",
       "</symbol>\n",
       "<symbol overflow=\"visible\" id=\"glyph2-5\">\n",
       "<path style=\"stroke:none;\" d=\"M 0 -3.21875 L -1.707031 -3.21875 L -1.707031 -0.125 L -2.507813 -0.125 L -7.128906 -3.378906 L -7.128906 -4.09375 L -2.507813 -4.09375 L -2.507813 -5.058594 L -1.707031 -5.058594 L -1.707031 -4.09375 L 0 -4.09375 Z M -2.507813 -3.21875 L -5.722656 -3.21875 L -2.507813 -0.988281 Z M -2.507813 -3.21875 \"/>\n",
       "</symbol>\n",
       "<symbol overflow=\"visible\" id=\"glyph2-6\">\n",
       "<path style=\"stroke:none;\" d=\"M -5.382813 -4.957031 L -5.316406 -4.085938 C -5.65625 -4.003906 -5.90625 -3.894531 -6.066406 -3.753906 C -6.308594 -3.515625 -6.433594 -3.222656 -6.4375 -2.878906 C -6.433594 -2.597656 -6.355469 -2.355469 -6.207031 -2.144531 C -6 -1.867188 -5.707031 -1.648438 -5.324219 -1.492188 C -4.9375 -1.332031 -4.386719 -1.25 -3.675781 -1.246094 C -3.992188 -1.453125 -4.230469 -1.710938 -4.390625 -2.019531 C -4.542969 -2.320313 -4.621094 -2.640625 -4.625 -2.976563 C -4.621094 -3.558594 -4.40625 -4.054688 -3.980469 -4.464844 C -3.546875 -4.875 -2.992188 -5.078125 -2.316406 -5.082031 C -1.863281 -5.078125 -1.449219 -4.984375 -1.066406 -4.792969 C -0.683594 -4.597656 -0.386719 -4.332031 -0.183594 -3.996094 C 0.0195313 -3.660156 0.117188 -3.277344 0.121094 -2.851563 C 0.117188 -2.117188 -0.148438 -1.519531 -0.683594 -1.0625 C -1.21875 -0.601563 -2.101563 -0.375 -3.335938 -0.375 C -4.710938 -0.375 -5.714844 -0.628906 -6.339844 -1.136719 C -6.886719 -1.582031 -7.160156 -2.179688 -7.160156 -2.933594 C -7.160156 -3.492188 -7 -3.949219 -6.6875 -4.308594 C -6.367188 -4.664063 -5.933594 -4.882813 -5.382813 -4.957031 Z M -2.308594 -1.382813 C -2.007813 -1.382813 -1.71875 -1.445313 -1.445313 -1.574219 C -1.167969 -1.699219 -0.957031 -1.878906 -0.8125 -2.109375 C -0.667969 -2.339844 -0.597656 -2.582031 -0.597656 -2.835938 C -0.597656 -3.203125 -0.746094 -3.519531 -1.042969 -3.789063 C -1.339844 -4.050781 -1.746094 -4.183594 -2.261719 -4.1875 C -2.753906 -4.183594 -3.140625 -4.050781 -3.425781 -3.792969 C -3.707031 -3.527344 -3.847656 -3.199219 -3.851563 -2.800781 C -3.847656 -2.402344 -3.707031 -2.066406 -3.425781 -1.792969 C -3.140625 -1.519531 -2.769531 -1.382813 -2.308594 -1.382813 Z M -2.308594 -1.382813 \"/>\n",
       "</symbol>\n",
       "<symbol overflow=\"visible\" id=\"glyph2-7\">\n",
       "<path style=\"stroke:none;\" d=\"M 0 0.015625 L -7.128906 -2.722656 L -7.128906 -3.738281 L 0 -6.65625 L 0 -5.582031 L -2.160156 -4.75 L -2.160156 -1.769531 L 0 -0.988281 Z M -2.925781 -2.042969 L -2.925781 -4.460938 L -4.902344 -3.714844 C -5.5 -3.488281 -5.992188 -3.320313 -6.378906 -3.210938 C -5.921875 -3.117188 -5.46875 -2.988281 -5.019531 -2.824219 Z M -2.925781 -2.042969 \"/>\n",
       "</symbol>\n",
       "<symbol overflow=\"visible\" id=\"glyph2-8\">\n",
       "<path style=\"stroke:none;\" d=\"M -2.5 -5.855469 L -2.261719 -6.800781 C -1.484375 -6.601563 -0.890625 -6.246094 -0.488281 -5.730469 C -0.0820313 -5.214844 0.117188 -4.585938 0.121094 -3.847656 C 0.117188 -3.078125 -0.0351563 -2.453125 -0.347656 -1.972656 C -0.65625 -1.488281 -1.109375 -1.121094 -1.707031 -0.871094 C -2.296875 -0.617188 -2.933594 -0.492188 -3.617188 -0.496094 C -4.355469 -0.492188 -5.003906 -0.632813 -5.558594 -0.921875 C -6.109375 -1.203125 -6.53125 -1.609375 -6.820313 -2.132813 C -7.105469 -2.65625 -7.246094 -3.230469 -7.25 -3.863281 C -7.246094 -4.570313 -7.066406 -5.171875 -6.703125 -5.660156 C -6.339844 -6.144531 -5.828125 -6.480469 -5.175781 -6.675781 L -4.957031 -5.75 C -5.472656 -5.578125 -5.847656 -5.339844 -6.089844 -5.027344 C -6.324219 -4.714844 -6.445313 -4.320313 -6.445313 -3.84375 C -6.445313 -3.292969 -6.3125 -2.832031 -6.050781 -2.46875 C -5.785156 -2.097656 -5.433594 -1.839844 -4.992188 -1.691406 C -4.546875 -1.539063 -4.089844 -1.464844 -3.625 -1.46875 C -3.015625 -1.464844 -2.484375 -1.554688 -2.035156 -1.734375 C -1.578125 -1.910156 -1.242188 -2.183594 -1.019531 -2.558594 C -0.796875 -2.929688 -0.683594 -3.332031 -0.6875 -3.769531 C -0.683594 -4.292969 -0.835938 -4.742188 -1.144531 -5.109375 C -1.445313 -5.476563 -1.898438 -5.722656 -2.5 -5.855469 Z M -2.5 -5.855469 \"/>\n",
       "</symbol>\n",
       "<symbol overflow=\"visible\" id=\"glyph2-9\">\n",
       "<path style=\"stroke:none;\" d=\"M 0 -0.816406 L -7.128906 -0.816406 L -7.128906 -5.625 L -6.289063 -5.625 L -6.289063 -1.761719 L -4.082031 -1.761719 L -4.082031 -5.105469 L -3.238281 -5.105469 L -3.238281 -1.761719 L 0 -1.761719 Z M 0 -0.816406 \"/>\n",
       "</symbol>\n",
       "<symbol overflow=\"visible\" id=\"glyph2-10\">\n",
       "<path style=\"stroke:none;\" d=\"M 0 -0.769531 L -7.128906 -0.769531 L -7.128906 -3.457031 C -7.125 -3.929688 -7.101563 -4.289063 -7.0625 -4.542969 C -7 -4.886719 -6.890625 -5.179688 -6.726563 -5.421875 C -6.5625 -5.65625 -6.332031 -5.847656 -6.039063 -5.992188 C -5.742188 -6.136719 -5.417969 -6.210938 -5.066406 -6.210938 C -4.457031 -6.210938 -3.945313 -6.015625 -3.527344 -5.632813 C -3.105469 -5.242188 -2.894531 -4.546875 -2.898438 -3.539063 L -2.898438 -1.710938 L 0 -1.710938 Z M -3.738281 -1.710938 L -3.738281 -3.554688 C -3.738281 -4.160156 -3.851563 -4.59375 -4.078125 -4.851563 C -4.304688 -5.109375 -4.625 -5.238281 -5.039063 -5.238281 C -5.335938 -5.238281 -5.589844 -5.160156 -5.800781 -5.011719 C -6.011719 -4.855469 -6.152344 -4.65625 -6.226563 -4.414063 C -6.265625 -4.25 -6.285156 -3.957031 -6.289063 -3.535156 L -6.289063 -1.710938 Z M -3.738281 -1.710938 \"/>\n",
       "</symbol>\n",
       "</g>\n",
       "<clipPath id=\"clip1\">\n",
       "  <path d=\"M 49.003906 49.003906 L 479.902344 49.003906 L 479.902344 192.046875 L 49.003906 192.046875 Z M 49.003906 49.003906 \"/>\n",
       "</clipPath>\n",
       "<clipPath id=\"clip2\">\n",
       "  <path d=\"M 0 0 L 505 0 L 505 253 L 0 253 Z M 0 0 \"/>\n",
       "</clipPath>\n",
       "<clipPath id=\"clip3\">\n",
       "  <path d=\"M 49.003906 49.003906 L 479.902344 49.003906 L 479.902344 192.046875 L 49.003906 192.046875 Z M 49.003906 49.003906 \"/>\n",
       "</clipPath>\n",
       "<clipPath id=\"clip4\">\n",
       "  <path d=\"M 49.003906 269.929688 L 229.097656 269.929688 L 229.097656 445.242188 L 49.003906 445.242188 Z M 49.003906 269.929688 \"/>\n",
       "</clipPath>\n",
       "<clipPath id=\"clip5\">\n",
       "  <path d=\"M 0 252 L 253 252 L 253 505 L 0 505 Z M 0 252 \"/>\n",
       "</clipPath>\n",
       "<clipPath id=\"clip6\">\n",
       "  <path d=\"M 49.003906 269.929688 L 229.097656 269.929688 L 229.097656 445.242188 L 49.003906 445.242188 Z M 49.003906 269.929688 \"/>\n",
       "</clipPath>\n",
       "<clipPath id=\"clip7\">\n",
       "  <path d=\"M 301.003906 269.929688 L 481.097656 269.929688 L 481.097656 445.242188 L 301.003906 445.242188 Z M 301.003906 269.929688 \"/>\n",
       "</clipPath>\n",
       "<clipPath id=\"clip8\">\n",
       "  <path d=\"M 252 252 L 505 252 L 505 505 L 252 505 Z M 252 252 \"/>\n",
       "</clipPath>\n",
       "<clipPath id=\"clip9\">\n",
       "  <path d=\"M 301.003906 269.929688 L 481.097656 269.929688 L 481.097656 445.242188 L 301.003906 445.242188 Z M 301.003906 269.929688 \"/>\n",
       "</clipPath>\n",
       "</defs>\n",
       "<g id=\"surface6\">\n",
       "<rect x=\"0\" y=\"0\" width=\"504\" height=\"504\" style=\"fill:rgb(100%,100%,100%);fill-opacity:1;stroke:none;\"/>\n",
       "<g clip-path=\"url(#clip1)\" clip-rule=\"nonzero\">\n",
       "<path style=\"fill:none;stroke-width:0.75;stroke-linecap:round;stroke-linejoin:round;stroke:rgb(0%,0%,0%);stroke-opacity:1;stroke-miterlimit:10;\" d=\"M 64.925781 185.785156 L 65.195313 121.996094 L 65.460938 126.371094 L 65.730469 123.050781 L 66 120.710938 L 66.265625 119.441406 L 66.535156 127.941406 L 66.804688 161.835938 L 67.074219 120.503906 L 67.339844 129.214844 L 67.609375 122.945313 L 67.878906 127.542969 L 68.144531 138.640625 L 68.414063 132.179688 L 68.683594 165.847656 L 68.953125 133.480469 L 69.21875 135.042969 L 69.488281 128.804688 L 69.757813 129.121094 L 70.023438 137.257813 L 70.292969 146.6875 L 70.5625 162.644531 L 70.832031 128.835938 L 71.097656 129.691406 L 71.367188 134.714844 L 71.636719 132.125 L 71.902344 146.222656 L 72.171875 138.984375 L 72.441406 166.976563 L 72.710938 134.824219 L 72.976563 132.648438 L 73.246094 129.980469 L 73.515625 127.421875 L 73.78125 125.910156 L 74.050781 132.824219 L 74.320313 160.007813 L 74.589844 122.207031 L 74.855469 128.085938 L 75.125 125.402344 L 75.394531 122.933594 L 75.660156 135.085938 L 75.929688 123.457031 L 76.199219 162.070313 L 76.46875 127.644531 L 76.734375 123.226563 L 77.003906 127.710938 L 77.273438 121.371094 L 77.539063 106.515625 L 77.808594 114.589844 L 78.078125 164.050781 L 78.347656 144.546875 L 78.613281 178.078125 L 78.882813 137.101563 L 79.152344 136.867188 L 79.417969 131.589844 L 79.6875 133.667969 L 79.957031 162.898438 L 80.226563 125.046875 L 80.492188 131.519531 L 80.761719 120.074219 L 81.03125 127.804688 L 81.296875 124.21875 L 81.566406 118.285156 L 81.835938 161.683594 L 82.105469 121.5 L 82.371094 121.660156 L 82.640625 115.75 L 82.910156 120.648438 L 83.175781 131.101563 L 83.445313 129.292969 L 83.714844 153.992188 L 83.984375 126.222656 L 84.25 125.027344 L 84.519531 128.457031 L 84.789063 130.285156 L 85.054688 131.988281 L 85.324219 131.820313 L 85.59375 154.417969 L 85.863281 130.171875 L 86.128906 134.542969 L 86.398438 130.226563 L 86.667969 137.15625 L 86.933594 133.953125 L 87.203125 136.253906 L 87.472656 162.738281 L 87.742188 128.535156 L 88.007813 127.332031 L 88.277344 140.589844 L 88.546875 130.363281 L 88.8125 132.253906 L 89.082031 127.273438 L 89.351563 160.089844 L 89.617188 126.289063 L 89.886719 119.914063 L 90.15625 116.488281 L 90.425781 112.625 L 90.691406 131.574219 L 90.960938 135.183594 L 91.230469 163.484375 L 91.496094 120.515625 L 91.765625 112.28125 L 92.035156 123.113281 L 92.304688 132.023438 L 92.570313 121.4375 L 92.839844 126.152344 L 93.109375 162.5625 L 93.375 116.753906 L 93.644531 127.960938 L 93.914063 123.621094 L 94.183594 127.855469 L 94.449219 122.574219 L 94.71875 133.019531 L 94.988281 153.554688 L 95.253906 142.425781 L 95.523438 126.140625 L 95.792969 124.230469 L 96.0625 123.625 L 96.328125 127.6875 L 96.597656 125.992188 L 96.867188 150.320313 L 97.132813 121.597656 L 97.402344 172.542969 L 97.671875 100.96875 L 97.941406 117.972656 L 98.207031 105.082031 L 98.476563 123.964844 L 98.746094 154.253906 L 99.011719 118.09375 L 99.28125 121.542969 L 99.550781 122.878906 L 99.820313 115.808594 L 100.085938 121.539063 L 100.355469 123.875 L 100.625 158.925781 L 100.890625 125.945313 L 101.160156 124.386719 L 101.429688 115.070313 L 101.699219 126.203125 L 101.964844 120.851563 L 102.234375 117.082031 L 102.503906 149.457031 L 102.769531 114.3125 L 103.039063 117.867188 L 103.308594 124.472656 L 103.578125 130.882813 L 103.84375 123.3125 L 104.113281 129.558594 L 104.382813 159.457031 L 104.648438 115.972656 L 104.917969 124.90625 L 105.1875 136.09375 L 105.457031 119.804688 L 105.722656 112.945313 L 105.992188 111.039063 L 106.261719 151.957031 L 106.527344 120.960938 L 106.796875 113.441406 L 107.066406 119.511719 L 107.335938 125.53125 L 107.601563 113.34375 L 107.871094 128.722656 L 108.140625 154.5 L 108.40625 128.679688 L 108.675781 124.441406 L 108.945313 125.207031 L 109.214844 126.59375 L 109.480469 123.382813 L 109.75 132.464844 L 110.019531 157 L 110.285156 125.390625 L 110.554688 118.398438 L 110.824219 125.597656 L 111.09375 131.742188 L 111.359375 124.078125 L 111.628906 132.734375 L 111.898438 160.03125 L 112.164063 125.660156 L 112.433594 123.847656 L 112.703125 128.265625 L 112.972656 102.304688 L 113.238281 87.457031 L 113.507813 102.410156 L 113.777344 135.125 L 114.042969 78.867188 L 114.3125 65.808594 L 114.582031 64.59375 L 114.851563 88.296875 L 115.117188 62.628906 L 115.386719 92.132813 L 115.65625 128.996094 L 115.921875 84.261719 L 116.191406 71.320313 L 116.460938 73.59375 L 116.730469 94 L 116.996094 95.253906 L 117.265625 93.429688 L 117.535156 140.773438 L 117.800781 93.488281 L 118.070313 84.050781 L 118.339844 103.585938 L 118.609375 91.523438 L 118.875 98.167969 L 119.144531 106.757813 L 119.414063 135.761719 L 119.679688 93.339844 L 119.949219 94.140625 L 120.21875 81.90625 L 120.488281 90.457031 L 120.753906 100.722656 L 121.023438 93.585938 L 121.292969 145.21875 L 121.558594 85.292969 L 121.828125 95.007813 L 122.097656 80.597656 L 122.367188 75.878906 L 122.632813 85.292969 L 122.902344 98.617188 L 123.171875 135.515625 L 123.4375 78.597656 L 123.707031 82.007813 L 123.976563 91.347656 L 124.242188 90.011719 L 124.511719 105.722656 L 124.78125 99.949219 L 125.050781 140.1875 L 125.316406 86.808594 L 125.585938 89.253906 L 125.855469 92.5625 L 126.121094 98.726563 L 126.390625 93.917969 L 126.660156 103.640625 L 126.929688 141.195313 L 127.195313 78.078125 L 127.464844 84.261719 L 127.734375 97.042969 L 128 86.777344 L 128.269531 95.535156 L 128.539063 113.878906 L 128.808594 139.867188 L 129.074219 84.363281 L 129.34375 97.417969 L 129.613281 93.457031 L 129.878906 88.585938 L 130.148438 82.453125 L 130.417969 88.722656 L 130.6875 137.3125 L 130.953125 91.585938 L 131.222656 83.371094 L 131.492188 91.105469 L 131.757813 79.960938 L 132.027344 105.820313 L 132.296875 98.132813 L 132.566406 146.070313 L 132.832031 78.707031 L 133.101563 84.140625 L 133.371094 78.976563 L 133.636719 90.265625 L 133.90625 74.175781 L 134.175781 106.050781 L 134.445313 138.640625 L 134.710938 85.851563 L 134.980469 68.851563 L 135.25 99.859375 L 135.515625 74.199219 L 135.785156 104.054688 L 136.054688 100.632813 L 136.324219 136.507813 L 136.589844 98.089844 L 136.859375 94.863281 L 137.128906 114.941406 L 137.394531 103.25 L 137.664063 82.917969 L 137.933594 92.707031 L 138.203125 136.640625 L 138.46875 78.632813 L 138.738281 75.5625 L 139.007813 92.347656 L 139.273438 86.226563 L 139.542969 71.996094 L 139.8125 100.585938 L 140.082031 135.304688 L 140.347656 83.855469 L 140.617188 93.074219 L 140.886719 88.324219 L 141.152344 86.304688 L 141.421875 114.09375 L 141.691406 105.789063 L 141.960938 145.855469 L 142.226563 149.242188 L 142.496094 66.734375 L 142.765625 73.527344 L 143.03125 77.503906 L 143.300781 100.84375 L 143.570313 109.445313 L 143.839844 150.433594 L 144.105469 85.570313 L 144.375 105.425781 L 144.644531 98.398438 L 144.910156 100.339844 L 145.179688 104.675781 L 145.449219 114.773438 L 145.71875 135.335938 L 145.984375 103.367188 L 146.253906 93.878906 L 146.523438 96.550781 L 146.789063 98.011719 L 147.058594 110.609375 L 147.328125 103.109375 L 147.597656 140.757813 L 147.863281 99.546875 L 148.132813 93.742188 L 148.402344 87.644531 L 148.667969 94.769531 L 148.9375 93.589844 L 149.207031 112.027344 L 149.476563 140.789063 L 149.742188 81.167969 L 150.011719 101.089844 L 150.28125 81.324219 L 150.546875 115.09375 L 150.816406 94.78125 L 151.085938 109.605469 L 151.355469 148.953125 L 151.621094 98.65625 L 151.890625 133.921875 L 152.160156 88.527344 L 152.425781 100.765625 L 152.695313 93.207031 L 152.964844 113.984375 L 153.234375 149.589844 L 153.5 110.085938 L 153.769531 97.667969 L 154.039063 104.746094 L 154.304688 99.121094 L 154.574219 92.230469 L 154.84375 101.207031 L 155.113281 129.664063 L 155.378906 84.917969 L 155.648438 83.234375 L 155.917969 54.265625 L 156.183594 71.953125 L 156.453125 87.402344 L 156.722656 96.15625 L 156.992188 132.945313 L 157.257813 89.664063 L 157.527344 89.472656 L 157.796875 86.136719 L 158.0625 94.457031 L 158.332031 88.824219 L 158.601563 97.550781 L 158.871094 127.175781 L 159.136719 88.421875 L 159.40625 100 L 159.675781 85.050781 L 159.941406 85.347656 L 160.210938 78.414063 L 160.480469 95.003906 L 160.746094 101.695313 L 161.015625 102.808594 L 161.285156 168.65625 L 161.554688 89.042969 L 161.820313 75.210938 L 162.089844 77.453125 L 162.359375 96.835938 L 162.625 107.605469 L 162.894531 100.046875 L 163.164063 174.039063 L 163.433594 74.210938 L 163.699219 105.457031 L 163.96875 77.734375 L 164.238281 92.84375 L 164.503906 135.714844 L 164.773438 81.730469 L 165.042969 85.664063 L 165.3125 91.0625 L 165.578125 94.550781 L 165.847656 97.804688 L 166.117188 105.886719 L 166.382813 144.070313 L 166.652344 104.089844 L 166.921875 82.53125 L 167.191406 95.480469 L 167.457031 105.628906 L 167.726563 88.453125 L 167.996094 105.679688 L 168.261719 149.566406 L 168.53125 97.398438 L 168.800781 88.644531 L 169.070313 101.007813 L 169.335938 98.929688 L 169.605469 121.503906 L 169.875 116.140625 L 170.140625 144.679688 L 170.410156 107.058594 L 170.679688 98.238281 L 170.949219 106.867188 L 171.214844 103.777344 L 171.484375 97.238281 L 171.753906 91.921875 L 172.019531 140.058594 L 172.289063 86.46875 L 172.558594 87.175781 L 172.828125 71.222656 L 173.09375 77.382813 L 173.363281 62.339844 L 173.632813 90.632813 L 173.898438 139.097656 L 174.167969 125.992188 L 174.4375 164.515625 L 174.707031 100.050781 L 174.972656 88.6875 L 175.242188 81.460938 L 175.511719 106.726563 L 175.777344 141.574219 L 176.046875 91.066406 L 176.316406 84.097656 L 176.585938 100.925781 L 176.851563 93.035156 L 177.121094 106.941406 L 177.390625 99.070313 L 177.65625 136.574219 L 177.925781 99.347656 L 178.195313 109.402344 L 178.464844 87.132813 L 178.730469 86.78125 L 179 86.410156 L 179.269531 80.078125 L 179.535156 152.21875 L 179.804688 96.03125 L 180.074219 99.433594 L 180.34375 93.578125 L 180.609375 90.140625 L 180.878906 89.316406 L 181.148438 83.878906 L 181.414063 131.851563 L 181.683594 85.894531 L 181.953125 103.070313 L 182.222656 92.546875 L 182.488281 104.480469 L 182.757813 87.429688 L 183.027344 110.0625 L 183.292969 137.597656 L 183.5625 97.574219 L 183.832031 92.128906 L 184.101563 95.890625 L 184.367188 81.144531 L 184.636719 99.003906 L 184.90625 101.746094 L 185.171875 137.019531 L 185.441406 96.617188 L 185.710938 95.589844 L 185.980469 100.03125 L 186.246094 80.535156 L 186.515625 116.203125 L 186.785156 108.378906 L 187.050781 147.210938 L 187.320313 78.425781 L 187.589844 83.957031 L 187.859375 85.300781 L 188.125 91.996094 L 188.394531 82.003906 L 188.664063 81.6875 L 188.929688 127.996094 L 189.199219 93.144531 L 189.46875 94.984375 L 189.738281 84.269531 L 190.003906 94.058594 L 190.273438 86.546875 L 190.542969 109.636719 L 190.808594 137.214844 L 191.078125 88.179688 L 191.347656 103.484375 L 191.617188 92.375 L 191.882813 86.238281 L 192.152344 86.457031 L 192.421875 97.945313 L 192.6875 144.984375 L 192.957031 83.738281 L 193.226563 135.382813 L 193.496094 99.996094 L 193.761719 100.417969 L 194.03125 101.128906 L 194.300781 102.832031 L 194.566406 135.835938 L 194.835938 99.070313 L 195.105469 75.359375 L 195.371094 149.308594 L 195.640625 83.765625 L 195.910156 68.988281 L 196.179688 89.914063 L 196.445313 134.515625 L 196.714844 105.480469 L 196.984375 80.464844 L 197.25 71.59375 L 197.519531 80.816406 L 197.789063 94.832031 L 198.058594 99.660156 L 198.324219 141.996094 L 198.59375 88.695313 L 198.863281 99.128906 L 199.128906 82.550781 L 199.398438 91.519531 L 199.667969 106.851563 L 199.9375 95.800781 L 200.203125 134.828125 L 200.472656 88.277344 L 200.742188 100.519531 L 201.007813 98.988281 L 201.277344 95.707031 L 201.546875 94.929688 L 201.816406 108.078125 L 202.082031 140.664063 L 202.351563 88.804688 L 202.621094 101.609375 L 202.886719 89.640625 L 203.15625 118.90625 L 203.425781 101.171875 L 203.695313 104.808594 L 203.960938 148.699219 L 204.230469 91.125 L 204.5 87.921875 L 204.765625 72.828125 L 205.035156 85.136719 L 205.304688 83.707031 L 205.574219 89.390625 L 205.839844 122.976563 L 206.109375 95.410156 L 206.378906 90.878906 L 206.644531 99.089844 L 206.914063 90.109375 L 207.183594 92.304688 L 207.453125 93.859375 L 207.71875 135.570313 L 207.988281 86.5625 L 208.257813 87.507813 L 208.523438 89.417969 L 208.792969 108.71875 L 209.0625 89.71875 L 209.332031 99.710938 L 209.597656 142.808594 L 209.867188 92.238281 L 210.136719 98.722656 L 210.402344 93.855469 L 210.671875 96.578125 L 210.941406 86.460938 L 211.210938 99.34375 L 211.476563 125.957031 L 211.746094 76.523438 L 212.015625 88.328125 L 212.28125 75.304688 L 212.550781 87.230469 L 212.820313 78.3125 L 213.089844 82.628906 L 213.355469 128.222656 L 213.625 85.027344 L 213.894531 85.367188 L 214.160156 83.730469 L 214.429688 91.492188 L 214.699219 97.925781 L 214.96875 93.195313 L 215.234375 138.703125 L 215.503906 87.933594 L 215.773438 84.785156 L 216.039063 98.105469 L 216.308594 95.867188 L 216.578125 91.046875 L 216.847656 91.921875 L 217.113281 128.199219 L 217.382813 92.171875 L 217.652344 87.175781 L 217.917969 102.1875 L 218.1875 104.160156 L 218.457031 107.347656 L 218.726563 105.949219 L 218.992188 145.253906 L 219.261719 101.308594 L 219.53125 94.945313 L 219.796875 93.121094 L 220.066406 86.394531 L 220.335938 82.597656 L 220.605469 98.902344 L 220.871094 127.507813 L 221.140625 85.046875 L 221.410156 87.042969 L 221.675781 70.773438 L 221.945313 91.109375 L 222.214844 87.289063 L 222.484375 102.539063 L 222.75 146.292969 L 223.019531 93.738281 L 223.289063 103.121094 L 223.554688 99.136719 L 223.824219 97.234375 L 224.09375 102.550781 L 224.363281 98.980469 L 224.628906 136.183594 L 224.898438 100.476563 L 225.167969 100.246094 L 225.433594 84.417969 L 225.703125 96.730469 L 225.972656 86.328125 L 226.242188 101.5625 L 226.507813 140.367188 L 226.777344 108.46875 L 227.046875 111.804688 L 227.3125 103.351563 L 227.582031 94.050781 L 227.851563 103.546875 L 228.121094 103.835938 L 228.386719 136.199219 L 228.65625 95.496094 L 228.925781 76.65625 L 229.191406 90.910156 L 229.460938 78.636719 L 229.730469 72.367188 L 229.996094 85.058594 L 230.265625 136.582031 L 230.535156 77.246094 L 230.804688 77.910156 L 231.070313 96.472656 L 231.339844 83 L 231.609375 85.484375 L 231.875 95.722656 L 232.144531 135.1875 L 232.414063 94.59375 L 232.683594 109.488281 L 232.949219 103.632813 L 233.21875 94.761719 L 233.488281 94.152344 L 233.753906 111.355469 L 234.023438 140.164063 L 234.292969 96.609375 L 234.5625 105.9375 L 234.828125 101.050781 L 235.097656 106.824219 L 235.367188 97.84375 L 235.632813 117.089844 L 235.902344 137.984375 L 236.171875 90.976563 L 236.441406 92.558594 L 236.707031 91.988281 L 236.976563 85.800781 L 237.246094 91.972656 L 237.511719 94.324219 L 237.78125 140.945313 L 238.050781 88.496094 L 238.320313 99.6875 L 238.585938 97.75 L 238.855469 90.15625 L 239.125 95.253906 L 239.390625 118.464844 L 239.660156 134.160156 L 239.929688 94.894531 L 240.199219 99.945313 L 240.464844 101.746094 L 240.734375 94.207031 L 241.003906 108.984375 L 241.269531 100.378906 L 241.539063 130.386719 L 241.808594 143.175781 L 242.078125 90.925781 L 242.34375 88.25 L 242.613281 102.25 L 242.882813 97.019531 L 243.148438 122.882813 L 243.417969 135.25 L 243.6875 102.8125 L 243.957031 104.976563 L 244.222656 101.535156 L 244.492188 91.4375 L 244.761719 95.1875 L 245.027344 107.300781 L 245.296875 130.160156 L 245.566406 91.132813 L 245.835938 92.296875 L 246.101563 103.421875 L 246.371094 85.683594 L 246.640625 96.210938 L 246.90625 103.503906 L 247.175781 132.011719 L 247.445313 99.824219 L 247.714844 104.683594 L 247.980469 91.96875 L 248.25 85.152344 L 248.519531 120.175781 L 248.785156 110.390625 L 249.054688 146.066406 L 249.324219 105.261719 L 249.59375 105.574219 L 249.859375 111.132813 L 250.128906 89.964844 L 250.398438 103.214844 L 250.664063 106.828125 L 250.933594 140.074219 L 251.203125 100.914063 L 251.472656 108.082031 L 251.738281 102.945313 L 252.007813 108.34375 L 252.277344 109.59375 L 252.542969 106.898438 L 252.8125 140.449219 L 253.082031 87.40625 L 253.351563 95.34375 L 253.617188 95.390625 L 253.886719 100.472656 L 254.15625 89.941406 L 254.421875 101.589844 L 254.691406 138.441406 L 254.960938 95.132813 L 255.230469 100.605469 L 255.496094 133.339844 L 255.765625 91.101563 L 256.035156 94.78125 L 256.300781 105.664063 L 256.570313 142.125 L 256.839844 111.117188 L 257.109375 107.089844 L 257.375 109.195313 L 257.644531 108.074219 L 257.914063 104.84375 L 258.179688 105.773438 L 258.449219 122.632813 L 258.71875 83.785156 L 258.988281 115.351563 L 259.253906 175.554688 L 259.523438 95.351563 L 259.792969 82.714844 L 260.058594 106.484375 L 260.328125 134.242188 L 260.597656 99.554688 L 260.867188 108.703125 L 261.132813 167.308594 L 261.402344 99.0625 L 261.671875 103.078125 L 261.9375 102.6875 L 262.207031 143.953125 L 262.476563 92.351563 L 262.746094 92.296875 L 263.011719 98.425781 L 263.28125 98.078125 L 263.550781 106.554688 L 263.816406 109.152344 L 264.085938 148.433594 L 264.355469 100.972656 L 264.621094 106.335938 L 264.890625 101.753906 L 265.160156 121.621094 L 265.429688 99.304688 L 265.695313 116.136719 L 265.964844 145.515625 L 266.234375 134.125 L 266.5 101.953125 L 266.769531 113.441406 L 267.039063 107.832031 L 267.308594 119.691406 L 267.574219 112.824219 L 267.84375 145.347656 L 268.113281 102.238281 L 268.378906 111.785156 L 268.648438 105.871094 L 268.917969 109.746094 L 269.1875 131.382813 L 269.453125 112.207031 L 269.722656 148.042969 L 269.992188 99.0625 L 270.257813 100.121094 L 270.527344 97.578125 L 270.796875 98.726563 L 271.066406 100.230469 L 271.332031 99.222656 L 271.601563 141.355469 L 271.871094 103.769531 L 272.136719 105.175781 L 272.40625 93.152344 L 272.675781 109.253906 L 272.945313 92.792969 L 273.210938 103.539063 L 273.480469 134.617188 L 273.75 94.710938 L 274.015625 101.699219 L 274.285156 102.714844 L 274.554688 103.648438 L 274.824219 98.601563 L 275.089844 116.316406 L 275.359375 142.359375 L 275.628906 109.285156 L 275.894531 108.5 L 276.164063 97.132813 L 276.433594 84.390625 L 276.703125 63.417969 L 276.96875 66.988281 L 277.238281 140.265625 L 277.507813 128.960938 L 277.773438 160.933594 L 278.042969 103.839844 L 278.3125 99.625 L 278.582031 103.660156 L 278.847656 111.699219 L 279.117188 141.933594 L 279.386719 91.289063 L 279.652344 105.089844 L 279.921875 91.441406 L 280.191406 104.636719 L 280.460938 108.316406 L 280.726563 103.34375 L 280.996094 137.890625 L 281.265625 99.609375 L 281.53125 104.628906 L 281.800781 105.21875 L 282.070313 108.035156 L 282.339844 105.289063 L 282.605469 113.054688 L 282.875 143.109375 L 283.144531 103.574219 L 283.410156 106.839844 L 283.679688 107.246094 L 283.949219 110.503906 L 284.21875 102.984375 L 284.484375 113.613281 L 284.753906 138 L 285.023438 95.847656 L 285.289063 93.429688 L 285.558594 67.003906 L 285.828125 86.378906 L 286.097656 84.894531 L 286.363281 109.542969 L 286.632813 137.066406 L 286.902344 89.496094 L 287.167969 102.253906 L 287.4375 102.382813 L 287.707031 89.574219 L 287.976563 103.273438 L 288.242188 111.820313 L 288.511719 139.65625 L 288.78125 118.648438 L 289.046875 99.070313 L 289.316406 85.371094 L 289.585938 89.46875 L 289.855469 116.40625 L 290.121094 104.773438 L 290.390625 147.125 L 290.660156 136.378906 L 290.925781 102.210938 L 291.195313 126.984375 L 291.464844 111.996094 L 291.734375 102.695313 L 292 115.148438 L 292.269531 144.816406 L 292.539063 100.515625 L 292.804688 101.371094 L 293.074219 88.664063 L 293.34375 153.632813 L 293.613281 74.222656 L 293.878906 86.316406 L 294.148438 130.925781 L 294.417969 98.9375 L 294.683594 96.867188 L 294.953125 89.539063 L 295.222656 102.5 L 295.492188 95.839844 L 295.757813 103.601563 L 296.027344 143.191406 L 296.296875 94.984375 L 296.5625 95.148438 L 296.832031 94.730469 L 297.101563 94.941406 L 297.371094 91.410156 L 297.636719 108.230469 L 297.90625 146.078125 L 298.175781 100.101563 L 298.441406 100.476563 L 298.710938 96.59375 L 298.980469 96.796875 L 299.246094 115.613281 L 299.515625 111.433594 L 299.785156 137.765625 L 300.054688 110.210938 L 300.320313 108.523438 L 300.589844 107.644531 L 300.859375 105.03125 L 301.125 94.140625 L 301.394531 99.53125 L 301.664063 137.71875 L 301.933594 95.25 L 302.199219 100.683594 L 302.46875 89.972656 L 302.738281 98.578125 L 303.003906 75.648438 L 303.273438 84.84375 L 303.542969 135.898438 L 303.8125 85.394531 L 304.078125 108.445313 L 304.347656 90.304688 L 304.617188 119.363281 L 304.882813 106.816406 L 305.152344 103.8125 L 305.421875 130.492188 L 305.691406 87.992188 L 305.957031 128.121094 L 306.226563 94.222656 L 306.496094 132.992188 L 306.761719 93.917969 L 307.03125 103.835938 L 307.300781 137.695313 L 307.570313 126.710938 L 307.835938 101.902344 L 308.105469 99.160156 L 308.375 90.59375 L 308.640625 107.546875 L 308.910156 130.375 L 309.179688 130.105469 L 309.449219 97.699219 L 309.714844 80.679688 L 309.984375 97.652344 L 310.253906 86.9375 L 310.519531 114.902344 L 310.789063 105.992188 L 311.058594 140.730469 L 311.328125 81.210938 L 311.59375 134.152344 L 311.863281 101.0625 L 312.132813 104.027344 L 312.398438 103.816406 L 312.667969 114.699219 L 312.9375 148.324219 L 313.207031 104.875 L 313.472656 96.453125 L 313.742188 95.339844 L 314.011719 103.523438 L 314.277344 98.40625 L 314.546875 105.667969 L 314.816406 146.988281 L 315.085938 92.171875 L 315.351563 106.429688 L 315.621094 91.851563 L 315.890625 94.167969 L 316.15625 108.5625 L 316.425781 118.351563 L 316.695313 143.207031 L 316.964844 107.886719 L 317.230469 105.570313 L 317.5 93.878906 L 317.769531 98.535156 L 318.035156 89.148438 L 318.304688 106.085938 L 318.574219 137.019531 L 318.84375 80.546875 L 319.109375 84.40625 L 319.378906 97.34375 L 319.648438 90.796875 L 319.914063 102.613281 L 320.183594 108.550781 L 320.453125 151.058594 L 320.722656 113.027344 L 320.988281 102.910156 L 321.257813 112.339844 L 321.527344 110.695313 L 321.792969 96.726563 L 322.0625 104.574219 L 322.332031 141.28125 L 322.601563 90.921875 L 322.867188 107.570313 L 323.136719 110.574219 L 323.40625 108.472656 L 323.671875 102.824219 L 323.941406 110.496094 L 324.210938 141.457031 L 324.480469 91.65625 L 324.746094 107.421875 L 325.015625 106.875 L 325.285156 123.089844 L 325.550781 108.917969 L 325.820313 111.082031 L 326.089844 148.976563 L 326.359375 91.027344 L 326.625 92.488281 L 326.894531 99.324219 L 327.164063 109.96875 L 327.429688 85.742188 L 327.699219 116.777344 L 327.96875 137.394531 L 328.238281 92.085938 L 328.503906 111.527344 L 328.773438 106.128906 L 329.042969 109.035156 L 329.308594 100.984375 L 329.578125 106.914063 L 329.847656 152.9375 L 330.117188 101.578125 L 330.382813 102.429688 L 330.652344 108.507813 L 330.921875 113.46875 L 331.1875 101.421875 L 331.457031 128.027344 L 331.726563 156.105469 L 331.996094 111.71875 L 332.261719 114.765625 L 332.53125 122.890625 L 332.800781 117.195313 L 333.066406 120.085938 L 333.335938 114.550781 L 333.605469 139.5 L 333.871094 106.335938 L 334.140625 113.734375 L 334.410156 117.914063 L 334.679688 102.378906 L 334.945313 103.960938 L 335.214844 109.878906 L 335.484375 149.0625 L 335.75 100.851563 L 336.019531 105.304688 L 336.289063 95.332031 L 336.558594 103.605469 L 336.824219 103.0625 L 337.09375 115.882813 L 337.363281 152.164063 L 337.628906 101.121094 L 337.898438 103.332031 L 338.167969 110.621094 L 338.4375 106.4375 L 338.703125 112.871094 L 338.972656 128.425781 L 339.242188 141.332031 L 339.507813 155.582031 L 339.777344 103.359375 L 340.046875 110.894531 L 340.316406 117.757813 L 340.582031 111.683594 L 340.851563 131.992188 L 341.121094 146.886719 L 341.386719 125.136719 L 341.65625 118.980469 L 341.925781 125.566406 L 342.195313 116.511719 L 342.460938 107.792969 L 342.730469 119.101563 L 343 138.667969 L 343.265625 121.167969 L 343.535156 100.4375 L 343.804688 102.414063 L 344.074219 114.214844 L 344.339844 108.640625 L 344.609375 112.527344 L 344.878906 141.28125 L 345.144531 115.148438 L 345.414063 117.257813 L 345.683594 118.160156 L 345.953125 109.558594 L 346.21875 105.472656 L 346.488281 119.652344 L 346.757813 146.230469 L 347.023438 113.457031 L 347.292969 104.308594 L 347.5625 122.839844 L 347.832031 130.429688 L 348.097656 109.007813 L 348.367188 126.515625 L 348.636719 152.675781 L 348.902344 111.996094 L 349.171875 113.902344 L 349.441406 123.902344 L 349.710938 119.914063 L 349.976563 109.917969 L 350.246094 107.660156 L 350.515625 141.925781 L 350.78125 109.019531 L 351.050781 103.878906 L 351.320313 100.433594 L 351.589844 101.902344 L 351.855469 100.5625 L 352.125 109.007813 L 352.394531 141.960938 L 352.660156 110.570313 L 352.929688 118.230469 L 353.199219 116.746094 L 353.46875 105.574219 L 353.734375 109.582031 L 354.003906 126.652344 L 354.273438 137.886719 L 354.539063 121.75 L 354.808594 110.816406 L 355.078125 98.988281 L 355.347656 109.328125 L 355.613281 111.484375 L 355.882813 114.628906 L 356.152344 135.867188 L 356.417969 109.503906 L 356.6875 103.414063 L 356.957031 114.941406 L 357.226563 173.117188 L 357.492188 108.878906 L 357.761719 125.792969 L 358.03125 140.324219 L 358.296875 105.398438 L 358.566406 95.984375 L 358.835938 113.5625 L 359.105469 173.867188 L 359.371094 100.632813 L 359.640625 127.898438 L 359.910156 147.378906 L 360.175781 120.566406 L 360.445313 114.214844 L 360.714844 104.910156 L 360.984375 108.371094 L 361.25 117.011719 L 361.519531 126.488281 L 361.789063 146.164063 L 362.054688 125.410156 L 362.324219 112.847656 L 362.59375 116.152344 L 362.863281 116.847656 L 363.128906 107.746094 L 363.398438 136.226563 L 363.667969 152.9375 L 363.933594 106.234375 L 364.203125 145.90625 L 364.472656 112.109375 L 364.742188 128.902344 L 365.007813 121.300781 L 365.277344 131.8125 L 365.546875 159.5625 L 365.8125 117.550781 L 366.082031 129.449219 L 366.351563 120.371094 L 366.621094 125.839844 L 366.886719 122.808594 L 367.15625 122.898438 L 367.425781 148.777344 L 367.691406 122.53125 L 367.960938 103.519531 L 368.230469 100.304688 L 368.496094 116.484375 L 368.765625 111.191406 L 369.035156 114.730469 L 369.304688 141.445313 L 369.570313 112.371094 L 369.839844 109.347656 L 370.109375 110.023438 L 370.375 102.359375 L 370.644531 90.601563 L 370.914063 116.59375 L 371.183594 149.347656 L 371.449219 142.511719 L 371.71875 169.28125 L 371.988281 115.777344 L 372.253906 114.761719 L 372.523438 113.5625 L 372.792969 130.199219 L 373.0625 156.097656 L 373.328125 117.976563 L 373.597656 118.5625 L 373.867188 125.644531 L 374.132813 118.488281 L 374.402344 99.871094 L 374.671875 121.550781 L 374.941406 151.863281 L 375.207031 110.554688 L 375.476563 112.355469 L 375.746094 109.097656 L 376.011719 109.226563 L 376.28125 101.453125 L 376.550781 105.414063 L 376.820313 139.570313 L 377.085938 115.4375 L 377.355469 115.289063 L 377.625 105.007813 L 377.890625 115.335938 L 378.160156 124.058594 L 378.429688 113.726563 L 378.699219 147.851563 L 378.964844 121.15625 L 379.234375 117.9375 L 379.503906 117.105469 L 379.769531 113.84375 L 380.039063 112.347656 L 380.308594 110.578125 L 380.578125 155.054688 L 380.84375 107.660156 L 381.113281 115.886719 L 381.382813 120.429688 L 381.648438 114.242188 L 381.917969 105.234375 L 382.1875 116 L 382.457031 152.558594 L 382.722656 111.859375 L 382.992188 108.355469 L 383.261719 92.480469 L 383.527344 98.074219 L 383.796875 123.925781 L 384.066406 121.546875 L 384.335938 156.066406 L 384.601563 104.902344 L 384.871094 109.359375 L 385.140625 103.121094 L 385.40625 106.28125 L 385.675781 116.644531 L 385.945313 118.3125 L 386.214844 146.207031 L 386.480469 114.566406 L 386.75 114.25 L 387.019531 103.40625 L 387.285156 112.285156 L 387.554688 99.714844 L 387.824219 115.019531 L 388.09375 137.25 L 388.359375 102.042969 L 388.628906 138.050781 L 388.898438 115.160156 L 389.164063 129.378906 L 389.433594 108.117188 L 389.703125 126.191406 L 389.972656 149.183594 L 390.238281 106.449219 L 390.507813 111.429688 L 390.777344 109.121094 L 391.042969 111.273438 L 391.3125 149.148438 L 391.582031 89.332031 L 391.851563 142.628906 L 392.117188 108.015625 L 392.386719 111.214844 L 392.65625 90.886719 L 392.921875 106.265625 L 393.191406 101.355469 L 393.460938 100.855469 L 393.730469 150.601563 L 393.996094 101.640625 L 394.265625 104.40625 L 394.535156 95.425781 L 394.800781 106.804688 L 395.070313 97.96875 L 395.339844 107.699219 L 395.609375 148.203125 L 395.875 96.414063 L 396.144531 102.605469 L 396.414063 112.320313 L 396.679688 111.414063 L 396.949219 106.960938 L 397.21875 112.394531 L 397.488281 142.273438 L 397.753906 97.042969 L 398.023438 110.078125 L 398.292969 98.75 L 398.558594 102.515625 L 398.828125 89.925781 L 399.097656 106.15625 L 399.367188 147.953125 L 399.632813 96.941406 L 399.902344 102.78125 L 400.171875 101.894531 L 400.4375 115.710938 L 400.707031 100.847656 L 400.976563 115.421875 L 401.246094 148.054688 L 401.511719 104.296875 L 401.78125 102.691406 L 402.050781 104.320313 L 402.316406 112.917969 L 402.585938 115.980469 L 402.855469 110.359375 L 403.121094 141.703125 L 403.390625 112.117188 L 403.660156 112.382813 L 403.929688 112.628906 L 404.195313 117.296875 L 404.464844 119.445313 L 404.734375 109.625 L 405 146.078125 L 405.269531 114.984375 L 405.539063 119.265625 L 405.808594 120.941406 L 406.074219 128.46875 L 406.34375 110.441406 L 406.613281 122.378906 L 406.878906 151.511719 L 407.148438 103.335938 L 407.417969 108.742188 L 407.6875 100.773438 L 407.953125 101.136719 L 408.222656 108.089844 L 408.492188 114.832031 L 408.757813 149.785156 L 409.027344 100.445313 L 409.296875 110.132813 L 409.566406 120.144531 L 409.832031 105.515625 L 410.101563 100.902344 L 410.371094 115.773438 L 410.636719 148.855469 L 410.90625 105.460938 L 411.175781 114.957031 L 411.445313 105.503906 L 411.710938 104.582031 L 411.980469 104.773438 L 412.25 109.113281 L 412.515625 154.023438 L 412.785156 122.625 L 413.054688 112.226563 L 413.324219 115.410156 L 413.589844 126.714844 L 413.859375 105.964844 L 414.128906 127.679688 L 414.394531 150.6875 L 414.664063 112.457031 L 414.933594 115.808594 L 415.203125 115.433594 L 415.46875 125.410156 L 415.738281 117.996094 L 416.007813 130.308594 L 416.273438 157.574219 L 416.542969 117.292969 L 416.8125 107.640625 L 417.082031 115.3125 L 417.347656 106.179688 L 417.617188 116.882813 L 417.886719 126.753906 L 418.152344 153.503906 L 418.421875 106.765625 L 418.691406 121.914063 L 418.960938 116.664063 L 419.226563 115.125 L 419.496094 123.707031 L 419.765625 121.371094 L 420.03125 152.859375 L 420.300781 116.160156 L 420.570313 121.804688 L 420.839844 120.738281 L 421.105469 121.5 L 421.375 119.167969 L 421.644531 128.199219 L 421.910156 161.175781 L 422.179688 120.359375 L 422.449219 132.667969 L 422.71875 126.40625 L 422.984375 121.410156 L 423.253906 125.222656 L 423.523438 122.792969 L 423.789063 155.003906 L 424.058594 117.875 L 424.328125 114.277344 L 424.597656 104.761719 L 424.863281 115.339844 L 425.132813 115.703125 L 425.402344 118.117188 L 425.667969 141.757813 L 425.9375 153.882813 L 426.207031 124.164063 L 426.476563 117.328125 L 426.742188 115.722656 L 427.011719 128.832031 L 427.28125 129.96875 L 427.546875 156.269531 L 427.816406 128.832031 L 428.085938 121.328125 L 428.355469 130.195313 L 428.621094 127.691406 L 428.890625 118.773438 L 429.160156 121.109375 L 429.425781 155.878906 L 429.695313 123.652344 L 429.964844 128.109375 L 430.234375 134.765625 L 430.5 123.265625 L 430.769531 126.675781 L 431.039063 124.511719 L 431.304688 152.457031 L 431.574219 131.527344 L 431.84375 125.921875 L 432.113281 126.269531 L 432.378906 126.414063 L 432.648438 110.027344 L 432.917969 118.773438 L 433.183594 151.414063 L 433.453125 118.476563 L 433.722656 116.375 L 433.992188 121.09375 L 434.257813 115.261719 L 434.527344 114.332031 L 434.796875 133.027344 L 435.0625 159.503906 L 435.332031 151.011719 L 435.601563 126.710938 L 435.871094 131.40625 L 436.136719 131.378906 L 436.40625 124.863281 L 436.675781 129.214844 L 436.941406 149.222656 L 437.210938 163.050781 L 437.480469 114.746094 L 437.746094 125.972656 L 438.015625 126.863281 L 438.285156 121.53125 L 438.554688 123.734375 L 438.820313 158.476563 L 439.089844 130.585938 L 439.359375 126.800781 L 439.625 126.761719 L 439.894531 135.957031 L 440.164063 122.160156 L 440.433594 133.816406 L 440.699219 155.960938 L 440.96875 148.355469 L 441.238281 129.777344 L 441.503906 126.976563 L 441.773438 114.304688 L 442.042969 114.238281 L 442.3125 120.921875 L 442.578125 146.40625 L 442.847656 124.761719 L 443.117188 111.613281 L 443.382813 133.066406 L 443.652344 128.230469 L 443.921875 126.421875 L 444.191406 125.171875 L 444.457031 151.835938 L 444.726563 126.945313 L 444.996094 121.960938 L 445.261719 126.625 L 445.53125 124.316406 L 445.800781 133.816406 L 446.070313 143.003906 L 446.335938 148.785156 L 446.605469 131.460938 L 446.875 129.417969 L 447.140625 128.429688 L 447.410156 127.320313 L 447.679688 126.785156 L 447.949219 134.097656 L 448.214844 149.789063 L 448.484375 118.132813 L 448.753906 113.460938 L 449.019531 114.578125 L 449.289063 118.859375 L 449.558594 104.925781 L 449.828125 129.464844 L 450.09375 143.933594 L 450.363281 115.910156 L 450.632813 117.679688 L 450.898438 112.148438 L 451.167969 119.269531 L 451.4375 118.660156 L 451.707031 131.765625 L 451.972656 144.703125 L 452.242188 121.027344 L 452.511719 125.050781 L 452.777344 114.085938 L 453.046875 114.808594 L 453.316406 122.757813 L 453.585938 125.210938 L 453.851563 129.085938 L 454.121094 125.238281 L 454.390625 112.578125 L 454.65625 96.019531 L 454.925781 118.566406 L 455.195313 168.382813 L 455.464844 121.769531 L 455.730469 140.640625 L 456 120.039063 L 456.269531 106.765625 L 456.535156 101.082031 L 456.804688 118.957031 L 457.074219 172.21875 L 457.34375 126.09375 L 457.609375 155.503906 L 457.878906 98.054688 L 458.148438 108.8125 L 458.414063 118.902344 L 458.683594 107.613281 L 458.953125 111.53125 L 459.222656 127.039063 L 459.488281 150.429688 L 459.757813 133.960938 L 460.027344 111.609375 L 460.292969 107.742188 L 460.5625 123.714844 L 460.832031 119.035156 L 461.101563 117.519531 L 461.367188 149.835938 L 461.636719 120.183594 L 461.90625 130.476563 L 462.171875 136.292969 L 462.441406 123.328125 L 462.710938 123.667969 L 462.980469 129.238281 \"/>\n",
       "</g>\n",
       "<g clip-path=\"url(#clip2)\" clip-rule=\"nonzero\">\n",
       "<g style=\"fill:rgb(0%,0%,0%);fill-opacity:1;\">\n",
       "  <use xlink:href=\"#glyph0-0\" x=\"212.816406\" y=\"28.78125\"/>\n",
       "  <use xlink:href=\"#glyph0-1\" x=\"221.447758\" y=\"28.78125\"/>\n",
       "  <use xlink:href=\"#glyph0-2\" x=\"228.094891\" y=\"28.78125\"/>\n",
       "  <use xlink:href=\"#glyph0-1\" x=\"234.742023\" y=\"28.78125\"/>\n",
       "  <use xlink:href=\"#glyph0-3\" x=\"241.389156\" y=\"28.78125\"/>\n",
       "  <use xlink:href=\"#glyph0-4\" x=\"244.709805\" y=\"28.78125\"/>\n",
       "  <use xlink:href=\"#glyph0-5\" x=\"248.689914\" y=\"28.78125\"/>\n",
       "  <use xlink:href=\"#glyph0-6\" x=\"255.337047\" y=\"28.78125\"/>\n",
       "  <use xlink:href=\"#glyph0-6\" x=\"258.657695\" y=\"28.78125\"/>\n",
       "  <use xlink:href=\"#glyph0-7\" x=\"261.978344\" y=\"28.78125\"/>\n",
       "  <use xlink:href=\"#glyph0-3\" x=\"269.279102\" y=\"28.78125\"/>\n",
       "  <use xlink:href=\"#glyph0-8\" x=\"272.59975\" y=\"28.78125\"/>\n",
       "  <use xlink:href=\"#glyph0-9\" x=\"279.900508\" y=\"28.78125\"/>\n",
       "  <use xlink:href=\"#glyph0-6\" x=\"283.221156\" y=\"28.78125\"/>\n",
       "  <use xlink:href=\"#glyph0-10\" x=\"286.541805\" y=\"28.78125\"/>\n",
       "  <use xlink:href=\"#glyph0-11\" x=\"293.842562\" y=\"28.78125\"/>\n",
       "  <use xlink:href=\"#glyph0-4\" x=\"301.14332\" y=\"28.78125\"/>\n",
       "  <use xlink:href=\"#glyph0-5\" x=\"305.12343\" y=\"28.78125\"/>\n",
       "  <use xlink:href=\"#glyph0-12\" x=\"311.770562\" y=\"28.78125\"/>\n",
       "</g>\n",
       "</g>\n",
       "<path style=\"fill:none;stroke-width:0.75;stroke-linecap:round;stroke-linejoin:round;stroke:rgb(0%,0%,0%);stroke-opacity:1;stroke-miterlimit:10;\" d=\"M 64.65625 191.042969 L 467.273438 191.042969 \"/>\n",
       "<path style=\"fill:none;stroke-width:0.75;stroke-linecap:round;stroke-linejoin:round;stroke:rgb(0%,0%,0%);stroke-opacity:1;stroke-miterlimit:10;\" d=\"M 64.65625 191.042969 L 64.65625 197.019531 \"/>\n",
       "<path style=\"fill:none;stroke-width:0.75;stroke-linecap:round;stroke-linejoin:round;stroke:rgb(0%,0%,0%);stroke-opacity:1;stroke-miterlimit:10;\" d=\"M 198.863281 191.042969 L 198.863281 197.019531 \"/>\n",
       "<path style=\"fill:none;stroke-width:0.75;stroke-linecap:round;stroke-linejoin:round;stroke:rgb(0%,0%,0%);stroke-opacity:1;stroke-miterlimit:10;\" d=\"M 333.066406 191.042969 L 333.066406 197.019531 \"/>\n",
       "<path style=\"fill:none;stroke-width:0.75;stroke-linecap:round;stroke-linejoin:round;stroke:rgb(0%,0%,0%);stroke-opacity:1;stroke-miterlimit:10;\" d=\"M 467.273438 191.042969 L 467.273438 197.019531 \"/>\n",
       "<g style=\"fill:rgb(0%,0%,0%);fill-opacity:1;\">\n",
       "  <use xlink:href=\"#glyph1-0\" x=\"61.886719\" y=\"212.558594\"/>\n",
       "</g>\n",
       "<g style=\"fill:rgb(0%,0%,0%);fill-opacity:1;\">\n",
       "  <use xlink:href=\"#glyph1-1\" x=\"190.554688\" y=\"212.558594\"/>\n",
       "  <use xlink:href=\"#glyph1-0\" x=\"196.093965\" y=\"212.558594\"/>\n",
       "  <use xlink:href=\"#glyph1-0\" x=\"201.633242\" y=\"212.558594\"/>\n",
       "</g>\n",
       "<g style=\"fill:rgb(0%,0%,0%);fill-opacity:1;\">\n",
       "  <use xlink:href=\"#glyph1-2\" x=\"321.988281\" y=\"212.558594\"/>\n",
       "  <use xlink:href=\"#glyph1-0\" x=\"327.527559\" y=\"212.558594\"/>\n",
       "  <use xlink:href=\"#glyph1-0\" x=\"333.066836\" y=\"212.558594\"/>\n",
       "  <use xlink:href=\"#glyph1-0\" x=\"338.606113\" y=\"212.558594\"/>\n",
       "</g>\n",
       "<g style=\"fill:rgb(0%,0%,0%);fill-opacity:1;\">\n",
       "  <use xlink:href=\"#glyph1-2\" x=\"456.195313\" y=\"212.558594\"/>\n",
       "  <use xlink:href=\"#glyph1-1\" x=\"461.73459\" y=\"212.558594\"/>\n",
       "  <use xlink:href=\"#glyph1-0\" x=\"467.273867\" y=\"212.558594\"/>\n",
       "  <use xlink:href=\"#glyph1-0\" x=\"472.813145\" y=\"212.558594\"/>\n",
       "</g>\n",
       "<path style=\"fill:none;stroke-width:0.75;stroke-linecap:round;stroke-linejoin:round;stroke:rgb(0%,0%,0%);stroke-opacity:1;stroke-miterlimit:10;\" d=\"M 49.003906 172.179688 L 49.003906 52.65625 \"/>\n",
       "<path style=\"fill:none;stroke-width:0.75;stroke-linecap:round;stroke-linejoin:round;stroke:rgb(0%,0%,0%);stroke-opacity:1;stroke-miterlimit:10;\" d=\"M 49.003906 172.179688 L 43.027344 172.179688 \"/>\n",
       "<path style=\"fill:none;stroke-width:0.75;stroke-linecap:round;stroke-linejoin:round;stroke:rgb(0%,0%,0%);stroke-opacity:1;stroke-miterlimit:10;\" d=\"M 49.003906 148.277344 L 43.027344 148.277344 \"/>\n",
       "<path style=\"fill:none;stroke-width:0.75;stroke-linecap:round;stroke-linejoin:round;stroke:rgb(0%,0%,0%);stroke-opacity:1;stroke-miterlimit:10;\" d=\"M 49.003906 124.371094 L 43.027344 124.371094 \"/>\n",
       "<path style=\"fill:none;stroke-width:0.75;stroke-linecap:round;stroke-linejoin:round;stroke:rgb(0%,0%,0%);stroke-opacity:1;stroke-miterlimit:10;\" d=\"M 49.003906 100.464844 L 43.027344 100.464844 \"/>\n",
       "<path style=\"fill:none;stroke-width:0.75;stroke-linecap:round;stroke-linejoin:round;stroke:rgb(0%,0%,0%);stroke-opacity:1;stroke-miterlimit:10;\" d=\"M 49.003906 76.5625 L 43.027344 76.5625 \"/>\n",
       "<path style=\"fill:none;stroke-width:0.75;stroke-linecap:round;stroke-linejoin:round;stroke:rgb(0%,0%,0%);stroke-opacity:1;stroke-miterlimit:10;\" d=\"M 49.003906 52.65625 L 43.027344 52.65625 \"/>\n",
       "<g style=\"fill:rgb(0%,0%,0%);fill-opacity:1;\">\n",
       "  <use xlink:href=\"#glyph2-0\" x=\"34.660156\" y=\"183.257813\"/>\n",
       "  <use xlink:href=\"#glyph2-1\" x=\"34.660156\" y=\"177.718535\"/>\n",
       "  <use xlink:href=\"#glyph2-1\" x=\"34.660156\" y=\"172.179258\"/>\n",
       "  <use xlink:href=\"#glyph2-1\" x=\"34.660156\" y=\"166.63998\"/>\n",
       "</g>\n",
       "<g style=\"fill:rgb(0%,0%,0%);fill-opacity:1;\">\n",
       "  <use xlink:href=\"#glyph2-2\" x=\"34.660156\" y=\"138.21875\"/>\n",
       "  <use xlink:href=\"#glyph2-0\" x=\"34.660156\" y=\"132.679473\"/>\n",
       "  <use xlink:href=\"#glyph2-1\" x=\"34.660156\" y=\"127.140195\"/>\n",
       "  <use xlink:href=\"#glyph2-1\" x=\"34.660156\" y=\"121.600918\"/>\n",
       "  <use xlink:href=\"#glyph2-1\" x=\"34.660156\" y=\"116.061641\"/>\n",
       "</g>\n",
       "<g style=\"fill:rgb(0%,0%,0%);fill-opacity:1;\">\n",
       "  <use xlink:href=\"#glyph2-3\" x=\"34.660156\" y=\"90.410156\"/>\n",
       "  <use xlink:href=\"#glyph2-0\" x=\"34.660156\" y=\"84.870879\"/>\n",
       "  <use xlink:href=\"#glyph2-1\" x=\"34.660156\" y=\"79.331602\"/>\n",
       "  <use xlink:href=\"#glyph2-1\" x=\"34.660156\" y=\"73.792324\"/>\n",
       "  <use xlink:href=\"#glyph2-1\" x=\"34.660156\" y=\"68.253047\"/>\n",
       "</g>\n",
       "<path style=\"fill:none;stroke-width:0.75;stroke-linecap:round;stroke-linejoin:round;stroke:rgb(0%,0%,0%);stroke-opacity:1;stroke-miterlimit:10;\" d=\"M 49.003906 191.042969 L 478.902344 191.042969 L 478.902344 49.003906 L 49.003906 49.003906 L 49.003906 191.042969 \"/>\n",
       "<g clip-path=\"url(#clip3)\" clip-rule=\"nonzero\">\n",
       "<path style=\"fill:none;stroke-width:0.75;stroke-linecap:round;stroke-linejoin:round;stroke:rgb(0%,0%,0%);stroke-opacity:1;stroke-miterlimit:10;\" d=\"M 66.046875 185.785156 C 66.046875 187.277344 63.804688 187.277344 63.804688 185.785156 C 63.804688 184.289063 66.046875 184.289063 66.046875 185.785156 \"/>\n",
       "<path style=\"fill:none;stroke-width:0.75;stroke-linecap:round;stroke-linejoin:round;stroke:rgb(0%,0%,0%);stroke-opacity:1;stroke-miterlimit:10;\" d=\"M 66.3125 121.996094 C 66.3125 123.492188 64.074219 123.492188 64.074219 121.996094 C 64.074219 120.503906 66.3125 120.503906 66.3125 121.996094 \"/>\n",
       "<path style=\"fill:none;stroke-width:0.75;stroke-linecap:round;stroke-linejoin:round;stroke:rgb(0%,0%,0%);stroke-opacity:1;stroke-miterlimit:10;\" d=\"M 66.582031 126.371094 C 66.582031 127.863281 64.339844 127.863281 64.339844 126.371094 C 64.339844 124.875 66.582031 124.875 66.582031 126.371094 \"/>\n",
       "<path style=\"fill:none;stroke-width:0.75;stroke-linecap:round;stroke-linejoin:round;stroke:rgb(0%,0%,0%);stroke-opacity:1;stroke-miterlimit:10;\" d=\"M 66.851563 123.050781 C 66.851563 124.546875 64.609375 124.546875 64.609375 123.050781 C 64.609375 121.558594 66.851563 121.558594 66.851563 123.050781 \"/>\n",
       "<path style=\"fill:none;stroke-width:0.75;stroke-linecap:round;stroke-linejoin:round;stroke:rgb(0%,0%,0%);stroke-opacity:1;stroke-miterlimit:10;\" d=\"M 67.121094 120.710938 C 67.121094 122.203125 64.878906 122.203125 64.878906 120.710938 C 64.878906 119.214844 67.121094 119.214844 67.121094 120.710938 \"/>\n",
       "<path style=\"fill:none;stroke-width:0.75;stroke-linecap:round;stroke-linejoin:round;stroke:rgb(0%,0%,0%);stroke-opacity:1;stroke-miterlimit:10;\" d=\"M 67.386719 119.441406 C 67.386719 120.933594 65.148438 120.933594 65.148438 119.441406 C 65.148438 117.945313 67.386719 117.945313 67.386719 119.441406 \"/>\n",
       "<path style=\"fill:none;stroke-width:0.75;stroke-linecap:round;stroke-linejoin:round;stroke:rgb(0%,0%,0%);stroke-opacity:1;stroke-miterlimit:10;\" d=\"M 67.65625 127.941406 C 67.65625 129.4375 65.414063 129.4375 65.414063 127.941406 C 65.414063 126.449219 67.65625 126.449219 67.65625 127.941406 \"/>\n",
       "<path style=\"fill:none;stroke-width:0.75;stroke-linecap:round;stroke-linejoin:round;stroke:rgb(0%,0%,0%);stroke-opacity:1;stroke-miterlimit:10;\" d=\"M 67.925781 161.835938 C 67.925781 163.332031 65.683594 163.332031 65.683594 161.835938 C 65.683594 160.34375 67.925781 160.34375 67.925781 161.835938 \"/>\n",
       "<path style=\"fill:none;stroke-width:0.75;stroke-linecap:round;stroke-linejoin:round;stroke:rgb(0%,0%,0%);stroke-opacity:1;stroke-miterlimit:10;\" d=\"M 68.191406 120.503906 C 68.191406 121.996094 65.953125 121.996094 65.953125 120.503906 C 65.953125 119.007813 68.191406 119.007813 68.191406 120.503906 \"/>\n",
       "<path style=\"fill:none;stroke-width:0.75;stroke-linecap:round;stroke-linejoin:round;stroke:rgb(0%,0%,0%);stroke-opacity:1;stroke-miterlimit:10;\" d=\"M 68.460938 129.214844 C 68.460938 130.710938 66.21875 130.710938 66.21875 129.214844 C 66.21875 127.722656 68.460938 127.722656 68.460938 129.214844 \"/>\n",
       "<path style=\"fill:none;stroke-width:0.75;stroke-linecap:round;stroke-linejoin:round;stroke:rgb(0%,0%,0%);stroke-opacity:1;stroke-miterlimit:10;\" d=\"M 68.730469 122.945313 C 68.730469 124.441406 66.488281 124.441406 66.488281 122.945313 C 66.488281 121.453125 68.730469 121.453125 68.730469 122.945313 \"/>\n",
       "<path style=\"fill:none;stroke-width:0.75;stroke-linecap:round;stroke-linejoin:round;stroke:rgb(0%,0%,0%);stroke-opacity:1;stroke-miterlimit:10;\" d=\"M 69 127.542969 C 69 129.039063 66.757813 129.039063 66.757813 127.542969 C 66.757813 126.050781 69 126.050781 69 127.542969 \"/>\n",
       "<path style=\"fill:none;stroke-width:0.75;stroke-linecap:round;stroke-linejoin:round;stroke:rgb(0%,0%,0%);stroke-opacity:1;stroke-miterlimit:10;\" d=\"M 69.265625 138.640625 C 69.265625 140.136719 67.027344 140.136719 67.027344 138.640625 C 67.027344 137.148438 69.265625 137.148438 69.265625 138.640625 \"/>\n",
       "<path style=\"fill:none;stroke-width:0.75;stroke-linecap:round;stroke-linejoin:round;stroke:rgb(0%,0%,0%);stroke-opacity:1;stroke-miterlimit:10;\" d=\"M 69.535156 132.179688 C 69.535156 133.675781 67.292969 133.675781 67.292969 132.179688 C 67.292969 130.6875 69.535156 130.6875 69.535156 132.179688 \"/>\n",
       "<path style=\"fill:none;stroke-width:0.75;stroke-linecap:round;stroke-linejoin:round;stroke:rgb(0%,0%,0%);stroke-opacity:1;stroke-miterlimit:10;\" d=\"M 69.804688 165.847656 C 69.804688 167.34375 67.5625 167.34375 67.5625 165.847656 C 67.5625 164.355469 69.804688 164.355469 69.804688 165.847656 \"/>\n",
       "<path style=\"fill:none;stroke-width:0.75;stroke-linecap:round;stroke-linejoin:round;stroke:rgb(0%,0%,0%);stroke-opacity:1;stroke-miterlimit:10;\" d=\"M 70.070313 133.480469 C 70.070313 134.976563 67.832031 134.976563 67.832031 133.480469 C 67.832031 131.988281 70.070313 131.988281 70.070313 133.480469 \"/>\n",
       "<path style=\"fill:none;stroke-width:0.75;stroke-linecap:round;stroke-linejoin:round;stroke:rgb(0%,0%,0%);stroke-opacity:1;stroke-miterlimit:10;\" d=\"M 70.339844 135.042969 C 70.339844 136.535156 68.097656 136.535156 68.097656 135.042969 C 68.097656 133.546875 70.339844 133.546875 70.339844 135.042969 \"/>\n",
       "<path style=\"fill:none;stroke-width:0.75;stroke-linecap:round;stroke-linejoin:round;stroke:rgb(0%,0%,0%);stroke-opacity:1;stroke-miterlimit:10;\" d=\"M 70.609375 128.804688 C 70.609375 130.300781 68.367188 130.300781 68.367188 128.804688 C 68.367188 127.3125 70.609375 127.3125 70.609375 128.804688 \"/>\n",
       "<path style=\"fill:none;stroke-width:0.75;stroke-linecap:round;stroke-linejoin:round;stroke:rgb(0%,0%,0%);stroke-opacity:1;stroke-miterlimit:10;\" d=\"M 70.878906 129.121094 C 70.878906 130.613281 68.636719 130.613281 68.636719 129.121094 C 68.636719 127.628906 70.878906 127.628906 70.878906 129.121094 \"/>\n",
       "<path style=\"fill:none;stroke-width:0.75;stroke-linecap:round;stroke-linejoin:round;stroke:rgb(0%,0%,0%);stroke-opacity:1;stroke-miterlimit:10;\" d=\"M 71.144531 137.257813 C 71.144531 138.75 68.90625 138.75 68.90625 137.257813 C 68.90625 135.765625 71.144531 135.765625 71.144531 137.257813 \"/>\n",
       "<path style=\"fill:none;stroke-width:0.75;stroke-linecap:round;stroke-linejoin:round;stroke:rgb(0%,0%,0%);stroke-opacity:1;stroke-miterlimit:10;\" d=\"M 71.414063 146.6875 C 71.414063 148.183594 69.171875 148.183594 69.171875 146.6875 C 69.171875 145.195313 71.414063 145.195313 71.414063 146.6875 \"/>\n",
       "<path style=\"fill:none;stroke-width:0.75;stroke-linecap:round;stroke-linejoin:round;stroke:rgb(0%,0%,0%);stroke-opacity:1;stroke-miterlimit:10;\" d=\"M 71.683594 162.644531 C 71.683594 164.136719 69.441406 164.136719 69.441406 162.644531 C 69.441406 161.152344 71.683594 161.152344 71.683594 162.644531 \"/>\n",
       "<path style=\"fill:none;stroke-width:0.75;stroke-linecap:round;stroke-linejoin:round;stroke:rgb(0%,0%,0%);stroke-opacity:1;stroke-miterlimit:10;\" d=\"M 71.949219 128.835938 C 71.949219 130.328125 69.710938 130.328125 69.710938 128.835938 C 69.710938 127.339844 71.949219 127.339844 71.949219 128.835938 \"/>\n",
       "<path style=\"fill:none;stroke-width:0.75;stroke-linecap:round;stroke-linejoin:round;stroke:rgb(0%,0%,0%);stroke-opacity:1;stroke-miterlimit:10;\" d=\"M 72.21875 129.691406 C 72.21875 131.1875 69.976563 131.1875 69.976563 129.691406 C 69.976563 128.199219 72.21875 128.199219 72.21875 129.691406 \"/>\n",
       "<path style=\"fill:none;stroke-width:0.75;stroke-linecap:round;stroke-linejoin:round;stroke:rgb(0%,0%,0%);stroke-opacity:1;stroke-miterlimit:10;\" d=\"M 72.488281 134.714844 C 72.488281 136.210938 70.246094 136.210938 70.246094 134.714844 C 70.246094 133.222656 72.488281 133.222656 72.488281 134.714844 \"/>\n",
       "<path style=\"fill:none;stroke-width:0.75;stroke-linecap:round;stroke-linejoin:round;stroke:rgb(0%,0%,0%);stroke-opacity:1;stroke-miterlimit:10;\" d=\"M 72.757813 132.125 C 72.757813 133.617188 70.515625 133.617188 70.515625 132.125 C 70.515625 130.628906 72.757813 130.628906 72.757813 132.125 \"/>\n",
       "<path style=\"fill:none;stroke-width:0.75;stroke-linecap:round;stroke-linejoin:round;stroke:rgb(0%,0%,0%);stroke-opacity:1;stroke-miterlimit:10;\" d=\"M 73.023438 146.222656 C 73.023438 147.714844 70.785156 147.714844 70.785156 146.222656 C 70.785156 144.726563 73.023438 144.726563 73.023438 146.222656 \"/>\n",
       "<path style=\"fill:none;stroke-width:0.75;stroke-linecap:round;stroke-linejoin:round;stroke:rgb(0%,0%,0%);stroke-opacity:1;stroke-miterlimit:10;\" d=\"M 73.292969 138.984375 C 73.292969 140.476563 71.050781 140.476563 71.050781 138.984375 C 71.050781 137.492188 73.292969 137.492188 73.292969 138.984375 \"/>\n",
       "<path style=\"fill:none;stroke-width:0.75;stroke-linecap:round;stroke-linejoin:round;stroke:rgb(0%,0%,0%);stroke-opacity:1;stroke-miterlimit:10;\" d=\"M 73.5625 166.976563 C 73.5625 168.46875 71.320313 168.46875 71.320313 166.976563 C 71.320313 165.480469 73.5625 165.480469 73.5625 166.976563 \"/>\n",
       "<path style=\"fill:none;stroke-width:0.75;stroke-linecap:round;stroke-linejoin:round;stroke:rgb(0%,0%,0%);stroke-opacity:1;stroke-miterlimit:10;\" d=\"M 73.828125 134.824219 C 73.828125 136.320313 71.589844 136.320313 71.589844 134.824219 C 71.589844 133.332031 73.828125 133.332031 73.828125 134.824219 \"/>\n",
       "<path style=\"fill:none;stroke-width:0.75;stroke-linecap:round;stroke-linejoin:round;stroke:rgb(0%,0%,0%);stroke-opacity:1;stroke-miterlimit:10;\" d=\"M 74.097656 132.648438 C 74.097656 134.140625 71.855469 134.140625 71.855469 132.648438 C 71.855469 131.152344 74.097656 131.152344 74.097656 132.648438 \"/>\n",
       "<path style=\"fill:none;stroke-width:0.75;stroke-linecap:round;stroke-linejoin:round;stroke:rgb(0%,0%,0%);stroke-opacity:1;stroke-miterlimit:10;\" d=\"M 74.367188 129.980469 C 74.367188 131.476563 72.125 131.476563 72.125 129.980469 C 72.125 128.488281 74.367188 128.488281 74.367188 129.980469 \"/>\n",
       "<path style=\"fill:none;stroke-width:0.75;stroke-linecap:round;stroke-linejoin:round;stroke:rgb(0%,0%,0%);stroke-opacity:1;stroke-miterlimit:10;\" d=\"M 74.636719 127.421875 C 74.636719 128.917969 72.394531 128.917969 72.394531 127.421875 C 72.394531 125.929688 74.636719 125.929688 74.636719 127.421875 \"/>\n",
       "<path style=\"fill:none;stroke-width:0.75;stroke-linecap:round;stroke-linejoin:round;stroke:rgb(0%,0%,0%);stroke-opacity:1;stroke-miterlimit:10;\" d=\"M 74.902344 125.910156 C 74.902344 127.40625 72.664063 127.40625 72.664063 125.910156 C 72.664063 124.417969 74.902344 124.417969 74.902344 125.910156 \"/>\n",
       "<path style=\"fill:none;stroke-width:0.75;stroke-linecap:round;stroke-linejoin:round;stroke:rgb(0%,0%,0%);stroke-opacity:1;stroke-miterlimit:10;\" d=\"M 75.171875 132.824219 C 75.171875 134.316406 72.929688 134.316406 72.929688 132.824219 C 72.929688 131.328125 75.171875 131.328125 75.171875 132.824219 \"/>\n",
       "<path style=\"fill:none;stroke-width:0.75;stroke-linecap:round;stroke-linejoin:round;stroke:rgb(0%,0%,0%);stroke-opacity:1;stroke-miterlimit:10;\" d=\"M 75.441406 160.007813 C 75.441406 161.5 73.199219 161.5 73.199219 160.007813 C 73.199219 158.515625 75.441406 158.515625 75.441406 160.007813 \"/>\n",
       "<path style=\"fill:none;stroke-width:0.75;stroke-linecap:round;stroke-linejoin:round;stroke:rgb(0%,0%,0%);stroke-opacity:1;stroke-miterlimit:10;\" d=\"M 75.707031 122.207031 C 75.707031 123.699219 73.46875 123.699219 73.46875 122.207031 C 73.46875 120.710938 75.707031 120.710938 75.707031 122.207031 \"/>\n",
       "<path style=\"fill:none;stroke-width:0.75;stroke-linecap:round;stroke-linejoin:round;stroke:rgb(0%,0%,0%);stroke-opacity:1;stroke-miterlimit:10;\" d=\"M 75.976563 128.085938 C 75.976563 129.578125 73.734375 129.578125 73.734375 128.085938 C 73.734375 126.589844 75.976563 126.589844 75.976563 128.085938 \"/>\n",
       "<path style=\"fill:none;stroke-width:0.75;stroke-linecap:round;stroke-linejoin:round;stroke:rgb(0%,0%,0%);stroke-opacity:1;stroke-miterlimit:10;\" d=\"M 76.246094 125.402344 C 76.246094 126.894531 74.003906 126.894531 74.003906 125.402344 C 74.003906 123.90625 76.246094 123.90625 76.246094 125.402344 \"/>\n",
       "<path style=\"fill:none;stroke-width:0.75;stroke-linecap:round;stroke-linejoin:round;stroke:rgb(0%,0%,0%);stroke-opacity:1;stroke-miterlimit:10;\" d=\"M 76.515625 122.933594 C 76.515625 124.425781 74.273438 124.425781 74.273438 122.933594 C 74.273438 121.4375 76.515625 121.4375 76.515625 122.933594 \"/>\n",
       "<path style=\"fill:none;stroke-width:0.75;stroke-linecap:round;stroke-linejoin:round;stroke:rgb(0%,0%,0%);stroke-opacity:1;stroke-miterlimit:10;\" d=\"M 76.78125 135.085938 C 76.78125 136.578125 74.542969 136.578125 74.542969 135.085938 C 74.542969 133.589844 76.78125 133.589844 76.78125 135.085938 \"/>\n",
       "<path style=\"fill:none;stroke-width:0.75;stroke-linecap:round;stroke-linejoin:round;stroke:rgb(0%,0%,0%);stroke-opacity:1;stroke-miterlimit:10;\" d=\"M 77.050781 123.457031 C 77.050781 124.949219 74.808594 124.949219 74.808594 123.457031 C 74.808594 121.960938 77.050781 121.960938 77.050781 123.457031 \"/>\n",
       "<path style=\"fill:none;stroke-width:0.75;stroke-linecap:round;stroke-linejoin:round;stroke:rgb(0%,0%,0%);stroke-opacity:1;stroke-miterlimit:10;\" d=\"M 77.320313 162.070313 C 77.320313 163.5625 75.078125 163.5625 75.078125 162.070313 C 75.078125 160.574219 77.320313 160.574219 77.320313 162.070313 \"/>\n",
       "<path style=\"fill:none;stroke-width:0.75;stroke-linecap:round;stroke-linejoin:round;stroke:rgb(0%,0%,0%);stroke-opacity:1;stroke-miterlimit:10;\" d=\"M 77.585938 127.644531 C 77.585938 129.140625 75.347656 129.140625 75.347656 127.644531 C 75.347656 126.152344 77.585938 126.152344 77.585938 127.644531 \"/>\n",
       "<path style=\"fill:none;stroke-width:0.75;stroke-linecap:round;stroke-linejoin:round;stroke:rgb(0%,0%,0%);stroke-opacity:1;stroke-miterlimit:10;\" d=\"M 77.855469 123.226563 C 77.855469 124.722656 75.613281 124.722656 75.613281 123.226563 C 75.613281 121.734375 77.855469 121.734375 77.855469 123.226563 \"/>\n",
       "<path style=\"fill:none;stroke-width:0.75;stroke-linecap:round;stroke-linejoin:round;stroke:rgb(0%,0%,0%);stroke-opacity:1;stroke-miterlimit:10;\" d=\"M 78.125 127.710938 C 78.125 129.203125 75.882813 129.203125 75.882813 127.710938 C 75.882813 126.214844 78.125 126.214844 78.125 127.710938 \"/>\n",
       "<path style=\"fill:none;stroke-width:0.75;stroke-linecap:round;stroke-linejoin:round;stroke:rgb(0%,0%,0%);stroke-opacity:1;stroke-miterlimit:10;\" d=\"M 78.394531 121.371094 C 78.394531 122.867188 76.152344 122.867188 76.152344 121.371094 C 76.152344 119.878906 78.394531 119.878906 78.394531 121.371094 \"/>\n",
       "<path style=\"fill:none;stroke-width:0.75;stroke-linecap:round;stroke-linejoin:round;stroke:rgb(0%,0%,0%);stroke-opacity:1;stroke-miterlimit:10;\" d=\"M 78.660156 106.515625 C 78.660156 108.011719 76.421875 108.011719 76.421875 106.515625 C 76.421875 105.023438 78.660156 105.023438 78.660156 106.515625 \"/>\n",
       "<path style=\"fill:none;stroke-width:0.75;stroke-linecap:round;stroke-linejoin:round;stroke:rgb(0%,0%,0%);stroke-opacity:1;stroke-miterlimit:10;\" d=\"M 78.929688 114.589844 C 78.929688 116.082031 76.6875 116.082031 76.6875 114.589844 C 76.6875 113.09375 78.929688 113.09375 78.929688 114.589844 \"/>\n",
       "<path style=\"fill:none;stroke-width:0.75;stroke-linecap:round;stroke-linejoin:round;stroke:rgb(0%,0%,0%);stroke-opacity:1;stroke-miterlimit:10;\" d=\"M 79.199219 164.050781 C 79.199219 165.546875 76.957031 165.546875 76.957031 164.050781 C 76.957031 162.558594 79.199219 162.558594 79.199219 164.050781 \"/>\n",
       "<path style=\"fill:none;stroke-width:0.75;stroke-linecap:round;stroke-linejoin:round;stroke:rgb(0%,0%,0%);stroke-opacity:1;stroke-miterlimit:10;\" d=\"M 79.464844 144.546875 C 79.464844 146.039063 77.226563 146.039063 77.226563 144.546875 C 77.226563 143.054688 79.464844 143.054688 79.464844 144.546875 \"/>\n",
       "<path style=\"fill:none;stroke-width:0.75;stroke-linecap:round;stroke-linejoin:round;stroke:rgb(0%,0%,0%);stroke-opacity:1;stroke-miterlimit:10;\" d=\"M 79.734375 178.078125 C 79.734375 179.570313 77.492188 179.570313 77.492188 178.078125 C 77.492188 176.582031 79.734375 176.582031 79.734375 178.078125 \"/>\n",
       "<path style=\"fill:none;stroke-width:0.75;stroke-linecap:round;stroke-linejoin:round;stroke:rgb(0%,0%,0%);stroke-opacity:1;stroke-miterlimit:10;\" d=\"M 80.003906 137.101563 C 80.003906 138.59375 77.761719 138.59375 77.761719 137.101563 C 77.761719 135.605469 80.003906 135.605469 80.003906 137.101563 \"/>\n",
       "<path style=\"fill:none;stroke-width:0.75;stroke-linecap:round;stroke-linejoin:round;stroke:rgb(0%,0%,0%);stroke-opacity:1;stroke-miterlimit:10;\" d=\"M 80.273438 136.867188 C 80.273438 138.359375 78.03125 138.359375 78.03125 136.867188 C 78.03125 135.375 80.273438 135.375 80.273438 136.867188 \"/>\n",
       "<path style=\"fill:none;stroke-width:0.75;stroke-linecap:round;stroke-linejoin:round;stroke:rgb(0%,0%,0%);stroke-opacity:1;stroke-miterlimit:10;\" d=\"M 80.539063 131.589844 C 80.539063 133.085938 78.300781 133.085938 78.300781 131.589844 C 78.300781 130.097656 80.539063 130.097656 80.539063 131.589844 \"/>\n",
       "<path style=\"fill:none;stroke-width:0.75;stroke-linecap:round;stroke-linejoin:round;stroke:rgb(0%,0%,0%);stroke-opacity:1;stroke-miterlimit:10;\" d=\"M 80.808594 133.667969 C 80.808594 135.164063 78.566406 135.164063 78.566406 133.667969 C 78.566406 132.175781 80.808594 132.175781 80.808594 133.667969 \"/>\n",
       "<path style=\"fill:none;stroke-width:0.75;stroke-linecap:round;stroke-linejoin:round;stroke:rgb(0%,0%,0%);stroke-opacity:1;stroke-miterlimit:10;\" d=\"M 81.078125 162.898438 C 81.078125 164.394531 78.835938 164.394531 78.835938 162.898438 C 78.835938 161.40625 81.078125 161.40625 81.078125 162.898438 \"/>\n",
       "<path style=\"fill:none;stroke-width:0.75;stroke-linecap:round;stroke-linejoin:round;stroke:rgb(0%,0%,0%);stroke-opacity:1;stroke-miterlimit:10;\" d=\"M 81.34375 125.046875 C 81.34375 126.542969 79.105469 126.542969 79.105469 125.046875 C 79.105469 123.554688 81.34375 123.554688 81.34375 125.046875 \"/>\n",
       "<path style=\"fill:none;stroke-width:0.75;stroke-linecap:round;stroke-linejoin:round;stroke:rgb(0%,0%,0%);stroke-opacity:1;stroke-miterlimit:10;\" d=\"M 81.613281 131.519531 C 81.613281 133.011719 79.371094 133.011719 79.371094 131.519531 C 79.371094 130.023438 81.613281 130.023438 81.613281 131.519531 \"/>\n",
       "<path style=\"fill:none;stroke-width:0.75;stroke-linecap:round;stroke-linejoin:round;stroke:rgb(0%,0%,0%);stroke-opacity:1;stroke-miterlimit:10;\" d=\"M 81.882813 120.074219 C 81.882813 121.570313 79.640625 121.570313 79.640625 120.074219 C 79.640625 118.582031 81.882813 118.582031 81.882813 120.074219 \"/>\n",
       "<path style=\"fill:none;stroke-width:0.75;stroke-linecap:round;stroke-linejoin:round;stroke:rgb(0%,0%,0%);stroke-opacity:1;stroke-miterlimit:10;\" d=\"M 82.152344 127.804688 C 82.152344 129.296875 79.910156 129.296875 79.910156 127.804688 C 79.910156 126.308594 82.152344 126.308594 82.152344 127.804688 \"/>\n",
       "<path style=\"fill:none;stroke-width:0.75;stroke-linecap:round;stroke-linejoin:round;stroke:rgb(0%,0%,0%);stroke-opacity:1;stroke-miterlimit:10;\" d=\"M 82.417969 124.21875 C 82.417969 125.710938 80.179688 125.710938 80.179688 124.21875 C 80.179688 122.722656 82.417969 122.722656 82.417969 124.21875 \"/>\n",
       "<path style=\"fill:none;stroke-width:0.75;stroke-linecap:round;stroke-linejoin:round;stroke:rgb(0%,0%,0%);stroke-opacity:1;stroke-miterlimit:10;\" d=\"M 82.6875 118.285156 C 82.6875 119.777344 80.445313 119.777344 80.445313 118.285156 C 80.445313 116.789063 82.6875 116.789063 82.6875 118.285156 \"/>\n",
       "<path style=\"fill:none;stroke-width:0.75;stroke-linecap:round;stroke-linejoin:round;stroke:rgb(0%,0%,0%);stroke-opacity:1;stroke-miterlimit:10;\" d=\"M 82.957031 161.683594 C 82.957031 163.179688 80.714844 163.179688 80.714844 161.683594 C 80.714844 160.191406 82.957031 160.191406 82.957031 161.683594 \"/>\n",
       "<path style=\"fill:none;stroke-width:0.75;stroke-linecap:round;stroke-linejoin:round;stroke:rgb(0%,0%,0%);stroke-opacity:1;stroke-miterlimit:10;\" d=\"M 83.222656 121.5 C 83.222656 122.992188 80.984375 122.992188 80.984375 121.5 C 80.984375 120.007813 83.222656 120.007813 83.222656 121.5 \"/>\n",
       "<path style=\"fill:none;stroke-width:0.75;stroke-linecap:round;stroke-linejoin:round;stroke:rgb(0%,0%,0%);stroke-opacity:1;stroke-miterlimit:10;\" d=\"M 83.492188 121.660156 C 83.492188 123.152344 81.25 123.152344 81.25 121.660156 C 81.25 120.164063 83.492188 120.164063 83.492188 121.660156 \"/>\n",
       "<path style=\"fill:none;stroke-width:0.75;stroke-linecap:round;stroke-linejoin:round;stroke:rgb(0%,0%,0%);stroke-opacity:1;stroke-miterlimit:10;\" d=\"M 83.761719 115.75 C 83.761719 117.246094 81.519531 117.246094 81.519531 115.75 C 81.519531 114.257813 83.761719 114.257813 83.761719 115.75 \"/>\n",
       "<path style=\"fill:none;stroke-width:0.75;stroke-linecap:round;stroke-linejoin:round;stroke:rgb(0%,0%,0%);stroke-opacity:1;stroke-miterlimit:10;\" d=\"M 84.03125 120.648438 C 84.03125 122.140625 81.789063 122.140625 81.789063 120.648438 C 81.789063 119.152344 84.03125 119.152344 84.03125 120.648438 \"/>\n",
       "<path style=\"fill:none;stroke-width:0.75;stroke-linecap:round;stroke-linejoin:round;stroke:rgb(0%,0%,0%);stroke-opacity:1;stroke-miterlimit:10;\" d=\"M 84.296875 131.101563 C 84.296875 132.59375 82.058594 132.59375 82.058594 131.101563 C 82.058594 129.605469 84.296875 129.605469 84.296875 131.101563 \"/>\n",
       "<path style=\"fill:none;stroke-width:0.75;stroke-linecap:round;stroke-linejoin:round;stroke:rgb(0%,0%,0%);stroke-opacity:1;stroke-miterlimit:10;\" d=\"M 84.566406 129.292969 C 84.566406 130.789063 82.324219 130.789063 82.324219 129.292969 C 82.324219 127.800781 84.566406 127.800781 84.566406 129.292969 \"/>\n",
       "<path style=\"fill:none;stroke-width:0.75;stroke-linecap:round;stroke-linejoin:round;stroke:rgb(0%,0%,0%);stroke-opacity:1;stroke-miterlimit:10;\" d=\"M 84.835938 153.992188 C 84.835938 155.488281 82.59375 155.488281 82.59375 153.992188 C 82.59375 152.5 84.835938 152.5 84.835938 153.992188 \"/>\n",
       "<path style=\"fill:none;stroke-width:0.75;stroke-linecap:round;stroke-linejoin:round;stroke:rgb(0%,0%,0%);stroke-opacity:1;stroke-miterlimit:10;\" d=\"M 85.101563 126.222656 C 85.101563 127.714844 82.863281 127.714844 82.863281 126.222656 C 82.863281 124.726563 85.101563 124.726563 85.101563 126.222656 \"/>\n",
       "<path style=\"fill:none;stroke-width:0.75;stroke-linecap:round;stroke-linejoin:round;stroke:rgb(0%,0%,0%);stroke-opacity:1;stroke-miterlimit:10;\" d=\"M 85.371094 125.027344 C 85.371094 126.523438 83.128906 126.523438 83.128906 125.027344 C 83.128906 123.535156 85.371094 123.535156 85.371094 125.027344 \"/>\n",
       "<path style=\"fill:none;stroke-width:0.75;stroke-linecap:round;stroke-linejoin:round;stroke:rgb(0%,0%,0%);stroke-opacity:1;stroke-miterlimit:10;\" d=\"M 85.640625 128.457031 C 85.640625 129.953125 83.398438 129.953125 83.398438 128.457031 C 83.398438 126.964844 85.640625 126.964844 85.640625 128.457031 \"/>\n",
       "<path style=\"fill:none;stroke-width:0.75;stroke-linecap:round;stroke-linejoin:round;stroke:rgb(0%,0%,0%);stroke-opacity:1;stroke-miterlimit:10;\" d=\"M 85.910156 130.285156 C 85.910156 131.78125 83.667969 131.78125 83.667969 130.285156 C 83.667969 128.792969 85.910156 128.792969 85.910156 130.285156 \"/>\n",
       "<path style=\"fill:none;stroke-width:0.75;stroke-linecap:round;stroke-linejoin:round;stroke:rgb(0%,0%,0%);stroke-opacity:1;stroke-miterlimit:10;\" d=\"M 86.175781 131.988281 C 86.175781 133.480469 83.9375 133.480469 83.9375 131.988281 C 83.9375 130.492188 86.175781 130.492188 86.175781 131.988281 \"/>\n",
       "<path style=\"fill:none;stroke-width:0.75;stroke-linecap:round;stroke-linejoin:round;stroke:rgb(0%,0%,0%);stroke-opacity:1;stroke-miterlimit:10;\" d=\"M 86.445313 131.820313 C 86.445313 133.3125 84.203125 133.3125 84.203125 131.820313 C 84.203125 130.324219 86.445313 130.324219 86.445313 131.820313 \"/>\n",
       "<path style=\"fill:none;stroke-width:0.75;stroke-linecap:round;stroke-linejoin:round;stroke:rgb(0%,0%,0%);stroke-opacity:1;stroke-miterlimit:10;\" d=\"M 86.714844 154.417969 C 86.714844 155.910156 84.472656 155.910156 84.472656 154.417969 C 84.472656 152.921875 86.714844 152.921875 86.714844 154.417969 \"/>\n",
       "<path style=\"fill:none;stroke-width:0.75;stroke-linecap:round;stroke-linejoin:round;stroke:rgb(0%,0%,0%);stroke-opacity:1;stroke-miterlimit:10;\" d=\"M 86.980469 130.171875 C 86.980469 131.667969 84.742188 131.667969 84.742188 130.171875 C 84.742188 128.679688 86.980469 128.679688 86.980469 130.171875 \"/>\n",
       "<path style=\"fill:none;stroke-width:0.75;stroke-linecap:round;stroke-linejoin:round;stroke:rgb(0%,0%,0%);stroke-opacity:1;stroke-miterlimit:10;\" d=\"M 87.25 134.542969 C 87.25 136.039063 85.007813 136.039063 85.007813 134.542969 C 85.007813 133.050781 87.25 133.050781 87.25 134.542969 \"/>\n",
       "<path style=\"fill:none;stroke-width:0.75;stroke-linecap:round;stroke-linejoin:round;stroke:rgb(0%,0%,0%);stroke-opacity:1;stroke-miterlimit:10;\" d=\"M 87.519531 130.226563 C 87.519531 131.722656 85.277344 131.722656 85.277344 130.226563 C 85.277344 128.734375 87.519531 128.734375 87.519531 130.226563 \"/>\n",
       "<path style=\"fill:none;stroke-width:0.75;stroke-linecap:round;stroke-linejoin:round;stroke:rgb(0%,0%,0%);stroke-opacity:1;stroke-miterlimit:10;\" d=\"M 87.789063 137.15625 C 87.789063 138.652344 85.546875 138.652344 85.546875 137.15625 C 85.546875 135.664063 87.789063 135.664063 87.789063 137.15625 \"/>\n",
       "<path style=\"fill:none;stroke-width:0.75;stroke-linecap:round;stroke-linejoin:round;stroke:rgb(0%,0%,0%);stroke-opacity:1;stroke-miterlimit:10;\" d=\"M 88.054688 133.953125 C 88.054688 135.445313 85.816406 135.445313 85.816406 133.953125 C 85.816406 132.457031 88.054688 132.457031 88.054688 133.953125 \"/>\n",
       "<path style=\"fill:none;stroke-width:0.75;stroke-linecap:round;stroke-linejoin:round;stroke:rgb(0%,0%,0%);stroke-opacity:1;stroke-miterlimit:10;\" d=\"M 88.324219 136.253906 C 88.324219 137.746094 86.082031 137.746094 86.082031 136.253906 C 86.082031 134.757813 88.324219 134.757813 88.324219 136.253906 \"/>\n",
       "<path style=\"fill:none;stroke-width:0.75;stroke-linecap:round;stroke-linejoin:round;stroke:rgb(0%,0%,0%);stroke-opacity:1;stroke-miterlimit:10;\" d=\"M 88.59375 162.738281 C 88.59375 164.234375 86.351563 164.234375 86.351563 162.738281 C 86.351563 161.246094 88.59375 161.246094 88.59375 162.738281 \"/>\n",
       "<path style=\"fill:none;stroke-width:0.75;stroke-linecap:round;stroke-linejoin:round;stroke:rgb(0%,0%,0%);stroke-opacity:1;stroke-miterlimit:10;\" d=\"M 88.859375 128.535156 C 88.859375 130.027344 86.621094 130.027344 86.621094 128.535156 C 86.621094 127.039063 88.859375 127.039063 88.859375 128.535156 \"/>\n",
       "<path style=\"fill:none;stroke-width:0.75;stroke-linecap:round;stroke-linejoin:round;stroke:rgb(0%,0%,0%);stroke-opacity:1;stroke-miterlimit:10;\" d=\"M 89.128906 127.332031 C 89.128906 128.824219 86.886719 128.824219 86.886719 127.332031 C 86.886719 125.835938 89.128906 125.835938 89.128906 127.332031 \"/>\n",
       "<path style=\"fill:none;stroke-width:0.75;stroke-linecap:round;stroke-linejoin:round;stroke:rgb(0%,0%,0%);stroke-opacity:1;stroke-miterlimit:10;\" d=\"M 89.398438 140.589844 C 89.398438 142.082031 87.15625 142.082031 87.15625 140.589844 C 87.15625 139.09375 89.398438 139.09375 89.398438 140.589844 \"/>\n",
       "<path style=\"fill:none;stroke-width:0.75;stroke-linecap:round;stroke-linejoin:round;stroke:rgb(0%,0%,0%);stroke-opacity:1;stroke-miterlimit:10;\" d=\"M 89.664063 130.363281 C 89.664063 131.859375 87.425781 131.859375 87.425781 130.363281 C 87.425781 128.871094 89.664063 128.871094 89.664063 130.363281 \"/>\n",
       "<path style=\"fill:none;stroke-width:0.75;stroke-linecap:round;stroke-linejoin:round;stroke:rgb(0%,0%,0%);stroke-opacity:1;stroke-miterlimit:10;\" d=\"M 89.933594 132.253906 C 89.933594 133.746094 87.695313 133.746094 87.695313 132.253906 C 87.695313 130.757813 89.933594 130.757813 89.933594 132.253906 \"/>\n",
       "<path style=\"fill:none;stroke-width:0.75;stroke-linecap:round;stroke-linejoin:round;stroke:rgb(0%,0%,0%);stroke-opacity:1;stroke-miterlimit:10;\" d=\"M 90.203125 127.273438 C 90.203125 128.765625 87.960938 128.765625 87.960938 127.273438 C 87.960938 125.777344 90.203125 125.777344 90.203125 127.273438 \"/>\n",
       "<path style=\"fill:none;stroke-width:0.75;stroke-linecap:round;stroke-linejoin:round;stroke:rgb(0%,0%,0%);stroke-opacity:1;stroke-miterlimit:10;\" d=\"M 90.472656 160.089844 C 90.472656 161.582031 88.230469 161.582031 88.230469 160.089844 C 88.230469 158.59375 90.472656 158.59375 90.472656 160.089844 \"/>\n",
       "<path style=\"fill:none;stroke-width:0.75;stroke-linecap:round;stroke-linejoin:round;stroke:rgb(0%,0%,0%);stroke-opacity:1;stroke-miterlimit:10;\" d=\"M 90.738281 126.289063 C 90.738281 127.78125 88.5 127.78125 88.5 126.289063 C 88.5 124.792969 90.738281 124.792969 90.738281 126.289063 \"/>\n",
       "<path style=\"fill:none;stroke-width:0.75;stroke-linecap:round;stroke-linejoin:round;stroke:rgb(0%,0%,0%);stroke-opacity:1;stroke-miterlimit:10;\" d=\"M 91.007813 119.914063 C 91.007813 121.40625 88.765625 121.40625 88.765625 119.914063 C 88.765625 118.417969 91.007813 118.417969 91.007813 119.914063 \"/>\n",
       "<path style=\"fill:none;stroke-width:0.75;stroke-linecap:round;stroke-linejoin:round;stroke:rgb(0%,0%,0%);stroke-opacity:1;stroke-miterlimit:10;\" d=\"M 91.277344 116.488281 C 91.277344 117.984375 89.035156 117.984375 89.035156 116.488281 C 89.035156 114.996094 91.277344 114.996094 91.277344 116.488281 \"/>\n",
       "<path style=\"fill:none;stroke-width:0.75;stroke-linecap:round;stroke-linejoin:round;stroke:rgb(0%,0%,0%);stroke-opacity:1;stroke-miterlimit:10;\" d=\"M 91.542969 112.625 C 91.542969 114.117188 89.304688 114.117188 89.304688 112.625 C 89.304688 111.128906 91.542969 111.128906 91.542969 112.625 \"/>\n",
       "<path style=\"fill:none;stroke-width:0.75;stroke-linecap:round;stroke-linejoin:round;stroke:rgb(0%,0%,0%);stroke-opacity:1;stroke-miterlimit:10;\" d=\"M 91.8125 131.574219 C 91.8125 133.070313 89.574219 133.070313 89.574219 131.574219 C 89.574219 130.082031 91.8125 130.082031 91.8125 131.574219 \"/>\n",
       "<path style=\"fill:none;stroke-width:0.75;stroke-linecap:round;stroke-linejoin:round;stroke:rgb(0%,0%,0%);stroke-opacity:1;stroke-miterlimit:10;\" d=\"M 92.082031 135.183594 C 92.082031 136.675781 89.839844 136.675781 89.839844 135.183594 C 89.839844 133.6875 92.082031 133.6875 92.082031 135.183594 \"/>\n",
       "<path style=\"fill:none;stroke-width:0.75;stroke-linecap:round;stroke-linejoin:round;stroke:rgb(0%,0%,0%);stroke-opacity:1;stroke-miterlimit:10;\" d=\"M 92.351563 163.484375 C 92.351563 164.980469 90.109375 164.980469 90.109375 163.484375 C 90.109375 161.992188 92.351563 161.992188 92.351563 163.484375 \"/>\n",
       "<path style=\"fill:none;stroke-width:0.75;stroke-linecap:round;stroke-linejoin:round;stroke:rgb(0%,0%,0%);stroke-opacity:1;stroke-miterlimit:10;\" d=\"M 92.617188 120.515625 C 92.617188 122.007813 90.378906 122.007813 90.378906 120.515625 C 90.378906 119.019531 92.617188 119.019531 92.617188 120.515625 \"/>\n",
       "<path style=\"fill:none;stroke-width:0.75;stroke-linecap:round;stroke-linejoin:round;stroke:rgb(0%,0%,0%);stroke-opacity:1;stroke-miterlimit:10;\" d=\"M 92.886719 112.28125 C 92.886719 113.777344 90.644531 113.777344 90.644531 112.28125 C 90.644531 110.789063 92.886719 110.789063 92.886719 112.28125 \"/>\n",
       "<path style=\"fill:none;stroke-width:0.75;stroke-linecap:round;stroke-linejoin:round;stroke:rgb(0%,0%,0%);stroke-opacity:1;stroke-miterlimit:10;\" d=\"M 93.15625 123.113281 C 93.15625 124.609375 90.914063 124.609375 90.914063 123.113281 C 90.914063 121.621094 93.15625 121.621094 93.15625 123.113281 \"/>\n",
       "<path style=\"fill:none;stroke-width:0.75;stroke-linecap:round;stroke-linejoin:round;stroke:rgb(0%,0%,0%);stroke-opacity:1;stroke-miterlimit:10;\" d=\"M 93.421875 132.023438 C 93.421875 133.515625 91.183594 133.515625 91.183594 132.023438 C 91.183594 130.527344 93.421875 130.527344 93.421875 132.023438 \"/>\n",
       "<path style=\"fill:none;stroke-width:0.75;stroke-linecap:round;stroke-linejoin:round;stroke:rgb(0%,0%,0%);stroke-opacity:1;stroke-miterlimit:10;\" d=\"M 93.691406 121.4375 C 93.691406 122.933594 91.449219 122.933594 91.449219 121.4375 C 91.449219 119.945313 93.691406 119.945313 93.691406 121.4375 \"/>\n",
       "<path style=\"fill:none;stroke-width:0.75;stroke-linecap:round;stroke-linejoin:round;stroke:rgb(0%,0%,0%);stroke-opacity:1;stroke-miterlimit:10;\" d=\"M 93.960938 126.152344 C 93.960938 127.644531 91.71875 127.644531 91.71875 126.152344 C 91.71875 124.65625 93.960938 124.65625 93.960938 126.152344 \"/>\n",
       "<path style=\"fill:none;stroke-width:0.75;stroke-linecap:round;stroke-linejoin:round;stroke:rgb(0%,0%,0%);stroke-opacity:1;stroke-miterlimit:10;\" d=\"M 94.230469 162.5625 C 94.230469 164.058594 91.988281 164.058594 91.988281 162.5625 C 91.988281 161.070313 94.230469 161.070313 94.230469 162.5625 \"/>\n",
       "<path style=\"fill:none;stroke-width:0.75;stroke-linecap:round;stroke-linejoin:round;stroke:rgb(0%,0%,0%);stroke-opacity:1;stroke-miterlimit:10;\" d=\"M 94.496094 116.753906 C 94.496094 118.25 92.257813 118.25 92.257813 116.753906 C 92.257813 115.261719 94.496094 115.261719 94.496094 116.753906 \"/>\n",
       "<path style=\"fill:none;stroke-width:0.75;stroke-linecap:round;stroke-linejoin:round;stroke:rgb(0%,0%,0%);stroke-opacity:1;stroke-miterlimit:10;\" d=\"M 94.765625 127.960938 C 94.765625 129.457031 92.523438 129.457031 92.523438 127.960938 C 92.523438 126.46875 94.765625 126.46875 94.765625 127.960938 \"/>\n",
       "<path style=\"fill:none;stroke-width:0.75;stroke-linecap:round;stroke-linejoin:round;stroke:rgb(0%,0%,0%);stroke-opacity:1;stroke-miterlimit:10;\" d=\"M 95.035156 123.621094 C 95.035156 125.117188 92.792969 125.117188 92.792969 123.621094 C 92.792969 122.128906 95.035156 122.128906 95.035156 123.621094 \"/>\n",
       "<path style=\"fill:none;stroke-width:0.75;stroke-linecap:round;stroke-linejoin:round;stroke:rgb(0%,0%,0%);stroke-opacity:1;stroke-miterlimit:10;\" d=\"M 95.300781 127.855469 C 95.300781 129.351563 93.0625 129.351563 93.0625 127.855469 C 93.0625 126.363281 95.300781 126.363281 95.300781 127.855469 \"/>\n",
       "<path style=\"fill:none;stroke-width:0.75;stroke-linecap:round;stroke-linejoin:round;stroke:rgb(0%,0%,0%);stroke-opacity:1;stroke-miterlimit:10;\" d=\"M 95.570313 122.574219 C 95.570313 124.066406 93.328125 124.066406 93.328125 122.574219 C 93.328125 121.078125 95.570313 121.078125 95.570313 122.574219 \"/>\n",
       "<path style=\"fill:none;stroke-width:0.75;stroke-linecap:round;stroke-linejoin:round;stroke:rgb(0%,0%,0%);stroke-opacity:1;stroke-miterlimit:10;\" d=\"M 95.839844 133.019531 C 95.839844 134.515625 93.597656 134.515625 93.597656 133.019531 C 93.597656 131.527344 95.839844 131.527344 95.839844 133.019531 \"/>\n",
       "<path style=\"fill:none;stroke-width:0.75;stroke-linecap:round;stroke-linejoin:round;stroke:rgb(0%,0%,0%);stroke-opacity:1;stroke-miterlimit:10;\" d=\"M 96.109375 153.554688 C 96.109375 155.046875 93.867188 155.046875 93.867188 153.554688 C 93.867188 152.0625 96.109375 152.0625 96.109375 153.554688 \"/>\n",
       "<path style=\"fill:none;stroke-width:0.75;stroke-linecap:round;stroke-linejoin:round;stroke:rgb(0%,0%,0%);stroke-opacity:1;stroke-miterlimit:10;\" d=\"M 96.375 142.425781 C 96.375 143.921875 94.136719 143.921875 94.136719 142.425781 C 94.136719 140.933594 96.375 140.933594 96.375 142.425781 \"/>\n",
       "<path style=\"fill:none;stroke-width:0.75;stroke-linecap:round;stroke-linejoin:round;stroke:rgb(0%,0%,0%);stroke-opacity:1;stroke-miterlimit:10;\" d=\"M 96.644531 126.140625 C 96.644531 127.636719 94.402344 127.636719 94.402344 126.140625 C 94.402344 124.648438 96.644531 124.648438 96.644531 126.140625 \"/>\n",
       "<path style=\"fill:none;stroke-width:0.75;stroke-linecap:round;stroke-linejoin:round;stroke:rgb(0%,0%,0%);stroke-opacity:1;stroke-miterlimit:10;\" d=\"M 96.914063 124.230469 C 96.914063 125.722656 94.671875 125.722656 94.671875 124.230469 C 94.671875 122.734375 96.914063 122.734375 96.914063 124.230469 \"/>\n",
       "<path style=\"fill:none;stroke-width:0.75;stroke-linecap:round;stroke-linejoin:round;stroke:rgb(0%,0%,0%);stroke-opacity:1;stroke-miterlimit:10;\" d=\"M 97.179688 123.625 C 97.179688 125.121094 94.941406 125.121094 94.941406 123.625 C 94.941406 122.132813 97.179688 122.132813 97.179688 123.625 \"/>\n",
       "<path style=\"fill:none;stroke-width:0.75;stroke-linecap:round;stroke-linejoin:round;stroke:rgb(0%,0%,0%);stroke-opacity:1;stroke-miterlimit:10;\" d=\"M 97.449219 127.6875 C 97.449219 129.183594 95.207031 129.183594 95.207031 127.6875 C 95.207031 126.195313 97.449219 126.195313 97.449219 127.6875 \"/>\n",
       "<path style=\"fill:none;stroke-width:0.75;stroke-linecap:round;stroke-linejoin:round;stroke:rgb(0%,0%,0%);stroke-opacity:1;stroke-miterlimit:10;\" d=\"M 97.71875 125.992188 C 97.71875 127.484375 95.476563 127.484375 95.476563 125.992188 C 95.476563 124.496094 97.71875 124.496094 97.71875 125.992188 \"/>\n",
       "<path style=\"fill:none;stroke-width:0.75;stroke-linecap:round;stroke-linejoin:round;stroke:rgb(0%,0%,0%);stroke-opacity:1;stroke-miterlimit:10;\" d=\"M 97.988281 150.320313 C 97.988281 151.816406 95.746094 151.816406 95.746094 150.320313 C 95.746094 148.828125 97.988281 148.828125 97.988281 150.320313 \"/>\n",
       "<path style=\"fill:none;stroke-width:0.75;stroke-linecap:round;stroke-linejoin:round;stroke:rgb(0%,0%,0%);stroke-opacity:1;stroke-miterlimit:10;\" d=\"M 98.253906 121.597656 C 98.253906 123.089844 96.015625 123.089844 96.015625 121.597656 C 96.015625 120.101563 98.253906 120.101563 98.253906 121.597656 \"/>\n",
       "<path style=\"fill:none;stroke-width:0.75;stroke-linecap:round;stroke-linejoin:round;stroke:rgb(0%,0%,0%);stroke-opacity:1;stroke-miterlimit:10;\" d=\"M 98.523438 172.542969 C 98.523438 174.035156 96.28125 174.035156 96.28125 172.542969 C 96.28125 171.046875 98.523438 171.046875 98.523438 172.542969 \"/>\n",
       "<path style=\"fill:none;stroke-width:0.75;stroke-linecap:round;stroke-linejoin:round;stroke:rgb(0%,0%,0%);stroke-opacity:1;stroke-miterlimit:10;\" d=\"M 98.792969 100.96875 C 98.792969 102.464844 96.550781 102.464844 96.550781 100.96875 C 96.550781 99.476563 98.792969 99.476563 98.792969 100.96875 \"/>\n",
       "<path style=\"fill:none;stroke-width:0.75;stroke-linecap:round;stroke-linejoin:round;stroke:rgb(0%,0%,0%);stroke-opacity:1;stroke-miterlimit:10;\" d=\"M 99.058594 117.972656 C 99.058594 119.46875 96.820313 119.46875 96.820313 117.972656 C 96.820313 116.480469 99.058594 116.480469 99.058594 117.972656 \"/>\n",
       "<path style=\"fill:none;stroke-width:0.75;stroke-linecap:round;stroke-linejoin:round;stroke:rgb(0%,0%,0%);stroke-opacity:1;stroke-miterlimit:10;\" d=\"M 99.328125 105.082031 C 99.328125 106.578125 97.085938 106.578125 97.085938 105.082031 C 97.085938 103.589844 99.328125 103.589844 99.328125 105.082031 \"/>\n",
       "<path style=\"fill:none;stroke-width:0.75;stroke-linecap:round;stroke-linejoin:round;stroke:rgb(0%,0%,0%);stroke-opacity:1;stroke-miterlimit:10;\" d=\"M 99.597656 123.964844 C 99.597656 125.460938 97.355469 125.460938 97.355469 123.964844 C 97.355469 122.472656 99.597656 122.472656 99.597656 123.964844 \"/>\n",
       "<path style=\"fill:none;stroke-width:0.75;stroke-linecap:round;stroke-linejoin:round;stroke:rgb(0%,0%,0%);stroke-opacity:1;stroke-miterlimit:10;\" d=\"M 99.867188 154.253906 C 99.867188 155.746094 97.625 155.746094 97.625 154.253906 C 97.625 152.757813 99.867188 152.757813 99.867188 154.253906 \"/>\n",
       "<path style=\"fill:none;stroke-width:0.75;stroke-linecap:round;stroke-linejoin:round;stroke:rgb(0%,0%,0%);stroke-opacity:1;stroke-miterlimit:10;\" d=\"M 100.132813 118.09375 C 100.132813 119.585938 97.894531 119.585938 97.894531 118.09375 C 97.894531 116.601563 100.132813 116.601563 100.132813 118.09375 \"/>\n",
       "<path style=\"fill:none;stroke-width:0.75;stroke-linecap:round;stroke-linejoin:round;stroke:rgb(0%,0%,0%);stroke-opacity:1;stroke-miterlimit:10;\" d=\"M 100.402344 121.542969 C 100.402344 123.035156 98.160156 123.035156 98.160156 121.542969 C 98.160156 120.046875 100.402344 120.046875 100.402344 121.542969 \"/>\n",
       "<path style=\"fill:none;stroke-width:0.75;stroke-linecap:round;stroke-linejoin:round;stroke:rgb(0%,0%,0%);stroke-opacity:1;stroke-miterlimit:10;\" d=\"M 100.671875 122.878906 C 100.671875 124.375 98.429688 124.375 98.429688 122.878906 C 98.429688 121.386719 100.671875 121.386719 100.671875 122.878906 \"/>\n",
       "<path style=\"fill:none;stroke-width:0.75;stroke-linecap:round;stroke-linejoin:round;stroke:rgb(0%,0%,0%);stroke-opacity:1;stroke-miterlimit:10;\" d=\"M 100.9375 115.808594 C 100.9375 117.304688 98.699219 117.304688 98.699219 115.808594 C 98.699219 114.316406 100.9375 114.316406 100.9375 115.808594 \"/>\n",
       "<path style=\"fill:none;stroke-width:0.75;stroke-linecap:round;stroke-linejoin:round;stroke:rgb(0%,0%,0%);stroke-opacity:1;stroke-miterlimit:10;\" d=\"M 101.207031 121.539063 C 101.207031 123.035156 98.964844 123.035156 98.964844 121.539063 C 98.964844 120.046875 101.207031 120.046875 101.207031 121.539063 \"/>\n",
       "<path style=\"fill:none;stroke-width:0.75;stroke-linecap:round;stroke-linejoin:round;stroke:rgb(0%,0%,0%);stroke-opacity:1;stroke-miterlimit:10;\" d=\"M 101.476563 123.875 C 101.476563 125.367188 99.234375 125.367188 99.234375 123.875 C 99.234375 122.378906 101.476563 122.378906 101.476563 123.875 \"/>\n",
       "<path style=\"fill:none;stroke-width:0.75;stroke-linecap:round;stroke-linejoin:round;stroke:rgb(0%,0%,0%);stroke-opacity:1;stroke-miterlimit:10;\" d=\"M 101.746094 158.925781 C 101.746094 160.417969 99.503906 160.417969 99.503906 158.925781 C 99.503906 157.429688 101.746094 157.429688 101.746094 158.925781 \"/>\n",
       "<path style=\"fill:none;stroke-width:0.75;stroke-linecap:round;stroke-linejoin:round;stroke:rgb(0%,0%,0%);stroke-opacity:1;stroke-miterlimit:10;\" d=\"M 102.011719 125.945313 C 102.011719 127.441406 99.773438 127.441406 99.773438 125.945313 C 99.773438 124.453125 102.011719 124.453125 102.011719 125.945313 \"/>\n",
       "<path style=\"fill:none;stroke-width:0.75;stroke-linecap:round;stroke-linejoin:round;stroke:rgb(0%,0%,0%);stroke-opacity:1;stroke-miterlimit:10;\" d=\"M 102.28125 124.386719 C 102.28125 125.882813 100.039063 125.882813 100.039063 124.386719 C 100.039063 122.894531 102.28125 122.894531 102.28125 124.386719 \"/>\n",
       "<path style=\"fill:none;stroke-width:0.75;stroke-linecap:round;stroke-linejoin:round;stroke:rgb(0%,0%,0%);stroke-opacity:1;stroke-miterlimit:10;\" d=\"M 102.550781 115.070313 C 102.550781 116.566406 100.308594 116.566406 100.308594 115.070313 C 100.308594 113.578125 102.550781 113.578125 102.550781 115.070313 \"/>\n",
       "<path style=\"fill:none;stroke-width:0.75;stroke-linecap:round;stroke-linejoin:round;stroke:rgb(0%,0%,0%);stroke-opacity:1;stroke-miterlimit:10;\" d=\"M 102.816406 126.203125 C 102.816406 127.699219 100.578125 127.699219 100.578125 126.203125 C 100.578125 124.710938 102.816406 124.710938 102.816406 126.203125 \"/>\n",
       "<path style=\"fill:none;stroke-width:0.75;stroke-linecap:round;stroke-linejoin:round;stroke:rgb(0%,0%,0%);stroke-opacity:1;stroke-miterlimit:10;\" d=\"M 103.085938 120.851563 C 103.085938 122.347656 100.84375 122.347656 100.84375 120.851563 C 100.84375 119.359375 103.085938 119.359375 103.085938 120.851563 \"/>\n",
       "<path style=\"fill:none;stroke-width:0.75;stroke-linecap:round;stroke-linejoin:round;stroke:rgb(0%,0%,0%);stroke-opacity:1;stroke-miterlimit:10;\" d=\"M 103.355469 117.082031 C 103.355469 118.574219 101.113281 118.574219 101.113281 117.082031 C 101.113281 115.585938 103.355469 115.585938 103.355469 117.082031 \"/>\n",
       "<path style=\"fill:none;stroke-width:0.75;stroke-linecap:round;stroke-linejoin:round;stroke:rgb(0%,0%,0%);stroke-opacity:1;stroke-miterlimit:10;\" d=\"M 103.625 149.457031 C 103.625 150.953125 101.382813 150.953125 101.382813 149.457031 C 101.382813 147.964844 103.625 147.964844 103.625 149.457031 \"/>\n",
       "<path style=\"fill:none;stroke-width:0.75;stroke-linecap:round;stroke-linejoin:round;stroke:rgb(0%,0%,0%);stroke-opacity:1;stroke-miterlimit:10;\" d=\"M 103.890625 114.3125 C 103.890625 115.808594 101.652344 115.808594 101.652344 114.3125 C 101.652344 112.820313 103.890625 112.820313 103.890625 114.3125 \"/>\n",
       "<path style=\"fill:none;stroke-width:0.75;stroke-linecap:round;stroke-linejoin:round;stroke:rgb(0%,0%,0%);stroke-opacity:1;stroke-miterlimit:10;\" d=\"M 104.160156 117.867188 C 104.160156 119.359375 101.917969 119.359375 101.917969 117.867188 C 101.917969 116.371094 104.160156 116.371094 104.160156 117.867188 \"/>\n",
       "<path style=\"fill:none;stroke-width:0.75;stroke-linecap:round;stroke-linejoin:round;stroke:rgb(0%,0%,0%);stroke-opacity:1;stroke-miterlimit:10;\" d=\"M 104.429688 124.472656 C 104.429688 125.964844 102.1875 125.964844 102.1875 124.472656 C 102.1875 122.976563 104.429688 122.976563 104.429688 124.472656 \"/>\n",
       "<path style=\"fill:none;stroke-width:0.75;stroke-linecap:round;stroke-linejoin:round;stroke:rgb(0%,0%,0%);stroke-opacity:1;stroke-miterlimit:10;\" d=\"M 104.695313 130.882813 C 104.695313 132.378906 102.457031 132.378906 102.457031 130.882813 C 102.457031 129.390625 104.695313 129.390625 104.695313 130.882813 \"/>\n",
       "<path style=\"fill:none;stroke-width:0.75;stroke-linecap:round;stroke-linejoin:round;stroke:rgb(0%,0%,0%);stroke-opacity:1;stroke-miterlimit:10;\" d=\"M 104.964844 123.3125 C 104.964844 124.808594 102.722656 124.808594 102.722656 123.3125 C 102.722656 121.820313 104.964844 121.820313 104.964844 123.3125 \"/>\n",
       "<path style=\"fill:none;stroke-width:0.75;stroke-linecap:round;stroke-linejoin:round;stroke:rgb(0%,0%,0%);stroke-opacity:1;stroke-miterlimit:10;\" d=\"M 105.234375 129.558594 C 105.234375 131.054688 102.992188 131.054688 102.992188 129.558594 C 102.992188 128.066406 105.234375 128.066406 105.234375 129.558594 \"/>\n",
       "<path style=\"fill:none;stroke-width:0.75;stroke-linecap:round;stroke-linejoin:round;stroke:rgb(0%,0%,0%);stroke-opacity:1;stroke-miterlimit:10;\" d=\"M 105.503906 159.457031 C 105.503906 160.949219 103.261719 160.949219 103.261719 159.457031 C 103.261719 157.960938 105.503906 157.960938 105.503906 159.457031 \"/>\n",
       "<path style=\"fill:none;stroke-width:0.75;stroke-linecap:round;stroke-linejoin:round;stroke:rgb(0%,0%,0%);stroke-opacity:1;stroke-miterlimit:10;\" d=\"M 105.769531 115.972656 C 105.769531 117.464844 103.53125 117.464844 103.53125 115.972656 C 103.53125 114.476563 105.769531 114.476563 105.769531 115.972656 \"/>\n",
       "<path style=\"fill:none;stroke-width:0.75;stroke-linecap:round;stroke-linejoin:round;stroke:rgb(0%,0%,0%);stroke-opacity:1;stroke-miterlimit:10;\" d=\"M 106.039063 124.90625 C 106.039063 126.402344 103.796875 126.402344 103.796875 124.90625 C 103.796875 123.414063 106.039063 123.414063 106.039063 124.90625 \"/>\n",
       "<path style=\"fill:none;stroke-width:0.75;stroke-linecap:round;stroke-linejoin:round;stroke:rgb(0%,0%,0%);stroke-opacity:1;stroke-miterlimit:10;\" d=\"M 106.308594 136.09375 C 106.308594 137.585938 104.066406 137.585938 104.066406 136.09375 C 104.066406 134.597656 106.308594 134.597656 106.308594 136.09375 \"/>\n",
       "<path style=\"fill:none;stroke-width:0.75;stroke-linecap:round;stroke-linejoin:round;stroke:rgb(0%,0%,0%);stroke-opacity:1;stroke-miterlimit:10;\" d=\"M 106.574219 119.804688 C 106.574219 121.300781 104.335938 121.300781 104.335938 119.804688 C 104.335938 118.3125 106.574219 118.3125 106.574219 119.804688 \"/>\n",
       "<path style=\"fill:none;stroke-width:0.75;stroke-linecap:round;stroke-linejoin:round;stroke:rgb(0%,0%,0%);stroke-opacity:1;stroke-miterlimit:10;\" d=\"M 106.84375 112.945313 C 106.84375 114.441406 104.601563 114.441406 104.601563 112.945313 C 104.601563 111.453125 106.84375 111.453125 106.84375 112.945313 \"/>\n",
       "<path style=\"fill:none;stroke-width:0.75;stroke-linecap:round;stroke-linejoin:round;stroke:rgb(0%,0%,0%);stroke-opacity:1;stroke-miterlimit:10;\" d=\"M 107.113281 111.039063 C 107.113281 112.535156 104.871094 112.535156 104.871094 111.039063 C 104.871094 109.546875 107.113281 109.546875 107.113281 111.039063 \"/>\n",
       "<path style=\"fill:none;stroke-width:0.75;stroke-linecap:round;stroke-linejoin:round;stroke:rgb(0%,0%,0%);stroke-opacity:1;stroke-miterlimit:10;\" d=\"M 107.382813 151.957031 C 107.382813 153.453125 105.140625 153.453125 105.140625 151.957031 C 105.140625 150.464844 107.382813 150.464844 107.382813 151.957031 \"/>\n",
       "<path style=\"fill:none;stroke-width:0.75;stroke-linecap:round;stroke-linejoin:round;stroke:rgb(0%,0%,0%);stroke-opacity:1;stroke-miterlimit:10;\" d=\"M 107.648438 120.960938 C 107.648438 122.453125 105.410156 122.453125 105.410156 120.960938 C 105.410156 119.464844 107.648438 119.464844 107.648438 120.960938 \"/>\n",
       "<path style=\"fill:none;stroke-width:0.75;stroke-linecap:round;stroke-linejoin:round;stroke:rgb(0%,0%,0%);stroke-opacity:1;stroke-miterlimit:10;\" d=\"M 107.917969 113.441406 C 107.917969 114.933594 105.675781 114.933594 105.675781 113.441406 C 105.675781 111.945313 107.917969 111.945313 107.917969 113.441406 \"/>\n",
       "<path style=\"fill:none;stroke-width:0.75;stroke-linecap:round;stroke-linejoin:round;stroke:rgb(0%,0%,0%);stroke-opacity:1;stroke-miterlimit:10;\" d=\"M 108.1875 119.511719 C 108.1875 121.003906 105.945313 121.003906 105.945313 119.511719 C 105.945313 118.015625 108.1875 118.015625 108.1875 119.511719 \"/>\n",
       "<path style=\"fill:none;stroke-width:0.75;stroke-linecap:round;stroke-linejoin:round;stroke:rgb(0%,0%,0%);stroke-opacity:1;stroke-miterlimit:10;\" d=\"M 108.453125 125.53125 C 108.453125 127.027344 106.214844 127.027344 106.214844 125.53125 C 106.214844 124.039063 108.453125 124.039063 108.453125 125.53125 \"/>\n",
       "<path style=\"fill:none;stroke-width:0.75;stroke-linecap:round;stroke-linejoin:round;stroke:rgb(0%,0%,0%);stroke-opacity:1;stroke-miterlimit:10;\" d=\"M 108.722656 113.34375 C 108.722656 114.839844 106.480469 114.839844 106.480469 113.34375 C 106.480469 111.851563 108.722656 111.851563 108.722656 113.34375 \"/>\n",
       "<path style=\"fill:none;stroke-width:0.75;stroke-linecap:round;stroke-linejoin:round;stroke:rgb(0%,0%,0%);stroke-opacity:1;stroke-miterlimit:10;\" d=\"M 108.992188 128.722656 C 108.992188 130.21875 106.75 130.21875 106.75 128.722656 C 106.75 127.230469 108.992188 127.230469 108.992188 128.722656 \"/>\n",
       "<path style=\"fill:none;stroke-width:0.75;stroke-linecap:round;stroke-linejoin:round;stroke:rgb(0%,0%,0%);stroke-opacity:1;stroke-miterlimit:10;\" d=\"M 109.261719 154.5 C 109.261719 155.992188 107.019531 155.992188 107.019531 154.5 C 107.019531 153.007813 109.261719 153.007813 109.261719 154.5 \"/>\n",
       "<path style=\"fill:none;stroke-width:0.75;stroke-linecap:round;stroke-linejoin:round;stroke:rgb(0%,0%,0%);stroke-opacity:1;stroke-miterlimit:10;\" d=\"M 109.527344 128.679688 C 109.527344 130.175781 107.289063 130.175781 107.289063 128.679688 C 107.289063 127.1875 109.527344 127.1875 109.527344 128.679688 \"/>\n",
       "<path style=\"fill:none;stroke-width:0.75;stroke-linecap:round;stroke-linejoin:round;stroke:rgb(0%,0%,0%);stroke-opacity:1;stroke-miterlimit:10;\" d=\"M 109.796875 124.441406 C 109.796875 125.933594 107.554688 125.933594 107.554688 124.441406 C 107.554688 122.945313 109.796875 122.945313 109.796875 124.441406 \"/>\n",
       "<path style=\"fill:none;stroke-width:0.75;stroke-linecap:round;stroke-linejoin:round;stroke:rgb(0%,0%,0%);stroke-opacity:1;stroke-miterlimit:10;\" d=\"M 110.066406 125.207031 C 110.066406 126.703125 107.824219 126.703125 107.824219 125.207031 C 107.824219 123.714844 110.066406 123.714844 110.066406 125.207031 \"/>\n",
       "<path style=\"fill:none;stroke-width:0.75;stroke-linecap:round;stroke-linejoin:round;stroke:rgb(0%,0%,0%);stroke-opacity:1;stroke-miterlimit:10;\" d=\"M 110.332031 126.59375 C 110.332031 128.089844 108.09375 128.089844 108.09375 126.59375 C 108.09375 125.101563 110.332031 125.101563 110.332031 126.59375 \"/>\n",
       "<path style=\"fill:none;stroke-width:0.75;stroke-linecap:round;stroke-linejoin:round;stroke:rgb(0%,0%,0%);stroke-opacity:1;stroke-miterlimit:10;\" d=\"M 110.601563 123.382813 C 110.601563 124.878906 108.359375 124.878906 108.359375 123.382813 C 108.359375 121.890625 110.601563 121.890625 110.601563 123.382813 \"/>\n",
       "<path style=\"fill:none;stroke-width:0.75;stroke-linecap:round;stroke-linejoin:round;stroke:rgb(0%,0%,0%);stroke-opacity:1;stroke-miterlimit:10;\" d=\"M 110.871094 132.464844 C 110.871094 133.960938 108.628906 133.960938 108.628906 132.464844 C 108.628906 130.972656 110.871094 130.972656 110.871094 132.464844 \"/>\n",
       "<path style=\"fill:none;stroke-width:0.75;stroke-linecap:round;stroke-linejoin:round;stroke:rgb(0%,0%,0%);stroke-opacity:1;stroke-miterlimit:10;\" d=\"M 111.140625 157 C 111.140625 158.492188 108.898438 158.492188 108.898438 157 C 108.898438 155.503906 111.140625 155.503906 111.140625 157 \"/>\n",
       "<path style=\"fill:none;stroke-width:0.75;stroke-linecap:round;stroke-linejoin:round;stroke:rgb(0%,0%,0%);stroke-opacity:1;stroke-miterlimit:10;\" d=\"M 111.40625 125.390625 C 111.40625 126.886719 109.167969 126.886719 109.167969 125.390625 C 109.167969 123.898438 111.40625 123.898438 111.40625 125.390625 \"/>\n",
       "<path style=\"fill:none;stroke-width:0.75;stroke-linecap:round;stroke-linejoin:round;stroke:rgb(0%,0%,0%);stroke-opacity:1;stroke-miterlimit:10;\" d=\"M 111.675781 118.398438 C 111.675781 119.894531 109.433594 119.894531 109.433594 118.398438 C 109.433594 116.90625 111.675781 116.90625 111.675781 118.398438 \"/>\n",
       "<path style=\"fill:none;stroke-width:0.75;stroke-linecap:round;stroke-linejoin:round;stroke:rgb(0%,0%,0%);stroke-opacity:1;stroke-miterlimit:10;\" d=\"M 111.945313 125.597656 C 111.945313 127.09375 109.703125 127.09375 109.703125 125.597656 C 109.703125 124.105469 111.945313 124.105469 111.945313 125.597656 \"/>\n",
       "<path style=\"fill:none;stroke-width:0.75;stroke-linecap:round;stroke-linejoin:round;stroke:rgb(0%,0%,0%);stroke-opacity:1;stroke-miterlimit:10;\" d=\"M 112.210938 131.742188 C 112.210938 133.238281 109.972656 133.238281 109.972656 131.742188 C 109.972656 130.25 112.210938 130.25 112.210938 131.742188 \"/>\n",
       "<path style=\"fill:none;stroke-width:0.75;stroke-linecap:round;stroke-linejoin:round;stroke:rgb(0%,0%,0%);stroke-opacity:1;stroke-miterlimit:10;\" d=\"M 112.480469 124.078125 C 112.480469 125.570313 110.238281 125.570313 110.238281 124.078125 C 110.238281 122.582031 112.480469 122.582031 112.480469 124.078125 \"/>\n",
       "<path style=\"fill:none;stroke-width:0.75;stroke-linecap:round;stroke-linejoin:round;stroke:rgb(0%,0%,0%);stroke-opacity:1;stroke-miterlimit:10;\" d=\"M 112.75 132.734375 C 112.75 134.226563 110.507813 134.226563 110.507813 132.734375 C 110.507813 131.238281 112.75 131.238281 112.75 132.734375 \"/>\n",
       "<path style=\"fill:none;stroke-width:0.75;stroke-linecap:round;stroke-linejoin:round;stroke:rgb(0%,0%,0%);stroke-opacity:1;stroke-miterlimit:10;\" d=\"M 113.019531 160.03125 C 113.019531 161.523438 110.777344 161.523438 110.777344 160.03125 C 110.777344 158.535156 113.019531 158.535156 113.019531 160.03125 \"/>\n",
       "<path style=\"fill:none;stroke-width:0.75;stroke-linecap:round;stroke-linejoin:round;stroke:rgb(0%,0%,0%);stroke-opacity:1;stroke-miterlimit:10;\" d=\"M 113.285156 125.660156 C 113.285156 127.152344 111.046875 127.152344 111.046875 125.660156 C 111.046875 124.164063 113.285156 124.164063 113.285156 125.660156 \"/>\n",
       "<path style=\"fill:none;stroke-width:0.75;stroke-linecap:round;stroke-linejoin:round;stroke:rgb(0%,0%,0%);stroke-opacity:1;stroke-miterlimit:10;\" d=\"M 113.554688 123.847656 C 113.554688 125.34375 111.3125 125.34375 111.3125 123.847656 C 111.3125 122.355469 113.554688 122.355469 113.554688 123.847656 \"/>\n",
       "<path style=\"fill:none;stroke-width:0.75;stroke-linecap:round;stroke-linejoin:round;stroke:rgb(0%,0%,0%);stroke-opacity:1;stroke-miterlimit:10;\" d=\"M 113.824219 128.265625 C 113.824219 129.757813 111.582031 129.757813 111.582031 128.265625 C 111.582031 126.769531 113.824219 126.769531 113.824219 128.265625 \"/>\n",
       "<path style=\"fill:none;stroke-width:0.75;stroke-linecap:round;stroke-linejoin:round;stroke:rgb(0%,0%,0%);stroke-opacity:1;stroke-miterlimit:10;\" d=\"M 114.089844 102.304688 C 114.089844 103.796875 111.851563 103.796875 111.851563 102.304688 C 111.851563 100.808594 114.089844 100.808594 114.089844 102.304688 \"/>\n",
       "<path style=\"fill:none;stroke-width:0.75;stroke-linecap:round;stroke-linejoin:round;stroke:rgb(0%,0%,0%);stroke-opacity:1;stroke-miterlimit:10;\" d=\"M 114.359375 87.457031 C 114.359375 88.953125 112.117188 88.953125 112.117188 87.457031 C 112.117188 85.964844 114.359375 85.964844 114.359375 87.457031 \"/>\n",
       "<path style=\"fill:none;stroke-width:0.75;stroke-linecap:round;stroke-linejoin:round;stroke:rgb(0%,0%,0%);stroke-opacity:1;stroke-miterlimit:10;\" d=\"M 114.628906 102.410156 C 114.628906 103.90625 112.386719 103.90625 112.386719 102.410156 C 112.386719 100.917969 114.628906 100.917969 114.628906 102.410156 \"/>\n",
       "<path style=\"fill:none;stroke-width:0.75;stroke-linecap:round;stroke-linejoin:round;stroke:rgb(0%,0%,0%);stroke-opacity:1;stroke-miterlimit:10;\" d=\"M 114.898438 135.125 C 114.898438 136.621094 112.65625 136.621094 112.65625 135.125 C 112.65625 133.632813 114.898438 133.632813 114.898438 135.125 \"/>\n",
       "<path style=\"fill:none;stroke-width:0.75;stroke-linecap:round;stroke-linejoin:round;stroke:rgb(0%,0%,0%);stroke-opacity:1;stroke-miterlimit:10;\" d=\"M 115.164063 78.867188 C 115.164063 80.359375 112.925781 80.359375 112.925781 78.867188 C 112.925781 77.371094 115.164063 77.371094 115.164063 78.867188 \"/>\n",
       "<path style=\"fill:none;stroke-width:0.75;stroke-linecap:round;stroke-linejoin:round;stroke:rgb(0%,0%,0%);stroke-opacity:1;stroke-miterlimit:10;\" d=\"M 115.433594 65.808594 C 115.433594 67.300781 113.191406 67.300781 113.191406 65.808594 C 113.191406 64.3125 115.433594 64.3125 115.433594 65.808594 \"/>\n",
       "<path style=\"fill:none;stroke-width:0.75;stroke-linecap:round;stroke-linejoin:round;stroke:rgb(0%,0%,0%);stroke-opacity:1;stroke-miterlimit:10;\" d=\"M 115.703125 64.59375 C 115.703125 66.085938 113.460938 66.085938 113.460938 64.59375 C 113.460938 63.097656 115.703125 63.097656 115.703125 64.59375 \"/>\n",
       "<path style=\"fill:none;stroke-width:0.75;stroke-linecap:round;stroke-linejoin:round;stroke:rgb(0%,0%,0%);stroke-opacity:1;stroke-miterlimit:10;\" d=\"M 115.96875 88.296875 C 115.96875 89.792969 113.730469 89.792969 113.730469 88.296875 C 113.730469 86.804688 115.96875 86.804688 115.96875 88.296875 \"/>\n",
       "<path style=\"fill:none;stroke-width:0.75;stroke-linecap:round;stroke-linejoin:round;stroke:rgb(0%,0%,0%);stroke-opacity:1;stroke-miterlimit:10;\" d=\"M 116.238281 62.628906 C 116.238281 64.125 113.996094 64.125 113.996094 62.628906 C 113.996094 61.136719 116.238281 61.136719 116.238281 62.628906 \"/>\n",
       "<path style=\"fill:none;stroke-width:0.75;stroke-linecap:round;stroke-linejoin:round;stroke:rgb(0%,0%,0%);stroke-opacity:1;stroke-miterlimit:10;\" d=\"M 116.507813 92.132813 C 116.507813 93.625 114.265625 93.625 114.265625 92.132813 C 114.265625 90.636719 116.507813 90.636719 116.507813 92.132813 \"/>\n",
       "<path style=\"fill:none;stroke-width:0.75;stroke-linecap:round;stroke-linejoin:round;stroke:rgb(0%,0%,0%);stroke-opacity:1;stroke-miterlimit:10;\" d=\"M 116.777344 128.996094 C 116.777344 130.492188 114.535156 130.492188 114.535156 128.996094 C 114.535156 127.503906 116.777344 127.503906 116.777344 128.996094 \"/>\n",
       "<path style=\"fill:none;stroke-width:0.75;stroke-linecap:round;stroke-linejoin:round;stroke:rgb(0%,0%,0%);stroke-opacity:1;stroke-miterlimit:10;\" d=\"M 117.042969 84.261719 C 117.042969 85.753906 114.804688 85.753906 114.804688 84.261719 C 114.804688 82.765625 117.042969 82.765625 117.042969 84.261719 \"/>\n",
       "<path style=\"fill:none;stroke-width:0.75;stroke-linecap:round;stroke-linejoin:round;stroke:rgb(0%,0%,0%);stroke-opacity:1;stroke-miterlimit:10;\" d=\"M 117.3125 71.320313 C 117.3125 72.8125 115.070313 72.8125 115.070313 71.320313 C 115.070313 69.824219 117.3125 69.824219 117.3125 71.320313 \"/>\n",
       "<path style=\"fill:none;stroke-width:0.75;stroke-linecap:round;stroke-linejoin:round;stroke:rgb(0%,0%,0%);stroke-opacity:1;stroke-miterlimit:10;\" d=\"M 117.582031 73.59375 C 117.582031 75.085938 115.339844 75.085938 115.339844 73.59375 C 115.339844 72.101563 117.582031 72.101563 117.582031 73.59375 \"/>\n",
       "<path style=\"fill:none;stroke-width:0.75;stroke-linecap:round;stroke-linejoin:round;stroke:rgb(0%,0%,0%);stroke-opacity:1;stroke-miterlimit:10;\" d=\"M 117.847656 94 C 117.847656 95.496094 115.609375 95.496094 115.609375 94 C 115.609375 92.507813 117.847656 92.507813 117.847656 94 \"/>\n",
       "<path style=\"fill:none;stroke-width:0.75;stroke-linecap:round;stroke-linejoin:round;stroke:rgb(0%,0%,0%);stroke-opacity:1;stroke-miterlimit:10;\" d=\"M 118.117188 95.253906 C 118.117188 96.746094 115.875 96.746094 115.875 95.253906 C 115.875 93.757813 118.117188 93.757813 118.117188 95.253906 \"/>\n",
       "<path style=\"fill:none;stroke-width:0.75;stroke-linecap:round;stroke-linejoin:round;stroke:rgb(0%,0%,0%);stroke-opacity:1;stroke-miterlimit:10;\" d=\"M 118.386719 93.429688 C 118.386719 94.921875 116.144531 94.921875 116.144531 93.429688 C 116.144531 91.933594 118.386719 91.933594 118.386719 93.429688 \"/>\n",
       "<path style=\"fill:none;stroke-width:0.75;stroke-linecap:round;stroke-linejoin:round;stroke:rgb(0%,0%,0%);stroke-opacity:1;stroke-miterlimit:10;\" d=\"M 118.65625 140.773438 C 118.65625 142.269531 116.414063 142.269531 116.414063 140.773438 C 116.414063 139.28125 118.65625 139.28125 118.65625 140.773438 \"/>\n",
       "<path style=\"fill:none;stroke-width:0.75;stroke-linecap:round;stroke-linejoin:round;stroke:rgb(0%,0%,0%);stroke-opacity:1;stroke-miterlimit:10;\" d=\"M 118.921875 93.488281 C 118.921875 94.984375 116.683594 94.984375 116.683594 93.488281 C 116.683594 91.996094 118.921875 91.996094 118.921875 93.488281 \"/>\n",
       "<path style=\"fill:none;stroke-width:0.75;stroke-linecap:round;stroke-linejoin:round;stroke:rgb(0%,0%,0%);stroke-opacity:1;stroke-miterlimit:10;\" d=\"M 119.191406 84.050781 C 119.191406 85.546875 116.949219 85.546875 116.949219 84.050781 C 116.949219 82.558594 119.191406 82.558594 119.191406 84.050781 \"/>\n",
       "<path style=\"fill:none;stroke-width:0.75;stroke-linecap:round;stroke-linejoin:round;stroke:rgb(0%,0%,0%);stroke-opacity:1;stroke-miterlimit:10;\" d=\"M 119.460938 103.585938 C 119.460938 105.078125 117.21875 105.078125 117.21875 103.585938 C 117.21875 102.09375 119.460938 102.09375 119.460938 103.585938 \"/>\n",
       "<path style=\"fill:none;stroke-width:0.75;stroke-linecap:round;stroke-linejoin:round;stroke:rgb(0%,0%,0%);stroke-opacity:1;stroke-miterlimit:10;\" d=\"M 119.726563 91.523438 C 119.726563 93.019531 117.488281 93.019531 117.488281 91.523438 C 117.488281 90.03125 119.726563 90.03125 119.726563 91.523438 \"/>\n",
       "<path style=\"fill:none;stroke-width:0.75;stroke-linecap:round;stroke-linejoin:round;stroke:rgb(0%,0%,0%);stroke-opacity:1;stroke-miterlimit:10;\" d=\"M 119.996094 98.167969 C 119.996094 99.664063 117.753906 99.664063 117.753906 98.167969 C 117.753906 96.675781 119.996094 96.675781 119.996094 98.167969 \"/>\n",
       "<path style=\"fill:none;stroke-width:0.75;stroke-linecap:round;stroke-linejoin:round;stroke:rgb(0%,0%,0%);stroke-opacity:1;stroke-miterlimit:10;\" d=\"M 120.265625 106.757813 C 120.265625 108.25 118.023438 108.25 118.023438 106.757813 C 118.023438 105.261719 120.265625 105.261719 120.265625 106.757813 \"/>\n",
       "<path style=\"fill:none;stroke-width:0.75;stroke-linecap:round;stroke-linejoin:round;stroke:rgb(0%,0%,0%);stroke-opacity:1;stroke-miterlimit:10;\" d=\"M 120.535156 135.761719 C 120.535156 137.257813 118.292969 137.257813 118.292969 135.761719 C 118.292969 134.269531 120.535156 134.269531 120.535156 135.761719 \"/>\n",
       "<path style=\"fill:none;stroke-width:0.75;stroke-linecap:round;stroke-linejoin:round;stroke:rgb(0%,0%,0%);stroke-opacity:1;stroke-miterlimit:10;\" d=\"M 120.800781 93.339844 C 120.800781 94.832031 118.5625 94.832031 118.5625 93.339844 C 118.5625 91.84375 120.800781 91.84375 120.800781 93.339844 \"/>\n",
       "<path style=\"fill:none;stroke-width:0.75;stroke-linecap:round;stroke-linejoin:round;stroke:rgb(0%,0%,0%);stroke-opacity:1;stroke-miterlimit:10;\" d=\"M 121.070313 94.140625 C 121.070313 95.636719 118.828125 95.636719 118.828125 94.140625 C 118.828125 92.648438 121.070313 92.648438 121.070313 94.140625 \"/>\n",
       "<path style=\"fill:none;stroke-width:0.75;stroke-linecap:round;stroke-linejoin:round;stroke:rgb(0%,0%,0%);stroke-opacity:1;stroke-miterlimit:10;\" d=\"M 121.339844 81.90625 C 121.339844 83.402344 119.097656 83.402344 119.097656 81.90625 C 119.097656 80.414063 121.339844 80.414063 121.339844 81.90625 \"/>\n",
       "<path style=\"fill:none;stroke-width:0.75;stroke-linecap:round;stroke-linejoin:round;stroke:rgb(0%,0%,0%);stroke-opacity:1;stroke-miterlimit:10;\" d=\"M 121.605469 90.457031 C 121.605469 91.949219 119.367188 91.949219 119.367188 90.457031 C 119.367188 88.960938 121.605469 88.960938 121.605469 90.457031 \"/>\n",
       "<path style=\"fill:none;stroke-width:0.75;stroke-linecap:round;stroke-linejoin:round;stroke:rgb(0%,0%,0%);stroke-opacity:1;stroke-miterlimit:10;\" d=\"M 121.875 100.722656 C 121.875 102.21875 119.632813 102.21875 119.632813 100.722656 C 119.632813 99.230469 121.875 99.230469 121.875 100.722656 \"/>\n",
       "<path style=\"fill:none;stroke-width:0.75;stroke-linecap:round;stroke-linejoin:round;stroke:rgb(0%,0%,0%);stroke-opacity:1;stroke-miterlimit:10;\" d=\"M 122.144531 93.585938 C 122.144531 95.078125 119.902344 95.078125 119.902344 93.585938 C 119.902344 92.089844 122.144531 92.089844 122.144531 93.585938 \"/>\n",
       "<path style=\"fill:none;stroke-width:0.75;stroke-linecap:round;stroke-linejoin:round;stroke:rgb(0%,0%,0%);stroke-opacity:1;stroke-miterlimit:10;\" d=\"M 122.414063 145.21875 C 122.414063 146.710938 120.171875 146.710938 120.171875 145.21875 C 120.171875 143.722656 122.414063 143.722656 122.414063 145.21875 \"/>\n",
       "<path style=\"fill:none;stroke-width:0.75;stroke-linecap:round;stroke-linejoin:round;stroke:rgb(0%,0%,0%);stroke-opacity:1;stroke-miterlimit:10;\" d=\"M 122.679688 85.292969 C 122.679688 86.785156 120.441406 86.785156 120.441406 85.292969 C 120.441406 83.796875 122.679688 83.796875 122.679688 85.292969 \"/>\n",
       "<path style=\"fill:none;stroke-width:0.75;stroke-linecap:round;stroke-linejoin:round;stroke:rgb(0%,0%,0%);stroke-opacity:1;stroke-miterlimit:10;\" d=\"M 122.949219 95.007813 C 122.949219 96.503906 120.707031 96.503906 120.707031 95.007813 C 120.707031 93.515625 122.949219 93.515625 122.949219 95.007813 \"/>\n",
       "<path style=\"fill:none;stroke-width:0.75;stroke-linecap:round;stroke-linejoin:round;stroke:rgb(0%,0%,0%);stroke-opacity:1;stroke-miterlimit:10;\" d=\"M 123.21875 80.597656 C 123.21875 82.09375 120.976563 82.09375 120.976563 80.597656 C 120.976563 79.105469 123.21875 79.105469 123.21875 80.597656 \"/>\n",
       "<path style=\"fill:none;stroke-width:0.75;stroke-linecap:round;stroke-linejoin:round;stroke:rgb(0%,0%,0%);stroke-opacity:1;stroke-miterlimit:10;\" d=\"M 123.484375 75.878906 C 123.484375 77.375 121.246094 77.375 121.246094 75.878906 C 121.246094 74.386719 123.484375 74.386719 123.484375 75.878906 \"/>\n",
       "<path style=\"fill:none;stroke-width:0.75;stroke-linecap:round;stroke-linejoin:round;stroke:rgb(0%,0%,0%);stroke-opacity:1;stroke-miterlimit:10;\" d=\"M 123.753906 85.292969 C 123.753906 86.785156 121.511719 86.785156 121.511719 85.292969 C 121.511719 83.800781 123.753906 83.800781 123.753906 85.292969 \"/>\n",
       "<path style=\"fill:none;stroke-width:0.75;stroke-linecap:round;stroke-linejoin:round;stroke:rgb(0%,0%,0%);stroke-opacity:1;stroke-miterlimit:10;\" d=\"M 124.023438 98.617188 C 124.023438 100.109375 121.78125 100.109375 121.78125 98.617188 C 121.78125 97.121094 124.023438 97.121094 124.023438 98.617188 \"/>\n",
       "<path style=\"fill:none;stroke-width:0.75;stroke-linecap:round;stroke-linejoin:round;stroke:rgb(0%,0%,0%);stroke-opacity:1;stroke-miterlimit:10;\" d=\"M 124.289063 135.515625 C 124.289063 137.007813 122.050781 137.007813 122.050781 135.515625 C 122.050781 134.023438 124.289063 134.023438 124.289063 135.515625 \"/>\n",
       "<path style=\"fill:none;stroke-width:0.75;stroke-linecap:round;stroke-linejoin:round;stroke:rgb(0%,0%,0%);stroke-opacity:1;stroke-miterlimit:10;\" d=\"M 124.558594 78.597656 C 124.558594 80.09375 122.320313 80.09375 122.320313 78.597656 C 122.320313 77.105469 124.558594 77.105469 124.558594 78.597656 \"/>\n",
       "<path style=\"fill:none;stroke-width:0.75;stroke-linecap:round;stroke-linejoin:round;stroke:rgb(0%,0%,0%);stroke-opacity:1;stroke-miterlimit:10;\" d=\"M 124.828125 82.007813 C 124.828125 83.5 122.585938 83.5 122.585938 82.007813 C 122.585938 80.511719 124.828125 80.511719 124.828125 82.007813 \"/>\n",
       "<path style=\"fill:none;stroke-width:0.75;stroke-linecap:round;stroke-linejoin:round;stroke:rgb(0%,0%,0%);stroke-opacity:1;stroke-miterlimit:10;\" d=\"M 125.097656 91.347656 C 125.097656 92.839844 122.855469 92.839844 122.855469 91.347656 C 122.855469 89.851563 125.097656 89.851563 125.097656 91.347656 \"/>\n",
       "<path style=\"fill:none;stroke-width:0.75;stroke-linecap:round;stroke-linejoin:round;stroke:rgb(0%,0%,0%);stroke-opacity:1;stroke-miterlimit:10;\" d=\"M 125.363281 90.011719 C 125.363281 91.503906 123.125 91.503906 123.125 90.011719 C 123.125 88.515625 125.363281 88.515625 125.363281 90.011719 \"/>\n",
       "<path style=\"fill:none;stroke-width:0.75;stroke-linecap:round;stroke-linejoin:round;stroke:rgb(0%,0%,0%);stroke-opacity:1;stroke-miterlimit:10;\" d=\"M 125.632813 105.722656 C 125.632813 107.21875 123.390625 107.21875 123.390625 105.722656 C 123.390625 104.230469 125.632813 104.230469 125.632813 105.722656 \"/>\n",
       "<path style=\"fill:none;stroke-width:0.75;stroke-linecap:round;stroke-linejoin:round;stroke:rgb(0%,0%,0%);stroke-opacity:1;stroke-miterlimit:10;\" d=\"M 125.902344 99.949219 C 125.902344 101.445313 123.660156 101.445313 123.660156 99.949219 C 123.660156 98.457031 125.902344 98.457031 125.902344 99.949219 \"/>\n",
       "<path style=\"fill:none;stroke-width:0.75;stroke-linecap:round;stroke-linejoin:round;stroke:rgb(0%,0%,0%);stroke-opacity:1;stroke-miterlimit:10;\" d=\"M 126.167969 140.1875 C 126.167969 141.679688 123.929688 141.679688 123.929688 140.1875 C 123.929688 138.691406 126.167969 138.691406 126.167969 140.1875 \"/>\n",
       "<path style=\"fill:none;stroke-width:0.75;stroke-linecap:round;stroke-linejoin:round;stroke:rgb(0%,0%,0%);stroke-opacity:1;stroke-miterlimit:10;\" d=\"M 126.4375 86.808594 C 126.4375 88.300781 124.199219 88.300781 124.199219 86.808594 C 124.199219 85.3125 126.4375 85.3125 126.4375 86.808594 \"/>\n",
       "<path style=\"fill:none;stroke-width:0.75;stroke-linecap:round;stroke-linejoin:round;stroke:rgb(0%,0%,0%);stroke-opacity:1;stroke-miterlimit:10;\" d=\"M 126.707031 89.253906 C 126.707031 90.746094 124.464844 90.746094 124.464844 89.253906 C 124.464844 87.757813 126.707031 87.757813 126.707031 89.253906 \"/>\n",
       "<path style=\"fill:none;stroke-width:0.75;stroke-linecap:round;stroke-linejoin:round;stroke:rgb(0%,0%,0%);stroke-opacity:1;stroke-miterlimit:10;\" d=\"M 126.976563 92.5625 C 126.976563 94.054688 124.734375 94.054688 124.734375 92.5625 C 124.734375 91.066406 126.976563 91.066406 126.976563 92.5625 \"/>\n",
       "<path style=\"fill:none;stroke-width:0.75;stroke-linecap:round;stroke-linejoin:round;stroke:rgb(0%,0%,0%);stroke-opacity:1;stroke-miterlimit:10;\" d=\"M 127.242188 98.726563 C 127.242188 100.222656 125.003906 100.222656 125.003906 98.726563 C 125.003906 97.234375 127.242188 97.234375 127.242188 98.726563 \"/>\n",
       "<path style=\"fill:none;stroke-width:0.75;stroke-linecap:round;stroke-linejoin:round;stroke:rgb(0%,0%,0%);stroke-opacity:1;stroke-miterlimit:10;\" d=\"M 127.511719 93.917969 C 127.511719 95.410156 125.269531 95.410156 125.269531 93.917969 C 125.269531 92.421875 127.511719 92.421875 127.511719 93.917969 \"/>\n",
       "<path style=\"fill:none;stroke-width:0.75;stroke-linecap:round;stroke-linejoin:round;stroke:rgb(0%,0%,0%);stroke-opacity:1;stroke-miterlimit:10;\" d=\"M 127.78125 103.640625 C 127.78125 105.136719 125.539063 105.136719 125.539063 103.640625 C 125.539063 102.148438 127.78125 102.148438 127.78125 103.640625 \"/>\n",
       "<path style=\"fill:none;stroke-width:0.75;stroke-linecap:round;stroke-linejoin:round;stroke:rgb(0%,0%,0%);stroke-opacity:1;stroke-miterlimit:10;\" d=\"M 128.046875 141.195313 C 128.046875 142.6875 125.808594 142.6875 125.808594 141.195313 C 125.808594 139.699219 128.046875 139.699219 128.046875 141.195313 \"/>\n",
       "<path style=\"fill:none;stroke-width:0.75;stroke-linecap:round;stroke-linejoin:round;stroke:rgb(0%,0%,0%);stroke-opacity:1;stroke-miterlimit:10;\" d=\"M 128.316406 78.078125 C 128.316406 79.570313 126.074219 79.570313 126.074219 78.078125 C 126.074219 76.582031 128.316406 76.582031 128.316406 78.078125 \"/>\n",
       "<path style=\"fill:none;stroke-width:0.75;stroke-linecap:round;stroke-linejoin:round;stroke:rgb(0%,0%,0%);stroke-opacity:1;stroke-miterlimit:10;\" d=\"M 128.585938 84.261719 C 128.585938 85.753906 126.34375 85.753906 126.34375 84.261719 C 126.34375 82.765625 128.585938 82.765625 128.585938 84.261719 \"/>\n",
       "<path style=\"fill:none;stroke-width:0.75;stroke-linecap:round;stroke-linejoin:round;stroke:rgb(0%,0%,0%);stroke-opacity:1;stroke-miterlimit:10;\" d=\"M 128.855469 97.042969 C 128.855469 98.535156 126.613281 98.535156 126.613281 97.042969 C 126.613281 95.550781 128.855469 95.550781 128.855469 97.042969 \"/>\n",
       "<path style=\"fill:none;stroke-width:0.75;stroke-linecap:round;stroke-linejoin:round;stroke:rgb(0%,0%,0%);stroke-opacity:1;stroke-miterlimit:10;\" d=\"M 129.121094 86.777344 C 129.121094 88.269531 126.882813 88.269531 126.882813 86.777344 C 126.882813 85.28125 129.121094 85.28125 129.121094 86.777344 \"/>\n",
       "<path style=\"fill:none;stroke-width:0.75;stroke-linecap:round;stroke-linejoin:round;stroke:rgb(0%,0%,0%);stroke-opacity:1;stroke-miterlimit:10;\" d=\"M 129.390625 95.535156 C 129.390625 97.03125 127.148438 97.03125 127.148438 95.535156 C 127.148438 94.042969 129.390625 94.042969 129.390625 95.535156 \"/>\n",
       "<path style=\"fill:none;stroke-width:0.75;stroke-linecap:round;stroke-linejoin:round;stroke:rgb(0%,0%,0%);stroke-opacity:1;stroke-miterlimit:10;\" d=\"M 129.660156 113.878906 C 129.660156 115.371094 127.417969 115.371094 127.417969 113.878906 C 127.417969 112.382813 129.660156 112.382813 129.660156 113.878906 \"/>\n",
       "<path style=\"fill:none;stroke-width:0.75;stroke-linecap:round;stroke-linejoin:round;stroke:rgb(0%,0%,0%);stroke-opacity:1;stroke-miterlimit:10;\" d=\"M 129.925781 139.867188 C 129.925781 141.363281 127.6875 141.363281 127.6875 139.867188 C 127.6875 138.375 129.925781 138.375 129.925781 139.867188 \"/>\n",
       "<path style=\"fill:none;stroke-width:0.75;stroke-linecap:round;stroke-linejoin:round;stroke:rgb(0%,0%,0%);stroke-opacity:1;stroke-miterlimit:10;\" d=\"M 130.195313 84.363281 C 130.195313 85.855469 127.953125 85.855469 127.953125 84.363281 C 127.953125 82.867188 130.195313 82.867188 130.195313 84.363281 \"/>\n",
       "<path style=\"fill:none;stroke-width:0.75;stroke-linecap:round;stroke-linejoin:round;stroke:rgb(0%,0%,0%);stroke-opacity:1;stroke-miterlimit:10;\" d=\"M 130.464844 97.417969 C 130.464844 98.910156 128.222656 98.910156 128.222656 97.417969 C 128.222656 95.925781 130.464844 95.925781 130.464844 97.417969 \"/>\n",
       "<path style=\"fill:none;stroke-width:0.75;stroke-linecap:round;stroke-linejoin:round;stroke:rgb(0%,0%,0%);stroke-opacity:1;stroke-miterlimit:10;\" d=\"M 130.734375 93.457031 C 130.734375 94.953125 128.492188 94.953125 128.492188 93.457031 C 128.492188 91.964844 130.734375 91.964844 130.734375 93.457031 \"/>\n",
       "<path style=\"fill:none;stroke-width:0.75;stroke-linecap:round;stroke-linejoin:round;stroke:rgb(0%,0%,0%);stroke-opacity:1;stroke-miterlimit:10;\" d=\"M 131 88.585938 C 131 90.082031 128.761719 90.082031 128.761719 88.585938 C 128.761719 87.09375 131 87.09375 131 88.585938 \"/>\n",
       "<path style=\"fill:none;stroke-width:0.75;stroke-linecap:round;stroke-linejoin:round;stroke:rgb(0%,0%,0%);stroke-opacity:1;stroke-miterlimit:10;\" d=\"M 131.269531 82.453125 C 131.269531 83.945313 129.027344 83.945313 129.027344 82.453125 C 129.027344 80.957031 131.269531 80.957031 131.269531 82.453125 \"/>\n",
       "<path style=\"fill:none;stroke-width:0.75;stroke-linecap:round;stroke-linejoin:round;stroke:rgb(0%,0%,0%);stroke-opacity:1;stroke-miterlimit:10;\" d=\"M 131.539063 88.722656 C 131.539063 90.214844 129.296875 90.214844 129.296875 88.722656 C 129.296875 87.226563 131.539063 87.226563 131.539063 88.722656 \"/>\n",
       "<path style=\"fill:none;stroke-width:0.75;stroke-linecap:round;stroke-linejoin:round;stroke:rgb(0%,0%,0%);stroke-opacity:1;stroke-miterlimit:10;\" d=\"M 131.804688 137.3125 C 131.804688 138.804688 129.566406 138.804688 129.566406 137.3125 C 129.566406 135.816406 131.804688 135.816406 131.804688 137.3125 \"/>\n",
       "<path style=\"fill:none;stroke-width:0.75;stroke-linecap:round;stroke-linejoin:round;stroke:rgb(0%,0%,0%);stroke-opacity:1;stroke-miterlimit:10;\" d=\"M 132.074219 91.585938 C 132.074219 93.082031 129.832031 93.082031 129.832031 91.585938 C 129.832031 90.09375 132.074219 90.09375 132.074219 91.585938 \"/>\n",
       "<path style=\"fill:none;stroke-width:0.75;stroke-linecap:round;stroke-linejoin:round;stroke:rgb(0%,0%,0%);stroke-opacity:1;stroke-miterlimit:10;\" d=\"M 132.34375 83.371094 C 132.34375 84.867188 130.101563 84.867188 130.101563 83.371094 C 130.101563 81.878906 132.34375 81.878906 132.34375 83.371094 \"/>\n",
       "<path style=\"fill:none;stroke-width:0.75;stroke-linecap:round;stroke-linejoin:round;stroke:rgb(0%,0%,0%);stroke-opacity:1;stroke-miterlimit:10;\" d=\"M 132.613281 91.105469 C 132.613281 92.601563 130.371094 92.601563 130.371094 91.105469 C 130.371094 89.613281 132.613281 89.613281 132.613281 91.105469 \"/>\n",
       "<path style=\"fill:none;stroke-width:0.75;stroke-linecap:round;stroke-linejoin:round;stroke:rgb(0%,0%,0%);stroke-opacity:1;stroke-miterlimit:10;\" d=\"M 132.878906 79.960938 C 132.878906 81.457031 130.640625 81.457031 130.640625 79.960938 C 130.640625 78.46875 132.878906 78.46875 132.878906 79.960938 \"/>\n",
       "<path style=\"fill:none;stroke-width:0.75;stroke-linecap:round;stroke-linejoin:round;stroke:rgb(0%,0%,0%);stroke-opacity:1;stroke-miterlimit:10;\" d=\"M 133.148438 105.820313 C 133.148438 107.3125 130.90625 107.3125 130.90625 105.820313 C 130.90625 104.324219 133.148438 104.324219 133.148438 105.820313 \"/>\n",
       "<path style=\"fill:none;stroke-width:0.75;stroke-linecap:round;stroke-linejoin:round;stroke:rgb(0%,0%,0%);stroke-opacity:1;stroke-miterlimit:10;\" d=\"M 133.417969 98.132813 C 133.417969 99.625 131.175781 99.625 131.175781 98.132813 C 131.175781 96.640625 133.417969 96.640625 133.417969 98.132813 \"/>\n",
       "<path style=\"fill:none;stroke-width:0.75;stroke-linecap:round;stroke-linejoin:round;stroke:rgb(0%,0%,0%);stroke-opacity:1;stroke-miterlimit:10;\" d=\"M 133.683594 146.070313 C 133.683594 147.5625 131.445313 147.5625 131.445313 146.070313 C 131.445313 144.574219 133.683594 144.574219 133.683594 146.070313 \"/>\n",
       "<path style=\"fill:none;stroke-width:0.75;stroke-linecap:round;stroke-linejoin:round;stroke:rgb(0%,0%,0%);stroke-opacity:1;stroke-miterlimit:10;\" d=\"M 133.953125 78.707031 C 133.953125 80.199219 131.710938 80.199219 131.710938 78.707031 C 131.710938 77.214844 133.953125 77.214844 133.953125 78.707031 \"/>\n",
       "<path style=\"fill:none;stroke-width:0.75;stroke-linecap:round;stroke-linejoin:round;stroke:rgb(0%,0%,0%);stroke-opacity:1;stroke-miterlimit:10;\" d=\"M 134.222656 84.140625 C 134.222656 85.632813 131.980469 85.632813 131.980469 84.140625 C 131.980469 82.648438 134.222656 82.648438 134.222656 84.140625 \"/>\n",
       "<path style=\"fill:none;stroke-width:0.75;stroke-linecap:round;stroke-linejoin:round;stroke:rgb(0%,0%,0%);stroke-opacity:1;stroke-miterlimit:10;\" d=\"M 134.492188 78.976563 C 134.492188 80.46875 132.25 80.46875 132.25 78.976563 C 132.25 77.480469 134.492188 77.480469 134.492188 78.976563 \"/>\n",
       "<path style=\"fill:none;stroke-width:0.75;stroke-linecap:round;stroke-linejoin:round;stroke:rgb(0%,0%,0%);stroke-opacity:1;stroke-miterlimit:10;\" d=\"M 134.757813 90.265625 C 134.757813 91.757813 132.519531 91.757813 132.519531 90.265625 C 132.519531 88.773438 134.757813 88.773438 134.757813 90.265625 \"/>\n",
       "<path style=\"fill:none;stroke-width:0.75;stroke-linecap:round;stroke-linejoin:round;stroke:rgb(0%,0%,0%);stroke-opacity:1;stroke-miterlimit:10;\" d=\"M 135.027344 74.175781 C 135.027344 75.667969 132.785156 75.667969 132.785156 74.175781 C 132.785156 72.683594 135.027344 72.683594 135.027344 74.175781 \"/>\n",
       "<path style=\"fill:none;stroke-width:0.75;stroke-linecap:round;stroke-linejoin:round;stroke:rgb(0%,0%,0%);stroke-opacity:1;stroke-miterlimit:10;\" d=\"M 135.296875 106.050781 C 135.296875 107.542969 133.054688 107.542969 133.054688 106.050781 C 133.054688 104.554688 135.296875 104.554688 135.296875 106.050781 \"/>\n",
       "<path style=\"fill:none;stroke-width:0.75;stroke-linecap:round;stroke-linejoin:round;stroke:rgb(0%,0%,0%);stroke-opacity:1;stroke-miterlimit:10;\" d=\"M 135.5625 138.640625 C 135.5625 140.136719 133.324219 140.136719 133.324219 138.640625 C 133.324219 137.148438 135.5625 137.148438 135.5625 138.640625 \"/>\n",
       "<path style=\"fill:none;stroke-width:0.75;stroke-linecap:round;stroke-linejoin:round;stroke:rgb(0%,0%,0%);stroke-opacity:1;stroke-miterlimit:10;\" d=\"M 135.832031 85.851563 C 135.832031 87.347656 133.589844 87.347656 133.589844 85.851563 C 133.589844 84.359375 135.832031 84.359375 135.832031 85.851563 \"/>\n",
       "<path style=\"fill:none;stroke-width:0.75;stroke-linecap:round;stroke-linejoin:round;stroke:rgb(0%,0%,0%);stroke-opacity:1;stroke-miterlimit:10;\" d=\"M 136.101563 68.851563 C 136.101563 70.34375 133.859375 70.34375 133.859375 68.851563 C 133.859375 67.355469 136.101563 67.355469 136.101563 68.851563 \"/>\n",
       "<path style=\"fill:none;stroke-width:0.75;stroke-linecap:round;stroke-linejoin:round;stroke:rgb(0%,0%,0%);stroke-opacity:1;stroke-miterlimit:10;\" d=\"M 136.371094 99.859375 C 136.371094 101.355469 134.128906 101.355469 134.128906 99.859375 C 134.128906 98.367188 136.371094 98.367188 136.371094 99.859375 \"/>\n",
       "<path style=\"fill:none;stroke-width:0.75;stroke-linecap:round;stroke-linejoin:round;stroke:rgb(0%,0%,0%);stroke-opacity:1;stroke-miterlimit:10;\" d=\"M 136.636719 74.199219 C 136.636719 75.691406 134.398438 75.691406 134.398438 74.199219 C 134.398438 72.703125 136.636719 72.703125 136.636719 74.199219 \"/>\n",
       "<path style=\"fill:none;stroke-width:0.75;stroke-linecap:round;stroke-linejoin:round;stroke:rgb(0%,0%,0%);stroke-opacity:1;stroke-miterlimit:10;\" d=\"M 136.90625 104.054688 C 136.90625 105.546875 134.664063 105.546875 134.664063 104.054688 C 134.664063 102.558594 136.90625 102.558594 136.90625 104.054688 \"/>\n",
       "<path style=\"fill:none;stroke-width:0.75;stroke-linecap:round;stroke-linejoin:round;stroke:rgb(0%,0%,0%);stroke-opacity:1;stroke-miterlimit:10;\" d=\"M 137.175781 100.632813 C 137.175781 102.125 134.933594 102.125 134.933594 100.632813 C 134.933594 99.136719 137.175781 99.136719 137.175781 100.632813 \"/>\n",
       "<path style=\"fill:none;stroke-width:0.75;stroke-linecap:round;stroke-linejoin:round;stroke:rgb(0%,0%,0%);stroke-opacity:1;stroke-miterlimit:10;\" d=\"M 137.441406 136.507813 C 137.441406 138 135.203125 138 135.203125 136.507813 C 135.203125 135.011719 137.441406 135.011719 137.441406 136.507813 \"/>\n",
       "<path style=\"fill:none;stroke-width:0.75;stroke-linecap:round;stroke-linejoin:round;stroke:rgb(0%,0%,0%);stroke-opacity:1;stroke-miterlimit:10;\" d=\"M 137.710938 98.089844 C 137.710938 99.585938 135.46875 99.585938 135.46875 98.089844 C 135.46875 96.597656 137.710938 96.597656 137.710938 98.089844 \"/>\n",
       "<path style=\"fill:none;stroke-width:0.75;stroke-linecap:round;stroke-linejoin:round;stroke:rgb(0%,0%,0%);stroke-opacity:1;stroke-miterlimit:10;\" d=\"M 137.980469 94.863281 C 137.980469 96.359375 135.738281 96.359375 135.738281 94.863281 C 135.738281 93.371094 137.980469 93.371094 137.980469 94.863281 \"/>\n",
       "<path style=\"fill:none;stroke-width:0.75;stroke-linecap:round;stroke-linejoin:round;stroke:rgb(0%,0%,0%);stroke-opacity:1;stroke-miterlimit:10;\" d=\"M 138.25 114.941406 C 138.25 116.4375 136.007813 116.4375 136.007813 114.941406 C 136.007813 113.449219 138.25 113.449219 138.25 114.941406 \"/>\n",
       "<path style=\"fill:none;stroke-width:0.75;stroke-linecap:round;stroke-linejoin:round;stroke:rgb(0%,0%,0%);stroke-opacity:1;stroke-miterlimit:10;\" d=\"M 138.515625 103.25 C 138.515625 104.746094 136.277344 104.746094 136.277344 103.25 C 136.277344 101.757813 138.515625 101.757813 138.515625 103.25 \"/>\n",
       "<path style=\"fill:none;stroke-width:0.75;stroke-linecap:round;stroke-linejoin:round;stroke:rgb(0%,0%,0%);stroke-opacity:1;stroke-miterlimit:10;\" d=\"M 138.785156 82.917969 C 138.785156 84.414063 136.542969 84.414063 136.542969 82.917969 C 136.542969 81.425781 138.785156 81.425781 138.785156 82.917969 \"/>\n",
       "<path style=\"fill:none;stroke-width:0.75;stroke-linecap:round;stroke-linejoin:round;stroke:rgb(0%,0%,0%);stroke-opacity:1;stroke-miterlimit:10;\" d=\"M 139.054688 92.707031 C 139.054688 94.199219 136.8125 94.199219 136.8125 92.707031 C 136.8125 91.210938 139.054688 91.210938 139.054688 92.707031 \"/>\n",
       "<path style=\"fill:none;stroke-width:0.75;stroke-linecap:round;stroke-linejoin:round;stroke:rgb(0%,0%,0%);stroke-opacity:1;stroke-miterlimit:10;\" d=\"M 139.320313 136.640625 C 139.320313 138.132813 137.082031 138.132813 137.082031 136.640625 C 137.082031 135.144531 139.320313 135.144531 139.320313 136.640625 \"/>\n",
       "<path style=\"fill:none;stroke-width:0.75;stroke-linecap:round;stroke-linejoin:round;stroke:rgb(0%,0%,0%);stroke-opacity:1;stroke-miterlimit:10;\" d=\"M 139.589844 78.632813 C 139.589844 80.128906 137.347656 80.128906 137.347656 78.632813 C 137.347656 77.140625 139.589844 77.140625 139.589844 78.632813 \"/>\n",
       "<path style=\"fill:none;stroke-width:0.75;stroke-linecap:round;stroke-linejoin:round;stroke:rgb(0%,0%,0%);stroke-opacity:1;stroke-miterlimit:10;\" d=\"M 139.859375 75.5625 C 139.859375 77.054688 137.617188 77.054688 137.617188 75.5625 C 137.617188 74.066406 139.859375 74.066406 139.859375 75.5625 \"/>\n",
       "<path style=\"fill:none;stroke-width:0.75;stroke-linecap:round;stroke-linejoin:round;stroke:rgb(0%,0%,0%);stroke-opacity:1;stroke-miterlimit:10;\" d=\"M 140.128906 92.347656 C 140.128906 93.84375 137.886719 93.84375 137.886719 92.347656 C 137.886719 90.855469 140.128906 90.855469 140.128906 92.347656 \"/>\n",
       "<path style=\"fill:none;stroke-width:0.75;stroke-linecap:round;stroke-linejoin:round;stroke:rgb(0%,0%,0%);stroke-opacity:1;stroke-miterlimit:10;\" d=\"M 140.394531 86.226563 C 140.394531 87.71875 138.15625 87.71875 138.15625 86.226563 C 138.15625 84.730469 140.394531 84.730469 140.394531 86.226563 \"/>\n",
       "<path style=\"fill:none;stroke-width:0.75;stroke-linecap:round;stroke-linejoin:round;stroke:rgb(0%,0%,0%);stroke-opacity:1;stroke-miterlimit:10;\" d=\"M 140.664063 71.996094 C 140.664063 73.488281 138.421875 73.488281 138.421875 71.996094 C 138.421875 70.5 140.664063 70.5 140.664063 71.996094 \"/>\n",
       "<path style=\"fill:none;stroke-width:0.75;stroke-linecap:round;stroke-linejoin:round;stroke:rgb(0%,0%,0%);stroke-opacity:1;stroke-miterlimit:10;\" d=\"M 140.933594 100.585938 C 140.933594 102.078125 138.691406 102.078125 138.691406 100.585938 C 138.691406 99.089844 140.933594 99.089844 140.933594 100.585938 \"/>\n",
       "<path style=\"fill:none;stroke-width:0.75;stroke-linecap:round;stroke-linejoin:round;stroke:rgb(0%,0%,0%);stroke-opacity:1;stroke-miterlimit:10;\" d=\"M 141.199219 135.304688 C 141.199219 136.800781 138.960938 136.800781 138.960938 135.304688 C 138.960938 133.8125 141.199219 133.8125 141.199219 135.304688 \"/>\n",
       "<path style=\"fill:none;stroke-width:0.75;stroke-linecap:round;stroke-linejoin:round;stroke:rgb(0%,0%,0%);stroke-opacity:1;stroke-miterlimit:10;\" d=\"M 141.46875 83.855469 C 141.46875 85.347656 139.226563 85.347656 139.226563 83.855469 C 139.226563 82.359375 141.46875 82.359375 141.46875 83.855469 \"/>\n",
       "<path style=\"fill:none;stroke-width:0.75;stroke-linecap:round;stroke-linejoin:round;stroke:rgb(0%,0%,0%);stroke-opacity:1;stroke-miterlimit:10;\" d=\"M 141.738281 93.074219 C 141.738281 94.566406 139.496094 94.566406 139.496094 93.074219 C 139.496094 91.578125 141.738281 91.578125 141.738281 93.074219 \"/>\n",
       "<path style=\"fill:none;stroke-width:0.75;stroke-linecap:round;stroke-linejoin:round;stroke:rgb(0%,0%,0%);stroke-opacity:1;stroke-miterlimit:10;\" d=\"M 142.007813 88.324219 C 142.007813 89.820313 139.765625 89.820313 139.765625 88.324219 C 139.765625 86.832031 142.007813 86.832031 142.007813 88.324219 \"/>\n",
       "<path style=\"fill:none;stroke-width:0.75;stroke-linecap:round;stroke-linejoin:round;stroke:rgb(0%,0%,0%);stroke-opacity:1;stroke-miterlimit:10;\" d=\"M 142.273438 86.304688 C 142.273438 87.796875 140.035156 87.796875 140.035156 86.304688 C 140.035156 84.808594 142.273438 84.808594 142.273438 86.304688 \"/>\n",
       "<path style=\"fill:none;stroke-width:0.75;stroke-linecap:round;stroke-linejoin:round;stroke:rgb(0%,0%,0%);stroke-opacity:1;stroke-miterlimit:10;\" d=\"M 142.542969 114.09375 C 142.542969 115.585938 140.300781 115.585938 140.300781 114.09375 C 140.300781 112.597656 142.542969 112.597656 142.542969 114.09375 \"/>\n",
       "<path style=\"fill:none;stroke-width:0.75;stroke-linecap:round;stroke-linejoin:round;stroke:rgb(0%,0%,0%);stroke-opacity:1;stroke-miterlimit:10;\" d=\"M 142.8125 105.789063 C 142.8125 107.28125 140.570313 107.28125 140.570313 105.789063 C 140.570313 104.296875 142.8125 104.296875 142.8125 105.789063 \"/>\n",
       "<path style=\"fill:none;stroke-width:0.75;stroke-linecap:round;stroke-linejoin:round;stroke:rgb(0%,0%,0%);stroke-opacity:1;stroke-miterlimit:10;\" d=\"M 143.078125 145.855469 C 143.078125 147.351563 140.839844 147.351563 140.839844 145.855469 C 140.839844 144.363281 143.078125 144.363281 143.078125 145.855469 \"/>\n",
       "<path style=\"fill:none;stroke-width:0.75;stroke-linecap:round;stroke-linejoin:round;stroke:rgb(0%,0%,0%);stroke-opacity:1;stroke-miterlimit:10;\" d=\"M 143.347656 149.242188 C 143.347656 150.738281 141.105469 150.738281 141.105469 149.242188 C 141.105469 147.75 143.347656 147.75 143.347656 149.242188 \"/>\n",
       "<path style=\"fill:none;stroke-width:0.75;stroke-linecap:round;stroke-linejoin:round;stroke:rgb(0%,0%,0%);stroke-opacity:1;stroke-miterlimit:10;\" d=\"M 143.617188 66.734375 C 143.617188 68.226563 141.375 68.226563 141.375 66.734375 C 141.375 65.238281 143.617188 65.238281 143.617188 66.734375 \"/>\n",
       "<path style=\"fill:none;stroke-width:0.75;stroke-linecap:round;stroke-linejoin:round;stroke:rgb(0%,0%,0%);stroke-opacity:1;stroke-miterlimit:10;\" d=\"M 143.886719 73.527344 C 143.886719 75.019531 141.644531 75.019531 141.644531 73.527344 C 141.644531 72.03125 143.886719 72.03125 143.886719 73.527344 \"/>\n",
       "<path style=\"fill:none;stroke-width:0.75;stroke-linecap:round;stroke-linejoin:round;stroke:rgb(0%,0%,0%);stroke-opacity:1;stroke-miterlimit:10;\" d=\"M 144.152344 77.503906 C 144.152344 79 141.914063 79 141.914063 77.503906 C 141.914063 76.011719 144.152344 76.011719 144.152344 77.503906 \"/>\n",
       "<path style=\"fill:none;stroke-width:0.75;stroke-linecap:round;stroke-linejoin:round;stroke:rgb(0%,0%,0%);stroke-opacity:1;stroke-miterlimit:10;\" d=\"M 144.421875 100.84375 C 144.421875 102.335938 142.179688 102.335938 142.179688 100.84375 C 142.179688 99.347656 144.421875 99.347656 144.421875 100.84375 \"/>\n",
       "<path style=\"fill:none;stroke-width:0.75;stroke-linecap:round;stroke-linejoin:round;stroke:rgb(0%,0%,0%);stroke-opacity:1;stroke-miterlimit:10;\" d=\"M 144.691406 109.445313 C 144.691406 110.941406 142.449219 110.941406 142.449219 109.445313 C 142.449219 107.953125 144.691406 107.953125 144.691406 109.445313 \"/>\n",
       "<path style=\"fill:none;stroke-width:0.75;stroke-linecap:round;stroke-linejoin:round;stroke:rgb(0%,0%,0%);stroke-opacity:1;stroke-miterlimit:10;\" d=\"M 144.957031 150.433594 C 144.957031 151.925781 142.71875 151.925781 142.71875 150.433594 C 142.71875 148.941406 144.957031 148.941406 144.957031 150.433594 \"/>\n",
       "<path style=\"fill:none;stroke-width:0.75;stroke-linecap:round;stroke-linejoin:round;stroke:rgb(0%,0%,0%);stroke-opacity:1;stroke-miterlimit:10;\" d=\"M 145.226563 85.570313 C 145.226563 87.0625 142.984375 87.0625 142.984375 85.570313 C 142.984375 84.074219 145.226563 84.074219 145.226563 85.570313 \"/>\n",
       "<path style=\"fill:none;stroke-width:0.75;stroke-linecap:round;stroke-linejoin:round;stroke:rgb(0%,0%,0%);stroke-opacity:1;stroke-miterlimit:10;\" d=\"M 145.496094 105.425781 C 145.496094 106.921875 143.253906 106.921875 143.253906 105.425781 C 143.253906 103.933594 145.496094 103.933594 145.496094 105.425781 \"/>\n",
       "<path style=\"fill:none;stroke-width:0.75;stroke-linecap:round;stroke-linejoin:round;stroke:rgb(0%,0%,0%);stroke-opacity:1;stroke-miterlimit:10;\" d=\"M 145.765625 98.398438 C 145.765625 99.890625 143.523438 99.890625 143.523438 98.398438 C 143.523438 96.90625 145.765625 96.90625 145.765625 98.398438 \"/>\n",
       "<path style=\"fill:none;stroke-width:0.75;stroke-linecap:round;stroke-linejoin:round;stroke:rgb(0%,0%,0%);stroke-opacity:1;stroke-miterlimit:10;\" d=\"M 146.03125 100.339844 C 146.03125 101.835938 143.792969 101.835938 143.792969 100.339844 C 143.792969 98.847656 146.03125 98.847656 146.03125 100.339844 \"/>\n",
       "<path style=\"fill:none;stroke-width:0.75;stroke-linecap:round;stroke-linejoin:round;stroke:rgb(0%,0%,0%);stroke-opacity:1;stroke-miterlimit:10;\" d=\"M 146.300781 104.675781 C 146.300781 106.167969 144.058594 106.167969 144.058594 104.675781 C 144.058594 103.179688 146.300781 103.179688 146.300781 104.675781 \"/>\n",
       "<path style=\"fill:none;stroke-width:0.75;stroke-linecap:round;stroke-linejoin:round;stroke:rgb(0%,0%,0%);stroke-opacity:1;stroke-miterlimit:10;\" d=\"M 146.570313 114.773438 C 146.570313 116.265625 144.328125 116.265625 144.328125 114.773438 C 144.328125 113.277344 146.570313 113.277344 146.570313 114.773438 \"/>\n",
       "<path style=\"fill:none;stroke-width:0.75;stroke-linecap:round;stroke-linejoin:round;stroke:rgb(0%,0%,0%);stroke-opacity:1;stroke-miterlimit:10;\" d=\"M 146.835938 135.335938 C 146.835938 136.832031 144.597656 136.832031 144.597656 135.335938 C 144.597656 133.84375 146.835938 133.84375 146.835938 135.335938 \"/>\n",
       "<path style=\"fill:none;stroke-width:0.75;stroke-linecap:round;stroke-linejoin:round;stroke:rgb(0%,0%,0%);stroke-opacity:1;stroke-miterlimit:10;\" d=\"M 147.105469 103.367188 C 147.105469 104.859375 144.863281 104.859375 144.863281 103.367188 C 144.863281 101.871094 147.105469 101.871094 147.105469 103.367188 \"/>\n",
       "<path style=\"fill:none;stroke-width:0.75;stroke-linecap:round;stroke-linejoin:round;stroke:rgb(0%,0%,0%);stroke-opacity:1;stroke-miterlimit:10;\" d=\"M 147.375 93.878906 C 147.375 95.375 145.132813 95.375 145.132813 93.878906 C 145.132813 92.386719 147.375 92.386719 147.375 93.878906 \"/>\n",
       "<path style=\"fill:none;stroke-width:0.75;stroke-linecap:round;stroke-linejoin:round;stroke:rgb(0%,0%,0%);stroke-opacity:1;stroke-miterlimit:10;\" d=\"M 147.644531 96.550781 C 147.644531 98.042969 145.402344 98.042969 145.402344 96.550781 C 145.402344 95.054688 147.644531 95.054688 147.644531 96.550781 \"/>\n",
       "<path style=\"fill:none;stroke-width:0.75;stroke-linecap:round;stroke-linejoin:round;stroke:rgb(0%,0%,0%);stroke-opacity:1;stroke-miterlimit:10;\" d=\"M 147.910156 98.011719 C 147.910156 99.507813 145.671875 99.507813 145.671875 98.011719 C 145.671875 96.519531 147.910156 96.519531 147.910156 98.011719 \"/>\n",
       "<path style=\"fill:none;stroke-width:0.75;stroke-linecap:round;stroke-linejoin:round;stroke:rgb(0%,0%,0%);stroke-opacity:1;stroke-miterlimit:10;\" d=\"M 148.179688 110.609375 C 148.179688 112.105469 145.9375 112.105469 145.9375 110.609375 C 145.9375 109.117188 148.179688 109.117188 148.179688 110.609375 \"/>\n",
       "<path style=\"fill:none;stroke-width:0.75;stroke-linecap:round;stroke-linejoin:round;stroke:rgb(0%,0%,0%);stroke-opacity:1;stroke-miterlimit:10;\" d=\"M 148.449219 103.109375 C 148.449219 104.601563 146.207031 104.601563 146.207031 103.109375 C 146.207031 101.613281 148.449219 101.613281 148.449219 103.109375 \"/>\n",
       "<path style=\"fill:none;stroke-width:0.75;stroke-linecap:round;stroke-linejoin:round;stroke:rgb(0%,0%,0%);stroke-opacity:1;stroke-miterlimit:10;\" d=\"M 148.714844 140.757813 C 148.714844 142.25 146.476563 142.25 146.476563 140.757813 C 146.476563 139.265625 148.714844 139.265625 148.714844 140.757813 \"/>\n",
       "<path style=\"fill:none;stroke-width:0.75;stroke-linecap:round;stroke-linejoin:round;stroke:rgb(0%,0%,0%);stroke-opacity:1;stroke-miterlimit:10;\" d=\"M 148.984375 99.546875 C 148.984375 101.042969 146.742188 101.042969 146.742188 99.546875 C 146.742188 98.054688 148.984375 98.054688 148.984375 99.546875 \"/>\n",
       "<path style=\"fill:none;stroke-width:0.75;stroke-linecap:round;stroke-linejoin:round;stroke:rgb(0%,0%,0%);stroke-opacity:1;stroke-miterlimit:10;\" d=\"M 149.253906 93.742188 C 149.253906 95.234375 147.011719 95.234375 147.011719 93.742188 C 147.011719 92.246094 149.253906 92.246094 149.253906 93.742188 \"/>\n",
       "<path style=\"fill:none;stroke-width:0.75;stroke-linecap:round;stroke-linejoin:round;stroke:rgb(0%,0%,0%);stroke-opacity:1;stroke-miterlimit:10;\" d=\"M 149.523438 87.644531 C 149.523438 89.140625 147.28125 89.140625 147.28125 87.644531 C 147.28125 86.152344 149.523438 86.152344 149.523438 87.644531 \"/>\n",
       "<path style=\"fill:none;stroke-width:0.75;stroke-linecap:round;stroke-linejoin:round;stroke:rgb(0%,0%,0%);stroke-opacity:1;stroke-miterlimit:10;\" d=\"M 149.789063 94.769531 C 149.789063 96.265625 147.550781 96.265625 147.550781 94.769531 C 147.550781 93.277344 149.789063 93.277344 149.789063 94.769531 \"/>\n",
       "<path style=\"fill:none;stroke-width:0.75;stroke-linecap:round;stroke-linejoin:round;stroke:rgb(0%,0%,0%);stroke-opacity:1;stroke-miterlimit:10;\" d=\"M 150.058594 93.589844 C 150.058594 95.085938 147.816406 95.085938 147.816406 93.589844 C 147.816406 92.097656 150.058594 92.097656 150.058594 93.589844 \"/>\n",
       "<path style=\"fill:none;stroke-width:0.75;stroke-linecap:round;stroke-linejoin:round;stroke:rgb(0%,0%,0%);stroke-opacity:1;stroke-miterlimit:10;\" d=\"M 150.328125 112.027344 C 150.328125 113.523438 148.085938 113.523438 148.085938 112.027344 C 148.085938 110.535156 150.328125 110.535156 150.328125 112.027344 \"/>\n",
       "<path style=\"fill:none;stroke-width:0.75;stroke-linecap:round;stroke-linejoin:round;stroke:rgb(0%,0%,0%);stroke-opacity:1;stroke-miterlimit:10;\" d=\"M 150.59375 140.789063 C 150.59375 142.285156 148.355469 142.285156 148.355469 140.789063 C 148.355469 139.296875 150.59375 139.296875 150.59375 140.789063 \"/>\n",
       "<path style=\"fill:none;stroke-width:0.75;stroke-linecap:round;stroke-linejoin:round;stroke:rgb(0%,0%,0%);stroke-opacity:1;stroke-miterlimit:10;\" d=\"M 150.863281 81.167969 C 150.863281 82.660156 148.621094 82.660156 148.621094 81.167969 C 148.621094 79.671875 150.863281 79.671875 150.863281 81.167969 \"/>\n",
       "<path style=\"fill:none;stroke-width:0.75;stroke-linecap:round;stroke-linejoin:round;stroke:rgb(0%,0%,0%);stroke-opacity:1;stroke-miterlimit:10;\" d=\"M 151.132813 101.089844 C 151.132813 102.582031 148.890625 102.582031 148.890625 101.089844 C 148.890625 99.59375 151.132813 99.59375 151.132813 101.089844 \"/>\n",
       "<path style=\"fill:none;stroke-width:0.75;stroke-linecap:round;stroke-linejoin:round;stroke:rgb(0%,0%,0%);stroke-opacity:1;stroke-miterlimit:10;\" d=\"M 151.402344 81.324219 C 151.402344 82.820313 149.160156 82.820313 149.160156 81.324219 C 149.160156 79.832031 151.402344 79.832031 151.402344 81.324219 \"/>\n",
       "<path style=\"fill:none;stroke-width:0.75;stroke-linecap:round;stroke-linejoin:round;stroke:rgb(0%,0%,0%);stroke-opacity:1;stroke-miterlimit:10;\" d=\"M 151.667969 115.09375 C 151.667969 116.585938 149.429688 116.585938 149.429688 115.09375 C 149.429688 113.601563 151.667969 113.601563 151.667969 115.09375 \"/>\n",
       "<path style=\"fill:none;stroke-width:0.75;stroke-linecap:round;stroke-linejoin:round;stroke:rgb(0%,0%,0%);stroke-opacity:1;stroke-miterlimit:10;\" d=\"M 151.9375 94.78125 C 151.9375 96.273438 149.695313 96.273438 149.695313 94.78125 C 149.695313 93.285156 151.9375 93.285156 151.9375 94.78125 \"/>\n",
       "<path style=\"fill:none;stroke-width:0.75;stroke-linecap:round;stroke-linejoin:round;stroke:rgb(0%,0%,0%);stroke-opacity:1;stroke-miterlimit:10;\" d=\"M 152.207031 109.605469 C 152.207031 111.101563 149.964844 111.101563 149.964844 109.605469 C 149.964844 108.113281 152.207031 108.113281 152.207031 109.605469 \"/>\n",
       "<path style=\"fill:none;stroke-width:0.75;stroke-linecap:round;stroke-linejoin:round;stroke:rgb(0%,0%,0%);stroke-opacity:1;stroke-miterlimit:10;\" d=\"M 152.472656 148.953125 C 152.472656 150.445313 150.234375 150.445313 150.234375 148.953125 C 150.234375 147.457031 152.472656 147.457031 152.472656 148.953125 \"/>\n",
       "<path style=\"fill:none;stroke-width:0.75;stroke-linecap:round;stroke-linejoin:round;stroke:rgb(0%,0%,0%);stroke-opacity:1;stroke-miterlimit:10;\" d=\"M 152.742188 98.65625 C 152.742188 100.148438 150.5 100.148438 150.5 98.65625 C 150.5 97.164063 152.742188 97.164063 152.742188 98.65625 \"/>\n",
       "<path style=\"fill:none;stroke-width:0.75;stroke-linecap:round;stroke-linejoin:round;stroke:rgb(0%,0%,0%);stroke-opacity:1;stroke-miterlimit:10;\" d=\"M 153.011719 133.921875 C 153.011719 135.417969 150.769531 135.417969 150.769531 133.921875 C 150.769531 132.429688 153.011719 132.429688 153.011719 133.921875 \"/>\n",
       "<path style=\"fill:none;stroke-width:0.75;stroke-linecap:round;stroke-linejoin:round;stroke:rgb(0%,0%,0%);stroke-opacity:1;stroke-miterlimit:10;\" d=\"M 153.28125 88.527344 C 153.28125 90.019531 151.039063 90.019531 151.039063 88.527344 C 151.039063 87.03125 153.28125 87.03125 153.28125 88.527344 \"/>\n",
       "<path style=\"fill:none;stroke-width:0.75;stroke-linecap:round;stroke-linejoin:round;stroke:rgb(0%,0%,0%);stroke-opacity:1;stroke-miterlimit:10;\" d=\"M 153.546875 100.765625 C 153.546875 102.261719 151.308594 102.261719 151.308594 100.765625 C 151.308594 99.273438 153.546875 99.273438 153.546875 100.765625 \"/>\n",
       "<path style=\"fill:none;stroke-width:0.75;stroke-linecap:round;stroke-linejoin:round;stroke:rgb(0%,0%,0%);stroke-opacity:1;stroke-miterlimit:10;\" d=\"M 153.816406 93.207031 C 153.816406 94.699219 151.574219 94.699219 151.574219 93.207031 C 151.574219 91.710938 153.816406 91.710938 153.816406 93.207031 \"/>\n",
       "<path style=\"fill:none;stroke-width:0.75;stroke-linecap:round;stroke-linejoin:round;stroke:rgb(0%,0%,0%);stroke-opacity:1;stroke-miterlimit:10;\" d=\"M 154.085938 113.984375 C 154.085938 115.480469 151.84375 115.480469 151.84375 113.984375 C 151.84375 112.492188 154.085938 112.492188 154.085938 113.984375 \"/>\n",
       "<path style=\"fill:none;stroke-width:0.75;stroke-linecap:round;stroke-linejoin:round;stroke:rgb(0%,0%,0%);stroke-opacity:1;stroke-miterlimit:10;\" d=\"M 154.351563 149.589844 C 154.351563 151.085938 152.113281 151.085938 152.113281 149.589844 C 152.113281 148.097656 154.351563 148.097656 154.351563 149.589844 \"/>\n",
       "<path style=\"fill:none;stroke-width:0.75;stroke-linecap:round;stroke-linejoin:round;stroke:rgb(0%,0%,0%);stroke-opacity:1;stroke-miterlimit:10;\" d=\"M 154.621094 110.085938 C 154.621094 111.578125 152.378906 111.578125 152.378906 110.085938 C 152.378906 108.589844 154.621094 108.589844 154.621094 110.085938 \"/>\n",
       "<path style=\"fill:none;stroke-width:0.75;stroke-linecap:round;stroke-linejoin:round;stroke:rgb(0%,0%,0%);stroke-opacity:1;stroke-miterlimit:10;\" d=\"M 154.890625 97.667969 C 154.890625 99.160156 152.648438 99.160156 152.648438 97.667969 C 152.648438 96.175781 154.890625 96.175781 154.890625 97.667969 \"/>\n",
       "<path style=\"fill:none;stroke-width:0.75;stroke-linecap:round;stroke-linejoin:round;stroke:rgb(0%,0%,0%);stroke-opacity:1;stroke-miterlimit:10;\" d=\"M 155.160156 104.746094 C 155.160156 106.238281 152.917969 106.238281 152.917969 104.746094 C 152.917969 103.25 155.160156 103.25 155.160156 104.746094 \"/>\n",
       "<path style=\"fill:none;stroke-width:0.75;stroke-linecap:round;stroke-linejoin:round;stroke:rgb(0%,0%,0%);stroke-opacity:1;stroke-miterlimit:10;\" d=\"M 155.425781 99.121094 C 155.425781 100.617188 153.1875 100.617188 153.1875 99.121094 C 153.1875 97.628906 155.425781 97.628906 155.425781 99.121094 \"/>\n",
       "<path style=\"fill:none;stroke-width:0.75;stroke-linecap:round;stroke-linejoin:round;stroke:rgb(0%,0%,0%);stroke-opacity:1;stroke-miterlimit:10;\" d=\"M 155.695313 92.230469 C 155.695313 93.722656 153.453125 93.722656 153.453125 92.230469 C 153.453125 90.734375 155.695313 90.734375 155.695313 92.230469 \"/>\n",
       "<path style=\"fill:none;stroke-width:0.75;stroke-linecap:round;stroke-linejoin:round;stroke:rgb(0%,0%,0%);stroke-opacity:1;stroke-miterlimit:10;\" d=\"M 155.964844 101.207031 C 155.964844 102.699219 153.722656 102.699219 153.722656 101.207031 C 153.722656 99.710938 155.964844 99.710938 155.964844 101.207031 \"/>\n",
       "<path style=\"fill:none;stroke-width:0.75;stroke-linecap:round;stroke-linejoin:round;stroke:rgb(0%,0%,0%);stroke-opacity:1;stroke-miterlimit:10;\" d=\"M 156.230469 129.664063 C 156.230469 131.15625 153.992188 131.15625 153.992188 129.664063 C 153.992188 128.171875 156.230469 128.171875 156.230469 129.664063 \"/>\n",
       "<path style=\"fill:none;stroke-width:0.75;stroke-linecap:round;stroke-linejoin:round;stroke:rgb(0%,0%,0%);stroke-opacity:1;stroke-miterlimit:10;\" d=\"M 156.5 84.917969 C 156.5 86.410156 154.257813 86.410156 154.257813 84.917969 C 154.257813 83.421875 156.5 83.421875 156.5 84.917969 \"/>\n",
       "<path style=\"fill:none;stroke-width:0.75;stroke-linecap:round;stroke-linejoin:round;stroke:rgb(0%,0%,0%);stroke-opacity:1;stroke-miterlimit:10;\" d=\"M 156.769531 83.234375 C 156.769531 84.730469 154.527344 84.730469 154.527344 83.234375 C 154.527344 81.742188 156.769531 81.742188 156.769531 83.234375 \"/>\n",
       "<path style=\"fill:none;stroke-width:0.75;stroke-linecap:round;stroke-linejoin:round;stroke:rgb(0%,0%,0%);stroke-opacity:1;stroke-miterlimit:10;\" d=\"M 157.039063 54.265625 C 157.039063 55.757813 154.796875 55.757813 154.796875 54.265625 C 154.796875 52.769531 157.039063 52.769531 157.039063 54.265625 \"/>\n",
       "<path style=\"fill:none;stroke-width:0.75;stroke-linecap:round;stroke-linejoin:round;stroke:rgb(0%,0%,0%);stroke-opacity:1;stroke-miterlimit:10;\" d=\"M 157.304688 71.953125 C 157.304688 73.449219 155.066406 73.449219 155.066406 71.953125 C 155.066406 70.460938 157.304688 70.460938 157.304688 71.953125 \"/>\n",
       "<path style=\"fill:none;stroke-width:0.75;stroke-linecap:round;stroke-linejoin:round;stroke:rgb(0%,0%,0%);stroke-opacity:1;stroke-miterlimit:10;\" d=\"M 157.574219 87.402344 C 157.574219 88.898438 155.332031 88.898438 155.332031 87.402344 C 155.332031 85.910156 157.574219 85.910156 157.574219 87.402344 \"/>\n",
       "<path style=\"fill:none;stroke-width:0.75;stroke-linecap:round;stroke-linejoin:round;stroke:rgb(0%,0%,0%);stroke-opacity:1;stroke-miterlimit:10;\" d=\"M 157.84375 96.15625 C 157.84375 97.648438 155.601563 97.648438 155.601563 96.15625 C 155.601563 94.660156 157.84375 94.660156 157.84375 96.15625 \"/>\n",
       "<path style=\"fill:none;stroke-width:0.75;stroke-linecap:round;stroke-linejoin:round;stroke:rgb(0%,0%,0%);stroke-opacity:1;stroke-miterlimit:10;\" d=\"M 158.109375 132.945313 C 158.109375 134.4375 155.871094 134.4375 155.871094 132.945313 C 155.871094 131.449219 158.109375 131.449219 158.109375 132.945313 \"/>\n",
       "<path style=\"fill:none;stroke-width:0.75;stroke-linecap:round;stroke-linejoin:round;stroke:rgb(0%,0%,0%);stroke-opacity:1;stroke-miterlimit:10;\" d=\"M 158.378906 89.664063 C 158.378906 91.160156 156.136719 91.160156 156.136719 89.664063 C 156.136719 88.171875 158.378906 88.171875 158.378906 89.664063 \"/>\n",
       "<path style=\"fill:none;stroke-width:0.75;stroke-linecap:round;stroke-linejoin:round;stroke:rgb(0%,0%,0%);stroke-opacity:1;stroke-miterlimit:10;\" d=\"M 158.648438 89.472656 C 158.648438 90.964844 156.40625 90.964844 156.40625 89.472656 C 156.40625 87.976563 158.648438 87.976563 158.648438 89.472656 \"/>\n",
       "<path style=\"fill:none;stroke-width:0.75;stroke-linecap:round;stroke-linejoin:round;stroke:rgb(0%,0%,0%);stroke-opacity:1;stroke-miterlimit:10;\" d=\"M 158.914063 86.136719 C 158.914063 87.628906 156.675781 87.628906 156.675781 86.136719 C 156.675781 84.640625 158.914063 84.640625 158.914063 86.136719 \"/>\n",
       "<path style=\"fill:none;stroke-width:0.75;stroke-linecap:round;stroke-linejoin:round;stroke:rgb(0%,0%,0%);stroke-opacity:1;stroke-miterlimit:10;\" d=\"M 159.183594 94.457031 C 159.183594 95.953125 156.945313 95.953125 156.945313 94.457031 C 156.945313 92.964844 159.183594 92.964844 159.183594 94.457031 \"/>\n",
       "<path style=\"fill:none;stroke-width:0.75;stroke-linecap:round;stroke-linejoin:round;stroke:rgb(0%,0%,0%);stroke-opacity:1;stroke-miterlimit:10;\" d=\"M 159.453125 88.824219 C 159.453125 90.316406 157.210938 90.316406 157.210938 88.824219 C 157.210938 87.328125 159.453125 87.328125 159.453125 88.824219 \"/>\n",
       "<path style=\"fill:none;stroke-width:0.75;stroke-linecap:round;stroke-linejoin:round;stroke:rgb(0%,0%,0%);stroke-opacity:1;stroke-miterlimit:10;\" d=\"M 159.722656 97.550781 C 159.722656 99.042969 157.480469 99.042969 157.480469 97.550781 C 157.480469 96.054688 159.722656 96.054688 159.722656 97.550781 \"/>\n",
       "<path style=\"fill:none;stroke-width:0.75;stroke-linecap:round;stroke-linejoin:round;stroke:rgb(0%,0%,0%);stroke-opacity:1;stroke-miterlimit:10;\" d=\"M 159.988281 127.175781 C 159.988281 128.667969 157.75 128.667969 157.75 127.175781 C 157.75 125.679688 159.988281 125.679688 159.988281 127.175781 \"/>\n",
       "<path style=\"fill:none;stroke-width:0.75;stroke-linecap:round;stroke-linejoin:round;stroke:rgb(0%,0%,0%);stroke-opacity:1;stroke-miterlimit:10;\" d=\"M 160.257813 88.421875 C 160.257813 89.917969 158.015625 89.917969 158.015625 88.421875 C 158.015625 86.929688 160.257813 86.929688 160.257813 88.421875 \"/>\n",
       "<path style=\"fill:none;stroke-width:0.75;stroke-linecap:round;stroke-linejoin:round;stroke:rgb(0%,0%,0%);stroke-opacity:1;stroke-miterlimit:10;\" d=\"M 160.527344 100 C 160.527344 101.492188 158.285156 101.492188 158.285156 100 C 158.285156 98.507813 160.527344 98.507813 160.527344 100 \"/>\n",
       "<path style=\"fill:none;stroke-width:0.75;stroke-linecap:round;stroke-linejoin:round;stroke:rgb(0%,0%,0%);stroke-opacity:1;stroke-miterlimit:10;\" d=\"M 160.792969 85.050781 C 160.792969 86.546875 158.554688 86.546875 158.554688 85.050781 C 158.554688 83.558594 160.792969 83.558594 160.792969 85.050781 \"/>\n",
       "<path style=\"fill:none;stroke-width:0.75;stroke-linecap:round;stroke-linejoin:round;stroke:rgb(0%,0%,0%);stroke-opacity:1;stroke-miterlimit:10;\" d=\"M 161.0625 85.347656 C 161.0625 86.839844 158.824219 86.839844 158.824219 85.347656 C 158.824219 83.855469 161.0625 83.855469 161.0625 85.347656 \"/>\n",
       "<path style=\"fill:none;stroke-width:0.75;stroke-linecap:round;stroke-linejoin:round;stroke:rgb(0%,0%,0%);stroke-opacity:1;stroke-miterlimit:10;\" d=\"M 161.332031 78.414063 C 161.332031 79.90625 159.089844 79.90625 159.089844 78.414063 C 159.089844 76.917969 161.332031 76.917969 161.332031 78.414063 \"/>\n",
       "<path style=\"fill:none;stroke-width:0.75;stroke-linecap:round;stroke-linejoin:round;stroke:rgb(0%,0%,0%);stroke-opacity:1;stroke-miterlimit:10;\" d=\"M 161.601563 95.003906 C 161.601563 96.496094 159.359375 96.496094 159.359375 95.003906 C 159.359375 93.507813 161.601563 93.507813 161.601563 95.003906 \"/>\n",
       "<path style=\"fill:none;stroke-width:0.75;stroke-linecap:round;stroke-linejoin:round;stroke:rgb(0%,0%,0%);stroke-opacity:1;stroke-miterlimit:10;\" d=\"M 161.867188 101.695313 C 161.867188 103.1875 159.628906 103.1875 159.628906 101.695313 C 159.628906 100.203125 161.867188 100.203125 161.867188 101.695313 \"/>\n",
       "<path style=\"fill:none;stroke-width:0.75;stroke-linecap:round;stroke-linejoin:round;stroke:rgb(0%,0%,0%);stroke-opacity:1;stroke-miterlimit:10;\" d=\"M 162.136719 102.808594 C 162.136719 104.304688 159.894531 104.304688 159.894531 102.808594 C 159.894531 101.316406 162.136719 101.316406 162.136719 102.808594 \"/>\n",
       "<path style=\"fill:none;stroke-width:0.75;stroke-linecap:round;stroke-linejoin:round;stroke:rgb(0%,0%,0%);stroke-opacity:1;stroke-miterlimit:10;\" d=\"M 162.40625 168.65625 C 162.40625 170.148438 160.164063 170.148438 160.164063 168.65625 C 160.164063 167.160156 162.40625 167.160156 162.40625 168.65625 \"/>\n",
       "<path style=\"fill:none;stroke-width:0.75;stroke-linecap:round;stroke-linejoin:round;stroke:rgb(0%,0%,0%);stroke-opacity:1;stroke-miterlimit:10;\" d=\"M 162.671875 89.042969 C 162.671875 90.539063 160.433594 90.539063 160.433594 89.042969 C 160.433594 87.550781 162.671875 87.550781 162.671875 89.042969 \"/>\n",
       "<path style=\"fill:none;stroke-width:0.75;stroke-linecap:round;stroke-linejoin:round;stroke:rgb(0%,0%,0%);stroke-opacity:1;stroke-miterlimit:10;\" d=\"M 162.941406 75.210938 C 162.941406 76.703125 160.699219 76.703125 160.699219 75.210938 C 160.699219 73.714844 162.941406 73.714844 162.941406 75.210938 \"/>\n",
       "<path style=\"fill:none;stroke-width:0.75;stroke-linecap:round;stroke-linejoin:round;stroke:rgb(0%,0%,0%);stroke-opacity:1;stroke-miterlimit:10;\" d=\"M 163.210938 77.453125 C 163.210938 78.945313 160.96875 78.945313 160.96875 77.453125 C 160.96875 75.957031 163.210938 75.957031 163.210938 77.453125 \"/>\n",
       "<path style=\"fill:none;stroke-width:0.75;stroke-linecap:round;stroke-linejoin:round;stroke:rgb(0%,0%,0%);stroke-opacity:1;stroke-miterlimit:10;\" d=\"M 163.480469 96.835938 C 163.480469 98.328125 161.238281 98.328125 161.238281 96.835938 C 161.238281 95.339844 163.480469 95.339844 163.480469 96.835938 \"/>\n",
       "<path style=\"fill:none;stroke-width:0.75;stroke-linecap:round;stroke-linejoin:round;stroke:rgb(0%,0%,0%);stroke-opacity:1;stroke-miterlimit:10;\" d=\"M 163.746094 107.605469 C 163.746094 109.097656 161.507813 109.097656 161.507813 107.605469 C 161.507813 106.113281 163.746094 106.113281 163.746094 107.605469 \"/>\n",
       "<path style=\"fill:none;stroke-width:0.75;stroke-linecap:round;stroke-linejoin:round;stroke:rgb(0%,0%,0%);stroke-opacity:1;stroke-miterlimit:10;\" d=\"M 164.015625 100.046875 C 164.015625 101.539063 161.773438 101.539063 161.773438 100.046875 C 161.773438 98.554688 164.015625 98.554688 164.015625 100.046875 \"/>\n",
       "<path style=\"fill:none;stroke-width:0.75;stroke-linecap:round;stroke-linejoin:round;stroke:rgb(0%,0%,0%);stroke-opacity:1;stroke-miterlimit:10;\" d=\"M 164.285156 174.039063 C 164.285156 175.53125 162.042969 175.53125 162.042969 174.039063 C 162.042969 172.542969 164.285156 172.542969 164.285156 174.039063 \"/>\n",
       "<path style=\"fill:none;stroke-width:0.75;stroke-linecap:round;stroke-linejoin:round;stroke:rgb(0%,0%,0%);stroke-opacity:1;stroke-miterlimit:10;\" d=\"M 164.550781 74.210938 C 164.550781 75.707031 162.3125 75.707031 162.3125 74.210938 C 162.3125 72.71875 164.550781 72.71875 164.550781 74.210938 \"/>\n",
       "<path style=\"fill:none;stroke-width:0.75;stroke-linecap:round;stroke-linejoin:round;stroke:rgb(0%,0%,0%);stroke-opacity:1;stroke-miterlimit:10;\" d=\"M 164.820313 105.457031 C 164.820313 106.949219 162.578125 106.949219 162.578125 105.457031 C 162.578125 103.960938 164.820313 103.960938 164.820313 105.457031 \"/>\n",
       "<path style=\"fill:none;stroke-width:0.75;stroke-linecap:round;stroke-linejoin:round;stroke:rgb(0%,0%,0%);stroke-opacity:1;stroke-miterlimit:10;\" d=\"M 165.089844 77.734375 C 165.089844 79.230469 162.847656 79.230469 162.847656 77.734375 C 162.847656 76.242188 165.089844 76.242188 165.089844 77.734375 \"/>\n",
       "<path style=\"fill:none;stroke-width:0.75;stroke-linecap:round;stroke-linejoin:round;stroke:rgb(0%,0%,0%);stroke-opacity:1;stroke-miterlimit:10;\" d=\"M 165.359375 92.84375 C 165.359375 94.339844 163.117188 94.339844 163.117188 92.84375 C 163.117188 91.351563 165.359375 91.351563 165.359375 92.84375 \"/>\n",
       "<path style=\"fill:none;stroke-width:0.75;stroke-linecap:round;stroke-linejoin:round;stroke:rgb(0%,0%,0%);stroke-opacity:1;stroke-miterlimit:10;\" d=\"M 165.625 135.714844 C 165.625 137.210938 163.386719 137.210938 163.386719 135.714844 C 163.386719 134.222656 165.625 134.222656 165.625 135.714844 \"/>\n",
       "<path style=\"fill:none;stroke-width:0.75;stroke-linecap:round;stroke-linejoin:round;stroke:rgb(0%,0%,0%);stroke-opacity:1;stroke-miterlimit:10;\" d=\"M 165.894531 81.730469 C 165.894531 83.222656 163.652344 83.222656 163.652344 81.730469 C 163.652344 80.234375 165.894531 80.234375 165.894531 81.730469 \"/>\n",
       "<path style=\"fill:none;stroke-width:0.75;stroke-linecap:round;stroke-linejoin:round;stroke:rgb(0%,0%,0%);stroke-opacity:1;stroke-miterlimit:10;\" d=\"M 166.164063 85.664063 C 166.164063 87.15625 163.921875 87.15625 163.921875 85.664063 C 163.921875 84.167969 166.164063 84.167969 166.164063 85.664063 \"/>\n",
       "<path style=\"fill:none;stroke-width:0.75;stroke-linecap:round;stroke-linejoin:round;stroke:rgb(0%,0%,0%);stroke-opacity:1;stroke-miterlimit:10;\" d=\"M 166.429688 91.0625 C 166.429688 92.558594 164.191406 92.558594 164.191406 91.0625 C 164.191406 89.570313 166.429688 89.570313 166.429688 91.0625 \"/>\n",
       "<path style=\"fill:none;stroke-width:0.75;stroke-linecap:round;stroke-linejoin:round;stroke:rgb(0%,0%,0%);stroke-opacity:1;stroke-miterlimit:10;\" d=\"M 166.699219 94.550781 C 166.699219 96.046875 164.457031 96.046875 164.457031 94.550781 C 164.457031 93.058594 166.699219 93.058594 166.699219 94.550781 \"/>\n",
       "<path style=\"fill:none;stroke-width:0.75;stroke-linecap:round;stroke-linejoin:round;stroke:rgb(0%,0%,0%);stroke-opacity:1;stroke-miterlimit:10;\" d=\"M 166.96875 97.804688 C 166.96875 99.296875 164.726563 99.296875 164.726563 97.804688 C 164.726563 96.308594 166.96875 96.308594 166.96875 97.804688 \"/>\n",
       "<path style=\"fill:none;stroke-width:0.75;stroke-linecap:round;stroke-linejoin:round;stroke:rgb(0%,0%,0%);stroke-opacity:1;stroke-miterlimit:10;\" d=\"M 167.238281 105.886719 C 167.238281 107.382813 164.996094 107.382813 164.996094 105.886719 C 164.996094 104.394531 167.238281 104.394531 167.238281 105.886719 \"/>\n",
       "<path style=\"fill:none;stroke-width:0.75;stroke-linecap:round;stroke-linejoin:round;stroke:rgb(0%,0%,0%);stroke-opacity:1;stroke-miterlimit:10;\" d=\"M 167.503906 144.070313 C 167.503906 145.566406 165.265625 145.566406 165.265625 144.070313 C 165.265625 142.578125 167.503906 142.578125 167.503906 144.070313 \"/>\n",
       "<path style=\"fill:none;stroke-width:0.75;stroke-linecap:round;stroke-linejoin:round;stroke:rgb(0%,0%,0%);stroke-opacity:1;stroke-miterlimit:10;\" d=\"M 167.773438 104.089844 C 167.773438 105.585938 165.53125 105.585938 165.53125 104.089844 C 165.53125 102.597656 167.773438 102.597656 167.773438 104.089844 \"/>\n",
       "<path style=\"fill:none;stroke-width:0.75;stroke-linecap:round;stroke-linejoin:round;stroke:rgb(0%,0%,0%);stroke-opacity:1;stroke-miterlimit:10;\" d=\"M 168.042969 82.53125 C 168.042969 84.027344 165.800781 84.027344 165.800781 82.53125 C 165.800781 81.039063 168.042969 81.039063 168.042969 82.53125 \"/>\n",
       "<path style=\"fill:none;stroke-width:0.75;stroke-linecap:round;stroke-linejoin:round;stroke:rgb(0%,0%,0%);stroke-opacity:1;stroke-miterlimit:10;\" d=\"M 168.308594 95.480469 C 168.308594 96.972656 166.070313 96.972656 166.070313 95.480469 C 166.070313 93.984375 168.308594 93.984375 168.308594 95.480469 \"/>\n",
       "<path style=\"fill:none;stroke-width:0.75;stroke-linecap:round;stroke-linejoin:round;stroke:rgb(0%,0%,0%);stroke-opacity:1;stroke-miterlimit:10;\" d=\"M 168.578125 105.628906 C 168.578125 107.125 166.335938 107.125 166.335938 105.628906 C 166.335938 104.136719 168.578125 104.136719 168.578125 105.628906 \"/>\n",
       "<path style=\"fill:none;stroke-width:0.75;stroke-linecap:round;stroke-linejoin:round;stroke:rgb(0%,0%,0%);stroke-opacity:1;stroke-miterlimit:10;\" d=\"M 168.847656 88.453125 C 168.847656 89.945313 166.605469 89.945313 166.605469 88.453125 C 166.605469 86.957031 168.847656 86.957031 168.847656 88.453125 \"/>\n",
       "<path style=\"fill:none;stroke-width:0.75;stroke-linecap:round;stroke-linejoin:round;stroke:rgb(0%,0%,0%);stroke-opacity:1;stroke-miterlimit:10;\" d=\"M 169.117188 105.679688 C 169.117188 107.171875 166.875 107.171875 166.875 105.679688 C 166.875 104.183594 169.117188 104.183594 169.117188 105.679688 \"/>\n",
       "<path style=\"fill:none;stroke-width:0.75;stroke-linecap:round;stroke-linejoin:round;stroke:rgb(0%,0%,0%);stroke-opacity:1;stroke-miterlimit:10;\" d=\"M 169.382813 149.566406 C 169.382813 151.058594 167.144531 151.058594 167.144531 149.566406 C 167.144531 148.070313 169.382813 148.070313 169.382813 149.566406 \"/>\n",
       "<path style=\"fill:none;stroke-width:0.75;stroke-linecap:round;stroke-linejoin:round;stroke:rgb(0%,0%,0%);stroke-opacity:1;stroke-miterlimit:10;\" d=\"M 169.652344 97.398438 C 169.652344 98.894531 167.410156 98.894531 167.410156 97.398438 C 167.410156 95.90625 169.652344 95.90625 169.652344 97.398438 \"/>\n",
       "<path style=\"fill:none;stroke-width:0.75;stroke-linecap:round;stroke-linejoin:round;stroke:rgb(0%,0%,0%);stroke-opacity:1;stroke-miterlimit:10;\" d=\"M 169.921875 88.644531 C 169.921875 90.140625 167.679688 90.140625 167.679688 88.644531 C 167.679688 87.152344 169.921875 87.152344 169.921875 88.644531 \"/>\n",
       "<path style=\"fill:none;stroke-width:0.75;stroke-linecap:round;stroke-linejoin:round;stroke:rgb(0%,0%,0%);stroke-opacity:1;stroke-miterlimit:10;\" d=\"M 170.1875 101.007813 C 170.1875 102.503906 167.949219 102.503906 167.949219 101.007813 C 167.949219 99.515625 170.1875 99.515625 170.1875 101.007813 \"/>\n",
       "<path style=\"fill:none;stroke-width:0.75;stroke-linecap:round;stroke-linejoin:round;stroke:rgb(0%,0%,0%);stroke-opacity:1;stroke-miterlimit:10;\" d=\"M 170.457031 98.929688 C 170.457031 100.425781 168.214844 100.425781 168.214844 98.929688 C 168.214844 97.4375 170.457031 97.4375 170.457031 98.929688 \"/>\n",
       "<path style=\"fill:none;stroke-width:0.75;stroke-linecap:round;stroke-linejoin:round;stroke:rgb(0%,0%,0%);stroke-opacity:1;stroke-miterlimit:10;\" d=\"M 170.726563 121.503906 C 170.726563 123 168.484375 123 168.484375 121.503906 C 168.484375 120.011719 170.726563 120.011719 170.726563 121.503906 \"/>\n",
       "<path style=\"fill:none;stroke-width:0.75;stroke-linecap:round;stroke-linejoin:round;stroke:rgb(0%,0%,0%);stroke-opacity:1;stroke-miterlimit:10;\" d=\"M 170.996094 116.140625 C 170.996094 117.632813 168.753906 117.632813 168.753906 116.140625 C 168.753906 114.648438 170.996094 114.648438 170.996094 116.140625 \"/>\n",
       "<path style=\"fill:none;stroke-width:0.75;stroke-linecap:round;stroke-linejoin:round;stroke:rgb(0%,0%,0%);stroke-opacity:1;stroke-miterlimit:10;\" d=\"M 171.261719 144.679688 C 171.261719 146.175781 169.023438 146.175781 169.023438 144.679688 C 169.023438 143.1875 171.261719 143.1875 171.261719 144.679688 \"/>\n",
       "<path style=\"fill:none;stroke-width:0.75;stroke-linecap:round;stroke-linejoin:round;stroke:rgb(0%,0%,0%);stroke-opacity:1;stroke-miterlimit:10;\" d=\"M 171.53125 107.058594 C 171.53125 108.550781 169.289063 108.550781 169.289063 107.058594 C 169.289063 105.5625 171.53125 105.5625 171.53125 107.058594 \"/>\n",
       "<path style=\"fill:none;stroke-width:0.75;stroke-linecap:round;stroke-linejoin:round;stroke:rgb(0%,0%,0%);stroke-opacity:1;stroke-miterlimit:10;\" d=\"M 171.800781 98.238281 C 171.800781 99.730469 169.558594 99.730469 169.558594 98.238281 C 169.558594 96.742188 171.800781 96.742188 171.800781 98.238281 \"/>\n",
       "<path style=\"fill:none;stroke-width:0.75;stroke-linecap:round;stroke-linejoin:round;stroke:rgb(0%,0%,0%);stroke-opacity:1;stroke-miterlimit:10;\" d=\"M 172.066406 106.867188 C 172.066406 108.363281 169.828125 108.363281 169.828125 106.867188 C 169.828125 105.375 172.066406 105.375 172.066406 106.867188 \"/>\n",
       "<path style=\"fill:none;stroke-width:0.75;stroke-linecap:round;stroke-linejoin:round;stroke:rgb(0%,0%,0%);stroke-opacity:1;stroke-miterlimit:10;\" d=\"M 172.335938 103.777344 C 172.335938 105.269531 170.09375 105.269531 170.09375 103.777344 C 170.09375 102.28125 172.335938 102.28125 172.335938 103.777344 \"/>\n",
       "<path style=\"fill:none;stroke-width:0.75;stroke-linecap:round;stroke-linejoin:round;stroke:rgb(0%,0%,0%);stroke-opacity:1;stroke-miterlimit:10;\" d=\"M 172.605469 97.238281 C 172.605469 98.730469 170.363281 98.730469 170.363281 97.238281 C 170.363281 95.742188 172.605469 95.742188 172.605469 97.238281 \"/>\n",
       "<path style=\"fill:none;stroke-width:0.75;stroke-linecap:round;stroke-linejoin:round;stroke:rgb(0%,0%,0%);stroke-opacity:1;stroke-miterlimit:10;\" d=\"M 172.875 91.921875 C 172.875 93.417969 170.632813 93.417969 170.632813 91.921875 C 170.632813 90.429688 172.875 90.429688 172.875 91.921875 \"/>\n",
       "<path style=\"fill:none;stroke-width:0.75;stroke-linecap:round;stroke-linejoin:round;stroke:rgb(0%,0%,0%);stroke-opacity:1;stroke-miterlimit:10;\" d=\"M 173.140625 140.058594 C 173.140625 141.554688 170.902344 141.554688 170.902344 140.058594 C 170.902344 138.566406 173.140625 138.566406 173.140625 140.058594 \"/>\n",
       "<path style=\"fill:none;stroke-width:0.75;stroke-linecap:round;stroke-linejoin:round;stroke:rgb(0%,0%,0%);stroke-opacity:1;stroke-miterlimit:10;\" d=\"M 173.410156 86.46875 C 173.410156 87.960938 171.167969 87.960938 171.167969 86.46875 C 171.167969 84.972656 173.410156 84.972656 173.410156 86.46875 \"/>\n",
       "<path style=\"fill:none;stroke-width:0.75;stroke-linecap:round;stroke-linejoin:round;stroke:rgb(0%,0%,0%);stroke-opacity:1;stroke-miterlimit:10;\" d=\"M 173.679688 87.175781 C 173.679688 88.667969 171.4375 88.667969 171.4375 87.175781 C 171.4375 85.683594 173.679688 85.683594 173.679688 87.175781 \"/>\n",
       "<path style=\"fill:none;stroke-width:0.75;stroke-linecap:round;stroke-linejoin:round;stroke:rgb(0%,0%,0%);stroke-opacity:1;stroke-miterlimit:10;\" d=\"M 173.945313 71.222656 C 173.945313 72.71875 171.707031 72.71875 171.707031 71.222656 C 171.707031 69.730469 173.945313 69.730469 173.945313 71.222656 \"/>\n",
       "<path style=\"fill:none;stroke-width:0.75;stroke-linecap:round;stroke-linejoin:round;stroke:rgb(0%,0%,0%);stroke-opacity:1;stroke-miterlimit:10;\" d=\"M 174.214844 77.382813 C 174.214844 78.878906 171.972656 78.878906 171.972656 77.382813 C 171.972656 75.890625 174.214844 75.890625 174.214844 77.382813 \"/>\n",
       "<path style=\"fill:none;stroke-width:0.75;stroke-linecap:round;stroke-linejoin:round;stroke:rgb(0%,0%,0%);stroke-opacity:1;stroke-miterlimit:10;\" d=\"M 174.484375 62.339844 C 174.484375 63.832031 172.242188 63.832031 172.242188 62.339844 C 172.242188 60.847656 174.484375 60.847656 174.484375 62.339844 \"/>\n",
       "<path style=\"fill:none;stroke-width:0.75;stroke-linecap:round;stroke-linejoin:round;stroke:rgb(0%,0%,0%);stroke-opacity:1;stroke-miterlimit:10;\" d=\"M 174.753906 90.632813 C 174.753906 92.128906 172.511719 92.128906 172.511719 90.632813 C 172.511719 89.140625 174.753906 89.140625 174.753906 90.632813 \"/>\n",
       "<path style=\"fill:none;stroke-width:0.75;stroke-linecap:round;stroke-linejoin:round;stroke:rgb(0%,0%,0%);stroke-opacity:1;stroke-miterlimit:10;\" d=\"M 175.019531 139.097656 C 175.019531 140.59375 172.78125 140.59375 172.78125 139.097656 C 172.78125 137.605469 175.019531 137.605469 175.019531 139.097656 \"/>\n",
       "<path style=\"fill:none;stroke-width:0.75;stroke-linecap:round;stroke-linejoin:round;stroke:rgb(0%,0%,0%);stroke-opacity:1;stroke-miterlimit:10;\" d=\"M 175.289063 125.992188 C 175.289063 127.488281 173.046875 127.488281 173.046875 125.992188 C 173.046875 124.5 175.289063 124.5 175.289063 125.992188 \"/>\n",
       "<path style=\"fill:none;stroke-width:0.75;stroke-linecap:round;stroke-linejoin:round;stroke:rgb(0%,0%,0%);stroke-opacity:1;stroke-miterlimit:10;\" d=\"M 175.558594 164.515625 C 175.558594 166.011719 173.316406 166.011719 173.316406 164.515625 C 173.316406 163.023438 175.558594 163.023438 175.558594 164.515625 \"/>\n",
       "<path style=\"fill:none;stroke-width:0.75;stroke-linecap:round;stroke-linejoin:round;stroke:rgb(0%,0%,0%);stroke-opacity:1;stroke-miterlimit:10;\" d=\"M 175.824219 100.050781 C 175.824219 101.542969 173.585938 101.542969 173.585938 100.050781 C 173.585938 98.554688 175.824219 98.554688 175.824219 100.050781 \"/>\n",
       "<path style=\"fill:none;stroke-width:0.75;stroke-linecap:round;stroke-linejoin:round;stroke:rgb(0%,0%,0%);stroke-opacity:1;stroke-miterlimit:10;\" d=\"M 176.09375 88.6875 C 176.09375 90.179688 173.851563 90.179688 173.851563 88.6875 C 173.851563 87.191406 176.09375 87.191406 176.09375 88.6875 \"/>\n",
       "<path style=\"fill:none;stroke-width:0.75;stroke-linecap:round;stroke-linejoin:round;stroke:rgb(0%,0%,0%);stroke-opacity:1;stroke-miterlimit:10;\" d=\"M 176.363281 81.460938 C 176.363281 82.953125 174.121094 82.953125 174.121094 81.460938 C 174.121094 79.964844 176.363281 79.964844 176.363281 81.460938 \"/>\n",
       "<path style=\"fill:none;stroke-width:0.75;stroke-linecap:round;stroke-linejoin:round;stroke:rgb(0%,0%,0%);stroke-opacity:1;stroke-miterlimit:10;\" d=\"M 176.632813 106.726563 C 176.632813 108.21875 174.390625 108.21875 174.390625 106.726563 C 174.390625 105.230469 176.632813 105.230469 176.632813 106.726563 \"/>\n",
       "<path style=\"fill:none;stroke-width:0.75;stroke-linecap:round;stroke-linejoin:round;stroke:rgb(0%,0%,0%);stroke-opacity:1;stroke-miterlimit:10;\" d=\"M 176.898438 141.574219 C 176.898438 143.066406 174.660156 143.066406 174.660156 141.574219 C 174.660156 140.082031 176.898438 140.082031 176.898438 141.574219 \"/>\n",
       "<path style=\"fill:none;stroke-width:0.75;stroke-linecap:round;stroke-linejoin:round;stroke:rgb(0%,0%,0%);stroke-opacity:1;stroke-miterlimit:10;\" d=\"M 177.167969 91.066406 C 177.167969 92.558594 174.925781 92.558594 174.925781 91.066406 C 174.925781 89.574219 177.167969 89.574219 177.167969 91.066406 \"/>\n",
       "<path style=\"fill:none;stroke-width:0.75;stroke-linecap:round;stroke-linejoin:round;stroke:rgb(0%,0%,0%);stroke-opacity:1;stroke-miterlimit:10;\" d=\"M 177.4375 84.097656 C 177.4375 85.59375 175.195313 85.59375 175.195313 84.097656 C 175.195313 82.605469 177.4375 82.605469 177.4375 84.097656 \"/>\n",
       "<path style=\"fill:none;stroke-width:0.75;stroke-linecap:round;stroke-linejoin:round;stroke:rgb(0%,0%,0%);stroke-opacity:1;stroke-miterlimit:10;\" d=\"M 177.703125 100.925781 C 177.703125 102.421875 175.464844 102.421875 175.464844 100.925781 C 175.464844 99.433594 177.703125 99.433594 177.703125 100.925781 \"/>\n",
       "<path style=\"fill:none;stroke-width:0.75;stroke-linecap:round;stroke-linejoin:round;stroke:rgb(0%,0%,0%);stroke-opacity:1;stroke-miterlimit:10;\" d=\"M 177.972656 93.035156 C 177.972656 94.53125 175.730469 94.53125 175.730469 93.035156 C 175.730469 91.542969 177.972656 91.542969 177.972656 93.035156 \"/>\n",
       "<path style=\"fill:none;stroke-width:0.75;stroke-linecap:round;stroke-linejoin:round;stroke:rgb(0%,0%,0%);stroke-opacity:1;stroke-miterlimit:10;\" d=\"M 178.242188 106.941406 C 178.242188 108.433594 176 108.433594 176 106.941406 C 176 105.449219 178.242188 105.449219 178.242188 106.941406 \"/>\n",
       "<path style=\"fill:none;stroke-width:0.75;stroke-linecap:round;stroke-linejoin:round;stroke:rgb(0%,0%,0%);stroke-opacity:1;stroke-miterlimit:10;\" d=\"M 178.511719 99.070313 C 178.511719 100.566406 176.269531 100.566406 176.269531 99.070313 C 176.269531 97.578125 178.511719 97.578125 178.511719 99.070313 \"/>\n",
       "<path style=\"fill:none;stroke-width:0.75;stroke-linecap:round;stroke-linejoin:round;stroke:rgb(0%,0%,0%);stroke-opacity:1;stroke-miterlimit:10;\" d=\"M 178.777344 136.574219 C 178.777344 138.066406 176.539063 138.066406 176.539063 136.574219 C 176.539063 135.078125 178.777344 135.078125 178.777344 136.574219 \"/>\n",
       "<path style=\"fill:none;stroke-width:0.75;stroke-linecap:round;stroke-linejoin:round;stroke:rgb(0%,0%,0%);stroke-opacity:1;stroke-miterlimit:10;\" d=\"M 179.046875 99.347656 C 179.046875 100.84375 176.804688 100.84375 176.804688 99.347656 C 176.804688 97.855469 179.046875 97.855469 179.046875 99.347656 \"/>\n",
       "<path style=\"fill:none;stroke-width:0.75;stroke-linecap:round;stroke-linejoin:round;stroke:rgb(0%,0%,0%);stroke-opacity:1;stroke-miterlimit:10;\" d=\"M 179.316406 109.402344 C 179.316406 110.894531 177.074219 110.894531 177.074219 109.402344 C 177.074219 107.90625 179.316406 107.90625 179.316406 109.402344 \"/>\n",
       "<path style=\"fill:none;stroke-width:0.75;stroke-linecap:round;stroke-linejoin:round;stroke:rgb(0%,0%,0%);stroke-opacity:1;stroke-miterlimit:10;\" d=\"M 179.582031 87.132813 C 179.582031 88.625 177.34375 88.625 177.34375 87.132813 C 177.34375 85.636719 179.582031 85.636719 179.582031 87.132813 \"/>\n",
       "<path style=\"fill:none;stroke-width:0.75;stroke-linecap:round;stroke-linejoin:round;stroke:rgb(0%,0%,0%);stroke-opacity:1;stroke-miterlimit:10;\" d=\"M 179.851563 86.78125 C 179.851563 88.277344 177.609375 88.277344 177.609375 86.78125 C 177.609375 85.289063 179.851563 85.289063 179.851563 86.78125 \"/>\n",
       "<path style=\"fill:none;stroke-width:0.75;stroke-linecap:round;stroke-linejoin:round;stroke:rgb(0%,0%,0%);stroke-opacity:1;stroke-miterlimit:10;\" d=\"M 180.121094 86.410156 C 180.121094 87.90625 177.878906 87.90625 177.878906 86.410156 C 177.878906 84.917969 180.121094 84.917969 180.121094 86.410156 \"/>\n",
       "<path style=\"fill:none;stroke-width:0.75;stroke-linecap:round;stroke-linejoin:round;stroke:rgb(0%,0%,0%);stroke-opacity:1;stroke-miterlimit:10;\" d=\"M 180.390625 80.078125 C 180.390625 81.574219 178.148438 81.574219 178.148438 80.078125 C 178.148438 78.585938 180.390625 78.585938 180.390625 80.078125 \"/>\n",
       "<path style=\"fill:none;stroke-width:0.75;stroke-linecap:round;stroke-linejoin:round;stroke:rgb(0%,0%,0%);stroke-opacity:1;stroke-miterlimit:10;\" d=\"M 180.65625 152.21875 C 180.65625 153.710938 178.417969 153.710938 178.417969 152.21875 C 178.417969 150.722656 180.65625 150.722656 180.65625 152.21875 \"/>\n",
       "<path style=\"fill:none;stroke-width:0.75;stroke-linecap:round;stroke-linejoin:round;stroke:rgb(0%,0%,0%);stroke-opacity:1;stroke-miterlimit:10;\" d=\"M 180.925781 96.03125 C 180.925781 97.527344 178.683594 97.527344 178.683594 96.03125 C 178.683594 94.539063 180.925781 94.539063 180.925781 96.03125 \"/>\n",
       "<path style=\"fill:none;stroke-width:0.75;stroke-linecap:round;stroke-linejoin:round;stroke:rgb(0%,0%,0%);stroke-opacity:1;stroke-miterlimit:10;\" d=\"M 181.195313 99.433594 C 181.195313 100.925781 178.953125 100.925781 178.953125 99.433594 C 178.953125 97.9375 181.195313 97.9375 181.195313 99.433594 \"/>\n",
       "<path style=\"fill:none;stroke-width:0.75;stroke-linecap:round;stroke-linejoin:round;stroke:rgb(0%,0%,0%);stroke-opacity:1;stroke-miterlimit:10;\" d=\"M 181.460938 93.578125 C 181.460938 95.074219 179.222656 95.074219 179.222656 93.578125 C 179.222656 92.085938 181.460938 92.085938 181.460938 93.578125 \"/>\n",
       "<path style=\"fill:none;stroke-width:0.75;stroke-linecap:round;stroke-linejoin:round;stroke:rgb(0%,0%,0%);stroke-opacity:1;stroke-miterlimit:10;\" d=\"M 181.730469 90.140625 C 181.730469 91.632813 179.488281 91.632813 179.488281 90.140625 C 179.488281 88.644531 181.730469 88.644531 181.730469 90.140625 \"/>\n",
       "<path style=\"fill:none;stroke-width:0.75;stroke-linecap:round;stroke-linejoin:round;stroke:rgb(0%,0%,0%);stroke-opacity:1;stroke-miterlimit:10;\" d=\"M 182 89.316406 C 182 90.8125 179.757813 90.8125 179.757813 89.316406 C 179.757813 87.824219 182 87.824219 182 89.316406 \"/>\n",
       "<path style=\"fill:none;stroke-width:0.75;stroke-linecap:round;stroke-linejoin:round;stroke:rgb(0%,0%,0%);stroke-opacity:1;stroke-miterlimit:10;\" d=\"M 182.269531 83.878906 C 182.269531 85.375 180.027344 85.375 180.027344 83.878906 C 180.027344 82.386719 182.269531 82.386719 182.269531 83.878906 \"/>\n",
       "<path style=\"fill:none;stroke-width:0.75;stroke-linecap:round;stroke-linejoin:round;stroke:rgb(0%,0%,0%);stroke-opacity:1;stroke-miterlimit:10;\" d=\"M 182.535156 131.851563 C 182.535156 133.34375 180.296875 133.34375 180.296875 131.851563 C 180.296875 130.355469 182.535156 130.355469 182.535156 131.851563 \"/>\n",
       "<path style=\"fill:none;stroke-width:0.75;stroke-linecap:round;stroke-linejoin:round;stroke:rgb(0%,0%,0%);stroke-opacity:1;stroke-miterlimit:10;\" d=\"M 182.804688 85.894531 C 182.804688 87.386719 180.5625 87.386719 180.5625 85.894531 C 180.5625 84.398438 182.804688 84.398438 182.804688 85.894531 \"/>\n",
       "<path style=\"fill:none;stroke-width:0.75;stroke-linecap:round;stroke-linejoin:round;stroke:rgb(0%,0%,0%);stroke-opacity:1;stroke-miterlimit:10;\" d=\"M 183.074219 103.070313 C 183.074219 104.566406 180.832031 104.566406 180.832031 103.070313 C 180.832031 101.578125 183.074219 101.578125 183.074219 103.070313 \"/>\n",
       "<path style=\"fill:none;stroke-width:0.75;stroke-linecap:round;stroke-linejoin:round;stroke:rgb(0%,0%,0%);stroke-opacity:1;stroke-miterlimit:10;\" d=\"M 183.339844 92.546875 C 183.339844 94.039063 181.101563 94.039063 181.101563 92.546875 C 181.101563 91.054688 183.339844 91.054688 183.339844 92.546875 \"/>\n",
       "<path style=\"fill:none;stroke-width:0.75;stroke-linecap:round;stroke-linejoin:round;stroke:rgb(0%,0%,0%);stroke-opacity:1;stroke-miterlimit:10;\" d=\"M 183.609375 104.480469 C 183.609375 105.976563 181.367188 105.976563 181.367188 104.480469 C 181.367188 102.988281 183.609375 102.988281 183.609375 104.480469 \"/>\n",
       "<path style=\"fill:none;stroke-width:0.75;stroke-linecap:round;stroke-linejoin:round;stroke:rgb(0%,0%,0%);stroke-opacity:1;stroke-miterlimit:10;\" d=\"M 183.878906 87.429688 C 183.878906 88.921875 181.636719 88.921875 181.636719 87.429688 C 181.636719 85.9375 183.878906 85.9375 183.878906 87.429688 \"/>\n",
       "<path style=\"fill:none;stroke-width:0.75;stroke-linecap:round;stroke-linejoin:round;stroke:rgb(0%,0%,0%);stroke-opacity:1;stroke-miterlimit:10;\" d=\"M 184.148438 110.0625 C 184.148438 111.554688 181.90625 111.554688 181.90625 110.0625 C 181.90625 108.566406 184.148438 108.566406 184.148438 110.0625 \"/>\n",
       "<path style=\"fill:none;stroke-width:0.75;stroke-linecap:round;stroke-linejoin:round;stroke:rgb(0%,0%,0%);stroke-opacity:1;stroke-miterlimit:10;\" d=\"M 184.414063 137.597656 C 184.414063 139.089844 182.175781 139.089844 182.175781 137.597656 C 182.175781 136.101563 184.414063 136.101563 184.414063 137.597656 \"/>\n",
       "<path style=\"fill:none;stroke-width:0.75;stroke-linecap:round;stroke-linejoin:round;stroke:rgb(0%,0%,0%);stroke-opacity:1;stroke-miterlimit:10;\" d=\"M 184.683594 97.574219 C 184.683594 99.066406 182.441406 99.066406 182.441406 97.574219 C 182.441406 96.078125 184.683594 96.078125 184.683594 97.574219 \"/>\n",
       "<path style=\"fill:none;stroke-width:0.75;stroke-linecap:round;stroke-linejoin:round;stroke:rgb(0%,0%,0%);stroke-opacity:1;stroke-miterlimit:10;\" d=\"M 184.953125 92.128906 C 184.953125 93.621094 182.710938 93.621094 182.710938 92.128906 C 182.710938 90.632813 184.953125 90.632813 184.953125 92.128906 \"/>\n",
       "<path style=\"fill:none;stroke-width:0.75;stroke-linecap:round;stroke-linejoin:round;stroke:rgb(0%,0%,0%);stroke-opacity:1;stroke-miterlimit:10;\" d=\"M 185.21875 95.890625 C 185.21875 97.386719 182.980469 97.386719 182.980469 95.890625 C 182.980469 94.398438 185.21875 94.398438 185.21875 95.890625 \"/>\n",
       "<path style=\"fill:none;stroke-width:0.75;stroke-linecap:round;stroke-linejoin:round;stroke:rgb(0%,0%,0%);stroke-opacity:1;stroke-miterlimit:10;\" d=\"M 185.488281 81.144531 C 185.488281 82.636719 183.246094 82.636719 183.246094 81.144531 C 183.246094 79.648438 185.488281 79.648438 185.488281 81.144531 \"/>\n",
       "<path style=\"fill:none;stroke-width:0.75;stroke-linecap:round;stroke-linejoin:round;stroke:rgb(0%,0%,0%);stroke-opacity:1;stroke-miterlimit:10;\" d=\"M 185.757813 99.003906 C 185.757813 100.5 183.515625 100.5 183.515625 99.003906 C 183.515625 97.511719 185.757813 97.511719 185.757813 99.003906 \"/>\n",
       "<path style=\"fill:none;stroke-width:0.75;stroke-linecap:round;stroke-linejoin:round;stroke:rgb(0%,0%,0%);stroke-opacity:1;stroke-miterlimit:10;\" d=\"M 186.027344 101.746094 C 186.027344 103.238281 183.785156 103.238281 183.785156 101.746094 C 183.785156 100.25 186.027344 100.25 186.027344 101.746094 \"/>\n",
       "<path style=\"fill:none;stroke-width:0.75;stroke-linecap:round;stroke-linejoin:round;stroke:rgb(0%,0%,0%);stroke-opacity:1;stroke-miterlimit:10;\" d=\"M 186.292969 137.019531 C 186.292969 138.515625 184.054688 138.515625 184.054688 137.019531 C 184.054688 135.527344 186.292969 135.527344 186.292969 137.019531 \"/>\n",
       "<path style=\"fill:none;stroke-width:0.75;stroke-linecap:round;stroke-linejoin:round;stroke:rgb(0%,0%,0%);stroke-opacity:1;stroke-miterlimit:10;\" d=\"M 186.5625 96.617188 C 186.5625 98.113281 184.320313 98.113281 184.320313 96.617188 C 184.320313 95.125 186.5625 95.125 186.5625 96.617188 \"/>\n",
       "<path style=\"fill:none;stroke-width:0.75;stroke-linecap:round;stroke-linejoin:round;stroke:rgb(0%,0%,0%);stroke-opacity:1;stroke-miterlimit:10;\" d=\"M 186.832031 95.589844 C 186.832031 97.085938 184.589844 97.085938 184.589844 95.589844 C 184.589844 94.097656 186.832031 94.097656 186.832031 95.589844 \"/>\n",
       "<path style=\"fill:none;stroke-width:0.75;stroke-linecap:round;stroke-linejoin:round;stroke:rgb(0%,0%,0%);stroke-opacity:1;stroke-miterlimit:10;\" d=\"M 187.097656 100.03125 C 187.097656 101.527344 184.859375 101.527344 184.859375 100.03125 C 184.859375 98.539063 187.097656 98.539063 187.097656 100.03125 \"/>\n",
       "<path style=\"fill:none;stroke-width:0.75;stroke-linecap:round;stroke-linejoin:round;stroke:rgb(0%,0%,0%);stroke-opacity:1;stroke-miterlimit:10;\" d=\"M 187.367188 80.535156 C 187.367188 82.03125 185.125 82.03125 185.125 80.535156 C 185.125 79.042969 187.367188 79.042969 187.367188 80.535156 \"/>\n",
       "<path style=\"fill:none;stroke-width:0.75;stroke-linecap:round;stroke-linejoin:round;stroke:rgb(0%,0%,0%);stroke-opacity:1;stroke-miterlimit:10;\" d=\"M 187.636719 116.203125 C 187.636719 117.695313 185.394531 117.695313 185.394531 116.203125 C 185.394531 114.707031 187.636719 114.707031 187.636719 116.203125 \"/>\n",
       "<path style=\"fill:none;stroke-width:0.75;stroke-linecap:round;stroke-linejoin:round;stroke:rgb(0%,0%,0%);stroke-opacity:1;stroke-miterlimit:10;\" d=\"M 187.90625 108.378906 C 187.90625 109.871094 185.664063 109.871094 185.664063 108.378906 C 185.664063 106.882813 187.90625 106.882813 187.90625 108.378906 \"/>\n",
       "<path style=\"fill:none;stroke-width:0.75;stroke-linecap:round;stroke-linejoin:round;stroke:rgb(0%,0%,0%);stroke-opacity:1;stroke-miterlimit:10;\" d=\"M 188.171875 147.210938 C 188.171875 148.703125 185.933594 148.703125 185.933594 147.210938 C 185.933594 145.714844 188.171875 145.714844 188.171875 147.210938 \"/>\n",
       "<path style=\"fill:none;stroke-width:0.75;stroke-linecap:round;stroke-linejoin:round;stroke:rgb(0%,0%,0%);stroke-opacity:1;stroke-miterlimit:10;\" d=\"M 188.441406 78.425781 C 188.441406 79.917969 186.199219 79.917969 186.199219 78.425781 C 186.199219 76.929688 188.441406 76.929688 188.441406 78.425781 \"/>\n",
       "<path style=\"fill:none;stroke-width:0.75;stroke-linecap:round;stroke-linejoin:round;stroke:rgb(0%,0%,0%);stroke-opacity:1;stroke-miterlimit:10;\" d=\"M 188.710938 83.957031 C 188.710938 85.449219 186.46875 85.449219 186.46875 83.957031 C 186.46875 82.460938 188.710938 82.460938 188.710938 83.957031 \"/>\n",
       "<path style=\"fill:none;stroke-width:0.75;stroke-linecap:round;stroke-linejoin:round;stroke:rgb(0%,0%,0%);stroke-opacity:1;stroke-miterlimit:10;\" d=\"M 188.976563 85.300781 C 188.976563 86.792969 186.738281 86.792969 186.738281 85.300781 C 186.738281 83.804688 188.976563 83.804688 188.976563 85.300781 \"/>\n",
       "<path style=\"fill:none;stroke-width:0.75;stroke-linecap:round;stroke-linejoin:round;stroke:rgb(0%,0%,0%);stroke-opacity:1;stroke-miterlimit:10;\" d=\"M 189.246094 91.996094 C 189.246094 93.488281 187.003906 93.488281 187.003906 91.996094 C 187.003906 90.5 189.246094 90.5 189.246094 91.996094 \"/>\n",
       "<path style=\"fill:none;stroke-width:0.75;stroke-linecap:round;stroke-linejoin:round;stroke:rgb(0%,0%,0%);stroke-opacity:1;stroke-miterlimit:10;\" d=\"M 189.515625 82.003906 C 189.515625 83.5 187.273438 83.5 187.273438 82.003906 C 187.273438 80.511719 189.515625 80.511719 189.515625 82.003906 \"/>\n",
       "<path style=\"fill:none;stroke-width:0.75;stroke-linecap:round;stroke-linejoin:round;stroke:rgb(0%,0%,0%);stroke-opacity:1;stroke-miterlimit:10;\" d=\"M 189.785156 81.6875 C 189.785156 83.179688 187.542969 83.179688 187.542969 81.6875 C 187.542969 80.191406 189.785156 80.191406 189.785156 81.6875 \"/>\n",
       "<path style=\"fill:none;stroke-width:0.75;stroke-linecap:round;stroke-linejoin:round;stroke:rgb(0%,0%,0%);stroke-opacity:1;stroke-miterlimit:10;\" d=\"M 190.050781 127.996094 C 190.050781 129.488281 187.8125 129.488281 187.8125 127.996094 C 187.8125 126.5 190.050781 126.5 190.050781 127.996094 \"/>\n",
       "<path style=\"fill:none;stroke-width:0.75;stroke-linecap:round;stroke-linejoin:round;stroke:rgb(0%,0%,0%);stroke-opacity:1;stroke-miterlimit:10;\" d=\"M 190.320313 93.144531 C 190.320313 94.640625 188.078125 94.640625 188.078125 93.144531 C 188.078125 91.652344 190.320313 91.652344 190.320313 93.144531 \"/>\n",
       "<path style=\"fill:none;stroke-width:0.75;stroke-linecap:round;stroke-linejoin:round;stroke:rgb(0%,0%,0%);stroke-opacity:1;stroke-miterlimit:10;\" d=\"M 190.589844 94.984375 C 190.589844 96.476563 188.347656 96.476563 188.347656 94.984375 C 188.347656 93.488281 190.589844 93.488281 190.589844 94.984375 \"/>\n",
       "<path style=\"fill:none;stroke-width:0.75;stroke-linecap:round;stroke-linejoin:round;stroke:rgb(0%,0%,0%);stroke-opacity:1;stroke-miterlimit:10;\" d=\"M 190.855469 84.269531 C 190.855469 85.761719 188.617188 85.761719 188.617188 84.269531 C 188.617188 82.773438 190.855469 82.773438 190.855469 84.269531 \"/>\n",
       "<path style=\"fill:none;stroke-width:0.75;stroke-linecap:round;stroke-linejoin:round;stroke:rgb(0%,0%,0%);stroke-opacity:1;stroke-miterlimit:10;\" d=\"M 191.125 94.058594 C 191.125 95.550781 188.882813 95.550781 188.882813 94.058594 C 188.882813 92.5625 191.125 92.5625 191.125 94.058594 \"/>\n",
       "<path style=\"fill:none;stroke-width:0.75;stroke-linecap:round;stroke-linejoin:round;stroke:rgb(0%,0%,0%);stroke-opacity:1;stroke-miterlimit:10;\" d=\"M 191.394531 86.546875 C 191.394531 88.039063 189.152344 88.039063 189.152344 86.546875 C 189.152344 85.050781 191.394531 85.050781 191.394531 86.546875 \"/>\n",
       "<path style=\"fill:none;stroke-width:0.75;stroke-linecap:round;stroke-linejoin:round;stroke:rgb(0%,0%,0%);stroke-opacity:1;stroke-miterlimit:10;\" d=\"M 191.664063 109.636719 C 191.664063 111.132813 189.421875 111.132813 189.421875 109.636719 C 189.421875 108.144531 191.664063 108.144531 191.664063 109.636719 \"/>\n",
       "<path style=\"fill:none;stroke-width:0.75;stroke-linecap:round;stroke-linejoin:round;stroke:rgb(0%,0%,0%);stroke-opacity:1;stroke-miterlimit:10;\" d=\"M 191.929688 137.214844 C 191.929688 138.710938 189.691406 138.710938 189.691406 137.214844 C 189.691406 135.722656 191.929688 135.722656 191.929688 137.214844 \"/>\n",
       "<path style=\"fill:none;stroke-width:0.75;stroke-linecap:round;stroke-linejoin:round;stroke:rgb(0%,0%,0%);stroke-opacity:1;stroke-miterlimit:10;\" d=\"M 192.199219 88.179688 C 192.199219 89.675781 189.957031 89.675781 189.957031 88.179688 C 189.957031 86.6875 192.199219 86.6875 192.199219 88.179688 \"/>\n",
       "<path style=\"fill:none;stroke-width:0.75;stroke-linecap:round;stroke-linejoin:round;stroke:rgb(0%,0%,0%);stroke-opacity:1;stroke-miterlimit:10;\" d=\"M 192.46875 103.484375 C 192.46875 104.980469 190.226563 104.980469 190.226563 103.484375 C 190.226563 101.992188 192.46875 101.992188 192.46875 103.484375 \"/>\n",
       "<path style=\"fill:none;stroke-width:0.75;stroke-linecap:round;stroke-linejoin:round;stroke:rgb(0%,0%,0%);stroke-opacity:1;stroke-miterlimit:10;\" d=\"M 192.734375 92.375 C 192.734375 93.867188 190.496094 93.867188 190.496094 92.375 C 190.496094 90.878906 192.734375 90.878906 192.734375 92.375 \"/>\n",
       "<path style=\"fill:none;stroke-width:0.75;stroke-linecap:round;stroke-linejoin:round;stroke:rgb(0%,0%,0%);stroke-opacity:1;stroke-miterlimit:10;\" d=\"M 193.003906 86.238281 C 193.003906 87.734375 190.761719 87.734375 190.761719 86.238281 C 190.761719 84.746094 193.003906 84.746094 193.003906 86.238281 \"/>\n",
       "<path style=\"fill:none;stroke-width:0.75;stroke-linecap:round;stroke-linejoin:round;stroke:rgb(0%,0%,0%);stroke-opacity:1;stroke-miterlimit:10;\" d=\"M 193.273438 86.457031 C 193.273438 87.949219 191.03125 87.949219 191.03125 86.457031 C 191.03125 84.960938 193.273438 84.960938 193.273438 86.457031 \"/>\n",
       "<path style=\"fill:none;stroke-width:0.75;stroke-linecap:round;stroke-linejoin:round;stroke:rgb(0%,0%,0%);stroke-opacity:1;stroke-miterlimit:10;\" d=\"M 193.539063 97.945313 C 193.539063 99.4375 191.300781 99.4375 191.300781 97.945313 C 191.300781 96.453125 193.539063 96.453125 193.539063 97.945313 \"/>\n",
       "<path style=\"fill:none;stroke-width:0.75;stroke-linecap:round;stroke-linejoin:round;stroke:rgb(0%,0%,0%);stroke-opacity:1;stroke-miterlimit:10;\" d=\"M 193.808594 144.984375 C 193.808594 146.480469 191.570313 146.480469 191.570313 144.984375 C 191.570313 143.492188 193.808594 143.492188 193.808594 144.984375 \"/>\n",
       "<path style=\"fill:none;stroke-width:0.75;stroke-linecap:round;stroke-linejoin:round;stroke:rgb(0%,0%,0%);stroke-opacity:1;stroke-miterlimit:10;\" d=\"M 194.078125 83.738281 C 194.078125 85.234375 191.835938 85.234375 191.835938 83.738281 C 191.835938 82.246094 194.078125 82.246094 194.078125 83.738281 \"/>\n",
       "<path style=\"fill:none;stroke-width:0.75;stroke-linecap:round;stroke-linejoin:round;stroke:rgb(0%,0%,0%);stroke-opacity:1;stroke-miterlimit:10;\" d=\"M 194.347656 135.382813 C 194.347656 136.875 192.105469 136.875 192.105469 135.382813 C 192.105469 133.886719 194.347656 133.886719 194.347656 135.382813 \"/>\n",
       "<path style=\"fill:none;stroke-width:0.75;stroke-linecap:round;stroke-linejoin:round;stroke:rgb(0%,0%,0%);stroke-opacity:1;stroke-miterlimit:10;\" d=\"M 194.613281 99.996094 C 194.613281 101.492188 192.375 101.492188 192.375 99.996094 C 192.375 98.503906 194.613281 98.503906 194.613281 99.996094 \"/>\n",
       "<path style=\"fill:none;stroke-width:0.75;stroke-linecap:round;stroke-linejoin:round;stroke:rgb(0%,0%,0%);stroke-opacity:1;stroke-miterlimit:10;\" d=\"M 194.882813 100.417969 C 194.882813 101.914063 192.640625 101.914063 192.640625 100.417969 C 192.640625 98.925781 194.882813 98.925781 194.882813 100.417969 \"/>\n",
       "<path style=\"fill:none;stroke-width:0.75;stroke-linecap:round;stroke-linejoin:round;stroke:rgb(0%,0%,0%);stroke-opacity:1;stroke-miterlimit:10;\" d=\"M 195.152344 101.128906 C 195.152344 102.625 192.910156 102.625 192.910156 101.128906 C 192.910156 99.636719 195.152344 99.636719 195.152344 101.128906 \"/>\n",
       "<path style=\"fill:none;stroke-width:0.75;stroke-linecap:round;stroke-linejoin:round;stroke:rgb(0%,0%,0%);stroke-opacity:1;stroke-miterlimit:10;\" d=\"M 195.417969 102.832031 C 195.417969 104.328125 193.179688 104.328125 193.179688 102.832031 C 193.179688 101.339844 195.417969 101.339844 195.417969 102.832031 \"/>\n",
       "<path style=\"fill:none;stroke-width:0.75;stroke-linecap:round;stroke-linejoin:round;stroke:rgb(0%,0%,0%);stroke-opacity:1;stroke-miterlimit:10;\" d=\"M 195.6875 135.835938 C 195.6875 137.332031 193.449219 137.332031 193.449219 135.835938 C 193.449219 134.34375 195.6875 134.34375 195.6875 135.835938 \"/>\n",
       "<path style=\"fill:none;stroke-width:0.75;stroke-linecap:round;stroke-linejoin:round;stroke:rgb(0%,0%,0%);stroke-opacity:1;stroke-miterlimit:10;\" d=\"M 195.957031 99.070313 C 195.957031 100.5625 193.714844 100.5625 193.714844 99.070313 C 193.714844 97.578125 195.957031 97.578125 195.957031 99.070313 \"/>\n",
       "<path style=\"fill:none;stroke-width:0.75;stroke-linecap:round;stroke-linejoin:round;stroke:rgb(0%,0%,0%);stroke-opacity:1;stroke-miterlimit:10;\" d=\"M 196.226563 75.359375 C 196.226563 76.851563 193.984375 76.851563 193.984375 75.359375 C 193.984375 73.863281 196.226563 73.863281 196.226563 75.359375 \"/>\n",
       "<path style=\"fill:none;stroke-width:0.75;stroke-linecap:round;stroke-linejoin:round;stroke:rgb(0%,0%,0%);stroke-opacity:1;stroke-miterlimit:10;\" d=\"M 196.492188 149.308594 C 196.492188 150.800781 194.253906 150.800781 194.253906 149.308594 C 194.253906 147.8125 196.492188 147.8125 196.492188 149.308594 \"/>\n",
       "<path style=\"fill:none;stroke-width:0.75;stroke-linecap:round;stroke-linejoin:round;stroke:rgb(0%,0%,0%);stroke-opacity:1;stroke-miterlimit:10;\" d=\"M 196.761719 83.765625 C 196.761719 85.261719 194.519531 85.261719 194.519531 83.765625 C 194.519531 82.273438 196.761719 82.273438 196.761719 83.765625 \"/>\n",
       "<path style=\"fill:none;stroke-width:0.75;stroke-linecap:round;stroke-linejoin:round;stroke:rgb(0%,0%,0%);stroke-opacity:1;stroke-miterlimit:10;\" d=\"M 197.03125 68.988281 C 197.03125 70.480469 194.789063 70.480469 194.789063 68.988281 C 194.789063 67.492188 197.03125 67.492188 197.03125 68.988281 \"/>\n",
       "<path style=\"fill:none;stroke-width:0.75;stroke-linecap:round;stroke-linejoin:round;stroke:rgb(0%,0%,0%);stroke-opacity:1;stroke-miterlimit:10;\" d=\"M 197.296875 89.914063 C 197.296875 91.40625 195.058594 91.40625 195.058594 89.914063 C 195.058594 88.417969 197.296875 88.417969 197.296875 89.914063 \"/>\n",
       "<path style=\"fill:none;stroke-width:0.75;stroke-linecap:round;stroke-linejoin:round;stroke:rgb(0%,0%,0%);stroke-opacity:1;stroke-miterlimit:10;\" d=\"M 197.566406 134.515625 C 197.566406 136.011719 195.324219 136.011719 195.324219 134.515625 C 195.324219 133.023438 197.566406 133.023438 197.566406 134.515625 \"/>\n",
       "<path style=\"fill:none;stroke-width:0.75;stroke-linecap:round;stroke-linejoin:round;stroke:rgb(0%,0%,0%);stroke-opacity:1;stroke-miterlimit:10;\" d=\"M 197.835938 105.480469 C 197.835938 106.976563 195.59375 106.976563 195.59375 105.480469 C 195.59375 103.988281 197.835938 103.988281 197.835938 105.480469 \"/>\n",
       "<path style=\"fill:none;stroke-width:0.75;stroke-linecap:round;stroke-linejoin:round;stroke:rgb(0%,0%,0%);stroke-opacity:1;stroke-miterlimit:10;\" d=\"M 198.105469 80.464844 C 198.105469 81.957031 195.863281 81.957031 195.863281 80.464844 C 195.863281 78.96875 198.105469 78.96875 198.105469 80.464844 \"/>\n",
       "<path style=\"fill:none;stroke-width:0.75;stroke-linecap:round;stroke-linejoin:round;stroke:rgb(0%,0%,0%);stroke-opacity:1;stroke-miterlimit:10;\" d=\"M 198.371094 71.59375 C 198.371094 73.085938 196.132813 73.085938 196.132813 71.59375 C 196.132813 70.097656 198.371094 70.097656 198.371094 71.59375 \"/>\n",
       "<path style=\"fill:none;stroke-width:0.75;stroke-linecap:round;stroke-linejoin:round;stroke:rgb(0%,0%,0%);stroke-opacity:1;stroke-miterlimit:10;\" d=\"M 198.640625 80.816406 C 198.640625 82.308594 196.398438 82.308594 196.398438 80.816406 C 196.398438 79.324219 198.640625 79.324219 198.640625 80.816406 \"/>\n",
       "<path style=\"fill:none;stroke-width:0.75;stroke-linecap:round;stroke-linejoin:round;stroke:rgb(0%,0%,0%);stroke-opacity:1;stroke-miterlimit:10;\" d=\"M 198.910156 94.832031 C 198.910156 96.324219 196.667969 96.324219 196.667969 94.832031 C 196.667969 93.335938 198.910156 93.335938 198.910156 94.832031 \"/>\n",
       "<path style=\"fill:none;stroke-width:0.75;stroke-linecap:round;stroke-linejoin:round;stroke:rgb(0%,0%,0%);stroke-opacity:1;stroke-miterlimit:10;\" d=\"M 199.175781 99.660156 C 199.175781 101.152344 196.9375 101.152344 196.9375 99.660156 C 196.9375 98.164063 199.175781 98.164063 199.175781 99.660156 \"/>\n",
       "<path style=\"fill:none;stroke-width:0.75;stroke-linecap:round;stroke-linejoin:round;stroke:rgb(0%,0%,0%);stroke-opacity:1;stroke-miterlimit:10;\" d=\"M 199.445313 141.996094 C 199.445313 143.492188 197.203125 143.492188 197.203125 141.996094 C 197.203125 140.503906 199.445313 140.503906 199.445313 141.996094 \"/>\n",
       "<path style=\"fill:none;stroke-width:0.75;stroke-linecap:round;stroke-linejoin:round;stroke:rgb(0%,0%,0%);stroke-opacity:1;stroke-miterlimit:10;\" d=\"M 199.714844 88.695313 C 199.714844 90.1875 197.472656 90.1875 197.472656 88.695313 C 197.472656 87.199219 199.714844 87.199219 199.714844 88.695313 \"/>\n",
       "<path style=\"fill:none;stroke-width:0.75;stroke-linecap:round;stroke-linejoin:round;stroke:rgb(0%,0%,0%);stroke-opacity:1;stroke-miterlimit:10;\" d=\"M 199.984375 99.128906 C 199.984375 100.625 197.742188 100.625 197.742188 99.128906 C 197.742188 97.636719 199.984375 97.636719 199.984375 99.128906 \"/>\n",
       "<path style=\"fill:none;stroke-width:0.75;stroke-linecap:round;stroke-linejoin:round;stroke:rgb(0%,0%,0%);stroke-opacity:1;stroke-miterlimit:10;\" d=\"M 200.25 82.550781 C 200.25 84.046875 198.011719 84.046875 198.011719 82.550781 C 198.011719 81.058594 200.25 81.058594 200.25 82.550781 \"/>\n",
       "<path style=\"fill:none;stroke-width:0.75;stroke-linecap:round;stroke-linejoin:round;stroke:rgb(0%,0%,0%);stroke-opacity:1;stroke-miterlimit:10;\" d=\"M 200.519531 91.519531 C 200.519531 93.011719 198.277344 93.011719 198.277344 91.519531 C 198.277344 90.023438 200.519531 90.023438 200.519531 91.519531 \"/>\n",
       "<path style=\"fill:none;stroke-width:0.75;stroke-linecap:round;stroke-linejoin:round;stroke:rgb(0%,0%,0%);stroke-opacity:1;stroke-miterlimit:10;\" d=\"M 200.789063 106.851563 C 200.789063 108.34375 198.546875 108.34375 198.546875 106.851563 C 198.546875 105.355469 200.789063 105.355469 200.789063 106.851563 \"/>\n",
       "<path style=\"fill:none;stroke-width:0.75;stroke-linecap:round;stroke-linejoin:round;stroke:rgb(0%,0%,0%);stroke-opacity:1;stroke-miterlimit:10;\" d=\"M 201.054688 95.800781 C 201.054688 97.296875 198.816406 97.296875 198.816406 95.800781 C 198.816406 94.308594 201.054688 94.308594 201.054688 95.800781 \"/>\n",
       "<path style=\"fill:none;stroke-width:0.75;stroke-linecap:round;stroke-linejoin:round;stroke:rgb(0%,0%,0%);stroke-opacity:1;stroke-miterlimit:10;\" d=\"M 201.324219 134.828125 C 201.324219 136.320313 199.082031 136.320313 199.082031 134.828125 C 199.082031 133.332031 201.324219 133.332031 201.324219 134.828125 \"/>\n",
       "<path style=\"fill:none;stroke-width:0.75;stroke-linecap:round;stroke-linejoin:round;stroke:rgb(0%,0%,0%);stroke-opacity:1;stroke-miterlimit:10;\" d=\"M 201.59375 88.277344 C 201.59375 89.769531 199.351563 89.769531 199.351563 88.277344 C 199.351563 86.785156 201.59375 86.785156 201.59375 88.277344 \"/>\n",
       "<path style=\"fill:none;stroke-width:0.75;stroke-linecap:round;stroke-linejoin:round;stroke:rgb(0%,0%,0%);stroke-opacity:1;stroke-miterlimit:10;\" d=\"M 201.863281 100.519531 C 201.863281 102.011719 199.621094 102.011719 199.621094 100.519531 C 199.621094 99.027344 201.863281 99.027344 201.863281 100.519531 \"/>\n",
       "<path style=\"fill:none;stroke-width:0.75;stroke-linecap:round;stroke-linejoin:round;stroke:rgb(0%,0%,0%);stroke-opacity:1;stroke-miterlimit:10;\" d=\"M 202.128906 98.988281 C 202.128906 100.480469 199.890625 100.480469 199.890625 98.988281 C 199.890625 97.496094 202.128906 97.496094 202.128906 98.988281 \"/>\n",
       "<path style=\"fill:none;stroke-width:0.75;stroke-linecap:round;stroke-linejoin:round;stroke:rgb(0%,0%,0%);stroke-opacity:1;stroke-miterlimit:10;\" d=\"M 202.398438 95.707031 C 202.398438 97.199219 200.15625 97.199219 200.15625 95.707031 C 200.15625 94.210938 202.398438 94.210938 202.398438 95.707031 \"/>\n",
       "<path style=\"fill:none;stroke-width:0.75;stroke-linecap:round;stroke-linejoin:round;stroke:rgb(0%,0%,0%);stroke-opacity:1;stroke-miterlimit:10;\" d=\"M 202.667969 94.929688 C 202.667969 96.425781 200.425781 96.425781 200.425781 94.929688 C 200.425781 93.4375 202.667969 93.4375 202.667969 94.929688 \"/>\n",
       "<path style=\"fill:none;stroke-width:0.75;stroke-linecap:round;stroke-linejoin:round;stroke:rgb(0%,0%,0%);stroke-opacity:1;stroke-miterlimit:10;\" d=\"M 202.933594 108.078125 C 202.933594 109.574219 200.695313 109.574219 200.695313 108.078125 C 200.695313 106.585938 202.933594 106.585938 202.933594 108.078125 \"/>\n",
       "<path style=\"fill:none;stroke-width:0.75;stroke-linecap:round;stroke-linejoin:round;stroke:rgb(0%,0%,0%);stroke-opacity:1;stroke-miterlimit:10;\" d=\"M 203.203125 140.664063 C 203.203125 142.160156 200.960938 142.160156 200.960938 140.664063 C 200.960938 139.171875 203.203125 139.171875 203.203125 140.664063 \"/>\n",
       "<path style=\"fill:none;stroke-width:0.75;stroke-linecap:round;stroke-linejoin:round;stroke:rgb(0%,0%,0%);stroke-opacity:1;stroke-miterlimit:10;\" d=\"M 203.472656 88.804688 C 203.472656 90.296875 201.230469 90.296875 201.230469 88.804688 C 201.230469 87.308594 203.472656 87.308594 203.472656 88.804688 \"/>\n",
       "<path style=\"fill:none;stroke-width:0.75;stroke-linecap:round;stroke-linejoin:round;stroke:rgb(0%,0%,0%);stroke-opacity:1;stroke-miterlimit:10;\" d=\"M 203.742188 101.609375 C 203.742188 103.105469 201.5 103.105469 201.5 101.609375 C 201.5 100.117188 203.742188 100.117188 203.742188 101.609375 \"/>\n",
       "<path style=\"fill:none;stroke-width:0.75;stroke-linecap:round;stroke-linejoin:round;stroke:rgb(0%,0%,0%);stroke-opacity:1;stroke-miterlimit:10;\" d=\"M 204.007813 89.640625 C 204.007813 91.132813 201.769531 91.132813 201.769531 89.640625 C 201.769531 88.144531 204.007813 88.144531 204.007813 89.640625 \"/>\n",
       "<path style=\"fill:none;stroke-width:0.75;stroke-linecap:round;stroke-linejoin:round;stroke:rgb(0%,0%,0%);stroke-opacity:1;stroke-miterlimit:10;\" d=\"M 204.277344 118.90625 C 204.277344 120.398438 202.035156 120.398438 202.035156 118.90625 C 202.035156 117.410156 204.277344 117.410156 204.277344 118.90625 \"/>\n",
       "<path style=\"fill:none;stroke-width:0.75;stroke-linecap:round;stroke-linejoin:round;stroke:rgb(0%,0%,0%);stroke-opacity:1;stroke-miterlimit:10;\" d=\"M 204.546875 101.171875 C 204.546875 102.667969 202.304688 102.667969 202.304688 101.171875 C 202.304688 99.679688 204.546875 99.679688 204.546875 101.171875 \"/>\n",
       "<path style=\"fill:none;stroke-width:0.75;stroke-linecap:round;stroke-linejoin:round;stroke:rgb(0%,0%,0%);stroke-opacity:1;stroke-miterlimit:10;\" d=\"M 204.8125 104.808594 C 204.8125 106.304688 202.574219 106.304688 202.574219 104.808594 C 202.574219 103.316406 204.8125 103.316406 204.8125 104.808594 \"/>\n",
       "<path style=\"fill:none;stroke-width:0.75;stroke-linecap:round;stroke-linejoin:round;stroke:rgb(0%,0%,0%);stroke-opacity:1;stroke-miterlimit:10;\" d=\"M 205.082031 148.699219 C 205.082031 150.195313 202.839844 150.195313 202.839844 148.699219 C 202.839844 147.207031 205.082031 147.207031 205.082031 148.699219 \"/>\n",
       "<path style=\"fill:none;stroke-width:0.75;stroke-linecap:round;stroke-linejoin:round;stroke:rgb(0%,0%,0%);stroke-opacity:1;stroke-miterlimit:10;\" d=\"M 205.351563 91.125 C 205.351563 92.621094 203.109375 92.621094 203.109375 91.125 C 203.109375 89.632813 205.351563 89.632813 205.351563 91.125 \"/>\n",
       "<path style=\"fill:none;stroke-width:0.75;stroke-linecap:round;stroke-linejoin:round;stroke:rgb(0%,0%,0%);stroke-opacity:1;stroke-miterlimit:10;\" d=\"M 205.621094 87.921875 C 205.621094 89.414063 203.378906 89.414063 203.378906 87.921875 C 203.378906 86.425781 205.621094 86.425781 205.621094 87.921875 \"/>\n",
       "<path style=\"fill:none;stroke-width:0.75;stroke-linecap:round;stroke-linejoin:round;stroke:rgb(0%,0%,0%);stroke-opacity:1;stroke-miterlimit:10;\" d=\"M 205.886719 72.828125 C 205.886719 74.324219 203.648438 74.324219 203.648438 72.828125 C 203.648438 71.335938 205.886719 71.335938 205.886719 72.828125 \"/>\n",
       "<path style=\"fill:none;stroke-width:0.75;stroke-linecap:round;stroke-linejoin:round;stroke:rgb(0%,0%,0%);stroke-opacity:1;stroke-miterlimit:10;\" d=\"M 206.15625 85.136719 C 206.15625 86.632813 203.914063 86.632813 203.914063 85.136719 C 203.914063 83.644531 206.15625 83.644531 206.15625 85.136719 \"/>\n",
       "<path style=\"fill:none;stroke-width:0.75;stroke-linecap:round;stroke-linejoin:round;stroke:rgb(0%,0%,0%);stroke-opacity:1;stroke-miterlimit:10;\" d=\"M 206.425781 83.707031 C 206.425781 85.199219 204.183594 85.199219 204.183594 83.707031 C 204.183594 82.210938 206.425781 82.210938 206.425781 83.707031 \"/>\n",
       "<path style=\"fill:none;stroke-width:0.75;stroke-linecap:round;stroke-linejoin:round;stroke:rgb(0%,0%,0%);stroke-opacity:1;stroke-miterlimit:10;\" d=\"M 206.691406 89.390625 C 206.691406 90.886719 204.453125 90.886719 204.453125 89.390625 C 204.453125 87.898438 206.691406 87.898438 206.691406 89.390625 \"/>\n",
       "<path style=\"fill:none;stroke-width:0.75;stroke-linecap:round;stroke-linejoin:round;stroke:rgb(0%,0%,0%);stroke-opacity:1;stroke-miterlimit:10;\" d=\"M 206.960938 122.976563 C 206.960938 124.46875 204.71875 124.46875 204.71875 122.976563 C 204.71875 121.480469 206.960938 121.480469 206.960938 122.976563 \"/>\n",
       "<path style=\"fill:none;stroke-width:0.75;stroke-linecap:round;stroke-linejoin:round;stroke:rgb(0%,0%,0%);stroke-opacity:1;stroke-miterlimit:10;\" d=\"M 207.230469 95.410156 C 207.230469 96.902344 204.988281 96.902344 204.988281 95.410156 C 204.988281 93.917969 207.230469 93.917969 207.230469 95.410156 \"/>\n",
       "<path style=\"fill:none;stroke-width:0.75;stroke-linecap:round;stroke-linejoin:round;stroke:rgb(0%,0%,0%);stroke-opacity:1;stroke-miterlimit:10;\" d=\"M 207.5 90.878906 C 207.5 92.375 205.257813 92.375 205.257813 90.878906 C 205.257813 89.386719 207.5 89.386719 207.5 90.878906 \"/>\n",
       "<path style=\"fill:none;stroke-width:0.75;stroke-linecap:round;stroke-linejoin:round;stroke:rgb(0%,0%,0%);stroke-opacity:1;stroke-miterlimit:10;\" d=\"M 207.765625 99.089844 C 207.765625 100.582031 205.527344 100.582031 205.527344 99.089844 C 205.527344 97.59375 207.765625 97.59375 207.765625 99.089844 \"/>\n",
       "<path style=\"fill:none;stroke-width:0.75;stroke-linecap:round;stroke-linejoin:round;stroke:rgb(0%,0%,0%);stroke-opacity:1;stroke-miterlimit:10;\" d=\"M 208.035156 90.109375 C 208.035156 91.601563 205.792969 91.601563 205.792969 90.109375 C 205.792969 88.613281 208.035156 88.613281 208.035156 90.109375 \"/>\n",
       "<path style=\"fill:none;stroke-width:0.75;stroke-linecap:round;stroke-linejoin:round;stroke:rgb(0%,0%,0%);stroke-opacity:1;stroke-miterlimit:10;\" d=\"M 208.304688 92.304688 C 208.304688 93.800781 206.0625 93.800781 206.0625 92.304688 C 206.0625 90.8125 208.304688 90.8125 208.304688 92.304688 \"/>\n",
       "<path style=\"fill:none;stroke-width:0.75;stroke-linecap:round;stroke-linejoin:round;stroke:rgb(0%,0%,0%);stroke-opacity:1;stroke-miterlimit:10;\" d=\"M 208.570313 93.859375 C 208.570313 95.351563 206.332031 95.351563 206.332031 93.859375 C 206.332031 92.363281 208.570313 92.363281 208.570313 93.859375 \"/>\n",
       "<path style=\"fill:none;stroke-width:0.75;stroke-linecap:round;stroke-linejoin:round;stroke:rgb(0%,0%,0%);stroke-opacity:1;stroke-miterlimit:10;\" d=\"M 208.839844 135.570313 C 208.839844 137.0625 206.597656 137.0625 206.597656 135.570313 C 206.597656 134.078125 208.839844 134.078125 208.839844 135.570313 \"/>\n",
       "<path style=\"fill:none;stroke-width:0.75;stroke-linecap:round;stroke-linejoin:round;stroke:rgb(0%,0%,0%);stroke-opacity:1;stroke-miterlimit:10;\" d=\"M 209.109375 86.5625 C 209.109375 88.058594 206.867188 88.058594 206.867188 86.5625 C 206.867188 85.070313 209.109375 85.070313 209.109375 86.5625 \"/>\n",
       "<path style=\"fill:none;stroke-width:0.75;stroke-linecap:round;stroke-linejoin:round;stroke:rgb(0%,0%,0%);stroke-opacity:1;stroke-miterlimit:10;\" d=\"M 209.378906 87.507813 C 209.378906 89 207.136719 89 207.136719 87.507813 C 207.136719 86.011719 209.378906 86.011719 209.378906 87.507813 \"/>\n",
       "<path style=\"fill:none;stroke-width:0.75;stroke-linecap:round;stroke-linejoin:round;stroke:rgb(0%,0%,0%);stroke-opacity:1;stroke-miterlimit:10;\" d=\"M 209.644531 89.417969 C 209.644531 90.914063 207.40625 90.914063 207.40625 89.417969 C 207.40625 87.925781 209.644531 87.925781 209.644531 89.417969 \"/>\n",
       "<path style=\"fill:none;stroke-width:0.75;stroke-linecap:round;stroke-linejoin:round;stroke:rgb(0%,0%,0%);stroke-opacity:1;stroke-miterlimit:10;\" d=\"M 209.914063 108.71875 C 209.914063 110.210938 207.671875 110.210938 207.671875 108.71875 C 207.671875 107.222656 209.914063 107.222656 209.914063 108.71875 \"/>\n",
       "<path style=\"fill:none;stroke-width:0.75;stroke-linecap:round;stroke-linejoin:round;stroke:rgb(0%,0%,0%);stroke-opacity:1;stroke-miterlimit:10;\" d=\"M 210.183594 89.71875 C 210.183594 91.214844 207.941406 91.214844 207.941406 89.71875 C 207.941406 88.226563 210.183594 88.226563 210.183594 89.71875 \"/>\n",
       "<path style=\"fill:none;stroke-width:0.75;stroke-linecap:round;stroke-linejoin:round;stroke:rgb(0%,0%,0%);stroke-opacity:1;stroke-miterlimit:10;\" d=\"M 210.449219 99.710938 C 210.449219 101.203125 208.210938 101.203125 208.210938 99.710938 C 208.210938 98.214844 210.449219 98.214844 210.449219 99.710938 \"/>\n",
       "<path style=\"fill:none;stroke-width:0.75;stroke-linecap:round;stroke-linejoin:round;stroke:rgb(0%,0%,0%);stroke-opacity:1;stroke-miterlimit:10;\" d=\"M 210.71875 142.808594 C 210.71875 144.300781 208.476563 144.300781 208.476563 142.808594 C 208.476563 141.3125 210.71875 141.3125 210.71875 142.808594 \"/>\n",
       "<path style=\"fill:none;stroke-width:0.75;stroke-linecap:round;stroke-linejoin:round;stroke:rgb(0%,0%,0%);stroke-opacity:1;stroke-miterlimit:10;\" d=\"M 210.988281 92.238281 C 210.988281 93.734375 208.746094 93.734375 208.746094 92.238281 C 208.746094 90.746094 210.988281 90.746094 210.988281 92.238281 \"/>\n",
       "<path style=\"fill:none;stroke-width:0.75;stroke-linecap:round;stroke-linejoin:round;stroke:rgb(0%,0%,0%);stroke-opacity:1;stroke-miterlimit:10;\" d=\"M 211.257813 98.722656 C 211.257813 100.214844 209.015625 100.214844 209.015625 98.722656 C 209.015625 97.226563 211.257813 97.226563 211.257813 98.722656 \"/>\n",
       "<path style=\"fill:none;stroke-width:0.75;stroke-linecap:round;stroke-linejoin:round;stroke:rgb(0%,0%,0%);stroke-opacity:1;stroke-miterlimit:10;\" d=\"M 211.523438 93.855469 C 211.523438 95.347656 209.285156 95.347656 209.285156 93.855469 C 209.285156 92.359375 211.523438 92.359375 211.523438 93.855469 \"/>\n",
       "<path style=\"fill:none;stroke-width:0.75;stroke-linecap:round;stroke-linejoin:round;stroke:rgb(0%,0%,0%);stroke-opacity:1;stroke-miterlimit:10;\" d=\"M 211.792969 96.578125 C 211.792969 98.074219 209.550781 98.074219 209.550781 96.578125 C 209.550781 95.085938 211.792969 95.085938 211.792969 96.578125 \"/>\n",
       "<path style=\"fill:none;stroke-width:0.75;stroke-linecap:round;stroke-linejoin:round;stroke:rgb(0%,0%,0%);stroke-opacity:1;stroke-miterlimit:10;\" d=\"M 212.0625 86.460938 C 212.0625 87.953125 209.820313 87.953125 209.820313 86.460938 C 209.820313 84.964844 212.0625 84.964844 212.0625 86.460938 \"/>\n",
       "<path style=\"fill:none;stroke-width:0.75;stroke-linecap:round;stroke-linejoin:round;stroke:rgb(0%,0%,0%);stroke-opacity:1;stroke-miterlimit:10;\" d=\"M 212.328125 99.34375 C 212.328125 100.835938 210.089844 100.835938 210.089844 99.34375 C 210.089844 97.847656 212.328125 97.847656 212.328125 99.34375 \"/>\n",
       "<path style=\"fill:none;stroke-width:0.75;stroke-linecap:round;stroke-linejoin:round;stroke:rgb(0%,0%,0%);stroke-opacity:1;stroke-miterlimit:10;\" d=\"M 212.597656 125.957031 C 212.597656 127.453125 210.355469 127.453125 210.355469 125.957031 C 210.355469 124.464844 212.597656 124.464844 212.597656 125.957031 \"/>\n",
       "<path style=\"fill:none;stroke-width:0.75;stroke-linecap:round;stroke-linejoin:round;stroke:rgb(0%,0%,0%);stroke-opacity:1;stroke-miterlimit:10;\" d=\"M 212.867188 76.523438 C 212.867188 78.019531 210.625 78.019531 210.625 76.523438 C 210.625 75.03125 212.867188 75.03125 212.867188 76.523438 \"/>\n",
       "<path style=\"fill:none;stroke-width:0.75;stroke-linecap:round;stroke-linejoin:round;stroke:rgb(0%,0%,0%);stroke-opacity:1;stroke-miterlimit:10;\" d=\"M 213.136719 88.328125 C 213.136719 89.820313 210.894531 89.820313 210.894531 88.328125 C 210.894531 86.832031 213.136719 86.832031 213.136719 88.328125 \"/>\n",
       "<path style=\"fill:none;stroke-width:0.75;stroke-linecap:round;stroke-linejoin:round;stroke:rgb(0%,0%,0%);stroke-opacity:1;stroke-miterlimit:10;\" d=\"M 213.402344 75.304688 C 213.402344 76.800781 211.164063 76.800781 211.164063 75.304688 C 211.164063 73.8125 213.402344 73.8125 213.402344 75.304688 \"/>\n",
       "<path style=\"fill:none;stroke-width:0.75;stroke-linecap:round;stroke-linejoin:round;stroke:rgb(0%,0%,0%);stroke-opacity:1;stroke-miterlimit:10;\" d=\"M 213.671875 87.230469 C 213.671875 88.726563 211.429688 88.726563 211.429688 87.230469 C 211.429688 85.738281 213.671875 85.738281 213.671875 87.230469 \"/>\n",
       "<path style=\"fill:none;stroke-width:0.75;stroke-linecap:round;stroke-linejoin:round;stroke:rgb(0%,0%,0%);stroke-opacity:1;stroke-miterlimit:10;\" d=\"M 213.941406 78.3125 C 213.941406 79.804688 211.699219 79.804688 211.699219 78.3125 C 211.699219 76.816406 213.941406 76.816406 213.941406 78.3125 \"/>\n",
       "<path style=\"fill:none;stroke-width:0.75;stroke-linecap:round;stroke-linejoin:round;stroke:rgb(0%,0%,0%);stroke-opacity:1;stroke-miterlimit:10;\" d=\"M 214.207031 82.628906 C 214.207031 84.125 211.96875 84.125 211.96875 82.628906 C 211.96875 81.136719 214.207031 81.136719 214.207031 82.628906 \"/>\n",
       "<path style=\"fill:none;stroke-width:0.75;stroke-linecap:round;stroke-linejoin:round;stroke:rgb(0%,0%,0%);stroke-opacity:1;stroke-miterlimit:10;\" d=\"M 214.476563 128.222656 C 214.476563 129.714844 212.234375 129.714844 212.234375 128.222656 C 212.234375 126.726563 214.476563 126.726563 214.476563 128.222656 \"/>\n",
       "<path style=\"fill:none;stroke-width:0.75;stroke-linecap:round;stroke-linejoin:round;stroke:rgb(0%,0%,0%);stroke-opacity:1;stroke-miterlimit:10;\" d=\"M 214.746094 85.027344 C 214.746094 86.519531 212.503906 86.519531 212.503906 85.027344 C 212.503906 83.53125 214.746094 83.53125 214.746094 85.027344 \"/>\n",
       "<path style=\"fill:none;stroke-width:0.75;stroke-linecap:round;stroke-linejoin:round;stroke:rgb(0%,0%,0%);stroke-opacity:1;stroke-miterlimit:10;\" d=\"M 215.015625 85.367188 C 215.015625 86.859375 212.773438 86.859375 212.773438 85.367188 C 212.773438 83.871094 215.015625 83.871094 215.015625 85.367188 \"/>\n",
       "<path style=\"fill:none;stroke-width:0.75;stroke-linecap:round;stroke-linejoin:round;stroke:rgb(0%,0%,0%);stroke-opacity:1;stroke-miterlimit:10;\" d=\"M 215.28125 83.730469 C 215.28125 85.226563 213.042969 85.226563 213.042969 83.730469 C 213.042969 82.238281 215.28125 82.238281 215.28125 83.730469 \"/>\n",
       "<path style=\"fill:none;stroke-width:0.75;stroke-linecap:round;stroke-linejoin:round;stroke:rgb(0%,0%,0%);stroke-opacity:1;stroke-miterlimit:10;\" d=\"M 215.550781 91.492188 C 215.550781 92.988281 213.308594 92.988281 213.308594 91.492188 C 213.308594 90 215.550781 90 215.550781 91.492188 \"/>\n",
       "<path style=\"fill:none;stroke-width:0.75;stroke-linecap:round;stroke-linejoin:round;stroke:rgb(0%,0%,0%);stroke-opacity:1;stroke-miterlimit:10;\" d=\"M 215.820313 97.925781 C 215.820313 99.417969 213.578125 99.417969 213.578125 97.925781 C 213.578125 96.429688 215.820313 96.429688 215.820313 97.925781 \"/>\n",
       "<path style=\"fill:none;stroke-width:0.75;stroke-linecap:round;stroke-linejoin:round;stroke:rgb(0%,0%,0%);stroke-opacity:1;stroke-miterlimit:10;\" d=\"M 216.085938 93.195313 C 216.085938 94.6875 213.847656 94.6875 213.847656 93.195313 C 213.847656 91.699219 216.085938 91.699219 216.085938 93.195313 \"/>\n",
       "<path style=\"fill:none;stroke-width:0.75;stroke-linecap:round;stroke-linejoin:round;stroke:rgb(0%,0%,0%);stroke-opacity:1;stroke-miterlimit:10;\" d=\"M 216.355469 138.703125 C 216.355469 140.199219 214.113281 140.199219 214.113281 138.703125 C 214.113281 137.210938 216.355469 137.210938 216.355469 138.703125 \"/>\n",
       "<path style=\"fill:none;stroke-width:0.75;stroke-linecap:round;stroke-linejoin:round;stroke:rgb(0%,0%,0%);stroke-opacity:1;stroke-miterlimit:10;\" d=\"M 216.625 87.933594 C 216.625 89.429688 214.382813 89.429688 214.382813 87.933594 C 214.382813 86.441406 216.625 86.441406 216.625 87.933594 \"/>\n",
       "<path style=\"fill:none;stroke-width:0.75;stroke-linecap:round;stroke-linejoin:round;stroke:rgb(0%,0%,0%);stroke-opacity:1;stroke-miterlimit:10;\" d=\"M 216.894531 84.785156 C 216.894531 86.28125 214.652344 86.28125 214.652344 84.785156 C 214.652344 83.292969 216.894531 83.292969 216.894531 84.785156 \"/>\n",
       "<path style=\"fill:none;stroke-width:0.75;stroke-linecap:round;stroke-linejoin:round;stroke:rgb(0%,0%,0%);stroke-opacity:1;stroke-miterlimit:10;\" d=\"M 217.160156 98.105469 C 217.160156 99.601563 214.921875 99.601563 214.921875 98.105469 C 214.921875 96.613281 217.160156 96.613281 217.160156 98.105469 \"/>\n",
       "<path style=\"fill:none;stroke-width:0.75;stroke-linecap:round;stroke-linejoin:round;stroke:rgb(0%,0%,0%);stroke-opacity:1;stroke-miterlimit:10;\" d=\"M 217.429688 95.867188 C 217.429688 97.363281 215.1875 97.363281 215.1875 95.867188 C 215.1875 94.375 217.429688 94.375 217.429688 95.867188 \"/>\n",
       "<path style=\"fill:none;stroke-width:0.75;stroke-linecap:round;stroke-linejoin:round;stroke:rgb(0%,0%,0%);stroke-opacity:1;stroke-miterlimit:10;\" d=\"M 217.699219 91.046875 C 217.699219 92.542969 215.457031 92.542969 215.457031 91.046875 C 215.457031 89.554688 217.699219 89.554688 217.699219 91.046875 \"/>\n",
       "<path style=\"fill:none;stroke-width:0.75;stroke-linecap:round;stroke-linejoin:round;stroke:rgb(0%,0%,0%);stroke-opacity:1;stroke-miterlimit:10;\" d=\"M 217.964844 91.921875 C 217.964844 93.417969 215.726563 93.417969 215.726563 91.921875 C 215.726563 90.429688 217.964844 90.429688 217.964844 91.921875 \"/>\n",
       "<path style=\"fill:none;stroke-width:0.75;stroke-linecap:round;stroke-linejoin:round;stroke:rgb(0%,0%,0%);stroke-opacity:1;stroke-miterlimit:10;\" d=\"M 218.234375 128.199219 C 218.234375 129.695313 215.992188 129.695313 215.992188 128.199219 C 215.992188 126.707031 218.234375 126.707031 218.234375 128.199219 \"/>\n",
       "<path style=\"fill:none;stroke-width:0.75;stroke-linecap:round;stroke-linejoin:round;stroke:rgb(0%,0%,0%);stroke-opacity:1;stroke-miterlimit:10;\" d=\"M 218.503906 92.171875 C 218.503906 93.664063 216.261719 93.664063 216.261719 92.171875 C 216.261719 90.675781 218.503906 90.675781 218.503906 92.171875 \"/>\n",
       "<path style=\"fill:none;stroke-width:0.75;stroke-linecap:round;stroke-linejoin:round;stroke:rgb(0%,0%,0%);stroke-opacity:1;stroke-miterlimit:10;\" d=\"M 218.773438 87.175781 C 218.773438 88.667969 216.53125 88.667969 216.53125 87.175781 C 216.53125 85.683594 218.773438 85.683594 218.773438 87.175781 \"/>\n",
       "<path style=\"fill:none;stroke-width:0.75;stroke-linecap:round;stroke-linejoin:round;stroke:rgb(0%,0%,0%);stroke-opacity:1;stroke-miterlimit:10;\" d=\"M 219.039063 102.1875 C 219.039063 103.679688 216.800781 103.679688 216.800781 102.1875 C 216.800781 100.691406 219.039063 100.691406 219.039063 102.1875 \"/>\n",
       "<path style=\"fill:none;stroke-width:0.75;stroke-linecap:round;stroke-linejoin:round;stroke:rgb(0%,0%,0%);stroke-opacity:1;stroke-miterlimit:10;\" d=\"M 219.308594 104.160156 C 219.308594 105.652344 217.066406 105.652344 217.066406 104.160156 C 217.066406 102.664063 219.308594 102.664063 219.308594 104.160156 \"/>\n",
       "<path style=\"fill:none;stroke-width:0.75;stroke-linecap:round;stroke-linejoin:round;stroke:rgb(0%,0%,0%);stroke-opacity:1;stroke-miterlimit:10;\" d=\"M 219.578125 107.347656 C 219.578125 108.839844 217.335938 108.839844 217.335938 107.347656 C 217.335938 105.855469 219.578125 105.855469 219.578125 107.347656 \"/>\n",
       "<path style=\"fill:none;stroke-width:0.75;stroke-linecap:round;stroke-linejoin:round;stroke:rgb(0%,0%,0%);stroke-opacity:1;stroke-miterlimit:10;\" d=\"M 219.84375 105.949219 C 219.84375 107.441406 217.605469 107.441406 217.605469 105.949219 C 217.605469 104.453125 219.84375 104.453125 219.84375 105.949219 \"/>\n",
       "<path style=\"fill:none;stroke-width:0.75;stroke-linecap:round;stroke-linejoin:round;stroke:rgb(0%,0%,0%);stroke-opacity:1;stroke-miterlimit:10;\" d=\"M 220.113281 145.253906 C 220.113281 146.75 217.871094 146.75 217.871094 145.253906 C 217.871094 143.761719 220.113281 143.761719 220.113281 145.253906 \"/>\n",
       "<path style=\"fill:none;stroke-width:0.75;stroke-linecap:round;stroke-linejoin:round;stroke:rgb(0%,0%,0%);stroke-opacity:1;stroke-miterlimit:10;\" d=\"M 220.382813 101.308594 C 220.382813 102.804688 218.140625 102.804688 218.140625 101.308594 C 218.140625 99.816406 220.382813 99.816406 220.382813 101.308594 \"/>\n",
       "<path style=\"fill:none;stroke-width:0.75;stroke-linecap:round;stroke-linejoin:round;stroke:rgb(0%,0%,0%);stroke-opacity:1;stroke-miterlimit:10;\" d=\"M 220.652344 94.945313 C 220.652344 96.441406 218.410156 96.441406 218.410156 94.945313 C 218.410156 93.453125 220.652344 93.453125 220.652344 94.945313 \"/>\n",
       "<path style=\"fill:none;stroke-width:0.75;stroke-linecap:round;stroke-linejoin:round;stroke:rgb(0%,0%,0%);stroke-opacity:1;stroke-miterlimit:10;\" d=\"M 220.917969 93.121094 C 220.917969 94.617188 218.679688 94.617188 218.679688 93.121094 C 218.679688 91.628906 220.917969 91.628906 220.917969 93.121094 \"/>\n",
       "<path style=\"fill:none;stroke-width:0.75;stroke-linecap:round;stroke-linejoin:round;stroke:rgb(0%,0%,0%);stroke-opacity:1;stroke-miterlimit:10;\" d=\"M 221.1875 86.394531 C 221.1875 87.886719 218.945313 87.886719 218.945313 86.394531 C 218.945313 84.898438 221.1875 84.898438 221.1875 86.394531 \"/>\n",
       "<path style=\"fill:none;stroke-width:0.75;stroke-linecap:round;stroke-linejoin:round;stroke:rgb(0%,0%,0%);stroke-opacity:1;stroke-miterlimit:10;\" d=\"M 221.457031 82.597656 C 221.457031 84.089844 219.214844 84.089844 219.214844 82.597656 C 219.214844 81.101563 221.457031 81.101563 221.457031 82.597656 \"/>\n",
       "<path style=\"fill:none;stroke-width:0.75;stroke-linecap:round;stroke-linejoin:round;stroke:rgb(0%,0%,0%);stroke-opacity:1;stroke-miterlimit:10;\" d=\"M 221.722656 98.902344 C 221.722656 100.398438 219.484375 100.398438 219.484375 98.902344 C 219.484375 97.410156 221.722656 97.410156 221.722656 98.902344 \"/>\n",
       "<path style=\"fill:none;stroke-width:0.75;stroke-linecap:round;stroke-linejoin:round;stroke:rgb(0%,0%,0%);stroke-opacity:1;stroke-miterlimit:10;\" d=\"M 221.992188 127.507813 C 221.992188 129.003906 219.75 129.003906 219.75 127.507813 C 219.75 126.015625 221.992188 126.015625 221.992188 127.507813 \"/>\n",
       "<path style=\"fill:none;stroke-width:0.75;stroke-linecap:round;stroke-linejoin:round;stroke:rgb(0%,0%,0%);stroke-opacity:1;stroke-miterlimit:10;\" d=\"M 222.261719 85.046875 C 222.261719 86.542969 220.019531 86.542969 220.019531 85.046875 C 220.019531 83.554688 222.261719 83.554688 222.261719 85.046875 \"/>\n",
       "<path style=\"fill:none;stroke-width:0.75;stroke-linecap:round;stroke-linejoin:round;stroke:rgb(0%,0%,0%);stroke-opacity:1;stroke-miterlimit:10;\" d=\"M 222.53125 87.042969 C 222.53125 88.539063 220.289063 88.539063 220.289063 87.042969 C 220.289063 85.550781 222.53125 85.550781 222.53125 87.042969 \"/>\n",
       "<path style=\"fill:none;stroke-width:0.75;stroke-linecap:round;stroke-linejoin:round;stroke:rgb(0%,0%,0%);stroke-opacity:1;stroke-miterlimit:10;\" d=\"M 222.796875 70.773438 C 222.796875 72.265625 220.558594 72.265625 220.558594 70.773438 C 220.558594 69.277344 222.796875 69.277344 222.796875 70.773438 \"/>\n",
       "<path style=\"fill:none;stroke-width:0.75;stroke-linecap:round;stroke-linejoin:round;stroke:rgb(0%,0%,0%);stroke-opacity:1;stroke-miterlimit:10;\" d=\"M 223.066406 91.109375 C 223.066406 92.601563 220.824219 92.601563 220.824219 91.109375 C 220.824219 89.613281 223.066406 89.613281 223.066406 91.109375 \"/>\n",
       "<path style=\"fill:none;stroke-width:0.75;stroke-linecap:round;stroke-linejoin:round;stroke:rgb(0%,0%,0%);stroke-opacity:1;stroke-miterlimit:10;\" d=\"M 223.335938 87.289063 C 223.335938 88.785156 221.09375 88.785156 221.09375 87.289063 C 221.09375 85.796875 223.335938 85.796875 223.335938 87.289063 \"/>\n",
       "<path style=\"fill:none;stroke-width:0.75;stroke-linecap:round;stroke-linejoin:round;stroke:rgb(0%,0%,0%);stroke-opacity:1;stroke-miterlimit:10;\" d=\"M 223.601563 102.539063 C 223.601563 104.035156 221.363281 104.035156 221.363281 102.539063 C 221.363281 101.046875 223.601563 101.046875 223.601563 102.539063 \"/>\n",
       "<path style=\"fill:none;stroke-width:0.75;stroke-linecap:round;stroke-linejoin:round;stroke:rgb(0%,0%,0%);stroke-opacity:1;stroke-miterlimit:10;\" d=\"M 223.871094 146.292969 C 223.871094 147.789063 221.628906 147.789063 221.628906 146.292969 C 221.628906 144.800781 223.871094 144.800781 223.871094 146.292969 \"/>\n",
       "<path style=\"fill:none;stroke-width:0.75;stroke-linecap:round;stroke-linejoin:round;stroke:rgb(0%,0%,0%);stroke-opacity:1;stroke-miterlimit:10;\" d=\"M 224.140625 93.738281 C 224.140625 95.230469 221.898438 95.230469 221.898438 93.738281 C 221.898438 92.242188 224.140625 92.242188 224.140625 93.738281 \"/>\n",
       "<path style=\"fill:none;stroke-width:0.75;stroke-linecap:round;stroke-linejoin:round;stroke:rgb(0%,0%,0%);stroke-opacity:1;stroke-miterlimit:10;\" d=\"M 224.410156 103.121094 C 224.410156 104.617188 222.167969 104.617188 222.167969 103.121094 C 222.167969 101.628906 224.410156 101.628906 224.410156 103.121094 \"/>\n",
       "<path style=\"fill:none;stroke-width:0.75;stroke-linecap:round;stroke-linejoin:round;stroke:rgb(0%,0%,0%);stroke-opacity:1;stroke-miterlimit:10;\" d=\"M 224.675781 99.136719 C 224.675781 100.628906 222.4375 100.628906 222.4375 99.136719 C 222.4375 97.640625 224.675781 97.640625 224.675781 99.136719 \"/>\n",
       "<path style=\"fill:none;stroke-width:0.75;stroke-linecap:round;stroke-linejoin:round;stroke:rgb(0%,0%,0%);stroke-opacity:1;stroke-miterlimit:10;\" d=\"M 224.945313 97.234375 C 224.945313 98.726563 222.703125 98.726563 222.703125 97.234375 C 222.703125 95.738281 224.945313 95.738281 224.945313 97.234375 \"/>\n",
       "<path style=\"fill:none;stroke-width:0.75;stroke-linecap:round;stroke-linejoin:round;stroke:rgb(0%,0%,0%);stroke-opacity:1;stroke-miterlimit:10;\" d=\"M 225.214844 102.550781 C 225.214844 104.046875 222.972656 104.046875 222.972656 102.550781 C 222.972656 101.058594 225.214844 101.058594 225.214844 102.550781 \"/>\n",
       "<path style=\"fill:none;stroke-width:0.75;stroke-linecap:round;stroke-linejoin:round;stroke:rgb(0%,0%,0%);stroke-opacity:1;stroke-miterlimit:10;\" d=\"M 225.480469 98.980469 C 225.480469 100.472656 223.242188 100.472656 223.242188 98.980469 C 223.242188 97.484375 225.480469 97.484375 225.480469 98.980469 \"/>\n",
       "<path style=\"fill:none;stroke-width:0.75;stroke-linecap:round;stroke-linejoin:round;stroke:rgb(0%,0%,0%);stroke-opacity:1;stroke-miterlimit:10;\" d=\"M 225.75 136.183594 C 225.75 137.679688 223.507813 137.679688 223.507813 136.183594 C 223.507813 134.691406 225.75 134.691406 225.75 136.183594 \"/>\n",
       "<path style=\"fill:none;stroke-width:0.75;stroke-linecap:round;stroke-linejoin:round;stroke:rgb(0%,0%,0%);stroke-opacity:1;stroke-miterlimit:10;\" d=\"M 226.019531 100.476563 C 226.019531 101.972656 223.777344 101.972656 223.777344 100.476563 C 223.777344 98.984375 226.019531 98.984375 226.019531 100.476563 \"/>\n",
       "<path style=\"fill:none;stroke-width:0.75;stroke-linecap:round;stroke-linejoin:round;stroke:rgb(0%,0%,0%);stroke-opacity:1;stroke-miterlimit:10;\" d=\"M 226.289063 100.246094 C 226.289063 101.738281 224.046875 101.738281 224.046875 100.246094 C 224.046875 98.753906 226.289063 98.753906 226.289063 100.246094 \"/>\n",
       "<path style=\"fill:none;stroke-width:0.75;stroke-linecap:round;stroke-linejoin:round;stroke:rgb(0%,0%,0%);stroke-opacity:1;stroke-miterlimit:10;\" d=\"M 226.554688 84.417969 C 226.554688 85.914063 224.316406 85.914063 224.316406 84.417969 C 224.316406 82.925781 226.554688 82.925781 226.554688 84.417969 \"/>\n",
       "<path style=\"fill:none;stroke-width:0.75;stroke-linecap:round;stroke-linejoin:round;stroke:rgb(0%,0%,0%);stroke-opacity:1;stroke-miterlimit:10;\" d=\"M 226.824219 96.730469 C 226.824219 98.226563 224.582031 98.226563 224.582031 96.730469 C 224.582031 95.238281 226.824219 95.238281 226.824219 96.730469 \"/>\n",
       "<path style=\"fill:none;stroke-width:0.75;stroke-linecap:round;stroke-linejoin:round;stroke:rgb(0%,0%,0%);stroke-opacity:1;stroke-miterlimit:10;\" d=\"M 227.09375 86.328125 C 227.09375 87.820313 224.851563 87.820313 224.851563 86.328125 C 224.851563 84.832031 227.09375 84.832031 227.09375 86.328125 \"/>\n",
       "<path style=\"fill:none;stroke-width:0.75;stroke-linecap:round;stroke-linejoin:round;stroke:rgb(0%,0%,0%);stroke-opacity:1;stroke-miterlimit:10;\" d=\"M 227.359375 101.5625 C 227.359375 103.058594 225.121094 103.058594 225.121094 101.5625 C 225.121094 100.070313 227.359375 100.070313 227.359375 101.5625 \"/>\n",
       "<path style=\"fill:none;stroke-width:0.75;stroke-linecap:round;stroke-linejoin:round;stroke:rgb(0%,0%,0%);stroke-opacity:1;stroke-miterlimit:10;\" d=\"M 227.628906 140.367188 C 227.628906 141.859375 225.386719 141.859375 225.386719 140.367188 C 225.386719 138.871094 227.628906 138.871094 227.628906 140.367188 \"/>\n",
       "<path style=\"fill:none;stroke-width:0.75;stroke-linecap:round;stroke-linejoin:round;stroke:rgb(0%,0%,0%);stroke-opacity:1;stroke-miterlimit:10;\" d=\"M 227.898438 108.46875 C 227.898438 109.960938 225.65625 109.960938 225.65625 108.46875 C 225.65625 106.972656 227.898438 106.972656 227.898438 108.46875 \"/>\n",
       "<path style=\"fill:none;stroke-width:0.75;stroke-linecap:round;stroke-linejoin:round;stroke:rgb(0%,0%,0%);stroke-opacity:1;stroke-miterlimit:10;\" d=\"M 228.164063 111.804688 C 228.164063 113.300781 225.925781 113.300781 225.925781 111.804688 C 225.925781 110.3125 228.164063 110.3125 228.164063 111.804688 \"/>\n",
       "<path style=\"fill:none;stroke-width:0.75;stroke-linecap:round;stroke-linejoin:round;stroke:rgb(0%,0%,0%);stroke-opacity:1;stroke-miterlimit:10;\" d=\"M 228.433594 103.351563 C 228.433594 104.84375 226.195313 104.84375 226.195313 103.351563 C 226.195313 101.855469 228.433594 101.855469 228.433594 103.351563 \"/>\n",
       "<path style=\"fill:none;stroke-width:0.75;stroke-linecap:round;stroke-linejoin:round;stroke:rgb(0%,0%,0%);stroke-opacity:1;stroke-miterlimit:10;\" d=\"M 228.703125 94.050781 C 228.703125 95.546875 226.460938 95.546875 226.460938 94.050781 C 226.460938 92.558594 228.703125 92.558594 228.703125 94.050781 \"/>\n",
       "<path style=\"fill:none;stroke-width:0.75;stroke-linecap:round;stroke-linejoin:round;stroke:rgb(0%,0%,0%);stroke-opacity:1;stroke-miterlimit:10;\" d=\"M 228.972656 103.546875 C 228.972656 105.042969 226.730469 105.042969 226.730469 103.546875 C 226.730469 102.054688 228.972656 102.054688 228.972656 103.546875 \"/>\n",
       "<path style=\"fill:none;stroke-width:0.75;stroke-linecap:round;stroke-linejoin:round;stroke:rgb(0%,0%,0%);stroke-opacity:1;stroke-miterlimit:10;\" d=\"M 229.238281 103.835938 C 229.238281 105.328125 227 105.328125 227 103.835938 C 227 102.339844 229.238281 102.339844 229.238281 103.835938 \"/>\n",
       "<path style=\"fill:none;stroke-width:0.75;stroke-linecap:round;stroke-linejoin:round;stroke:rgb(0%,0%,0%);stroke-opacity:1;stroke-miterlimit:10;\" d=\"M 229.507813 136.199219 C 229.507813 137.695313 227.265625 137.695313 227.265625 136.199219 C 227.265625 134.707031 229.507813 134.707031 229.507813 136.199219 \"/>\n",
       "<path style=\"fill:none;stroke-width:0.75;stroke-linecap:round;stroke-linejoin:round;stroke:rgb(0%,0%,0%);stroke-opacity:1;stroke-miterlimit:10;\" d=\"M 229.777344 95.496094 C 229.777344 96.992188 227.535156 96.992188 227.535156 95.496094 C 227.535156 94.003906 229.777344 94.003906 229.777344 95.496094 \"/>\n",
       "<path style=\"fill:none;stroke-width:0.75;stroke-linecap:round;stroke-linejoin:round;stroke:rgb(0%,0%,0%);stroke-opacity:1;stroke-miterlimit:10;\" d=\"M 230.042969 76.65625 C 230.042969 78.148438 227.804688 78.148438 227.804688 76.65625 C 227.804688 75.160156 230.042969 75.160156 230.042969 76.65625 \"/>\n",
       "<path style=\"fill:none;stroke-width:0.75;stroke-linecap:round;stroke-linejoin:round;stroke:rgb(0%,0%,0%);stroke-opacity:1;stroke-miterlimit:10;\" d=\"M 230.3125 90.910156 C 230.3125 92.40625 228.074219 92.40625 228.074219 90.910156 C 228.074219 89.417969 230.3125 89.417969 230.3125 90.910156 \"/>\n",
       "<path style=\"fill:none;stroke-width:0.75;stroke-linecap:round;stroke-linejoin:round;stroke:rgb(0%,0%,0%);stroke-opacity:1;stroke-miterlimit:10;\" d=\"M 230.582031 78.636719 C 230.582031 80.128906 228.339844 80.128906 228.339844 78.636719 C 228.339844 77.140625 230.582031 77.140625 230.582031 78.636719 \"/>\n",
       "<path style=\"fill:none;stroke-width:0.75;stroke-linecap:round;stroke-linejoin:round;stroke:rgb(0%,0%,0%);stroke-opacity:1;stroke-miterlimit:10;\" d=\"M 230.851563 72.367188 C 230.851563 73.859375 228.609375 73.859375 228.609375 72.367188 C 228.609375 70.871094 230.851563 70.871094 230.851563 72.367188 \"/>\n",
       "<path style=\"fill:none;stroke-width:0.75;stroke-linecap:round;stroke-linejoin:round;stroke:rgb(0%,0%,0%);stroke-opacity:1;stroke-miterlimit:10;\" d=\"M 231.117188 85.058594 C 231.117188 86.550781 228.878906 86.550781 228.878906 85.058594 C 228.878906 83.566406 231.117188 83.566406 231.117188 85.058594 \"/>\n",
       "<path style=\"fill:none;stroke-width:0.75;stroke-linecap:round;stroke-linejoin:round;stroke:rgb(0%,0%,0%);stroke-opacity:1;stroke-miterlimit:10;\" d=\"M 231.386719 136.582031 C 231.386719 138.078125 229.144531 138.078125 229.144531 136.582031 C 229.144531 135.089844 231.386719 135.089844 231.386719 136.582031 \"/>\n",
       "<path style=\"fill:none;stroke-width:0.75;stroke-linecap:round;stroke-linejoin:round;stroke:rgb(0%,0%,0%);stroke-opacity:1;stroke-miterlimit:10;\" d=\"M 231.65625 77.246094 C 231.65625 78.738281 229.414063 78.738281 229.414063 77.246094 C 229.414063 75.75 231.65625 75.75 231.65625 77.246094 \"/>\n",
       "<path style=\"fill:none;stroke-width:0.75;stroke-linecap:round;stroke-linejoin:round;stroke:rgb(0%,0%,0%);stroke-opacity:1;stroke-miterlimit:10;\" d=\"M 231.921875 77.910156 C 231.921875 79.402344 229.683594 79.402344 229.683594 77.910156 C 229.683594 76.414063 231.921875 76.414063 231.921875 77.910156 \"/>\n",
       "<path style=\"fill:none;stroke-width:0.75;stroke-linecap:round;stroke-linejoin:round;stroke:rgb(0%,0%,0%);stroke-opacity:1;stroke-miterlimit:10;\" d=\"M 232.191406 96.472656 C 232.191406 97.96875 229.949219 97.96875 229.949219 96.472656 C 229.949219 94.980469 232.191406 94.980469 232.191406 96.472656 \"/>\n",
       "<path style=\"fill:none;stroke-width:0.75;stroke-linecap:round;stroke-linejoin:round;stroke:rgb(0%,0%,0%);stroke-opacity:1;stroke-miterlimit:10;\" d=\"M 232.460938 83 C 232.460938 84.492188 230.21875 84.492188 230.21875 83 C 230.21875 81.503906 232.460938 81.503906 232.460938 83 \"/>\n",
       "<path style=\"fill:none;stroke-width:0.75;stroke-linecap:round;stroke-linejoin:round;stroke:rgb(0%,0%,0%);stroke-opacity:1;stroke-miterlimit:10;\" d=\"M 232.730469 85.484375 C 232.730469 86.976563 230.488281 86.976563 230.488281 85.484375 C 230.488281 83.988281 232.730469 83.988281 232.730469 85.484375 \"/>\n",
       "<path style=\"fill:none;stroke-width:0.75;stroke-linecap:round;stroke-linejoin:round;stroke:rgb(0%,0%,0%);stroke-opacity:1;stroke-miterlimit:10;\" d=\"M 232.996094 95.722656 C 232.996094 97.214844 230.757813 97.214844 230.757813 95.722656 C 230.757813 94.226563 232.996094 94.226563 232.996094 95.722656 \"/>\n",
       "<path style=\"fill:none;stroke-width:0.75;stroke-linecap:round;stroke-linejoin:round;stroke:rgb(0%,0%,0%);stroke-opacity:1;stroke-miterlimit:10;\" d=\"M 233.265625 135.1875 C 233.265625 136.679688 231.023438 136.679688 231.023438 135.1875 C 231.023438 133.691406 233.265625 133.691406 233.265625 135.1875 \"/>\n",
       "<path style=\"fill:none;stroke-width:0.75;stroke-linecap:round;stroke-linejoin:round;stroke:rgb(0%,0%,0%);stroke-opacity:1;stroke-miterlimit:10;\" d=\"M 233.535156 94.59375 C 233.535156 96.089844 231.292969 96.089844 231.292969 94.59375 C 231.292969 93.101563 233.535156 93.101563 233.535156 94.59375 \"/>\n",
       "<path style=\"fill:none;stroke-width:0.75;stroke-linecap:round;stroke-linejoin:round;stroke:rgb(0%,0%,0%);stroke-opacity:1;stroke-miterlimit:10;\" d=\"M 233.800781 109.488281 C 233.800781 110.980469 231.5625 110.980469 231.5625 109.488281 C 231.5625 107.996094 233.800781 107.996094 233.800781 109.488281 \"/>\n",
       "<path style=\"fill:none;stroke-width:0.75;stroke-linecap:round;stroke-linejoin:round;stroke:rgb(0%,0%,0%);stroke-opacity:1;stroke-miterlimit:10;\" d=\"M 234.070313 103.632813 C 234.070313 105.125 231.828125 105.125 231.828125 103.632813 C 231.828125 102.136719 234.070313 102.136719 234.070313 103.632813 \"/>\n",
       "<path style=\"fill:none;stroke-width:0.75;stroke-linecap:round;stroke-linejoin:round;stroke:rgb(0%,0%,0%);stroke-opacity:1;stroke-miterlimit:10;\" d=\"M 234.339844 94.761719 C 234.339844 96.257813 232.097656 96.257813 232.097656 94.761719 C 232.097656 93.269531 234.339844 93.269531 234.339844 94.761719 \"/>\n",
       "<path style=\"fill:none;stroke-width:0.75;stroke-linecap:round;stroke-linejoin:round;stroke:rgb(0%,0%,0%);stroke-opacity:1;stroke-miterlimit:10;\" d=\"M 234.609375 94.152344 C 234.609375 95.648438 232.367188 95.648438 232.367188 94.152344 C 232.367188 92.660156 234.609375 92.660156 234.609375 94.152344 \"/>\n",
       "<path style=\"fill:none;stroke-width:0.75;stroke-linecap:round;stroke-linejoin:round;stroke:rgb(0%,0%,0%);stroke-opacity:1;stroke-miterlimit:10;\" d=\"M 234.875 111.355469 C 234.875 112.847656 232.636719 112.847656 232.636719 111.355469 C 232.636719 109.859375 234.875 109.859375 234.875 111.355469 \"/>\n",
       "<path style=\"fill:none;stroke-width:0.75;stroke-linecap:round;stroke-linejoin:round;stroke:rgb(0%,0%,0%);stroke-opacity:1;stroke-miterlimit:10;\" d=\"M 235.144531 140.164063 C 235.144531 141.65625 232.902344 141.65625 232.902344 140.164063 C 232.902344 138.667969 235.144531 138.667969 235.144531 140.164063 \"/>\n",
       "<path style=\"fill:none;stroke-width:0.75;stroke-linecap:round;stroke-linejoin:round;stroke:rgb(0%,0%,0%);stroke-opacity:1;stroke-miterlimit:10;\" d=\"M 235.414063 96.609375 C 235.414063 98.105469 233.171875 98.105469 233.171875 96.609375 C 233.171875 95.117188 235.414063 95.117188 235.414063 96.609375 \"/>\n",
       "<path style=\"fill:none;stroke-width:0.75;stroke-linecap:round;stroke-linejoin:round;stroke:rgb(0%,0%,0%);stroke-opacity:1;stroke-miterlimit:10;\" d=\"M 235.679688 105.9375 C 235.679688 107.429688 233.441406 107.429688 233.441406 105.9375 C 233.441406 104.441406 235.679688 104.441406 235.679688 105.9375 \"/>\n",
       "<path style=\"fill:none;stroke-width:0.75;stroke-linecap:round;stroke-linejoin:round;stroke:rgb(0%,0%,0%);stroke-opacity:1;stroke-miterlimit:10;\" d=\"M 235.949219 101.050781 C 235.949219 102.542969 233.707031 102.542969 233.707031 101.050781 C 233.707031 99.554688 235.949219 99.554688 235.949219 101.050781 \"/>\n",
       "<path style=\"fill:none;stroke-width:0.75;stroke-linecap:round;stroke-linejoin:round;stroke:rgb(0%,0%,0%);stroke-opacity:1;stroke-miterlimit:10;\" d=\"M 236.21875 106.824219 C 236.21875 108.320313 233.976563 108.320313 233.976563 106.824219 C 233.976563 105.332031 236.21875 105.332031 236.21875 106.824219 \"/>\n",
       "<path style=\"fill:none;stroke-width:0.75;stroke-linecap:round;stroke-linejoin:round;stroke:rgb(0%,0%,0%);stroke-opacity:1;stroke-miterlimit:10;\" d=\"M 236.488281 97.84375 C 236.488281 99.339844 234.246094 99.339844 234.246094 97.84375 C 234.246094 96.351563 236.488281 96.351563 236.488281 97.84375 \"/>\n",
       "<path style=\"fill:none;stroke-width:0.75;stroke-linecap:round;stroke-linejoin:round;stroke:rgb(0%,0%,0%);stroke-opacity:1;stroke-miterlimit:10;\" d=\"M 236.753906 117.089844 C 236.753906 118.585938 234.515625 118.585938 234.515625 117.089844 C 234.515625 115.597656 236.753906 115.597656 236.753906 117.089844 \"/>\n",
       "<path style=\"fill:none;stroke-width:0.75;stroke-linecap:round;stroke-linejoin:round;stroke:rgb(0%,0%,0%);stroke-opacity:1;stroke-miterlimit:10;\" d=\"M 237.023438 137.984375 C 237.023438 139.476563 234.78125 139.476563 234.78125 137.984375 C 234.78125 136.488281 237.023438 136.488281 237.023438 137.984375 \"/>\n",
       "<path style=\"fill:none;stroke-width:0.75;stroke-linecap:round;stroke-linejoin:round;stroke:rgb(0%,0%,0%);stroke-opacity:1;stroke-miterlimit:10;\" d=\"M 237.292969 90.976563 C 237.292969 92.46875 235.050781 92.46875 235.050781 90.976563 C 235.050781 89.480469 237.292969 89.480469 237.292969 90.976563 \"/>\n",
       "<path style=\"fill:none;stroke-width:0.75;stroke-linecap:round;stroke-linejoin:round;stroke:rgb(0%,0%,0%);stroke-opacity:1;stroke-miterlimit:10;\" d=\"M 237.558594 92.558594 C 237.558594 94.054688 235.320313 94.054688 235.320313 92.558594 C 235.320313 91.066406 237.558594 91.066406 237.558594 92.558594 \"/>\n",
       "<path style=\"fill:none;stroke-width:0.75;stroke-linecap:round;stroke-linejoin:round;stroke:rgb(0%,0%,0%);stroke-opacity:1;stroke-miterlimit:10;\" d=\"M 237.828125 91.988281 C 237.828125 93.480469 235.585938 93.480469 235.585938 91.988281 C 235.585938 90.492188 237.828125 90.492188 237.828125 91.988281 \"/>\n",
       "<path style=\"fill:none;stroke-width:0.75;stroke-linecap:round;stroke-linejoin:round;stroke:rgb(0%,0%,0%);stroke-opacity:1;stroke-miterlimit:10;\" d=\"M 238.097656 85.800781 C 238.097656 87.296875 235.855469 87.296875 235.855469 85.800781 C 235.855469 84.308594 238.097656 84.308594 238.097656 85.800781 \"/>\n",
       "<path style=\"fill:none;stroke-width:0.75;stroke-linecap:round;stroke-linejoin:round;stroke:rgb(0%,0%,0%);stroke-opacity:1;stroke-miterlimit:10;\" d=\"M 238.367188 91.972656 C 238.367188 93.46875 236.125 93.46875 236.125 91.972656 C 236.125 90.480469 238.367188 90.480469 238.367188 91.972656 \"/>\n",
       "<path style=\"fill:none;stroke-width:0.75;stroke-linecap:round;stroke-linejoin:round;stroke:rgb(0%,0%,0%);stroke-opacity:1;stroke-miterlimit:10;\" d=\"M 238.632813 94.324219 C 238.632813 95.820313 236.394531 95.820313 236.394531 94.324219 C 236.394531 92.832031 238.632813 92.832031 238.632813 94.324219 \"/>\n",
       "<path style=\"fill:none;stroke-width:0.75;stroke-linecap:round;stroke-linejoin:round;stroke:rgb(0%,0%,0%);stroke-opacity:1;stroke-miterlimit:10;\" d=\"M 238.902344 140.945313 C 238.902344 142.4375 236.660156 142.4375 236.660156 140.945313 C 236.660156 139.449219 238.902344 139.449219 238.902344 140.945313 \"/>\n",
       "<path style=\"fill:none;stroke-width:0.75;stroke-linecap:round;stroke-linejoin:round;stroke:rgb(0%,0%,0%);stroke-opacity:1;stroke-miterlimit:10;\" d=\"M 239.171875 88.496094 C 239.171875 89.988281 236.929688 89.988281 236.929688 88.496094 C 236.929688 87 239.171875 87 239.171875 88.496094 \"/>\n",
       "<path style=\"fill:none;stroke-width:0.75;stroke-linecap:round;stroke-linejoin:round;stroke:rgb(0%,0%,0%);stroke-opacity:1;stroke-miterlimit:10;\" d=\"M 239.4375 99.6875 C 239.4375 101.179688 237.199219 101.179688 237.199219 99.6875 C 237.199219 98.191406 239.4375 98.191406 239.4375 99.6875 \"/>\n",
       "<path style=\"fill:none;stroke-width:0.75;stroke-linecap:round;stroke-linejoin:round;stroke:rgb(0%,0%,0%);stroke-opacity:1;stroke-miterlimit:10;\" d=\"M 239.707031 97.75 C 239.707031 99.242188 237.464844 99.242188 237.464844 97.75 C 237.464844 96.253906 239.707031 96.253906 239.707031 97.75 \"/>\n",
       "<path style=\"fill:none;stroke-width:0.75;stroke-linecap:round;stroke-linejoin:round;stroke:rgb(0%,0%,0%);stroke-opacity:1;stroke-miterlimit:10;\" d=\"M 239.976563 90.15625 C 239.976563 91.652344 237.734375 91.652344 237.734375 90.15625 C 237.734375 88.664063 239.976563 88.664063 239.976563 90.15625 \"/>\n",
       "<path style=\"fill:none;stroke-width:0.75;stroke-linecap:round;stroke-linejoin:round;stroke:rgb(0%,0%,0%);stroke-opacity:1;stroke-miterlimit:10;\" d=\"M 240.246094 95.253906 C 240.246094 96.75 238.003906 96.75 238.003906 95.253906 C 238.003906 93.761719 240.246094 93.761719 240.246094 95.253906 \"/>\n",
       "<path style=\"fill:none;stroke-width:0.75;stroke-linecap:round;stroke-linejoin:round;stroke:rgb(0%,0%,0%);stroke-opacity:1;stroke-miterlimit:10;\" d=\"M 240.511719 118.464844 C 240.511719 119.960938 238.273438 119.960938 238.273438 118.464844 C 238.273438 116.972656 240.511719 116.972656 240.511719 118.464844 \"/>\n",
       "<path style=\"fill:none;stroke-width:0.75;stroke-linecap:round;stroke-linejoin:round;stroke:rgb(0%,0%,0%);stroke-opacity:1;stroke-miterlimit:10;\" d=\"M 240.78125 134.160156 C 240.78125 135.652344 238.539063 135.652344 238.539063 134.160156 C 238.539063 132.664063 240.78125 132.664063 240.78125 134.160156 \"/>\n",
       "<path style=\"fill:none;stroke-width:0.75;stroke-linecap:round;stroke-linejoin:round;stroke:rgb(0%,0%,0%);stroke-opacity:1;stroke-miterlimit:10;\" d=\"M 241.050781 94.894531 C 241.050781 96.386719 238.808594 96.386719 238.808594 94.894531 C 238.808594 93.398438 241.050781 93.398438 241.050781 94.894531 \"/>\n",
       "<path style=\"fill:none;stroke-width:0.75;stroke-linecap:round;stroke-linejoin:round;stroke:rgb(0%,0%,0%);stroke-opacity:1;stroke-miterlimit:10;\" d=\"M 241.316406 99.945313 C 241.316406 101.441406 239.078125 101.441406 239.078125 99.945313 C 239.078125 98.453125 241.316406 98.453125 241.316406 99.945313 \"/>\n",
       "<path style=\"fill:none;stroke-width:0.75;stroke-linecap:round;stroke-linejoin:round;stroke:rgb(0%,0%,0%);stroke-opacity:1;stroke-miterlimit:10;\" d=\"M 241.585938 101.746094 C 241.585938 103.242188 239.34375 103.242188 239.34375 101.746094 C 239.34375 100.253906 241.585938 100.253906 241.585938 101.746094 \"/>\n",
       "<path style=\"fill:none;stroke-width:0.75;stroke-linecap:round;stroke-linejoin:round;stroke:rgb(0%,0%,0%);stroke-opacity:1;stroke-miterlimit:10;\" d=\"M 241.855469 94.207031 C 241.855469 95.699219 239.613281 95.699219 239.613281 94.207031 C 239.613281 92.710938 241.855469 92.710938 241.855469 94.207031 \"/>\n",
       "<path style=\"fill:none;stroke-width:0.75;stroke-linecap:round;stroke-linejoin:round;stroke:rgb(0%,0%,0%);stroke-opacity:1;stroke-miterlimit:10;\" d=\"M 242.125 108.984375 C 242.125 110.480469 239.882813 110.480469 239.882813 108.984375 C 239.882813 107.492188 242.125 107.492188 242.125 108.984375 \"/>\n",
       "<path style=\"fill:none;stroke-width:0.75;stroke-linecap:round;stroke-linejoin:round;stroke:rgb(0%,0%,0%);stroke-opacity:1;stroke-miterlimit:10;\" d=\"M 242.390625 100.378906 C 242.390625 101.871094 240.152344 101.871094 240.152344 100.378906 C 240.152344 98.882813 242.390625 98.882813 242.390625 100.378906 \"/>\n",
       "<path style=\"fill:none;stroke-width:0.75;stroke-linecap:round;stroke-linejoin:round;stroke:rgb(0%,0%,0%);stroke-opacity:1;stroke-miterlimit:10;\" d=\"M 242.660156 130.386719 C 242.660156 131.878906 240.417969 131.878906 240.417969 130.386719 C 240.417969 128.890625 242.660156 128.890625 242.660156 130.386719 \"/>\n",
       "<path style=\"fill:none;stroke-width:0.75;stroke-linecap:round;stroke-linejoin:round;stroke:rgb(0%,0%,0%);stroke-opacity:1;stroke-miterlimit:10;\" d=\"M 242.929688 143.175781 C 242.929688 144.667969 240.6875 144.667969 240.6875 143.175781 C 240.6875 141.679688 242.929688 141.679688 242.929688 143.175781 \"/>\n",
       "<path style=\"fill:none;stroke-width:0.75;stroke-linecap:round;stroke-linejoin:round;stroke:rgb(0%,0%,0%);stroke-opacity:1;stroke-miterlimit:10;\" d=\"M 243.195313 90.925781 C 243.195313 92.421875 240.957031 92.421875 240.957031 90.925781 C 240.957031 89.433594 243.195313 89.433594 243.195313 90.925781 \"/>\n",
       "<path style=\"fill:none;stroke-width:0.75;stroke-linecap:round;stroke-linejoin:round;stroke:rgb(0%,0%,0%);stroke-opacity:1;stroke-miterlimit:10;\" d=\"M 243.464844 88.25 C 243.464844 89.742188 241.222656 89.742188 241.222656 88.25 C 241.222656 86.753906 243.464844 86.753906 243.464844 88.25 \"/>\n",
       "<path style=\"fill:none;stroke-width:0.75;stroke-linecap:round;stroke-linejoin:round;stroke:rgb(0%,0%,0%);stroke-opacity:1;stroke-miterlimit:10;\" d=\"M 243.734375 102.25 C 243.734375 103.742188 241.492188 103.742188 241.492188 102.25 C 241.492188 100.753906 243.734375 100.753906 243.734375 102.25 \"/>\n",
       "<path style=\"fill:none;stroke-width:0.75;stroke-linecap:round;stroke-linejoin:round;stroke:rgb(0%,0%,0%);stroke-opacity:1;stroke-miterlimit:10;\" d=\"M 244.003906 97.019531 C 244.003906 98.515625 241.761719 98.515625 241.761719 97.019531 C 241.761719 95.527344 244.003906 95.527344 244.003906 97.019531 \"/>\n",
       "<path style=\"fill:none;stroke-width:0.75;stroke-linecap:round;stroke-linejoin:round;stroke:rgb(0%,0%,0%);stroke-opacity:1;stroke-miterlimit:10;\" d=\"M 244.269531 122.882813 C 244.269531 124.378906 242.03125 124.378906 242.03125 122.882813 C 242.03125 121.390625 244.269531 121.390625 244.269531 122.882813 \"/>\n",
       "<path style=\"fill:none;stroke-width:0.75;stroke-linecap:round;stroke-linejoin:round;stroke:rgb(0%,0%,0%);stroke-opacity:1;stroke-miterlimit:10;\" d=\"M 244.539063 135.25 C 244.539063 136.742188 242.296875 136.742188 242.296875 135.25 C 242.296875 133.753906 244.539063 133.753906 244.539063 135.25 \"/>\n",
       "<path style=\"fill:none;stroke-width:0.75;stroke-linecap:round;stroke-linejoin:round;stroke:rgb(0%,0%,0%);stroke-opacity:1;stroke-miterlimit:10;\" d=\"M 244.808594 102.8125 C 244.808594 104.304688 242.566406 104.304688 242.566406 102.8125 C 242.566406 101.316406 244.808594 101.316406 244.808594 102.8125 \"/>\n",
       "<path style=\"fill:none;stroke-width:0.75;stroke-linecap:round;stroke-linejoin:round;stroke:rgb(0%,0%,0%);stroke-opacity:1;stroke-miterlimit:10;\" d=\"M 245.074219 104.976563 C 245.074219 106.46875 242.835938 106.46875 242.835938 104.976563 C 242.835938 103.484375 245.074219 103.484375 245.074219 104.976563 \"/>\n",
       "<path style=\"fill:none;stroke-width:0.75;stroke-linecap:round;stroke-linejoin:round;stroke:rgb(0%,0%,0%);stroke-opacity:1;stroke-miterlimit:10;\" d=\"M 245.34375 101.535156 C 245.34375 103.027344 243.101563 103.027344 243.101563 101.535156 C 243.101563 100.042969 245.34375 100.042969 245.34375 101.535156 \"/>\n",
       "<path style=\"fill:none;stroke-width:0.75;stroke-linecap:round;stroke-linejoin:round;stroke:rgb(0%,0%,0%);stroke-opacity:1;stroke-miterlimit:10;\" d=\"M 245.613281 91.4375 C 245.613281 92.929688 243.371094 92.929688 243.371094 91.4375 C 243.371094 89.941406 245.613281 89.941406 245.613281 91.4375 \"/>\n",
       "<path style=\"fill:none;stroke-width:0.75;stroke-linecap:round;stroke-linejoin:round;stroke:rgb(0%,0%,0%);stroke-opacity:1;stroke-miterlimit:10;\" d=\"M 245.882813 95.1875 C 245.882813 96.679688 243.640625 96.679688 243.640625 95.1875 C 243.640625 93.691406 245.882813 93.691406 245.882813 95.1875 \"/>\n",
       "<path style=\"fill:none;stroke-width:0.75;stroke-linecap:round;stroke-linejoin:round;stroke:rgb(0%,0%,0%);stroke-opacity:1;stroke-miterlimit:10;\" d=\"M 246.148438 107.300781 C 246.148438 108.796875 243.910156 108.796875 243.910156 107.300781 C 243.910156 105.808594 246.148438 105.808594 246.148438 107.300781 \"/>\n",
       "<path style=\"fill:none;stroke-width:0.75;stroke-linecap:round;stroke-linejoin:round;stroke:rgb(0%,0%,0%);stroke-opacity:1;stroke-miterlimit:10;\" d=\"M 246.417969 130.160156 C 246.417969 131.652344 244.175781 131.652344 244.175781 130.160156 C 244.175781 128.664063 246.417969 128.664063 246.417969 130.160156 \"/>\n",
       "<path style=\"fill:none;stroke-width:0.75;stroke-linecap:round;stroke-linejoin:round;stroke:rgb(0%,0%,0%);stroke-opacity:1;stroke-miterlimit:10;\" d=\"M 246.6875 91.132813 C 246.6875 92.628906 244.445313 92.628906 244.445313 91.132813 C 244.445313 89.640625 246.6875 89.640625 246.6875 91.132813 \"/>\n",
       "<path style=\"fill:none;stroke-width:0.75;stroke-linecap:round;stroke-linejoin:round;stroke:rgb(0%,0%,0%);stroke-opacity:1;stroke-miterlimit:10;\" d=\"M 246.953125 92.296875 C 246.953125 93.789063 244.714844 93.789063 244.714844 92.296875 C 244.714844 90.800781 246.953125 90.800781 246.953125 92.296875 \"/>\n",
       "<path style=\"fill:none;stroke-width:0.75;stroke-linecap:round;stroke-linejoin:round;stroke:rgb(0%,0%,0%);stroke-opacity:1;stroke-miterlimit:10;\" d=\"M 247.222656 103.421875 C 247.222656 104.914063 244.980469 104.914063 244.980469 103.421875 C 244.980469 101.925781 247.222656 101.925781 247.222656 103.421875 \"/>\n",
       "<path style=\"fill:none;stroke-width:0.75;stroke-linecap:round;stroke-linejoin:round;stroke:rgb(0%,0%,0%);stroke-opacity:1;stroke-miterlimit:10;\" d=\"M 247.492188 85.683594 C 247.492188 87.179688 245.25 87.179688 245.25 85.683594 C 245.25 84.191406 247.492188 84.191406 247.492188 85.683594 \"/>\n",
       "<path style=\"fill:none;stroke-width:0.75;stroke-linecap:round;stroke-linejoin:round;stroke:rgb(0%,0%,0%);stroke-opacity:1;stroke-miterlimit:10;\" d=\"M 247.761719 96.210938 C 247.761719 97.703125 245.519531 97.703125 245.519531 96.210938 C 245.519531 94.714844 247.761719 94.714844 247.761719 96.210938 \"/>\n",
       "<path style=\"fill:none;stroke-width:0.75;stroke-linecap:round;stroke-linejoin:round;stroke:rgb(0%,0%,0%);stroke-opacity:1;stroke-miterlimit:10;\" d=\"M 248.027344 103.503906 C 248.027344 104.996094 245.789063 104.996094 245.789063 103.503906 C 245.789063 102.011719 248.027344 102.011719 248.027344 103.503906 \"/>\n",
       "<path style=\"fill:none;stroke-width:0.75;stroke-linecap:round;stroke-linejoin:round;stroke:rgb(0%,0%,0%);stroke-opacity:1;stroke-miterlimit:10;\" d=\"M 248.296875 132.011719 C 248.296875 133.503906 246.054688 133.503906 246.054688 132.011719 C 246.054688 130.515625 248.296875 130.515625 248.296875 132.011719 \"/>\n",
       "<path style=\"fill:none;stroke-width:0.75;stroke-linecap:round;stroke-linejoin:round;stroke:rgb(0%,0%,0%);stroke-opacity:1;stroke-miterlimit:10;\" d=\"M 248.566406 99.824219 C 248.566406 101.316406 246.324219 101.316406 246.324219 99.824219 C 246.324219 98.328125 248.566406 98.328125 248.566406 99.824219 \"/>\n",
       "<path style=\"fill:none;stroke-width:0.75;stroke-linecap:round;stroke-linejoin:round;stroke:rgb(0%,0%,0%);stroke-opacity:1;stroke-miterlimit:10;\" d=\"M 248.832031 104.683594 C 248.832031 106.179688 246.59375 106.179688 246.59375 104.683594 C 246.59375 103.191406 248.832031 103.191406 248.832031 104.683594 \"/>\n",
       "<path style=\"fill:none;stroke-width:0.75;stroke-linecap:round;stroke-linejoin:round;stroke:rgb(0%,0%,0%);stroke-opacity:1;stroke-miterlimit:10;\" d=\"M 249.101563 91.96875 C 249.101563 93.464844 246.859375 93.464844 246.859375 91.96875 C 246.859375 90.476563 249.101563 90.476563 249.101563 91.96875 \"/>\n",
       "<path style=\"fill:none;stroke-width:0.75;stroke-linecap:round;stroke-linejoin:round;stroke:rgb(0%,0%,0%);stroke-opacity:1;stroke-miterlimit:10;\" d=\"M 249.371094 85.152344 C 249.371094 86.648438 247.128906 86.648438 247.128906 85.152344 C 247.128906 83.660156 249.371094 83.660156 249.371094 85.152344 \"/>\n",
       "<path style=\"fill:none;stroke-width:0.75;stroke-linecap:round;stroke-linejoin:round;stroke:rgb(0%,0%,0%);stroke-opacity:1;stroke-miterlimit:10;\" d=\"M 249.640625 120.175781 C 249.640625 121.667969 247.398438 121.667969 247.398438 120.175781 C 247.398438 118.679688 249.640625 118.679688 249.640625 120.175781 \"/>\n",
       "<path style=\"fill:none;stroke-width:0.75;stroke-linecap:round;stroke-linejoin:round;stroke:rgb(0%,0%,0%);stroke-opacity:1;stroke-miterlimit:10;\" d=\"M 249.90625 110.390625 C 249.90625 111.886719 247.667969 111.886719 247.667969 110.390625 C 247.667969 108.898438 249.90625 108.898438 249.90625 110.390625 \"/>\n",
       "<path style=\"fill:none;stroke-width:0.75;stroke-linecap:round;stroke-linejoin:round;stroke:rgb(0%,0%,0%);stroke-opacity:1;stroke-miterlimit:10;\" d=\"M 250.175781 146.066406 C 250.175781 147.5625 247.933594 147.5625 247.933594 146.066406 C 247.933594 144.574219 250.175781 144.574219 250.175781 146.066406 \"/>\n",
       "<path style=\"fill:none;stroke-width:0.75;stroke-linecap:round;stroke-linejoin:round;stroke:rgb(0%,0%,0%);stroke-opacity:1;stroke-miterlimit:10;\" d=\"M 250.445313 105.261719 C 250.445313 106.757813 248.203125 106.757813 248.203125 105.261719 C 248.203125 103.769531 250.445313 103.769531 250.445313 105.261719 \"/>\n",
       "<path style=\"fill:none;stroke-width:0.75;stroke-linecap:round;stroke-linejoin:round;stroke:rgb(0%,0%,0%);stroke-opacity:1;stroke-miterlimit:10;\" d=\"M 250.710938 105.574219 C 250.710938 107.066406 248.472656 107.066406 248.472656 105.574219 C 248.472656 104.082031 250.710938 104.082031 250.710938 105.574219 \"/>\n",
       "<path style=\"fill:none;stroke-width:0.75;stroke-linecap:round;stroke-linejoin:round;stroke:rgb(0%,0%,0%);stroke-opacity:1;stroke-miterlimit:10;\" d=\"M 250.980469 111.132813 C 250.980469 112.628906 248.738281 112.628906 248.738281 111.132813 C 248.738281 109.640625 250.980469 109.640625 250.980469 111.132813 \"/>\n",
       "<path style=\"fill:none;stroke-width:0.75;stroke-linecap:round;stroke-linejoin:round;stroke:rgb(0%,0%,0%);stroke-opacity:1;stroke-miterlimit:10;\" d=\"M 251.25 89.964844 C 251.25 91.460938 249.007813 91.460938 249.007813 89.964844 C 249.007813 88.472656 251.25 88.472656 251.25 89.964844 \"/>\n",
       "<path style=\"fill:none;stroke-width:0.75;stroke-linecap:round;stroke-linejoin:round;stroke:rgb(0%,0%,0%);stroke-opacity:1;stroke-miterlimit:10;\" d=\"M 251.519531 103.214844 C 251.519531 104.710938 249.277344 104.710938 249.277344 103.214844 C 249.277344 101.722656 251.519531 101.722656 251.519531 103.214844 \"/>\n",
       "<path style=\"fill:none;stroke-width:0.75;stroke-linecap:round;stroke-linejoin:round;stroke:rgb(0%,0%,0%);stroke-opacity:1;stroke-miterlimit:10;\" d=\"M 251.785156 106.828125 C 251.785156 108.320313 249.546875 108.320313 249.546875 106.828125 C 249.546875 105.335938 251.785156 105.335938 251.785156 106.828125 \"/>\n",
       "<path style=\"fill:none;stroke-width:0.75;stroke-linecap:round;stroke-linejoin:round;stroke:rgb(0%,0%,0%);stroke-opacity:1;stroke-miterlimit:10;\" d=\"M 252.054688 140.074219 C 252.054688 141.566406 249.8125 141.566406 249.8125 140.074219 C 249.8125 138.578125 252.054688 138.578125 252.054688 140.074219 \"/>\n",
       "<path style=\"fill:none;stroke-width:0.75;stroke-linecap:round;stroke-linejoin:round;stroke:rgb(0%,0%,0%);stroke-opacity:1;stroke-miterlimit:10;\" d=\"M 252.324219 100.914063 C 252.324219 102.410156 250.082031 102.410156 250.082031 100.914063 C 250.082031 99.421875 252.324219 99.421875 252.324219 100.914063 \"/>\n",
       "<path style=\"fill:none;stroke-width:0.75;stroke-linecap:round;stroke-linejoin:round;stroke:rgb(0%,0%,0%);stroke-opacity:1;stroke-miterlimit:10;\" d=\"M 252.589844 108.082031 C 252.589844 109.578125 250.351563 109.578125 250.351563 108.082031 C 250.351563 106.589844 252.589844 106.589844 252.589844 108.082031 \"/>\n",
       "<path style=\"fill:none;stroke-width:0.75;stroke-linecap:round;stroke-linejoin:round;stroke:rgb(0%,0%,0%);stroke-opacity:1;stroke-miterlimit:10;\" d=\"M 252.859375 102.945313 C 252.859375 104.441406 250.617188 104.441406 250.617188 102.945313 C 250.617188 101.453125 252.859375 101.453125 252.859375 102.945313 \"/>\n",
       "<path style=\"fill:none;stroke-width:0.75;stroke-linecap:round;stroke-linejoin:round;stroke:rgb(0%,0%,0%);stroke-opacity:1;stroke-miterlimit:10;\" d=\"M 253.128906 108.34375 C 253.128906 109.839844 250.886719 109.839844 250.886719 108.34375 C 250.886719 106.851563 253.128906 106.851563 253.128906 108.34375 \"/>\n",
       "<path style=\"fill:none;stroke-width:0.75;stroke-linecap:round;stroke-linejoin:round;stroke:rgb(0%,0%,0%);stroke-opacity:1;stroke-miterlimit:10;\" d=\"M 253.398438 109.59375 C 253.398438 111.085938 251.15625 111.085938 251.15625 109.59375 C 251.15625 108.097656 253.398438 108.097656 253.398438 109.59375 \"/>\n",
       "<path style=\"fill:none;stroke-width:0.75;stroke-linecap:round;stroke-linejoin:round;stroke:rgb(0%,0%,0%);stroke-opacity:1;stroke-miterlimit:10;\" d=\"M 253.664063 106.898438 C 253.664063 108.390625 251.425781 108.390625 251.425781 106.898438 C 251.425781 105.40625 253.664063 105.40625 253.664063 106.898438 \"/>\n",
       "<path style=\"fill:none;stroke-width:0.75;stroke-linecap:round;stroke-linejoin:round;stroke:rgb(0%,0%,0%);stroke-opacity:1;stroke-miterlimit:10;\" d=\"M 253.933594 140.449219 C 253.933594 141.941406 251.691406 141.941406 251.691406 140.449219 C 251.691406 138.953125 253.933594 138.953125 253.933594 140.449219 \"/>\n",
       "<path style=\"fill:none;stroke-width:0.75;stroke-linecap:round;stroke-linejoin:round;stroke:rgb(0%,0%,0%);stroke-opacity:1;stroke-miterlimit:10;\" d=\"M 254.203125 87.40625 C 254.203125 88.902344 251.960938 88.902344 251.960938 87.40625 C 251.960938 85.914063 254.203125 85.914063 254.203125 87.40625 \"/>\n",
       "<path style=\"fill:none;stroke-width:0.75;stroke-linecap:round;stroke-linejoin:round;stroke:rgb(0%,0%,0%);stroke-opacity:1;stroke-miterlimit:10;\" d=\"M 254.46875 95.34375 C 254.46875 96.835938 252.230469 96.835938 252.230469 95.34375 C 252.230469 93.847656 254.46875 93.847656 254.46875 95.34375 \"/>\n",
       "<path style=\"fill:none;stroke-width:0.75;stroke-linecap:round;stroke-linejoin:round;stroke:rgb(0%,0%,0%);stroke-opacity:1;stroke-miterlimit:10;\" d=\"M 254.738281 95.390625 C 254.738281 96.886719 252.496094 96.886719 252.496094 95.390625 C 252.496094 93.898438 254.738281 93.898438 254.738281 95.390625 \"/>\n",
       "<path style=\"fill:none;stroke-width:0.75;stroke-linecap:round;stroke-linejoin:round;stroke:rgb(0%,0%,0%);stroke-opacity:1;stroke-miterlimit:10;\" d=\"M 255.007813 100.472656 C 255.007813 101.96875 252.765625 101.96875 252.765625 100.472656 C 252.765625 98.980469 255.007813 98.980469 255.007813 100.472656 \"/>\n",
       "<path style=\"fill:none;stroke-width:0.75;stroke-linecap:round;stroke-linejoin:round;stroke:rgb(0%,0%,0%);stroke-opacity:1;stroke-miterlimit:10;\" d=\"M 255.277344 89.941406 C 255.277344 91.4375 253.035156 91.4375 253.035156 89.941406 C 253.035156 88.449219 255.277344 88.449219 255.277344 89.941406 \"/>\n",
       "<path style=\"fill:none;stroke-width:0.75;stroke-linecap:round;stroke-linejoin:round;stroke:rgb(0%,0%,0%);stroke-opacity:1;stroke-miterlimit:10;\" d=\"M 255.542969 101.589844 C 255.542969 103.085938 253.304688 103.085938 253.304688 101.589844 C 253.304688 100.097656 255.542969 100.097656 255.542969 101.589844 \"/>\n",
       "<path style=\"fill:none;stroke-width:0.75;stroke-linecap:round;stroke-linejoin:round;stroke:rgb(0%,0%,0%);stroke-opacity:1;stroke-miterlimit:10;\" d=\"M 255.8125 138.441406 C 255.8125 139.9375 253.570313 139.9375 253.570313 138.441406 C 253.570313 136.949219 255.8125 136.949219 255.8125 138.441406 \"/>\n",
       "<path style=\"fill:none;stroke-width:0.75;stroke-linecap:round;stroke-linejoin:round;stroke:rgb(0%,0%,0%);stroke-opacity:1;stroke-miterlimit:10;\" d=\"M 256.082031 95.132813 C 256.082031 96.625 253.839844 96.625 253.839844 95.132813 C 253.839844 93.636719 256.082031 93.636719 256.082031 95.132813 \"/>\n",
       "<path style=\"fill:none;stroke-width:0.75;stroke-linecap:round;stroke-linejoin:round;stroke:rgb(0%,0%,0%);stroke-opacity:1;stroke-miterlimit:10;\" d=\"M 256.347656 100.605469 C 256.347656 102.101563 254.109375 102.101563 254.109375 100.605469 C 254.109375 99.113281 256.347656 99.113281 256.347656 100.605469 \"/>\n",
       "<path style=\"fill:none;stroke-width:0.75;stroke-linecap:round;stroke-linejoin:round;stroke:rgb(0%,0%,0%);stroke-opacity:1;stroke-miterlimit:10;\" d=\"M 256.617188 133.339844 C 256.617188 134.832031 254.375 134.832031 254.375 133.339844 C 254.375 131.84375 256.617188 131.84375 256.617188 133.339844 \"/>\n",
       "<path style=\"fill:none;stroke-width:0.75;stroke-linecap:round;stroke-linejoin:round;stroke:rgb(0%,0%,0%);stroke-opacity:1;stroke-miterlimit:10;\" d=\"M 256.886719 91.101563 C 256.886719 92.597656 254.644531 92.597656 254.644531 91.101563 C 254.644531 89.609375 256.886719 89.609375 256.886719 91.101563 \"/>\n",
       "<path style=\"fill:none;stroke-width:0.75;stroke-linecap:round;stroke-linejoin:round;stroke:rgb(0%,0%,0%);stroke-opacity:1;stroke-miterlimit:10;\" d=\"M 257.15625 94.78125 C 257.15625 96.273438 254.914063 96.273438 254.914063 94.78125 C 254.914063 93.285156 257.15625 93.285156 257.15625 94.78125 \"/>\n",
       "<path style=\"fill:none;stroke-width:0.75;stroke-linecap:round;stroke-linejoin:round;stroke:rgb(0%,0%,0%);stroke-opacity:1;stroke-miterlimit:10;\" d=\"M 257.421875 105.664063 C 257.421875 107.15625 255.183594 107.15625 255.183594 105.664063 C 255.183594 104.167969 257.421875 104.167969 257.421875 105.664063 \"/>\n",
       "<path style=\"fill:none;stroke-width:0.75;stroke-linecap:round;stroke-linejoin:round;stroke:rgb(0%,0%,0%);stroke-opacity:1;stroke-miterlimit:10;\" d=\"M 257.691406 142.125 C 257.691406 143.617188 255.449219 143.617188 255.449219 142.125 C 255.449219 140.628906 257.691406 140.628906 257.691406 142.125 \"/>\n",
       "<path style=\"fill:none;stroke-width:0.75;stroke-linecap:round;stroke-linejoin:round;stroke:rgb(0%,0%,0%);stroke-opacity:1;stroke-miterlimit:10;\" d=\"M 257.960938 111.117188 C 257.960938 112.609375 255.71875 112.609375 255.71875 111.117188 C 255.71875 109.621094 257.960938 109.621094 257.960938 111.117188 \"/>\n",
       "<path style=\"fill:none;stroke-width:0.75;stroke-linecap:round;stroke-linejoin:round;stroke:rgb(0%,0%,0%);stroke-opacity:1;stroke-miterlimit:10;\" d=\"M 258.226563 107.089844 C 258.226563 108.585938 255.988281 108.585938 255.988281 107.089844 C 255.988281 105.597656 258.226563 105.597656 258.226563 107.089844 \"/>\n",
       "<path style=\"fill:none;stroke-width:0.75;stroke-linecap:round;stroke-linejoin:round;stroke:rgb(0%,0%,0%);stroke-opacity:1;stroke-miterlimit:10;\" d=\"M 258.496094 109.195313 C 258.496094 110.6875 256.253906 110.6875 256.253906 109.195313 C 256.253906 107.699219 258.496094 107.699219 258.496094 109.195313 \"/>\n",
       "<path style=\"fill:none;stroke-width:0.75;stroke-linecap:round;stroke-linejoin:round;stroke:rgb(0%,0%,0%);stroke-opacity:1;stroke-miterlimit:10;\" d=\"M 258.765625 108.074219 C 258.765625 109.570313 256.523438 109.570313 256.523438 108.074219 C 256.523438 106.582031 258.765625 106.582031 258.765625 108.074219 \"/>\n",
       "<path style=\"fill:none;stroke-width:0.75;stroke-linecap:round;stroke-linejoin:round;stroke:rgb(0%,0%,0%);stroke-opacity:1;stroke-miterlimit:10;\" d=\"M 259.035156 104.84375 C 259.035156 106.339844 256.792969 106.339844 256.792969 104.84375 C 256.792969 103.351563 259.035156 103.351563 259.035156 104.84375 \"/>\n",
       "<path style=\"fill:none;stroke-width:0.75;stroke-linecap:round;stroke-linejoin:round;stroke:rgb(0%,0%,0%);stroke-opacity:1;stroke-miterlimit:10;\" d=\"M 259.300781 105.773438 C 259.300781 107.265625 257.0625 107.265625 257.0625 105.773438 C 257.0625 104.277344 259.300781 104.277344 259.300781 105.773438 \"/>\n",
       "<path style=\"fill:none;stroke-width:0.75;stroke-linecap:round;stroke-linejoin:round;stroke:rgb(0%,0%,0%);stroke-opacity:1;stroke-miterlimit:10;\" d=\"M 259.570313 122.632813 C 259.570313 124.125 257.328125 124.125 257.328125 122.632813 C 257.328125 121.136719 259.570313 121.136719 259.570313 122.632813 \"/>\n",
       "<path style=\"fill:none;stroke-width:0.75;stroke-linecap:round;stroke-linejoin:round;stroke:rgb(0%,0%,0%);stroke-opacity:1;stroke-miterlimit:10;\" d=\"M 259.839844 83.785156 C 259.839844 85.277344 257.597656 85.277344 257.597656 83.785156 C 257.597656 82.292969 259.839844 82.292969 259.839844 83.785156 \"/>\n",
       "<path style=\"fill:none;stroke-width:0.75;stroke-linecap:round;stroke-linejoin:round;stroke:rgb(0%,0%,0%);stroke-opacity:1;stroke-miterlimit:10;\" d=\"M 260.105469 115.351563 C 260.105469 116.84375 257.867188 116.84375 257.867188 115.351563 C 257.867188 113.855469 260.105469 113.855469 260.105469 115.351563 \"/>\n",
       "<path style=\"fill:none;stroke-width:0.75;stroke-linecap:round;stroke-linejoin:round;stroke:rgb(0%,0%,0%);stroke-opacity:1;stroke-miterlimit:10;\" d=\"M 260.375 175.554688 C 260.375 177.050781 258.132813 177.050781 258.132813 175.554688 C 258.132813 174.0625 260.375 174.0625 260.375 175.554688 \"/>\n",
       "<path style=\"fill:none;stroke-width:0.75;stroke-linecap:round;stroke-linejoin:round;stroke:rgb(0%,0%,0%);stroke-opacity:1;stroke-miterlimit:10;\" d=\"M 260.644531 95.351563 C 260.644531 96.847656 258.402344 96.847656 258.402344 95.351563 C 258.402344 93.859375 260.644531 93.859375 260.644531 95.351563 \"/>\n",
       "<path style=\"fill:none;stroke-width:0.75;stroke-linecap:round;stroke-linejoin:round;stroke:rgb(0%,0%,0%);stroke-opacity:1;stroke-miterlimit:10;\" d=\"M 260.914063 82.714844 C 260.914063 84.210938 258.671875 84.210938 258.671875 82.714844 C 258.671875 81.222656 260.914063 81.222656 260.914063 82.714844 \"/>\n",
       "<path style=\"fill:none;stroke-width:0.75;stroke-linecap:round;stroke-linejoin:round;stroke:rgb(0%,0%,0%);stroke-opacity:1;stroke-miterlimit:10;\" d=\"M 261.179688 106.484375 C 261.179688 107.980469 258.941406 107.980469 258.941406 106.484375 C 258.941406 104.992188 261.179688 104.992188 261.179688 106.484375 \"/>\n",
       "<path style=\"fill:none;stroke-width:0.75;stroke-linecap:round;stroke-linejoin:round;stroke:rgb(0%,0%,0%);stroke-opacity:1;stroke-miterlimit:10;\" d=\"M 261.449219 134.242188 C 261.449219 135.738281 259.207031 135.738281 259.207031 134.242188 C 259.207031 132.75 261.449219 132.75 261.449219 134.242188 \"/>\n",
       "<path style=\"fill:none;stroke-width:0.75;stroke-linecap:round;stroke-linejoin:round;stroke:rgb(0%,0%,0%);stroke-opacity:1;stroke-miterlimit:10;\" d=\"M 261.71875 99.554688 C 261.71875 101.050781 259.476563 101.050781 259.476563 99.554688 C 259.476563 98.0625 261.71875 98.0625 261.71875 99.554688 \"/>\n",
       "<path style=\"fill:none;stroke-width:0.75;stroke-linecap:round;stroke-linejoin:round;stroke:rgb(0%,0%,0%);stroke-opacity:1;stroke-miterlimit:10;\" d=\"M 261.984375 108.703125 C 261.984375 110.199219 259.746094 110.199219 259.746094 108.703125 C 259.746094 107.210938 261.984375 107.210938 261.984375 108.703125 \"/>\n",
       "<path style=\"fill:none;stroke-width:0.75;stroke-linecap:round;stroke-linejoin:round;stroke:rgb(0%,0%,0%);stroke-opacity:1;stroke-miterlimit:10;\" d=\"M 262.253906 167.308594 C 262.253906 168.800781 260.011719 168.800781 260.011719 167.308594 C 260.011719 165.8125 262.253906 165.8125 262.253906 167.308594 \"/>\n",
       "<path style=\"fill:none;stroke-width:0.75;stroke-linecap:round;stroke-linejoin:round;stroke:rgb(0%,0%,0%);stroke-opacity:1;stroke-miterlimit:10;\" d=\"M 262.523438 99.0625 C 262.523438 100.558594 260.28125 100.558594 260.28125 99.0625 C 260.28125 97.570313 262.523438 97.570313 262.523438 99.0625 \"/>\n",
       "<path style=\"fill:none;stroke-width:0.75;stroke-linecap:round;stroke-linejoin:round;stroke:rgb(0%,0%,0%);stroke-opacity:1;stroke-miterlimit:10;\" d=\"M 262.789063 103.078125 C 262.789063 104.570313 260.550781 104.570313 260.550781 103.078125 C 260.550781 101.582031 262.789063 101.582031 262.789063 103.078125 \"/>\n",
       "<path style=\"fill:none;stroke-width:0.75;stroke-linecap:round;stroke-linejoin:round;stroke:rgb(0%,0%,0%);stroke-opacity:1;stroke-miterlimit:10;\" d=\"M 263.058594 102.6875 C 263.058594 104.179688 260.820313 104.179688 260.820313 102.6875 C 260.820313 101.195313 263.058594 101.195313 263.058594 102.6875 \"/>\n",
       "<path style=\"fill:none;stroke-width:0.75;stroke-linecap:round;stroke-linejoin:round;stroke:rgb(0%,0%,0%);stroke-opacity:1;stroke-miterlimit:10;\" d=\"M 263.328125 143.953125 C 263.328125 145.445313 261.085938 145.445313 261.085938 143.953125 C 261.085938 142.457031 263.328125 142.457031 263.328125 143.953125 \"/>\n",
       "<path style=\"fill:none;stroke-width:0.75;stroke-linecap:round;stroke-linejoin:round;stroke:rgb(0%,0%,0%);stroke-opacity:1;stroke-miterlimit:10;\" d=\"M 263.597656 92.351563 C 263.597656 93.847656 261.355469 93.847656 261.355469 92.351563 C 261.355469 90.859375 263.597656 90.859375 263.597656 92.351563 \"/>\n",
       "<path style=\"fill:none;stroke-width:0.75;stroke-linecap:round;stroke-linejoin:round;stroke:rgb(0%,0%,0%);stroke-opacity:1;stroke-miterlimit:10;\" d=\"M 263.863281 92.296875 C 263.863281 93.789063 261.625 93.789063 261.625 92.296875 C 261.625 90.800781 263.863281 90.800781 263.863281 92.296875 \"/>\n",
       "<path style=\"fill:none;stroke-width:0.75;stroke-linecap:round;stroke-linejoin:round;stroke:rgb(0%,0%,0%);stroke-opacity:1;stroke-miterlimit:10;\" d=\"M 264.132813 98.425781 C 264.132813 99.917969 261.890625 99.917969 261.890625 98.425781 C 261.890625 96.929688 264.132813 96.929688 264.132813 98.425781 \"/>\n",
       "<path style=\"fill:none;stroke-width:0.75;stroke-linecap:round;stroke-linejoin:round;stroke:rgb(0%,0%,0%);stroke-opacity:1;stroke-miterlimit:10;\" d=\"M 264.402344 98.078125 C 264.402344 99.570313 262.160156 99.570313 262.160156 98.078125 C 262.160156 96.582031 264.402344 96.582031 264.402344 98.078125 \"/>\n",
       "<path style=\"fill:none;stroke-width:0.75;stroke-linecap:round;stroke-linejoin:round;stroke:rgb(0%,0%,0%);stroke-opacity:1;stroke-miterlimit:10;\" d=\"M 264.667969 106.554688 C 264.667969 108.046875 262.429688 108.046875 262.429688 106.554688 C 262.429688 105.058594 264.667969 105.058594 264.667969 106.554688 \"/>\n",
       "<path style=\"fill:none;stroke-width:0.75;stroke-linecap:round;stroke-linejoin:round;stroke:rgb(0%,0%,0%);stroke-opacity:1;stroke-miterlimit:10;\" d=\"M 264.9375 109.152344 C 264.9375 110.644531 262.699219 110.644531 262.699219 109.152344 C 262.699219 107.65625 264.9375 107.65625 264.9375 109.152344 \"/>\n",
       "<path style=\"fill:none;stroke-width:0.75;stroke-linecap:round;stroke-linejoin:round;stroke:rgb(0%,0%,0%);stroke-opacity:1;stroke-miterlimit:10;\" d=\"M 265.207031 148.433594 C 265.207031 149.925781 262.964844 149.925781 262.964844 148.433594 C 262.964844 146.9375 265.207031 146.9375 265.207031 148.433594 \"/>\n",
       "<path style=\"fill:none;stroke-width:0.75;stroke-linecap:round;stroke-linejoin:round;stroke:rgb(0%,0%,0%);stroke-opacity:1;stroke-miterlimit:10;\" d=\"M 265.476563 100.972656 C 265.476563 102.464844 263.234375 102.464844 263.234375 100.972656 C 263.234375 99.476563 265.476563 99.476563 265.476563 100.972656 \"/>\n",
       "<path style=\"fill:none;stroke-width:0.75;stroke-linecap:round;stroke-linejoin:round;stroke:rgb(0%,0%,0%);stroke-opacity:1;stroke-miterlimit:10;\" d=\"M 265.742188 106.335938 C 265.742188 107.832031 263.503906 107.832031 263.503906 106.335938 C 263.503906 104.84375 265.742188 104.84375 265.742188 106.335938 \"/>\n",
       "<path style=\"fill:none;stroke-width:0.75;stroke-linecap:round;stroke-linejoin:round;stroke:rgb(0%,0%,0%);stroke-opacity:1;stroke-miterlimit:10;\" d=\"M 266.011719 101.753906 C 266.011719 103.246094 263.769531 103.246094 263.769531 101.753906 C 263.769531 100.257813 266.011719 100.257813 266.011719 101.753906 \"/>\n",
       "<path style=\"fill:none;stroke-width:0.75;stroke-linecap:round;stroke-linejoin:round;stroke:rgb(0%,0%,0%);stroke-opacity:1;stroke-miterlimit:10;\" d=\"M 266.28125 121.621094 C 266.28125 123.113281 264.039063 123.113281 264.039063 121.621094 C 264.039063 120.128906 266.28125 120.128906 266.28125 121.621094 \"/>\n",
       "<path style=\"fill:none;stroke-width:0.75;stroke-linecap:round;stroke-linejoin:round;stroke:rgb(0%,0%,0%);stroke-opacity:1;stroke-miterlimit:10;\" d=\"M 266.546875 99.304688 C 266.546875 100.796875 264.308594 100.796875 264.308594 99.304688 C 264.308594 97.808594 266.546875 97.808594 266.546875 99.304688 \"/>\n",
       "<path style=\"fill:none;stroke-width:0.75;stroke-linecap:round;stroke-linejoin:round;stroke:rgb(0%,0%,0%);stroke-opacity:1;stroke-miterlimit:10;\" d=\"M 266.816406 116.136719 C 266.816406 117.628906 264.574219 117.628906 264.574219 116.136719 C 264.574219 114.640625 266.816406 114.640625 266.816406 116.136719 \"/>\n",
       "<path style=\"fill:none;stroke-width:0.75;stroke-linecap:round;stroke-linejoin:round;stroke:rgb(0%,0%,0%);stroke-opacity:1;stroke-miterlimit:10;\" d=\"M 267.085938 145.515625 C 267.085938 147.007813 264.84375 147.007813 264.84375 145.515625 C 264.84375 144.019531 267.085938 144.019531 267.085938 145.515625 \"/>\n",
       "<path style=\"fill:none;stroke-width:0.75;stroke-linecap:round;stroke-linejoin:round;stroke:rgb(0%,0%,0%);stroke-opacity:1;stroke-miterlimit:10;\" d=\"M 267.355469 134.125 C 267.355469 135.617188 265.113281 135.617188 265.113281 134.125 C 265.113281 132.632813 267.355469 132.632813 267.355469 134.125 \"/>\n",
       "<path style=\"fill:none;stroke-width:0.75;stroke-linecap:round;stroke-linejoin:round;stroke:rgb(0%,0%,0%);stroke-opacity:1;stroke-miterlimit:10;\" d=\"M 267.621094 101.953125 C 267.621094 103.449219 265.382813 103.449219 265.382813 101.953125 C 265.382813 100.460938 267.621094 100.460938 267.621094 101.953125 \"/>\n",
       "<path style=\"fill:none;stroke-width:0.75;stroke-linecap:round;stroke-linejoin:round;stroke:rgb(0%,0%,0%);stroke-opacity:1;stroke-miterlimit:10;\" d=\"M 267.890625 113.441406 C 267.890625 114.9375 265.648438 114.9375 265.648438 113.441406 C 265.648438 111.949219 267.890625 111.949219 267.890625 113.441406 \"/>\n",
       "<path style=\"fill:none;stroke-width:0.75;stroke-linecap:round;stroke-linejoin:round;stroke:rgb(0%,0%,0%);stroke-opacity:1;stroke-miterlimit:10;\" d=\"M 268.160156 107.832031 C 268.160156 109.324219 265.917969 109.324219 265.917969 107.832031 C 265.917969 106.335938 268.160156 106.335938 268.160156 107.832031 \"/>\n",
       "<path style=\"fill:none;stroke-width:0.75;stroke-linecap:round;stroke-linejoin:round;stroke:rgb(0%,0%,0%);stroke-opacity:1;stroke-miterlimit:10;\" d=\"M 268.425781 119.691406 C 268.425781 121.1875 266.1875 121.1875 266.1875 119.691406 C 266.1875 118.199219 268.425781 118.199219 268.425781 119.691406 \"/>\n",
       "<path style=\"fill:none;stroke-width:0.75;stroke-linecap:round;stroke-linejoin:round;stroke:rgb(0%,0%,0%);stroke-opacity:1;stroke-miterlimit:10;\" d=\"M 268.695313 112.824219 C 268.695313 114.320313 266.453125 114.320313 266.453125 112.824219 C 266.453125 111.332031 268.695313 111.332031 268.695313 112.824219 \"/>\n",
       "<path style=\"fill:none;stroke-width:0.75;stroke-linecap:round;stroke-linejoin:round;stroke:rgb(0%,0%,0%);stroke-opacity:1;stroke-miterlimit:10;\" d=\"M 268.964844 145.347656 C 268.964844 146.839844 266.722656 146.839844 266.722656 145.347656 C 266.722656 143.851563 268.964844 143.851563 268.964844 145.347656 \"/>\n",
       "<path style=\"fill:none;stroke-width:0.75;stroke-linecap:round;stroke-linejoin:round;stroke:rgb(0%,0%,0%);stroke-opacity:1;stroke-miterlimit:10;\" d=\"M 269.234375 102.238281 C 269.234375 103.730469 266.992188 103.730469 266.992188 102.238281 C 266.992188 100.742188 269.234375 100.742188 269.234375 102.238281 \"/>\n",
       "<path style=\"fill:none;stroke-width:0.75;stroke-linecap:round;stroke-linejoin:round;stroke:rgb(0%,0%,0%);stroke-opacity:1;stroke-miterlimit:10;\" d=\"M 269.5 111.785156 C 269.5 113.277344 267.261719 113.277344 267.261719 111.785156 C 267.261719 110.289063 269.5 110.289063 269.5 111.785156 \"/>\n",
       "<path style=\"fill:none;stroke-width:0.75;stroke-linecap:round;stroke-linejoin:round;stroke:rgb(0%,0%,0%);stroke-opacity:1;stroke-miterlimit:10;\" d=\"M 269.769531 105.871094 C 269.769531 107.367188 267.527344 107.367188 267.527344 105.871094 C 267.527344 104.378906 269.769531 104.378906 269.769531 105.871094 \"/>\n",
       "<path style=\"fill:none;stroke-width:0.75;stroke-linecap:round;stroke-linejoin:round;stroke:rgb(0%,0%,0%);stroke-opacity:1;stroke-miterlimit:10;\" d=\"M 270.039063 109.746094 C 270.039063 111.242188 267.796875 111.242188 267.796875 109.746094 C 267.796875 108.253906 270.039063 108.253906 270.039063 109.746094 \"/>\n",
       "<path style=\"fill:none;stroke-width:0.75;stroke-linecap:round;stroke-linejoin:round;stroke:rgb(0%,0%,0%);stroke-opacity:1;stroke-miterlimit:10;\" d=\"M 270.304688 131.382813 C 270.304688 132.878906 268.066406 132.878906 268.066406 131.382813 C 268.066406 129.890625 270.304688 129.890625 270.304688 131.382813 \"/>\n",
       "<path style=\"fill:none;stroke-width:0.75;stroke-linecap:round;stroke-linejoin:round;stroke:rgb(0%,0%,0%);stroke-opacity:1;stroke-miterlimit:10;\" d=\"M 270.574219 112.207031 C 270.574219 113.703125 268.332031 113.703125 268.332031 112.207031 C 268.332031 110.714844 270.574219 110.714844 270.574219 112.207031 \"/>\n",
       "<path style=\"fill:none;stroke-width:0.75;stroke-linecap:round;stroke-linejoin:round;stroke:rgb(0%,0%,0%);stroke-opacity:1;stroke-miterlimit:10;\" d=\"M 270.84375 148.042969 C 270.84375 149.539063 268.601563 149.539063 268.601563 148.042969 C 268.601563 146.550781 270.84375 146.550781 270.84375 148.042969 \"/>\n",
       "<path style=\"fill:none;stroke-width:0.75;stroke-linecap:round;stroke-linejoin:round;stroke:rgb(0%,0%,0%);stroke-opacity:1;stroke-miterlimit:10;\" d=\"M 271.113281 99.0625 C 271.113281 100.558594 268.871094 100.558594 268.871094 99.0625 C 268.871094 97.570313 271.113281 97.570313 271.113281 99.0625 \"/>\n",
       "<path style=\"fill:none;stroke-width:0.75;stroke-linecap:round;stroke-linejoin:round;stroke:rgb(0%,0%,0%);stroke-opacity:1;stroke-miterlimit:10;\" d=\"M 271.378906 100.121094 C 271.378906 101.617188 269.140625 101.617188 269.140625 100.121094 C 269.140625 98.628906 271.378906 98.628906 271.378906 100.121094 \"/>\n",
       "<path style=\"fill:none;stroke-width:0.75;stroke-linecap:round;stroke-linejoin:round;stroke:rgb(0%,0%,0%);stroke-opacity:1;stroke-miterlimit:10;\" d=\"M 271.648438 97.578125 C 271.648438 99.070313 269.40625 99.070313 269.40625 97.578125 C 269.40625 96.082031 271.648438 96.082031 271.648438 97.578125 \"/>\n",
       "<path style=\"fill:none;stroke-width:0.75;stroke-linecap:round;stroke-linejoin:round;stroke:rgb(0%,0%,0%);stroke-opacity:1;stroke-miterlimit:10;\" d=\"M 271.917969 98.726563 C 271.917969 100.222656 269.675781 100.222656 269.675781 98.726563 C 269.675781 97.234375 271.917969 97.234375 271.917969 98.726563 \"/>\n",
       "<path style=\"fill:none;stroke-width:0.75;stroke-linecap:round;stroke-linejoin:round;stroke:rgb(0%,0%,0%);stroke-opacity:1;stroke-miterlimit:10;\" d=\"M 272.183594 100.230469 C 272.183594 101.722656 269.945313 101.722656 269.945313 100.230469 C 269.945313 98.734375 272.183594 98.734375 272.183594 100.230469 \"/>\n",
       "<path style=\"fill:none;stroke-width:0.75;stroke-linecap:round;stroke-linejoin:round;stroke:rgb(0%,0%,0%);stroke-opacity:1;stroke-miterlimit:10;\" d=\"M 272.453125 99.222656 C 272.453125 100.71875 270.210938 100.71875 270.210938 99.222656 C 270.210938 97.730469 272.453125 97.730469 272.453125 99.222656 \"/>\n",
       "<path style=\"fill:none;stroke-width:0.75;stroke-linecap:round;stroke-linejoin:round;stroke:rgb(0%,0%,0%);stroke-opacity:1;stroke-miterlimit:10;\" d=\"M 272.722656 141.355469 C 272.722656 142.847656 270.480469 142.847656 270.480469 141.355469 C 270.480469 139.859375 272.722656 139.859375 272.722656 141.355469 \"/>\n",
       "<path style=\"fill:none;stroke-width:0.75;stroke-linecap:round;stroke-linejoin:round;stroke:rgb(0%,0%,0%);stroke-opacity:1;stroke-miterlimit:10;\" d=\"M 272.992188 103.769531 C 272.992188 105.265625 270.75 105.265625 270.75 103.769531 C 270.75 102.277344 272.992188 102.277344 272.992188 103.769531 \"/>\n",
       "<path style=\"fill:none;stroke-width:0.75;stroke-linecap:round;stroke-linejoin:round;stroke:rgb(0%,0%,0%);stroke-opacity:1;stroke-miterlimit:10;\" d=\"M 273.257813 105.175781 C 273.257813 106.667969 271.019531 106.667969 271.019531 105.175781 C 271.019531 103.679688 273.257813 103.679688 273.257813 105.175781 \"/>\n",
       "<path style=\"fill:none;stroke-width:0.75;stroke-linecap:round;stroke-linejoin:round;stroke:rgb(0%,0%,0%);stroke-opacity:1;stroke-miterlimit:10;\" d=\"M 273.527344 93.152344 C 273.527344 94.648438 271.285156 94.648438 271.285156 93.152344 C 271.285156 91.660156 273.527344 91.660156 273.527344 93.152344 \"/>\n",
       "<path style=\"fill:none;stroke-width:0.75;stroke-linecap:round;stroke-linejoin:round;stroke:rgb(0%,0%,0%);stroke-opacity:1;stroke-miterlimit:10;\" d=\"M 273.796875 109.253906 C 273.796875 110.746094 271.554688 110.746094 271.554688 109.253906 C 271.554688 107.761719 273.796875 107.761719 273.796875 109.253906 \"/>\n",
       "<path style=\"fill:none;stroke-width:0.75;stroke-linecap:round;stroke-linejoin:round;stroke:rgb(0%,0%,0%);stroke-opacity:1;stroke-miterlimit:10;\" d=\"M 274.0625 92.792969 C 274.0625 94.285156 271.824219 94.285156 271.824219 92.792969 C 271.824219 91.296875 274.0625 91.296875 274.0625 92.792969 \"/>\n",
       "<path style=\"fill:none;stroke-width:0.75;stroke-linecap:round;stroke-linejoin:round;stroke:rgb(0%,0%,0%);stroke-opacity:1;stroke-miterlimit:10;\" d=\"M 274.332031 103.539063 C 274.332031 105.03125 272.089844 105.03125 272.089844 103.539063 C 272.089844 102.042969 274.332031 102.042969 274.332031 103.539063 \"/>\n",
       "<path style=\"fill:none;stroke-width:0.75;stroke-linecap:round;stroke-linejoin:round;stroke:rgb(0%,0%,0%);stroke-opacity:1;stroke-miterlimit:10;\" d=\"M 274.601563 134.617188 C 274.601563 136.113281 272.359375 136.113281 272.359375 134.617188 C 272.359375 133.125 274.601563 133.125 274.601563 134.617188 \"/>\n",
       "<path style=\"fill:none;stroke-width:0.75;stroke-linecap:round;stroke-linejoin:round;stroke:rgb(0%,0%,0%);stroke-opacity:1;stroke-miterlimit:10;\" d=\"M 274.871094 94.710938 C 274.871094 96.203125 272.628906 96.203125 272.628906 94.710938 C 272.628906 93.21875 274.871094 93.21875 274.871094 94.710938 \"/>\n",
       "<path style=\"fill:none;stroke-width:0.75;stroke-linecap:round;stroke-linejoin:round;stroke:rgb(0%,0%,0%);stroke-opacity:1;stroke-miterlimit:10;\" d=\"M 275.136719 101.699219 C 275.136719 103.195313 272.898438 103.195313 272.898438 101.699219 C 272.898438 100.207031 275.136719 100.207031 275.136719 101.699219 \"/>\n",
       "<path style=\"fill:none;stroke-width:0.75;stroke-linecap:round;stroke-linejoin:round;stroke:rgb(0%,0%,0%);stroke-opacity:1;stroke-miterlimit:10;\" d=\"M 275.40625 102.714844 C 275.40625 104.207031 273.164063 104.207031 273.164063 102.714844 C 273.164063 101.21875 275.40625 101.21875 275.40625 102.714844 \"/>\n",
       "<path style=\"fill:none;stroke-width:0.75;stroke-linecap:round;stroke-linejoin:round;stroke:rgb(0%,0%,0%);stroke-opacity:1;stroke-miterlimit:10;\" d=\"M 275.675781 103.648438 C 275.675781 105.144531 273.433594 105.144531 273.433594 103.648438 C 273.433594 102.15625 275.675781 102.15625 275.675781 103.648438 \"/>\n",
       "<path style=\"fill:none;stroke-width:0.75;stroke-linecap:round;stroke-linejoin:round;stroke:rgb(0%,0%,0%);stroke-opacity:1;stroke-miterlimit:10;\" d=\"M 275.941406 98.601563 C 275.941406 100.097656 273.703125 100.097656 273.703125 98.601563 C 273.703125 97.109375 275.941406 97.109375 275.941406 98.601563 \"/>\n",
       "<path style=\"fill:none;stroke-width:0.75;stroke-linecap:round;stroke-linejoin:round;stroke:rgb(0%,0%,0%);stroke-opacity:1;stroke-miterlimit:10;\" d=\"M 276.210938 116.316406 C 276.210938 117.808594 273.96875 117.808594 273.96875 116.316406 C 273.96875 114.820313 276.210938 114.820313 276.210938 116.316406 \"/>\n",
       "<path style=\"fill:none;stroke-width:0.75;stroke-linecap:round;stroke-linejoin:round;stroke:rgb(0%,0%,0%);stroke-opacity:1;stroke-miterlimit:10;\" d=\"M 276.480469 142.359375 C 276.480469 143.851563 274.238281 143.851563 274.238281 142.359375 C 274.238281 140.867188 276.480469 140.867188 276.480469 142.359375 \"/>\n",
       "<path style=\"fill:none;stroke-width:0.75;stroke-linecap:round;stroke-linejoin:round;stroke:rgb(0%,0%,0%);stroke-opacity:1;stroke-miterlimit:10;\" d=\"M 276.75 109.285156 C 276.75 110.777344 274.507813 110.777344 274.507813 109.285156 C 274.507813 107.789063 276.75 107.789063 276.75 109.285156 \"/>\n",
       "<path style=\"fill:none;stroke-width:0.75;stroke-linecap:round;stroke-linejoin:round;stroke:rgb(0%,0%,0%);stroke-opacity:1;stroke-miterlimit:10;\" d=\"M 277.015625 108.5 C 277.015625 109.992188 274.777344 109.992188 274.777344 108.5 C 274.777344 107.003906 277.015625 107.003906 277.015625 108.5 \"/>\n",
       "<path style=\"fill:none;stroke-width:0.75;stroke-linecap:round;stroke-linejoin:round;stroke:rgb(0%,0%,0%);stroke-opacity:1;stroke-miterlimit:10;\" d=\"M 277.285156 97.132813 C 277.285156 98.625 275.042969 98.625 275.042969 97.132813 C 275.042969 95.636719 277.285156 95.636719 277.285156 97.132813 \"/>\n",
       "<path style=\"fill:none;stroke-width:0.75;stroke-linecap:round;stroke-linejoin:round;stroke:rgb(0%,0%,0%);stroke-opacity:1;stroke-miterlimit:10;\" d=\"M 277.554688 84.390625 C 277.554688 85.886719 275.3125 85.886719 275.3125 84.390625 C 275.3125 82.898438 277.554688 82.898438 277.554688 84.390625 \"/>\n",
       "<path style=\"fill:none;stroke-width:0.75;stroke-linecap:round;stroke-linejoin:round;stroke:rgb(0%,0%,0%);stroke-opacity:1;stroke-miterlimit:10;\" d=\"M 277.820313 63.417969 C 277.820313 64.910156 275.582031 64.910156 275.582031 63.417969 C 275.582031 61.921875 277.820313 61.921875 277.820313 63.417969 \"/>\n",
       "<path style=\"fill:none;stroke-width:0.75;stroke-linecap:round;stroke-linejoin:round;stroke:rgb(0%,0%,0%);stroke-opacity:1;stroke-miterlimit:10;\" d=\"M 278.089844 66.988281 C 278.089844 68.484375 275.847656 68.484375 275.847656 66.988281 C 275.847656 65.496094 278.089844 65.496094 278.089844 66.988281 \"/>\n",
       "<path style=\"fill:none;stroke-width:0.75;stroke-linecap:round;stroke-linejoin:round;stroke:rgb(0%,0%,0%);stroke-opacity:1;stroke-miterlimit:10;\" d=\"M 278.359375 140.265625 C 278.359375 141.761719 276.117188 141.761719 276.117188 140.265625 C 276.117188 138.773438 278.359375 138.773438 278.359375 140.265625 \"/>\n",
       "<path style=\"fill:none;stroke-width:0.75;stroke-linecap:round;stroke-linejoin:round;stroke:rgb(0%,0%,0%);stroke-opacity:1;stroke-miterlimit:10;\" d=\"M 278.628906 128.960938 C 278.628906 130.453125 276.386719 130.453125 276.386719 128.960938 C 276.386719 127.464844 278.628906 127.464844 278.628906 128.960938 \"/>\n",
       "<path style=\"fill:none;stroke-width:0.75;stroke-linecap:round;stroke-linejoin:round;stroke:rgb(0%,0%,0%);stroke-opacity:1;stroke-miterlimit:10;\" d=\"M 278.894531 160.933594 C 278.894531 162.429688 276.65625 162.429688 276.65625 160.933594 C 276.65625 159.441406 278.894531 159.441406 278.894531 160.933594 \"/>\n",
       "<path style=\"fill:none;stroke-width:0.75;stroke-linecap:round;stroke-linejoin:round;stroke:rgb(0%,0%,0%);stroke-opacity:1;stroke-miterlimit:10;\" d=\"M 279.164063 103.839844 C 279.164063 105.335938 276.921875 105.335938 276.921875 103.839844 C 276.921875 102.347656 279.164063 102.347656 279.164063 103.839844 \"/>\n",
       "<path style=\"fill:none;stroke-width:0.75;stroke-linecap:round;stroke-linejoin:round;stroke:rgb(0%,0%,0%);stroke-opacity:1;stroke-miterlimit:10;\" d=\"M 279.433594 99.625 C 279.433594 101.121094 277.191406 101.121094 277.191406 99.625 C 277.191406 98.132813 279.433594 98.132813 279.433594 99.625 \"/>\n",
       "<path style=\"fill:none;stroke-width:0.75;stroke-linecap:round;stroke-linejoin:round;stroke:rgb(0%,0%,0%);stroke-opacity:1;stroke-miterlimit:10;\" d=\"M 279.699219 103.660156 C 279.699219 105.15625 277.460938 105.15625 277.460938 103.660156 C 277.460938 102.167969 279.699219 102.167969 279.699219 103.660156 \"/>\n",
       "<path style=\"fill:none;stroke-width:0.75;stroke-linecap:round;stroke-linejoin:round;stroke:rgb(0%,0%,0%);stroke-opacity:1;stroke-miterlimit:10;\" d=\"M 279.96875 111.699219 C 279.96875 113.195313 277.726563 113.195313 277.726563 111.699219 C 277.726563 110.207031 279.96875 110.207031 279.96875 111.699219 \"/>\n",
       "<path style=\"fill:none;stroke-width:0.75;stroke-linecap:round;stroke-linejoin:round;stroke:rgb(0%,0%,0%);stroke-opacity:1;stroke-miterlimit:10;\" d=\"M 280.238281 141.933594 C 280.238281 143.425781 277.996094 143.425781 277.996094 141.933594 C 277.996094 140.4375 280.238281 140.4375 280.238281 141.933594 \"/>\n",
       "<path style=\"fill:none;stroke-width:0.75;stroke-linecap:round;stroke-linejoin:round;stroke:rgb(0%,0%,0%);stroke-opacity:1;stroke-miterlimit:10;\" d=\"M 280.507813 91.289063 C 280.507813 92.78125 278.265625 92.78125 278.265625 91.289063 C 278.265625 89.792969 280.507813 89.792969 280.507813 91.289063 \"/>\n",
       "<path style=\"fill:none;stroke-width:0.75;stroke-linecap:round;stroke-linejoin:round;stroke:rgb(0%,0%,0%);stroke-opacity:1;stroke-miterlimit:10;\" d=\"M 280.773438 105.089844 C 280.773438 106.585938 278.535156 106.585938 278.535156 105.089844 C 278.535156 103.597656 280.773438 103.597656 280.773438 105.089844 \"/>\n",
       "<path style=\"fill:none;stroke-width:0.75;stroke-linecap:round;stroke-linejoin:round;stroke:rgb(0%,0%,0%);stroke-opacity:1;stroke-miterlimit:10;\" d=\"M 281.042969 91.441406 C 281.042969 92.933594 278.800781 92.933594 278.800781 91.441406 C 278.800781 89.945313 281.042969 89.945313 281.042969 91.441406 \"/>\n",
       "<path style=\"fill:none;stroke-width:0.75;stroke-linecap:round;stroke-linejoin:round;stroke:rgb(0%,0%,0%);stroke-opacity:1;stroke-miterlimit:10;\" d=\"M 281.3125 104.636719 C 281.3125 106.128906 279.070313 106.128906 279.070313 104.636719 C 279.070313 103.140625 281.3125 103.140625 281.3125 104.636719 \"/>\n",
       "<path style=\"fill:none;stroke-width:0.75;stroke-linecap:round;stroke-linejoin:round;stroke:rgb(0%,0%,0%);stroke-opacity:1;stroke-miterlimit:10;\" d=\"M 281.578125 108.316406 C 281.578125 109.8125 279.339844 109.8125 279.339844 108.316406 C 279.339844 106.824219 281.578125 106.824219 281.578125 108.316406 \"/>\n",
       "<path style=\"fill:none;stroke-width:0.75;stroke-linecap:round;stroke-linejoin:round;stroke:rgb(0%,0%,0%);stroke-opacity:1;stroke-miterlimit:10;\" d=\"M 281.847656 103.34375 C 281.847656 104.839844 279.605469 104.839844 279.605469 103.34375 C 279.605469 101.851563 281.847656 101.851563 281.847656 103.34375 \"/>\n",
       "<path style=\"fill:none;stroke-width:0.75;stroke-linecap:round;stroke-linejoin:round;stroke:rgb(0%,0%,0%);stroke-opacity:1;stroke-miterlimit:10;\" d=\"M 282.117188 137.890625 C 282.117188 139.386719 279.875 139.386719 279.875 137.890625 C 279.875 136.398438 282.117188 136.398438 282.117188 137.890625 \"/>\n",
       "<path style=\"fill:none;stroke-width:0.75;stroke-linecap:round;stroke-linejoin:round;stroke:rgb(0%,0%,0%);stroke-opacity:1;stroke-miterlimit:10;\" d=\"M 282.386719 99.609375 C 282.386719 101.105469 280.144531 101.105469 280.144531 99.609375 C 280.144531 98.117188 282.386719 98.117188 282.386719 99.609375 \"/>\n",
       "<path style=\"fill:none;stroke-width:0.75;stroke-linecap:round;stroke-linejoin:round;stroke:rgb(0%,0%,0%);stroke-opacity:1;stroke-miterlimit:10;\" d=\"M 282.652344 104.628906 C 282.652344 106.121094 280.414063 106.121094 280.414063 104.628906 C 280.414063 103.132813 282.652344 103.132813 282.652344 104.628906 \"/>\n",
       "<path style=\"fill:none;stroke-width:0.75;stroke-linecap:round;stroke-linejoin:round;stroke:rgb(0%,0%,0%);stroke-opacity:1;stroke-miterlimit:10;\" d=\"M 282.921875 105.21875 C 282.921875 106.710938 280.679688 106.710938 280.679688 105.21875 C 280.679688 103.722656 282.921875 103.722656 282.921875 105.21875 \"/>\n",
       "<path style=\"fill:none;stroke-width:0.75;stroke-linecap:round;stroke-linejoin:round;stroke:rgb(0%,0%,0%);stroke-opacity:1;stroke-miterlimit:10;\" d=\"M 283.191406 108.035156 C 283.191406 109.53125 280.949219 109.53125 280.949219 108.035156 C 280.949219 106.542969 283.191406 106.542969 283.191406 108.035156 \"/>\n",
       "<path style=\"fill:none;stroke-width:0.75;stroke-linecap:round;stroke-linejoin:round;stroke:rgb(0%,0%,0%);stroke-opacity:1;stroke-miterlimit:10;\" d=\"M 283.457031 105.289063 C 283.457031 106.785156 281.21875 106.785156 281.21875 105.289063 C 281.21875 103.796875 283.457031 103.796875 283.457031 105.289063 \"/>\n",
       "<path style=\"fill:none;stroke-width:0.75;stroke-linecap:round;stroke-linejoin:round;stroke:rgb(0%,0%,0%);stroke-opacity:1;stroke-miterlimit:10;\" d=\"M 283.726563 113.054688 C 283.726563 114.550781 281.484375 114.550781 281.484375 113.054688 C 281.484375 111.5625 283.726563 111.5625 283.726563 113.054688 \"/>\n",
       "<path style=\"fill:none;stroke-width:0.75;stroke-linecap:round;stroke-linejoin:round;stroke:rgb(0%,0%,0%);stroke-opacity:1;stroke-miterlimit:10;\" d=\"M 283.996094 143.109375 C 283.996094 144.601563 281.753906 144.601563 281.753906 143.109375 C 281.753906 141.613281 283.996094 141.613281 283.996094 143.109375 \"/>\n",
       "<path style=\"fill:none;stroke-width:0.75;stroke-linecap:round;stroke-linejoin:round;stroke:rgb(0%,0%,0%);stroke-opacity:1;stroke-miterlimit:10;\" d=\"M 284.265625 103.574219 C 284.265625 105.066406 282.023438 105.066406 282.023438 103.574219 C 282.023438 102.078125 284.265625 102.078125 284.265625 103.574219 \"/>\n",
       "<path style=\"fill:none;stroke-width:0.75;stroke-linecap:round;stroke-linejoin:round;stroke:rgb(0%,0%,0%);stroke-opacity:1;stroke-miterlimit:10;\" d=\"M 284.53125 106.839844 C 284.53125 108.332031 282.292969 108.332031 282.292969 106.839844 C 282.292969 105.34375 284.53125 105.34375 284.53125 106.839844 \"/>\n",
       "<path style=\"fill:none;stroke-width:0.75;stroke-linecap:round;stroke-linejoin:round;stroke:rgb(0%,0%,0%);stroke-opacity:1;stroke-miterlimit:10;\" d=\"M 284.800781 107.246094 C 284.800781 108.738281 282.558594 108.738281 282.558594 107.246094 C 282.558594 105.75 284.800781 105.75 284.800781 107.246094 \"/>\n",
       "<path style=\"fill:none;stroke-width:0.75;stroke-linecap:round;stroke-linejoin:round;stroke:rgb(0%,0%,0%);stroke-opacity:1;stroke-miterlimit:10;\" d=\"M 285.070313 110.503906 C 285.070313 112 282.828125 112 282.828125 110.503906 C 282.828125 109.011719 285.070313 109.011719 285.070313 110.503906 \"/>\n",
       "<path style=\"fill:none;stroke-width:0.75;stroke-linecap:round;stroke-linejoin:round;stroke:rgb(0%,0%,0%);stroke-opacity:1;stroke-miterlimit:10;\" d=\"M 285.335938 102.984375 C 285.335938 104.480469 283.097656 104.480469 283.097656 102.984375 C 283.097656 101.492188 285.335938 101.492188 285.335938 102.984375 \"/>\n",
       "<path style=\"fill:none;stroke-width:0.75;stroke-linecap:round;stroke-linejoin:round;stroke:rgb(0%,0%,0%);stroke-opacity:1;stroke-miterlimit:10;\" d=\"M 285.605469 113.613281 C 285.605469 115.105469 283.363281 115.105469 283.363281 113.613281 C 283.363281 112.117188 285.605469 112.117188 285.605469 113.613281 \"/>\n",
       "<path style=\"fill:none;stroke-width:0.75;stroke-linecap:round;stroke-linejoin:round;stroke:rgb(0%,0%,0%);stroke-opacity:1;stroke-miterlimit:10;\" d=\"M 285.875 138 C 285.875 139.492188 283.632813 139.492188 283.632813 138 C 283.632813 136.503906 285.875 136.503906 285.875 138 \"/>\n",
       "<path style=\"fill:none;stroke-width:0.75;stroke-linecap:round;stroke-linejoin:round;stroke:rgb(0%,0%,0%);stroke-opacity:1;stroke-miterlimit:10;\" d=\"M 286.144531 95.847656 C 286.144531 97.339844 283.902344 97.339844 283.902344 95.847656 C 283.902344 94.351563 286.144531 94.351563 286.144531 95.847656 \"/>\n",
       "<path style=\"fill:none;stroke-width:0.75;stroke-linecap:round;stroke-linejoin:round;stroke:rgb(0%,0%,0%);stroke-opacity:1;stroke-miterlimit:10;\" d=\"M 286.410156 93.429688 C 286.410156 94.921875 284.171875 94.921875 284.171875 93.429688 C 284.171875 91.933594 286.410156 91.933594 286.410156 93.429688 \"/>\n",
       "<path style=\"fill:none;stroke-width:0.75;stroke-linecap:round;stroke-linejoin:round;stroke:rgb(0%,0%,0%);stroke-opacity:1;stroke-miterlimit:10;\" d=\"M 286.679688 67.003906 C 286.679688 68.496094 284.4375 68.496094 284.4375 67.003906 C 284.4375 65.507813 286.679688 65.507813 286.679688 67.003906 \"/>\n",
       "<path style=\"fill:none;stroke-width:0.75;stroke-linecap:round;stroke-linejoin:round;stroke:rgb(0%,0%,0%);stroke-opacity:1;stroke-miterlimit:10;\" d=\"M 286.949219 86.378906 C 286.949219 87.871094 284.707031 87.871094 284.707031 86.378906 C 284.707031 84.886719 286.949219 84.886719 286.949219 86.378906 \"/>\n",
       "<path style=\"fill:none;stroke-width:0.75;stroke-linecap:round;stroke-linejoin:round;stroke:rgb(0%,0%,0%);stroke-opacity:1;stroke-miterlimit:10;\" d=\"M 287.214844 84.894531 C 287.214844 86.386719 284.976563 86.386719 284.976563 84.894531 C 284.976563 83.398438 287.214844 83.398438 287.214844 84.894531 \"/>\n",
       "<path style=\"fill:none;stroke-width:0.75;stroke-linecap:round;stroke-linejoin:round;stroke:rgb(0%,0%,0%);stroke-opacity:1;stroke-miterlimit:10;\" d=\"M 287.484375 109.542969 C 287.484375 111.035156 285.242188 111.035156 285.242188 109.542969 C 285.242188 108.046875 287.484375 108.046875 287.484375 109.542969 \"/>\n",
       "<path style=\"fill:none;stroke-width:0.75;stroke-linecap:round;stroke-linejoin:round;stroke:rgb(0%,0%,0%);stroke-opacity:1;stroke-miterlimit:10;\" d=\"M 287.753906 137.066406 C 287.753906 138.558594 285.511719 138.558594 285.511719 137.066406 C 285.511719 135.570313 287.753906 135.570313 287.753906 137.066406 \"/>\n",
       "<path style=\"fill:none;stroke-width:0.75;stroke-linecap:round;stroke-linejoin:round;stroke:rgb(0%,0%,0%);stroke-opacity:1;stroke-miterlimit:10;\" d=\"M 288.023438 89.496094 C 288.023438 90.992188 285.78125 90.992188 285.78125 89.496094 C 285.78125 88.003906 288.023438 88.003906 288.023438 89.496094 \"/>\n",
       "<path style=\"fill:none;stroke-width:0.75;stroke-linecap:round;stroke-linejoin:round;stroke:rgb(0%,0%,0%);stroke-opacity:1;stroke-miterlimit:10;\" d=\"M 288.289063 102.253906 C 288.289063 103.75 286.050781 103.75 286.050781 102.253906 C 286.050781 100.761719 288.289063 100.761719 288.289063 102.253906 \"/>\n",
       "<path style=\"fill:none;stroke-width:0.75;stroke-linecap:round;stroke-linejoin:round;stroke:rgb(0%,0%,0%);stroke-opacity:1;stroke-miterlimit:10;\" d=\"M 288.558594 102.382813 C 288.558594 103.875 286.316406 103.875 286.316406 102.382813 C 286.316406 100.886719 288.558594 100.886719 288.558594 102.382813 \"/>\n",
       "<path style=\"fill:none;stroke-width:0.75;stroke-linecap:round;stroke-linejoin:round;stroke:rgb(0%,0%,0%);stroke-opacity:1;stroke-miterlimit:10;\" d=\"M 288.828125 89.574219 C 288.828125 91.066406 286.585938 91.066406 286.585938 89.574219 C 286.585938 88.082031 288.828125 88.082031 288.828125 89.574219 \"/>\n",
       "<path style=\"fill:none;stroke-width:0.75;stroke-linecap:round;stroke-linejoin:round;stroke:rgb(0%,0%,0%);stroke-opacity:1;stroke-miterlimit:10;\" d=\"M 289.09375 103.273438 C 289.09375 104.769531 286.855469 104.769531 286.855469 103.273438 C 286.855469 101.78125 289.09375 101.78125 289.09375 103.273438 \"/>\n",
       "<path style=\"fill:none;stroke-width:0.75;stroke-linecap:round;stroke-linejoin:round;stroke:rgb(0%,0%,0%);stroke-opacity:1;stroke-miterlimit:10;\" d=\"M 289.363281 111.820313 C 289.363281 113.316406 287.121094 113.316406 287.121094 111.820313 C 287.121094 110.328125 289.363281 110.328125 289.363281 111.820313 \"/>\n",
       "<path style=\"fill:none;stroke-width:0.75;stroke-linecap:round;stroke-linejoin:round;stroke:rgb(0%,0%,0%);stroke-opacity:1;stroke-miterlimit:10;\" d=\"M 289.632813 139.65625 C 289.632813 141.148438 287.390625 141.148438 287.390625 139.65625 C 287.390625 138.160156 289.632813 138.160156 289.632813 139.65625 \"/>\n",
       "<path style=\"fill:none;stroke-width:0.75;stroke-linecap:round;stroke-linejoin:round;stroke:rgb(0%,0%,0%);stroke-opacity:1;stroke-miterlimit:10;\" d=\"M 289.902344 118.648438 C 289.902344 120.144531 287.660156 120.144531 287.660156 118.648438 C 287.660156 117.15625 289.902344 117.15625 289.902344 118.648438 \"/>\n",
       "<path style=\"fill:none;stroke-width:0.75;stroke-linecap:round;stroke-linejoin:round;stroke:rgb(0%,0%,0%);stroke-opacity:1;stroke-miterlimit:10;\" d=\"M 290.167969 99.070313 C 290.167969 100.5625 287.929688 100.5625 287.929688 99.070313 C 287.929688 97.574219 290.167969 97.574219 290.167969 99.070313 \"/>\n",
       "<path style=\"fill:none;stroke-width:0.75;stroke-linecap:round;stroke-linejoin:round;stroke:rgb(0%,0%,0%);stroke-opacity:1;stroke-miterlimit:10;\" d=\"M 290.4375 85.371094 C 290.4375 86.863281 288.195313 86.863281 288.195313 85.371094 C 288.195313 83.875 290.4375 83.875 290.4375 85.371094 \"/>\n",
       "<path style=\"fill:none;stroke-width:0.75;stroke-linecap:round;stroke-linejoin:round;stroke:rgb(0%,0%,0%);stroke-opacity:1;stroke-miterlimit:10;\" d=\"M 290.707031 89.46875 C 290.707031 90.964844 288.464844 90.964844 288.464844 89.46875 C 288.464844 87.976563 290.707031 87.976563 290.707031 89.46875 \"/>\n",
       "<path style=\"fill:none;stroke-width:0.75;stroke-linecap:round;stroke-linejoin:round;stroke:rgb(0%,0%,0%);stroke-opacity:1;stroke-miterlimit:10;\" d=\"M 290.972656 116.40625 C 290.972656 117.898438 288.734375 117.898438 288.734375 116.40625 C 288.734375 114.910156 290.972656 114.910156 290.972656 116.40625 \"/>\n",
       "<path style=\"fill:none;stroke-width:0.75;stroke-linecap:round;stroke-linejoin:round;stroke:rgb(0%,0%,0%);stroke-opacity:1;stroke-miterlimit:10;\" d=\"M 291.242188 104.773438 C 291.242188 106.265625 289 106.265625 289 104.773438 C 289 103.28125 291.242188 103.28125 291.242188 104.773438 \"/>\n",
       "<path style=\"fill:none;stroke-width:0.75;stroke-linecap:round;stroke-linejoin:round;stroke:rgb(0%,0%,0%);stroke-opacity:1;stroke-miterlimit:10;\" d=\"M 291.511719 147.125 C 291.511719 148.617188 289.269531 148.617188 289.269531 147.125 C 289.269531 145.628906 291.511719 145.628906 291.511719 147.125 \"/>\n",
       "<path style=\"fill:none;stroke-width:0.75;stroke-linecap:round;stroke-linejoin:round;stroke:rgb(0%,0%,0%);stroke-opacity:1;stroke-miterlimit:10;\" d=\"M 291.78125 136.378906 C 291.78125 137.871094 289.539063 137.871094 289.539063 136.378906 C 289.539063 134.882813 291.78125 134.882813 291.78125 136.378906 \"/>\n",
       "<path style=\"fill:none;stroke-width:0.75;stroke-linecap:round;stroke-linejoin:round;stroke:rgb(0%,0%,0%);stroke-opacity:1;stroke-miterlimit:10;\" d=\"M 292.046875 102.210938 C 292.046875 103.707031 289.808594 103.707031 289.808594 102.210938 C 289.808594 100.71875 292.046875 100.71875 292.046875 102.210938 \"/>\n",
       "<path style=\"fill:none;stroke-width:0.75;stroke-linecap:round;stroke-linejoin:round;stroke:rgb(0%,0%,0%);stroke-opacity:1;stroke-miterlimit:10;\" d=\"M 292.316406 126.984375 C 292.316406 128.476563 290.074219 128.476563 290.074219 126.984375 C 290.074219 125.488281 292.316406 125.488281 292.316406 126.984375 \"/>\n",
       "<path style=\"fill:none;stroke-width:0.75;stroke-linecap:round;stroke-linejoin:round;stroke:rgb(0%,0%,0%);stroke-opacity:1;stroke-miterlimit:10;\" d=\"M 292.585938 111.996094 C 292.585938 113.492188 290.34375 113.492188 290.34375 111.996094 C 290.34375 110.503906 292.585938 110.503906 292.585938 111.996094 \"/>\n",
       "<path style=\"fill:none;stroke-width:0.75;stroke-linecap:round;stroke-linejoin:round;stroke:rgb(0%,0%,0%);stroke-opacity:1;stroke-miterlimit:10;\" d=\"M 292.851563 102.695313 C 292.851563 104.191406 290.613281 104.191406 290.613281 102.695313 C 290.613281 101.203125 292.851563 101.203125 292.851563 102.695313 \"/>\n",
       "<path style=\"fill:none;stroke-width:0.75;stroke-linecap:round;stroke-linejoin:round;stroke:rgb(0%,0%,0%);stroke-opacity:1;stroke-miterlimit:10;\" d=\"M 293.121094 115.148438 C 293.121094 116.644531 290.878906 116.644531 290.878906 115.148438 C 290.878906 113.65625 293.121094 113.65625 293.121094 115.148438 \"/>\n",
       "<path style=\"fill:none;stroke-width:0.75;stroke-linecap:round;stroke-linejoin:round;stroke:rgb(0%,0%,0%);stroke-opacity:1;stroke-miterlimit:10;\" d=\"M 293.390625 144.816406 C 293.390625 146.3125 291.148438 146.3125 291.148438 144.816406 C 291.148438 143.324219 293.390625 143.324219 293.390625 144.816406 \"/>\n",
       "<path style=\"fill:none;stroke-width:0.75;stroke-linecap:round;stroke-linejoin:round;stroke:rgb(0%,0%,0%);stroke-opacity:1;stroke-miterlimit:10;\" d=\"M 293.660156 100.515625 C 293.660156 102.011719 291.417969 102.011719 291.417969 100.515625 C 291.417969 99.023438 293.660156 99.023438 293.660156 100.515625 \"/>\n",
       "<path style=\"fill:none;stroke-width:0.75;stroke-linecap:round;stroke-linejoin:round;stroke:rgb(0%,0%,0%);stroke-opacity:1;stroke-miterlimit:10;\" d=\"M 293.925781 101.371094 C 293.925781 102.867188 291.6875 102.867188 291.6875 101.371094 C 291.6875 99.878906 293.925781 99.878906 293.925781 101.371094 \"/>\n",
       "<path style=\"fill:none;stroke-width:0.75;stroke-linecap:round;stroke-linejoin:round;stroke:rgb(0%,0%,0%);stroke-opacity:1;stroke-miterlimit:10;\" d=\"M 294.195313 88.664063 C 294.195313 90.15625 291.953125 90.15625 291.953125 88.664063 C 291.953125 87.167969 294.195313 87.167969 294.195313 88.664063 \"/>\n",
       "<path style=\"fill:none;stroke-width:0.75;stroke-linecap:round;stroke-linejoin:round;stroke:rgb(0%,0%,0%);stroke-opacity:1;stroke-miterlimit:10;\" d=\"M 294.464844 153.632813 C 294.464844 155.128906 292.222656 155.128906 292.222656 153.632813 C 292.222656 152.140625 294.464844 152.140625 294.464844 153.632813 \"/>\n",
       "<path style=\"fill:none;stroke-width:0.75;stroke-linecap:round;stroke-linejoin:round;stroke:rgb(0%,0%,0%);stroke-opacity:1;stroke-miterlimit:10;\" d=\"M 294.730469 74.222656 C 294.730469 75.714844 292.492188 75.714844 292.492188 74.222656 C 292.492188 72.726563 294.730469 72.726563 294.730469 74.222656 \"/>\n",
       "<path style=\"fill:none;stroke-width:0.75;stroke-linecap:round;stroke-linejoin:round;stroke:rgb(0%,0%,0%);stroke-opacity:1;stroke-miterlimit:10;\" d=\"M 295 86.316406 C 295 87.808594 292.757813 87.808594 292.757813 86.316406 C 292.757813 84.824219 295 84.824219 295 86.316406 \"/>\n",
       "<path style=\"fill:none;stroke-width:0.75;stroke-linecap:round;stroke-linejoin:round;stroke:rgb(0%,0%,0%);stroke-opacity:1;stroke-miterlimit:10;\" d=\"M 295.269531 130.925781 C 295.269531 132.421875 293.027344 132.421875 293.027344 130.925781 C 293.027344 129.433594 295.269531 129.433594 295.269531 130.925781 \"/>\n",
       "<path style=\"fill:none;stroke-width:0.75;stroke-linecap:round;stroke-linejoin:round;stroke:rgb(0%,0%,0%);stroke-opacity:1;stroke-miterlimit:10;\" d=\"M 295.539063 98.9375 C 295.539063 100.433594 293.296875 100.433594 293.296875 98.9375 C 293.296875 97.445313 295.539063 97.445313 295.539063 98.9375 \"/>\n",
       "<path style=\"fill:none;stroke-width:0.75;stroke-linecap:round;stroke-linejoin:round;stroke:rgb(0%,0%,0%);stroke-opacity:1;stroke-miterlimit:10;\" d=\"M 295.804688 96.867188 C 295.804688 98.359375 293.566406 98.359375 293.566406 96.867188 C 293.566406 95.371094 295.804688 95.371094 295.804688 96.867188 \"/>\n",
       "<path style=\"fill:none;stroke-width:0.75;stroke-linecap:round;stroke-linejoin:round;stroke:rgb(0%,0%,0%);stroke-opacity:1;stroke-miterlimit:10;\" d=\"M 296.074219 89.539063 C 296.074219 91.03125 293.832031 91.03125 293.832031 89.539063 C 293.832031 88.042969 296.074219 88.042969 296.074219 89.539063 \"/>\n",
       "<path style=\"fill:none;stroke-width:0.75;stroke-linecap:round;stroke-linejoin:round;stroke:rgb(0%,0%,0%);stroke-opacity:1;stroke-miterlimit:10;\" d=\"M 296.34375 102.5 C 296.34375 103.992188 294.101563 103.992188 294.101563 102.5 C 294.101563 101.003906 296.34375 101.003906 296.34375 102.5 \"/>\n",
       "<path style=\"fill:none;stroke-width:0.75;stroke-linecap:round;stroke-linejoin:round;stroke:rgb(0%,0%,0%);stroke-opacity:1;stroke-miterlimit:10;\" d=\"M 296.609375 95.839844 C 296.609375 97.335938 294.371094 97.335938 294.371094 95.839844 C 294.371094 94.347656 296.609375 94.347656 296.609375 95.839844 \"/>\n",
       "<path style=\"fill:none;stroke-width:0.75;stroke-linecap:round;stroke-linejoin:round;stroke:rgb(0%,0%,0%);stroke-opacity:1;stroke-miterlimit:10;\" d=\"M 296.878906 103.601563 C 296.878906 105.09375 294.636719 105.09375 294.636719 103.601563 C 294.636719 102.105469 296.878906 102.105469 296.878906 103.601563 \"/>\n",
       "<path style=\"fill:none;stroke-width:0.75;stroke-linecap:round;stroke-linejoin:round;stroke:rgb(0%,0%,0%);stroke-opacity:1;stroke-miterlimit:10;\" d=\"M 297.148438 143.191406 C 297.148438 144.6875 294.90625 144.6875 294.90625 143.191406 C 294.90625 141.699219 297.148438 141.699219 297.148438 143.191406 \"/>\n",
       "<path style=\"fill:none;stroke-width:0.75;stroke-linecap:round;stroke-linejoin:round;stroke:rgb(0%,0%,0%);stroke-opacity:1;stroke-miterlimit:10;\" d=\"M 297.414063 94.984375 C 297.414063 96.476563 295.175781 96.476563 295.175781 94.984375 C 295.175781 93.488281 297.414063 93.488281 297.414063 94.984375 \"/>\n",
       "<path style=\"fill:none;stroke-width:0.75;stroke-linecap:round;stroke-linejoin:round;stroke:rgb(0%,0%,0%);stroke-opacity:1;stroke-miterlimit:10;\" d=\"M 297.683594 95.148438 C 297.683594 96.640625 295.445313 96.640625 295.445313 95.148438 C 295.445313 93.652344 297.683594 93.652344 297.683594 95.148438 \"/>\n",
       "<path style=\"fill:none;stroke-width:0.75;stroke-linecap:round;stroke-linejoin:round;stroke:rgb(0%,0%,0%);stroke-opacity:1;stroke-miterlimit:10;\" d=\"M 297.953125 94.730469 C 297.953125 96.226563 295.710938 96.226563 295.710938 94.730469 C 295.710938 93.238281 297.953125 93.238281 297.953125 94.730469 \"/>\n",
       "<path style=\"fill:none;stroke-width:0.75;stroke-linecap:round;stroke-linejoin:round;stroke:rgb(0%,0%,0%);stroke-opacity:1;stroke-miterlimit:10;\" d=\"M 298.222656 94.941406 C 298.222656 96.433594 295.980469 96.433594 295.980469 94.941406 C 295.980469 93.445313 298.222656 93.445313 298.222656 94.941406 \"/>\n",
       "<path style=\"fill:none;stroke-width:0.75;stroke-linecap:round;stroke-linejoin:round;stroke:rgb(0%,0%,0%);stroke-opacity:1;stroke-miterlimit:10;\" d=\"M 298.488281 91.410156 C 298.488281 92.90625 296.25 92.90625 296.25 91.410156 C 296.25 89.917969 298.488281 89.917969 298.488281 91.410156 \"/>\n",
       "<path style=\"fill:none;stroke-width:0.75;stroke-linecap:round;stroke-linejoin:round;stroke:rgb(0%,0%,0%);stroke-opacity:1;stroke-miterlimit:10;\" d=\"M 298.757813 108.230469 C 298.757813 109.726563 296.515625 109.726563 296.515625 108.230469 C 296.515625 106.738281 298.757813 106.738281 298.757813 108.230469 \"/>\n",
       "<path style=\"fill:none;stroke-width:0.75;stroke-linecap:round;stroke-linejoin:round;stroke:rgb(0%,0%,0%);stroke-opacity:1;stroke-miterlimit:10;\" d=\"M 299.027344 146.078125 C 299.027344 147.574219 296.785156 147.574219 296.785156 146.078125 C 296.785156 144.585938 299.027344 144.585938 299.027344 146.078125 \"/>\n",
       "<path style=\"fill:none;stroke-width:0.75;stroke-linecap:round;stroke-linejoin:round;stroke:rgb(0%,0%,0%);stroke-opacity:1;stroke-miterlimit:10;\" d=\"M 299.292969 100.101563 C 299.292969 101.597656 297.054688 101.597656 297.054688 100.101563 C 297.054688 98.609375 299.292969 98.609375 299.292969 100.101563 \"/>\n",
       "<path style=\"fill:none;stroke-width:0.75;stroke-linecap:round;stroke-linejoin:round;stroke:rgb(0%,0%,0%);stroke-opacity:1;stroke-miterlimit:10;\" d=\"M 299.5625 100.476563 C 299.5625 101.96875 297.324219 101.96875 297.324219 100.476563 C 297.324219 98.980469 299.5625 98.980469 299.5625 100.476563 \"/>\n",
       "<path style=\"fill:none;stroke-width:0.75;stroke-linecap:round;stroke-linejoin:round;stroke:rgb(0%,0%,0%);stroke-opacity:1;stroke-miterlimit:10;\" d=\"M 299.832031 96.59375 C 299.832031 98.085938 297.589844 98.085938 297.589844 96.59375 C 297.589844 95.097656 299.832031 95.097656 299.832031 96.59375 \"/>\n",
       "<path style=\"fill:none;stroke-width:0.75;stroke-linecap:round;stroke-linejoin:round;stroke:rgb(0%,0%,0%);stroke-opacity:1;stroke-miterlimit:10;\" d=\"M 300.101563 96.796875 C 300.101563 98.289063 297.859375 98.289063 297.859375 96.796875 C 297.859375 95.300781 300.101563 95.300781 300.101563 96.796875 \"/>\n",
       "<path style=\"fill:none;stroke-width:0.75;stroke-linecap:round;stroke-linejoin:round;stroke:rgb(0%,0%,0%);stroke-opacity:1;stroke-miterlimit:10;\" d=\"M 300.367188 115.613281 C 300.367188 117.105469 298.128906 117.105469 298.128906 115.613281 C 298.128906 114.117188 300.367188 114.117188 300.367188 115.613281 \"/>\n",
       "<path style=\"fill:none;stroke-width:0.75;stroke-linecap:round;stroke-linejoin:round;stroke:rgb(0%,0%,0%);stroke-opacity:1;stroke-miterlimit:10;\" d=\"M 300.636719 111.433594 C 300.636719 112.925781 298.394531 112.925781 298.394531 111.433594 C 298.394531 109.9375 300.636719 109.9375 300.636719 111.433594 \"/>\n",
       "<path style=\"fill:none;stroke-width:0.75;stroke-linecap:round;stroke-linejoin:round;stroke:rgb(0%,0%,0%);stroke-opacity:1;stroke-miterlimit:10;\" d=\"M 300.90625 137.765625 C 300.90625 139.261719 298.664063 139.261719 298.664063 137.765625 C 298.664063 136.273438 300.90625 136.273438 300.90625 137.765625 \"/>\n",
       "<path style=\"fill:none;stroke-width:0.75;stroke-linecap:round;stroke-linejoin:round;stroke:rgb(0%,0%,0%);stroke-opacity:1;stroke-miterlimit:10;\" d=\"M 301.171875 110.210938 C 301.171875 111.703125 298.933594 111.703125 298.933594 110.210938 C 298.933594 108.714844 301.171875 108.714844 301.171875 110.210938 \"/>\n",
       "<path style=\"fill:none;stroke-width:0.75;stroke-linecap:round;stroke-linejoin:round;stroke:rgb(0%,0%,0%);stroke-opacity:1;stroke-miterlimit:10;\" d=\"M 301.441406 108.523438 C 301.441406 110.015625 299.203125 110.015625 299.203125 108.523438 C 299.203125 107.027344 301.441406 107.027344 301.441406 108.523438 \"/>\n",
       "<path style=\"fill:none;stroke-width:0.75;stroke-linecap:round;stroke-linejoin:round;stroke:rgb(0%,0%,0%);stroke-opacity:1;stroke-miterlimit:10;\" d=\"M 301.710938 107.644531 C 301.710938 109.136719 299.46875 109.136719 299.46875 107.644531 C 299.46875 106.148438 301.710938 106.148438 301.710938 107.644531 \"/>\n",
       "<path style=\"fill:none;stroke-width:0.75;stroke-linecap:round;stroke-linejoin:round;stroke:rgb(0%,0%,0%);stroke-opacity:1;stroke-miterlimit:10;\" d=\"M 301.980469 105.03125 C 301.980469 106.527344 299.738281 106.527344 299.738281 105.03125 C 299.738281 103.539063 301.980469 103.539063 301.980469 105.03125 \"/>\n",
       "<path style=\"fill:none;stroke-width:0.75;stroke-linecap:round;stroke-linejoin:round;stroke:rgb(0%,0%,0%);stroke-opacity:1;stroke-miterlimit:10;\" d=\"M 302.246094 94.140625 C 302.246094 95.636719 300.007813 95.636719 300.007813 94.140625 C 300.007813 92.648438 302.246094 92.648438 302.246094 94.140625 \"/>\n",
       "<path style=\"fill:none;stroke-width:0.75;stroke-linecap:round;stroke-linejoin:round;stroke:rgb(0%,0%,0%);stroke-opacity:1;stroke-miterlimit:10;\" d=\"M 302.515625 99.53125 C 302.515625 101.023438 300.273438 101.023438 300.273438 99.53125 C 300.273438 98.035156 302.515625 98.035156 302.515625 99.53125 \"/>\n",
       "<path style=\"fill:none;stroke-width:0.75;stroke-linecap:round;stroke-linejoin:round;stroke:rgb(0%,0%,0%);stroke-opacity:1;stroke-miterlimit:10;\" d=\"M 302.785156 137.71875 C 302.785156 139.214844 300.542969 139.214844 300.542969 137.71875 C 300.542969 136.226563 302.785156 136.226563 302.785156 137.71875 \"/>\n",
       "<path style=\"fill:none;stroke-width:0.75;stroke-linecap:round;stroke-linejoin:round;stroke:rgb(0%,0%,0%);stroke-opacity:1;stroke-miterlimit:10;\" d=\"M 303.050781 95.25 C 303.050781 96.742188 300.8125 96.742188 300.8125 95.25 C 300.8125 93.753906 303.050781 93.753906 303.050781 95.25 \"/>\n",
       "<path style=\"fill:none;stroke-width:0.75;stroke-linecap:round;stroke-linejoin:round;stroke:rgb(0%,0%,0%);stroke-opacity:1;stroke-miterlimit:10;\" d=\"M 303.320313 100.683594 C 303.320313 102.175781 301.078125 102.175781 301.078125 100.683594 C 301.078125 99.1875 303.320313 99.1875 303.320313 100.683594 \"/>\n",
       "<path style=\"fill:none;stroke-width:0.75;stroke-linecap:round;stroke-linejoin:round;stroke:rgb(0%,0%,0%);stroke-opacity:1;stroke-miterlimit:10;\" d=\"M 303.589844 89.972656 C 303.589844 91.46875 301.347656 91.46875 301.347656 89.972656 C 301.347656 88.480469 303.589844 88.480469 303.589844 89.972656 \"/>\n",
       "<path style=\"fill:none;stroke-width:0.75;stroke-linecap:round;stroke-linejoin:round;stroke:rgb(0%,0%,0%);stroke-opacity:1;stroke-miterlimit:10;\" d=\"M 303.859375 98.578125 C 303.859375 100.070313 301.617188 100.070313 301.617188 98.578125 C 301.617188 97.082031 303.859375 97.082031 303.859375 98.578125 \"/>\n",
       "<path style=\"fill:none;stroke-width:0.75;stroke-linecap:round;stroke-linejoin:round;stroke:rgb(0%,0%,0%);stroke-opacity:1;stroke-miterlimit:10;\" d=\"M 304.125 75.648438 C 304.125 77.140625 301.886719 77.140625 301.886719 75.648438 C 301.886719 74.152344 304.125 74.152344 304.125 75.648438 \"/>\n",
       "<path style=\"fill:none;stroke-width:0.75;stroke-linecap:round;stroke-linejoin:round;stroke:rgb(0%,0%,0%);stroke-opacity:1;stroke-miterlimit:10;\" d=\"M 304.394531 84.84375 C 304.394531 86.339844 302.152344 86.339844 302.152344 84.84375 C 302.152344 83.351563 304.394531 83.351563 304.394531 84.84375 \"/>\n",
       "<path style=\"fill:none;stroke-width:0.75;stroke-linecap:round;stroke-linejoin:round;stroke:rgb(0%,0%,0%);stroke-opacity:1;stroke-miterlimit:10;\" d=\"M 304.664063 135.898438 C 304.664063 137.394531 302.421875 137.394531 302.421875 135.898438 C 302.421875 134.40625 304.664063 134.40625 304.664063 135.898438 \"/>\n",
       "<path style=\"fill:none;stroke-width:0.75;stroke-linecap:round;stroke-linejoin:round;stroke:rgb(0%,0%,0%);stroke-opacity:1;stroke-miterlimit:10;\" d=\"M 304.929688 85.394531 C 304.929688 86.890625 302.691406 86.890625 302.691406 85.394531 C 302.691406 83.902344 304.929688 83.902344 304.929688 85.394531 \"/>\n",
       "<path style=\"fill:none;stroke-width:0.75;stroke-linecap:round;stroke-linejoin:round;stroke:rgb(0%,0%,0%);stroke-opacity:1;stroke-miterlimit:10;\" d=\"M 305.199219 108.445313 C 305.199219 109.941406 302.957031 109.941406 302.957031 108.445313 C 302.957031 106.953125 305.199219 106.953125 305.199219 108.445313 \"/>\n",
       "<path style=\"fill:none;stroke-width:0.75;stroke-linecap:round;stroke-linejoin:round;stroke:rgb(0%,0%,0%);stroke-opacity:1;stroke-miterlimit:10;\" d=\"M 305.46875 90.304688 C 305.46875 91.796875 303.226563 91.796875 303.226563 90.304688 C 303.226563 88.808594 305.46875 88.808594 305.46875 90.304688 \"/>\n",
       "<path style=\"fill:none;stroke-width:0.75;stroke-linecap:round;stroke-linejoin:round;stroke:rgb(0%,0%,0%);stroke-opacity:1;stroke-miterlimit:10;\" d=\"M 305.738281 119.363281 C 305.738281 120.859375 303.496094 120.859375 303.496094 119.363281 C 303.496094 117.871094 305.738281 117.871094 305.738281 119.363281 \"/>\n",
       "<path style=\"fill:none;stroke-width:0.75;stroke-linecap:round;stroke-linejoin:round;stroke:rgb(0%,0%,0%);stroke-opacity:1;stroke-miterlimit:10;\" d=\"M 306.003906 106.816406 C 306.003906 108.3125 303.765625 108.3125 303.765625 106.816406 C 303.765625 105.324219 306.003906 105.324219 306.003906 106.816406 \"/>\n",
       "<path style=\"fill:none;stroke-width:0.75;stroke-linecap:round;stroke-linejoin:round;stroke:rgb(0%,0%,0%);stroke-opacity:1;stroke-miterlimit:10;\" d=\"M 306.273438 103.8125 C 306.273438 105.304688 304.03125 105.304688 304.03125 103.8125 C 304.03125 102.320313 306.273438 102.320313 306.273438 103.8125 \"/>\n",
       "<path style=\"fill:none;stroke-width:0.75;stroke-linecap:round;stroke-linejoin:round;stroke:rgb(0%,0%,0%);stroke-opacity:1;stroke-miterlimit:10;\" d=\"M 306.542969 130.492188 C 306.542969 131.984375 304.300781 131.984375 304.300781 130.492188 C 304.300781 128.996094 306.542969 128.996094 306.542969 130.492188 \"/>\n",
       "<path style=\"fill:none;stroke-width:0.75;stroke-linecap:round;stroke-linejoin:round;stroke:rgb(0%,0%,0%);stroke-opacity:1;stroke-miterlimit:10;\" d=\"M 306.808594 87.992188 C 306.808594 89.484375 304.570313 89.484375 304.570313 87.992188 C 304.570313 86.496094 306.808594 86.496094 306.808594 87.992188 \"/>\n",
       "<path style=\"fill:none;stroke-width:0.75;stroke-linecap:round;stroke-linejoin:round;stroke:rgb(0%,0%,0%);stroke-opacity:1;stroke-miterlimit:10;\" d=\"M 307.078125 128.121094 C 307.078125 129.617188 304.835938 129.617188 304.835938 128.121094 C 304.835938 126.628906 307.078125 126.628906 307.078125 128.121094 \"/>\n",
       "<path style=\"fill:none;stroke-width:0.75;stroke-linecap:round;stroke-linejoin:round;stroke:rgb(0%,0%,0%);stroke-opacity:1;stroke-miterlimit:10;\" d=\"M 307.347656 94.222656 C 307.347656 95.714844 305.105469 95.714844 305.105469 94.222656 C 305.105469 92.726563 307.347656 92.726563 307.347656 94.222656 \"/>\n",
       "<path style=\"fill:none;stroke-width:0.75;stroke-linecap:round;stroke-linejoin:round;stroke:rgb(0%,0%,0%);stroke-opacity:1;stroke-miterlimit:10;\" d=\"M 307.617188 132.992188 C 307.617188 134.484375 305.375 134.484375 305.375 132.992188 C 305.375 131.496094 307.617188 131.496094 307.617188 132.992188 \"/>\n",
       "<path style=\"fill:none;stroke-width:0.75;stroke-linecap:round;stroke-linejoin:round;stroke:rgb(0%,0%,0%);stroke-opacity:1;stroke-miterlimit:10;\" d=\"M 307.882813 93.917969 C 307.882813 95.410156 305.644531 95.410156 305.644531 93.917969 C 305.644531 92.421875 307.882813 92.421875 307.882813 93.917969 \"/>\n",
       "<path style=\"fill:none;stroke-width:0.75;stroke-linecap:round;stroke-linejoin:round;stroke:rgb(0%,0%,0%);stroke-opacity:1;stroke-miterlimit:10;\" d=\"M 308.152344 103.835938 C 308.152344 105.332031 305.910156 105.332031 305.910156 103.835938 C 305.910156 102.34375 308.152344 102.34375 308.152344 103.835938 \"/>\n",
       "<path style=\"fill:none;stroke-width:0.75;stroke-linecap:round;stroke-linejoin:round;stroke:rgb(0%,0%,0%);stroke-opacity:1;stroke-miterlimit:10;\" d=\"M 308.421875 137.695313 C 308.421875 139.191406 306.179688 139.191406 306.179688 137.695313 C 306.179688 136.203125 308.421875 136.203125 308.421875 137.695313 \"/>\n",
       "<path style=\"fill:none;stroke-width:0.75;stroke-linecap:round;stroke-linejoin:round;stroke:rgb(0%,0%,0%);stroke-opacity:1;stroke-miterlimit:10;\" d=\"M 308.6875 126.710938 C 308.6875 128.203125 306.449219 128.203125 306.449219 126.710938 C 306.449219 125.214844 308.6875 125.214844 308.6875 126.710938 \"/>\n",
       "<path style=\"fill:none;stroke-width:0.75;stroke-linecap:round;stroke-linejoin:round;stroke:rgb(0%,0%,0%);stroke-opacity:1;stroke-miterlimit:10;\" d=\"M 308.957031 101.902344 C 308.957031 103.398438 306.714844 103.398438 306.714844 101.902344 C 306.714844 100.410156 308.957031 100.410156 308.957031 101.902344 \"/>\n",
       "<path style=\"fill:none;stroke-width:0.75;stroke-linecap:round;stroke-linejoin:round;stroke:rgb(0%,0%,0%);stroke-opacity:1;stroke-miterlimit:10;\" d=\"M 309.226563 99.160156 C 309.226563 100.65625 306.984375 100.65625 306.984375 99.160156 C 306.984375 97.667969 309.226563 97.667969 309.226563 99.160156 \"/>\n",
       "<path style=\"fill:none;stroke-width:0.75;stroke-linecap:round;stroke-linejoin:round;stroke:rgb(0%,0%,0%);stroke-opacity:1;stroke-miterlimit:10;\" d=\"M 309.496094 90.59375 C 309.496094 92.089844 307.253906 92.089844 307.253906 90.59375 C 307.253906 89.101563 309.496094 89.101563 309.496094 90.59375 \"/>\n",
       "<path style=\"fill:none;stroke-width:0.75;stroke-linecap:round;stroke-linejoin:round;stroke:rgb(0%,0%,0%);stroke-opacity:1;stroke-miterlimit:10;\" d=\"M 309.761719 107.546875 C 309.761719 109.039063 307.523438 109.039063 307.523438 107.546875 C 307.523438 106.050781 309.761719 106.050781 309.761719 107.546875 \"/>\n",
       "<path style=\"fill:none;stroke-width:0.75;stroke-linecap:round;stroke-linejoin:round;stroke:rgb(0%,0%,0%);stroke-opacity:1;stroke-miterlimit:10;\" d=\"M 310.03125 130.375 C 310.03125 131.867188 307.789063 131.867188 307.789063 130.375 C 307.789063 128.878906 310.03125 128.878906 310.03125 130.375 \"/>\n",
       "<path style=\"fill:none;stroke-width:0.75;stroke-linecap:round;stroke-linejoin:round;stroke:rgb(0%,0%,0%);stroke-opacity:1;stroke-miterlimit:10;\" d=\"M 310.300781 130.105469 C 310.300781 131.601563 308.058594 131.601563 308.058594 130.105469 C 308.058594 128.613281 310.300781 128.613281 310.300781 130.105469 \"/>\n",
       "<path style=\"fill:none;stroke-width:0.75;stroke-linecap:round;stroke-linejoin:round;stroke:rgb(0%,0%,0%);stroke-opacity:1;stroke-miterlimit:10;\" d=\"M 310.566406 97.699219 C 310.566406 99.191406 308.328125 99.191406 308.328125 97.699219 C 308.328125 96.203125 310.566406 96.203125 310.566406 97.699219 \"/>\n",
       "<path style=\"fill:none;stroke-width:0.75;stroke-linecap:round;stroke-linejoin:round;stroke:rgb(0%,0%,0%);stroke-opacity:1;stroke-miterlimit:10;\" d=\"M 310.835938 80.679688 C 310.835938 82.175781 308.59375 82.175781 308.59375 80.679688 C 308.59375 79.1875 310.835938 79.1875 310.835938 80.679688 \"/>\n",
       "<path style=\"fill:none;stroke-width:0.75;stroke-linecap:round;stroke-linejoin:round;stroke:rgb(0%,0%,0%);stroke-opacity:1;stroke-miterlimit:10;\" d=\"M 311.105469 97.652344 C 311.105469 99.144531 308.863281 99.144531 308.863281 97.652344 C 308.863281 96.15625 311.105469 96.15625 311.105469 97.652344 \"/>\n",
       "<path style=\"fill:none;stroke-width:0.75;stroke-linecap:round;stroke-linejoin:round;stroke:rgb(0%,0%,0%);stroke-opacity:1;stroke-miterlimit:10;\" d=\"M 311.375 86.9375 C 311.375 88.433594 309.132813 88.433594 309.132813 86.9375 C 309.132813 85.445313 311.375 85.445313 311.375 86.9375 \"/>\n",
       "<path style=\"fill:none;stroke-width:0.75;stroke-linecap:round;stroke-linejoin:round;stroke:rgb(0%,0%,0%);stroke-opacity:1;stroke-miterlimit:10;\" d=\"M 311.640625 114.902344 C 311.640625 116.394531 309.402344 116.394531 309.402344 114.902344 C 309.402344 113.40625 311.640625 113.40625 311.640625 114.902344 \"/>\n",
       "<path style=\"fill:none;stroke-width:0.75;stroke-linecap:round;stroke-linejoin:round;stroke:rgb(0%,0%,0%);stroke-opacity:1;stroke-miterlimit:10;\" d=\"M 311.910156 105.992188 C 311.910156 107.484375 309.667969 107.484375 309.667969 105.992188 C 309.667969 104.496094 311.910156 104.496094 311.910156 105.992188 \"/>\n",
       "<path style=\"fill:none;stroke-width:0.75;stroke-linecap:round;stroke-linejoin:round;stroke:rgb(0%,0%,0%);stroke-opacity:1;stroke-miterlimit:10;\" d=\"M 312.179688 140.730469 C 312.179688 142.222656 309.9375 142.222656 309.9375 140.730469 C 309.9375 139.234375 312.179688 139.234375 312.179688 140.730469 \"/>\n",
       "<path style=\"fill:none;stroke-width:0.75;stroke-linecap:round;stroke-linejoin:round;stroke:rgb(0%,0%,0%);stroke-opacity:1;stroke-miterlimit:10;\" d=\"M 312.445313 81.210938 C 312.445313 82.703125 310.207031 82.703125 310.207031 81.210938 C 310.207031 79.714844 312.445313 79.714844 312.445313 81.210938 \"/>\n",
       "<path style=\"fill:none;stroke-width:0.75;stroke-linecap:round;stroke-linejoin:round;stroke:rgb(0%,0%,0%);stroke-opacity:1;stroke-miterlimit:10;\" d=\"M 312.714844 134.152344 C 312.714844 135.644531 310.472656 135.644531 310.472656 134.152344 C 310.472656 132.65625 312.714844 132.65625 312.714844 134.152344 \"/>\n",
       "<path style=\"fill:none;stroke-width:0.75;stroke-linecap:round;stroke-linejoin:round;stroke:rgb(0%,0%,0%);stroke-opacity:1;stroke-miterlimit:10;\" d=\"M 312.984375 101.0625 C 312.984375 102.554688 310.742188 102.554688 310.742188 101.0625 C 310.742188 99.566406 312.984375 99.566406 312.984375 101.0625 \"/>\n",
       "<path style=\"fill:none;stroke-width:0.75;stroke-linecap:round;stroke-linejoin:round;stroke:rgb(0%,0%,0%);stroke-opacity:1;stroke-miterlimit:10;\" d=\"M 313.253906 104.027344 C 313.253906 105.519531 311.011719 105.519531 311.011719 104.027344 C 311.011719 102.53125 313.253906 102.53125 313.253906 104.027344 \"/>\n",
       "<path style=\"fill:none;stroke-width:0.75;stroke-linecap:round;stroke-linejoin:round;stroke:rgb(0%,0%,0%);stroke-opacity:1;stroke-miterlimit:10;\" d=\"M 313.519531 103.816406 C 313.519531 105.308594 311.28125 105.308594 311.28125 103.816406 C 311.28125 102.320313 313.519531 102.320313 313.519531 103.816406 \"/>\n",
       "<path style=\"fill:none;stroke-width:0.75;stroke-linecap:round;stroke-linejoin:round;stroke:rgb(0%,0%,0%);stroke-opacity:1;stroke-miterlimit:10;\" d=\"M 313.789063 114.699219 C 313.789063 116.195313 311.546875 116.195313 311.546875 114.699219 C 311.546875 113.207031 313.789063 113.207031 313.789063 114.699219 \"/>\n",
       "<path style=\"fill:none;stroke-width:0.75;stroke-linecap:round;stroke-linejoin:round;stroke:rgb(0%,0%,0%);stroke-opacity:1;stroke-miterlimit:10;\" d=\"M 314.058594 148.324219 C 314.058594 149.820313 311.816406 149.820313 311.816406 148.324219 C 311.816406 146.832031 314.058594 146.832031 314.058594 148.324219 \"/>\n",
       "<path style=\"fill:none;stroke-width:0.75;stroke-linecap:round;stroke-linejoin:round;stroke:rgb(0%,0%,0%);stroke-opacity:1;stroke-miterlimit:10;\" d=\"M 314.324219 104.875 C 314.324219 106.367188 312.085938 106.367188 312.085938 104.875 C 312.085938 103.378906 314.324219 103.378906 314.324219 104.875 \"/>\n",
       "<path style=\"fill:none;stroke-width:0.75;stroke-linecap:round;stroke-linejoin:round;stroke:rgb(0%,0%,0%);stroke-opacity:1;stroke-miterlimit:10;\" d=\"M 314.59375 96.453125 C 314.59375 97.945313 312.351563 97.945313 312.351563 96.453125 C 312.351563 94.957031 314.59375 94.957031 314.59375 96.453125 \"/>\n",
       "<path style=\"fill:none;stroke-width:0.75;stroke-linecap:round;stroke-linejoin:round;stroke:rgb(0%,0%,0%);stroke-opacity:1;stroke-miterlimit:10;\" d=\"M 314.863281 95.339844 C 314.863281 96.835938 312.621094 96.835938 312.621094 95.339844 C 312.621094 93.847656 314.863281 93.847656 314.863281 95.339844 \"/>\n",
       "<path style=\"fill:none;stroke-width:0.75;stroke-linecap:round;stroke-linejoin:round;stroke:rgb(0%,0%,0%);stroke-opacity:1;stroke-miterlimit:10;\" d=\"M 315.132813 103.523438 C 315.132813 105.019531 312.890625 105.019531 312.890625 103.523438 C 312.890625 102.03125 315.132813 102.03125 315.132813 103.523438 \"/>\n",
       "<path style=\"fill:none;stroke-width:0.75;stroke-linecap:round;stroke-linejoin:round;stroke:rgb(0%,0%,0%);stroke-opacity:1;stroke-miterlimit:10;\" d=\"M 315.398438 98.40625 C 315.398438 99.898438 313.160156 99.898438 313.160156 98.40625 C 313.160156 96.914063 315.398438 96.914063 315.398438 98.40625 \"/>\n",
       "<path style=\"fill:none;stroke-width:0.75;stroke-linecap:round;stroke-linejoin:round;stroke:rgb(0%,0%,0%);stroke-opacity:1;stroke-miterlimit:10;\" d=\"M 315.667969 105.667969 C 315.667969 107.164063 313.425781 107.164063 313.425781 105.667969 C 313.425781 104.175781 315.667969 104.175781 315.667969 105.667969 \"/>\n",
       "<path style=\"fill:none;stroke-width:0.75;stroke-linecap:round;stroke-linejoin:round;stroke:rgb(0%,0%,0%);stroke-opacity:1;stroke-miterlimit:10;\" d=\"M 315.9375 146.988281 C 315.9375 148.484375 313.695313 148.484375 313.695313 146.988281 C 313.695313 145.496094 315.9375 145.496094 315.9375 146.988281 \"/>\n",
       "<path style=\"fill:none;stroke-width:0.75;stroke-linecap:round;stroke-linejoin:round;stroke:rgb(0%,0%,0%);stroke-opacity:1;stroke-miterlimit:10;\" d=\"M 316.203125 92.171875 C 316.203125 93.667969 313.964844 93.667969 313.964844 92.171875 C 313.964844 90.679688 316.203125 90.679688 316.203125 92.171875 \"/>\n",
       "<path style=\"fill:none;stroke-width:0.75;stroke-linecap:round;stroke-linejoin:round;stroke:rgb(0%,0%,0%);stroke-opacity:1;stroke-miterlimit:10;\" d=\"M 316.472656 106.429688 C 316.472656 107.921875 314.230469 107.921875 314.230469 106.429688 C 314.230469 104.933594 316.472656 104.933594 316.472656 106.429688 \"/>\n",
       "<path style=\"fill:none;stroke-width:0.75;stroke-linecap:round;stroke-linejoin:round;stroke:rgb(0%,0%,0%);stroke-opacity:1;stroke-miterlimit:10;\" d=\"M 316.742188 91.851563 C 316.742188 93.347656 314.5 93.347656 314.5 91.851563 C 314.5 90.359375 316.742188 90.359375 316.742188 91.851563 \"/>\n",
       "<path style=\"fill:none;stroke-width:0.75;stroke-linecap:round;stroke-linejoin:round;stroke:rgb(0%,0%,0%);stroke-opacity:1;stroke-miterlimit:10;\" d=\"M 317.011719 94.167969 C 317.011719 95.664063 314.769531 95.664063 314.769531 94.167969 C 314.769531 92.675781 317.011719 92.675781 317.011719 94.167969 \"/>\n",
       "<path style=\"fill:none;stroke-width:0.75;stroke-linecap:round;stroke-linejoin:round;stroke:rgb(0%,0%,0%);stroke-opacity:1;stroke-miterlimit:10;\" d=\"M 317.277344 108.5625 C 317.277344 110.054688 315.039063 110.054688 315.039063 108.5625 C 315.039063 107.066406 317.277344 107.066406 317.277344 108.5625 \"/>\n",
       "<path style=\"fill:none;stroke-width:0.75;stroke-linecap:round;stroke-linejoin:round;stroke:rgb(0%,0%,0%);stroke-opacity:1;stroke-miterlimit:10;\" d=\"M 317.546875 118.351563 C 317.546875 119.84375 315.304688 119.84375 315.304688 118.351563 C 315.304688 116.855469 317.546875 116.855469 317.546875 118.351563 \"/>\n",
       "<path style=\"fill:none;stroke-width:0.75;stroke-linecap:round;stroke-linejoin:round;stroke:rgb(0%,0%,0%);stroke-opacity:1;stroke-miterlimit:10;\" d=\"M 317.816406 143.207031 C 317.816406 144.699219 315.574219 144.699219 315.574219 143.207031 C 315.574219 141.710938 317.816406 141.710938 317.816406 143.207031 \"/>\n",
       "<path style=\"fill:none;stroke-width:0.75;stroke-linecap:round;stroke-linejoin:round;stroke:rgb(0%,0%,0%);stroke-opacity:1;stroke-miterlimit:10;\" d=\"M 318.082031 107.886719 C 318.082031 109.382813 315.84375 109.382813 315.84375 107.886719 C 315.84375 106.394531 318.082031 106.394531 318.082031 107.886719 \"/>\n",
       "<path style=\"fill:none;stroke-width:0.75;stroke-linecap:round;stroke-linejoin:round;stroke:rgb(0%,0%,0%);stroke-opacity:1;stroke-miterlimit:10;\" d=\"M 318.351563 105.570313 C 318.351563 107.066406 316.109375 107.066406 316.109375 105.570313 C 316.109375 104.078125 318.351563 104.078125 318.351563 105.570313 \"/>\n",
       "<path style=\"fill:none;stroke-width:0.75;stroke-linecap:round;stroke-linejoin:round;stroke:rgb(0%,0%,0%);stroke-opacity:1;stroke-miterlimit:10;\" d=\"M 318.621094 93.878906 C 318.621094 95.375 316.378906 95.375 316.378906 93.878906 C 316.378906 92.386719 318.621094 92.386719 318.621094 93.878906 \"/>\n",
       "<path style=\"fill:none;stroke-width:0.75;stroke-linecap:round;stroke-linejoin:round;stroke:rgb(0%,0%,0%);stroke-opacity:1;stroke-miterlimit:10;\" d=\"M 318.890625 98.535156 C 318.890625 100.027344 316.648438 100.027344 316.648438 98.535156 C 316.648438 97.039063 318.890625 97.039063 318.890625 98.535156 \"/>\n",
       "<path style=\"fill:none;stroke-width:0.75;stroke-linecap:round;stroke-linejoin:round;stroke:rgb(0%,0%,0%);stroke-opacity:1;stroke-miterlimit:10;\" d=\"M 319.15625 89.148438 C 319.15625 90.640625 316.917969 90.640625 316.917969 89.148438 C 316.917969 87.652344 319.15625 87.652344 319.15625 89.148438 \"/>\n",
       "<path style=\"fill:none;stroke-width:0.75;stroke-linecap:round;stroke-linejoin:round;stroke:rgb(0%,0%,0%);stroke-opacity:1;stroke-miterlimit:10;\" d=\"M 319.425781 106.085938 C 319.425781 107.582031 317.183594 107.582031 317.183594 106.085938 C 317.183594 104.59375 319.425781 104.59375 319.425781 106.085938 \"/>\n",
       "<path style=\"fill:none;stroke-width:0.75;stroke-linecap:round;stroke-linejoin:round;stroke:rgb(0%,0%,0%);stroke-opacity:1;stroke-miterlimit:10;\" d=\"M 319.695313 137.019531 C 319.695313 138.515625 317.453125 138.515625 317.453125 137.019531 C 317.453125 135.527344 319.695313 135.527344 319.695313 137.019531 \"/>\n",
       "<path style=\"fill:none;stroke-width:0.75;stroke-linecap:round;stroke-linejoin:round;stroke:rgb(0%,0%,0%);stroke-opacity:1;stroke-miterlimit:10;\" d=\"M 319.960938 80.546875 C 319.960938 82.042969 317.722656 82.042969 317.722656 80.546875 C 317.722656 79.054688 319.960938 79.054688 319.960938 80.546875 \"/>\n",
       "<path style=\"fill:none;stroke-width:0.75;stroke-linecap:round;stroke-linejoin:round;stroke:rgb(0%,0%,0%);stroke-opacity:1;stroke-miterlimit:10;\" d=\"M 320.230469 84.40625 C 320.230469 85.902344 317.988281 85.902344 317.988281 84.40625 C 317.988281 82.914063 320.230469 82.914063 320.230469 84.40625 \"/>\n",
       "<path style=\"fill:none;stroke-width:0.75;stroke-linecap:round;stroke-linejoin:round;stroke:rgb(0%,0%,0%);stroke-opacity:1;stroke-miterlimit:10;\" d=\"M 320.5 97.34375 C 320.5 98.835938 318.257813 98.835938 318.257813 97.34375 C 318.257813 95.847656 320.5 95.847656 320.5 97.34375 \"/>\n",
       "<path style=\"fill:none;stroke-width:0.75;stroke-linecap:round;stroke-linejoin:round;stroke:rgb(0%,0%,0%);stroke-opacity:1;stroke-miterlimit:10;\" d=\"M 320.769531 90.796875 C 320.769531 92.289063 318.527344 92.289063 318.527344 90.796875 C 318.527344 89.300781 320.769531 89.300781 320.769531 90.796875 \"/>\n",
       "<path style=\"fill:none;stroke-width:0.75;stroke-linecap:round;stroke-linejoin:round;stroke:rgb(0%,0%,0%);stroke-opacity:1;stroke-miterlimit:10;\" d=\"M 321.035156 102.613281 C 321.035156 104.105469 318.796875 104.105469 318.796875 102.613281 C 318.796875 101.117188 321.035156 101.117188 321.035156 102.613281 \"/>\n",
       "<path style=\"fill:none;stroke-width:0.75;stroke-linecap:round;stroke-linejoin:round;stroke:rgb(0%,0%,0%);stroke-opacity:1;stroke-miterlimit:10;\" d=\"M 321.304688 108.550781 C 321.304688 110.042969 319.0625 110.042969 319.0625 108.550781 C 319.0625 107.054688 321.304688 107.054688 321.304688 108.550781 \"/>\n",
       "<path style=\"fill:none;stroke-width:0.75;stroke-linecap:round;stroke-linejoin:round;stroke:rgb(0%,0%,0%);stroke-opacity:1;stroke-miterlimit:10;\" d=\"M 321.574219 151.058594 C 321.574219 152.554688 319.332031 152.554688 319.332031 151.058594 C 319.332031 149.566406 321.574219 149.566406 321.574219 151.058594 \"/>\n",
       "<path style=\"fill:none;stroke-width:0.75;stroke-linecap:round;stroke-linejoin:round;stroke:rgb(0%,0%,0%);stroke-opacity:1;stroke-miterlimit:10;\" d=\"M 321.839844 113.027344 C 321.839844 114.523438 319.601563 114.523438 319.601563 113.027344 C 319.601563 111.535156 321.839844 111.535156 321.839844 113.027344 \"/>\n",
       "<path style=\"fill:none;stroke-width:0.75;stroke-linecap:round;stroke-linejoin:round;stroke:rgb(0%,0%,0%);stroke-opacity:1;stroke-miterlimit:10;\" d=\"M 322.109375 102.910156 C 322.109375 104.402344 319.867188 104.402344 319.867188 102.910156 C 319.867188 101.414063 322.109375 101.414063 322.109375 102.910156 \"/>\n",
       "<path style=\"fill:none;stroke-width:0.75;stroke-linecap:round;stroke-linejoin:round;stroke:rgb(0%,0%,0%);stroke-opacity:1;stroke-miterlimit:10;\" d=\"M 322.378906 112.339844 C 322.378906 113.832031 320.136719 113.832031 320.136719 112.339844 C 320.136719 110.84375 322.378906 110.84375 322.378906 112.339844 \"/>\n",
       "<path style=\"fill:none;stroke-width:0.75;stroke-linecap:round;stroke-linejoin:round;stroke:rgb(0%,0%,0%);stroke-opacity:1;stroke-miterlimit:10;\" d=\"M 322.648438 110.695313 C 322.648438 112.191406 320.40625 112.191406 320.40625 110.695313 C 320.40625 109.203125 322.648438 109.203125 322.648438 110.695313 \"/>\n",
       "<path style=\"fill:none;stroke-width:0.75;stroke-linecap:round;stroke-linejoin:round;stroke:rgb(0%,0%,0%);stroke-opacity:1;stroke-miterlimit:10;\" d=\"M 322.914063 96.726563 C 322.914063 98.21875 320.675781 98.21875 320.675781 96.726563 C 320.675781 95.230469 322.914063 95.230469 322.914063 96.726563 \"/>\n",
       "<path style=\"fill:none;stroke-width:0.75;stroke-linecap:round;stroke-linejoin:round;stroke:rgb(0%,0%,0%);stroke-opacity:1;stroke-miterlimit:10;\" d=\"M 323.183594 104.574219 C 323.183594 106.066406 320.941406 106.066406 320.941406 104.574219 C 320.941406 103.078125 323.183594 103.078125 323.183594 104.574219 \"/>\n",
       "<path style=\"fill:none;stroke-width:0.75;stroke-linecap:round;stroke-linejoin:round;stroke:rgb(0%,0%,0%);stroke-opacity:1;stroke-miterlimit:10;\" d=\"M 323.453125 141.28125 C 323.453125 142.777344 321.210938 142.777344 321.210938 141.28125 C 321.210938 139.789063 323.453125 139.789063 323.453125 141.28125 \"/>\n",
       "<path style=\"fill:none;stroke-width:0.75;stroke-linecap:round;stroke-linejoin:round;stroke:rgb(0%,0%,0%);stroke-opacity:1;stroke-miterlimit:10;\" d=\"M 323.71875 90.921875 C 323.71875 92.414063 321.480469 92.414063 321.480469 90.921875 C 321.480469 89.425781 323.71875 89.425781 323.71875 90.921875 \"/>\n",
       "<path style=\"fill:none;stroke-width:0.75;stroke-linecap:round;stroke-linejoin:round;stroke:rgb(0%,0%,0%);stroke-opacity:1;stroke-miterlimit:10;\" d=\"M 323.988281 107.570313 C 323.988281 109.066406 321.746094 109.066406 321.746094 107.570313 C 321.746094 106.078125 323.988281 106.078125 323.988281 107.570313 \"/>\n",
       "<path style=\"fill:none;stroke-width:0.75;stroke-linecap:round;stroke-linejoin:round;stroke:rgb(0%,0%,0%);stroke-opacity:1;stroke-miterlimit:10;\" d=\"M 324.257813 110.574219 C 324.257813 112.070313 322.015625 112.070313 322.015625 110.574219 C 322.015625 109.082031 324.257813 109.082031 324.257813 110.574219 \"/>\n",
       "<path style=\"fill:none;stroke-width:0.75;stroke-linecap:round;stroke-linejoin:round;stroke:rgb(0%,0%,0%);stroke-opacity:1;stroke-miterlimit:10;\" d=\"M 324.527344 108.472656 C 324.527344 109.964844 322.285156 109.964844 322.285156 108.472656 C 322.285156 106.976563 324.527344 106.976563 324.527344 108.472656 \"/>\n",
       "<path style=\"fill:none;stroke-width:0.75;stroke-linecap:round;stroke-linejoin:round;stroke:rgb(0%,0%,0%);stroke-opacity:1;stroke-miterlimit:10;\" d=\"M 324.792969 102.824219 C 324.792969 104.316406 322.554688 104.316406 322.554688 102.824219 C 322.554688 101.328125 324.792969 101.328125 324.792969 102.824219 \"/>\n",
       "<path style=\"fill:none;stroke-width:0.75;stroke-linecap:round;stroke-linejoin:round;stroke:rgb(0%,0%,0%);stroke-opacity:1;stroke-miterlimit:10;\" d=\"M 325.0625 110.496094 C 325.0625 111.988281 322.820313 111.988281 322.820313 110.496094 C 322.820313 109 325.0625 109 325.0625 110.496094 \"/>\n",
       "<path style=\"fill:none;stroke-width:0.75;stroke-linecap:round;stroke-linejoin:round;stroke:rgb(0%,0%,0%);stroke-opacity:1;stroke-miterlimit:10;\" d=\"M 325.332031 141.457031 C 325.332031 142.949219 323.089844 142.949219 323.089844 141.457031 C 323.089844 139.964844 325.332031 139.964844 325.332031 141.457031 \"/>\n",
       "<path style=\"fill:none;stroke-width:0.75;stroke-linecap:round;stroke-linejoin:round;stroke:rgb(0%,0%,0%);stroke-opacity:1;stroke-miterlimit:10;\" d=\"M 325.597656 91.65625 C 325.597656 93.152344 323.359375 93.152344 323.359375 91.65625 C 323.359375 90.164063 325.597656 90.164063 325.597656 91.65625 \"/>\n",
       "<path style=\"fill:none;stroke-width:0.75;stroke-linecap:round;stroke-linejoin:round;stroke:rgb(0%,0%,0%);stroke-opacity:1;stroke-miterlimit:10;\" d=\"M 325.867188 107.421875 C 325.867188 108.914063 323.625 108.914063 323.625 107.421875 C 323.625 105.929688 325.867188 105.929688 325.867188 107.421875 \"/>\n",
       "<path style=\"fill:none;stroke-width:0.75;stroke-linecap:round;stroke-linejoin:round;stroke:rgb(0%,0%,0%);stroke-opacity:1;stroke-miterlimit:10;\" d=\"M 326.136719 106.875 C 326.136719 108.367188 323.894531 108.367188 323.894531 106.875 C 323.894531 105.378906 326.136719 105.378906 326.136719 106.875 \"/>\n",
       "<path style=\"fill:none;stroke-width:0.75;stroke-linecap:round;stroke-linejoin:round;stroke:rgb(0%,0%,0%);stroke-opacity:1;stroke-miterlimit:10;\" d=\"M 326.40625 123.089844 C 326.40625 124.585938 324.164063 124.585938 324.164063 123.089844 C 324.164063 121.597656 326.40625 121.597656 326.40625 123.089844 \"/>\n",
       "<path style=\"fill:none;stroke-width:0.75;stroke-linecap:round;stroke-linejoin:round;stroke:rgb(0%,0%,0%);stroke-opacity:1;stroke-miterlimit:10;\" d=\"M 326.671875 108.917969 C 326.671875 110.410156 324.433594 110.410156 324.433594 108.917969 C 324.433594 107.421875 326.671875 107.421875 326.671875 108.917969 \"/>\n",
       "<path style=\"fill:none;stroke-width:0.75;stroke-linecap:round;stroke-linejoin:round;stroke:rgb(0%,0%,0%);stroke-opacity:1;stroke-miterlimit:10;\" d=\"M 326.941406 111.082031 C 326.941406 112.578125 324.699219 112.578125 324.699219 111.082031 C 324.699219 109.589844 326.941406 109.589844 326.941406 111.082031 \"/>\n",
       "<path style=\"fill:none;stroke-width:0.75;stroke-linecap:round;stroke-linejoin:round;stroke:rgb(0%,0%,0%);stroke-opacity:1;stroke-miterlimit:10;\" d=\"M 327.210938 148.976563 C 327.210938 150.46875 324.96875 150.46875 324.96875 148.976563 C 324.96875 147.480469 327.210938 147.480469 327.210938 148.976563 \"/>\n",
       "<path style=\"fill:none;stroke-width:0.75;stroke-linecap:round;stroke-linejoin:round;stroke:rgb(0%,0%,0%);stroke-opacity:1;stroke-miterlimit:10;\" d=\"M 327.476563 91.027344 C 327.476563 92.519531 325.238281 92.519531 325.238281 91.027344 C 325.238281 89.53125 327.476563 89.53125 327.476563 91.027344 \"/>\n",
       "<path style=\"fill:none;stroke-width:0.75;stroke-linecap:round;stroke-linejoin:round;stroke:rgb(0%,0%,0%);stroke-opacity:1;stroke-miterlimit:10;\" d=\"M 327.746094 92.488281 C 327.746094 93.984375 325.503906 93.984375 325.503906 92.488281 C 325.503906 90.996094 327.746094 90.996094 327.746094 92.488281 \"/>\n",
       "<path style=\"fill:none;stroke-width:0.75;stroke-linecap:round;stroke-linejoin:round;stroke:rgb(0%,0%,0%);stroke-opacity:1;stroke-miterlimit:10;\" d=\"M 328.015625 99.324219 C 328.015625 100.816406 325.773438 100.816406 325.773438 99.324219 C 325.773438 97.828125 328.015625 97.828125 328.015625 99.324219 \"/>\n",
       "<path style=\"fill:none;stroke-width:0.75;stroke-linecap:round;stroke-linejoin:round;stroke:rgb(0%,0%,0%);stroke-opacity:1;stroke-miterlimit:10;\" d=\"M 328.285156 109.96875 C 328.285156 111.460938 326.042969 111.460938 326.042969 109.96875 C 326.042969 108.472656 328.285156 108.472656 328.285156 109.96875 \"/>\n",
       "<path style=\"fill:none;stroke-width:0.75;stroke-linecap:round;stroke-linejoin:round;stroke:rgb(0%,0%,0%);stroke-opacity:1;stroke-miterlimit:10;\" d=\"M 328.550781 85.742188 C 328.550781 87.238281 326.3125 87.238281 326.3125 85.742188 C 326.3125 84.25 328.550781 84.25 328.550781 85.742188 \"/>\n",
       "<path style=\"fill:none;stroke-width:0.75;stroke-linecap:round;stroke-linejoin:round;stroke:rgb(0%,0%,0%);stroke-opacity:1;stroke-miterlimit:10;\" d=\"M 328.820313 116.777344 C 328.820313 118.269531 326.578125 118.269531 326.578125 116.777344 C 326.578125 115.28125 328.820313 115.28125 328.820313 116.777344 \"/>\n",
       "<path style=\"fill:none;stroke-width:0.75;stroke-linecap:round;stroke-linejoin:round;stroke:rgb(0%,0%,0%);stroke-opacity:1;stroke-miterlimit:10;\" d=\"M 329.089844 137.394531 C 329.089844 138.890625 326.847656 138.890625 326.847656 137.394531 C 326.847656 135.902344 329.089844 135.902344 329.089844 137.394531 \"/>\n",
       "<path style=\"fill:none;stroke-width:0.75;stroke-linecap:round;stroke-linejoin:round;stroke:rgb(0%,0%,0%);stroke-opacity:1;stroke-miterlimit:10;\" d=\"M 329.355469 92.085938 C 329.355469 93.578125 327.117188 93.578125 327.117188 92.085938 C 327.117188 90.589844 329.355469 90.589844 329.355469 92.085938 \"/>\n",
       "<path style=\"fill:none;stroke-width:0.75;stroke-linecap:round;stroke-linejoin:round;stroke:rgb(0%,0%,0%);stroke-opacity:1;stroke-miterlimit:10;\" d=\"M 329.625 111.527344 C 329.625 113.023438 327.382813 113.023438 327.382813 111.527344 C 327.382813 110.035156 329.625 110.035156 329.625 111.527344 \"/>\n",
       "<path style=\"fill:none;stroke-width:0.75;stroke-linecap:round;stroke-linejoin:round;stroke:rgb(0%,0%,0%);stroke-opacity:1;stroke-miterlimit:10;\" d=\"M 329.894531 106.128906 C 329.894531 107.625 327.652344 107.625 327.652344 106.128906 C 327.652344 104.636719 329.894531 104.636719 329.894531 106.128906 \"/>\n",
       "<path style=\"fill:none;stroke-width:0.75;stroke-linecap:round;stroke-linejoin:round;stroke:rgb(0%,0%,0%);stroke-opacity:1;stroke-miterlimit:10;\" d=\"M 330.164063 109.035156 C 330.164063 110.53125 327.921875 110.53125 327.921875 109.035156 C 327.921875 107.542969 330.164063 107.542969 330.164063 109.035156 \"/>\n",
       "<path style=\"fill:none;stroke-width:0.75;stroke-linecap:round;stroke-linejoin:round;stroke:rgb(0%,0%,0%);stroke-opacity:1;stroke-miterlimit:10;\" d=\"M 330.429688 100.984375 C 330.429688 102.476563 328.191406 102.476563 328.191406 100.984375 C 328.191406 99.488281 330.429688 99.488281 330.429688 100.984375 \"/>\n",
       "<path style=\"fill:none;stroke-width:0.75;stroke-linecap:round;stroke-linejoin:round;stroke:rgb(0%,0%,0%);stroke-opacity:1;stroke-miterlimit:10;\" d=\"M 330.699219 106.914063 C 330.699219 108.40625 328.457031 108.40625 328.457031 106.914063 C 328.457031 105.417969 330.699219 105.417969 330.699219 106.914063 \"/>\n",
       "<path style=\"fill:none;stroke-width:0.75;stroke-linecap:round;stroke-linejoin:round;stroke:rgb(0%,0%,0%);stroke-opacity:1;stroke-miterlimit:10;\" d=\"M 330.96875 152.9375 C 330.96875 154.433594 328.726563 154.433594 328.726563 152.9375 C 328.726563 151.445313 330.96875 151.445313 330.96875 152.9375 \"/>\n",
       "<path style=\"fill:none;stroke-width:0.75;stroke-linecap:round;stroke-linejoin:round;stroke:rgb(0%,0%,0%);stroke-opacity:1;stroke-miterlimit:10;\" d=\"M 331.234375 101.578125 C 331.234375 103.074219 328.996094 103.074219 328.996094 101.578125 C 328.996094 100.085938 331.234375 100.085938 331.234375 101.578125 \"/>\n",
       "<path style=\"fill:none;stroke-width:0.75;stroke-linecap:round;stroke-linejoin:round;stroke:rgb(0%,0%,0%);stroke-opacity:1;stroke-miterlimit:10;\" d=\"M 331.503906 102.429688 C 331.503906 103.925781 329.261719 103.925781 329.261719 102.429688 C 329.261719 100.9375 331.503906 100.9375 331.503906 102.429688 \"/>\n",
       "<path style=\"fill:none;stroke-width:0.75;stroke-linecap:round;stroke-linejoin:round;stroke:rgb(0%,0%,0%);stroke-opacity:1;stroke-miterlimit:10;\" d=\"M 331.773438 108.507813 C 331.773438 110 329.53125 110 329.53125 108.507813 C 329.53125 107.011719 331.773438 107.011719 331.773438 108.507813 \"/>\n",
       "<path style=\"fill:none;stroke-width:0.75;stroke-linecap:round;stroke-linejoin:round;stroke:rgb(0%,0%,0%);stroke-opacity:1;stroke-miterlimit:10;\" d=\"M 332.039063 113.46875 C 332.039063 114.960938 329.800781 114.960938 329.800781 113.46875 C 329.800781 111.976563 332.039063 111.976563 332.039063 113.46875 \"/>\n",
       "<path style=\"fill:none;stroke-width:0.75;stroke-linecap:round;stroke-linejoin:round;stroke:rgb(0%,0%,0%);stroke-opacity:1;stroke-miterlimit:10;\" d=\"M 332.308594 101.421875 C 332.308594 102.914063 330.070313 102.914063 330.070313 101.421875 C 330.070313 99.925781 332.308594 99.925781 332.308594 101.421875 \"/>\n",
       "<path style=\"fill:none;stroke-width:0.75;stroke-linecap:round;stroke-linejoin:round;stroke:rgb(0%,0%,0%);stroke-opacity:1;stroke-miterlimit:10;\" d=\"M 332.578125 128.027344 C 332.578125 129.519531 330.335938 129.519531 330.335938 128.027344 C 330.335938 126.53125 332.578125 126.53125 332.578125 128.027344 \"/>\n",
       "<path style=\"fill:none;stroke-width:0.75;stroke-linecap:round;stroke-linejoin:round;stroke:rgb(0%,0%,0%);stroke-opacity:1;stroke-miterlimit:10;\" d=\"M 332.847656 156.105469 C 332.847656 157.597656 330.605469 157.597656 330.605469 156.105469 C 330.605469 154.613281 332.847656 154.613281 332.847656 156.105469 \"/>\n",
       "<path style=\"fill:none;stroke-width:0.75;stroke-linecap:round;stroke-linejoin:round;stroke:rgb(0%,0%,0%);stroke-opacity:1;stroke-miterlimit:10;\" d=\"M 333.113281 111.71875 C 333.113281 113.214844 330.875 113.214844 330.875 111.71875 C 330.875 110.226563 333.113281 110.226563 333.113281 111.71875 \"/>\n",
       "<path style=\"fill:none;stroke-width:0.75;stroke-linecap:round;stroke-linejoin:round;stroke:rgb(0%,0%,0%);stroke-opacity:1;stroke-miterlimit:10;\" d=\"M 333.382813 114.765625 C 333.382813 116.257813 331.140625 116.257813 331.140625 114.765625 C 331.140625 113.269531 333.382813 113.269531 333.382813 114.765625 \"/>\n",
       "<path style=\"fill:none;stroke-width:0.75;stroke-linecap:round;stroke-linejoin:round;stroke:rgb(0%,0%,0%);stroke-opacity:1;stroke-miterlimit:10;\" d=\"M 333.652344 122.890625 C 333.652344 124.382813 331.410156 124.382813 331.410156 122.890625 C 331.410156 121.394531 333.652344 121.394531 333.652344 122.890625 \"/>\n",
       "<path style=\"fill:none;stroke-width:0.75;stroke-linecap:round;stroke-linejoin:round;stroke:rgb(0%,0%,0%);stroke-opacity:1;stroke-miterlimit:10;\" d=\"M 333.917969 117.195313 C 333.917969 118.691406 331.679688 118.691406 331.679688 117.195313 C 331.679688 115.703125 333.917969 115.703125 333.917969 117.195313 \"/>\n",
       "<path style=\"fill:none;stroke-width:0.75;stroke-linecap:round;stroke-linejoin:round;stroke:rgb(0%,0%,0%);stroke-opacity:1;stroke-miterlimit:10;\" d=\"M 334.1875 120.085938 C 334.1875 121.578125 331.949219 121.578125 331.949219 120.085938 C 331.949219 118.589844 334.1875 118.589844 334.1875 120.085938 \"/>\n",
       "<path style=\"fill:none;stroke-width:0.75;stroke-linecap:round;stroke-linejoin:round;stroke:rgb(0%,0%,0%);stroke-opacity:1;stroke-miterlimit:10;\" d=\"M 334.457031 114.550781 C 334.457031 116.046875 332.214844 116.046875 332.214844 114.550781 C 332.214844 113.058594 334.457031 113.058594 334.457031 114.550781 \"/>\n",
       "<path style=\"fill:none;stroke-width:0.75;stroke-linecap:round;stroke-linejoin:round;stroke:rgb(0%,0%,0%);stroke-opacity:1;stroke-miterlimit:10;\" d=\"M 334.726563 139.5 C 334.726563 140.996094 332.484375 140.996094 332.484375 139.5 C 332.484375 138.007813 334.726563 138.007813 334.726563 139.5 \"/>\n",
       "<path style=\"fill:none;stroke-width:0.75;stroke-linecap:round;stroke-linejoin:round;stroke:rgb(0%,0%,0%);stroke-opacity:1;stroke-miterlimit:10;\" d=\"M 334.992188 106.335938 C 334.992188 107.828125 332.753906 107.828125 332.753906 106.335938 C 332.753906 104.839844 334.992188 104.839844 334.992188 106.335938 \"/>\n",
       "<path style=\"fill:none;stroke-width:0.75;stroke-linecap:round;stroke-linejoin:round;stroke:rgb(0%,0%,0%);stroke-opacity:1;stroke-miterlimit:10;\" d=\"M 335.261719 113.734375 C 335.261719 115.226563 333.019531 115.226563 333.019531 113.734375 C 333.019531 112.242188 335.261719 112.242188 335.261719 113.734375 \"/>\n",
       "<path style=\"fill:none;stroke-width:0.75;stroke-linecap:round;stroke-linejoin:round;stroke:rgb(0%,0%,0%);stroke-opacity:1;stroke-miterlimit:10;\" d=\"M 335.53125 117.914063 C 335.53125 119.410156 333.289063 119.410156 333.289063 117.914063 C 333.289063 116.421875 335.53125 116.421875 335.53125 117.914063 \"/>\n",
       "<path style=\"fill:none;stroke-width:0.75;stroke-linecap:round;stroke-linejoin:round;stroke:rgb(0%,0%,0%);stroke-opacity:1;stroke-miterlimit:10;\" d=\"M 335.796875 102.378906 C 335.796875 103.871094 333.558594 103.871094 333.558594 102.378906 C 333.558594 100.882813 335.796875 100.882813 335.796875 102.378906 \"/>\n",
       "<path style=\"fill:none;stroke-width:0.75;stroke-linecap:round;stroke-linejoin:round;stroke:rgb(0%,0%,0%);stroke-opacity:1;stroke-miterlimit:10;\" d=\"M 336.066406 103.960938 C 336.066406 105.453125 333.828125 105.453125 333.828125 103.960938 C 333.828125 102.464844 336.066406 102.464844 336.066406 103.960938 \"/>\n",
       "<path style=\"fill:none;stroke-width:0.75;stroke-linecap:round;stroke-linejoin:round;stroke:rgb(0%,0%,0%);stroke-opacity:1;stroke-miterlimit:10;\" d=\"M 336.335938 109.878906 C 336.335938 111.371094 334.09375 111.371094 334.09375 109.878906 C 334.09375 108.382813 336.335938 108.382813 336.335938 109.878906 \"/>\n",
       "<path style=\"fill:none;stroke-width:0.75;stroke-linecap:round;stroke-linejoin:round;stroke:rgb(0%,0%,0%);stroke-opacity:1;stroke-miterlimit:10;\" d=\"M 336.605469 149.0625 C 336.605469 150.554688 334.363281 150.554688 334.363281 149.0625 C 334.363281 147.566406 336.605469 147.566406 336.605469 149.0625 \"/>\n",
       "<path style=\"fill:none;stroke-width:0.75;stroke-linecap:round;stroke-linejoin:round;stroke:rgb(0%,0%,0%);stroke-opacity:1;stroke-miterlimit:10;\" d=\"M 336.871094 100.851563 C 336.871094 102.347656 334.632813 102.347656 334.632813 100.851563 C 334.632813 99.359375 336.871094 99.359375 336.871094 100.851563 \"/>\n",
       "<path style=\"fill:none;stroke-width:0.75;stroke-linecap:round;stroke-linejoin:round;stroke:rgb(0%,0%,0%);stroke-opacity:1;stroke-miterlimit:10;\" d=\"M 337.140625 105.304688 C 337.140625 106.800781 334.898438 106.800781 334.898438 105.304688 C 334.898438 103.8125 337.140625 103.8125 337.140625 105.304688 \"/>\n",
       "<path style=\"fill:none;stroke-width:0.75;stroke-linecap:round;stroke-linejoin:round;stroke:rgb(0%,0%,0%);stroke-opacity:1;stroke-miterlimit:10;\" d=\"M 337.410156 95.332031 C 337.410156 96.828125 335.167969 96.828125 335.167969 95.332031 C 335.167969 93.839844 337.410156 93.839844 337.410156 95.332031 \"/>\n",
       "<path style=\"fill:none;stroke-width:0.75;stroke-linecap:round;stroke-linejoin:round;stroke:rgb(0%,0%,0%);stroke-opacity:1;stroke-miterlimit:10;\" d=\"M 337.675781 103.605469 C 337.675781 105.101563 335.4375 105.101563 335.4375 103.605469 C 335.4375 102.113281 337.675781 102.113281 337.675781 103.605469 \"/>\n",
       "<path style=\"fill:none;stroke-width:0.75;stroke-linecap:round;stroke-linejoin:round;stroke:rgb(0%,0%,0%);stroke-opacity:1;stroke-miterlimit:10;\" d=\"M 337.945313 103.0625 C 337.945313 104.558594 335.703125 104.558594 335.703125 103.0625 C 335.703125 101.570313 337.945313 101.570313 337.945313 103.0625 \"/>\n",
       "<path style=\"fill:none;stroke-width:0.75;stroke-linecap:round;stroke-linejoin:round;stroke:rgb(0%,0%,0%);stroke-opacity:1;stroke-miterlimit:10;\" d=\"M 338.214844 115.882813 C 338.214844 117.375 335.972656 117.375 335.972656 115.882813 C 335.972656 114.386719 338.214844 114.386719 338.214844 115.882813 \"/>\n",
       "<path style=\"fill:none;stroke-width:0.75;stroke-linecap:round;stroke-linejoin:round;stroke:rgb(0%,0%,0%);stroke-opacity:1;stroke-miterlimit:10;\" d=\"M 338.484375 152.164063 C 338.484375 153.65625 336.242188 153.65625 336.242188 152.164063 C 336.242188 150.667969 338.484375 150.667969 338.484375 152.164063 \"/>\n",
       "<path style=\"fill:none;stroke-width:0.75;stroke-linecap:round;stroke-linejoin:round;stroke:rgb(0%,0%,0%);stroke-opacity:1;stroke-miterlimit:10;\" d=\"M 338.75 101.121094 C 338.75 102.613281 336.511719 102.613281 336.511719 101.121094 C 336.511719 99.625 338.75 99.625 338.75 101.121094 \"/>\n",
       "<path style=\"fill:none;stroke-width:0.75;stroke-linecap:round;stroke-linejoin:round;stroke:rgb(0%,0%,0%);stroke-opacity:1;stroke-miterlimit:10;\" d=\"M 339.019531 103.332031 C 339.019531 104.828125 336.777344 104.828125 336.777344 103.332031 C 336.777344 101.839844 339.019531 101.839844 339.019531 103.332031 \"/>\n",
       "<path style=\"fill:none;stroke-width:0.75;stroke-linecap:round;stroke-linejoin:round;stroke:rgb(0%,0%,0%);stroke-opacity:1;stroke-miterlimit:10;\" d=\"M 339.289063 110.621094 C 339.289063 112.113281 337.046875 112.113281 337.046875 110.621094 C 337.046875 109.128906 339.289063 109.128906 339.289063 110.621094 \"/>\n",
       "<path style=\"fill:none;stroke-width:0.75;stroke-linecap:round;stroke-linejoin:round;stroke:rgb(0%,0%,0%);stroke-opacity:1;stroke-miterlimit:10;\" d=\"M 339.554688 106.4375 C 339.554688 107.933594 337.316406 107.933594 337.316406 106.4375 C 337.316406 104.945313 339.554688 104.945313 339.554688 106.4375 \"/>\n",
       "<path style=\"fill:none;stroke-width:0.75;stroke-linecap:round;stroke-linejoin:round;stroke:rgb(0%,0%,0%);stroke-opacity:1;stroke-miterlimit:10;\" d=\"M 339.824219 112.871094 C 339.824219 114.367188 337.582031 114.367188 337.582031 112.871094 C 337.582031 111.378906 339.824219 111.378906 339.824219 112.871094 \"/>\n",
       "<path style=\"fill:none;stroke-width:0.75;stroke-linecap:round;stroke-linejoin:round;stroke:rgb(0%,0%,0%);stroke-opacity:1;stroke-miterlimit:10;\" d=\"M 340.09375 128.425781 C 340.09375 129.917969 337.851563 129.917969 337.851563 128.425781 C 337.851563 126.929688 340.09375 126.929688 340.09375 128.425781 \"/>\n",
       "<path style=\"fill:none;stroke-width:0.75;stroke-linecap:round;stroke-linejoin:round;stroke:rgb(0%,0%,0%);stroke-opacity:1;stroke-miterlimit:10;\" d=\"M 340.363281 141.332031 C 340.363281 142.828125 338.121094 142.828125 338.121094 141.332031 C 338.121094 139.839844 340.363281 139.839844 340.363281 141.332031 \"/>\n",
       "<path style=\"fill:none;stroke-width:0.75;stroke-linecap:round;stroke-linejoin:round;stroke:rgb(0%,0%,0%);stroke-opacity:1;stroke-miterlimit:10;\" d=\"M 340.628906 155.582031 C 340.628906 157.078125 338.390625 157.078125 338.390625 155.582031 C 338.390625 154.089844 340.628906 154.089844 340.628906 155.582031 \"/>\n",
       "<path style=\"fill:none;stroke-width:0.75;stroke-linecap:round;stroke-linejoin:round;stroke:rgb(0%,0%,0%);stroke-opacity:1;stroke-miterlimit:10;\" d=\"M 340.898438 103.359375 C 340.898438 104.851563 338.65625 104.851563 338.65625 103.359375 C 338.65625 101.863281 340.898438 101.863281 340.898438 103.359375 \"/>\n",
       "<path style=\"fill:none;stroke-width:0.75;stroke-linecap:round;stroke-linejoin:round;stroke:rgb(0%,0%,0%);stroke-opacity:1;stroke-miterlimit:10;\" d=\"M 341.167969 110.894531 C 341.167969 112.390625 338.925781 112.390625 338.925781 110.894531 C 338.925781 109.402344 341.167969 109.402344 341.167969 110.894531 \"/>\n",
       "<path style=\"fill:none;stroke-width:0.75;stroke-linecap:round;stroke-linejoin:round;stroke:rgb(0%,0%,0%);stroke-opacity:1;stroke-miterlimit:10;\" d=\"M 341.433594 117.757813 C 341.433594 119.253906 339.195313 119.253906 339.195313 117.757813 C 339.195313 116.265625 341.433594 116.265625 341.433594 117.757813 \"/>\n",
       "<path style=\"fill:none;stroke-width:0.75;stroke-linecap:round;stroke-linejoin:round;stroke:rgb(0%,0%,0%);stroke-opacity:1;stroke-miterlimit:10;\" d=\"M 341.703125 111.683594 C 341.703125 113.175781 339.460938 113.175781 339.460938 111.683594 C 339.460938 110.1875 341.703125 110.1875 341.703125 111.683594 \"/>\n",
       "<path style=\"fill:none;stroke-width:0.75;stroke-linecap:round;stroke-linejoin:round;stroke:rgb(0%,0%,0%);stroke-opacity:1;stroke-miterlimit:10;\" d=\"M 341.972656 131.992188 C 341.972656 133.484375 339.730469 133.484375 339.730469 131.992188 C 339.730469 130.5 341.972656 130.5 341.972656 131.992188 \"/>\n",
       "<path style=\"fill:none;stroke-width:0.75;stroke-linecap:round;stroke-linejoin:round;stroke:rgb(0%,0%,0%);stroke-opacity:1;stroke-miterlimit:10;\" d=\"M 342.242188 146.886719 C 342.242188 148.378906 340 148.378906 340 146.886719 C 340 145.390625 342.242188 145.390625 342.242188 146.886719 \"/>\n",
       "<path style=\"fill:none;stroke-width:0.75;stroke-linecap:round;stroke-linejoin:round;stroke:rgb(0%,0%,0%);stroke-opacity:1;stroke-miterlimit:10;\" d=\"M 342.507813 125.136719 C 342.507813 126.632813 340.269531 126.632813 340.269531 125.136719 C 340.269531 123.644531 342.507813 123.644531 342.507813 125.136719 \"/>\n",
       "<path style=\"fill:none;stroke-width:0.75;stroke-linecap:round;stroke-linejoin:round;stroke:rgb(0%,0%,0%);stroke-opacity:1;stroke-miterlimit:10;\" d=\"M 342.777344 118.980469 C 342.777344 120.476563 340.535156 120.476563 340.535156 118.980469 C 340.535156 117.488281 342.777344 117.488281 342.777344 118.980469 \"/>\n",
       "<path style=\"fill:none;stroke-width:0.75;stroke-linecap:round;stroke-linejoin:round;stroke:rgb(0%,0%,0%);stroke-opacity:1;stroke-miterlimit:10;\" d=\"M 343.046875 125.566406 C 343.046875 127.058594 340.804688 127.058594 340.804688 125.566406 C 340.804688 124.070313 343.046875 124.070313 343.046875 125.566406 \"/>\n",
       "<path style=\"fill:none;stroke-width:0.75;stroke-linecap:round;stroke-linejoin:round;stroke:rgb(0%,0%,0%);stroke-opacity:1;stroke-miterlimit:10;\" d=\"M 343.3125 116.511719 C 343.3125 118.003906 341.074219 118.003906 341.074219 116.511719 C 341.074219 115.015625 343.3125 115.015625 343.3125 116.511719 \"/>\n",
       "<path style=\"fill:none;stroke-width:0.75;stroke-linecap:round;stroke-linejoin:round;stroke:rgb(0%,0%,0%);stroke-opacity:1;stroke-miterlimit:10;\" d=\"M 343.582031 107.792969 C 343.582031 109.289063 341.339844 109.289063 341.339844 107.792969 C 341.339844 106.300781 343.582031 106.300781 343.582031 107.792969 \"/>\n",
       "<path style=\"fill:none;stroke-width:0.75;stroke-linecap:round;stroke-linejoin:round;stroke:rgb(0%,0%,0%);stroke-opacity:1;stroke-miterlimit:10;\" d=\"M 343.851563 119.101563 C 343.851563 120.59375 341.609375 120.59375 341.609375 119.101563 C 341.609375 117.605469 343.851563 117.605469 343.851563 119.101563 \"/>\n",
       "<path style=\"fill:none;stroke-width:0.75;stroke-linecap:round;stroke-linejoin:round;stroke:rgb(0%,0%,0%);stroke-opacity:1;stroke-miterlimit:10;\" d=\"M 344.121094 138.667969 C 344.121094 140.160156 341.878906 140.160156 341.878906 138.667969 C 341.878906 137.171875 344.121094 137.171875 344.121094 138.667969 \"/>\n",
       "<path style=\"fill:none;stroke-width:0.75;stroke-linecap:round;stroke-linejoin:round;stroke:rgb(0%,0%,0%);stroke-opacity:1;stroke-miterlimit:10;\" d=\"M 344.386719 121.167969 C 344.386719 122.660156 342.148438 122.660156 342.148438 121.167969 C 342.148438 119.671875 344.386719 119.671875 344.386719 121.167969 \"/>\n",
       "<path style=\"fill:none;stroke-width:0.75;stroke-linecap:round;stroke-linejoin:round;stroke:rgb(0%,0%,0%);stroke-opacity:1;stroke-miterlimit:10;\" d=\"M 344.65625 100.4375 C 344.65625 101.929688 342.414063 101.929688 342.414063 100.4375 C 342.414063 98.941406 344.65625 98.941406 344.65625 100.4375 \"/>\n",
       "<path style=\"fill:none;stroke-width:0.75;stroke-linecap:round;stroke-linejoin:round;stroke:rgb(0%,0%,0%);stroke-opacity:1;stroke-miterlimit:10;\" d=\"M 344.925781 102.414063 C 344.925781 103.90625 342.683594 103.90625 342.683594 102.414063 C 342.683594 100.917969 344.925781 100.917969 344.925781 102.414063 \"/>\n",
       "<path style=\"fill:none;stroke-width:0.75;stroke-linecap:round;stroke-linejoin:round;stroke:rgb(0%,0%,0%);stroke-opacity:1;stroke-miterlimit:10;\" d=\"M 345.191406 114.214844 C 345.191406 115.710938 342.953125 115.710938 342.953125 114.214844 C 342.953125 112.722656 345.191406 112.722656 345.191406 114.214844 \"/>\n",
       "<path style=\"fill:none;stroke-width:0.75;stroke-linecap:round;stroke-linejoin:round;stroke:rgb(0%,0%,0%);stroke-opacity:1;stroke-miterlimit:10;\" d=\"M 345.460938 108.640625 C 345.460938 110.132813 343.21875 110.132813 343.21875 108.640625 C 343.21875 107.144531 345.460938 107.144531 345.460938 108.640625 \"/>\n",
       "<path style=\"fill:none;stroke-width:0.75;stroke-linecap:round;stroke-linejoin:round;stroke:rgb(0%,0%,0%);stroke-opacity:1;stroke-miterlimit:10;\" d=\"M 345.730469 112.527344 C 345.730469 114.023438 343.488281 114.023438 343.488281 112.527344 C 343.488281 111.035156 345.730469 111.035156 345.730469 112.527344 \"/>\n",
       "<path style=\"fill:none;stroke-width:0.75;stroke-linecap:round;stroke-linejoin:round;stroke:rgb(0%,0%,0%);stroke-opacity:1;stroke-miterlimit:10;\" d=\"M 346 141.28125 C 346 142.773438 343.757813 142.773438 343.757813 141.28125 C 343.757813 139.789063 346 139.789063 346 141.28125 \"/>\n",
       "<path style=\"fill:none;stroke-width:0.75;stroke-linecap:round;stroke-linejoin:round;stroke:rgb(0%,0%,0%);stroke-opacity:1;stroke-miterlimit:10;\" d=\"M 346.265625 115.148438 C 346.265625 116.640625 344.027344 116.640625 344.027344 115.148438 C 344.027344 113.652344 346.265625 113.652344 346.265625 115.148438 \"/>\n",
       "<path style=\"fill:none;stroke-width:0.75;stroke-linecap:round;stroke-linejoin:round;stroke:rgb(0%,0%,0%);stroke-opacity:1;stroke-miterlimit:10;\" d=\"M 346.535156 117.257813 C 346.535156 118.753906 344.292969 118.753906 344.292969 117.257813 C 344.292969 115.765625 346.535156 115.765625 346.535156 117.257813 \"/>\n",
       "<path style=\"fill:none;stroke-width:0.75;stroke-linecap:round;stroke-linejoin:round;stroke:rgb(0%,0%,0%);stroke-opacity:1;stroke-miterlimit:10;\" d=\"M 346.804688 118.160156 C 346.804688 119.652344 344.5625 119.652344 344.5625 118.160156 C 344.5625 116.664063 346.804688 116.664063 346.804688 118.160156 \"/>\n",
       "<path style=\"fill:none;stroke-width:0.75;stroke-linecap:round;stroke-linejoin:round;stroke:rgb(0%,0%,0%);stroke-opacity:1;stroke-miterlimit:10;\" d=\"M 347.070313 109.558594 C 347.070313 111.054688 344.832031 111.054688 344.832031 109.558594 C 344.832031 108.066406 347.070313 108.066406 347.070313 109.558594 \"/>\n",
       "<path style=\"fill:none;stroke-width:0.75;stroke-linecap:round;stroke-linejoin:round;stroke:rgb(0%,0%,0%);stroke-opacity:1;stroke-miterlimit:10;\" d=\"M 347.339844 105.472656 C 347.339844 106.964844 345.097656 106.964844 345.097656 105.472656 C 345.097656 103.976563 347.339844 103.976563 347.339844 105.472656 \"/>\n",
       "<path style=\"fill:none;stroke-width:0.75;stroke-linecap:round;stroke-linejoin:round;stroke:rgb(0%,0%,0%);stroke-opacity:1;stroke-miterlimit:10;\" d=\"M 347.609375 119.652344 C 347.609375 121.144531 345.367188 121.144531 345.367188 119.652344 C 345.367188 118.15625 347.609375 118.15625 347.609375 119.652344 \"/>\n",
       "<path style=\"fill:none;stroke-width:0.75;stroke-linecap:round;stroke-linejoin:round;stroke:rgb(0%,0%,0%);stroke-opacity:1;stroke-miterlimit:10;\" d=\"M 347.878906 146.230469 C 347.878906 147.726563 345.636719 147.726563 345.636719 146.230469 C 345.636719 144.738281 347.878906 144.738281 347.878906 146.230469 \"/>\n",
       "<path style=\"fill:none;stroke-width:0.75;stroke-linecap:round;stroke-linejoin:round;stroke:rgb(0%,0%,0%);stroke-opacity:1;stroke-miterlimit:10;\" d=\"M 348.144531 113.457031 C 348.144531 114.953125 345.90625 114.953125 345.90625 113.457031 C 345.90625 111.964844 348.144531 111.964844 348.144531 113.457031 \"/>\n",
       "<path style=\"fill:none;stroke-width:0.75;stroke-linecap:round;stroke-linejoin:round;stroke:rgb(0%,0%,0%);stroke-opacity:1;stroke-miterlimit:10;\" d=\"M 348.414063 104.308594 C 348.414063 105.804688 346.171875 105.804688 346.171875 104.308594 C 346.171875 102.816406 348.414063 102.816406 348.414063 104.308594 \"/>\n",
       "<path style=\"fill:none;stroke-width:0.75;stroke-linecap:round;stroke-linejoin:round;stroke:rgb(0%,0%,0%);stroke-opacity:1;stroke-miterlimit:10;\" d=\"M 348.683594 122.839844 C 348.683594 124.332031 346.441406 124.332031 346.441406 122.839844 C 346.441406 121.34375 348.683594 121.34375 348.683594 122.839844 \"/>\n",
       "<path style=\"fill:none;stroke-width:0.75;stroke-linecap:round;stroke-linejoin:round;stroke:rgb(0%,0%,0%);stroke-opacity:1;stroke-miterlimit:10;\" d=\"M 348.949219 130.429688 C 348.949219 131.921875 346.710938 131.921875 346.710938 130.429688 C 346.710938 128.933594 348.949219 128.933594 348.949219 130.429688 \"/>\n",
       "<path style=\"fill:none;stroke-width:0.75;stroke-linecap:round;stroke-linejoin:round;stroke:rgb(0%,0%,0%);stroke-opacity:1;stroke-miterlimit:10;\" d=\"M 349.21875 109.007813 C 349.21875 110.5 346.976563 110.5 346.976563 109.007813 C 346.976563 107.515625 349.21875 107.515625 349.21875 109.007813 \"/>\n",
       "<path style=\"fill:none;stroke-width:0.75;stroke-linecap:round;stroke-linejoin:round;stroke:rgb(0%,0%,0%);stroke-opacity:1;stroke-miterlimit:10;\" d=\"M 349.488281 126.515625 C 349.488281 128.007813 347.246094 128.007813 347.246094 126.515625 C 347.246094 125.019531 349.488281 125.019531 349.488281 126.515625 \"/>\n",
       "<path style=\"fill:none;stroke-width:0.75;stroke-linecap:round;stroke-linejoin:round;stroke:rgb(0%,0%,0%);stroke-opacity:1;stroke-miterlimit:10;\" d=\"M 349.757813 152.675781 C 349.757813 154.171875 347.515625 154.171875 347.515625 152.675781 C 347.515625 151.183594 349.757813 151.183594 349.757813 152.675781 \"/>\n",
       "<path style=\"fill:none;stroke-width:0.75;stroke-linecap:round;stroke-linejoin:round;stroke:rgb(0%,0%,0%);stroke-opacity:1;stroke-miterlimit:10;\" d=\"M 350.023438 111.996094 C 350.023438 113.488281 347.785156 113.488281 347.785156 111.996094 C 347.785156 110.5 350.023438 110.5 350.023438 111.996094 \"/>\n",
       "<path style=\"fill:none;stroke-width:0.75;stroke-linecap:round;stroke-linejoin:round;stroke:rgb(0%,0%,0%);stroke-opacity:1;stroke-miterlimit:10;\" d=\"M 350.292969 113.902344 C 350.292969 115.398438 348.050781 115.398438 348.050781 113.902344 C 348.050781 112.410156 350.292969 112.410156 350.292969 113.902344 \"/>\n",
       "<path style=\"fill:none;stroke-width:0.75;stroke-linecap:round;stroke-linejoin:round;stroke:rgb(0%,0%,0%);stroke-opacity:1;stroke-miterlimit:10;\" d=\"M 350.5625 123.902344 C 350.5625 125.398438 348.320313 125.398438 348.320313 123.902344 C 348.320313 122.410156 350.5625 122.410156 350.5625 123.902344 \"/>\n",
       "<path style=\"fill:none;stroke-width:0.75;stroke-linecap:round;stroke-linejoin:round;stroke:rgb(0%,0%,0%);stroke-opacity:1;stroke-miterlimit:10;\" d=\"M 350.828125 119.914063 C 350.828125 121.410156 348.589844 121.410156 348.589844 119.914063 C 348.589844 118.421875 350.828125 118.421875 350.828125 119.914063 \"/>\n",
       "<path style=\"fill:none;stroke-width:0.75;stroke-linecap:round;stroke-linejoin:round;stroke:rgb(0%,0%,0%);stroke-opacity:1;stroke-miterlimit:10;\" d=\"M 351.097656 109.917969 C 351.097656 111.414063 348.855469 111.414063 348.855469 109.917969 C 348.855469 108.425781 351.097656 108.425781 351.097656 109.917969 \"/>\n",
       "<path style=\"fill:none;stroke-width:0.75;stroke-linecap:round;stroke-linejoin:round;stroke:rgb(0%,0%,0%);stroke-opacity:1;stroke-miterlimit:10;\" d=\"M 351.367188 107.660156 C 351.367188 109.15625 349.125 109.15625 349.125 107.660156 C 349.125 106.167969 351.367188 106.167969 351.367188 107.660156 \"/>\n",
       "<path style=\"fill:none;stroke-width:0.75;stroke-linecap:round;stroke-linejoin:round;stroke:rgb(0%,0%,0%);stroke-opacity:1;stroke-miterlimit:10;\" d=\"M 351.636719 141.925781 C 351.636719 143.417969 349.394531 143.417969 349.394531 141.925781 C 349.394531 140.429688 351.636719 140.429688 351.636719 141.925781 \"/>\n",
       "<path style=\"fill:none;stroke-width:0.75;stroke-linecap:round;stroke-linejoin:round;stroke:rgb(0%,0%,0%);stroke-opacity:1;stroke-miterlimit:10;\" d=\"M 351.902344 109.019531 C 351.902344 110.511719 349.664063 110.511719 349.664063 109.019531 C 349.664063 107.523438 351.902344 107.523438 351.902344 109.019531 \"/>\n",
       "<path style=\"fill:none;stroke-width:0.75;stroke-linecap:round;stroke-linejoin:round;stroke:rgb(0%,0%,0%);stroke-opacity:1;stroke-miterlimit:10;\" d=\"M 352.171875 103.878906 C 352.171875 105.371094 349.929688 105.371094 349.929688 103.878906 C 349.929688 102.382813 352.171875 102.382813 352.171875 103.878906 \"/>\n",
       "<path style=\"fill:none;stroke-width:0.75;stroke-linecap:round;stroke-linejoin:round;stroke:rgb(0%,0%,0%);stroke-opacity:1;stroke-miterlimit:10;\" d=\"M 352.441406 100.433594 C 352.441406 101.925781 350.199219 101.925781 350.199219 100.433594 C 350.199219 98.9375 352.441406 98.9375 352.441406 100.433594 \"/>\n",
       "<path style=\"fill:none;stroke-width:0.75;stroke-linecap:round;stroke-linejoin:round;stroke:rgb(0%,0%,0%);stroke-opacity:1;stroke-miterlimit:10;\" d=\"M 352.707031 101.902344 C 352.707031 103.398438 350.46875 103.398438 350.46875 101.902344 C 350.46875 100.410156 352.707031 100.410156 352.707031 101.902344 \"/>\n",
       "<path style=\"fill:none;stroke-width:0.75;stroke-linecap:round;stroke-linejoin:round;stroke:rgb(0%,0%,0%);stroke-opacity:1;stroke-miterlimit:10;\" d=\"M 352.976563 100.5625 C 352.976563 102.058594 350.734375 102.058594 350.734375 100.5625 C 350.734375 99.070313 352.976563 99.070313 352.976563 100.5625 \"/>\n",
       "<path style=\"fill:none;stroke-width:0.75;stroke-linecap:round;stroke-linejoin:round;stroke:rgb(0%,0%,0%);stroke-opacity:1;stroke-miterlimit:10;\" d=\"M 353.246094 109.007813 C 353.246094 110.5 351.003906 110.5 351.003906 109.007813 C 351.003906 107.511719 353.246094 107.511719 353.246094 109.007813 \"/>\n",
       "<path style=\"fill:none;stroke-width:0.75;stroke-linecap:round;stroke-linejoin:round;stroke:rgb(0%,0%,0%);stroke-opacity:1;stroke-miterlimit:10;\" d=\"M 353.515625 141.960938 C 353.515625 143.453125 351.273438 143.453125 351.273438 141.960938 C 351.273438 140.464844 353.515625 140.464844 353.515625 141.960938 \"/>\n",
       "<path style=\"fill:none;stroke-width:0.75;stroke-linecap:round;stroke-linejoin:round;stroke:rgb(0%,0%,0%);stroke-opacity:1;stroke-miterlimit:10;\" d=\"M 353.78125 110.570313 C 353.78125 112.066406 351.542969 112.066406 351.542969 110.570313 C 351.542969 109.078125 353.78125 109.078125 353.78125 110.570313 \"/>\n",
       "<path style=\"fill:none;stroke-width:0.75;stroke-linecap:round;stroke-linejoin:round;stroke:rgb(0%,0%,0%);stroke-opacity:1;stroke-miterlimit:10;\" d=\"M 354.050781 118.230469 C 354.050781 119.726563 351.808594 119.726563 351.808594 118.230469 C 351.808594 116.738281 354.050781 116.738281 354.050781 118.230469 \"/>\n",
       "<path style=\"fill:none;stroke-width:0.75;stroke-linecap:round;stroke-linejoin:round;stroke:rgb(0%,0%,0%);stroke-opacity:1;stroke-miterlimit:10;\" d=\"M 354.320313 116.746094 C 354.320313 118.238281 352.078125 118.238281 352.078125 116.746094 C 352.078125 115.25 354.320313 115.25 354.320313 116.746094 \"/>\n",
       "<path style=\"fill:none;stroke-width:0.75;stroke-linecap:round;stroke-linejoin:round;stroke:rgb(0%,0%,0%);stroke-opacity:1;stroke-miterlimit:10;\" d=\"M 354.585938 105.574219 C 354.585938 107.070313 352.347656 107.070313 352.347656 105.574219 C 352.347656 104.082031 354.585938 104.082031 354.585938 105.574219 \"/>\n",
       "<path style=\"fill:none;stroke-width:0.75;stroke-linecap:round;stroke-linejoin:round;stroke:rgb(0%,0%,0%);stroke-opacity:1;stroke-miterlimit:10;\" d=\"M 354.855469 109.582031 C 354.855469 111.078125 352.613281 111.078125 352.613281 109.582031 C 352.613281 108.089844 354.855469 108.089844 354.855469 109.582031 \"/>\n",
       "<path style=\"fill:none;stroke-width:0.75;stroke-linecap:round;stroke-linejoin:round;stroke:rgb(0%,0%,0%);stroke-opacity:1;stroke-miterlimit:10;\" d=\"M 355.125 126.652344 C 355.125 128.148438 352.882813 128.148438 352.882813 126.652344 C 352.882813 125.160156 355.125 125.160156 355.125 126.652344 \"/>\n",
       "<path style=\"fill:none;stroke-width:0.75;stroke-linecap:round;stroke-linejoin:round;stroke:rgb(0%,0%,0%);stroke-opacity:1;stroke-miterlimit:10;\" d=\"M 355.394531 137.886719 C 355.394531 139.382813 353.152344 139.382813 353.152344 137.886719 C 353.152344 136.394531 355.394531 136.394531 355.394531 137.886719 \"/>\n",
       "<path style=\"fill:none;stroke-width:0.75;stroke-linecap:round;stroke-linejoin:round;stroke:rgb(0%,0%,0%);stroke-opacity:1;stroke-miterlimit:10;\" d=\"M 355.660156 121.75 C 355.660156 123.246094 353.421875 123.246094 353.421875 121.75 C 353.421875 120.257813 355.660156 120.257813 355.660156 121.75 \"/>\n",
       "<path style=\"fill:none;stroke-width:0.75;stroke-linecap:round;stroke-linejoin:round;stroke:rgb(0%,0%,0%);stroke-opacity:1;stroke-miterlimit:10;\" d=\"M 355.929688 110.816406 C 355.929688 112.308594 353.6875 112.308594 353.6875 110.816406 C 353.6875 109.320313 355.929688 109.320313 355.929688 110.816406 \"/>\n",
       "<path style=\"fill:none;stroke-width:0.75;stroke-linecap:round;stroke-linejoin:round;stroke:rgb(0%,0%,0%);stroke-opacity:1;stroke-miterlimit:10;\" d=\"M 356.199219 98.988281 C 356.199219 100.480469 353.957031 100.480469 353.957031 98.988281 C 353.957031 97.492188 356.199219 97.492188 356.199219 98.988281 \"/>\n",
       "<path style=\"fill:none;stroke-width:0.75;stroke-linecap:round;stroke-linejoin:round;stroke:rgb(0%,0%,0%);stroke-opacity:1;stroke-miterlimit:10;\" d=\"M 356.464844 109.328125 C 356.464844 110.820313 354.226563 110.820313 354.226563 109.328125 C 354.226563 107.835938 356.464844 107.835938 356.464844 109.328125 \"/>\n",
       "<path style=\"fill:none;stroke-width:0.75;stroke-linecap:round;stroke-linejoin:round;stroke:rgb(0%,0%,0%);stroke-opacity:1;stroke-miterlimit:10;\" d=\"M 356.734375 111.484375 C 356.734375 112.976563 354.492188 112.976563 354.492188 111.484375 C 354.492188 109.988281 356.734375 109.988281 356.734375 111.484375 \"/>\n",
       "<path style=\"fill:none;stroke-width:0.75;stroke-linecap:round;stroke-linejoin:round;stroke:rgb(0%,0%,0%);stroke-opacity:1;stroke-miterlimit:10;\" d=\"M 357.003906 114.628906 C 357.003906 116.125 354.761719 116.125 354.761719 114.628906 C 354.761719 113.136719 357.003906 113.136719 357.003906 114.628906 \"/>\n",
       "<path style=\"fill:none;stroke-width:0.75;stroke-linecap:round;stroke-linejoin:round;stroke:rgb(0%,0%,0%);stroke-opacity:1;stroke-miterlimit:10;\" d=\"M 357.273438 135.867188 C 357.273438 137.359375 355.03125 137.359375 355.03125 135.867188 C 355.03125 134.371094 357.273438 134.371094 357.273438 135.867188 \"/>\n",
       "<path style=\"fill:none;stroke-width:0.75;stroke-linecap:round;stroke-linejoin:round;stroke:rgb(0%,0%,0%);stroke-opacity:1;stroke-miterlimit:10;\" d=\"M 357.539063 109.503906 C 357.539063 110.996094 355.300781 110.996094 355.300781 109.503906 C 355.300781 108.007813 357.539063 108.007813 357.539063 109.503906 \"/>\n",
       "<path style=\"fill:none;stroke-width:0.75;stroke-linecap:round;stroke-linejoin:round;stroke:rgb(0%,0%,0%);stroke-opacity:1;stroke-miterlimit:10;\" d=\"M 357.808594 103.414063 C 357.808594 104.90625 355.566406 104.90625 355.566406 103.414063 C 355.566406 101.917969 357.808594 101.917969 357.808594 103.414063 \"/>\n",
       "<path style=\"fill:none;stroke-width:0.75;stroke-linecap:round;stroke-linejoin:round;stroke:rgb(0%,0%,0%);stroke-opacity:1;stroke-miterlimit:10;\" d=\"M 358.078125 114.941406 C 358.078125 116.4375 355.835938 116.4375 355.835938 114.941406 C 355.835938 113.449219 358.078125 113.449219 358.078125 114.941406 \"/>\n",
       "<path style=\"fill:none;stroke-width:0.75;stroke-linecap:round;stroke-linejoin:round;stroke:rgb(0%,0%,0%);stroke-opacity:1;stroke-miterlimit:10;\" d=\"M 358.34375 173.117188 C 358.34375 174.613281 356.105469 174.613281 356.105469 173.117188 C 356.105469 171.625 358.34375 171.625 358.34375 173.117188 \"/>\n",
       "<path style=\"fill:none;stroke-width:0.75;stroke-linecap:round;stroke-linejoin:round;stroke:rgb(0%,0%,0%);stroke-opacity:1;stroke-miterlimit:10;\" d=\"M 358.613281 108.878906 C 358.613281 110.371094 356.371094 110.371094 356.371094 108.878906 C 356.371094 107.382813 358.613281 107.382813 358.613281 108.878906 \"/>\n",
       "<path style=\"fill:none;stroke-width:0.75;stroke-linecap:round;stroke-linejoin:round;stroke:rgb(0%,0%,0%);stroke-opacity:1;stroke-miterlimit:10;\" d=\"M 358.882813 125.792969 C 358.882813 127.289063 356.640625 127.289063 356.640625 125.792969 C 356.640625 124.300781 358.882813 124.300781 358.882813 125.792969 \"/>\n",
       "<path style=\"fill:none;stroke-width:0.75;stroke-linecap:round;stroke-linejoin:round;stroke:rgb(0%,0%,0%);stroke-opacity:1;stroke-miterlimit:10;\" d=\"M 359.152344 140.324219 C 359.152344 141.816406 356.910156 141.816406 356.910156 140.324219 C 356.910156 138.828125 359.152344 138.828125 359.152344 140.324219 \"/>\n",
       "<path style=\"fill:none;stroke-width:0.75;stroke-linecap:round;stroke-linejoin:round;stroke:rgb(0%,0%,0%);stroke-opacity:1;stroke-miterlimit:10;\" d=\"M 359.417969 105.398438 C 359.417969 106.894531 357.179688 106.894531 357.179688 105.398438 C 357.179688 103.90625 359.417969 103.90625 359.417969 105.398438 \"/>\n",
       "<path style=\"fill:none;stroke-width:0.75;stroke-linecap:round;stroke-linejoin:round;stroke:rgb(0%,0%,0%);stroke-opacity:1;stroke-miterlimit:10;\" d=\"M 359.6875 95.984375 C 359.6875 97.480469 357.445313 97.480469 357.445313 95.984375 C 357.445313 94.492188 359.6875 94.492188 359.6875 95.984375 \"/>\n",
       "<path style=\"fill:none;stroke-width:0.75;stroke-linecap:round;stroke-linejoin:round;stroke:rgb(0%,0%,0%);stroke-opacity:1;stroke-miterlimit:10;\" d=\"M 359.957031 113.5625 C 359.957031 115.058594 357.714844 115.058594 357.714844 113.5625 C 357.714844 112.070313 359.957031 112.070313 359.957031 113.5625 \"/>\n",
       "<path style=\"fill:none;stroke-width:0.75;stroke-linecap:round;stroke-linejoin:round;stroke:rgb(0%,0%,0%);stroke-opacity:1;stroke-miterlimit:10;\" d=\"M 360.222656 173.867188 C 360.222656 175.359375 357.984375 175.359375 357.984375 173.867188 C 357.984375 172.375 360.222656 172.375 360.222656 173.867188 \"/>\n",
       "<path style=\"fill:none;stroke-width:0.75;stroke-linecap:round;stroke-linejoin:round;stroke:rgb(0%,0%,0%);stroke-opacity:1;stroke-miterlimit:10;\" d=\"M 360.492188 100.632813 C 360.492188 102.128906 358.25 102.128906 358.25 100.632813 C 358.25 99.140625 360.492188 99.140625 360.492188 100.632813 \"/>\n",
       "<path style=\"fill:none;stroke-width:0.75;stroke-linecap:round;stroke-linejoin:round;stroke:rgb(0%,0%,0%);stroke-opacity:1;stroke-miterlimit:10;\" d=\"M 360.761719 127.898438 C 360.761719 129.394531 358.519531 129.394531 358.519531 127.898438 C 358.519531 126.40625 360.761719 126.40625 360.761719 127.898438 \"/>\n",
       "<path style=\"fill:none;stroke-width:0.75;stroke-linecap:round;stroke-linejoin:round;stroke:rgb(0%,0%,0%);stroke-opacity:1;stroke-miterlimit:10;\" d=\"M 361.03125 147.378906 C 361.03125 148.875 358.789063 148.875 358.789063 147.378906 C 358.789063 145.886719 361.03125 145.886719 361.03125 147.378906 \"/>\n",
       "<path style=\"fill:none;stroke-width:0.75;stroke-linecap:round;stroke-linejoin:round;stroke:rgb(0%,0%,0%);stroke-opacity:1;stroke-miterlimit:10;\" d=\"M 361.296875 120.566406 C 361.296875 122.058594 359.058594 122.058594 359.058594 120.566406 C 359.058594 119.074219 361.296875 119.074219 361.296875 120.566406 \"/>\n",
       "<path style=\"fill:none;stroke-width:0.75;stroke-linecap:round;stroke-linejoin:round;stroke:rgb(0%,0%,0%);stroke-opacity:1;stroke-miterlimit:10;\" d=\"M 361.566406 114.214844 C 361.566406 115.710938 359.324219 115.710938 359.324219 114.214844 C 359.324219 112.722656 361.566406 112.722656 361.566406 114.214844 \"/>\n",
       "<path style=\"fill:none;stroke-width:0.75;stroke-linecap:round;stroke-linejoin:round;stroke:rgb(0%,0%,0%);stroke-opacity:1;stroke-miterlimit:10;\" d=\"M 361.835938 104.910156 C 361.835938 106.40625 359.59375 106.40625 359.59375 104.910156 C 359.59375 103.417969 361.835938 103.417969 361.835938 104.910156 \"/>\n",
       "<path style=\"fill:none;stroke-width:0.75;stroke-linecap:round;stroke-linejoin:round;stroke:rgb(0%,0%,0%);stroke-opacity:1;stroke-miterlimit:10;\" d=\"M 362.101563 108.371094 C 362.101563 109.867188 359.863281 109.867188 359.863281 108.371094 C 359.863281 106.878906 362.101563 106.878906 362.101563 108.371094 \"/>\n",
       "<path style=\"fill:none;stroke-width:0.75;stroke-linecap:round;stroke-linejoin:round;stroke:rgb(0%,0%,0%);stroke-opacity:1;stroke-miterlimit:10;\" d=\"M 362.371094 117.011719 C 362.371094 118.503906 360.128906 118.503906 360.128906 117.011719 C 360.128906 115.515625 362.371094 115.515625 362.371094 117.011719 \"/>\n",
       "<path style=\"fill:none;stroke-width:0.75;stroke-linecap:round;stroke-linejoin:round;stroke:rgb(0%,0%,0%);stroke-opacity:1;stroke-miterlimit:10;\" d=\"M 362.640625 126.488281 C 362.640625 127.984375 360.398438 127.984375 360.398438 126.488281 C 360.398438 124.996094 362.640625 124.996094 362.640625 126.488281 \"/>\n",
       "<path style=\"fill:none;stroke-width:0.75;stroke-linecap:round;stroke-linejoin:round;stroke:rgb(0%,0%,0%);stroke-opacity:1;stroke-miterlimit:10;\" d=\"M 362.910156 146.164063 C 362.910156 147.65625 360.667969 147.65625 360.667969 146.164063 C 360.667969 144.667969 362.910156 144.667969 362.910156 146.164063 \"/>\n",
       "<path style=\"fill:none;stroke-width:0.75;stroke-linecap:round;stroke-linejoin:round;stroke:rgb(0%,0%,0%);stroke-opacity:1;stroke-miterlimit:10;\" d=\"M 363.175781 125.410156 C 363.175781 126.902344 360.9375 126.902344 360.9375 125.410156 C 360.9375 123.914063 363.175781 123.914063 363.175781 125.410156 \"/>\n",
       "<path style=\"fill:none;stroke-width:0.75;stroke-linecap:round;stroke-linejoin:round;stroke:rgb(0%,0%,0%);stroke-opacity:1;stroke-miterlimit:10;\" d=\"M 363.445313 112.847656 C 363.445313 114.34375 361.203125 114.34375 361.203125 112.847656 C 361.203125 111.355469 363.445313 111.355469 363.445313 112.847656 \"/>\n",
       "<path style=\"fill:none;stroke-width:0.75;stroke-linecap:round;stroke-linejoin:round;stroke:rgb(0%,0%,0%);stroke-opacity:1;stroke-miterlimit:10;\" d=\"M 363.714844 116.152344 C 363.714844 117.648438 361.472656 117.648438 361.472656 116.152344 C 361.472656 114.660156 363.714844 114.660156 363.714844 116.152344 \"/>\n",
       "<path style=\"fill:none;stroke-width:0.75;stroke-linecap:round;stroke-linejoin:round;stroke:rgb(0%,0%,0%);stroke-opacity:1;stroke-miterlimit:10;\" d=\"M 363.980469 116.847656 C 363.980469 118.34375 361.742188 118.34375 361.742188 116.847656 C 361.742188 115.355469 363.980469 115.355469 363.980469 116.847656 \"/>\n",
       "<path style=\"fill:none;stroke-width:0.75;stroke-linecap:round;stroke-linejoin:round;stroke:rgb(0%,0%,0%);stroke-opacity:1;stroke-miterlimit:10;\" d=\"M 364.25 107.746094 C 364.25 109.242188 362.007813 109.242188 362.007813 107.746094 C 362.007813 106.253906 364.25 106.253906 364.25 107.746094 \"/>\n",
       "<path style=\"fill:none;stroke-width:0.75;stroke-linecap:round;stroke-linejoin:round;stroke:rgb(0%,0%,0%);stroke-opacity:1;stroke-miterlimit:10;\" d=\"M 364.519531 136.226563 C 364.519531 137.71875 362.277344 137.71875 362.277344 136.226563 C 362.277344 134.730469 364.519531 134.730469 364.519531 136.226563 \"/>\n",
       "<path style=\"fill:none;stroke-width:0.75;stroke-linecap:round;stroke-linejoin:round;stroke:rgb(0%,0%,0%);stroke-opacity:1;stroke-miterlimit:10;\" d=\"M 364.789063 152.9375 C 364.789063 154.429688 362.546875 154.429688 362.546875 152.9375 C 362.546875 151.441406 364.789063 151.441406 364.789063 152.9375 \"/>\n",
       "<path style=\"fill:none;stroke-width:0.75;stroke-linecap:round;stroke-linejoin:round;stroke:rgb(0%,0%,0%);stroke-opacity:1;stroke-miterlimit:10;\" d=\"M 365.054688 106.234375 C 365.054688 107.730469 362.816406 107.730469 362.816406 106.234375 C 362.816406 104.742188 365.054688 104.742188 365.054688 106.234375 \"/>\n",
       "<path style=\"fill:none;stroke-width:0.75;stroke-linecap:round;stroke-linejoin:round;stroke:rgb(0%,0%,0%);stroke-opacity:1;stroke-miterlimit:10;\" d=\"M 365.324219 145.90625 C 365.324219 147.402344 363.082031 147.402344 363.082031 145.90625 C 363.082031 144.414063 365.324219 144.414063 365.324219 145.90625 \"/>\n",
       "<path style=\"fill:none;stroke-width:0.75;stroke-linecap:round;stroke-linejoin:round;stroke:rgb(0%,0%,0%);stroke-opacity:1;stroke-miterlimit:10;\" d=\"M 365.59375 112.109375 C 365.59375 113.601563 363.351563 113.601563 363.351563 112.109375 C 363.351563 110.613281 365.59375 110.613281 365.59375 112.109375 \"/>\n",
       "<path style=\"fill:none;stroke-width:0.75;stroke-linecap:round;stroke-linejoin:round;stroke:rgb(0%,0%,0%);stroke-opacity:1;stroke-miterlimit:10;\" d=\"M 365.859375 128.902344 C 365.859375 130.394531 363.621094 130.394531 363.621094 128.902344 C 363.621094 127.40625 365.859375 127.40625 365.859375 128.902344 \"/>\n",
       "<path style=\"fill:none;stroke-width:0.75;stroke-linecap:round;stroke-linejoin:round;stroke:rgb(0%,0%,0%);stroke-opacity:1;stroke-miterlimit:10;\" d=\"M 366.128906 121.300781 C 366.128906 122.796875 363.886719 122.796875 363.886719 121.300781 C 363.886719 119.808594 366.128906 119.808594 366.128906 121.300781 \"/>\n",
       "<path style=\"fill:none;stroke-width:0.75;stroke-linecap:round;stroke-linejoin:round;stroke:rgb(0%,0%,0%);stroke-opacity:1;stroke-miterlimit:10;\" d=\"M 366.398438 131.8125 C 366.398438 133.308594 364.15625 133.308594 364.15625 131.8125 C 364.15625 130.320313 366.398438 130.320313 366.398438 131.8125 \"/>\n",
       "<path style=\"fill:none;stroke-width:0.75;stroke-linecap:round;stroke-linejoin:round;stroke:rgb(0%,0%,0%);stroke-opacity:1;stroke-miterlimit:10;\" d=\"M 366.667969 159.5625 C 366.667969 161.058594 364.425781 161.058594 364.425781 159.5625 C 364.425781 158.070313 366.667969 158.070313 366.667969 159.5625 \"/>\n",
       "<path style=\"fill:none;stroke-width:0.75;stroke-linecap:round;stroke-linejoin:round;stroke:rgb(0%,0%,0%);stroke-opacity:1;stroke-miterlimit:10;\" d=\"M 366.933594 117.550781 C 366.933594 119.046875 364.695313 119.046875 364.695313 117.550781 C 364.695313 116.058594 366.933594 116.058594 366.933594 117.550781 \"/>\n",
       "<path style=\"fill:none;stroke-width:0.75;stroke-linecap:round;stroke-linejoin:round;stroke:rgb(0%,0%,0%);stroke-opacity:1;stroke-miterlimit:10;\" d=\"M 367.203125 129.449219 C 367.203125 130.945313 364.960938 130.945313 364.960938 129.449219 C 364.960938 127.957031 367.203125 127.957031 367.203125 129.449219 \"/>\n",
       "<path style=\"fill:none;stroke-width:0.75;stroke-linecap:round;stroke-linejoin:round;stroke:rgb(0%,0%,0%);stroke-opacity:1;stroke-miterlimit:10;\" d=\"M 367.472656 120.371094 C 367.472656 121.863281 365.230469 121.863281 365.230469 120.371094 C 365.230469 118.875 367.472656 118.875 367.472656 120.371094 \"/>\n",
       "<path style=\"fill:none;stroke-width:0.75;stroke-linecap:round;stroke-linejoin:round;stroke:rgb(0%,0%,0%);stroke-opacity:1;stroke-miterlimit:10;\" d=\"M 367.738281 125.839844 C 367.738281 127.332031 365.5 127.332031 365.5 125.839844 C 365.5 124.34375 367.738281 124.34375 367.738281 125.839844 \"/>\n",
       "<path style=\"fill:none;stroke-width:0.75;stroke-linecap:round;stroke-linejoin:round;stroke:rgb(0%,0%,0%);stroke-opacity:1;stroke-miterlimit:10;\" d=\"M 368.007813 122.808594 C 368.007813 124.304688 365.765625 124.304688 365.765625 122.808594 C 365.765625 121.316406 368.007813 121.316406 368.007813 122.808594 \"/>\n",
       "<path style=\"fill:none;stroke-width:0.75;stroke-linecap:round;stroke-linejoin:round;stroke:rgb(0%,0%,0%);stroke-opacity:1;stroke-miterlimit:10;\" d=\"M 368.277344 122.898438 C 368.277344 124.394531 366.035156 124.394531 366.035156 122.898438 C 366.035156 121.40625 368.277344 121.40625 368.277344 122.898438 \"/>\n",
       "<path style=\"fill:none;stroke-width:0.75;stroke-linecap:round;stroke-linejoin:round;stroke:rgb(0%,0%,0%);stroke-opacity:1;stroke-miterlimit:10;\" d=\"M 368.542969 148.777344 C 368.542969 150.273438 366.304688 150.273438 366.304688 148.777344 C 366.304688 147.285156 368.542969 147.285156 368.542969 148.777344 \"/>\n",
       "<path style=\"fill:none;stroke-width:0.75;stroke-linecap:round;stroke-linejoin:round;stroke:rgb(0%,0%,0%);stroke-opacity:1;stroke-miterlimit:10;\" d=\"M 368.8125 122.53125 C 368.8125 124.023438 366.574219 124.023438 366.574219 122.53125 C 366.574219 121.035156 368.8125 121.035156 368.8125 122.53125 \"/>\n",
       "<path style=\"fill:none;stroke-width:0.75;stroke-linecap:round;stroke-linejoin:round;stroke:rgb(0%,0%,0%);stroke-opacity:1;stroke-miterlimit:10;\" d=\"M 369.082031 103.519531 C 369.082031 105.011719 366.839844 105.011719 366.839844 103.519531 C 366.839844 102.023438 369.082031 102.023438 369.082031 103.519531 \"/>\n",
       "<path style=\"fill:none;stroke-width:0.75;stroke-linecap:round;stroke-linejoin:round;stroke:rgb(0%,0%,0%);stroke-opacity:1;stroke-miterlimit:10;\" d=\"M 369.351563 100.304688 C 369.351563 101.796875 367.109375 101.796875 367.109375 100.304688 C 367.109375 98.8125 369.351563 98.8125 369.351563 100.304688 \"/>\n",
       "<path style=\"fill:none;stroke-width:0.75;stroke-linecap:round;stroke-linejoin:round;stroke:rgb(0%,0%,0%);stroke-opacity:1;stroke-miterlimit:10;\" d=\"M 369.617188 116.484375 C 369.617188 117.980469 367.378906 117.980469 367.378906 116.484375 C 367.378906 114.992188 369.617188 114.992188 369.617188 116.484375 \"/>\n",
       "<path style=\"fill:none;stroke-width:0.75;stroke-linecap:round;stroke-linejoin:round;stroke:rgb(0%,0%,0%);stroke-opacity:1;stroke-miterlimit:10;\" d=\"M 369.886719 111.191406 C 369.886719 112.6875 367.644531 112.6875 367.644531 111.191406 C 367.644531 109.699219 369.886719 109.699219 369.886719 111.191406 \"/>\n",
       "<path style=\"fill:none;stroke-width:0.75;stroke-linecap:round;stroke-linejoin:round;stroke:rgb(0%,0%,0%);stroke-opacity:1;stroke-miterlimit:10;\" d=\"M 370.15625 114.730469 C 370.15625 116.226563 367.914063 116.226563 367.914063 114.730469 C 367.914063 113.238281 370.15625 113.238281 370.15625 114.730469 \"/>\n",
       "<path style=\"fill:none;stroke-width:0.75;stroke-linecap:round;stroke-linejoin:round;stroke:rgb(0%,0%,0%);stroke-opacity:1;stroke-miterlimit:10;\" d=\"M 370.421875 141.445313 C 370.421875 142.9375 368.183594 142.9375 368.183594 141.445313 C 368.183594 139.953125 370.421875 139.953125 370.421875 141.445313 \"/>\n",
       "<path style=\"fill:none;stroke-width:0.75;stroke-linecap:round;stroke-linejoin:round;stroke:rgb(0%,0%,0%);stroke-opacity:1;stroke-miterlimit:10;\" d=\"M 370.691406 112.371094 C 370.691406 113.863281 368.453125 113.863281 368.453125 112.371094 C 368.453125 110.875 370.691406 110.875 370.691406 112.371094 \"/>\n",
       "<path style=\"fill:none;stroke-width:0.75;stroke-linecap:round;stroke-linejoin:round;stroke:rgb(0%,0%,0%);stroke-opacity:1;stroke-miterlimit:10;\" d=\"M 370.960938 109.347656 C 370.960938 110.839844 368.71875 110.839844 368.71875 109.347656 C 368.71875 107.851563 370.960938 107.851563 370.960938 109.347656 \"/>\n",
       "<path style=\"fill:none;stroke-width:0.75;stroke-linecap:round;stroke-linejoin:round;stroke:rgb(0%,0%,0%);stroke-opacity:1;stroke-miterlimit:10;\" d=\"M 371.230469 110.023438 C 371.230469 111.519531 368.988281 111.519531 368.988281 110.023438 C 368.988281 108.53125 371.230469 108.53125 371.230469 110.023438 \"/>\n",
       "<path style=\"fill:none;stroke-width:0.75;stroke-linecap:round;stroke-linejoin:round;stroke:rgb(0%,0%,0%);stroke-opacity:1;stroke-miterlimit:10;\" d=\"M 371.496094 102.359375 C 371.496094 103.851563 369.257813 103.851563 369.257813 102.359375 C 369.257813 100.863281 371.496094 100.863281 371.496094 102.359375 \"/>\n",
       "<path style=\"fill:none;stroke-width:0.75;stroke-linecap:round;stroke-linejoin:round;stroke:rgb(0%,0%,0%);stroke-opacity:1;stroke-miterlimit:10;\" d=\"M 371.765625 90.601563 C 371.765625 92.09375 369.523438 92.09375 369.523438 90.601563 C 369.523438 89.105469 371.765625 89.105469 371.765625 90.601563 \"/>\n",
       "<path style=\"fill:none;stroke-width:0.75;stroke-linecap:round;stroke-linejoin:round;stroke:rgb(0%,0%,0%);stroke-opacity:1;stroke-miterlimit:10;\" d=\"M 372.035156 116.59375 C 372.035156 118.089844 369.792969 118.089844 369.792969 116.59375 C 369.792969 115.101563 372.035156 115.101563 372.035156 116.59375 \"/>\n",
       "<path style=\"fill:none;stroke-width:0.75;stroke-linecap:round;stroke-linejoin:round;stroke:rgb(0%,0%,0%);stroke-opacity:1;stroke-miterlimit:10;\" d=\"M 372.300781 149.347656 C 372.300781 150.839844 370.0625 150.839844 370.0625 149.347656 C 370.0625 147.851563 372.300781 147.851563 372.300781 149.347656 \"/>\n",
       "<path style=\"fill:none;stroke-width:0.75;stroke-linecap:round;stroke-linejoin:round;stroke:rgb(0%,0%,0%);stroke-opacity:1;stroke-miterlimit:10;\" d=\"M 372.570313 142.511719 C 372.570313 144.007813 370.328125 144.007813 370.328125 142.511719 C 370.328125 141.019531 372.570313 141.019531 372.570313 142.511719 \"/>\n",
       "<path style=\"fill:none;stroke-width:0.75;stroke-linecap:round;stroke-linejoin:round;stroke:rgb(0%,0%,0%);stroke-opacity:1;stroke-miterlimit:10;\" d=\"M 372.839844 169.28125 C 372.839844 170.773438 370.597656 170.773438 370.597656 169.28125 C 370.597656 167.785156 372.839844 167.785156 372.839844 169.28125 \"/>\n",
       "<path style=\"fill:none;stroke-width:0.75;stroke-linecap:round;stroke-linejoin:round;stroke:rgb(0%,0%,0%);stroke-opacity:1;stroke-miterlimit:10;\" d=\"M 373.109375 115.777344 C 373.109375 117.269531 370.867188 117.269531 370.867188 115.777344 C 370.867188 114.28125 373.109375 114.28125 373.109375 115.777344 \"/>\n",
       "<path style=\"fill:none;stroke-width:0.75;stroke-linecap:round;stroke-linejoin:round;stroke:rgb(0%,0%,0%);stroke-opacity:1;stroke-miterlimit:10;\" d=\"M 373.375 114.761719 C 373.375 116.253906 371.136719 116.253906 371.136719 114.761719 C 371.136719 113.269531 373.375 113.269531 373.375 114.761719 \"/>\n",
       "<path style=\"fill:none;stroke-width:0.75;stroke-linecap:round;stroke-linejoin:round;stroke:rgb(0%,0%,0%);stroke-opacity:1;stroke-miterlimit:10;\" d=\"M 373.644531 113.5625 C 373.644531 115.054688 371.402344 115.054688 371.402344 113.5625 C 371.402344 112.066406 373.644531 112.066406 373.644531 113.5625 \"/>\n",
       "<path style=\"fill:none;stroke-width:0.75;stroke-linecap:round;stroke-linejoin:round;stroke:rgb(0%,0%,0%);stroke-opacity:1;stroke-miterlimit:10;\" d=\"M 373.914063 130.199219 C 373.914063 131.695313 371.671875 131.695313 371.671875 130.199219 C 371.671875 128.707031 373.914063 128.707031 373.914063 130.199219 \"/>\n",
       "<path style=\"fill:none;stroke-width:0.75;stroke-linecap:round;stroke-linejoin:round;stroke:rgb(0%,0%,0%);stroke-opacity:1;stroke-miterlimit:10;\" d=\"M 374.179688 156.097656 C 374.179688 157.589844 371.941406 157.589844 371.941406 156.097656 C 371.941406 154.601563 374.179688 154.601563 374.179688 156.097656 \"/>\n",
       "<path style=\"fill:none;stroke-width:0.75;stroke-linecap:round;stroke-linejoin:round;stroke:rgb(0%,0%,0%);stroke-opacity:1;stroke-miterlimit:10;\" d=\"M 374.449219 117.976563 C 374.449219 119.46875 372.207031 119.46875 372.207031 117.976563 C 372.207031 116.480469 374.449219 116.480469 374.449219 117.976563 \"/>\n",
       "<path style=\"fill:none;stroke-width:0.75;stroke-linecap:round;stroke-linejoin:round;stroke:rgb(0%,0%,0%);stroke-opacity:1;stroke-miterlimit:10;\" d=\"M 374.71875 118.5625 C 374.71875 120.058594 372.476563 120.058594 372.476563 118.5625 C 372.476563 117.070313 374.71875 117.070313 374.71875 118.5625 \"/>\n",
       "<path style=\"fill:none;stroke-width:0.75;stroke-linecap:round;stroke-linejoin:round;stroke:rgb(0%,0%,0%);stroke-opacity:1;stroke-miterlimit:10;\" d=\"M 374.988281 125.644531 C 374.988281 127.140625 372.746094 127.140625 372.746094 125.644531 C 372.746094 124.152344 374.988281 124.152344 374.988281 125.644531 \"/>\n",
       "<path style=\"fill:none;stroke-width:0.75;stroke-linecap:round;stroke-linejoin:round;stroke:rgb(0%,0%,0%);stroke-opacity:1;stroke-miterlimit:10;\" d=\"M 375.253906 118.488281 C 375.253906 119.980469 373.015625 119.980469 373.015625 118.488281 C 373.015625 116.992188 375.253906 116.992188 375.253906 118.488281 \"/>\n",
       "<path style=\"fill:none;stroke-width:0.75;stroke-linecap:round;stroke-linejoin:round;stroke:rgb(0%,0%,0%);stroke-opacity:1;stroke-miterlimit:10;\" d=\"M 375.523438 99.871094 C 375.523438 101.367188 373.28125 101.367188 373.28125 99.871094 C 373.28125 98.378906 375.523438 98.378906 375.523438 99.871094 \"/>\n",
       "<path style=\"fill:none;stroke-width:0.75;stroke-linecap:round;stroke-linejoin:round;stroke:rgb(0%,0%,0%);stroke-opacity:1;stroke-miterlimit:10;\" d=\"M 375.792969 121.550781 C 375.792969 123.046875 373.550781 123.046875 373.550781 121.550781 C 373.550781 120.058594 375.792969 120.058594 375.792969 121.550781 \"/>\n",
       "<path style=\"fill:none;stroke-width:0.75;stroke-linecap:round;stroke-linejoin:round;stroke:rgb(0%,0%,0%);stroke-opacity:1;stroke-miterlimit:10;\" d=\"M 376.058594 151.863281 C 376.058594 153.355469 373.820313 153.355469 373.820313 151.863281 C 373.820313 150.367188 376.058594 150.367188 376.058594 151.863281 \"/>\n",
       "<path style=\"fill:none;stroke-width:0.75;stroke-linecap:round;stroke-linejoin:round;stroke:rgb(0%,0%,0%);stroke-opacity:1;stroke-miterlimit:10;\" d=\"M 376.328125 110.554688 C 376.328125 112.046875 374.085938 112.046875 374.085938 110.554688 C 374.085938 109.058594 376.328125 109.058594 376.328125 110.554688 \"/>\n",
       "<path style=\"fill:none;stroke-width:0.75;stroke-linecap:round;stroke-linejoin:round;stroke:rgb(0%,0%,0%);stroke-opacity:1;stroke-miterlimit:10;\" d=\"M 376.597656 112.355469 C 376.597656 113.847656 374.355469 113.847656 374.355469 112.355469 C 374.355469 110.859375 376.597656 110.859375 376.597656 112.355469 \"/>\n",
       "<path style=\"fill:none;stroke-width:0.75;stroke-linecap:round;stroke-linejoin:round;stroke:rgb(0%,0%,0%);stroke-opacity:1;stroke-miterlimit:10;\" d=\"M 376.867188 109.097656 C 376.867188 110.589844 374.625 110.589844 374.625 109.097656 C 374.625 107.601563 376.867188 107.601563 376.867188 109.097656 \"/>\n",
       "<path style=\"fill:none;stroke-width:0.75;stroke-linecap:round;stroke-linejoin:round;stroke:rgb(0%,0%,0%);stroke-opacity:1;stroke-miterlimit:10;\" d=\"M 377.132813 109.226563 C 377.132813 110.722656 374.894531 110.722656 374.894531 109.226563 C 374.894531 107.734375 377.132813 107.734375 377.132813 109.226563 \"/>\n",
       "<path style=\"fill:none;stroke-width:0.75;stroke-linecap:round;stroke-linejoin:round;stroke:rgb(0%,0%,0%);stroke-opacity:1;stroke-miterlimit:10;\" d=\"M 377.402344 101.453125 C 377.402344 102.949219 375.160156 102.949219 375.160156 101.453125 C 375.160156 99.960938 377.402344 99.960938 377.402344 101.453125 \"/>\n",
       "<path style=\"fill:none;stroke-width:0.75;stroke-linecap:round;stroke-linejoin:round;stroke:rgb(0%,0%,0%);stroke-opacity:1;stroke-miterlimit:10;\" d=\"M 377.671875 105.414063 C 377.671875 106.910156 375.429688 106.910156 375.429688 105.414063 C 375.429688 103.921875 377.671875 103.921875 377.671875 105.414063 \"/>\n",
       "<path style=\"fill:none;stroke-width:0.75;stroke-linecap:round;stroke-linejoin:round;stroke:rgb(0%,0%,0%);stroke-opacity:1;stroke-miterlimit:10;\" d=\"M 377.9375 139.570313 C 377.9375 141.066406 375.699219 141.066406 375.699219 139.570313 C 375.699219 138.078125 377.9375 138.078125 377.9375 139.570313 \"/>\n",
       "<path style=\"fill:none;stroke-width:0.75;stroke-linecap:round;stroke-linejoin:round;stroke:rgb(0%,0%,0%);stroke-opacity:1;stroke-miterlimit:10;\" d=\"M 378.207031 115.4375 C 378.207031 116.933594 375.964844 116.933594 375.964844 115.4375 C 375.964844 113.945313 378.207031 113.945313 378.207031 115.4375 \"/>\n",
       "<path style=\"fill:none;stroke-width:0.75;stroke-linecap:round;stroke-linejoin:round;stroke:rgb(0%,0%,0%);stroke-opacity:1;stroke-miterlimit:10;\" d=\"M 378.476563 115.289063 C 378.476563 116.78125 376.234375 116.78125 376.234375 115.289063 C 376.234375 113.792969 378.476563 113.792969 378.476563 115.289063 \"/>\n",
       "<path style=\"fill:none;stroke-width:0.75;stroke-linecap:round;stroke-linejoin:round;stroke:rgb(0%,0%,0%);stroke-opacity:1;stroke-miterlimit:10;\" d=\"M 378.746094 105.007813 C 378.746094 106.5 376.503906 106.5 376.503906 105.007813 C 376.503906 103.511719 378.746094 103.511719 378.746094 105.007813 \"/>\n",
       "<path style=\"fill:none;stroke-width:0.75;stroke-linecap:round;stroke-linejoin:round;stroke:rgb(0%,0%,0%);stroke-opacity:1;stroke-miterlimit:10;\" d=\"M 379.011719 115.335938 C 379.011719 116.828125 376.773438 116.828125 376.773438 115.335938 C 376.773438 113.839844 379.011719 113.839844 379.011719 115.335938 \"/>\n",
       "<path style=\"fill:none;stroke-width:0.75;stroke-linecap:round;stroke-linejoin:round;stroke:rgb(0%,0%,0%);stroke-opacity:1;stroke-miterlimit:10;\" d=\"M 379.28125 124.058594 C 379.28125 125.550781 377.039063 125.550781 377.039063 124.058594 C 377.039063 122.566406 379.28125 122.566406 379.28125 124.058594 \"/>\n",
       "<path style=\"fill:none;stroke-width:0.75;stroke-linecap:round;stroke-linejoin:round;stroke:rgb(0%,0%,0%);stroke-opacity:1;stroke-miterlimit:10;\" d=\"M 379.550781 113.726563 C 379.550781 115.222656 377.308594 115.222656 377.308594 113.726563 C 377.308594 112.234375 379.550781 112.234375 379.550781 113.726563 \"/>\n",
       "<path style=\"fill:none;stroke-width:0.75;stroke-linecap:round;stroke-linejoin:round;stroke:rgb(0%,0%,0%);stroke-opacity:1;stroke-miterlimit:10;\" d=\"M 379.816406 147.851563 C 379.816406 149.34375 377.578125 149.34375 377.578125 147.851563 C 377.578125 146.355469 379.816406 146.355469 379.816406 147.851563 \"/>\n",
       "<path style=\"fill:none;stroke-width:0.75;stroke-linecap:round;stroke-linejoin:round;stroke:rgb(0%,0%,0%);stroke-opacity:1;stroke-miterlimit:10;\" d=\"M 380.085938 121.15625 C 380.085938 122.648438 377.84375 122.648438 377.84375 121.15625 C 377.84375 119.660156 380.085938 119.660156 380.085938 121.15625 \"/>\n",
       "<path style=\"fill:none;stroke-width:0.75;stroke-linecap:round;stroke-linejoin:round;stroke:rgb(0%,0%,0%);stroke-opacity:1;stroke-miterlimit:10;\" d=\"M 380.355469 117.9375 C 380.355469 119.429688 378.113281 119.429688 378.113281 117.9375 C 378.113281 116.441406 380.355469 116.441406 380.355469 117.9375 \"/>\n",
       "<path style=\"fill:none;stroke-width:0.75;stroke-linecap:round;stroke-linejoin:round;stroke:rgb(0%,0%,0%);stroke-opacity:1;stroke-miterlimit:10;\" d=\"M 380.625 117.105469 C 380.625 118.597656 378.382813 118.597656 378.382813 117.105469 C 378.382813 115.609375 380.625 115.609375 380.625 117.105469 \"/>\n",
       "<path style=\"fill:none;stroke-width:0.75;stroke-linecap:round;stroke-linejoin:round;stroke:rgb(0%,0%,0%);stroke-opacity:1;stroke-miterlimit:10;\" d=\"M 380.890625 113.84375 C 380.890625 115.339844 378.652344 115.339844 378.652344 113.84375 C 378.652344 112.351563 380.890625 112.351563 380.890625 113.84375 \"/>\n",
       "<path style=\"fill:none;stroke-width:0.75;stroke-linecap:round;stroke-linejoin:round;stroke:rgb(0%,0%,0%);stroke-opacity:1;stroke-miterlimit:10;\" d=\"M 381.160156 112.347656 C 381.160156 113.84375 378.917969 113.84375 378.917969 112.347656 C 378.917969 110.855469 381.160156 110.855469 381.160156 112.347656 \"/>\n",
       "<path style=\"fill:none;stroke-width:0.75;stroke-linecap:round;stroke-linejoin:round;stroke:rgb(0%,0%,0%);stroke-opacity:1;stroke-miterlimit:10;\" d=\"M 381.429688 110.578125 C 381.429688 112.070313 379.1875 112.070313 379.1875 110.578125 C 379.1875 109.082031 381.429688 109.082031 381.429688 110.578125 \"/>\n",
       "<path style=\"fill:none;stroke-width:0.75;stroke-linecap:round;stroke-linejoin:round;stroke:rgb(0%,0%,0%);stroke-opacity:1;stroke-miterlimit:10;\" d=\"M 381.695313 155.054688 C 381.695313 156.546875 379.457031 156.546875 379.457031 155.054688 C 379.457031 153.558594 381.695313 153.558594 381.695313 155.054688 \"/>\n",
       "<path style=\"fill:none;stroke-width:0.75;stroke-linecap:round;stroke-linejoin:round;stroke:rgb(0%,0%,0%);stroke-opacity:1;stroke-miterlimit:10;\" d=\"M 381.964844 107.660156 C 381.964844 109.15625 379.722656 109.15625 379.722656 107.660156 C 379.722656 106.167969 381.964844 106.167969 381.964844 107.660156 \"/>\n",
       "<path style=\"fill:none;stroke-width:0.75;stroke-linecap:round;stroke-linejoin:round;stroke:rgb(0%,0%,0%);stroke-opacity:1;stroke-miterlimit:10;\" d=\"M 382.234375 115.886719 C 382.234375 117.382813 379.992188 117.382813 379.992188 115.886719 C 379.992188 114.394531 382.234375 114.394531 382.234375 115.886719 \"/>\n",
       "<path style=\"fill:none;stroke-width:0.75;stroke-linecap:round;stroke-linejoin:round;stroke:rgb(0%,0%,0%);stroke-opacity:1;stroke-miterlimit:10;\" d=\"M 382.503906 120.429688 C 382.503906 121.925781 380.261719 121.925781 380.261719 120.429688 C 380.261719 118.9375 382.503906 118.9375 382.503906 120.429688 \"/>\n",
       "<path style=\"fill:none;stroke-width:0.75;stroke-linecap:round;stroke-linejoin:round;stroke:rgb(0%,0%,0%);stroke-opacity:1;stroke-miterlimit:10;\" d=\"M 382.769531 114.242188 C 382.769531 115.734375 380.53125 115.734375 380.53125 114.242188 C 380.53125 112.746094 382.769531 112.746094 382.769531 114.242188 \"/>\n",
       "<path style=\"fill:none;stroke-width:0.75;stroke-linecap:round;stroke-linejoin:round;stroke:rgb(0%,0%,0%);stroke-opacity:1;stroke-miterlimit:10;\" d=\"M 383.039063 105.234375 C 383.039063 106.730469 380.796875 106.730469 380.796875 105.234375 C 380.796875 103.742188 383.039063 103.742188 383.039063 105.234375 \"/>\n",
       "<path style=\"fill:none;stroke-width:0.75;stroke-linecap:round;stroke-linejoin:round;stroke:rgb(0%,0%,0%);stroke-opacity:1;stroke-miterlimit:10;\" d=\"M 383.308594 116 C 383.308594 117.492188 381.066406 117.492188 381.066406 116 C 381.066406 114.503906 383.308594 114.503906 383.308594 116 \"/>\n",
       "<path style=\"fill:none;stroke-width:0.75;stroke-linecap:round;stroke-linejoin:round;stroke:rgb(0%,0%,0%);stroke-opacity:1;stroke-miterlimit:10;\" d=\"M 383.574219 152.558594 C 383.574219 154.054688 381.335938 154.054688 381.335938 152.558594 C 381.335938 151.066406 383.574219 151.066406 383.574219 152.558594 \"/>\n",
       "<path style=\"fill:none;stroke-width:0.75;stroke-linecap:round;stroke-linejoin:round;stroke:rgb(0%,0%,0%);stroke-opacity:1;stroke-miterlimit:10;\" d=\"M 383.84375 111.859375 C 383.84375 113.355469 381.601563 113.355469 381.601563 111.859375 C 381.601563 110.367188 383.84375 110.367188 383.84375 111.859375 \"/>\n",
       "<path style=\"fill:none;stroke-width:0.75;stroke-linecap:round;stroke-linejoin:round;stroke:rgb(0%,0%,0%);stroke-opacity:1;stroke-miterlimit:10;\" d=\"M 384.113281 108.355469 C 384.113281 109.847656 381.871094 109.847656 381.871094 108.355469 C 381.871094 106.859375 384.113281 106.859375 384.113281 108.355469 \"/>\n",
       "<path style=\"fill:none;stroke-width:0.75;stroke-linecap:round;stroke-linejoin:round;stroke:rgb(0%,0%,0%);stroke-opacity:1;stroke-miterlimit:10;\" d=\"M 384.382813 92.480469 C 384.382813 93.972656 382.140625 93.972656 382.140625 92.480469 C 382.140625 90.988281 384.382813 90.988281 384.382813 92.480469 \"/>\n",
       "<path style=\"fill:none;stroke-width:0.75;stroke-linecap:round;stroke-linejoin:round;stroke:rgb(0%,0%,0%);stroke-opacity:1;stroke-miterlimit:10;\" d=\"M 384.648438 98.074219 C 384.648438 99.570313 382.410156 99.570313 382.410156 98.074219 C 382.410156 96.582031 384.648438 96.582031 384.648438 98.074219 \"/>\n",
       "<path style=\"fill:none;stroke-width:0.75;stroke-linecap:round;stroke-linejoin:round;stroke:rgb(0%,0%,0%);stroke-opacity:1;stroke-miterlimit:10;\" d=\"M 384.917969 123.925781 C 384.917969 125.417969 382.675781 125.417969 382.675781 123.925781 C 382.675781 122.429688 384.917969 122.429688 384.917969 123.925781 \"/>\n",
       "<path style=\"fill:none;stroke-width:0.75;stroke-linecap:round;stroke-linejoin:round;stroke:rgb(0%,0%,0%);stroke-opacity:1;stroke-miterlimit:10;\" d=\"M 385.1875 121.546875 C 385.1875 123.042969 382.945313 123.042969 382.945313 121.546875 C 382.945313 120.054688 385.1875 120.054688 385.1875 121.546875 \"/>\n",
       "<path style=\"fill:none;stroke-width:0.75;stroke-linecap:round;stroke-linejoin:round;stroke:rgb(0%,0%,0%);stroke-opacity:1;stroke-miterlimit:10;\" d=\"M 385.453125 156.066406 C 385.453125 157.558594 383.214844 157.558594 383.214844 156.066406 C 383.214844 154.570313 385.453125 154.570313 385.453125 156.066406 \"/>\n",
       "<path style=\"fill:none;stroke-width:0.75;stroke-linecap:round;stroke-linejoin:round;stroke:rgb(0%,0%,0%);stroke-opacity:1;stroke-miterlimit:10;\" d=\"M 385.722656 104.902344 C 385.722656 106.398438 383.480469 106.398438 383.480469 104.902344 C 383.480469 103.410156 385.722656 103.410156 385.722656 104.902344 \"/>\n",
       "<path style=\"fill:none;stroke-width:0.75;stroke-linecap:round;stroke-linejoin:round;stroke:rgb(0%,0%,0%);stroke-opacity:1;stroke-miterlimit:10;\" d=\"M 385.992188 109.359375 C 385.992188 110.851563 383.75 110.851563 383.75 109.359375 C 383.75 107.863281 385.992188 107.863281 385.992188 109.359375 \"/>\n",
       "<path style=\"fill:none;stroke-width:0.75;stroke-linecap:round;stroke-linejoin:round;stroke:rgb(0%,0%,0%);stroke-opacity:1;stroke-miterlimit:10;\" d=\"M 386.261719 103.121094 C 386.261719 104.613281 384.019531 104.613281 384.019531 103.121094 C 384.019531 101.625 386.261719 101.625 386.261719 103.121094 \"/>\n",
       "<path style=\"fill:none;stroke-width:0.75;stroke-linecap:round;stroke-linejoin:round;stroke:rgb(0%,0%,0%);stroke-opacity:1;stroke-miterlimit:10;\" d=\"M 386.527344 106.28125 C 386.527344 107.777344 384.289063 107.777344 384.289063 106.28125 C 384.289063 104.789063 386.527344 104.789063 386.527344 106.28125 \"/>\n",
       "<path style=\"fill:none;stroke-width:0.75;stroke-linecap:round;stroke-linejoin:round;stroke:rgb(0%,0%,0%);stroke-opacity:1;stroke-miterlimit:10;\" d=\"M 386.796875 116.644531 C 386.796875 118.140625 384.554688 118.140625 384.554688 116.644531 C 384.554688 115.152344 386.796875 115.152344 386.796875 116.644531 \"/>\n",
       "<path style=\"fill:none;stroke-width:0.75;stroke-linecap:round;stroke-linejoin:round;stroke:rgb(0%,0%,0%);stroke-opacity:1;stroke-miterlimit:10;\" d=\"M 387.066406 118.3125 C 387.066406 119.804688 384.824219 119.804688 384.824219 118.3125 C 384.824219 116.816406 387.066406 116.816406 387.066406 118.3125 \"/>\n",
       "<path style=\"fill:none;stroke-width:0.75;stroke-linecap:round;stroke-linejoin:round;stroke:rgb(0%,0%,0%);stroke-opacity:1;stroke-miterlimit:10;\" d=\"M 387.332031 146.207031 C 387.332031 147.699219 385.09375 147.699219 385.09375 146.207031 C 385.09375 144.710938 387.332031 144.710938 387.332031 146.207031 \"/>\n",
       "<path style=\"fill:none;stroke-width:0.75;stroke-linecap:round;stroke-linejoin:round;stroke:rgb(0%,0%,0%);stroke-opacity:1;stroke-miterlimit:10;\" d=\"M 387.601563 114.566406 C 387.601563 116.0625 385.359375 116.0625 385.359375 114.566406 C 385.359375 113.074219 387.601563 113.074219 387.601563 114.566406 \"/>\n",
       "<path style=\"fill:none;stroke-width:0.75;stroke-linecap:round;stroke-linejoin:round;stroke:rgb(0%,0%,0%);stroke-opacity:1;stroke-miterlimit:10;\" d=\"M 387.871094 114.25 C 387.871094 115.746094 385.628906 115.746094 385.628906 114.25 C 385.628906 112.757813 387.871094 112.757813 387.871094 114.25 \"/>\n",
       "<path style=\"fill:none;stroke-width:0.75;stroke-linecap:round;stroke-linejoin:round;stroke:rgb(0%,0%,0%);stroke-opacity:1;stroke-miterlimit:10;\" d=\"M 388.140625 103.40625 C 388.140625 104.898438 385.898438 104.898438 385.898438 103.40625 C 385.898438 101.910156 388.140625 101.910156 388.140625 103.40625 \"/>\n",
       "<path style=\"fill:none;stroke-width:0.75;stroke-linecap:round;stroke-linejoin:round;stroke:rgb(0%,0%,0%);stroke-opacity:1;stroke-miterlimit:10;\" d=\"M 388.40625 112.285156 C 388.40625 113.777344 386.167969 113.777344 386.167969 112.285156 C 386.167969 110.789063 388.40625 110.789063 388.40625 112.285156 \"/>\n",
       "<path style=\"fill:none;stroke-width:0.75;stroke-linecap:round;stroke-linejoin:round;stroke:rgb(0%,0%,0%);stroke-opacity:1;stroke-miterlimit:10;\" d=\"M 388.675781 99.714844 C 388.675781 101.210938 386.433594 101.210938 386.433594 99.714844 C 386.433594 98.222656 388.675781 98.222656 388.675781 99.714844 \"/>\n",
       "<path style=\"fill:none;stroke-width:0.75;stroke-linecap:round;stroke-linejoin:round;stroke:rgb(0%,0%,0%);stroke-opacity:1;stroke-miterlimit:10;\" d=\"M 388.945313 115.019531 C 388.945313 116.511719 386.703125 116.511719 386.703125 115.019531 C 386.703125 113.523438 388.945313 113.523438 388.945313 115.019531 \"/>\n",
       "<path style=\"fill:none;stroke-width:0.75;stroke-linecap:round;stroke-linejoin:round;stroke:rgb(0%,0%,0%);stroke-opacity:1;stroke-miterlimit:10;\" d=\"M 389.210938 137.25 C 389.210938 138.746094 386.972656 138.746094 386.972656 137.25 C 386.972656 135.757813 389.210938 135.757813 389.210938 137.25 \"/>\n",
       "<path style=\"fill:none;stroke-width:0.75;stroke-linecap:round;stroke-linejoin:round;stroke:rgb(0%,0%,0%);stroke-opacity:1;stroke-miterlimit:10;\" d=\"M 389.480469 102.042969 C 389.480469 103.535156 387.238281 103.535156 387.238281 102.042969 C 387.238281 100.546875 389.480469 100.546875 389.480469 102.042969 \"/>\n",
       "<path style=\"fill:none;stroke-width:0.75;stroke-linecap:round;stroke-linejoin:round;stroke:rgb(0%,0%,0%);stroke-opacity:1;stroke-miterlimit:10;\" d=\"M 389.75 138.050781 C 389.75 139.546875 387.507813 139.546875 387.507813 138.050781 C 387.507813 136.558594 389.75 136.558594 389.75 138.050781 \"/>\n",
       "<path style=\"fill:none;stroke-width:0.75;stroke-linecap:round;stroke-linejoin:round;stroke:rgb(0%,0%,0%);stroke-opacity:1;stroke-miterlimit:10;\" d=\"M 390.019531 115.160156 C 390.019531 116.652344 387.777344 116.652344 387.777344 115.160156 C 387.777344 113.664063 390.019531 113.664063 390.019531 115.160156 \"/>\n",
       "<path style=\"fill:none;stroke-width:0.75;stroke-linecap:round;stroke-linejoin:round;stroke:rgb(0%,0%,0%);stroke-opacity:1;stroke-miterlimit:10;\" d=\"M 390.285156 129.378906 C 390.285156 130.871094 388.046875 130.871094 388.046875 129.378906 C 388.046875 127.882813 390.285156 127.882813 390.285156 129.378906 \"/>\n",
       "<path style=\"fill:none;stroke-width:0.75;stroke-linecap:round;stroke-linejoin:round;stroke:rgb(0%,0%,0%);stroke-opacity:1;stroke-miterlimit:10;\" d=\"M 390.554688 108.117188 C 390.554688 109.613281 388.3125 109.613281 388.3125 108.117188 C 388.3125 106.625 390.554688 106.625 390.554688 108.117188 \"/>\n",
       "<path style=\"fill:none;stroke-width:0.75;stroke-linecap:round;stroke-linejoin:round;stroke:rgb(0%,0%,0%);stroke-opacity:1;stroke-miterlimit:10;\" d=\"M 390.824219 126.191406 C 390.824219 127.6875 388.582031 127.6875 388.582031 126.191406 C 388.582031 124.699219 390.824219 124.699219 390.824219 126.191406 \"/>\n",
       "<path style=\"fill:none;stroke-width:0.75;stroke-linecap:round;stroke-linejoin:round;stroke:rgb(0%,0%,0%);stroke-opacity:1;stroke-miterlimit:10;\" d=\"M 391.089844 149.183594 C 391.089844 150.675781 388.851563 150.675781 388.851563 149.183594 C 388.851563 147.6875 391.089844 147.6875 391.089844 149.183594 \"/>\n",
       "<path style=\"fill:none;stroke-width:0.75;stroke-linecap:round;stroke-linejoin:round;stroke:rgb(0%,0%,0%);stroke-opacity:1;stroke-miterlimit:10;\" d=\"M 391.359375 106.449219 C 391.359375 107.945313 389.117188 107.945313 389.117188 106.449219 C 389.117188 104.957031 391.359375 104.957031 391.359375 106.449219 \"/>\n",
       "<path style=\"fill:none;stroke-width:0.75;stroke-linecap:round;stroke-linejoin:round;stroke:rgb(0%,0%,0%);stroke-opacity:1;stroke-miterlimit:10;\" d=\"M 391.628906 111.429688 C 391.628906 112.921875 389.386719 112.921875 389.386719 111.429688 C 389.386719 109.933594 391.628906 109.933594 391.628906 111.429688 \"/>\n",
       "<path style=\"fill:none;stroke-width:0.75;stroke-linecap:round;stroke-linejoin:round;stroke:rgb(0%,0%,0%);stroke-opacity:1;stroke-miterlimit:10;\" d=\"M 391.898438 109.121094 C 391.898438 110.617188 389.65625 110.617188 389.65625 109.121094 C 389.65625 107.628906 391.898438 107.628906 391.898438 109.121094 \"/>\n",
       "<path style=\"fill:none;stroke-width:0.75;stroke-linecap:round;stroke-linejoin:round;stroke:rgb(0%,0%,0%);stroke-opacity:1;stroke-miterlimit:10;\" d=\"M 392.164063 111.273438 C 392.164063 112.769531 389.925781 112.769531 389.925781 111.273438 C 389.925781 109.78125 392.164063 109.78125 392.164063 111.273438 \"/>\n",
       "<path style=\"fill:none;stroke-width:0.75;stroke-linecap:round;stroke-linejoin:round;stroke:rgb(0%,0%,0%);stroke-opacity:1;stroke-miterlimit:10;\" d=\"M 392.433594 149.148438 C 392.433594 150.640625 390.191406 150.640625 390.191406 149.148438 C 390.191406 147.652344 392.433594 147.652344 392.433594 149.148438 \"/>\n",
       "<path style=\"fill:none;stroke-width:0.75;stroke-linecap:round;stroke-linejoin:round;stroke:rgb(0%,0%,0%);stroke-opacity:1;stroke-miterlimit:10;\" d=\"M 392.703125 89.332031 C 392.703125 90.828125 390.460938 90.828125 390.460938 89.332031 C 390.460938 87.839844 392.703125 87.839844 392.703125 89.332031 \"/>\n",
       "<path style=\"fill:none;stroke-width:0.75;stroke-linecap:round;stroke-linejoin:round;stroke:rgb(0%,0%,0%);stroke-opacity:1;stroke-miterlimit:10;\" d=\"M 392.96875 142.628906 C 392.96875 144.125 390.730469 144.125 390.730469 142.628906 C 390.730469 141.136719 392.96875 141.136719 392.96875 142.628906 \"/>\n",
       "<path style=\"fill:none;stroke-width:0.75;stroke-linecap:round;stroke-linejoin:round;stroke:rgb(0%,0%,0%);stroke-opacity:1;stroke-miterlimit:10;\" d=\"M 393.238281 108.015625 C 393.238281 109.507813 390.996094 109.507813 390.996094 108.015625 C 390.996094 106.523438 393.238281 106.523438 393.238281 108.015625 \"/>\n",
       "<path style=\"fill:none;stroke-width:0.75;stroke-linecap:round;stroke-linejoin:round;stroke:rgb(0%,0%,0%);stroke-opacity:1;stroke-miterlimit:10;\" d=\"M 393.507813 111.214844 C 393.507813 112.707031 391.265625 112.707031 391.265625 111.214844 C 391.265625 109.71875 393.507813 109.71875 393.507813 111.214844 \"/>\n",
       "<path style=\"fill:none;stroke-width:0.75;stroke-linecap:round;stroke-linejoin:round;stroke:rgb(0%,0%,0%);stroke-opacity:1;stroke-miterlimit:10;\" d=\"M 393.777344 90.886719 C 393.777344 92.382813 391.535156 92.382813 391.535156 90.886719 C 391.535156 89.394531 393.777344 89.394531 393.777344 90.886719 \"/>\n",
       "<path style=\"fill:none;stroke-width:0.75;stroke-linecap:round;stroke-linejoin:round;stroke:rgb(0%,0%,0%);stroke-opacity:1;stroke-miterlimit:10;\" d=\"M 394.042969 106.265625 C 394.042969 107.757813 391.804688 107.757813 391.804688 106.265625 C 391.804688 104.769531 394.042969 104.769531 394.042969 106.265625 \"/>\n",
       "<path style=\"fill:none;stroke-width:0.75;stroke-linecap:round;stroke-linejoin:round;stroke:rgb(0%,0%,0%);stroke-opacity:1;stroke-miterlimit:10;\" d=\"M 394.3125 101.355469 C 394.3125 102.847656 392.070313 102.847656 392.070313 101.355469 C 392.070313 99.863281 394.3125 99.863281 394.3125 101.355469 \"/>\n",
       "<path style=\"fill:none;stroke-width:0.75;stroke-linecap:round;stroke-linejoin:round;stroke:rgb(0%,0%,0%);stroke-opacity:1;stroke-miterlimit:10;\" d=\"M 394.582031 100.855469 C 394.582031 102.347656 392.339844 102.347656 392.339844 100.855469 C 392.339844 99.359375 394.582031 99.359375 394.582031 100.855469 \"/>\n",
       "<path style=\"fill:none;stroke-width:0.75;stroke-linecap:round;stroke-linejoin:round;stroke:rgb(0%,0%,0%);stroke-opacity:1;stroke-miterlimit:10;\" d=\"M 394.847656 150.601563 C 394.847656 152.09375 392.609375 152.09375 392.609375 150.601563 C 392.609375 149.105469 394.847656 149.105469 394.847656 150.601563 \"/>\n",
       "<path style=\"fill:none;stroke-width:0.75;stroke-linecap:round;stroke-linejoin:round;stroke:rgb(0%,0%,0%);stroke-opacity:1;stroke-miterlimit:10;\" d=\"M 395.117188 101.640625 C 395.117188 103.132813 392.875 103.132813 392.875 101.640625 C 392.875 100.144531 395.117188 100.144531 395.117188 101.640625 \"/>\n",
       "<path style=\"fill:none;stroke-width:0.75;stroke-linecap:round;stroke-linejoin:round;stroke:rgb(0%,0%,0%);stroke-opacity:1;stroke-miterlimit:10;\" d=\"M 395.386719 104.40625 C 395.386719 105.902344 393.144531 105.902344 393.144531 104.40625 C 393.144531 102.914063 395.386719 102.914063 395.386719 104.40625 \"/>\n",
       "<path style=\"fill:none;stroke-width:0.75;stroke-linecap:round;stroke-linejoin:round;stroke:rgb(0%,0%,0%);stroke-opacity:1;stroke-miterlimit:10;\" d=\"M 395.65625 95.425781 C 395.65625 96.921875 393.414063 96.921875 393.414063 95.425781 C 393.414063 93.933594 395.65625 93.933594 395.65625 95.425781 \"/>\n",
       "<path style=\"fill:none;stroke-width:0.75;stroke-linecap:round;stroke-linejoin:round;stroke:rgb(0%,0%,0%);stroke-opacity:1;stroke-miterlimit:10;\" d=\"M 395.921875 106.804688 C 395.921875 108.296875 393.683594 108.296875 393.683594 106.804688 C 393.683594 105.3125 395.921875 105.3125 395.921875 106.804688 \"/>\n",
       "<path style=\"fill:none;stroke-width:0.75;stroke-linecap:round;stroke-linejoin:round;stroke:rgb(0%,0%,0%);stroke-opacity:1;stroke-miterlimit:10;\" d=\"M 396.191406 97.96875 C 396.191406 99.464844 393.949219 99.464844 393.949219 97.96875 C 393.949219 96.476563 396.191406 96.476563 396.191406 97.96875 \"/>\n",
       "<path style=\"fill:none;stroke-width:0.75;stroke-linecap:round;stroke-linejoin:round;stroke:rgb(0%,0%,0%);stroke-opacity:1;stroke-miterlimit:10;\" d=\"M 396.460938 107.699219 C 396.460938 109.195313 394.21875 109.195313 394.21875 107.699219 C 394.21875 106.207031 396.460938 106.207031 396.460938 107.699219 \"/>\n",
       "<path style=\"fill:none;stroke-width:0.75;stroke-linecap:round;stroke-linejoin:round;stroke:rgb(0%,0%,0%);stroke-opacity:1;stroke-miterlimit:10;\" d=\"M 396.726563 148.203125 C 396.726563 149.695313 394.488281 149.695313 394.488281 148.203125 C 394.488281 146.710938 396.726563 146.710938 396.726563 148.203125 \"/>\n",
       "<path style=\"fill:none;stroke-width:0.75;stroke-linecap:round;stroke-linejoin:round;stroke:rgb(0%,0%,0%);stroke-opacity:1;stroke-miterlimit:10;\" d=\"M 396.996094 96.414063 C 396.996094 97.910156 394.753906 97.910156 394.753906 96.414063 C 394.753906 94.921875 396.996094 94.921875 396.996094 96.414063 \"/>\n",
       "<path style=\"fill:none;stroke-width:0.75;stroke-linecap:round;stroke-linejoin:round;stroke:rgb(0%,0%,0%);stroke-opacity:1;stroke-miterlimit:10;\" d=\"M 397.265625 102.605469 C 397.265625 104.097656 395.023438 104.097656 395.023438 102.605469 C 395.023438 101.113281 397.265625 101.113281 397.265625 102.605469 \"/>\n",
       "<path style=\"fill:none;stroke-width:0.75;stroke-linecap:round;stroke-linejoin:round;stroke:rgb(0%,0%,0%);stroke-opacity:1;stroke-miterlimit:10;\" d=\"M 397.535156 112.320313 C 397.535156 113.8125 395.292969 113.8125 395.292969 112.320313 C 395.292969 110.824219 397.535156 110.824219 397.535156 112.320313 \"/>\n",
       "<path style=\"fill:none;stroke-width:0.75;stroke-linecap:round;stroke-linejoin:round;stroke:rgb(0%,0%,0%);stroke-opacity:1;stroke-miterlimit:10;\" d=\"M 397.800781 111.414063 C 397.800781 112.90625 395.5625 112.90625 395.5625 111.414063 C 395.5625 109.917969 397.800781 109.917969 397.800781 111.414063 \"/>\n",
       "<path style=\"fill:none;stroke-width:0.75;stroke-linecap:round;stroke-linejoin:round;stroke:rgb(0%,0%,0%);stroke-opacity:1;stroke-miterlimit:10;\" d=\"M 398.070313 106.960938 C 398.070313 108.453125 395.828125 108.453125 395.828125 106.960938 C 395.828125 105.464844 398.070313 105.464844 398.070313 106.960938 \"/>\n",
       "<path style=\"fill:none;stroke-width:0.75;stroke-linecap:round;stroke-linejoin:round;stroke:rgb(0%,0%,0%);stroke-opacity:1;stroke-miterlimit:10;\" d=\"M 398.339844 112.394531 C 398.339844 113.890625 396.097656 113.890625 396.097656 112.394531 C 396.097656 110.902344 398.339844 110.902344 398.339844 112.394531 \"/>\n",
       "<path style=\"fill:none;stroke-width:0.75;stroke-linecap:round;stroke-linejoin:round;stroke:rgb(0%,0%,0%);stroke-opacity:1;stroke-miterlimit:10;\" d=\"M 398.605469 142.273438 C 398.605469 143.765625 396.367188 143.765625 396.367188 142.273438 C 396.367188 140.777344 398.605469 140.777344 398.605469 142.273438 \"/>\n",
       "<path style=\"fill:none;stroke-width:0.75;stroke-linecap:round;stroke-linejoin:round;stroke:rgb(0%,0%,0%);stroke-opacity:1;stroke-miterlimit:10;\" d=\"M 398.875 97.042969 C 398.875 98.535156 396.632813 98.535156 396.632813 97.042969 C 396.632813 95.550781 398.875 95.550781 398.875 97.042969 \"/>\n",
       "<path style=\"fill:none;stroke-width:0.75;stroke-linecap:round;stroke-linejoin:round;stroke:rgb(0%,0%,0%);stroke-opacity:1;stroke-miterlimit:10;\" d=\"M 399.144531 110.078125 C 399.144531 111.570313 396.902344 111.570313 396.902344 110.078125 C 396.902344 108.582031 399.144531 108.582031 399.144531 110.078125 \"/>\n",
       "<path style=\"fill:none;stroke-width:0.75;stroke-linecap:round;stroke-linejoin:round;stroke:rgb(0%,0%,0%);stroke-opacity:1;stroke-miterlimit:10;\" d=\"M 399.414063 98.75 C 399.414063 100.242188 397.171875 100.242188 397.171875 98.75 C 397.171875 97.253906 399.414063 97.253906 399.414063 98.75 \"/>\n",
       "<path style=\"fill:none;stroke-width:0.75;stroke-linecap:round;stroke-linejoin:round;stroke:rgb(0%,0%,0%);stroke-opacity:1;stroke-miterlimit:10;\" d=\"M 399.679688 102.515625 C 399.679688 104.007813 397.441406 104.007813 397.441406 102.515625 C 397.441406 101.019531 399.679688 101.019531 399.679688 102.515625 \"/>\n",
       "<path style=\"fill:none;stroke-width:0.75;stroke-linecap:round;stroke-linejoin:round;stroke:rgb(0%,0%,0%);stroke-opacity:1;stroke-miterlimit:10;\" d=\"M 399.949219 89.925781 C 399.949219 91.421875 397.707031 91.421875 397.707031 89.925781 C 397.707031 88.433594 399.949219 88.433594 399.949219 89.925781 \"/>\n",
       "<path style=\"fill:none;stroke-width:0.75;stroke-linecap:round;stroke-linejoin:round;stroke:rgb(0%,0%,0%);stroke-opacity:1;stroke-miterlimit:10;\" d=\"M 400.21875 106.15625 C 400.21875 107.648438 397.976563 107.648438 397.976563 106.15625 C 397.976563 104.660156 400.21875 104.660156 400.21875 106.15625 \"/>\n",
       "<path style=\"fill:none;stroke-width:0.75;stroke-linecap:round;stroke-linejoin:round;stroke:rgb(0%,0%,0%);stroke-opacity:1;stroke-miterlimit:10;\" d=\"M 400.484375 147.953125 C 400.484375 149.445313 398.246094 149.445313 398.246094 147.953125 C 398.246094 146.460938 400.484375 146.460938 400.484375 147.953125 \"/>\n",
       "<path style=\"fill:none;stroke-width:0.75;stroke-linecap:round;stroke-linejoin:round;stroke:rgb(0%,0%,0%);stroke-opacity:1;stroke-miterlimit:10;\" d=\"M 400.753906 96.941406 C 400.753906 98.4375 398.511719 98.4375 398.511719 96.941406 C 398.511719 95.449219 400.753906 95.449219 400.753906 96.941406 \"/>\n",
       "<path style=\"fill:none;stroke-width:0.75;stroke-linecap:round;stroke-linejoin:round;stroke:rgb(0%,0%,0%);stroke-opacity:1;stroke-miterlimit:10;\" d=\"M 401.023438 102.78125 C 401.023438 104.277344 398.78125 104.277344 398.78125 102.78125 C 398.78125 101.289063 401.023438 101.289063 401.023438 102.78125 \"/>\n",
       "<path style=\"fill:none;stroke-width:0.75;stroke-linecap:round;stroke-linejoin:round;stroke:rgb(0%,0%,0%);stroke-opacity:1;stroke-miterlimit:10;\" d=\"M 401.292969 101.894531 C 401.292969 103.390625 399.050781 103.390625 399.050781 101.894531 C 399.050781 100.402344 401.292969 100.402344 401.292969 101.894531 \"/>\n",
       "<path style=\"fill:none;stroke-width:0.75;stroke-linecap:round;stroke-linejoin:round;stroke:rgb(0%,0%,0%);stroke-opacity:1;stroke-miterlimit:10;\" d=\"M 401.558594 115.710938 C 401.558594 117.203125 399.320313 117.203125 399.320313 115.710938 C 399.320313 114.214844 401.558594 114.214844 401.558594 115.710938 \"/>\n",
       "<path style=\"fill:none;stroke-width:0.75;stroke-linecap:round;stroke-linejoin:round;stroke:rgb(0%,0%,0%);stroke-opacity:1;stroke-miterlimit:10;\" d=\"M 401.828125 100.847656 C 401.828125 102.339844 399.585938 102.339844 399.585938 100.847656 C 399.585938 99.351563 401.828125 99.351563 401.828125 100.847656 \"/>\n",
       "<path style=\"fill:none;stroke-width:0.75;stroke-linecap:round;stroke-linejoin:round;stroke:rgb(0%,0%,0%);stroke-opacity:1;stroke-miterlimit:10;\" d=\"M 402.097656 115.421875 C 402.097656 116.917969 399.855469 116.917969 399.855469 115.421875 C 399.855469 113.929688 402.097656 113.929688 402.097656 115.421875 \"/>\n",
       "<path style=\"fill:none;stroke-width:0.75;stroke-linecap:round;stroke-linejoin:round;stroke:rgb(0%,0%,0%);stroke-opacity:1;stroke-miterlimit:10;\" d=\"M 402.363281 148.054688 C 402.363281 149.546875 400.125 149.546875 400.125 148.054688 C 400.125 146.558594 402.363281 146.558594 402.363281 148.054688 \"/>\n",
       "<path style=\"fill:none;stroke-width:0.75;stroke-linecap:round;stroke-linejoin:round;stroke:rgb(0%,0%,0%);stroke-opacity:1;stroke-miterlimit:10;\" d=\"M 402.632813 104.296875 C 402.632813 105.792969 400.390625 105.792969 400.390625 104.296875 C 400.390625 102.804688 402.632813 102.804688 402.632813 104.296875 \"/>\n",
       "<path style=\"fill:none;stroke-width:0.75;stroke-linecap:round;stroke-linejoin:round;stroke:rgb(0%,0%,0%);stroke-opacity:1;stroke-miterlimit:10;\" d=\"M 402.902344 102.691406 C 402.902344 104.1875 400.660156 104.1875 400.660156 102.691406 C 400.660156 101.199219 402.902344 101.199219 402.902344 102.691406 \"/>\n",
       "<path style=\"fill:none;stroke-width:0.75;stroke-linecap:round;stroke-linejoin:round;stroke:rgb(0%,0%,0%);stroke-opacity:1;stroke-miterlimit:10;\" d=\"M 403.167969 104.320313 C 403.167969 105.8125 400.929688 105.8125 400.929688 104.320313 C 400.929688 102.824219 403.167969 102.824219 403.167969 104.320313 \"/>\n",
       "<path style=\"fill:none;stroke-width:0.75;stroke-linecap:round;stroke-linejoin:round;stroke:rgb(0%,0%,0%);stroke-opacity:1;stroke-miterlimit:10;\" d=\"M 403.4375 112.917969 C 403.4375 114.414063 401.199219 114.414063 401.199219 112.917969 C 401.199219 111.425781 403.4375 111.425781 403.4375 112.917969 \"/>\n",
       "<path style=\"fill:none;stroke-width:0.75;stroke-linecap:round;stroke-linejoin:round;stroke:rgb(0%,0%,0%);stroke-opacity:1;stroke-miterlimit:10;\" d=\"M 403.707031 115.980469 C 403.707031 117.476563 401.464844 117.476563 401.464844 115.980469 C 401.464844 114.488281 403.707031 114.488281 403.707031 115.980469 \"/>\n",
       "<path style=\"fill:none;stroke-width:0.75;stroke-linecap:round;stroke-linejoin:round;stroke:rgb(0%,0%,0%);stroke-opacity:1;stroke-miterlimit:10;\" d=\"M 403.976563 110.359375 C 403.976563 111.855469 401.734375 111.855469 401.734375 110.359375 C 401.734375 108.867188 403.976563 108.867188 403.976563 110.359375 \"/>\n",
       "<path style=\"fill:none;stroke-width:0.75;stroke-linecap:round;stroke-linejoin:round;stroke:rgb(0%,0%,0%);stroke-opacity:1;stroke-miterlimit:10;\" d=\"M 404.242188 141.703125 C 404.242188 143.195313 402.003906 143.195313 402.003906 141.703125 C 402.003906 140.207031 404.242188 140.207031 404.242188 141.703125 \"/>\n",
       "<path style=\"fill:none;stroke-width:0.75;stroke-linecap:round;stroke-linejoin:round;stroke:rgb(0%,0%,0%);stroke-opacity:1;stroke-miterlimit:10;\" d=\"M 404.511719 112.117188 C 404.511719 113.613281 402.269531 113.613281 402.269531 112.117188 C 402.269531 110.625 404.511719 110.625 404.511719 112.117188 \"/>\n",
       "<path style=\"fill:none;stroke-width:0.75;stroke-linecap:round;stroke-linejoin:round;stroke:rgb(0%,0%,0%);stroke-opacity:1;stroke-miterlimit:10;\" d=\"M 404.78125 112.382813 C 404.78125 113.875 402.539063 113.875 402.539063 112.382813 C 402.539063 110.886719 404.78125 110.886719 404.78125 112.382813 \"/>\n",
       "<path style=\"fill:none;stroke-width:0.75;stroke-linecap:round;stroke-linejoin:round;stroke:rgb(0%,0%,0%);stroke-opacity:1;stroke-miterlimit:10;\" d=\"M 405.046875 112.628906 C 405.046875 114.125 402.808594 114.125 402.808594 112.628906 C 402.808594 111.136719 405.046875 111.136719 405.046875 112.628906 \"/>\n",
       "<path style=\"fill:none;stroke-width:0.75;stroke-linecap:round;stroke-linejoin:round;stroke:rgb(0%,0%,0%);stroke-opacity:1;stroke-miterlimit:10;\" d=\"M 405.316406 117.296875 C 405.316406 118.792969 403.078125 118.792969 403.078125 117.296875 C 403.078125 115.804688 405.316406 115.804688 405.316406 117.296875 \"/>\n",
       "<path style=\"fill:none;stroke-width:0.75;stroke-linecap:round;stroke-linejoin:round;stroke:rgb(0%,0%,0%);stroke-opacity:1;stroke-miterlimit:10;\" d=\"M 405.585938 119.445313 C 405.585938 120.9375 403.34375 120.9375 403.34375 119.445313 C 403.34375 117.949219 405.585938 117.949219 405.585938 119.445313 \"/>\n",
       "<path style=\"fill:none;stroke-width:0.75;stroke-linecap:round;stroke-linejoin:round;stroke:rgb(0%,0%,0%);stroke-opacity:1;stroke-miterlimit:10;\" d=\"M 405.855469 109.625 C 405.855469 111.117188 403.613281 111.117188 403.613281 109.625 C 403.613281 108.128906 405.855469 108.128906 405.855469 109.625 \"/>\n",
       "<path style=\"fill:none;stroke-width:0.75;stroke-linecap:round;stroke-linejoin:round;stroke:rgb(0%,0%,0%);stroke-opacity:1;stroke-miterlimit:10;\" d=\"M 406.121094 146.078125 C 406.121094 147.574219 403.882813 147.574219 403.882813 146.078125 C 403.882813 144.585938 406.121094 144.585938 406.121094 146.078125 \"/>\n",
       "<path style=\"fill:none;stroke-width:0.75;stroke-linecap:round;stroke-linejoin:round;stroke:rgb(0%,0%,0%);stroke-opacity:1;stroke-miterlimit:10;\" d=\"M 406.390625 114.984375 C 406.390625 116.480469 404.148438 116.480469 404.148438 114.984375 C 404.148438 113.492188 406.390625 113.492188 406.390625 114.984375 \"/>\n",
       "<path style=\"fill:none;stroke-width:0.75;stroke-linecap:round;stroke-linejoin:round;stroke:rgb(0%,0%,0%);stroke-opacity:1;stroke-miterlimit:10;\" d=\"M 406.660156 119.265625 C 406.660156 120.761719 404.417969 120.761719 404.417969 119.265625 C 404.417969 117.773438 406.660156 117.773438 406.660156 119.265625 \"/>\n",
       "<path style=\"fill:none;stroke-width:0.75;stroke-linecap:round;stroke-linejoin:round;stroke:rgb(0%,0%,0%);stroke-opacity:1;stroke-miterlimit:10;\" d=\"M 406.925781 120.941406 C 406.925781 122.433594 404.6875 122.433594 404.6875 120.941406 C 404.6875 119.445313 406.925781 119.445313 406.925781 120.941406 \"/>\n",
       "<path style=\"fill:none;stroke-width:0.75;stroke-linecap:round;stroke-linejoin:round;stroke:rgb(0%,0%,0%);stroke-opacity:1;stroke-miterlimit:10;\" d=\"M 407.195313 128.46875 C 407.195313 129.964844 404.953125 129.964844 404.953125 128.46875 C 404.953125 126.976563 407.195313 126.976563 407.195313 128.46875 \"/>\n",
       "<path style=\"fill:none;stroke-width:0.75;stroke-linecap:round;stroke-linejoin:round;stroke:rgb(0%,0%,0%);stroke-opacity:1;stroke-miterlimit:10;\" d=\"M 407.464844 110.441406 C 407.464844 111.933594 405.222656 111.933594 405.222656 110.441406 C 405.222656 108.945313 407.464844 108.945313 407.464844 110.441406 \"/>\n",
       "<path style=\"fill:none;stroke-width:0.75;stroke-linecap:round;stroke-linejoin:round;stroke:rgb(0%,0%,0%);stroke-opacity:1;stroke-miterlimit:10;\" d=\"M 407.734375 122.378906 C 407.734375 123.871094 405.492188 123.871094 405.492188 122.378906 C 405.492188 120.882813 407.734375 120.882813 407.734375 122.378906 \"/>\n",
       "<path style=\"fill:none;stroke-width:0.75;stroke-linecap:round;stroke-linejoin:round;stroke:rgb(0%,0%,0%);stroke-opacity:1;stroke-miterlimit:10;\" d=\"M 408 151.511719 C 408 153.007813 405.761719 153.007813 405.761719 151.511719 C 405.761719 150.019531 408 150.019531 408 151.511719 \"/>\n",
       "<path style=\"fill:none;stroke-width:0.75;stroke-linecap:round;stroke-linejoin:round;stroke:rgb(0%,0%,0%);stroke-opacity:1;stroke-miterlimit:10;\" d=\"M 408.269531 103.335938 C 408.269531 104.828125 406.027344 104.828125 406.027344 103.335938 C 406.027344 101.839844 408.269531 101.839844 408.269531 103.335938 \"/>\n",
       "<path style=\"fill:none;stroke-width:0.75;stroke-linecap:round;stroke-linejoin:round;stroke:rgb(0%,0%,0%);stroke-opacity:1;stroke-miterlimit:10;\" d=\"M 408.539063 108.742188 C 408.539063 110.234375 406.296875 110.234375 406.296875 108.742188 C 406.296875 107.246094 408.539063 107.246094 408.539063 108.742188 \"/>\n",
       "<path style=\"fill:none;stroke-width:0.75;stroke-linecap:round;stroke-linejoin:round;stroke:rgb(0%,0%,0%);stroke-opacity:1;stroke-miterlimit:10;\" d=\"M 408.804688 100.773438 C 408.804688 102.265625 406.566406 102.265625 406.566406 100.773438 C 406.566406 99.277344 408.804688 99.277344 408.804688 100.773438 \"/>\n",
       "<path style=\"fill:none;stroke-width:0.75;stroke-linecap:round;stroke-linejoin:round;stroke:rgb(0%,0%,0%);stroke-opacity:1;stroke-miterlimit:10;\" d=\"M 409.074219 101.136719 C 409.074219 102.632813 406.832031 102.632813 406.832031 101.136719 C 406.832031 99.644531 409.074219 99.644531 409.074219 101.136719 \"/>\n",
       "<path style=\"fill:none;stroke-width:0.75;stroke-linecap:round;stroke-linejoin:round;stroke:rgb(0%,0%,0%);stroke-opacity:1;stroke-miterlimit:10;\" d=\"M 409.34375 108.089844 C 409.34375 109.582031 407.101563 109.582031 407.101563 108.089844 C 407.101563 106.59375 409.34375 106.59375 409.34375 108.089844 \"/>\n",
       "<path style=\"fill:none;stroke-width:0.75;stroke-linecap:round;stroke-linejoin:round;stroke:rgb(0%,0%,0%);stroke-opacity:1;stroke-miterlimit:10;\" d=\"M 409.613281 114.832031 C 409.613281 116.328125 407.371094 116.328125 407.371094 114.832031 C 407.371094 113.339844 409.613281 113.339844 409.613281 114.832031 \"/>\n",
       "<path style=\"fill:none;stroke-width:0.75;stroke-linecap:round;stroke-linejoin:round;stroke:rgb(0%,0%,0%);stroke-opacity:1;stroke-miterlimit:10;\" d=\"M 409.878906 149.785156 C 409.878906 151.277344 407.640625 151.277344 407.640625 149.785156 C 407.640625 148.289063 409.878906 148.289063 409.878906 149.785156 \"/>\n",
       "<path style=\"fill:none;stroke-width:0.75;stroke-linecap:round;stroke-linejoin:round;stroke:rgb(0%,0%,0%);stroke-opacity:1;stroke-miterlimit:10;\" d=\"M 410.148438 100.445313 C 410.148438 101.941406 407.90625 101.941406 407.90625 100.445313 C 407.90625 98.953125 410.148438 98.953125 410.148438 100.445313 \"/>\n",
       "<path style=\"fill:none;stroke-width:0.75;stroke-linecap:round;stroke-linejoin:round;stroke:rgb(0%,0%,0%);stroke-opacity:1;stroke-miterlimit:10;\" d=\"M 410.417969 110.132813 C 410.417969 111.625 408.175781 111.625 408.175781 110.132813 C 408.175781 108.640625 410.417969 108.640625 410.417969 110.132813 \"/>\n",
       "<path style=\"fill:none;stroke-width:0.75;stroke-linecap:round;stroke-linejoin:round;stroke:rgb(0%,0%,0%);stroke-opacity:1;stroke-miterlimit:10;\" d=\"M 410.683594 120.144531 C 410.683594 121.640625 408.445313 121.640625 408.445313 120.144531 C 408.445313 118.652344 410.683594 118.652344 410.683594 120.144531 \"/>\n",
       "<path style=\"fill:none;stroke-width:0.75;stroke-linecap:round;stroke-linejoin:round;stroke:rgb(0%,0%,0%);stroke-opacity:1;stroke-miterlimit:10;\" d=\"M 410.953125 105.515625 C 410.953125 107.007813 408.710938 107.007813 408.710938 105.515625 C 408.710938 104.019531 410.953125 104.019531 410.953125 105.515625 \"/>\n",
       "<path style=\"fill:none;stroke-width:0.75;stroke-linecap:round;stroke-linejoin:round;stroke:rgb(0%,0%,0%);stroke-opacity:1;stroke-miterlimit:10;\" d=\"M 411.222656 100.902344 C 411.222656 102.394531 408.980469 102.394531 408.980469 100.902344 C 408.980469 99.40625 411.222656 99.40625 411.222656 100.902344 \"/>\n",
       "<path style=\"fill:none;stroke-width:0.75;stroke-linecap:round;stroke-linejoin:round;stroke:rgb(0%,0%,0%);stroke-opacity:1;stroke-miterlimit:10;\" d=\"M 411.492188 115.773438 C 411.492188 117.265625 409.25 117.265625 409.25 115.773438 C 409.25 114.277344 411.492188 114.277344 411.492188 115.773438 \"/>\n",
       "<path style=\"fill:none;stroke-width:0.75;stroke-linecap:round;stroke-linejoin:round;stroke:rgb(0%,0%,0%);stroke-opacity:1;stroke-miterlimit:10;\" d=\"M 411.757813 148.855469 C 411.757813 150.347656 409.519531 150.347656 409.519531 148.855469 C 409.519531 147.359375 411.757813 147.359375 411.757813 148.855469 \"/>\n",
       "<path style=\"fill:none;stroke-width:0.75;stroke-linecap:round;stroke-linejoin:round;stroke:rgb(0%,0%,0%);stroke-opacity:1;stroke-miterlimit:10;\" d=\"M 412.027344 105.460938 C 412.027344 106.953125 409.785156 106.953125 409.785156 105.460938 C 409.785156 103.964844 412.027344 103.964844 412.027344 105.460938 \"/>\n",
       "<path style=\"fill:none;stroke-width:0.75;stroke-linecap:round;stroke-linejoin:round;stroke:rgb(0%,0%,0%);stroke-opacity:1;stroke-miterlimit:10;\" d=\"M 412.296875 114.957031 C 412.296875 116.449219 410.054688 116.449219 410.054688 114.957031 C 410.054688 113.460938 412.296875 113.460938 412.296875 114.957031 \"/>\n",
       "<path style=\"fill:none;stroke-width:0.75;stroke-linecap:round;stroke-linejoin:round;stroke:rgb(0%,0%,0%);stroke-opacity:1;stroke-miterlimit:10;\" d=\"M 412.5625 105.503906 C 412.5625 107 410.324219 107 410.324219 105.503906 C 410.324219 104.011719 412.5625 104.011719 412.5625 105.503906 \"/>\n",
       "<path style=\"fill:none;stroke-width:0.75;stroke-linecap:round;stroke-linejoin:round;stroke:rgb(0%,0%,0%);stroke-opacity:1;stroke-miterlimit:10;\" d=\"M 412.832031 104.582031 C 412.832031 106.074219 410.589844 106.074219 410.589844 104.582031 C 410.589844 103.085938 412.832031 103.085938 412.832031 104.582031 \"/>\n",
       "<path style=\"fill:none;stroke-width:0.75;stroke-linecap:round;stroke-linejoin:round;stroke:rgb(0%,0%,0%);stroke-opacity:1;stroke-miterlimit:10;\" d=\"M 413.101563 104.773438 C 413.101563 106.269531 410.859375 106.269531 410.859375 104.773438 C 410.859375 103.28125 413.101563 103.28125 413.101563 104.773438 \"/>\n",
       "<path style=\"fill:none;stroke-width:0.75;stroke-linecap:round;stroke-linejoin:round;stroke:rgb(0%,0%,0%);stroke-opacity:1;stroke-miterlimit:10;\" d=\"M 413.371094 109.113281 C 413.371094 110.605469 411.128906 110.605469 411.128906 109.113281 C 411.128906 107.617188 413.371094 107.617188 413.371094 109.113281 \"/>\n",
       "<path style=\"fill:none;stroke-width:0.75;stroke-linecap:round;stroke-linejoin:round;stroke:rgb(0%,0%,0%);stroke-opacity:1;stroke-miterlimit:10;\" d=\"M 413.636719 154.023438 C 413.636719 155.515625 411.398438 155.515625 411.398438 154.023438 C 411.398438 152.527344 413.636719 152.527344 413.636719 154.023438 \"/>\n",
       "<path style=\"fill:none;stroke-width:0.75;stroke-linecap:round;stroke-linejoin:round;stroke:rgb(0%,0%,0%);stroke-opacity:1;stroke-miterlimit:10;\" d=\"M 413.90625 122.625 C 413.90625 124.121094 411.664063 124.121094 411.664063 122.625 C 411.664063 121.132813 413.90625 121.132813 413.90625 122.625 \"/>\n",
       "<path style=\"fill:none;stroke-width:0.75;stroke-linecap:round;stroke-linejoin:round;stroke:rgb(0%,0%,0%);stroke-opacity:1;stroke-miterlimit:10;\" d=\"M 414.175781 112.226563 C 414.175781 113.71875 411.933594 113.71875 411.933594 112.226563 C 411.933594 110.734375 414.175781 110.734375 414.175781 112.226563 \"/>\n",
       "<path style=\"fill:none;stroke-width:0.75;stroke-linecap:round;stroke-linejoin:round;stroke:rgb(0%,0%,0%);stroke-opacity:1;stroke-miterlimit:10;\" d=\"M 414.441406 115.410156 C 414.441406 116.902344 412.203125 116.902344 412.203125 115.410156 C 412.203125 113.914063 414.441406 113.914063 414.441406 115.410156 \"/>\n",
       "<path style=\"fill:none;stroke-width:0.75;stroke-linecap:round;stroke-linejoin:round;stroke:rgb(0%,0%,0%);stroke-opacity:1;stroke-miterlimit:10;\" d=\"M 414.710938 126.714844 C 414.710938 128.210938 412.46875 128.210938 412.46875 126.714844 C 412.46875 125.222656 414.710938 125.222656 414.710938 126.714844 \"/>\n",
       "<path style=\"fill:none;stroke-width:0.75;stroke-linecap:round;stroke-linejoin:round;stroke:rgb(0%,0%,0%);stroke-opacity:1;stroke-miterlimit:10;\" d=\"M 414.980469 105.964844 C 414.980469 107.457031 412.738281 107.457031 412.738281 105.964844 C 412.738281 104.46875 414.980469 104.46875 414.980469 105.964844 \"/>\n",
       "<path style=\"fill:none;stroke-width:0.75;stroke-linecap:round;stroke-linejoin:round;stroke:rgb(0%,0%,0%);stroke-opacity:1;stroke-miterlimit:10;\" d=\"M 415.25 127.679688 C 415.25 129.175781 413.007813 129.175781 413.007813 127.679688 C 413.007813 126.1875 415.25 126.1875 415.25 127.679688 \"/>\n",
       "<path style=\"fill:none;stroke-width:0.75;stroke-linecap:round;stroke-linejoin:round;stroke:rgb(0%,0%,0%);stroke-opacity:1;stroke-miterlimit:10;\" d=\"M 415.515625 150.6875 C 415.515625 152.183594 413.277344 152.183594 413.277344 150.6875 C 413.277344 149.195313 415.515625 149.195313 415.515625 150.6875 \"/>\n",
       "<path style=\"fill:none;stroke-width:0.75;stroke-linecap:round;stroke-linejoin:round;stroke:rgb(0%,0%,0%);stroke-opacity:1;stroke-miterlimit:10;\" d=\"M 415.785156 112.457031 C 415.785156 113.953125 413.542969 113.953125 413.542969 112.457031 C 413.542969 110.964844 415.785156 110.964844 415.785156 112.457031 \"/>\n",
       "<path style=\"fill:none;stroke-width:0.75;stroke-linecap:round;stroke-linejoin:round;stroke:rgb(0%,0%,0%);stroke-opacity:1;stroke-miterlimit:10;\" d=\"M 416.054688 115.808594 C 416.054688 117.304688 413.8125 117.304688 413.8125 115.808594 C 413.8125 114.316406 416.054688 114.316406 416.054688 115.808594 \"/>\n",
       "<path style=\"fill:none;stroke-width:0.75;stroke-linecap:round;stroke-linejoin:round;stroke:rgb(0%,0%,0%);stroke-opacity:1;stroke-miterlimit:10;\" d=\"M 416.320313 115.433594 C 416.320313 116.929688 414.082031 116.929688 414.082031 115.433594 C 414.082031 113.941406 416.320313 113.941406 416.320313 115.433594 \"/>\n",
       "<path style=\"fill:none;stroke-width:0.75;stroke-linecap:round;stroke-linejoin:round;stroke:rgb(0%,0%,0%);stroke-opacity:1;stroke-miterlimit:10;\" d=\"M 416.589844 125.410156 C 416.589844 126.902344 414.347656 126.902344 414.347656 125.410156 C 414.347656 123.914063 416.589844 123.914063 416.589844 125.410156 \"/>\n",
       "<path style=\"fill:none;stroke-width:0.75;stroke-linecap:round;stroke-linejoin:round;stroke:rgb(0%,0%,0%);stroke-opacity:1;stroke-miterlimit:10;\" d=\"M 416.859375 117.996094 C 416.859375 119.492188 414.617188 119.492188 414.617188 117.996094 C 414.617188 116.503906 416.859375 116.503906 416.859375 117.996094 \"/>\n",
       "<path style=\"fill:none;stroke-width:0.75;stroke-linecap:round;stroke-linejoin:round;stroke:rgb(0%,0%,0%);stroke-opacity:1;stroke-miterlimit:10;\" d=\"M 417.128906 130.308594 C 417.128906 131.804688 414.886719 131.804688 414.886719 130.308594 C 414.886719 128.816406 417.128906 128.816406 417.128906 130.308594 \"/>\n",
       "<path style=\"fill:none;stroke-width:0.75;stroke-linecap:round;stroke-linejoin:round;stroke:rgb(0%,0%,0%);stroke-opacity:1;stroke-miterlimit:10;\" d=\"M 417.394531 157.574219 C 417.394531 159.070313 415.15625 159.070313 415.15625 157.574219 C 415.15625 156.082031 417.394531 156.082031 417.394531 157.574219 \"/>\n",
       "<path style=\"fill:none;stroke-width:0.75;stroke-linecap:round;stroke-linejoin:round;stroke:rgb(0%,0%,0%);stroke-opacity:1;stroke-miterlimit:10;\" d=\"M 417.664063 117.292969 C 417.664063 118.789063 415.421875 118.789063 415.421875 117.292969 C 415.421875 115.800781 417.664063 115.800781 417.664063 117.292969 \"/>\n",
       "<path style=\"fill:none;stroke-width:0.75;stroke-linecap:round;stroke-linejoin:round;stroke:rgb(0%,0%,0%);stroke-opacity:1;stroke-miterlimit:10;\" d=\"M 417.933594 107.640625 C 417.933594 109.136719 415.691406 109.136719 415.691406 107.640625 C 415.691406 106.148438 417.933594 106.148438 417.933594 107.640625 \"/>\n",
       "<path style=\"fill:none;stroke-width:0.75;stroke-linecap:round;stroke-linejoin:round;stroke:rgb(0%,0%,0%);stroke-opacity:1;stroke-miterlimit:10;\" d=\"M 418.199219 115.3125 C 418.199219 116.804688 415.960938 116.804688 415.960938 115.3125 C 415.960938 113.816406 418.199219 113.816406 418.199219 115.3125 \"/>\n",
       "<path style=\"fill:none;stroke-width:0.75;stroke-linecap:round;stroke-linejoin:round;stroke:rgb(0%,0%,0%);stroke-opacity:1;stroke-miterlimit:10;\" d=\"M 418.46875 106.179688 C 418.46875 107.671875 416.226563 107.671875 416.226563 106.179688 C 416.226563 104.683594 418.46875 104.683594 418.46875 106.179688 \"/>\n",
       "<path style=\"fill:none;stroke-width:0.75;stroke-linecap:round;stroke-linejoin:round;stroke:rgb(0%,0%,0%);stroke-opacity:1;stroke-miterlimit:10;\" d=\"M 418.738281 116.882813 C 418.738281 118.378906 416.496094 118.378906 416.496094 116.882813 C 416.496094 115.390625 418.738281 115.390625 418.738281 116.882813 \"/>\n",
       "<path style=\"fill:none;stroke-width:0.75;stroke-linecap:round;stroke-linejoin:round;stroke:rgb(0%,0%,0%);stroke-opacity:1;stroke-miterlimit:10;\" d=\"M 419.007813 126.753906 C 419.007813 128.25 416.765625 128.25 416.765625 126.753906 C 416.765625 125.261719 419.007813 125.261719 419.007813 126.753906 \"/>\n",
       "<path style=\"fill:none;stroke-width:0.75;stroke-linecap:round;stroke-linejoin:round;stroke:rgb(0%,0%,0%);stroke-opacity:1;stroke-miterlimit:10;\" d=\"M 419.273438 153.503906 C 419.273438 155 417.035156 155 417.035156 153.503906 C 417.035156 152.011719 419.273438 152.011719 419.273438 153.503906 \"/>\n",
       "<path style=\"fill:none;stroke-width:0.75;stroke-linecap:round;stroke-linejoin:round;stroke:rgb(0%,0%,0%);stroke-opacity:1;stroke-miterlimit:10;\" d=\"M 419.542969 106.765625 C 419.542969 108.257813 417.300781 108.257813 417.300781 106.765625 C 417.300781 105.269531 419.542969 105.269531 419.542969 106.765625 \"/>\n",
       "<path style=\"fill:none;stroke-width:0.75;stroke-linecap:round;stroke-linejoin:round;stroke:rgb(0%,0%,0%);stroke-opacity:1;stroke-miterlimit:10;\" d=\"M 419.8125 121.914063 C 419.8125 123.410156 417.570313 123.410156 417.570313 121.914063 C 417.570313 120.421875 419.8125 120.421875 419.8125 121.914063 \"/>\n",
       "<path style=\"fill:none;stroke-width:0.75;stroke-linecap:round;stroke-linejoin:round;stroke:rgb(0%,0%,0%);stroke-opacity:1;stroke-miterlimit:10;\" d=\"M 420.078125 116.664063 C 420.078125 118.15625 417.839844 118.15625 417.839844 116.664063 C 417.839844 115.167969 420.078125 115.167969 420.078125 116.664063 \"/>\n",
       "<path style=\"fill:none;stroke-width:0.75;stroke-linecap:round;stroke-linejoin:round;stroke:rgb(0%,0%,0%);stroke-opacity:1;stroke-miterlimit:10;\" d=\"M 420.347656 115.125 C 420.347656 116.621094 418.105469 116.621094 418.105469 115.125 C 418.105469 113.632813 420.347656 113.632813 420.347656 115.125 \"/>\n",
       "<path style=\"fill:none;stroke-width:0.75;stroke-linecap:round;stroke-linejoin:round;stroke:rgb(0%,0%,0%);stroke-opacity:1;stroke-miterlimit:10;\" d=\"M 420.617188 123.707031 C 420.617188 125.203125 418.375 125.203125 418.375 123.707031 C 418.375 122.214844 420.617188 122.214844 420.617188 123.707031 \"/>\n",
       "<path style=\"fill:none;stroke-width:0.75;stroke-linecap:round;stroke-linejoin:round;stroke:rgb(0%,0%,0%);stroke-opacity:1;stroke-miterlimit:10;\" d=\"M 420.886719 121.371094 C 420.886719 122.867188 418.644531 122.867188 418.644531 121.371094 C 418.644531 119.878906 420.886719 119.878906 420.886719 121.371094 \"/>\n",
       "<path style=\"fill:none;stroke-width:0.75;stroke-linecap:round;stroke-linejoin:round;stroke:rgb(0%,0%,0%);stroke-opacity:1;stroke-miterlimit:10;\" d=\"M 421.152344 152.859375 C 421.152344 154.355469 418.914063 154.355469 418.914063 152.859375 C 418.914063 151.367188 421.152344 151.367188 421.152344 152.859375 \"/>\n",
       "<path style=\"fill:none;stroke-width:0.75;stroke-linecap:round;stroke-linejoin:round;stroke:rgb(0%,0%,0%);stroke-opacity:1;stroke-miterlimit:10;\" d=\"M 421.421875 116.160156 C 421.421875 117.65625 419.179688 117.65625 419.179688 116.160156 C 419.179688 114.667969 421.421875 114.667969 421.421875 116.160156 \"/>\n",
       "<path style=\"fill:none;stroke-width:0.75;stroke-linecap:round;stroke-linejoin:round;stroke:rgb(0%,0%,0%);stroke-opacity:1;stroke-miterlimit:10;\" d=\"M 421.691406 121.804688 C 421.691406 123.300781 419.449219 123.300781 419.449219 121.804688 C 419.449219 120.3125 421.691406 120.3125 421.691406 121.804688 \"/>\n",
       "<path style=\"fill:none;stroke-width:0.75;stroke-linecap:round;stroke-linejoin:round;stroke:rgb(0%,0%,0%);stroke-opacity:1;stroke-miterlimit:10;\" d=\"M 421.957031 120.738281 C 421.957031 122.234375 419.71875 122.234375 419.71875 120.738281 C 419.71875 119.246094 421.957031 119.246094 421.957031 120.738281 \"/>\n",
       "<path style=\"fill:none;stroke-width:0.75;stroke-linecap:round;stroke-linejoin:round;stroke:rgb(0%,0%,0%);stroke-opacity:1;stroke-miterlimit:10;\" d=\"M 422.226563 121.5 C 422.226563 122.992188 419.984375 122.992188 419.984375 121.5 C 419.984375 120.003906 422.226563 120.003906 422.226563 121.5 \"/>\n",
       "<path style=\"fill:none;stroke-width:0.75;stroke-linecap:round;stroke-linejoin:round;stroke:rgb(0%,0%,0%);stroke-opacity:1;stroke-miterlimit:10;\" d=\"M 422.496094 119.167969 C 422.496094 120.664063 420.253906 120.664063 420.253906 119.167969 C 420.253906 117.675781 422.496094 117.675781 422.496094 119.167969 \"/>\n",
       "<path style=\"fill:none;stroke-width:0.75;stroke-linecap:round;stroke-linejoin:round;stroke:rgb(0%,0%,0%);stroke-opacity:1;stroke-miterlimit:10;\" d=\"M 422.765625 128.199219 C 422.765625 129.691406 420.523438 129.691406 420.523438 128.199219 C 420.523438 126.703125 422.765625 126.703125 422.765625 128.199219 \"/>\n",
       "<path style=\"fill:none;stroke-width:0.75;stroke-linecap:round;stroke-linejoin:round;stroke:rgb(0%,0%,0%);stroke-opacity:1;stroke-miterlimit:10;\" d=\"M 423.03125 161.175781 C 423.03125 162.667969 420.792969 162.667969 420.792969 161.175781 C 420.792969 159.683594 423.03125 159.683594 423.03125 161.175781 \"/>\n",
       "<path style=\"fill:none;stroke-width:0.75;stroke-linecap:round;stroke-linejoin:round;stroke:rgb(0%,0%,0%);stroke-opacity:1;stroke-miterlimit:10;\" d=\"M 423.300781 120.359375 C 423.300781 121.851563 421.058594 121.851563 421.058594 120.359375 C 421.058594 118.863281 423.300781 118.863281 423.300781 120.359375 \"/>\n",
       "<path style=\"fill:none;stroke-width:0.75;stroke-linecap:round;stroke-linejoin:round;stroke:rgb(0%,0%,0%);stroke-opacity:1;stroke-miterlimit:10;\" d=\"M 423.570313 132.667969 C 423.570313 134.160156 421.328125 134.160156 421.328125 132.667969 C 421.328125 131.171875 423.570313 131.171875 423.570313 132.667969 \"/>\n",
       "<path style=\"fill:none;stroke-width:0.75;stroke-linecap:round;stroke-linejoin:round;stroke:rgb(0%,0%,0%);stroke-opacity:1;stroke-miterlimit:10;\" d=\"M 423.835938 126.40625 C 423.835938 127.898438 421.597656 127.898438 421.597656 126.40625 C 421.597656 124.910156 423.835938 124.910156 423.835938 126.40625 \"/>\n",
       "<path style=\"fill:none;stroke-width:0.75;stroke-linecap:round;stroke-linejoin:round;stroke:rgb(0%,0%,0%);stroke-opacity:1;stroke-miterlimit:10;\" d=\"M 424.105469 121.410156 C 424.105469 122.90625 421.863281 122.90625 421.863281 121.410156 C 421.863281 119.917969 424.105469 119.917969 424.105469 121.410156 \"/>\n",
       "<path style=\"fill:none;stroke-width:0.75;stroke-linecap:round;stroke-linejoin:round;stroke:rgb(0%,0%,0%);stroke-opacity:1;stroke-miterlimit:10;\" d=\"M 424.375 125.222656 C 424.375 126.714844 422.132813 126.714844 422.132813 125.222656 C 422.132813 123.726563 424.375 123.726563 424.375 125.222656 \"/>\n",
       "<path style=\"fill:none;stroke-width:0.75;stroke-linecap:round;stroke-linejoin:round;stroke:rgb(0%,0%,0%);stroke-opacity:1;stroke-miterlimit:10;\" d=\"M 424.644531 122.792969 C 424.644531 124.289063 422.402344 124.289063 422.402344 122.792969 C 422.402344 121.300781 424.644531 121.300781 424.644531 122.792969 \"/>\n",
       "<path style=\"fill:none;stroke-width:0.75;stroke-linecap:round;stroke-linejoin:round;stroke:rgb(0%,0%,0%);stroke-opacity:1;stroke-miterlimit:10;\" d=\"M 424.910156 155.003906 C 424.910156 156.496094 422.671875 156.496094 422.671875 155.003906 C 422.671875 153.507813 424.910156 153.507813 424.910156 155.003906 \"/>\n",
       "<path style=\"fill:none;stroke-width:0.75;stroke-linecap:round;stroke-linejoin:round;stroke:rgb(0%,0%,0%);stroke-opacity:1;stroke-miterlimit:10;\" d=\"M 425.179688 117.875 C 425.179688 119.371094 422.9375 119.371094 422.9375 117.875 C 422.9375 116.382813 425.179688 116.382813 425.179688 117.875 \"/>\n",
       "<path style=\"fill:none;stroke-width:0.75;stroke-linecap:round;stroke-linejoin:round;stroke:rgb(0%,0%,0%);stroke-opacity:1;stroke-miterlimit:10;\" d=\"M 425.449219 114.277344 C 425.449219 115.769531 423.207031 115.769531 423.207031 114.277344 C 423.207031 112.78125 425.449219 112.78125 425.449219 114.277344 \"/>\n",
       "<path style=\"fill:none;stroke-width:0.75;stroke-linecap:round;stroke-linejoin:round;stroke:rgb(0%,0%,0%);stroke-opacity:1;stroke-miterlimit:10;\" d=\"M 425.714844 104.761719 C 425.714844 106.253906 423.476563 106.253906 423.476563 104.761719 C 423.476563 103.265625 425.714844 103.265625 425.714844 104.761719 \"/>\n",
       "<path style=\"fill:none;stroke-width:0.75;stroke-linecap:round;stroke-linejoin:round;stroke:rgb(0%,0%,0%);stroke-opacity:1;stroke-miterlimit:10;\" d=\"M 425.984375 115.339844 C 425.984375 116.835938 423.742188 116.835938 423.742188 115.339844 C 423.742188 113.847656 425.984375 113.847656 425.984375 115.339844 \"/>\n",
       "<path style=\"fill:none;stroke-width:0.75;stroke-linecap:round;stroke-linejoin:round;stroke:rgb(0%,0%,0%);stroke-opacity:1;stroke-miterlimit:10;\" d=\"M 426.253906 115.703125 C 426.253906 117.199219 424.011719 117.199219 424.011719 115.703125 C 424.011719 114.210938 426.253906 114.210938 426.253906 115.703125 \"/>\n",
       "<path style=\"fill:none;stroke-width:0.75;stroke-linecap:round;stroke-linejoin:round;stroke:rgb(0%,0%,0%);stroke-opacity:1;stroke-miterlimit:10;\" d=\"M 426.523438 118.117188 C 426.523438 119.609375 424.28125 119.609375 424.28125 118.117188 C 424.28125 116.621094 426.523438 116.621094 426.523438 118.117188 \"/>\n",
       "<path style=\"fill:none;stroke-width:0.75;stroke-linecap:round;stroke-linejoin:round;stroke:rgb(0%,0%,0%);stroke-opacity:1;stroke-miterlimit:10;\" d=\"M 426.789063 141.757813 C 426.789063 143.25 424.550781 143.25 424.550781 141.757813 C 424.550781 140.261719 426.789063 140.261719 426.789063 141.757813 \"/>\n",
       "<path style=\"fill:none;stroke-width:0.75;stroke-linecap:round;stroke-linejoin:round;stroke:rgb(0%,0%,0%);stroke-opacity:1;stroke-miterlimit:10;\" d=\"M 427.058594 153.882813 C 427.058594 155.375 424.816406 155.375 424.816406 153.882813 C 424.816406 152.386719 427.058594 152.386719 427.058594 153.882813 \"/>\n",
       "<path style=\"fill:none;stroke-width:0.75;stroke-linecap:round;stroke-linejoin:round;stroke:rgb(0%,0%,0%);stroke-opacity:1;stroke-miterlimit:10;\" d=\"M 427.328125 124.164063 C 427.328125 125.65625 425.085938 125.65625 425.085938 124.164063 C 425.085938 122.667969 427.328125 122.667969 427.328125 124.164063 \"/>\n",
       "<path style=\"fill:none;stroke-width:0.75;stroke-linecap:round;stroke-linejoin:round;stroke:rgb(0%,0%,0%);stroke-opacity:1;stroke-miterlimit:10;\" d=\"M 427.59375 117.328125 C 427.59375 118.820313 425.355469 118.820313 425.355469 117.328125 C 425.355469 115.832031 427.59375 115.832031 427.59375 117.328125 \"/>\n",
       "<path style=\"fill:none;stroke-width:0.75;stroke-linecap:round;stroke-linejoin:round;stroke:rgb(0%,0%,0%);stroke-opacity:1;stroke-miterlimit:10;\" d=\"M 427.863281 115.722656 C 427.863281 117.21875 425.621094 117.21875 425.621094 115.722656 C 425.621094 114.230469 427.863281 114.230469 427.863281 115.722656 \"/>\n",
       "<path style=\"fill:none;stroke-width:0.75;stroke-linecap:round;stroke-linejoin:round;stroke:rgb(0%,0%,0%);stroke-opacity:1;stroke-miterlimit:10;\" d=\"M 428.132813 128.832031 C 428.132813 130.328125 425.890625 130.328125 425.890625 128.832031 C 425.890625 127.339844 428.132813 127.339844 428.132813 128.832031 \"/>\n",
       "<path style=\"fill:none;stroke-width:0.75;stroke-linecap:round;stroke-linejoin:round;stroke:rgb(0%,0%,0%);stroke-opacity:1;stroke-miterlimit:10;\" d=\"M 428.402344 129.96875 C 428.402344 131.464844 426.160156 131.464844 426.160156 129.96875 C 426.160156 128.476563 428.402344 128.476563 428.402344 129.96875 \"/>\n",
       "<path style=\"fill:none;stroke-width:0.75;stroke-linecap:round;stroke-linejoin:round;stroke:rgb(0%,0%,0%);stroke-opacity:1;stroke-miterlimit:10;\" d=\"M 428.667969 156.269531 C 428.667969 157.761719 426.429688 157.761719 426.429688 156.269531 C 426.429688 154.777344 428.667969 154.777344 428.667969 156.269531 \"/>\n",
       "<path style=\"fill:none;stroke-width:0.75;stroke-linecap:round;stroke-linejoin:round;stroke:rgb(0%,0%,0%);stroke-opacity:1;stroke-miterlimit:10;\" d=\"M 428.9375 128.832031 C 428.9375 130.328125 426.695313 130.328125 426.695313 128.832031 C 426.695313 127.339844 428.9375 127.339844 428.9375 128.832031 \"/>\n",
       "<path style=\"fill:none;stroke-width:0.75;stroke-linecap:round;stroke-linejoin:round;stroke:rgb(0%,0%,0%);stroke-opacity:1;stroke-miterlimit:10;\" d=\"M 429.207031 121.328125 C 429.207031 122.820313 426.964844 122.820313 426.964844 121.328125 C 426.964844 119.832031 429.207031 119.832031 429.207031 121.328125 \"/>\n",
       "<path style=\"fill:none;stroke-width:0.75;stroke-linecap:round;stroke-linejoin:round;stroke:rgb(0%,0%,0%);stroke-opacity:1;stroke-miterlimit:10;\" d=\"M 429.472656 130.195313 C 429.472656 131.691406 427.234375 131.691406 427.234375 130.195313 C 427.234375 128.703125 429.472656 128.703125 429.472656 130.195313 \"/>\n",
       "<path style=\"fill:none;stroke-width:0.75;stroke-linecap:round;stroke-linejoin:round;stroke:rgb(0%,0%,0%);stroke-opacity:1;stroke-miterlimit:10;\" d=\"M 429.742188 127.691406 C 429.742188 129.1875 427.5 129.1875 427.5 127.691406 C 427.5 126.199219 429.742188 126.199219 429.742188 127.691406 \"/>\n",
       "<path style=\"fill:none;stroke-width:0.75;stroke-linecap:round;stroke-linejoin:round;stroke:rgb(0%,0%,0%);stroke-opacity:1;stroke-miterlimit:10;\" d=\"M 430.011719 118.773438 C 430.011719 120.265625 427.769531 120.265625 427.769531 118.773438 C 427.769531 117.277344 430.011719 117.277344 430.011719 118.773438 \"/>\n",
       "<path style=\"fill:none;stroke-width:0.75;stroke-linecap:round;stroke-linejoin:round;stroke:rgb(0%,0%,0%);stroke-opacity:1;stroke-miterlimit:10;\" d=\"M 430.28125 121.109375 C 430.28125 122.601563 428.039063 122.601563 428.039063 121.109375 C 428.039063 119.613281 430.28125 119.613281 430.28125 121.109375 \"/>\n",
       "<path style=\"fill:none;stroke-width:0.75;stroke-linecap:round;stroke-linejoin:round;stroke:rgb(0%,0%,0%);stroke-opacity:1;stroke-miterlimit:10;\" d=\"M 430.546875 155.878906 C 430.546875 157.375 428.308594 157.375 428.308594 155.878906 C 428.308594 154.386719 430.546875 154.386719 430.546875 155.878906 \"/>\n",
       "<path style=\"fill:none;stroke-width:0.75;stroke-linecap:round;stroke-linejoin:round;stroke:rgb(0%,0%,0%);stroke-opacity:1;stroke-miterlimit:10;\" d=\"M 430.816406 123.652344 C 430.816406 125.144531 428.574219 125.144531 428.574219 123.652344 C 428.574219 122.160156 430.816406 122.160156 430.816406 123.652344 \"/>\n",
       "<path style=\"fill:none;stroke-width:0.75;stroke-linecap:round;stroke-linejoin:round;stroke:rgb(0%,0%,0%);stroke-opacity:1;stroke-miterlimit:10;\" d=\"M 431.085938 128.109375 C 431.085938 129.601563 428.84375 129.601563 428.84375 128.109375 C 428.84375 126.617188 431.085938 126.617188 431.085938 128.109375 \"/>\n",
       "<path style=\"fill:none;stroke-width:0.75;stroke-linecap:round;stroke-linejoin:round;stroke:rgb(0%,0%,0%);stroke-opacity:1;stroke-miterlimit:10;\" d=\"M 431.351563 134.765625 C 431.351563 136.257813 429.113281 136.257813 429.113281 134.765625 C 429.113281 133.269531 431.351563 133.269531 431.351563 134.765625 \"/>\n",
       "<path style=\"fill:none;stroke-width:0.75;stroke-linecap:round;stroke-linejoin:round;stroke:rgb(0%,0%,0%);stroke-opacity:1;stroke-miterlimit:10;\" d=\"M 431.621094 123.265625 C 431.621094 124.761719 429.378906 124.761719 429.378906 123.265625 C 429.378906 121.773438 431.621094 121.773438 431.621094 123.265625 \"/>\n",
       "<path style=\"fill:none;stroke-width:0.75;stroke-linecap:round;stroke-linejoin:round;stroke:rgb(0%,0%,0%);stroke-opacity:1;stroke-miterlimit:10;\" d=\"M 431.890625 126.675781 C 431.890625 128.167969 429.648438 128.167969 429.648438 126.675781 C 429.648438 125.179688 431.890625 125.179688 431.890625 126.675781 \"/>\n",
       "<path style=\"fill:none;stroke-width:0.75;stroke-linecap:round;stroke-linejoin:round;stroke:rgb(0%,0%,0%);stroke-opacity:1;stroke-miterlimit:10;\" d=\"M 432.160156 124.511719 C 432.160156 126.003906 429.917969 126.003906 429.917969 124.511719 C 429.917969 123.019531 432.160156 123.019531 432.160156 124.511719 \"/>\n",
       "<path style=\"fill:none;stroke-width:0.75;stroke-linecap:round;stroke-linejoin:round;stroke:rgb(0%,0%,0%);stroke-opacity:1;stroke-miterlimit:10;\" d=\"M 432.425781 152.457031 C 432.425781 153.949219 430.1875 153.949219 430.1875 152.457031 C 430.1875 150.964844 432.425781 150.964844 432.425781 152.457031 \"/>\n",
       "<path style=\"fill:none;stroke-width:0.75;stroke-linecap:round;stroke-linejoin:round;stroke:rgb(0%,0%,0%);stroke-opacity:1;stroke-miterlimit:10;\" d=\"M 432.695313 131.527344 C 432.695313 133.019531 430.453125 133.019531 430.453125 131.527344 C 430.453125 130.03125 432.695313 130.03125 432.695313 131.527344 \"/>\n",
       "<path style=\"fill:none;stroke-width:0.75;stroke-linecap:round;stroke-linejoin:round;stroke:rgb(0%,0%,0%);stroke-opacity:1;stroke-miterlimit:10;\" d=\"M 432.964844 125.921875 C 432.964844 127.414063 430.722656 127.414063 430.722656 125.921875 C 430.722656 124.425781 432.964844 124.425781 432.964844 125.921875 \"/>\n",
       "<path style=\"fill:none;stroke-width:0.75;stroke-linecap:round;stroke-linejoin:round;stroke:rgb(0%,0%,0%);stroke-opacity:1;stroke-miterlimit:10;\" d=\"M 433.230469 126.269531 C 433.230469 127.761719 430.992188 127.761719 430.992188 126.269531 C 430.992188 124.773438 433.230469 124.773438 433.230469 126.269531 \"/>\n",
       "<path style=\"fill:none;stroke-width:0.75;stroke-linecap:round;stroke-linejoin:round;stroke:rgb(0%,0%,0%);stroke-opacity:1;stroke-miterlimit:10;\" d=\"M 433.5 126.414063 C 433.5 127.90625 431.257813 127.90625 431.257813 126.414063 C 431.257813 124.917969 433.5 124.917969 433.5 126.414063 \"/>\n",
       "<path style=\"fill:none;stroke-width:0.75;stroke-linecap:round;stroke-linejoin:round;stroke:rgb(0%,0%,0%);stroke-opacity:1;stroke-miterlimit:10;\" d=\"M 433.769531 110.027344 C 433.769531 111.519531 431.527344 111.519531 431.527344 110.027344 C 431.527344 108.53125 433.769531 108.53125 433.769531 110.027344 \"/>\n",
       "<path style=\"fill:none;stroke-width:0.75;stroke-linecap:round;stroke-linejoin:round;stroke:rgb(0%,0%,0%);stroke-opacity:1;stroke-miterlimit:10;\" d=\"M 434.039063 118.773438 C 434.039063 120.269531 431.796875 120.269531 431.796875 118.773438 C 431.796875 117.28125 434.039063 117.28125 434.039063 118.773438 \"/>\n",
       "<path style=\"fill:none;stroke-width:0.75;stroke-linecap:round;stroke-linejoin:round;stroke:rgb(0%,0%,0%);stroke-opacity:1;stroke-miterlimit:10;\" d=\"M 434.304688 151.414063 C 434.304688 152.90625 432.066406 152.90625 432.066406 151.414063 C 432.066406 149.917969 434.304688 149.917969 434.304688 151.414063 \"/>\n",
       "<path style=\"fill:none;stroke-width:0.75;stroke-linecap:round;stroke-linejoin:round;stroke:rgb(0%,0%,0%);stroke-opacity:1;stroke-miterlimit:10;\" d=\"M 434.574219 118.476563 C 434.574219 119.972656 432.332031 119.972656 432.332031 118.476563 C 432.332031 116.984375 434.574219 116.984375 434.574219 118.476563 \"/>\n",
       "<path style=\"fill:none;stroke-width:0.75;stroke-linecap:round;stroke-linejoin:round;stroke:rgb(0%,0%,0%);stroke-opacity:1;stroke-miterlimit:10;\" d=\"M 434.84375 116.375 C 434.84375 117.867188 432.601563 117.867188 432.601563 116.375 C 432.601563 114.878906 434.84375 114.878906 434.84375 116.375 \"/>\n",
       "<path style=\"fill:none;stroke-width:0.75;stroke-linecap:round;stroke-linejoin:round;stroke:rgb(0%,0%,0%);stroke-opacity:1;stroke-miterlimit:10;\" d=\"M 435.109375 121.09375 C 435.109375 122.585938 432.871094 122.585938 432.871094 121.09375 C 432.871094 119.601563 435.109375 119.601563 435.109375 121.09375 \"/>\n",
       "<path style=\"fill:none;stroke-width:0.75;stroke-linecap:round;stroke-linejoin:round;stroke:rgb(0%,0%,0%);stroke-opacity:1;stroke-miterlimit:10;\" d=\"M 435.378906 115.261719 C 435.378906 116.753906 433.136719 116.753906 433.136719 115.261719 C 433.136719 113.769531 435.378906 113.769531 435.378906 115.261719 \"/>\n",
       "<path style=\"fill:none;stroke-width:0.75;stroke-linecap:round;stroke-linejoin:round;stroke:rgb(0%,0%,0%);stroke-opacity:1;stroke-miterlimit:10;\" d=\"M 435.648438 114.332031 C 435.648438 115.824219 433.40625 115.824219 433.40625 114.332031 C 433.40625 112.835938 435.648438 112.835938 435.648438 114.332031 \"/>\n",
       "<path style=\"fill:none;stroke-width:0.75;stroke-linecap:round;stroke-linejoin:round;stroke:rgb(0%,0%,0%);stroke-opacity:1;stroke-miterlimit:10;\" d=\"M 435.917969 133.027344 C 435.917969 134.519531 433.675781 134.519531 433.675781 133.027344 C 433.675781 131.535156 435.917969 131.535156 435.917969 133.027344 \"/>\n",
       "<path style=\"fill:none;stroke-width:0.75;stroke-linecap:round;stroke-linejoin:round;stroke:rgb(0%,0%,0%);stroke-opacity:1;stroke-miterlimit:10;\" d=\"M 436.183594 159.503906 C 436.183594 161 433.945313 161 433.945313 159.503906 C 433.945313 158.011719 436.183594 158.011719 436.183594 159.503906 \"/>\n",
       "<path style=\"fill:none;stroke-width:0.75;stroke-linecap:round;stroke-linejoin:round;stroke:rgb(0%,0%,0%);stroke-opacity:1;stroke-miterlimit:10;\" d=\"M 436.453125 151.011719 C 436.453125 152.503906 434.210938 152.503906 434.210938 151.011719 C 434.210938 149.515625 436.453125 149.515625 436.453125 151.011719 \"/>\n",
       "<path style=\"fill:none;stroke-width:0.75;stroke-linecap:round;stroke-linejoin:round;stroke:rgb(0%,0%,0%);stroke-opacity:1;stroke-miterlimit:10;\" d=\"M 436.722656 126.710938 C 436.722656 128.203125 434.480469 128.203125 434.480469 126.710938 C 434.480469 125.214844 436.722656 125.214844 436.722656 126.710938 \"/>\n",
       "<path style=\"fill:none;stroke-width:0.75;stroke-linecap:round;stroke-linejoin:round;stroke:rgb(0%,0%,0%);stroke-opacity:1;stroke-miterlimit:10;\" d=\"M 436.988281 131.40625 C 436.988281 132.898438 434.75 132.898438 434.75 131.40625 C 434.75 129.910156 436.988281 129.910156 436.988281 131.40625 \"/>\n",
       "<path style=\"fill:none;stroke-width:0.75;stroke-linecap:round;stroke-linejoin:round;stroke:rgb(0%,0%,0%);stroke-opacity:1;stroke-miterlimit:10;\" d=\"M 437.257813 131.378906 C 437.257813 132.871094 435.015625 132.871094 435.015625 131.378906 C 435.015625 129.882813 437.257813 129.882813 437.257813 131.378906 \"/>\n",
       "<path style=\"fill:none;stroke-width:0.75;stroke-linecap:round;stroke-linejoin:round;stroke:rgb(0%,0%,0%);stroke-opacity:1;stroke-miterlimit:10;\" d=\"M 437.527344 124.863281 C 437.527344 126.355469 435.285156 126.355469 435.285156 124.863281 C 435.285156 123.367188 437.527344 123.367188 437.527344 124.863281 \"/>\n",
       "<path style=\"fill:none;stroke-width:0.75;stroke-linecap:round;stroke-linejoin:round;stroke:rgb(0%,0%,0%);stroke-opacity:1;stroke-miterlimit:10;\" d=\"M 437.792969 129.214844 C 437.792969 130.710938 435.554688 130.710938 435.554688 129.214844 C 435.554688 127.722656 437.792969 127.722656 437.792969 129.214844 \"/>\n",
       "<path style=\"fill:none;stroke-width:0.75;stroke-linecap:round;stroke-linejoin:round;stroke:rgb(0%,0%,0%);stroke-opacity:1;stroke-miterlimit:10;\" d=\"M 438.0625 149.222656 C 438.0625 150.714844 435.824219 150.714844 435.824219 149.222656 C 435.824219 147.726563 438.0625 147.726563 438.0625 149.222656 \"/>\n",
       "<path style=\"fill:none;stroke-width:0.75;stroke-linecap:round;stroke-linejoin:round;stroke:rgb(0%,0%,0%);stroke-opacity:1;stroke-miterlimit:10;\" d=\"M 438.332031 163.050781 C 438.332031 164.542969 436.089844 164.542969 436.089844 163.050781 C 436.089844 161.554688 438.332031 161.554688 438.332031 163.050781 \"/>\n",
       "<path style=\"fill:none;stroke-width:0.75;stroke-linecap:round;stroke-linejoin:round;stroke:rgb(0%,0%,0%);stroke-opacity:1;stroke-miterlimit:10;\" d=\"M 438.601563 114.746094 C 438.601563 116.242188 436.359375 116.242188 436.359375 114.746094 C 436.359375 113.253906 438.601563 113.253906 438.601563 114.746094 \"/>\n",
       "<path style=\"fill:none;stroke-width:0.75;stroke-linecap:round;stroke-linejoin:round;stroke:rgb(0%,0%,0%);stroke-opacity:1;stroke-miterlimit:10;\" d=\"M 438.867188 125.972656 C 438.867188 127.46875 436.628906 127.46875 436.628906 125.972656 C 436.628906 124.480469 438.867188 124.480469 438.867188 125.972656 \"/>\n",
       "<path style=\"fill:none;stroke-width:0.75;stroke-linecap:round;stroke-linejoin:round;stroke:rgb(0%,0%,0%);stroke-opacity:1;stroke-miterlimit:10;\" d=\"M 439.136719 126.863281 C 439.136719 128.359375 436.894531 128.359375 436.894531 126.863281 C 436.894531 125.371094 439.136719 125.371094 439.136719 126.863281 \"/>\n",
       "<path style=\"fill:none;stroke-width:0.75;stroke-linecap:round;stroke-linejoin:round;stroke:rgb(0%,0%,0%);stroke-opacity:1;stroke-miterlimit:10;\" d=\"M 439.40625 121.53125 C 439.40625 123.027344 437.164063 123.027344 437.164063 121.53125 C 437.164063 120.039063 439.40625 120.039063 439.40625 121.53125 \"/>\n",
       "<path style=\"fill:none;stroke-width:0.75;stroke-linecap:round;stroke-linejoin:round;stroke:rgb(0%,0%,0%);stroke-opacity:1;stroke-miterlimit:10;\" d=\"M 439.671875 123.734375 C 439.671875 125.226563 437.433594 125.226563 437.433594 123.734375 C 437.433594 122.238281 439.671875 122.238281 439.671875 123.734375 \"/>\n",
       "<path style=\"fill:none;stroke-width:0.75;stroke-linecap:round;stroke-linejoin:round;stroke:rgb(0%,0%,0%);stroke-opacity:1;stroke-miterlimit:10;\" d=\"M 439.941406 158.476563 C 439.941406 159.96875 437.703125 159.96875 437.703125 158.476563 C 437.703125 156.984375 439.941406 156.984375 439.941406 158.476563 \"/>\n",
       "<path style=\"fill:none;stroke-width:0.75;stroke-linecap:round;stroke-linejoin:round;stroke:rgb(0%,0%,0%);stroke-opacity:1;stroke-miterlimit:10;\" d=\"M 440.210938 130.585938 C 440.210938 132.082031 437.96875 132.082031 437.96875 130.585938 C 437.96875 129.09375 440.210938 129.09375 440.210938 130.585938 \"/>\n",
       "<path style=\"fill:none;stroke-width:0.75;stroke-linecap:round;stroke-linejoin:round;stroke:rgb(0%,0%,0%);stroke-opacity:1;stroke-miterlimit:10;\" d=\"M 440.480469 126.800781 C 440.480469 128.292969 438.238281 128.292969 438.238281 126.800781 C 438.238281 125.304688 440.480469 125.304688 440.480469 126.800781 \"/>\n",
       "<path style=\"fill:none;stroke-width:0.75;stroke-linecap:round;stroke-linejoin:round;stroke:rgb(0%,0%,0%);stroke-opacity:1;stroke-miterlimit:10;\" d=\"M 440.746094 126.761719 C 440.746094 128.253906 438.507813 128.253906 438.507813 126.761719 C 438.507813 125.265625 440.746094 125.265625 440.746094 126.761719 \"/>\n",
       "<path style=\"fill:none;stroke-width:0.75;stroke-linecap:round;stroke-linejoin:round;stroke:rgb(0%,0%,0%);stroke-opacity:1;stroke-miterlimit:10;\" d=\"M 441.015625 135.957031 C 441.015625 137.453125 438.773438 137.453125 438.773438 135.957031 C 438.773438 134.464844 441.015625 134.464844 441.015625 135.957031 \"/>\n",
       "<path style=\"fill:none;stroke-width:0.75;stroke-linecap:round;stroke-linejoin:round;stroke:rgb(0%,0%,0%);stroke-opacity:1;stroke-miterlimit:10;\" d=\"M 441.285156 122.160156 C 441.285156 123.652344 439.042969 123.652344 439.042969 122.160156 C 439.042969 120.664063 441.285156 120.664063 441.285156 122.160156 \"/>\n",
       "<path style=\"fill:none;stroke-width:0.75;stroke-linecap:round;stroke-linejoin:round;stroke:rgb(0%,0%,0%);stroke-opacity:1;stroke-miterlimit:10;\" d=\"M 441.550781 133.816406 C 441.550781 135.308594 439.3125 135.308594 439.3125 133.816406 C 439.3125 132.324219 441.550781 132.324219 441.550781 133.816406 \"/>\n",
       "<path style=\"fill:none;stroke-width:0.75;stroke-linecap:round;stroke-linejoin:round;stroke:rgb(0%,0%,0%);stroke-opacity:1;stroke-miterlimit:10;\" d=\"M 441.820313 155.960938 C 441.820313 157.457031 439.578125 157.457031 439.578125 155.960938 C 439.578125 154.46875 441.820313 154.46875 441.820313 155.960938 \"/>\n",
       "<path style=\"fill:none;stroke-width:0.75;stroke-linecap:round;stroke-linejoin:round;stroke:rgb(0%,0%,0%);stroke-opacity:1;stroke-miterlimit:10;\" d=\"M 442.089844 148.355469 C 442.089844 149.851563 439.847656 149.851563 439.847656 148.355469 C 439.847656 146.863281 442.089844 146.863281 442.089844 148.355469 \"/>\n",
       "<path style=\"fill:none;stroke-width:0.75;stroke-linecap:round;stroke-linejoin:round;stroke:rgb(0%,0%,0%);stroke-opacity:1;stroke-miterlimit:10;\" d=\"M 442.359375 129.777344 C 442.359375 131.273438 440.117188 131.273438 440.117188 129.777344 C 440.117188 128.285156 442.359375 128.285156 442.359375 129.777344 \"/>\n",
       "<path style=\"fill:none;stroke-width:0.75;stroke-linecap:round;stroke-linejoin:round;stroke:rgb(0%,0%,0%);stroke-opacity:1;stroke-miterlimit:10;\" d=\"M 442.625 126.976563 C 442.625 128.46875 440.386719 128.46875 440.386719 126.976563 C 440.386719 125.480469 442.625 125.480469 442.625 126.976563 \"/>\n",
       "<path style=\"fill:none;stroke-width:0.75;stroke-linecap:round;stroke-linejoin:round;stroke:rgb(0%,0%,0%);stroke-opacity:1;stroke-miterlimit:10;\" d=\"M 442.894531 114.304688 C 442.894531 115.796875 440.652344 115.796875 440.652344 114.304688 C 440.652344 112.808594 442.894531 112.808594 442.894531 114.304688 \"/>\n",
       "<path style=\"fill:none;stroke-width:0.75;stroke-linecap:round;stroke-linejoin:round;stroke:rgb(0%,0%,0%);stroke-opacity:1;stroke-miterlimit:10;\" d=\"M 443.164063 114.238281 C 443.164063 115.734375 440.921875 115.734375 440.921875 114.238281 C 440.921875 112.746094 443.164063 112.746094 443.164063 114.238281 \"/>\n",
       "<path style=\"fill:none;stroke-width:0.75;stroke-linecap:round;stroke-linejoin:round;stroke:rgb(0%,0%,0%);stroke-opacity:1;stroke-miterlimit:10;\" d=\"M 443.429688 120.921875 C 443.429688 122.414063 441.191406 122.414063 441.191406 120.921875 C 441.191406 119.429688 443.429688 119.429688 443.429688 120.921875 \"/>\n",
       "<path style=\"fill:none;stroke-width:0.75;stroke-linecap:round;stroke-linejoin:round;stroke:rgb(0%,0%,0%);stroke-opacity:1;stroke-miterlimit:10;\" d=\"M 443.699219 146.40625 C 443.699219 147.898438 441.457031 147.898438 441.457031 146.40625 C 441.457031 144.914063 443.699219 144.914063 443.699219 146.40625 \"/>\n",
       "<path style=\"fill:none;stroke-width:0.75;stroke-linecap:round;stroke-linejoin:round;stroke:rgb(0%,0%,0%);stroke-opacity:1;stroke-miterlimit:10;\" d=\"M 443.96875 124.761719 C 443.96875 126.253906 441.726563 126.253906 441.726563 124.761719 C 441.726563 123.265625 443.96875 123.265625 443.96875 124.761719 \"/>\n",
       "<path style=\"fill:none;stroke-width:0.75;stroke-linecap:round;stroke-linejoin:round;stroke:rgb(0%,0%,0%);stroke-opacity:1;stroke-miterlimit:10;\" d=\"M 444.238281 111.613281 C 444.238281 113.105469 441.996094 113.105469 441.996094 111.613281 C 441.996094 110.117188 444.238281 110.117188 444.238281 111.613281 \"/>\n",
       "<path style=\"fill:none;stroke-width:0.75;stroke-linecap:round;stroke-linejoin:round;stroke:rgb(0%,0%,0%);stroke-opacity:1;stroke-miterlimit:10;\" d=\"M 444.503906 133.066406 C 444.503906 134.558594 442.265625 134.558594 442.265625 133.066406 C 442.265625 131.570313 444.503906 131.570313 444.503906 133.066406 \"/>\n",
       "<path style=\"fill:none;stroke-width:0.75;stroke-linecap:round;stroke-linejoin:round;stroke:rgb(0%,0%,0%);stroke-opacity:1;stroke-miterlimit:10;\" d=\"M 444.773438 128.230469 C 444.773438 129.726563 442.53125 129.726563 442.53125 128.230469 C 442.53125 126.738281 444.773438 126.738281 444.773438 128.230469 \"/>\n",
       "<path style=\"fill:none;stroke-width:0.75;stroke-linecap:round;stroke-linejoin:round;stroke:rgb(0%,0%,0%);stroke-opacity:1;stroke-miterlimit:10;\" d=\"M 445.042969 126.421875 C 445.042969 127.914063 442.800781 127.914063 442.800781 126.421875 C 442.800781 124.925781 445.042969 124.925781 445.042969 126.421875 \"/>\n",
       "<path style=\"fill:none;stroke-width:0.75;stroke-linecap:round;stroke-linejoin:round;stroke:rgb(0%,0%,0%);stroke-opacity:1;stroke-miterlimit:10;\" d=\"M 445.308594 125.171875 C 445.308594 126.664063 443.070313 126.664063 443.070313 125.171875 C 443.070313 123.675781 445.308594 123.675781 445.308594 125.171875 \"/>\n",
       "<path style=\"fill:none;stroke-width:0.75;stroke-linecap:round;stroke-linejoin:round;stroke:rgb(0%,0%,0%);stroke-opacity:1;stroke-miterlimit:10;\" d=\"M 445.578125 151.835938 C 445.578125 153.328125 443.335938 153.328125 443.335938 151.835938 C 443.335938 150.339844 445.578125 150.339844 445.578125 151.835938 \"/>\n",
       "<path style=\"fill:none;stroke-width:0.75;stroke-linecap:round;stroke-linejoin:round;stroke:rgb(0%,0%,0%);stroke-opacity:1;stroke-miterlimit:10;\" d=\"M 445.847656 126.945313 C 445.847656 128.4375 443.605469 128.4375 443.605469 126.945313 C 443.605469 125.449219 445.847656 125.449219 445.847656 126.945313 \"/>\n",
       "<path style=\"fill:none;stroke-width:0.75;stroke-linecap:round;stroke-linejoin:round;stroke:rgb(0%,0%,0%);stroke-opacity:1;stroke-miterlimit:10;\" d=\"M 446.117188 121.960938 C 446.117188 123.457031 443.875 123.457031 443.875 121.960938 C 443.875 120.46875 446.117188 120.46875 446.117188 121.960938 \"/>\n",
       "<path style=\"fill:none;stroke-width:0.75;stroke-linecap:round;stroke-linejoin:round;stroke:rgb(0%,0%,0%);stroke-opacity:1;stroke-miterlimit:10;\" d=\"M 446.382813 126.625 C 446.382813 128.121094 444.144531 128.121094 444.144531 126.625 C 444.144531 125.132813 446.382813 125.132813 446.382813 126.625 \"/>\n",
       "<path style=\"fill:none;stroke-width:0.75;stroke-linecap:round;stroke-linejoin:round;stroke:rgb(0%,0%,0%);stroke-opacity:1;stroke-miterlimit:10;\" d=\"M 446.652344 124.316406 C 446.652344 125.8125 444.410156 125.8125 444.410156 124.316406 C 444.410156 122.824219 446.652344 122.824219 446.652344 124.316406 \"/>\n",
       "<path style=\"fill:none;stroke-width:0.75;stroke-linecap:round;stroke-linejoin:round;stroke:rgb(0%,0%,0%);stroke-opacity:1;stroke-miterlimit:10;\" d=\"M 446.921875 133.816406 C 446.921875 135.308594 444.679688 135.308594 444.679688 133.816406 C 444.679688 132.320313 446.921875 132.320313 446.921875 133.816406 \"/>\n",
       "<path style=\"fill:none;stroke-width:0.75;stroke-linecap:round;stroke-linejoin:round;stroke:rgb(0%,0%,0%);stroke-opacity:1;stroke-miterlimit:10;\" d=\"M 447.1875 143.003906 C 447.1875 144.496094 444.949219 144.496094 444.949219 143.003906 C 444.949219 141.507813 447.1875 141.507813 447.1875 143.003906 \"/>\n",
       "<path style=\"fill:none;stroke-width:0.75;stroke-linecap:round;stroke-linejoin:round;stroke:rgb(0%,0%,0%);stroke-opacity:1;stroke-miterlimit:10;\" d=\"M 447.457031 148.785156 C 447.457031 150.28125 445.214844 150.28125 445.214844 148.785156 C 445.214844 147.292969 447.457031 147.292969 447.457031 148.785156 \"/>\n",
       "<path style=\"fill:none;stroke-width:0.75;stroke-linecap:round;stroke-linejoin:round;stroke:rgb(0%,0%,0%);stroke-opacity:1;stroke-miterlimit:10;\" d=\"M 447.726563 131.460938 C 447.726563 132.957031 445.484375 132.957031 445.484375 131.460938 C 445.484375 129.96875 447.726563 129.96875 447.726563 131.460938 \"/>\n",
       "<path style=\"fill:none;stroke-width:0.75;stroke-linecap:round;stroke-linejoin:round;stroke:rgb(0%,0%,0%);stroke-opacity:1;stroke-miterlimit:10;\" d=\"M 447.996094 129.417969 C 447.996094 130.910156 445.753906 130.910156 445.753906 129.417969 C 445.753906 127.921875 447.996094 127.921875 447.996094 129.417969 \"/>\n",
       "<path style=\"fill:none;stroke-width:0.75;stroke-linecap:round;stroke-linejoin:round;stroke:rgb(0%,0%,0%);stroke-opacity:1;stroke-miterlimit:10;\" d=\"M 448.261719 128.429688 C 448.261719 129.925781 446.023438 129.925781 446.023438 128.429688 C 446.023438 126.9375 448.261719 126.9375 448.261719 128.429688 \"/>\n",
       "<path style=\"fill:none;stroke-width:0.75;stroke-linecap:round;stroke-linejoin:round;stroke:rgb(0%,0%,0%);stroke-opacity:1;stroke-miterlimit:10;\" d=\"M 448.53125 127.320313 C 448.53125 128.8125 446.289063 128.8125 446.289063 127.320313 C 446.289063 125.824219 448.53125 125.824219 448.53125 127.320313 \"/>\n",
       "<path style=\"fill:none;stroke-width:0.75;stroke-linecap:round;stroke-linejoin:round;stroke:rgb(0%,0%,0%);stroke-opacity:1;stroke-miterlimit:10;\" d=\"M 448.800781 126.785156 C 448.800781 128.277344 446.558594 128.277344 446.558594 126.785156 C 446.558594 125.289063 448.800781 125.289063 448.800781 126.785156 \"/>\n",
       "<path style=\"fill:none;stroke-width:0.75;stroke-linecap:round;stroke-linejoin:round;stroke:rgb(0%,0%,0%);stroke-opacity:1;stroke-miterlimit:10;\" d=\"M 449.066406 134.097656 C 449.066406 135.589844 446.828125 135.589844 446.828125 134.097656 C 446.828125 132.601563 449.066406 132.601563 449.066406 134.097656 \"/>\n",
       "<path style=\"fill:none;stroke-width:0.75;stroke-linecap:round;stroke-linejoin:round;stroke:rgb(0%,0%,0%);stroke-opacity:1;stroke-miterlimit:10;\" d=\"M 449.335938 149.789063 C 449.335938 151.28125 447.09375 151.28125 447.09375 149.789063 C 447.09375 148.292969 449.335938 148.292969 449.335938 149.789063 \"/>\n",
       "<path style=\"fill:none;stroke-width:0.75;stroke-linecap:round;stroke-linejoin:round;stroke:rgb(0%,0%,0%);stroke-opacity:1;stroke-miterlimit:10;\" d=\"M 449.605469 118.132813 C 449.605469 119.628906 447.363281 119.628906 447.363281 118.132813 C 447.363281 116.640625 449.605469 116.640625 449.605469 118.132813 \"/>\n",
       "<path style=\"fill:none;stroke-width:0.75;stroke-linecap:round;stroke-linejoin:round;stroke:rgb(0%,0%,0%);stroke-opacity:1;stroke-miterlimit:10;\" d=\"M 449.875 113.460938 C 449.875 114.953125 447.632813 114.953125 447.632813 113.460938 C 447.632813 111.96875 449.875 111.96875 449.875 113.460938 \"/>\n",
       "<path style=\"fill:none;stroke-width:0.75;stroke-linecap:round;stroke-linejoin:round;stroke:rgb(0%,0%,0%);stroke-opacity:1;stroke-miterlimit:10;\" d=\"M 450.140625 114.578125 C 450.140625 116.070313 447.902344 116.070313 447.902344 114.578125 C 447.902344 113.082031 450.140625 113.082031 450.140625 114.578125 \"/>\n",
       "<path style=\"fill:none;stroke-width:0.75;stroke-linecap:round;stroke-linejoin:round;stroke:rgb(0%,0%,0%);stroke-opacity:1;stroke-miterlimit:10;\" d=\"M 450.410156 118.859375 C 450.410156 120.355469 448.167969 120.355469 448.167969 118.859375 C 448.167969 117.367188 450.410156 117.367188 450.410156 118.859375 \"/>\n",
       "<path style=\"fill:none;stroke-width:0.75;stroke-linecap:round;stroke-linejoin:round;stroke:rgb(0%,0%,0%);stroke-opacity:1;stroke-miterlimit:10;\" d=\"M 450.679688 104.925781 C 450.679688 106.421875 448.4375 106.421875 448.4375 104.925781 C 448.4375 103.433594 450.679688 103.433594 450.679688 104.925781 \"/>\n",
       "<path style=\"fill:none;stroke-width:0.75;stroke-linecap:round;stroke-linejoin:round;stroke:rgb(0%,0%,0%);stroke-opacity:1;stroke-miterlimit:10;\" d=\"M 450.945313 129.464844 C 450.945313 130.957031 448.707031 130.957031 448.707031 129.464844 C 448.707031 127.96875 450.945313 127.96875 450.945313 129.464844 \"/>\n",
       "<path style=\"fill:none;stroke-width:0.75;stroke-linecap:round;stroke-linejoin:round;stroke:rgb(0%,0%,0%);stroke-opacity:1;stroke-miterlimit:10;\" d=\"M 451.214844 143.933594 C 451.214844 145.425781 448.972656 145.425781 448.972656 143.933594 C 448.972656 142.4375 451.214844 142.4375 451.214844 143.933594 \"/>\n",
       "<path style=\"fill:none;stroke-width:0.75;stroke-linecap:round;stroke-linejoin:round;stroke:rgb(0%,0%,0%);stroke-opacity:1;stroke-miterlimit:10;\" d=\"M 451.484375 115.910156 C 451.484375 117.402344 449.242188 117.402344 449.242188 115.910156 C 449.242188 114.414063 451.484375 114.414063 451.484375 115.910156 \"/>\n",
       "<path style=\"fill:none;stroke-width:0.75;stroke-linecap:round;stroke-linejoin:round;stroke:rgb(0%,0%,0%);stroke-opacity:1;stroke-miterlimit:10;\" d=\"M 451.753906 117.679688 C 451.753906 119.171875 449.511719 119.171875 449.511719 117.679688 C 449.511719 116.183594 451.753906 116.183594 451.753906 117.679688 \"/>\n",
       "<path style=\"fill:none;stroke-width:0.75;stroke-linecap:round;stroke-linejoin:round;stroke:rgb(0%,0%,0%);stroke-opacity:1;stroke-miterlimit:10;\" d=\"M 452.019531 112.148438 C 452.019531 113.640625 449.78125 113.640625 449.78125 112.148438 C 449.78125 110.652344 452.019531 110.652344 452.019531 112.148438 \"/>\n",
       "<path style=\"fill:none;stroke-width:0.75;stroke-linecap:round;stroke-linejoin:round;stroke:rgb(0%,0%,0%);stroke-opacity:1;stroke-miterlimit:10;\" d=\"M 452.289063 119.269531 C 452.289063 120.765625 450.046875 120.765625 450.046875 119.269531 C 450.046875 117.777344 452.289063 117.777344 452.289063 119.269531 \"/>\n",
       "<path style=\"fill:none;stroke-width:0.75;stroke-linecap:round;stroke-linejoin:round;stroke:rgb(0%,0%,0%);stroke-opacity:1;stroke-miterlimit:10;\" d=\"M 452.558594 118.660156 C 452.558594 120.152344 450.316406 120.152344 450.316406 118.660156 C 450.316406 117.164063 452.558594 117.164063 452.558594 118.660156 \"/>\n",
       "<path style=\"fill:none;stroke-width:0.75;stroke-linecap:round;stroke-linejoin:round;stroke:rgb(0%,0%,0%);stroke-opacity:1;stroke-miterlimit:10;\" d=\"M 452.824219 131.765625 C 452.824219 133.261719 450.585938 133.261719 450.585938 131.765625 C 450.585938 130.273438 452.824219 130.273438 452.824219 131.765625 \"/>\n",
       "<path style=\"fill:none;stroke-width:0.75;stroke-linecap:round;stroke-linejoin:round;stroke:rgb(0%,0%,0%);stroke-opacity:1;stroke-miterlimit:10;\" d=\"M 453.09375 144.703125 C 453.09375 146.199219 450.851563 146.199219 450.851563 144.703125 C 450.851563 143.210938 453.09375 143.210938 453.09375 144.703125 \"/>\n",
       "<path style=\"fill:none;stroke-width:0.75;stroke-linecap:round;stroke-linejoin:round;stroke:rgb(0%,0%,0%);stroke-opacity:1;stroke-miterlimit:10;\" d=\"M 453.363281 121.027344 C 453.363281 122.523438 451.121094 122.523438 451.121094 121.027344 C 451.121094 119.535156 453.363281 119.535156 453.363281 121.027344 \"/>\n",
       "<path style=\"fill:none;stroke-width:0.75;stroke-linecap:round;stroke-linejoin:round;stroke:rgb(0%,0%,0%);stroke-opacity:1;stroke-miterlimit:10;\" d=\"M 453.632813 125.050781 C 453.632813 126.546875 451.390625 126.546875 451.390625 125.050781 C 451.390625 123.558594 453.632813 123.558594 453.632813 125.050781 \"/>\n",
       "<path style=\"fill:none;stroke-width:0.75;stroke-linecap:round;stroke-linejoin:round;stroke:rgb(0%,0%,0%);stroke-opacity:1;stroke-miterlimit:10;\" d=\"M 453.898438 114.085938 C 453.898438 115.582031 451.660156 115.582031 451.660156 114.085938 C 451.660156 112.59375 453.898438 112.59375 453.898438 114.085938 \"/>\n",
       "<path style=\"fill:none;stroke-width:0.75;stroke-linecap:round;stroke-linejoin:round;stroke:rgb(0%,0%,0%);stroke-opacity:1;stroke-miterlimit:10;\" d=\"M 454.167969 114.808594 C 454.167969 116.300781 451.925781 116.300781 451.925781 114.808594 C 451.925781 113.3125 454.167969 113.3125 454.167969 114.808594 \"/>\n",
       "<path style=\"fill:none;stroke-width:0.75;stroke-linecap:round;stroke-linejoin:round;stroke:rgb(0%,0%,0%);stroke-opacity:1;stroke-miterlimit:10;\" d=\"M 454.4375 122.757813 C 454.4375 124.253906 452.195313 124.253906 452.195313 122.757813 C 452.195313 121.265625 454.4375 121.265625 454.4375 122.757813 \"/>\n",
       "<path style=\"fill:none;stroke-width:0.75;stroke-linecap:round;stroke-linejoin:round;stroke:rgb(0%,0%,0%);stroke-opacity:1;stroke-miterlimit:10;\" d=\"M 454.703125 125.210938 C 454.703125 126.707031 452.464844 126.707031 452.464844 125.210938 C 452.464844 123.71875 454.703125 123.71875 454.703125 125.210938 \"/>\n",
       "<path style=\"fill:none;stroke-width:0.75;stroke-linecap:round;stroke-linejoin:round;stroke:rgb(0%,0%,0%);stroke-opacity:1;stroke-miterlimit:10;\" d=\"M 454.972656 129.085938 C 454.972656 130.578125 452.730469 130.578125 452.730469 129.085938 C 452.730469 127.589844 454.972656 127.589844 454.972656 129.085938 \"/>\n",
       "<path style=\"fill:none;stroke-width:0.75;stroke-linecap:round;stroke-linejoin:round;stroke:rgb(0%,0%,0%);stroke-opacity:1;stroke-miterlimit:10;\" d=\"M 455.242188 125.238281 C 455.242188 126.734375 453 126.734375 453 125.238281 C 453 123.746094 455.242188 123.746094 455.242188 125.238281 \"/>\n",
       "<path style=\"fill:none;stroke-width:0.75;stroke-linecap:round;stroke-linejoin:round;stroke:rgb(0%,0%,0%);stroke-opacity:1;stroke-miterlimit:10;\" d=\"M 455.511719 112.578125 C 455.511719 114.074219 453.269531 114.074219 453.269531 112.578125 C 453.269531 111.085938 455.511719 111.085938 455.511719 112.578125 \"/>\n",
       "<path style=\"fill:none;stroke-width:0.75;stroke-linecap:round;stroke-linejoin:round;stroke:rgb(0%,0%,0%);stroke-opacity:1;stroke-miterlimit:10;\" d=\"M 455.777344 96.019531 C 455.777344 97.515625 453.539063 97.515625 453.539063 96.019531 C 453.539063 94.527344 455.777344 94.527344 455.777344 96.019531 \"/>\n",
       "<path style=\"fill:none;stroke-width:0.75;stroke-linecap:round;stroke-linejoin:round;stroke:rgb(0%,0%,0%);stroke-opacity:1;stroke-miterlimit:10;\" d=\"M 456.046875 118.566406 C 456.046875 120.0625 453.804688 120.0625 453.804688 118.566406 C 453.804688 117.074219 456.046875 117.074219 456.046875 118.566406 \"/>\n",
       "<path style=\"fill:none;stroke-width:0.75;stroke-linecap:round;stroke-linejoin:round;stroke:rgb(0%,0%,0%);stroke-opacity:1;stroke-miterlimit:10;\" d=\"M 456.316406 168.382813 C 456.316406 169.875 454.074219 169.875 454.074219 168.382813 C 454.074219 166.886719 456.316406 166.886719 456.316406 168.382813 \"/>\n",
       "<path style=\"fill:none;stroke-width:0.75;stroke-linecap:round;stroke-linejoin:round;stroke:rgb(0%,0%,0%);stroke-opacity:1;stroke-miterlimit:10;\" d=\"M 456.582031 121.769531 C 456.582031 123.261719 454.34375 123.261719 454.34375 121.769531 C 454.34375 120.277344 456.582031 120.277344 456.582031 121.769531 \"/>\n",
       "<path style=\"fill:none;stroke-width:0.75;stroke-linecap:round;stroke-linejoin:round;stroke:rgb(0%,0%,0%);stroke-opacity:1;stroke-miterlimit:10;\" d=\"M 456.851563 140.640625 C 456.851563 142.136719 454.609375 142.136719 454.609375 140.640625 C 454.609375 139.148438 456.851563 139.148438 456.851563 140.640625 \"/>\n",
       "<path style=\"fill:none;stroke-width:0.75;stroke-linecap:round;stroke-linejoin:round;stroke:rgb(0%,0%,0%);stroke-opacity:1;stroke-miterlimit:10;\" d=\"M 457.121094 120.039063 C 457.121094 121.53125 454.878906 121.53125 454.878906 120.039063 C 454.878906 118.546875 457.121094 118.546875 457.121094 120.039063 \"/>\n",
       "<path style=\"fill:none;stroke-width:0.75;stroke-linecap:round;stroke-linejoin:round;stroke:rgb(0%,0%,0%);stroke-opacity:1;stroke-miterlimit:10;\" d=\"M 457.390625 106.765625 C 457.390625 108.257813 455.148438 108.257813 455.148438 106.765625 C 455.148438 105.269531 457.390625 105.269531 457.390625 106.765625 \"/>\n",
       "<path style=\"fill:none;stroke-width:0.75;stroke-linecap:round;stroke-linejoin:round;stroke:rgb(0%,0%,0%);stroke-opacity:1;stroke-miterlimit:10;\" d=\"M 457.65625 101.082031 C 457.65625 102.574219 455.417969 102.574219 455.417969 101.082031 C 455.417969 99.585938 457.65625 99.585938 457.65625 101.082031 \"/>\n",
       "<path style=\"fill:none;stroke-width:0.75;stroke-linecap:round;stroke-linejoin:round;stroke:rgb(0%,0%,0%);stroke-opacity:1;stroke-miterlimit:10;\" d=\"M 457.925781 118.957031 C 457.925781 120.449219 455.683594 120.449219 455.683594 118.957031 C 455.683594 117.460938 457.925781 117.460938 457.925781 118.957031 \"/>\n",
       "<path style=\"fill:none;stroke-width:0.75;stroke-linecap:round;stroke-linejoin:round;stroke:rgb(0%,0%,0%);stroke-opacity:1;stroke-miterlimit:10;\" d=\"M 458.195313 172.21875 C 458.195313 173.714844 455.953125 173.714844 455.953125 172.21875 C 455.953125 170.726563 458.195313 170.726563 458.195313 172.21875 \"/>\n",
       "<path style=\"fill:none;stroke-width:0.75;stroke-linecap:round;stroke-linejoin:round;stroke:rgb(0%,0%,0%);stroke-opacity:1;stroke-miterlimit:10;\" d=\"M 458.460938 126.09375 C 458.460938 127.585938 456.222656 127.585938 456.222656 126.09375 C 456.222656 124.597656 458.460938 124.597656 458.460938 126.09375 \"/>\n",
       "<path style=\"fill:none;stroke-width:0.75;stroke-linecap:round;stroke-linejoin:round;stroke:rgb(0%,0%,0%);stroke-opacity:1;stroke-miterlimit:10;\" d=\"M 458.730469 155.503906 C 458.730469 156.996094 456.488281 156.996094 456.488281 155.503906 C 456.488281 154.007813 458.730469 154.007813 458.730469 155.503906 \"/>\n",
       "<path style=\"fill:none;stroke-width:0.75;stroke-linecap:round;stroke-linejoin:round;stroke:rgb(0%,0%,0%);stroke-opacity:1;stroke-miterlimit:10;\" d=\"M 459 98.054688 C 459 99.550781 456.757813 99.550781 456.757813 98.054688 C 456.757813 96.5625 459 96.5625 459 98.054688 \"/>\n",
       "<path style=\"fill:none;stroke-width:0.75;stroke-linecap:round;stroke-linejoin:round;stroke:rgb(0%,0%,0%);stroke-opacity:1;stroke-miterlimit:10;\" d=\"M 459.269531 108.8125 C 459.269531 110.304688 457.027344 110.304688 457.027344 108.8125 C 457.027344 107.316406 459.269531 107.316406 459.269531 108.8125 \"/>\n",
       "<path style=\"fill:none;stroke-width:0.75;stroke-linecap:round;stroke-linejoin:round;stroke:rgb(0%,0%,0%);stroke-opacity:1;stroke-miterlimit:10;\" d=\"M 459.535156 118.902344 C 459.535156 120.394531 457.296875 120.394531 457.296875 118.902344 C 457.296875 117.40625 459.535156 117.40625 459.535156 118.902344 \"/>\n",
       "<path style=\"fill:none;stroke-width:0.75;stroke-linecap:round;stroke-linejoin:round;stroke:rgb(0%,0%,0%);stroke-opacity:1;stroke-miterlimit:10;\" d=\"M 459.804688 107.613281 C 459.804688 109.109375 457.5625 109.109375 457.5625 107.613281 C 457.5625 106.121094 459.804688 106.121094 459.804688 107.613281 \"/>\n",
       "<path style=\"fill:none;stroke-width:0.75;stroke-linecap:round;stroke-linejoin:round;stroke:rgb(0%,0%,0%);stroke-opacity:1;stroke-miterlimit:10;\" d=\"M 460.074219 111.53125 C 460.074219 113.023438 457.832031 113.023438 457.832031 111.53125 C 457.832031 110.035156 460.074219 110.035156 460.074219 111.53125 \"/>\n",
       "<path style=\"fill:none;stroke-width:0.75;stroke-linecap:round;stroke-linejoin:round;stroke:rgb(0%,0%,0%);stroke-opacity:1;stroke-miterlimit:10;\" d=\"M 460.339844 127.039063 C 460.339844 128.53125 458.101563 128.53125 458.101563 127.039063 C 458.101563 125.542969 460.339844 125.542969 460.339844 127.039063 \"/>\n",
       "<path style=\"fill:none;stroke-width:0.75;stroke-linecap:round;stroke-linejoin:round;stroke:rgb(0%,0%,0%);stroke-opacity:1;stroke-miterlimit:10;\" d=\"M 460.609375 150.429688 C 460.609375 151.921875 458.367188 151.921875 458.367188 150.429688 C 458.367188 148.933594 460.609375 148.933594 460.609375 150.429688 \"/>\n",
       "<path style=\"fill:none;stroke-width:0.75;stroke-linecap:round;stroke-linejoin:round;stroke:rgb(0%,0%,0%);stroke-opacity:1;stroke-miterlimit:10;\" d=\"M 460.878906 133.960938 C 460.878906 135.457031 458.636719 135.457031 458.636719 133.960938 C 458.636719 132.46875 460.878906 132.46875 460.878906 133.960938 \"/>\n",
       "<path style=\"fill:none;stroke-width:0.75;stroke-linecap:round;stroke-linejoin:round;stroke:rgb(0%,0%,0%);stroke-opacity:1;stroke-miterlimit:10;\" d=\"M 461.148438 111.609375 C 461.148438 113.101563 458.90625 113.101563 458.90625 111.609375 C 458.90625 110.113281 461.148438 110.113281 461.148438 111.609375 \"/>\n",
       "<path style=\"fill:none;stroke-width:0.75;stroke-linecap:round;stroke-linejoin:round;stroke:rgb(0%,0%,0%);stroke-opacity:1;stroke-miterlimit:10;\" d=\"M 461.414063 107.742188 C 461.414063 109.238281 459.175781 109.238281 459.175781 107.742188 C 459.175781 106.25 461.414063 106.25 461.414063 107.742188 \"/>\n",
       "<path style=\"fill:none;stroke-width:0.75;stroke-linecap:round;stroke-linejoin:round;stroke:rgb(0%,0%,0%);stroke-opacity:1;stroke-miterlimit:10;\" d=\"M 461.683594 123.714844 C 461.683594 125.207031 459.441406 125.207031 459.441406 123.714844 C 459.441406 122.21875 461.683594 122.21875 461.683594 123.714844 \"/>\n",
       "<path style=\"fill:none;stroke-width:0.75;stroke-linecap:round;stroke-linejoin:round;stroke:rgb(0%,0%,0%);stroke-opacity:1;stroke-miterlimit:10;\" d=\"M 461.953125 119.035156 C 461.953125 120.53125 459.710938 120.53125 459.710938 119.035156 C 459.710938 117.542969 461.953125 117.542969 461.953125 119.035156 \"/>\n",
       "<path style=\"fill:none;stroke-width:0.75;stroke-linecap:round;stroke-linejoin:round;stroke:rgb(0%,0%,0%);stroke-opacity:1;stroke-miterlimit:10;\" d=\"M 462.21875 117.519531 C 462.21875 119.011719 459.980469 119.011719 459.980469 117.519531 C 459.980469 116.023438 462.21875 116.023438 462.21875 117.519531 \"/>\n",
       "<path style=\"fill:none;stroke-width:0.75;stroke-linecap:round;stroke-linejoin:round;stroke:rgb(0%,0%,0%);stroke-opacity:1;stroke-miterlimit:10;\" d=\"M 462.488281 149.835938 C 462.488281 151.332031 460.246094 151.332031 460.246094 149.835938 C 460.246094 148.34375 462.488281 148.34375 462.488281 149.835938 \"/>\n",
       "<path style=\"fill:none;stroke-width:0.75;stroke-linecap:round;stroke-linejoin:round;stroke:rgb(0%,0%,0%);stroke-opacity:1;stroke-miterlimit:10;\" d=\"M 462.757813 120.183594 C 462.757813 121.675781 460.515625 121.675781 460.515625 120.183594 C 460.515625 118.6875 462.757813 118.6875 462.757813 120.183594 \"/>\n",
       "<path style=\"fill:none;stroke-width:0.75;stroke-linecap:round;stroke-linejoin:round;stroke:rgb(0%,0%,0%);stroke-opacity:1;stroke-miterlimit:10;\" d=\"M 463.027344 130.476563 C 463.027344 131.972656 460.785156 131.972656 460.785156 130.476563 C 460.785156 128.984375 463.027344 128.984375 463.027344 130.476563 \"/>\n",
       "<path style=\"fill:none;stroke-width:0.75;stroke-linecap:round;stroke-linejoin:round;stroke:rgb(0%,0%,0%);stroke-opacity:1;stroke-miterlimit:10;\" d=\"M 463.292969 136.292969 C 463.292969 137.785156 461.054688 137.785156 461.054688 136.292969 C 461.054688 134.796875 463.292969 134.796875 463.292969 136.292969 \"/>\n",
       "<path style=\"fill:none;stroke-width:0.75;stroke-linecap:round;stroke-linejoin:round;stroke:rgb(0%,0%,0%);stroke-opacity:1;stroke-miterlimit:10;\" d=\"M 463.5625 123.328125 C 463.5625 124.824219 461.320313 124.824219 461.320313 123.328125 C 461.320313 121.835938 463.5625 121.835938 463.5625 123.328125 \"/>\n",
       "<path style=\"fill:none;stroke-width:0.75;stroke-linecap:round;stroke-linejoin:round;stroke:rgb(0%,0%,0%);stroke-opacity:1;stroke-miterlimit:10;\" d=\"M 463.832031 123.667969 C 463.832031 125.160156 461.589844 125.160156 461.589844 123.667969 C 461.589844 122.171875 463.832031 122.171875 463.832031 123.667969 \"/>\n",
       "<path style=\"fill:none;stroke-width:0.75;stroke-linecap:round;stroke-linejoin:round;stroke:rgb(0%,0%,0%);stroke-opacity:1;stroke-miterlimit:10;\" d=\"M 464.097656 129.238281 C 464.097656 130.734375 461.859375 130.734375 461.859375 129.238281 C 461.859375 127.746094 464.097656 127.746094 464.097656 129.238281 \"/>\n",
       "</g>\n",
       "<g clip-path=\"url(#clip4)\" clip-rule=\"nonzero\">\n",
       "<path style=\"fill:none;stroke-width:0.75;stroke-linecap:round;stroke-linejoin:round;stroke:rgb(0%,0%,0%);stroke-opacity:1;stroke-miterlimit:10;\" d=\"M 53.484375 414.730469 L 53.484375 414.730469 \"/>\n",
       "<path style=\"fill:none;stroke-width:0.75;stroke-linecap:round;stroke-linejoin:round;stroke:rgb(0%,0%,0%);stroke-opacity:1;stroke-miterlimit:10;\" d=\"M 55.636719 414.730469 L 55.636719 353.1875 \"/>\n",
       "<path style=\"fill:none;stroke-width:0.75;stroke-linecap:round;stroke-linejoin:round;stroke:rgb(0%,0%,0%);stroke-opacity:1;stroke-miterlimit:10;\" d=\"M 57.789063 414.730469 L 57.789063 368.429688 \"/>\n",
       "<path style=\"fill:none;stroke-width:0.75;stroke-linecap:round;stroke-linejoin:round;stroke:rgb(0%,0%,0%);stroke-opacity:1;stroke-miterlimit:10;\" d=\"M 59.945313 414.730469 L 59.945313 375.371094 \"/>\n",
       "<path style=\"fill:none;stroke-width:0.75;stroke-linecap:round;stroke-linejoin:round;stroke:rgb(0%,0%,0%);stroke-opacity:1;stroke-miterlimit:10;\" d=\"M 62.097656 414.730469 L 62.097656 376.144531 \"/>\n",
       "<path style=\"fill:none;stroke-width:0.75;stroke-linecap:round;stroke-linejoin:round;stroke:rgb(0%,0%,0%);stroke-opacity:1;stroke-miterlimit:10;\" d=\"M 64.25 414.730469 L 64.25 373.675781 \"/>\n",
       "<path style=\"fill:none;stroke-width:0.75;stroke-linecap:round;stroke-linejoin:round;stroke:rgb(0%,0%,0%);stroke-opacity:1;stroke-miterlimit:10;\" d=\"M 66.402344 414.730469 L 66.402344 362.554688 \"/>\n",
       "<path style=\"fill:none;stroke-width:0.75;stroke-linecap:round;stroke-linejoin:round;stroke:rgb(0%,0%,0%);stroke-opacity:1;stroke-miterlimit:10;\" d=\"M 68.558594 414.730469 L 68.558594 276.382813 \"/>\n",
       "<path style=\"fill:none;stroke-width:0.75;stroke-linecap:round;stroke-linejoin:round;stroke:rgb(0%,0%,0%);stroke-opacity:1;stroke-miterlimit:10;\" d=\"M 70.710938 414.730469 L 70.710938 364.078125 \"/>\n",
       "<path style=\"fill:none;stroke-width:0.75;stroke-linecap:round;stroke-linejoin:round;stroke:rgb(0%,0%,0%);stroke-opacity:1;stroke-miterlimit:10;\" d=\"M 72.863281 414.730469 L 72.863281 376.65625 \"/>\n",
       "<path style=\"fill:none;stroke-width:0.75;stroke-linecap:round;stroke-linejoin:round;stroke:rgb(0%,0%,0%);stroke-opacity:1;stroke-miterlimit:10;\" d=\"M 75.019531 414.730469 L 75.019531 381.441406 \"/>\n",
       "<path style=\"fill:none;stroke-width:0.75;stroke-linecap:round;stroke-linejoin:round;stroke:rgb(0%,0%,0%);stroke-opacity:1;stroke-miterlimit:10;\" d=\"M 77.171875 414.730469 L 77.171875 381.386719 \"/>\n",
       "<path style=\"fill:none;stroke-width:0.75;stroke-linecap:round;stroke-linejoin:round;stroke:rgb(0%,0%,0%);stroke-opacity:1;stroke-miterlimit:10;\" d=\"M 79.324219 414.730469 L 79.324219 379.628906 \"/>\n",
       "<path style=\"fill:none;stroke-width:0.75;stroke-linecap:round;stroke-linejoin:round;stroke:rgb(0%,0%,0%);stroke-opacity:1;stroke-miterlimit:10;\" d=\"M 81.480469 414.730469 L 81.480469 368.582031 \"/>\n",
       "<path style=\"fill:none;stroke-width:0.75;stroke-linecap:round;stroke-linejoin:round;stroke:rgb(0%,0%,0%);stroke-opacity:1;stroke-miterlimit:10;\" d=\"M 83.632813 414.730469 L 83.632813 287.664063 \"/>\n",
       "<path style=\"fill:none;stroke-width:0.75;stroke-linecap:round;stroke-linejoin:round;stroke:rgb(0%,0%,0%);stroke-opacity:1;stroke-miterlimit:10;\" d=\"M 85.785156 414.730469 L 85.785156 368.410156 \"/>\n",
       "<path style=\"fill:none;stroke-width:0.75;stroke-linecap:round;stroke-linejoin:round;stroke:rgb(0%,0%,0%);stroke-opacity:1;stroke-miterlimit:10;\" d=\"M 87.941406 414.730469 L 87.941406 378.902344 \"/>\n",
       "<path style=\"fill:none;stroke-width:0.75;stroke-linecap:round;stroke-linejoin:round;stroke:rgb(0%,0%,0%);stroke-opacity:1;stroke-miterlimit:10;\" d=\"M 90.09375 414.730469 L 90.09375 381.125 \"/>\n",
       "<path style=\"fill:none;stroke-width:0.75;stroke-linecap:round;stroke-linejoin:round;stroke:rgb(0%,0%,0%);stroke-opacity:1;stroke-miterlimit:10;\" d=\"M 92.246094 414.730469 L 92.246094 383.21875 \"/>\n",
       "<path style=\"fill:none;stroke-width:0.75;stroke-linecap:round;stroke-linejoin:round;stroke:rgb(0%,0%,0%);stroke-opacity:1;stroke-miterlimit:10;\" d=\"M 94.402344 414.730469 L 94.402344 379.484375 \"/>\n",
       "<path style=\"fill:none;stroke-width:0.75;stroke-linecap:round;stroke-linejoin:round;stroke:rgb(0%,0%,0%);stroke-opacity:1;stroke-miterlimit:10;\" d=\"M 96.554688 414.730469 L 96.554688 370.199219 \"/>\n",
       "<path style=\"fill:none;stroke-width:0.75;stroke-linecap:round;stroke-linejoin:round;stroke:rgb(0%,0%,0%);stroke-opacity:1;stroke-miterlimit:10;\" d=\"M 98.707031 414.730469 L 98.707031 288.761719 \"/>\n",
       "<path style=\"fill:none;stroke-width:0.75;stroke-linecap:round;stroke-linejoin:round;stroke:rgb(0%,0%,0%);stroke-opacity:1;stroke-miterlimit:10;\" d=\"M 100.863281 414.730469 L 100.863281 368.792969 \"/>\n",
       "<path style=\"fill:none;stroke-width:0.75;stroke-linecap:round;stroke-linejoin:round;stroke:rgb(0%,0%,0%);stroke-opacity:1;stroke-miterlimit:10;\" d=\"M 103.015625 414.730469 L 103.015625 378.96875 \"/>\n",
       "<path style=\"fill:none;stroke-width:0.75;stroke-linecap:round;stroke-linejoin:round;stroke:rgb(0%,0%,0%);stroke-opacity:1;stroke-miterlimit:10;\" d=\"M 105.167969 414.730469 L 105.167969 381.296875 \"/>\n",
       "<path style=\"fill:none;stroke-width:0.75;stroke-linecap:round;stroke-linejoin:round;stroke:rgb(0%,0%,0%);stroke-opacity:1;stroke-miterlimit:10;\" d=\"M 107.324219 414.730469 L 107.324219 382.675781 \"/>\n",
       "<path style=\"fill:none;stroke-width:0.75;stroke-linecap:round;stroke-linejoin:round;stroke:rgb(0%,0%,0%);stroke-opacity:1;stroke-miterlimit:10;\" d=\"M 109.476563 414.730469 L 109.476563 377.03125 \"/>\n",
       "<path style=\"fill:none;stroke-width:0.75;stroke-linecap:round;stroke-linejoin:round;stroke:rgb(0%,0%,0%);stroke-opacity:1;stroke-miterlimit:10;\" d=\"M 111.628906 414.730469 L 111.628906 368.375 \"/>\n",
       "<path style=\"fill:none;stroke-width:0.75;stroke-linecap:round;stroke-linejoin:round;stroke:rgb(0%,0%,0%);stroke-opacity:1;stroke-miterlimit:10;\" d=\"M 113.785156 414.730469 L 113.785156 286.421875 \"/>\n",
       "<path style=\"fill:none;stroke-width:0.75;stroke-linecap:round;stroke-linejoin:round;stroke:rgb(0%,0%,0%);stroke-opacity:1;stroke-miterlimit:10;\" d=\"M 115.9375 414.730469 L 115.9375 367.113281 \"/>\n",
       "<path style=\"fill:none;stroke-width:0.75;stroke-linecap:round;stroke-linejoin:round;stroke:rgb(0%,0%,0%);stroke-opacity:1;stroke-miterlimit:10;\" d=\"M 118.089844 414.730469 L 118.089844 376.351563 \"/>\n",
       "<path style=\"fill:none;stroke-width:0.75;stroke-linecap:round;stroke-linejoin:round;stroke:rgb(0%,0%,0%);stroke-opacity:1;stroke-miterlimit:10;\" d=\"M 120.242188 414.730469 L 120.242188 378.605469 \"/>\n",
       "<path style=\"fill:none;stroke-width:0.75;stroke-linecap:round;stroke-linejoin:round;stroke:rgb(0%,0%,0%);stroke-opacity:1;stroke-miterlimit:10;\" d=\"M 122.398438 414.730469 L 122.398438 379.625 \"/>\n",
       "<path style=\"fill:none;stroke-width:0.75;stroke-linecap:round;stroke-linejoin:round;stroke:rgb(0%,0%,0%);stroke-opacity:1;stroke-miterlimit:10;\" d=\"M 124.550781 414.730469 L 124.550781 377.773438 \"/>\n",
       "<path style=\"fill:none;stroke-width:0.75;stroke-linecap:round;stroke-linejoin:round;stroke:rgb(0%,0%,0%);stroke-opacity:1;stroke-miterlimit:10;\" d=\"M 126.703125 414.730469 L 126.703125 369.957031 \"/>\n",
       "<path style=\"fill:none;stroke-width:0.75;stroke-linecap:round;stroke-linejoin:round;stroke:rgb(0%,0%,0%);stroke-opacity:1;stroke-miterlimit:10;\" d=\"M 128.859375 414.730469 L 128.859375 288.445313 \"/>\n",
       "<path style=\"fill:none;stroke-width:0.75;stroke-linecap:round;stroke-linejoin:round;stroke:rgb(0%,0%,0%);stroke-opacity:1;stroke-miterlimit:10;\" d=\"M 131.011719 414.730469 L 131.011719 370.121094 \"/>\n",
       "<path style=\"fill:none;stroke-width:0.75;stroke-linecap:round;stroke-linejoin:round;stroke:rgb(0%,0%,0%);stroke-opacity:1;stroke-miterlimit:10;\" d=\"M 133.164063 414.730469 L 133.164063 384.304688 \"/>\n",
       "<path style=\"fill:none;stroke-width:0.75;stroke-linecap:round;stroke-linejoin:round;stroke:rgb(0%,0%,0%);stroke-opacity:1;stroke-miterlimit:10;\" d=\"M 135.320313 414.730469 L 135.320313 388.417969 \"/>\n",
       "<path style=\"fill:none;stroke-width:0.75;stroke-linecap:round;stroke-linejoin:round;stroke:rgb(0%,0%,0%);stroke-opacity:1;stroke-miterlimit:10;\" d=\"M 137.472656 414.730469 L 137.472656 389.339844 \"/>\n",
       "<path style=\"fill:none;stroke-width:0.75;stroke-linecap:round;stroke-linejoin:round;stroke:rgb(0%,0%,0%);stroke-opacity:1;stroke-miterlimit:10;\" d=\"M 139.625 414.730469 L 139.625 385.371094 \"/>\n",
       "<path style=\"fill:none;stroke-width:0.75;stroke-linecap:round;stroke-linejoin:round;stroke:rgb(0%,0%,0%);stroke-opacity:1;stroke-miterlimit:10;\" d=\"M 141.78125 414.730469 L 141.78125 378.878906 \"/>\n",
       "<path style=\"fill:none;stroke-width:0.75;stroke-linecap:round;stroke-linejoin:round;stroke:rgb(0%,0%,0%);stroke-opacity:1;stroke-miterlimit:10;\" d=\"M 143.933594 414.730469 L 143.933594 291.960938 \"/>\n",
       "<path style=\"fill:none;stroke-width:0.75;stroke-linecap:round;stroke-linejoin:round;stroke:rgb(0%,0%,0%);stroke-opacity:1;stroke-miterlimit:10;\" d=\"M 146.085938 414.730469 L 146.085938 378.664063 \"/>\n",
       "<path style=\"fill:none;stroke-width:0.75;stroke-linecap:round;stroke-linejoin:round;stroke:rgb(0%,0%,0%);stroke-opacity:1;stroke-miterlimit:10;\" d=\"M 148.242188 414.730469 L 148.242188 389.867188 \"/>\n",
       "<path style=\"fill:none;stroke-width:0.75;stroke-linecap:round;stroke-linejoin:round;stroke:rgb(0%,0%,0%);stroke-opacity:1;stroke-miterlimit:10;\" d=\"M 150.394531 414.730469 L 150.394531 392.496094 \"/>\n",
       "<path style=\"fill:none;stroke-width:0.75;stroke-linecap:round;stroke-linejoin:round;stroke:rgb(0%,0%,0%);stroke-opacity:1;stroke-miterlimit:10;\" d=\"M 152.546875 414.730469 L 152.546875 389.554688 \"/>\n",
       "<path style=\"fill:none;stroke-width:0.75;stroke-linecap:round;stroke-linejoin:round;stroke:rgb(0%,0%,0%);stroke-opacity:1;stroke-miterlimit:10;\" d=\"M 154.703125 414.730469 L 154.703125 385.363281 \"/>\n",
       "<path style=\"fill:none;stroke-width:0.75;stroke-linecap:round;stroke-linejoin:round;stroke:rgb(0%,0%,0%);stroke-opacity:1;stroke-miterlimit:10;\" d=\"M 156.855469 414.730469 L 156.855469 377.425781 \"/>\n",
       "<path style=\"fill:none;stroke-width:0.75;stroke-linecap:round;stroke-linejoin:round;stroke:rgb(0%,0%,0%);stroke-opacity:1;stroke-miterlimit:10;\" d=\"M 159.007813 414.730469 L 159.007813 298.035156 \"/>\n",
       "<path style=\"fill:none;stroke-width:0.75;stroke-linecap:round;stroke-linejoin:round;stroke:rgb(0%,0%,0%);stroke-opacity:1;stroke-miterlimit:10;\" d=\"M 161.164063 414.730469 L 161.164063 379.246094 \"/>\n",
       "<path style=\"fill:none;stroke-width:0.75;stroke-linecap:round;stroke-linejoin:round;stroke:rgb(0%,0%,0%);stroke-opacity:1;stroke-miterlimit:10;\" d=\"M 163.316406 414.730469 L 163.316406 389.675781 \"/>\n",
       "<path style=\"fill:none;stroke-width:0.75;stroke-linecap:round;stroke-linejoin:round;stroke:rgb(0%,0%,0%);stroke-opacity:1;stroke-miterlimit:10;\" d=\"M 165.46875 414.730469 L 165.46875 391.925781 \"/>\n",
       "<path style=\"fill:none;stroke-width:0.75;stroke-linecap:round;stroke-linejoin:round;stroke:rgb(0%,0%,0%);stroke-opacity:1;stroke-miterlimit:10;\" d=\"M 167.625 414.730469 L 167.625 390.757813 \"/>\n",
       "<path style=\"fill:none;stroke-width:0.75;stroke-linecap:round;stroke-linejoin:round;stroke:rgb(0%,0%,0%);stroke-opacity:1;stroke-miterlimit:10;\" d=\"M 169.777344 414.730469 L 169.777344 387.535156 \"/>\n",
       "<path style=\"fill:none;stroke-width:0.75;stroke-linecap:round;stroke-linejoin:round;stroke:rgb(0%,0%,0%);stroke-opacity:1;stroke-miterlimit:10;\" d=\"M 171.929688 414.730469 L 171.929688 377.128906 \"/>\n",
       "<path style=\"fill:none;stroke-width:0.75;stroke-linecap:round;stroke-linejoin:round;stroke:rgb(0%,0%,0%);stroke-opacity:1;stroke-miterlimit:10;\" d=\"M 174.082031 414.730469 L 174.082031 298.171875 \"/>\n",
       "<path style=\"fill:none;stroke-width:0.75;stroke-linecap:round;stroke-linejoin:round;stroke:rgb(0%,0%,0%);stroke-opacity:1;stroke-miterlimit:10;\" d=\"M 176.238281 414.730469 L 176.238281 376.214844 \"/>\n",
       "<path style=\"fill:none;stroke-width:0.75;stroke-linecap:round;stroke-linejoin:round;stroke:rgb(0%,0%,0%);stroke-opacity:1;stroke-miterlimit:10;\" d=\"M 178.390625 414.730469 L 178.390625 387.253906 \"/>\n",
       "<path style=\"fill:none;stroke-width:0.75;stroke-linecap:round;stroke-linejoin:round;stroke:rgb(0%,0%,0%);stroke-opacity:1;stroke-miterlimit:10;\" d=\"M 180.542969 414.730469 L 180.542969 388.132813 \"/>\n",
       "<path style=\"fill:none;stroke-width:0.75;stroke-linecap:round;stroke-linejoin:round;stroke:rgb(0%,0%,0%);stroke-opacity:1;stroke-miterlimit:10;\" d=\"M 182.699219 414.730469 L 182.699219 386.421875 \"/>\n",
       "<path style=\"fill:none;stroke-width:0.75;stroke-linecap:round;stroke-linejoin:round;stroke:rgb(0%,0%,0%);stroke-opacity:1;stroke-miterlimit:10;\" d=\"M 184.851563 414.730469 L 184.851563 385.011719 \"/>\n",
       "<path style=\"fill:none;stroke-width:0.75;stroke-linecap:round;stroke-linejoin:round;stroke:rgb(0%,0%,0%);stroke-opacity:1;stroke-miterlimit:10;\" d=\"M 187.003906 414.730469 L 187.003906 373.070313 \"/>\n",
       "<path style=\"fill:none;stroke-width:0.75;stroke-linecap:round;stroke-linejoin:round;stroke:rgb(0%,0%,0%);stroke-opacity:1;stroke-miterlimit:10;\" d=\"M 189.160156 414.730469 L 189.160156 296.628906 \"/>\n",
       "<path style=\"fill:none;stroke-width:0.75;stroke-linecap:round;stroke-linejoin:round;stroke:rgb(0%,0%,0%);stroke-opacity:1;stroke-miterlimit:10;\" d=\"M 191.3125 414.730469 L 191.3125 375.316406 \"/>\n",
       "<path style=\"fill:none;stroke-width:0.75;stroke-linecap:round;stroke-linejoin:round;stroke:rgb(0%,0%,0%);stroke-opacity:1;stroke-miterlimit:10;\" d=\"M 193.464844 414.730469 L 193.464844 389.242188 \"/>\n",
       "<path style=\"fill:none;stroke-width:0.75;stroke-linecap:round;stroke-linejoin:round;stroke:rgb(0%,0%,0%);stroke-opacity:1;stroke-miterlimit:10;\" d=\"M 195.621094 414.730469 L 195.621094 393.234375 \"/>\n",
       "<path style=\"fill:none;stroke-width:0.75;stroke-linecap:round;stroke-linejoin:round;stroke:rgb(0%,0%,0%);stroke-opacity:1;stroke-miterlimit:10;\" d=\"M 197.773438 414.730469 L 197.773438 396.703125 \"/>\n",
       "<path style=\"fill:none;stroke-width:0.75;stroke-linecap:round;stroke-linejoin:round;stroke:rgb(0%,0%,0%);stroke-opacity:1;stroke-miterlimit:10;\" d=\"M 199.925781 414.730469 L 199.925781 389.308594 \"/>\n",
       "<path style=\"fill:none;stroke-width:0.75;stroke-linecap:round;stroke-linejoin:round;stroke:rgb(0%,0%,0%);stroke-opacity:1;stroke-miterlimit:10;\" d=\"M 202.082031 414.730469 L 202.082031 383.785156 \"/>\n",
       "<path style=\"fill:none;stroke-width:0.75;stroke-linecap:round;stroke-linejoin:round;stroke:rgb(0%,0%,0%);stroke-opacity:1;stroke-miterlimit:10;\" d=\"M 204.234375 414.730469 L 204.234375 305.414063 \"/>\n",
       "<path style=\"fill:none;stroke-width:0.75;stroke-linecap:round;stroke-linejoin:round;stroke:rgb(0%,0%,0%);stroke-opacity:1;stroke-miterlimit:10;\" d=\"M 206.386719 414.730469 L 206.386719 385.039063 \"/>\n",
       "<path style=\"fill:none;stroke-width:0.75;stroke-linecap:round;stroke-linejoin:round;stroke:rgb(0%,0%,0%);stroke-opacity:1;stroke-miterlimit:10;\" d=\"M 208.542969 414.730469 L 208.542969 396.878906 \"/>\n",
       "<path style=\"fill:none;stroke-width:0.75;stroke-linecap:round;stroke-linejoin:round;stroke:rgb(0%,0%,0%);stroke-opacity:1;stroke-miterlimit:10;\" d=\"M 210.695313 414.730469 L 210.695313 398.058594 \"/>\n",
       "<path style=\"fill:none;stroke-width:0.75;stroke-linecap:round;stroke-linejoin:round;stroke:rgb(0%,0%,0%);stroke-opacity:1;stroke-miterlimit:10;\" d=\"M 212.847656 414.730469 L 212.847656 398.367188 \"/>\n",
       "<path style=\"fill:none;stroke-width:0.75;stroke-linecap:round;stroke-linejoin:round;stroke:rgb(0%,0%,0%);stroke-opacity:1;stroke-miterlimit:10;\" d=\"M 215.003906 414.730469 L 215.003906 396.320313 \"/>\n",
       "<path style=\"fill:none;stroke-width:0.75;stroke-linecap:round;stroke-linejoin:round;stroke:rgb(0%,0%,0%);stroke-opacity:1;stroke-miterlimit:10;\" d=\"M 217.15625 414.730469 L 217.15625 387.039063 \"/>\n",
       "<path style=\"fill:none;stroke-width:0.75;stroke-linecap:round;stroke-linejoin:round;stroke:rgb(0%,0%,0%);stroke-opacity:1;stroke-miterlimit:10;\" d=\"M 219.308594 414.730469 L 219.308594 309.5 \"/>\n",
       "<path style=\"fill:none;stroke-width:0.75;stroke-linecap:round;stroke-linejoin:round;stroke:rgb(0%,0%,0%);stroke-opacity:1;stroke-miterlimit:10;\" d=\"M 221.464844 414.730469 L 221.464844 384.347656 \"/>\n",
       "</g>\n",
       "<path style=\"fill:none;stroke-width:0.75;stroke-linecap:round;stroke-linejoin:round;stroke:rgb(0%,0%,0%);stroke-opacity:1;stroke-miterlimit:10;\" d=\"M 53.484375 444.238281 L 225.769531 444.238281 \"/>\n",
       "<path style=\"fill:none;stroke-width:0.75;stroke-linecap:round;stroke-linejoin:round;stroke:rgb(0%,0%,0%);stroke-opacity:1;stroke-miterlimit:10;\" d=\"M 53.484375 444.238281 L 53.484375 450.214844 \"/>\n",
       "<path style=\"fill:none;stroke-width:0.75;stroke-linecap:round;stroke-linejoin:round;stroke:rgb(0%,0%,0%);stroke-opacity:1;stroke-miterlimit:10;\" d=\"M 96.554688 444.238281 L 96.554688 450.214844 \"/>\n",
       "<path style=\"fill:none;stroke-width:0.75;stroke-linecap:round;stroke-linejoin:round;stroke:rgb(0%,0%,0%);stroke-opacity:1;stroke-miterlimit:10;\" d=\"M 139.625 444.238281 L 139.625 450.214844 \"/>\n",
       "<path style=\"fill:none;stroke-width:0.75;stroke-linecap:round;stroke-linejoin:round;stroke:rgb(0%,0%,0%);stroke-opacity:1;stroke-miterlimit:10;\" d=\"M 182.699219 444.238281 L 182.699219 450.214844 \"/>\n",
       "<path style=\"fill:none;stroke-width:0.75;stroke-linecap:round;stroke-linejoin:round;stroke:rgb(0%,0%,0%);stroke-opacity:1;stroke-miterlimit:10;\" d=\"M 225.769531 444.238281 L 225.769531 450.214844 \"/>\n",
       "<g style=\"fill:rgb(0%,0%,0%);fill-opacity:1;\">\n",
       "  <use xlink:href=\"#glyph1-0\" x=\"50.714844\" y=\"465.753906\"/>\n",
       "</g>\n",
       "<g style=\"fill:rgb(0%,0%,0%);fill-opacity:1;\">\n",
       "  <use xlink:href=\"#glyph1-3\" x=\"91.015625\" y=\"465.753906\"/>\n",
       "  <use xlink:href=\"#glyph1-0\" x=\"96.554902\" y=\"465.753906\"/>\n",
       "</g>\n",
       "<g style=\"fill:rgb(0%,0%,0%);fill-opacity:1;\">\n",
       "  <use xlink:href=\"#glyph1-4\" x=\"134.085938\" y=\"465.753906\"/>\n",
       "  <use xlink:href=\"#glyph1-0\" x=\"139.625215\" y=\"465.753906\"/>\n",
       "</g>\n",
       "<g style=\"fill:rgb(0%,0%,0%);fill-opacity:1;\">\n",
       "  <use xlink:href=\"#glyph1-5\" x=\"177.160156\" y=\"465.753906\"/>\n",
       "  <use xlink:href=\"#glyph1-0\" x=\"182.699434\" y=\"465.753906\"/>\n",
       "</g>\n",
       "<g style=\"fill:rgb(0%,0%,0%);fill-opacity:1;\">\n",
       "  <use xlink:href=\"#glyph1-6\" x=\"220.230469\" y=\"465.753906\"/>\n",
       "  <use xlink:href=\"#glyph1-0\" x=\"225.769746\" y=\"465.753906\"/>\n",
       "</g>\n",
       "<path style=\"fill:none;stroke-width:0.75;stroke-linecap:round;stroke-linejoin:round;stroke:rgb(0%,0%,0%);stroke-opacity:1;stroke-miterlimit:10;\" d=\"M 49.003906 414.730469 L 49.003906 299.375 \"/>\n",
       "<path style=\"fill:none;stroke-width:0.75;stroke-linecap:round;stroke-linejoin:round;stroke:rgb(0%,0%,0%);stroke-opacity:1;stroke-miterlimit:10;\" d=\"M 49.003906 414.730469 L 43.027344 414.730469 \"/>\n",
       "<path style=\"fill:none;stroke-width:0.75;stroke-linecap:round;stroke-linejoin:round;stroke:rgb(0%,0%,0%);stroke-opacity:1;stroke-miterlimit:10;\" d=\"M 49.003906 376.277344 L 43.027344 376.277344 \"/>\n",
       "<path style=\"fill:none;stroke-width:0.75;stroke-linecap:round;stroke-linejoin:round;stroke:rgb(0%,0%,0%);stroke-opacity:1;stroke-miterlimit:10;\" d=\"M 49.003906 337.824219 L 43.027344 337.824219 \"/>\n",
       "<path style=\"fill:none;stroke-width:0.75;stroke-linecap:round;stroke-linejoin:round;stroke:rgb(0%,0%,0%);stroke-opacity:1;stroke-miterlimit:10;\" d=\"M 49.003906 299.375 L 43.027344 299.375 \"/>\n",
       "<g style=\"fill:rgb(0%,0%,0%);fill-opacity:1;\">\n",
       "  <use xlink:href=\"#glyph2-1\" x=\"34.660156\" y=\"421.652344\"/>\n",
       "  <use xlink:href=\"#glyph2-4\" x=\"34.660156\" y=\"416.113066\"/>\n",
       "  <use xlink:href=\"#glyph2-1\" x=\"34.660156\" y=\"413.345859\"/>\n",
       "</g>\n",
       "<g style=\"fill:rgb(0%,0%,0%);fill-opacity:1;\">\n",
       "  <use xlink:href=\"#glyph2-1\" x=\"34.660156\" y=\"383.199219\"/>\n",
       "  <use xlink:href=\"#glyph2-4\" x=\"34.660156\" y=\"377.659941\"/>\n",
       "  <use xlink:href=\"#glyph2-3\" x=\"34.660156\" y=\"374.892734\"/>\n",
       "</g>\n",
       "<g style=\"fill:rgb(0%,0%,0%);fill-opacity:1;\">\n",
       "  <use xlink:href=\"#glyph2-1\" x=\"34.660156\" y=\"344.746094\"/>\n",
       "  <use xlink:href=\"#glyph2-4\" x=\"34.660156\" y=\"339.206816\"/>\n",
       "  <use xlink:href=\"#glyph2-5\" x=\"34.660156\" y=\"336.439609\"/>\n",
       "</g>\n",
       "<g style=\"fill:rgb(0%,0%,0%);fill-opacity:1;\">\n",
       "  <use xlink:href=\"#glyph2-1\" x=\"34.660156\" y=\"306.296875\"/>\n",
       "  <use xlink:href=\"#glyph2-4\" x=\"34.660156\" y=\"300.757598\"/>\n",
       "  <use xlink:href=\"#glyph2-6\" x=\"34.660156\" y=\"297.990391\"/>\n",
       "</g>\n",
       "<path style=\"fill:none;stroke-width:0.75;stroke-linecap:round;stroke-linejoin:round;stroke:rgb(0%,0%,0%);stroke-opacity:1;stroke-miterlimit:10;\" d=\"M 49.003906 444.238281 L 228.097656 444.238281 L 228.097656 269.929688 L 49.003906 269.929688 L 49.003906 444.238281 \"/>\n",
       "<g clip-path=\"url(#clip5)\" clip-rule=\"nonzero\">\n",
       "<g style=\"fill:rgb(0%,0%,0%);fill-opacity:1;\">\n",
       "  <use xlink:href=\"#glyph1-7\" x=\"130.242188\" y=\"489.65625\"/>\n",
       "  <use xlink:href=\"#glyph1-8\" x=\"135.781465\" y=\"489.65625\"/>\n",
       "  <use xlink:href=\"#glyph1-9\" x=\"141.320742\" y=\"489.65625\"/>\n",
       "</g>\n",
       "<g style=\"fill:rgb(0%,0%,0%);fill-opacity:1;\">\n",
       "  <use xlink:href=\"#glyph2-7\" x=\"10.757813\" y=\"367.046875\"/>\n",
       "  <use xlink:href=\"#glyph2-8\" x=\"10.757813\" y=\"360.403633\"/>\n",
       "  <use xlink:href=\"#glyph2-9\" x=\"10.757813\" y=\"353.21084\"/>\n",
       "</g>\n",
       "</g>\n",
       "<g clip-path=\"url(#clip6)\" clip-rule=\"nonzero\">\n",
       "<path style=\"fill:none;stroke-width:0.75;stroke-linecap:round;stroke-linejoin:round;stroke:rgb(0%,0%,0%);stroke-opacity:1;stroke-miterlimit:10;\" d=\"M 49.003906 414.730469 L 228.097656 414.730469 \"/>\n",
       "<path style=\"fill:none;stroke-width:0.75;stroke-linecap:round;stroke-linejoin:round;stroke:rgb(0%,0%,100%);stroke-opacity:1;stroke-dasharray:3,3;stroke-miterlimit:10;\" d=\"M 49.003906 404.945313 L 228.097656 404.945313 \"/>\n",
       "<path style=\"fill:none;stroke-width:0.75;stroke-linecap:round;stroke-linejoin:round;stroke:rgb(0%,0%,100%);stroke-opacity:1;stroke-dasharray:3,3;stroke-miterlimit:10;\" d=\"M 49.003906 424.511719 L 228.097656 424.511719 \"/>\n",
       "</g>\n",
       "<g clip-path=\"url(#clip7)\" clip-rule=\"nonzero\">\n",
       "<path style=\"fill:none;stroke-width:0.75;stroke-linecap:round;stroke-linejoin:round;stroke:rgb(0%,0%,0%);stroke-opacity:1;stroke-miterlimit:10;\" d=\"M 307.636719 414.730469 L 307.636719 353.1875 \"/>\n",
       "<path style=\"fill:none;stroke-width:0.75;stroke-linecap:round;stroke-linejoin:round;stroke:rgb(0%,0%,0%);stroke-opacity:1;stroke-miterlimit:10;\" d=\"M 309.789063 414.730469 L 309.789063 385.089844 \"/>\n",
       "<path style=\"fill:none;stroke-width:0.75;stroke-linecap:round;stroke-linejoin:round;stroke:rgb(0%,0%,0%);stroke-opacity:1;stroke-miterlimit:10;\" d=\"M 311.945313 414.730469 L 311.945313 394.945313 \"/>\n",
       "<path style=\"fill:none;stroke-width:0.75;stroke-linecap:round;stroke-linejoin:round;stroke:rgb(0%,0%,0%);stroke-opacity:1;stroke-miterlimit:10;\" d=\"M 314.097656 414.730469 L 314.097656 395.84375 \"/>\n",
       "<path style=\"fill:none;stroke-width:0.75;stroke-linecap:round;stroke-linejoin:round;stroke:rgb(0%,0%,0%);stroke-opacity:1;stroke-miterlimit:10;\" d=\"M 316.25 414.730469 L 316.25 394.375 \"/>\n",
       "<path style=\"fill:none;stroke-width:0.75;stroke-linecap:round;stroke-linejoin:round;stroke:rgb(0%,0%,0%);stroke-opacity:1;stroke-miterlimit:10;\" d=\"M 318.402344 414.730469 L 318.402344 384.074219 \"/>\n",
       "<path style=\"fill:none;stroke-width:0.75;stroke-linecap:round;stroke-linejoin:round;stroke:rgb(0%,0%,0%);stroke-opacity:1;stroke-miterlimit:10;\" d=\"M 320.558594 414.730469 L 320.558594 286.8125 \"/>\n",
       "<path style=\"fill:none;stroke-width:0.75;stroke-linecap:round;stroke-linejoin:round;stroke:rgb(0%,0%,0%);stroke-opacity:1;stroke-miterlimit:10;\" d=\"M 322.710938 414.730469 L 322.710938 437.785156 \"/>\n",
       "<path style=\"fill:none;stroke-width:0.75;stroke-linecap:round;stroke-linejoin:round;stroke:rgb(0%,0%,0%);stroke-opacity:1;stroke-miterlimit:10;\" d=\"M 324.863281 414.730469 L 324.863281 427.035156 \"/>\n",
       "<path style=\"fill:none;stroke-width:0.75;stroke-linecap:round;stroke-linejoin:round;stroke:rgb(0%,0%,0%);stroke-opacity:1;stroke-miterlimit:10;\" d=\"M 327.019531 414.730469 L 327.019531 418.117188 \"/>\n",
       "<path style=\"fill:none;stroke-width:0.75;stroke-linecap:round;stroke-linejoin:round;stroke:rgb(0%,0%,0%);stroke-opacity:1;stroke-miterlimit:10;\" d=\"M 329.171875 414.730469 L 329.171875 415.949219 \"/>\n",
       "<path style=\"fill:none;stroke-width:0.75;stroke-linecap:round;stroke-linejoin:round;stroke:rgb(0%,0%,0%);stroke-opacity:1;stroke-miterlimit:10;\" d=\"M 331.324219 414.730469 L 331.324219 413.5625 \"/>\n",
       "<path style=\"fill:none;stroke-width:0.75;stroke-linecap:round;stroke-linejoin:round;stroke:rgb(0%,0%,0%);stroke-opacity:1;stroke-miterlimit:10;\" d=\"M 333.480469 414.730469 L 333.480469 408.125 \"/>\n",
       "<path style=\"fill:none;stroke-width:0.75;stroke-linecap:round;stroke-linejoin:round;stroke:rgb(0%,0%,0%);stroke-opacity:1;stroke-miterlimit:10;\" d=\"M 335.632813 414.730469 L 335.632813 357.464844 \"/>\n",
       "<path style=\"fill:none;stroke-width:0.75;stroke-linecap:round;stroke-linejoin:round;stroke:rgb(0%,0%,0%);stroke-opacity:1;stroke-miterlimit:10;\" d=\"M 337.785156 414.730469 L 337.785156 426.722656 \"/>\n",
       "<path style=\"fill:none;stroke-width:0.75;stroke-linecap:round;stroke-linejoin:round;stroke:rgb(0%,0%,0%);stroke-opacity:1;stroke-miterlimit:10;\" d=\"M 339.941406 414.730469 L 339.941406 418.070313 \"/>\n",
       "<path style=\"fill:none;stroke-width:0.75;stroke-linecap:round;stroke-linejoin:round;stroke:rgb(0%,0%,0%);stroke-opacity:1;stroke-miterlimit:10;\" d=\"M 342.09375 414.730469 L 342.09375 409.207031 \"/>\n",
       "<path style=\"fill:none;stroke-width:0.75;stroke-linecap:round;stroke-linejoin:round;stroke:rgb(0%,0%,0%);stroke-opacity:1;stroke-miterlimit:10;\" d=\"M 344.246094 414.730469 L 344.246094 416.871094 \"/>\n",
       "<path style=\"fill:none;stroke-width:0.75;stroke-linecap:round;stroke-linejoin:round;stroke:rgb(0%,0%,0%);stroke-opacity:1;stroke-miterlimit:10;\" d=\"M 346.402344 414.730469 L 346.402344 407.902344 \"/>\n",
       "<path style=\"fill:none;stroke-width:0.75;stroke-linecap:round;stroke-linejoin:round;stroke:rgb(0%,0%,0%);stroke-opacity:1;stroke-miterlimit:10;\" d=\"M 348.554688 414.730469 L 348.554688 410.324219 \"/>\n",
       "<path style=\"fill:none;stroke-width:0.75;stroke-linecap:round;stroke-linejoin:round;stroke:rgb(0%,0%,0%);stroke-opacity:1;stroke-miterlimit:10;\" d=\"M 350.707031 414.730469 L 350.707031 369.210938 \"/>\n",
       "<path style=\"fill:none;stroke-width:0.75;stroke-linecap:round;stroke-linejoin:round;stroke:rgb(0%,0%,0%);stroke-opacity:1;stroke-miterlimit:10;\" d=\"M 352.863281 414.730469 L 352.863281 423.683594 \"/>\n",
       "<path style=\"fill:none;stroke-width:0.75;stroke-linecap:round;stroke-linejoin:round;stroke:rgb(0%,0%,0%);stroke-opacity:1;stroke-miterlimit:10;\" d=\"M 355.015625 414.730469 L 355.015625 417.871094 \"/>\n",
       "<path style=\"fill:none;stroke-width:0.75;stroke-linecap:round;stroke-linejoin:round;stroke:rgb(0%,0%,0%);stroke-opacity:1;stroke-miterlimit:10;\" d=\"M 357.167969 414.730469 L 357.167969 413.363281 \"/>\n",
       "<path style=\"fill:none;stroke-width:0.75;stroke-linecap:round;stroke-linejoin:round;stroke:rgb(0%,0%,0%);stroke-opacity:1;stroke-miterlimit:10;\" d=\"M 359.324219 414.730469 L 359.324219 413.230469 \"/>\n",
       "<path style=\"fill:none;stroke-width:0.75;stroke-linecap:round;stroke-linejoin:round;stroke:rgb(0%,0%,0%);stroke-opacity:1;stroke-miterlimit:10;\" d=\"M 361.476563 414.730469 L 361.476563 404.476563 \"/>\n",
       "<path style=\"fill:none;stroke-width:0.75;stroke-linecap:round;stroke-linejoin:round;stroke:rgb(0%,0%,0%);stroke-opacity:1;stroke-miterlimit:10;\" d=\"M 363.628906 414.730469 L 363.628906 407.625 \"/>\n",
       "<path style=\"fill:none;stroke-width:0.75;stroke-linecap:round;stroke-linejoin:round;stroke:rgb(0%,0%,0%);stroke-opacity:1;stroke-miterlimit:10;\" d=\"M 365.785156 414.730469 L 365.785156 375.023438 \"/>\n",
       "<path style=\"fill:none;stroke-width:0.75;stroke-linecap:round;stroke-linejoin:round;stroke:rgb(0%,0%,0%);stroke-opacity:1;stroke-miterlimit:10;\" d=\"M 367.9375 414.730469 L 367.9375 420.8125 \"/>\n",
       "<path style=\"fill:none;stroke-width:0.75;stroke-linecap:round;stroke-linejoin:round;stroke:rgb(0%,0%,0%);stroke-opacity:1;stroke-miterlimit:10;\" d=\"M 370.089844 414.730469 L 370.089844 413.324219 \"/>\n",
       "<path style=\"fill:none;stroke-width:0.75;stroke-linecap:round;stroke-linejoin:round;stroke:rgb(0%,0%,0%);stroke-opacity:1;stroke-miterlimit:10;\" d=\"M 372.242188 414.730469 L 372.242188 410.238281 \"/>\n",
       "<path style=\"fill:none;stroke-width:0.75;stroke-linecap:round;stroke-linejoin:round;stroke:rgb(0%,0%,0%);stroke-opacity:1;stroke-miterlimit:10;\" d=\"M 374.398438 414.730469 L 374.398438 410.195313 \"/>\n",
       "<path style=\"fill:none;stroke-width:0.75;stroke-linecap:round;stroke-linejoin:round;stroke:rgb(0%,0%,0%);stroke-opacity:1;stroke-miterlimit:10;\" d=\"M 376.550781 414.730469 L 376.550781 415.988281 \"/>\n",
       "<path style=\"fill:none;stroke-width:0.75;stroke-linecap:round;stroke-linejoin:round;stroke:rgb(0%,0%,0%);stroke-opacity:1;stroke-miterlimit:10;\" d=\"M 378.703125 414.730469 L 378.703125 415.3125 \"/>\n",
       "<path style=\"fill:none;stroke-width:0.75;stroke-linecap:round;stroke-linejoin:round;stroke:rgb(0%,0%,0%);stroke-opacity:1;stroke-miterlimit:10;\" d=\"M 380.859375 414.730469 L 380.859375 387.246094 \"/>\n",
       "<path style=\"fill:none;stroke-width:0.75;stroke-linecap:round;stroke-linejoin:round;stroke:rgb(0%,0%,0%);stroke-opacity:1;stroke-miterlimit:10;\" d=\"M 383.011719 414.730469 L 383.011719 426.9375 \"/>\n",
       "<path style=\"fill:none;stroke-width:0.75;stroke-linecap:round;stroke-linejoin:round;stroke:rgb(0%,0%,0%);stroke-opacity:1;stroke-miterlimit:10;\" d=\"M 385.164063 414.730469 L 385.164063 433.332031 \"/>\n",
       "<path style=\"fill:none;stroke-width:0.75;stroke-linecap:round;stroke-linejoin:round;stroke:rgb(0%,0%,0%);stroke-opacity:1;stroke-miterlimit:10;\" d=\"M 387.320313 414.730469 L 387.320313 430.230469 \"/>\n",
       "<path style=\"fill:none;stroke-width:0.75;stroke-linecap:round;stroke-linejoin:round;stroke:rgb(0%,0%,0%);stroke-opacity:1;stroke-miterlimit:10;\" d=\"M 389.472656 414.730469 L 389.472656 424.867188 \"/>\n",
       "<path style=\"fill:none;stroke-width:0.75;stroke-linecap:round;stroke-linejoin:round;stroke:rgb(0%,0%,0%);stroke-opacity:1;stroke-miterlimit:10;\" d=\"M 391.625 414.730469 L 391.625 418.519531 \"/>\n",
       "<path style=\"fill:none;stroke-width:0.75;stroke-linecap:round;stroke-linejoin:round;stroke:rgb(0%,0%,0%);stroke-opacity:1;stroke-miterlimit:10;\" d=\"M 393.78125 414.730469 L 393.78125 423.238281 \"/>\n",
       "<path style=\"fill:none;stroke-width:0.75;stroke-linecap:round;stroke-linejoin:round;stroke:rgb(0%,0%,0%);stroke-opacity:1;stroke-miterlimit:10;\" d=\"M 395.933594 414.730469 L 395.933594 383.15625 \"/>\n",
       "<path style=\"fill:none;stroke-width:0.75;stroke-linecap:round;stroke-linejoin:round;stroke:rgb(0%,0%,0%);stroke-opacity:1;stroke-miterlimit:10;\" d=\"M 398.085938 414.730469 L 398.085938 436.46875 \"/>\n",
       "<path style=\"fill:none;stroke-width:0.75;stroke-linecap:round;stroke-linejoin:round;stroke:rgb(0%,0%,0%);stroke-opacity:1;stroke-miterlimit:10;\" d=\"M 400.242188 414.730469 L 400.242188 423.847656 \"/>\n",
       "<path style=\"fill:none;stroke-width:0.75;stroke-linecap:round;stroke-linejoin:round;stroke:rgb(0%,0%,0%);stroke-opacity:1;stroke-miterlimit:10;\" d=\"M 402.394531 414.730469 L 402.394531 419.746094 \"/>\n",
       "<path style=\"fill:none;stroke-width:0.75;stroke-linecap:round;stroke-linejoin:round;stroke:rgb(0%,0%,0%);stroke-opacity:1;stroke-miterlimit:10;\" d=\"M 404.546875 414.730469 L 404.546875 408.308594 \"/>\n",
       "<path style=\"fill:none;stroke-width:0.75;stroke-linecap:round;stroke-linejoin:round;stroke:rgb(0%,0%,0%);stroke-opacity:1;stroke-miterlimit:10;\" d=\"M 406.703125 414.730469 L 406.703125 411.242188 \"/>\n",
       "<path style=\"fill:none;stroke-width:0.75;stroke-linecap:round;stroke-linejoin:round;stroke:rgb(0%,0%,0%);stroke-opacity:1;stroke-miterlimit:10;\" d=\"M 408.855469 414.730469 L 408.855469 411.46875 \"/>\n",
       "<path style=\"fill:none;stroke-width:0.75;stroke-linecap:round;stroke-linejoin:round;stroke:rgb(0%,0%,0%);stroke-opacity:1;stroke-miterlimit:10;\" d=\"M 411.007813 414.730469 L 411.007813 406.957031 \"/>\n",
       "<path style=\"fill:none;stroke-width:0.75;stroke-linecap:round;stroke-linejoin:round;stroke:rgb(0%,0%,0%);stroke-opacity:1;stroke-miterlimit:10;\" d=\"M 413.164063 414.730469 L 413.164063 423.261719 \"/>\n",
       "<path style=\"fill:none;stroke-width:0.75;stroke-linecap:round;stroke-linejoin:round;stroke:rgb(0%,0%,0%);stroke-opacity:1;stroke-miterlimit:10;\" d=\"M 415.316406 414.730469 L 415.316406 417.519531 \"/>\n",
       "<path style=\"fill:none;stroke-width:0.75;stroke-linecap:round;stroke-linejoin:round;stroke:rgb(0%,0%,0%);stroke-opacity:1;stroke-miterlimit:10;\" d=\"M 417.46875 414.730469 L 417.46875 417.300781 \"/>\n",
       "<path style=\"fill:none;stroke-width:0.75;stroke-linecap:round;stroke-linejoin:round;stroke:rgb(0%,0%,0%);stroke-opacity:1;stroke-miterlimit:10;\" d=\"M 419.625 414.730469 L 419.625 416.738281 \"/>\n",
       "<path style=\"fill:none;stroke-width:0.75;stroke-linecap:round;stroke-linejoin:round;stroke:rgb(0%,0%,0%);stroke-opacity:1;stroke-miterlimit:10;\" d=\"M 421.777344 414.730469 L 421.777344 417.515625 \"/>\n",
       "<path style=\"fill:none;stroke-width:0.75;stroke-linecap:round;stroke-linejoin:round;stroke:rgb(0%,0%,0%);stroke-opacity:1;stroke-miterlimit:10;\" d=\"M 423.929688 414.730469 L 423.929688 408.53125 \"/>\n",
       "<path style=\"fill:none;stroke-width:0.75;stroke-linecap:round;stroke-linejoin:round;stroke:rgb(0%,0%,0%);stroke-opacity:1;stroke-miterlimit:10;\" d=\"M 426.082031 414.730469 L 426.082031 400.210938 \"/>\n",
       "<path style=\"fill:none;stroke-width:0.75;stroke-linecap:round;stroke-linejoin:round;stroke:rgb(0%,0%,0%);stroke-opacity:1;stroke-miterlimit:10;\" d=\"M 428.238281 414.730469 L 428.238281 413.96875 \"/>\n",
       "<path style=\"fill:none;stroke-width:0.75;stroke-linecap:round;stroke-linejoin:round;stroke:rgb(0%,0%,0%);stroke-opacity:1;stroke-miterlimit:10;\" d=\"M 430.390625 414.730469 L 430.390625 413.679688 \"/>\n",
       "<path style=\"fill:none;stroke-width:0.75;stroke-linecap:round;stroke-linejoin:round;stroke:rgb(0%,0%,0%);stroke-opacity:1;stroke-miterlimit:10;\" d=\"M 432.542969 414.730469 L 432.542969 410.804688 \"/>\n",
       "<path style=\"fill:none;stroke-width:0.75;stroke-linecap:round;stroke-linejoin:round;stroke:rgb(0%,0%,0%);stroke-opacity:1;stroke-miterlimit:10;\" d=\"M 434.699219 414.730469 L 434.699219 405.019531 \"/>\n",
       "<path style=\"fill:none;stroke-width:0.75;stroke-linecap:round;stroke-linejoin:round;stroke:rgb(0%,0%,0%);stroke-opacity:1;stroke-miterlimit:10;\" d=\"M 436.851563 414.730469 L 436.851563 415.671875 \"/>\n",
       "<path style=\"fill:none;stroke-width:0.75;stroke-linecap:round;stroke-linejoin:round;stroke:rgb(0%,0%,0%);stroke-opacity:1;stroke-miterlimit:10;\" d=\"M 439.003906 414.730469 L 439.003906 402.453125 \"/>\n",
       "<path style=\"fill:none;stroke-width:0.75;stroke-linecap:round;stroke-linejoin:round;stroke:rgb(0%,0%,0%);stroke-opacity:1;stroke-miterlimit:10;\" d=\"M 441.160156 414.730469 L 441.160156 404.464844 \"/>\n",
       "<path style=\"fill:none;stroke-width:0.75;stroke-linecap:round;stroke-linejoin:round;stroke:rgb(0%,0%,0%);stroke-opacity:1;stroke-miterlimit:10;\" d=\"M 443.3125 414.730469 L 443.3125 417.300781 \"/>\n",
       "<path style=\"fill:none;stroke-width:0.75;stroke-linecap:round;stroke-linejoin:round;stroke:rgb(0%,0%,0%);stroke-opacity:1;stroke-miterlimit:10;\" d=\"M 445.464844 414.730469 L 445.464844 421.542969 \"/>\n",
       "<path style=\"fill:none;stroke-width:0.75;stroke-linecap:round;stroke-linejoin:round;stroke:rgb(0%,0%,0%);stroke-opacity:1;stroke-miterlimit:10;\" d=\"M 447.621094 414.730469 L 447.621094 424.953125 \"/>\n",
       "<path style=\"fill:none;stroke-width:0.75;stroke-linecap:round;stroke-linejoin:round;stroke:rgb(0%,0%,0%);stroke-opacity:1;stroke-miterlimit:10;\" d=\"M 449.773438 414.730469 L 449.773438 431.132813 \"/>\n",
       "<path style=\"fill:none;stroke-width:0.75;stroke-linecap:round;stroke-linejoin:round;stroke:rgb(0%,0%,0%);stroke-opacity:1;stroke-miterlimit:10;\" d=\"M 451.925781 414.730469 L 451.925781 412.414063 \"/>\n",
       "<path style=\"fill:none;stroke-width:0.75;stroke-linecap:round;stroke-linejoin:round;stroke:rgb(0%,0%,0%);stroke-opacity:1;stroke-miterlimit:10;\" d=\"M 454.082031 414.730469 L 454.082031 423.292969 \"/>\n",
       "<path style=\"fill:none;stroke-width:0.75;stroke-linecap:round;stroke-linejoin:round;stroke:rgb(0%,0%,0%);stroke-opacity:1;stroke-miterlimit:10;\" d=\"M 456.234375 414.730469 L 456.234375 410.199219 \"/>\n",
       "<path style=\"fill:none;stroke-width:0.75;stroke-linecap:round;stroke-linejoin:round;stroke:rgb(0%,0%,0%);stroke-opacity:1;stroke-miterlimit:10;\" d=\"M 458.386719 414.730469 L 458.386719 424.144531 \"/>\n",
       "<path style=\"fill:none;stroke-width:0.75;stroke-linecap:round;stroke-linejoin:round;stroke:rgb(0%,0%,0%);stroke-opacity:1;stroke-miterlimit:10;\" d=\"M 460.542969 414.730469 L 460.542969 420.015625 \"/>\n",
       "<path style=\"fill:none;stroke-width:0.75;stroke-linecap:round;stroke-linejoin:round;stroke:rgb(0%,0%,0%);stroke-opacity:1;stroke-miterlimit:10;\" d=\"M 462.695313 414.730469 L 462.695313 413.621094 \"/>\n",
       "<path style=\"fill:none;stroke-width:0.75;stroke-linecap:round;stroke-linejoin:round;stroke:rgb(0%,0%,0%);stroke-opacity:1;stroke-miterlimit:10;\" d=\"M 464.847656 414.730469 L 464.847656 412.914063 \"/>\n",
       "<path style=\"fill:none;stroke-width:0.75;stroke-linecap:round;stroke-linejoin:round;stroke:rgb(0%,0%,0%);stroke-opacity:1;stroke-miterlimit:10;\" d=\"M 467.003906 414.730469 L 467.003906 423.6875 \"/>\n",
       "<path style=\"fill:none;stroke-width:0.75;stroke-linecap:round;stroke-linejoin:round;stroke:rgb(0%,0%,0%);stroke-opacity:1;stroke-miterlimit:10;\" d=\"M 469.15625 414.730469 L 469.15625 414.230469 \"/>\n",
       "<path style=\"fill:none;stroke-width:0.75;stroke-linecap:round;stroke-linejoin:round;stroke:rgb(0%,0%,0%);stroke-opacity:1;stroke-miterlimit:10;\" d=\"M 471.308594 414.730469 L 471.308594 411.929688 \"/>\n",
       "<path style=\"fill:none;stroke-width:0.75;stroke-linecap:round;stroke-linejoin:round;stroke:rgb(0%,0%,0%);stroke-opacity:1;stroke-miterlimit:10;\" d=\"M 473.464844 414.730469 L 473.464844 411.902344 \"/>\n",
       "</g>\n",
       "<path style=\"fill:none;stroke-width:0.75;stroke-linecap:round;stroke-linejoin:round;stroke:rgb(0%,0%,0%);stroke-opacity:1;stroke-miterlimit:10;\" d=\"M 305.484375 444.238281 L 477.769531 444.238281 \"/>\n",
       "<path style=\"fill:none;stroke-width:0.75;stroke-linecap:round;stroke-linejoin:round;stroke:rgb(0%,0%,0%);stroke-opacity:1;stroke-miterlimit:10;\" d=\"M 305.484375 444.238281 L 305.484375 450.214844 \"/>\n",
       "<path style=\"fill:none;stroke-width:0.75;stroke-linecap:round;stroke-linejoin:round;stroke:rgb(0%,0%,0%);stroke-opacity:1;stroke-miterlimit:10;\" d=\"M 348.554688 444.238281 L 348.554688 450.214844 \"/>\n",
       "<path style=\"fill:none;stroke-width:0.75;stroke-linecap:round;stroke-linejoin:round;stroke:rgb(0%,0%,0%);stroke-opacity:1;stroke-miterlimit:10;\" d=\"M 391.625 444.238281 L 391.625 450.214844 \"/>\n",
       "<path style=\"fill:none;stroke-width:0.75;stroke-linecap:round;stroke-linejoin:round;stroke:rgb(0%,0%,0%);stroke-opacity:1;stroke-miterlimit:10;\" d=\"M 434.699219 444.238281 L 434.699219 450.214844 \"/>\n",
       "<path style=\"fill:none;stroke-width:0.75;stroke-linecap:round;stroke-linejoin:round;stroke:rgb(0%,0%,0%);stroke-opacity:1;stroke-miterlimit:10;\" d=\"M 477.769531 444.238281 L 477.769531 450.214844 \"/>\n",
       "<g style=\"fill:rgb(0%,0%,0%);fill-opacity:1;\">\n",
       "  <use xlink:href=\"#glyph1-0\" x=\"302.714844\" y=\"465.753906\"/>\n",
       "</g>\n",
       "<g style=\"fill:rgb(0%,0%,0%);fill-opacity:1;\">\n",
       "  <use xlink:href=\"#glyph1-3\" x=\"343.015625\" y=\"465.753906\"/>\n",
       "  <use xlink:href=\"#glyph1-0\" x=\"348.554902\" y=\"465.753906\"/>\n",
       "</g>\n",
       "<g style=\"fill:rgb(0%,0%,0%);fill-opacity:1;\">\n",
       "  <use xlink:href=\"#glyph1-4\" x=\"386.085938\" y=\"465.753906\"/>\n",
       "  <use xlink:href=\"#glyph1-0\" x=\"391.625215\" y=\"465.753906\"/>\n",
       "</g>\n",
       "<g style=\"fill:rgb(0%,0%,0%);fill-opacity:1;\">\n",
       "  <use xlink:href=\"#glyph1-5\" x=\"429.160156\" y=\"465.753906\"/>\n",
       "  <use xlink:href=\"#glyph1-0\" x=\"434.699434\" y=\"465.753906\"/>\n",
       "</g>\n",
       "<g style=\"fill:rgb(0%,0%,0%);fill-opacity:1;\">\n",
       "  <use xlink:href=\"#glyph1-6\" x=\"472.230469\" y=\"465.753906\"/>\n",
       "  <use xlink:href=\"#glyph1-0\" x=\"477.769746\" y=\"465.753906\"/>\n",
       "</g>\n",
       "<path style=\"fill:none;stroke-width:0.75;stroke-linecap:round;stroke-linejoin:round;stroke:rgb(0%,0%,0%);stroke-opacity:1;stroke-miterlimit:10;\" d=\"M 301.003906 414.730469 L 301.003906 299.375 \"/>\n",
       "<path style=\"fill:none;stroke-width:0.75;stroke-linecap:round;stroke-linejoin:round;stroke:rgb(0%,0%,0%);stroke-opacity:1;stroke-miterlimit:10;\" d=\"M 301.003906 414.730469 L 295.027344 414.730469 \"/>\n",
       "<path style=\"fill:none;stroke-width:0.75;stroke-linecap:round;stroke-linejoin:round;stroke:rgb(0%,0%,0%);stroke-opacity:1;stroke-miterlimit:10;\" d=\"M 301.003906 376.277344 L 295.027344 376.277344 \"/>\n",
       "<path style=\"fill:none;stroke-width:0.75;stroke-linecap:round;stroke-linejoin:round;stroke:rgb(0%,0%,0%);stroke-opacity:1;stroke-miterlimit:10;\" d=\"M 301.003906 337.824219 L 295.027344 337.824219 \"/>\n",
       "<path style=\"fill:none;stroke-width:0.75;stroke-linecap:round;stroke-linejoin:round;stroke:rgb(0%,0%,0%);stroke-opacity:1;stroke-miterlimit:10;\" d=\"M 301.003906 299.375 L 295.027344 299.375 \"/>\n",
       "<g style=\"fill:rgb(0%,0%,0%);fill-opacity:1;\">\n",
       "  <use xlink:href=\"#glyph2-1\" x=\"286.660156\" y=\"421.652344\"/>\n",
       "  <use xlink:href=\"#glyph2-4\" x=\"286.660156\" y=\"416.113066\"/>\n",
       "  <use xlink:href=\"#glyph2-1\" x=\"286.660156\" y=\"413.345859\"/>\n",
       "</g>\n",
       "<g style=\"fill:rgb(0%,0%,0%);fill-opacity:1;\">\n",
       "  <use xlink:href=\"#glyph2-1\" x=\"286.660156\" y=\"383.199219\"/>\n",
       "  <use xlink:href=\"#glyph2-4\" x=\"286.660156\" y=\"377.659941\"/>\n",
       "  <use xlink:href=\"#glyph2-3\" x=\"286.660156\" y=\"374.892734\"/>\n",
       "</g>\n",
       "<g style=\"fill:rgb(0%,0%,0%);fill-opacity:1;\">\n",
       "  <use xlink:href=\"#glyph2-1\" x=\"286.660156\" y=\"344.746094\"/>\n",
       "  <use xlink:href=\"#glyph2-4\" x=\"286.660156\" y=\"339.206816\"/>\n",
       "  <use xlink:href=\"#glyph2-5\" x=\"286.660156\" y=\"336.439609\"/>\n",
       "</g>\n",
       "<g style=\"fill:rgb(0%,0%,0%);fill-opacity:1;\">\n",
       "  <use xlink:href=\"#glyph2-1\" x=\"286.660156\" y=\"306.296875\"/>\n",
       "  <use xlink:href=\"#glyph2-4\" x=\"286.660156\" y=\"300.757598\"/>\n",
       "  <use xlink:href=\"#glyph2-6\" x=\"286.660156\" y=\"297.990391\"/>\n",
       "</g>\n",
       "<path style=\"fill:none;stroke-width:0.75;stroke-linecap:round;stroke-linejoin:round;stroke:rgb(0%,0%,0%);stroke-opacity:1;stroke-miterlimit:10;\" d=\"M 301.003906 444.238281 L 480.097656 444.238281 L 480.097656 269.929688 L 301.003906 269.929688 L 301.003906 444.238281 \"/>\n",
       "<g clip-path=\"url(#clip8)\" clip-rule=\"nonzero\">\n",
       "<g style=\"fill:rgb(0%,0%,0%);fill-opacity:1;\">\n",
       "  <use xlink:href=\"#glyph1-7\" x=\"382.242188\" y=\"489.65625\"/>\n",
       "  <use xlink:href=\"#glyph1-8\" x=\"387.781465\" y=\"489.65625\"/>\n",
       "  <use xlink:href=\"#glyph1-9\" x=\"393.320742\" y=\"489.65625\"/>\n",
       "</g>\n",
       "<g style=\"fill:rgb(0%,0%,0%);fill-opacity:1;\">\n",
       "  <use xlink:href=\"#glyph2-10\" x=\"262.757813\" y=\"370.367188\"/>\n",
       "  <use xlink:href=\"#glyph2-7\" x=\"262.757813\" y=\"363.723945\"/>\n",
       "  <use xlink:href=\"#glyph2-8\" x=\"262.757813\" y=\"357.080703\"/>\n",
       "  <use xlink:href=\"#glyph2-9\" x=\"262.757813\" y=\"349.88791\"/>\n",
       "</g>\n",
       "</g>\n",
       "<g clip-path=\"url(#clip9)\" clip-rule=\"nonzero\">\n",
       "<path style=\"fill:none;stroke-width:0.75;stroke-linecap:round;stroke-linejoin:round;stroke:rgb(0%,0%,0%);stroke-opacity:1;stroke-miterlimit:10;\" d=\"M 301.003906 414.730469 L 480.097656 414.730469 \"/>\n",
       "<path style=\"fill:none;stroke-width:0.75;stroke-linecap:round;stroke-linejoin:round;stroke:rgb(0%,0%,100%);stroke-opacity:1;stroke-dasharray:3,3;stroke-miterlimit:10;\" d=\"M 301.003906 404.945313 L 480.097656 404.945313 \"/>\n",
       "<path style=\"fill:none;stroke-width:0.75;stroke-linecap:round;stroke-linejoin:round;stroke:rgb(0%,0%,100%);stroke-opacity:1;stroke-dasharray:3,3;stroke-miterlimit:10;\" d=\"M 301.003906 424.511719 L 480.097656 424.511719 \"/>\n",
       "</g>\n",
       "</g>\n",
       "</svg>\n"
      ],
      "text/plain": [
       "Plot with title \"\""
      ]
     },
     "metadata": {
      "image/svg+xml": {
       "isolated": true
      }
     },
     "output_type": "display_data"
    }
   ],
   "source": [
    "tsdisplay(df$Receita_Liq_Total, lag.max = 78, main = \"Receita  Liq. Total\")"
   ]
  },
  {
   "cell_type": "code",
   "execution_count": 62,
   "metadata": {
    "collapsed": true
   },
   "outputs": [],
   "source": [
    "# This script fits a linear model to a time series including trend and seasonality components\n",
    "# We use tslm() and forecast() in the \"forecast\" R package \n"
   ]
  },
  {
   "cell_type": "code",
   "execution_count": 63,
   "metadata": {
    "collapsed": true
   },
   "outputs": [],
   "source": [
    "# tslm function - time series wrapper (analogous to lm)\n",
    "# USAGE: tslm(formula, data, lambda=NULL, ...)\n",
    "#\n",
    "# For example:\n",
    "#\n",
    "# fit <- tslm(Sales ~ trend + season + DayOfWeek + Open + Promo + StateHoliday + SchoolHoliday)\n"
   ]
  },
  {
   "cell_type": "code",
   "execution_count": 64,
   "metadata": {
    "collapsed": true
   },
   "outputs": [],
   "source": [
    "ts_fit = function(x) {\n",
    "  Sales <- ts(x$Sales, frequency = 365)\n",
    "  DayOfWeek <- x$DayOfWeek\n",
    "  Open <- x$Open\n",
    "  Promo <- x$Promo\n",
    "  StateHoliday <- x$StateHoliday\n",
    "  SchoolHoliday <- x$SchoolHoliday\n",
    "  fit <- tslm(Sales ~ trend + season + DayOfWeek + Open + Promo + StateHoliday + SchoolHoliday)\n",
    "  return(fit)\n",
    "}"
   ]
  },
  {
   "cell_type": "code",
   "execution_count": 65,
   "metadata": {
    "collapsed": false
   },
   "outputs": [],
   "source": [
    "y = ts(df$Receita_Liq_Total, frequency = 7)"
   ]
  },
  {
   "cell_type": "code",
   "execution_count": 66,
   "metadata": {
    "collapsed": false
   },
   "outputs": [],
   "source": [
    "yhat = tslm(y ~ trend + season + df$Dia.da.Semana + df$Carnaval + df$Pascoa)"
   ]
  },
  {
   "cell_type": "code",
   "execution_count": 67,
   "metadata": {
    "collapsed": false
   },
   "outputs": [
    {
     "ename": "ERROR",
     "evalue": "Error in plot(forecast(yhat, h = 20)): error in evaluating the argument 'x' in selecting a method for function 'plot': Error in model.frame.default(Terms, newdata, na.action = na.action, xlev = object$xlevels) : \n  variable lengths differ (found for 'df$Dia.da.Semana')\nCalls: forecast ... predict -> predict.lm -> model.frame -> model.frame.default\n\n",
     "output_type": "error",
     "traceback": [
      "Error in plot(forecast(yhat, h = 20)): error in evaluating the argument 'x' in selecting a method for function 'plot': Error in model.frame.default(Terms, newdata, na.action = na.action, xlev = object$xlevels) : \n  variable lengths differ (found for 'df$Dia.da.Semana')\nCalls: forecast ... predict -> predict.lm -> model.frame -> model.frame.default\n\n"
     ]
    }
   ],
   "source": [
    "plot(forecast(yhat, h=20))"
   ]
  },
  {
   "cell_type": "code",
   "execution_count": 68,
   "metadata": {
    "collapsed": false
   },
   "outputs": [],
   "source": [
    "ytrain <- window(df$Receita_Liq_Total,end=\"2015-06-30\")"
   ]
  },
  {
   "cell_type": "code",
   "execution_count": 69,
   "metadata": {
    "collapsed": false
   },
   "outputs": [
    {
     "name": "stdout",
     "output_type": "stream",
     "text": [
      "An 'xts' object of zero-width\n"
     ]
    }
   ],
   "source": [
    "str(ytrain)"
   ]
  },
  {
   "cell_type": "code",
   "execution_count": 70,
   "metadata": {
    "collapsed": false
   },
   "outputs": [
    {
     "ename": "ERROR",
     "evalue": "Error in ts(ytrain, frequency = 7): 'ts' object must have one or more observations\n",
     "output_type": "error",
     "traceback": [
      "Error in ts(ytrain, frequency = 7): 'ts' object must have one or more observations\n"
     ]
    }
   ],
   "source": [
    "ytrain = ts(ytrain, frequency = 7)"
   ]
  },
  {
   "cell_type": "code",
   "execution_count": 71,
   "metadata": {
    "collapsed": false
   },
   "outputs": [
    {
     "name": "stdout",
     "output_type": "stream",
     "text": [
      "An 'xts' object of zero-width\n"
     ]
    }
   ],
   "source": [
    "str(ytrain)"
   ]
  },
  {
   "cell_type": "code",
   "execution_count": null,
   "metadata": {
    "collapsed": false
   },
   "outputs": [],
   "source": []
  },
  {
   "cell_type": "code",
   "execution_count": 72,
   "metadata": {
    "collapsed": false
   },
   "outputs": [
    {
     "name": "stderr",
     "output_type": "stream",
     "text": [
      "Warning message:\n",
      "In window.default(df$Dia.da.Semana, end = \"2015-06-30\"): 'end' value not changed"
     ]
    }
   ],
   "source": [
    "Dia.da.Semana_train = window(df$Dia.da.Semana,end=\"2015-06-30\")"
   ]
  },
  {
   "cell_type": "code",
   "execution_count": 73,
   "metadata": {
    "collapsed": false
   },
   "outputs": [
    {
     "name": "stderr",
     "output_type": "stream",
     "text": [
      "Warning message:\n",
      "In window.default(df$Carnaval, end = \"2015-06-30\"): 'end' value not changed"
     ]
    }
   ],
   "source": [
    "Carnaval_train <- window(df$Carnaval,end=\"2015-06-30\")"
   ]
  },
  {
   "cell_type": "code",
   "execution_count": 74,
   "metadata": {
    "collapsed": false
   },
   "outputs": [
    {
     "name": "stderr",
     "output_type": "stream",
     "text": [
      "Warning message:\n",
      "In window.default(df$Pascoa, end = \"2015-06-30\"): 'end' value not changed"
     ]
    }
   ],
   "source": [
    "Pascoa_train <- window(df$Pascoa,end=\"2015-06-30\")"
   ]
  },
  {
   "cell_type": "code",
   "execution_count": 75,
   "metadata": {
    "collapsed": false
   },
   "outputs": [
    {
     "name": "stderr",
     "output_type": "stream",
     "text": [
      "Warning message:\n",
      "In window.default(df$Natal, end = \"2015-06-30\"): 'end' value not changed"
     ]
    }
   ],
   "source": [
    "Natal_train= window(df$Natal, end = '2015-06-30')"
   ]
  },
  {
   "cell_type": "code",
   "execution_count": 76,
   "metadata": {
    "collapsed": false
   },
   "outputs": [
    {
     "name": "stdout",
     "output_type": "stream",
     "text": [
      " atomic [1:1484] 1 2 3 4 5 6 7 1 2 3 ...\n",
      " - attr(*, \"tsp\")= num [1:3] 1 1484 1\n"
     ]
    }
   ],
   "source": [
    "str(Dia.da.Semana_train)"
   ]
  },
  {
   "cell_type": "code",
   "execution_count": 77,
   "metadata": {
    "collapsed": false
   },
   "outputs": [
    {
     "ename": "ERROR",
     "evalue": "Error in tslm(ytrain ~ trend + season + df$Dia.da.Semana + df$Carnaval + : Not time series data\n",
     "output_type": "error",
     "traceback": [
      "Error in tslm(ytrain ~ trend + season + df$Dia.da.Semana + df$Carnaval + : Not time series data\n"
     ]
    }
   ],
   "source": [
    "fit <- tslm(ytrain ~ trend + season + df$Dia.da.Semana + df$Carnaval + df$Pascoa)"
   ]
  },
  {
   "cell_type": "code",
   "execution_count": 78,
   "metadata": {
    "collapsed": false
   },
   "outputs": [
    {
     "ename": "ERROR",
     "evalue": "Error in Arima(hsales, model = fit): object 'hsales' not found\n",
     "output_type": "error",
     "traceback": [
      "Error in Arima(hsales, model = fit): object 'hsales' not found\n"
     ]
    },
    {
     "ename": "ERROR",
     "evalue": "Error in fitted(refit): object 'refit' not found\n",
     "output_type": "error",
     "traceback": [
      "Error in fitted(refit): object 'refit' not found\n"
     ]
    }
   ],
   "source": [
    "refit <- Arima(hsales, model=fit)\n",
    "fc <- window(fitted(refit), start=1990)"
   ]
  },
  {
   "cell_type": "code",
   "execution_count": null,
   "metadata": {
    "collapsed": true
   },
   "outputs": [],
   "source": []
  },
  {
   "cell_type": "code",
   "execution_count": null,
   "metadata": {
    "collapsed": true
   },
   "outputs": [],
   "source": []
  }
 ],
 "metadata": {
  "kernelspec": {
   "display_name": "R",
   "language": "R",
   "name": "ir"
  },
  "language_info": {
   "codemirror_mode": "r",
   "file_extension": ".r",
   "mimetype": "text/x-r-source",
   "name": "R",
   "pygments_lexer": "r",
   "version": "3.2.2"
  }
 },
 "nbformat": 4,
 "nbformat_minor": 0
}
