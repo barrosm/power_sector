{
 "cells": [
  {
   "cell_type": "markdown",
   "metadata": {},
   "source": [
    "## Previsão do PLD através de Xgboost"
   ]
  },
  {
   "cell_type": "markdown",
   "metadata": {},
   "source": [
    "### Monica Barros\n",
    "### Data; 21/06/2018"
   ]
  },
  {
   "cell_type": "code",
   "execution_count": 166,
   "metadata": {},
   "outputs": [
    {
     "name": "stderr",
     "output_type": "stream",
     "text": [
      "Loading required package: survival\n",
      "\n",
      "Attaching package: ‘survival’\n",
      "\n",
      "The following object is masked from ‘package:caret’:\n",
      "\n",
      "    cluster\n",
      "\n",
      "Loading required package: splines\n",
      "Loading required package: parallel\n",
      "Loaded gbm 2.1.3\n"
     ]
    }
   ],
   "source": [
    "library(readxl)\n",
    "library(magrittr)\n",
    "library(caret)\n",
    "library(lubridate)\n",
    "\n",
    "library(tidyverse)\n",
    "\n",
    "library(repr) # Permite mudar o tamanho das figuras dentro do Jupyter Notebook\n",
    "\n",
    "library(gbm)"
   ]
  },
  {
   "cell_type": "code",
   "execution_count": 7,
   "metadata": {},
   "outputs": [],
   "source": [
    "path_root <- file.path(\"/home/monica/monica_files\") \n",
    "path_code <- file.path(path_root, \"PROGRAMAS R\")\n",
    "path_data <- file.path(path_root, \"MIND - Assinaturas\")\n",
    "setwd(path_data)"
   ]
  },
  {
   "cell_type": "markdown",
   "metadata": {},
   "source": [
    "### Leitura dos dados"
   ]
  },
  {
   "cell_type": "code",
   "execution_count": 10,
   "metadata": {},
   "outputs": [],
   "source": [
    "df = readxl::read_excel(\"PLD_200107_201806.xls\")"
   ]
  },
  {
   "cell_type": "code",
   "execution_count": 11,
   "metadata": {},
   "outputs": [
    {
     "data": {
      "text/html": [
       "<table>\n",
       "<thead><tr><th scope=col>Ano</th><th scope=col>Mês</th><th scope=col>Semana</th><th scope=col>Data Início</th><th scope=col>Data Fim</th><th scope=col>Pesado SE</th><th scope=col>Médio SE</th><th scope=col>Leve SE</th><th scope=col>Pesado S</th><th scope=col>Médio S</th><th scope=col>Leve S</th><th scope=col>Pesado NE</th><th scope=col>Médio NE</th><th scope=col>Leve NE</th><th scope=col>Pesado N</th><th scope=col>Médio N</th><th scope=col>Leve N</th></tr></thead>\n",
       "<tbody>\n",
       "\t<tr><td>2001      </td><td>7         </td><td>1         </td><td>2001-06-30</td><td>2001-07-06</td><td>684       </td><td>684       </td><td>684       </td><td>141.61    </td><td>141.61    </td><td>141.61    </td><td>684       </td><td>684       </td><td>684       </td><td>684       </td><td>684       </td><td>684       </td></tr>\n",
       "\t<tr><td>2001      </td><td>7         </td><td>2         </td><td>2001-07-07</td><td>2001-07-13</td><td>684       </td><td>684       </td><td>684       </td><td>  4.00    </td><td>  4.00    </td><td>  4.00    </td><td>684       </td><td>684       </td><td>684       </td><td>684       </td><td>684       </td><td>684       </td></tr>\n",
       "\t<tr><td>2001      </td><td>7         </td><td>3         </td><td>2001-07-14</td><td>2001-07-20</td><td>684       </td><td>684       </td><td>684       </td><td>  4.00    </td><td>  4.00    </td><td>  4.00    </td><td>684       </td><td>684       </td><td>684       </td><td>684       </td><td>684       </td><td>684       </td></tr>\n",
       "\t<tr><td>2001      </td><td>7         </td><td>4         </td><td>2001-07-21</td><td>2001-07-27</td><td>684       </td><td>684       </td><td>684       </td><td> 86.94    </td><td> 86.94    </td><td> 86.94    </td><td>684       </td><td>684       </td><td>684       </td><td>684       </td><td>684       </td><td>684       </td></tr>\n",
       "\t<tr><td>2001      </td><td>8         </td><td>1         </td><td>2001-07-28</td><td>2001-08-03</td><td>684       </td><td>684       </td><td>684       </td><td> 37.12    </td><td> 37.12    </td><td> 37.12    </td><td>684       </td><td>684       </td><td>684       </td><td>684       </td><td>684       </td><td>684       </td></tr>\n",
       "\t<tr><td>2001      </td><td>8         </td><td>2         </td><td>2001-08-04</td><td>2001-08-10</td><td>684       </td><td>684       </td><td>684       </td><td>  4.00    </td><td>  4.00    </td><td>  4.00    </td><td>684       </td><td>684       </td><td>684       </td><td>684       </td><td>684       </td><td>684       </td></tr>\n",
       "</tbody>\n",
       "</table>\n"
      ],
      "text/latex": [
       "\\begin{tabular}{r|lllllllllllllllll}\n",
       " Ano & Mês & Semana & Data Início & Data Fim & Pesado SE & Médio SE & Leve SE & Pesado S & Médio S & Leve S & Pesado NE & Médio NE & Leve NE & Pesado N & Médio N & Leve N\\\\\n",
       "\\hline\n",
       "\t 2001       & 7          & 1          & 2001-06-30 & 2001-07-06 & 684        & 684        & 684        & 141.61     & 141.61     & 141.61     & 684        & 684        & 684        & 684        & 684        & 684       \\\\\n",
       "\t 2001       & 7          & 2          & 2001-07-07 & 2001-07-13 & 684        & 684        & 684        &   4.00     &   4.00     &   4.00     & 684        & 684        & 684        & 684        & 684        & 684       \\\\\n",
       "\t 2001       & 7          & 3          & 2001-07-14 & 2001-07-20 & 684        & 684        & 684        &   4.00     &   4.00     &   4.00     & 684        & 684        & 684        & 684        & 684        & 684       \\\\\n",
       "\t 2001       & 7          & 4          & 2001-07-21 & 2001-07-27 & 684        & 684        & 684        &  86.94     &  86.94     &  86.94     & 684        & 684        & 684        & 684        & 684        & 684       \\\\\n",
       "\t 2001       & 8          & 1          & 2001-07-28 & 2001-08-03 & 684        & 684        & 684        &  37.12     &  37.12     &  37.12     & 684        & 684        & 684        & 684        & 684        & 684       \\\\\n",
       "\t 2001       & 8          & 2          & 2001-08-04 & 2001-08-10 & 684        & 684        & 684        &   4.00     &   4.00     &   4.00     & 684        & 684        & 684        & 684        & 684        & 684       \\\\\n",
       "\\end{tabular}\n"
      ],
      "text/markdown": [
       "\n",
       "Ano | Mês | Semana | Data Início | Data Fim | Pesado SE | Médio SE | Leve SE | Pesado S | Médio S | Leve S | Pesado NE | Médio NE | Leve NE | Pesado N | Médio N | Leve N | \n",
       "|---|---|---|---|---|---|\n",
       "| 2001       | 7          | 1          | 2001-06-30 | 2001-07-06 | 684        | 684        | 684        | 141.61     | 141.61     | 141.61     | 684        | 684        | 684        | 684        | 684        | 684        | \n",
       "| 2001       | 7          | 2          | 2001-07-07 | 2001-07-13 | 684        | 684        | 684        |   4.00     |   4.00     |   4.00     | 684        | 684        | 684        | 684        | 684        | 684        | \n",
       "| 2001       | 7          | 3          | 2001-07-14 | 2001-07-20 | 684        | 684        | 684        |   4.00     |   4.00     |   4.00     | 684        | 684        | 684        | 684        | 684        | 684        | \n",
       "| 2001       | 7          | 4          | 2001-07-21 | 2001-07-27 | 684        | 684        | 684        |  86.94     |  86.94     |  86.94     | 684        | 684        | 684        | 684        | 684        | 684        | \n",
       "| 2001       | 8          | 1          | 2001-07-28 | 2001-08-03 | 684        | 684        | 684        |  37.12     |  37.12     |  37.12     | 684        | 684        | 684        | 684        | 684        | 684        | \n",
       "| 2001       | 8          | 2          | 2001-08-04 | 2001-08-10 | 684        | 684        | 684        |   4.00     |   4.00     |   4.00     | 684        | 684        | 684        | 684        | 684        | 684        | \n",
       "\n",
       "\n"
      ],
      "text/plain": [
       "  Ano  Mês Semana Data Início Data Fim   Pesado SE Médio SE Leve SE Pesado S\n",
       "1 2001 7   1      2001-06-30  2001-07-06 684       684      684     141.61  \n",
       "2 2001 7   2      2001-07-07  2001-07-13 684       684      684       4.00  \n",
       "3 2001 7   3      2001-07-14  2001-07-20 684       684      684       4.00  \n",
       "4 2001 7   4      2001-07-21  2001-07-27 684       684      684      86.94  \n",
       "5 2001 8   1      2001-07-28  2001-08-03 684       684      684      37.12  \n",
       "6 2001 8   2      2001-08-04  2001-08-10 684       684      684       4.00  \n",
       "  Médio S Leve S Pesado NE Médio NE Leve NE Pesado N Médio N Leve N\n",
       "1 141.61  141.61 684       684      684     684      684     684   \n",
       "2   4.00    4.00 684       684      684     684      684     684   \n",
       "3   4.00    4.00 684       684      684     684      684     684   \n",
       "4  86.94   86.94 684       684      684     684      684     684   \n",
       "5  37.12   37.12 684       684      684     684      684     684   \n",
       "6   4.00    4.00 684       684      684     684      684     684   "
      ]
     },
     "metadata": {},
     "output_type": "display_data"
    }
   ],
   "source": [
    "head(df)"
   ]
  },
  {
   "cell_type": "code",
   "execution_count": 12,
   "metadata": {},
   "outputs": [
    {
     "data": {
      "text/html": [
       "<table>\n",
       "<thead><tr><th scope=col>Ano</th><th scope=col>Mês</th><th scope=col>Semana</th><th scope=col>Data Início</th><th scope=col>Data Fim</th><th scope=col>Pesado SE</th><th scope=col>Médio SE</th><th scope=col>Leve SE</th><th scope=col>Pesado S</th><th scope=col>Médio S</th><th scope=col>Leve S</th><th scope=col>Pesado NE</th><th scope=col>Médio NE</th><th scope=col>Leve NE</th><th scope=col>Pesado N</th><th scope=col>Médio N</th><th scope=col>Leve N</th></tr></thead>\n",
       "<tbody>\n",
       "\t<tr><td>2018      </td><td>5         </td><td>3         </td><td>2018-05-12</td><td>2018-05-18</td><td>333.78    </td><td>333.78    </td><td>313.62    </td><td>333.78    </td><td>333.78    </td><td>313.62    </td><td>165.95    </td><td>165.95    </td><td>165.95    </td><td>116.25    </td><td>116.25    </td><td>112.53    </td></tr>\n",
       "\t<tr><td>2018      </td><td>5         </td><td>4         </td><td>2018-05-19</td><td>2018-05-25</td><td>348.43    </td><td>348.43    </td><td>327.41    </td><td>348.43    </td><td>348.43    </td><td>327.41    </td><td>201.88    </td><td>201.88    </td><td>201.88    </td><td>201.88    </td><td>201.88    </td><td>201.88    </td></tr>\n",
       "\t<tr><td>2018      </td><td>6         </td><td>1         </td><td>2018-05-26</td><td>2018-06-01</td><td>418.96    </td><td>418.96    </td><td>380.59    </td><td>418.96    </td><td>418.96    </td><td>380.59    </td><td>380.83    </td><td>380.83    </td><td>380.59    </td><td>380.83    </td><td>380.83    </td><td>380.59    </td></tr>\n",
       "\t<tr><td>2018      </td><td>6         </td><td>2         </td><td>2018-06-02</td><td>2018-06-08</td><td>457.54    </td><td>457.54    </td><td>411.94    </td><td>457.54    </td><td>457.54    </td><td>411.94    </td><td>321.06    </td><td>321.06    </td><td>321.06    </td><td>321.06    </td><td>321.06    </td><td>321.06    </td></tr>\n",
       "\t<tr><td>2018      </td><td>6         </td><td>3         </td><td>2018-06-09</td><td>2018-06-15</td><td>482.29    </td><td>480.00    </td><td>457.87    </td><td>482.29    </td><td>480.00    </td><td>457.87    </td><td>466.74    </td><td>466.74    </td><td>457.87    </td><td>466.74    </td><td>466.74    </td><td>457.87    </td></tr>\n",
       "\t<tr><td>2018      </td><td>6         </td><td>4         </td><td>2018-06-16</td><td>2018-06-22</td><td>485.85    </td><td>485.85    </td><td>463.60    </td><td>485.85    </td><td>485.85    </td><td>463.60    </td><td>485.85    </td><td>485.85    </td><td>463.60    </td><td>485.85    </td><td>485.85    </td><td>463.60    </td></tr>\n",
       "</tbody>\n",
       "</table>\n"
      ],
      "text/latex": [
       "\\begin{tabular}{r|lllllllllllllllll}\n",
       " Ano & Mês & Semana & Data Início & Data Fim & Pesado SE & Médio SE & Leve SE & Pesado S & Médio S & Leve S & Pesado NE & Médio NE & Leve NE & Pesado N & Médio N & Leve N\\\\\n",
       "\\hline\n",
       "\t 2018       & 5          & 3          & 2018-05-12 & 2018-05-18 & 333.78     & 333.78     & 313.62     & 333.78     & 333.78     & 313.62     & 165.95     & 165.95     & 165.95     & 116.25     & 116.25     & 112.53    \\\\\n",
       "\t 2018       & 5          & 4          & 2018-05-19 & 2018-05-25 & 348.43     & 348.43     & 327.41     & 348.43     & 348.43     & 327.41     & 201.88     & 201.88     & 201.88     & 201.88     & 201.88     & 201.88    \\\\\n",
       "\t 2018       & 6          & 1          & 2018-05-26 & 2018-06-01 & 418.96     & 418.96     & 380.59     & 418.96     & 418.96     & 380.59     & 380.83     & 380.83     & 380.59     & 380.83     & 380.83     & 380.59    \\\\\n",
       "\t 2018       & 6          & 2          & 2018-06-02 & 2018-06-08 & 457.54     & 457.54     & 411.94     & 457.54     & 457.54     & 411.94     & 321.06     & 321.06     & 321.06     & 321.06     & 321.06     & 321.06    \\\\\n",
       "\t 2018       & 6          & 3          & 2018-06-09 & 2018-06-15 & 482.29     & 480.00     & 457.87     & 482.29     & 480.00     & 457.87     & 466.74     & 466.74     & 457.87     & 466.74     & 466.74     & 457.87    \\\\\n",
       "\t 2018       & 6          & 4          & 2018-06-16 & 2018-06-22 & 485.85     & 485.85     & 463.60     & 485.85     & 485.85     & 463.60     & 485.85     & 485.85     & 463.60     & 485.85     & 485.85     & 463.60    \\\\\n",
       "\\end{tabular}\n"
      ],
      "text/markdown": [
       "\n",
       "Ano | Mês | Semana | Data Início | Data Fim | Pesado SE | Médio SE | Leve SE | Pesado S | Médio S | Leve S | Pesado NE | Médio NE | Leve NE | Pesado N | Médio N | Leve N | \n",
       "|---|---|---|---|---|---|\n",
       "| 2018       | 5          | 3          | 2018-05-12 | 2018-05-18 | 333.78     | 333.78     | 313.62     | 333.78     | 333.78     | 313.62     | 165.95     | 165.95     | 165.95     | 116.25     | 116.25     | 112.53     | \n",
       "| 2018       | 5          | 4          | 2018-05-19 | 2018-05-25 | 348.43     | 348.43     | 327.41     | 348.43     | 348.43     | 327.41     | 201.88     | 201.88     | 201.88     | 201.88     | 201.88     | 201.88     | \n",
       "| 2018       | 6          | 1          | 2018-05-26 | 2018-06-01 | 418.96     | 418.96     | 380.59     | 418.96     | 418.96     | 380.59     | 380.83     | 380.83     | 380.59     | 380.83     | 380.83     | 380.59     | \n",
       "| 2018       | 6          | 2          | 2018-06-02 | 2018-06-08 | 457.54     | 457.54     | 411.94     | 457.54     | 457.54     | 411.94     | 321.06     | 321.06     | 321.06     | 321.06     | 321.06     | 321.06     | \n",
       "| 2018       | 6          | 3          | 2018-06-09 | 2018-06-15 | 482.29     | 480.00     | 457.87     | 482.29     | 480.00     | 457.87     | 466.74     | 466.74     | 457.87     | 466.74     | 466.74     | 457.87     | \n",
       "| 2018       | 6          | 4          | 2018-06-16 | 2018-06-22 | 485.85     | 485.85     | 463.60     | 485.85     | 485.85     | 463.60     | 485.85     | 485.85     | 463.60     | 485.85     | 485.85     | 463.60     | \n",
       "\n",
       "\n"
      ],
      "text/plain": [
       "  Ano  Mês Semana Data Início Data Fim   Pesado SE Médio SE Leve SE Pesado S\n",
       "1 2018 5   3      2018-05-12  2018-05-18 333.78    333.78   313.62  333.78  \n",
       "2 2018 5   4      2018-05-19  2018-05-25 348.43    348.43   327.41  348.43  \n",
       "3 2018 6   1      2018-05-26  2018-06-01 418.96    418.96   380.59  418.96  \n",
       "4 2018 6   2      2018-06-02  2018-06-08 457.54    457.54   411.94  457.54  \n",
       "5 2018 6   3      2018-06-09  2018-06-15 482.29    480.00   457.87  482.29  \n",
       "6 2018 6   4      2018-06-16  2018-06-22 485.85    485.85   463.60  485.85  \n",
       "  Médio S Leve S Pesado NE Médio NE Leve NE Pesado N Médio N Leve N\n",
       "1 333.78  313.62 165.95    165.95   165.95  116.25   116.25  112.53\n",
       "2 348.43  327.41 201.88    201.88   201.88  201.88   201.88  201.88\n",
       "3 418.96  380.59 380.83    380.83   380.59  380.83   380.83  380.59\n",
       "4 457.54  411.94 321.06    321.06   321.06  321.06   321.06  321.06\n",
       "5 480.00  457.87 466.74    466.74   457.87  466.74   466.74  457.87\n",
       "6 485.85  463.60 485.85    485.85   463.60  485.85   485.85  463.60"
      ]
     },
     "metadata": {},
     "output_type": "display_data"
    }
   ],
   "source": [
    "tail(df)"
   ]
  },
  {
   "cell_type": "markdown",
   "metadata": {},
   "source": [
    "### Considerar apenas os patamares médios"
   ]
  },
  {
   "cell_type": "code",
   "execution_count": 75,
   "metadata": {},
   "outputs": [],
   "source": [
    "df_med = df[,c(1:5,7,10,13,16)]"
   ]
  },
  {
   "cell_type": "code",
   "execution_count": 76,
   "metadata": {},
   "outputs": [
    {
     "data": {
      "text/html": [
       "<table>\n",
       "<thead><tr><th scope=col>Ano</th><th scope=col>Mês</th><th scope=col>Semana</th><th scope=col>Data Início</th><th scope=col>Data Fim</th><th scope=col>Médio SE</th><th scope=col>Médio S</th><th scope=col>Médio NE</th><th scope=col>Médio N</th></tr></thead>\n",
       "<tbody>\n",
       "\t<tr><td>2018      </td><td>5         </td><td>3         </td><td>2018-05-12</td><td>2018-05-18</td><td>333.78    </td><td>333.78    </td><td>165.95    </td><td>116.25    </td></tr>\n",
       "\t<tr><td>2018      </td><td>5         </td><td>4         </td><td>2018-05-19</td><td>2018-05-25</td><td>348.43    </td><td>348.43    </td><td>201.88    </td><td>201.88    </td></tr>\n",
       "\t<tr><td>2018      </td><td>6         </td><td>1         </td><td>2018-05-26</td><td>2018-06-01</td><td>418.96    </td><td>418.96    </td><td>380.83    </td><td>380.83    </td></tr>\n",
       "\t<tr><td>2018      </td><td>6         </td><td>2         </td><td>2018-06-02</td><td>2018-06-08</td><td>457.54    </td><td>457.54    </td><td>321.06    </td><td>321.06    </td></tr>\n",
       "\t<tr><td>2018      </td><td>6         </td><td>3         </td><td>2018-06-09</td><td>2018-06-15</td><td>480.00    </td><td>480.00    </td><td>466.74    </td><td>466.74    </td></tr>\n",
       "\t<tr><td>2018      </td><td>6         </td><td>4         </td><td>2018-06-16</td><td>2018-06-22</td><td>485.85    </td><td>485.85    </td><td>485.85    </td><td>485.85    </td></tr>\n",
       "</tbody>\n",
       "</table>\n"
      ],
      "text/latex": [
       "\\begin{tabular}{r|lllllllll}\n",
       " Ano & Mês & Semana & Data Início & Data Fim & Médio SE & Médio S & Médio NE & Médio N\\\\\n",
       "\\hline\n",
       "\t 2018       & 5          & 3          & 2018-05-12 & 2018-05-18 & 333.78     & 333.78     & 165.95     & 116.25    \\\\\n",
       "\t 2018       & 5          & 4          & 2018-05-19 & 2018-05-25 & 348.43     & 348.43     & 201.88     & 201.88    \\\\\n",
       "\t 2018       & 6          & 1          & 2018-05-26 & 2018-06-01 & 418.96     & 418.96     & 380.83     & 380.83    \\\\\n",
       "\t 2018       & 6          & 2          & 2018-06-02 & 2018-06-08 & 457.54     & 457.54     & 321.06     & 321.06    \\\\\n",
       "\t 2018       & 6          & 3          & 2018-06-09 & 2018-06-15 & 480.00     & 480.00     & 466.74     & 466.74    \\\\\n",
       "\t 2018       & 6          & 4          & 2018-06-16 & 2018-06-22 & 485.85     & 485.85     & 485.85     & 485.85    \\\\\n",
       "\\end{tabular}\n"
      ],
      "text/markdown": [
       "\n",
       "Ano | Mês | Semana | Data Início | Data Fim | Médio SE | Médio S | Médio NE | Médio N | \n",
       "|---|---|---|---|---|---|\n",
       "| 2018       | 5          | 3          | 2018-05-12 | 2018-05-18 | 333.78     | 333.78     | 165.95     | 116.25     | \n",
       "| 2018       | 5          | 4          | 2018-05-19 | 2018-05-25 | 348.43     | 348.43     | 201.88     | 201.88     | \n",
       "| 2018       | 6          | 1          | 2018-05-26 | 2018-06-01 | 418.96     | 418.96     | 380.83     | 380.83     | \n",
       "| 2018       | 6          | 2          | 2018-06-02 | 2018-06-08 | 457.54     | 457.54     | 321.06     | 321.06     | \n",
       "| 2018       | 6          | 3          | 2018-06-09 | 2018-06-15 | 480.00     | 480.00     | 466.74     | 466.74     | \n",
       "| 2018       | 6          | 4          | 2018-06-16 | 2018-06-22 | 485.85     | 485.85     | 485.85     | 485.85     | \n",
       "\n",
       "\n"
      ],
      "text/plain": [
       "  Ano  Mês Semana Data Início Data Fim   Médio SE Médio S Médio NE Médio N\n",
       "1 2018 5   3      2018-05-12  2018-05-18 333.78   333.78  165.95   116.25 \n",
       "2 2018 5   4      2018-05-19  2018-05-25 348.43   348.43  201.88   201.88 \n",
       "3 2018 6   1      2018-05-26  2018-06-01 418.96   418.96  380.83   380.83 \n",
       "4 2018 6   2      2018-06-02  2018-06-08 457.54   457.54  321.06   321.06 \n",
       "5 2018 6   3      2018-06-09  2018-06-15 480.00   480.00  466.74   466.74 \n",
       "6 2018 6   4      2018-06-16  2018-06-22 485.85   485.85  485.85   485.85 "
      ]
     },
     "metadata": {},
     "output_type": "display_data"
    }
   ],
   "source": [
    "tail(df_med)"
   ]
  },
  {
   "cell_type": "markdown",
   "metadata": {},
   "source": [
    "### Script para criar lags das variáveis e transformar Ano, Mês, Semana em fatores"
   ]
  },
  {
   "cell_type": "code",
   "execution_count": 110,
   "metadata": {},
   "outputs": [],
   "source": [
    "df_med <- df_med %>% dplyr::mutate(pld_se_lag1 = dplyr::lag(df_med$'Médio SE'),\n",
    "                             pld_se_lag2 = dplyr::lag(pld_se_lag1),\n",
    "                             pld_se_lag3 = dplyr::lag(pld_se_lag2),\n",
    "                             pld_se_lag4 = dplyr::lag(pld_se_lag3), \n",
    "                             pld_se_lag5 = dplyr::lag(pld_se_lag4),\n",
    "                             pld_se_lag6 = dplyr::lag(pld_se_lag5),\n",
    "                             pld_se_lag7 = dplyr::lag(pld_se_lag6),\n",
    "                             pld_se_lag8 = dplyr::lag(pld_se_lag7),\n",
    "                             pld_s_lag1 = dplyr::lag(df_med$'Médio S'),\n",
    "                             pld_s_lag2 = dplyr::lag(pld_s_lag1),\n",
    "                             pld_s_lag3 = dplyr::lag(pld_s_lag2),\n",
    "                             pld_s_lag4 = dplyr::lag(pld_s_lag3),\n",
    "                             pld_s_lag5 = dplyr::lag(pld_s_lag4),\n",
    "                             pld_s_lag6 = dplyr::lag(pld_s_lag5),\n",
    "                             pld_s_lag7 = dplyr::lag(pld_s_lag6),\n",
    "                             pld_s_lag8 = dplyr::lag(pld_s_lag7),\n",
    "                             pld_NE_lag1 = dplyr::lag(df_med$'Médio NE'),\n",
    "                             pld_NE_lag2 = dplyr::lag(pld_NE_lag1),\n",
    "                             pld_NE_lag3 = dplyr::lag(pld_NE_lag2),\n",
    "                             pld_NE_lag4 = dplyr::lag(pld_NE_lag3), \n",
    "                             pld_NE_lag5 = dplyr::lag(pld_NE_lag4),\n",
    "                             pld_NE_lag6 = dplyr::lag(pld_NE_lag5),\n",
    "                             pld_NE_lag7 = dplyr::lag(pld_NE_lag6),\n",
    "                             pld_NE_lag8 = dplyr::lag(pld_NE_lag7),\n",
    "                             pld_N_lag1 = dplyr::lag(df_med$'Médio N'),\n",
    "                             pld_N_lag2 = dplyr::lag(pld_N_lag1),\n",
    "                             pld_N_lag3 = dplyr::lag(pld_N_lag2),\n",
    "                             pld_N_lag4 = dplyr::lag(pld_N_lag3),\n",
    "                             pld_N_lag5 = dplyr::lag(pld_N_lag4),\n",
    "                             pld_N_lag6 = dplyr::lag(pld_N_lag5),\n",
    "                             pld_N_lag7 = dplyr::lag(pld_N_lag6),\n",
    "                             pld_N_lag8 = dplyr::lag(pld_N_lag7), \n",
    "                             Ano = factor(Ano),\n",
    "                             Mês = factor(Mês),\n",
    "                             Semana = factor(Semana)\n",
    "                                  )"
   ]
  },
  {
   "cell_type": "code",
   "execution_count": 111,
   "metadata": {
    "collapsed": true
   },
   "outputs": [
    {
     "name": "stdout",
     "output_type": "stream",
     "text": [
      "Observations: 893\n",
      "Variables: 41\n",
      "$ Ano           <fct> 2001, 2001, 2001, 2001, 2001, 2001, 2001, 2001, 2001,...\n",
      "$ Mês           <fct> 7, 7, 7, 7, 8, 8, 8, 8, 8, 9, 9, 9, 9, 10, 10, 10, 10...\n",
      "$ Semana        <fct> 1, 2, 3, 4, 1, 2, 3, 4, 5, 1, 2, 3, 4, 1, 2, 3, 4, 1,...\n",
      "$ `Data Início` <dttm> 2001-06-30, 2001-07-07, 2001-07-14, 2001-07-21, 2001...\n",
      "$ `Data Fim`    <dttm> 2001-07-06, 2001-07-13, 2001-07-20, 2001-07-27, 2001...\n",
      "$ `Médio SE`    <dbl> 684, 684, 684, 684, 684, 684, 684, 684, 684, 684, 684...\n",
      "$ `Médio S`     <dbl> 141.61, 4.00, 4.00, 86.94, 37.12, 4.00, 37.12, 60.62,...\n",
      "$ `Médio NE`    <dbl> 684.00, 684.00, 684.00, 684.00, 684.00, 684.00, 684.0...\n",
      "$ `Médio N`     <dbl> 684, 684, 684, 684, 684, 684, 684, 684, 684, 684, 684...\n",
      "$ pld_se_lag1   <dbl> NA, 684, 684, 684, 684, 684, 684, 684, 684, 684, 684,...\n",
      "$ pld_se_lag2   <dbl> NA, NA, 684, 684, 684, 684, 684, 684, 684, 684, 684, ...\n",
      "$ pld_se_lag3   <dbl> NA, NA, NA, 684, 684, 684, 684, 684, 684, 684, 684, 6...\n",
      "$ pld_se_lag4   <dbl> NA, NA, NA, NA, 684, 684, 684, 684, 684, 684, 684, 68...\n",
      "$ pld_se_lag5   <dbl> NA, NA, NA, NA, NA, 684, 684, 684, 684, 684, 684, 684...\n",
      "$ pld_se_lag6   <dbl> NA, NA, NA, NA, NA, NA, 684, 684, 684, 684, 684, 684,...\n",
      "$ pld_se_lag7   <dbl> NA, NA, NA, NA, NA, NA, NA, 684, 684, 684, 684, 684, ...\n",
      "$ pld_se_lag8   <dbl> NA, NA, NA, NA, NA, NA, NA, NA, 684, 684, 684, 684, 6...\n",
      "$ pld_s_lag1    <dbl> NA, 141.61, 4.00, 4.00, 86.94, 37.12, 4.00, 37.12, 60...\n",
      "$ pld_s_lag2    <dbl> NA, NA, 141.61, 4.00, 4.00, 86.94, 37.12, 4.00, 37.12...\n",
      "$ pld_s_lag3    <dbl> NA, NA, NA, 141.61, 4.00, 4.00, 86.94, 37.12, 4.00, 3...\n",
      "$ pld_s_lag4    <dbl> NA, NA, NA, NA, 141.61, 4.00, 4.00, 86.94, 37.12, 4.0...\n",
      "$ pld_s_lag5    <dbl> NA, NA, NA, NA, NA, 141.61, 4.00, 4.00, 86.94, 37.12,...\n",
      "$ pld_s_lag6    <dbl> NA, NA, NA, NA, NA, NA, 141.61, 4.00, 4.00, 86.94, 37...\n",
      "$ pld_s_lag7    <dbl> NA, NA, NA, NA, NA, NA, NA, 141.61, 4.00, 4.00, 86.94...\n",
      "$ pld_s_lag8    <dbl> NA, NA, NA, NA, NA, NA, NA, NA, 141.61, 4.00, 4.00, 8...\n",
      "$ pld_NE_lag1   <dbl> NA, 684.00, 684.00, 684.00, 684.00, 684.00, 684.00, 6...\n",
      "$ pld_NE_lag2   <dbl> NA, NA, 684.00, 684.00, 684.00, 684.00, 684.00, 684.0...\n",
      "$ pld_NE_lag3   <dbl> NA, NA, NA, 684.00, 684.00, 684.00, 684.00, 684.00, 6...\n",
      "$ pld_NE_lag4   <dbl> NA, NA, NA, NA, 684.00, 684.00, 684.00, 684.00, 684.0...\n",
      "$ pld_NE_lag5   <dbl> NA, NA, NA, NA, NA, 684.00, 684.00, 684.00, 684.00, 6...\n",
      "$ pld_NE_lag6   <dbl> NA, NA, NA, NA, NA, NA, 684.00, 684.00, 684.00, 684.0...\n",
      "$ pld_NE_lag7   <dbl> NA, NA, NA, NA, NA, NA, NA, 684.00, 684.00, 684.00, 6...\n",
      "$ pld_NE_lag8   <dbl> NA, NA, NA, NA, NA, NA, NA, NA, 684.00, 684.00, 684.0...\n",
      "$ pld_N_lag1    <dbl> NA, 684, 684, 684, 684, 684, 684, 684, 684, 684, 684,...\n",
      "$ pld_N_lag2    <dbl> NA, NA, 684, 684, 684, 684, 684, 684, 684, 684, 684, ...\n",
      "$ pld_N_lag3    <dbl> NA, NA, NA, 684, 684, 684, 684, 684, 684, 684, 684, 6...\n",
      "$ pld_N_lag4    <dbl> NA, NA, NA, NA, 684, 684, 684, 684, 684, 684, 684, 68...\n",
      "$ pld_N_lag5    <dbl> NA, NA, NA, NA, NA, 684, 684, 684, 684, 684, 684, 684...\n",
      "$ pld_N_lag6    <dbl> NA, NA, NA, NA, NA, NA, 684, 684, 684, 684, 684, 684,...\n",
      "$ pld_N_lag7    <dbl> NA, NA, NA, NA, NA, NA, NA, 684, 684, 684, 684, 684, ...\n",
      "$ pld_N_lag8    <dbl> NA, NA, NA, NA, NA, NA, NA, NA, 684, 684, 684, 684, 6...\n"
     ]
    }
   ],
   "source": [
    "glimpse(df_med)"
   ]
  },
  {
   "cell_type": "markdown",
   "metadata": {},
   "source": [
    "### Converter dados para o tipo \"ts\" (série temporal)"
   ]
  },
  {
   "cell_type": "code",
   "execution_count": 112,
   "metadata": {},
   "outputs": [],
   "source": [
    "ts_data = ts(df_med,  freq = 365.25/7, start = lubridate::decimal_date(ymd(\"2001-06-30\")))"
   ]
  },
  {
   "cell_type": "code",
   "execution_count": 113,
   "metadata": {},
   "outputs": [
    {
     "name": "stdout",
     "output_type": "stream",
     "text": [
      " Time-Series [1:893, 1:41] from 2001 to 2019: 1 1 1 1 1 1 1 1 1 1 ...\n",
      " - attr(*, \"dimnames\")=List of 2\n",
      "  ..$ : NULL\n",
      "  ..$ : chr [1:41] \"Ano\" \"Mês\" \"Semana\" \"Data Início\" ...\n"
     ]
    }
   ],
   "source": [
    "str(ts_data)"
   ]
  },
  {
   "cell_type": "code",
   "execution_count": 114,
   "metadata": {},
   "outputs": [
    {
     "data": {
      "text/html": [
       "<ol class=list-inline>\n",
       "\t<li>333.78</li>\n",
       "\t<li>348.43</li>\n",
       "\t<li>418.96</li>\n",
       "\t<li>457.54</li>\n",
       "\t<li>480</li>\n",
       "\t<li>485.85</li>\n",
       "</ol>\n"
      ],
      "text/latex": [
       "\\begin{enumerate*}\n",
       "\\item 333.78\n",
       "\\item 348.43\n",
       "\\item 418.96\n",
       "\\item 457.54\n",
       "\\item 480\n",
       "\\item 485.85\n",
       "\\end{enumerate*}\n"
      ],
      "text/markdown": [
       "1. 333.78\n",
       "2. 348.43\n",
       "3. 418.96\n",
       "4. 457.54\n",
       "5. 480\n",
       "6. 485.85\n",
       "\n",
       "\n"
      ],
      "text/plain": [
       "[1] 333.78 348.43 418.96 457.54 480.00 485.85"
      ]
     },
     "metadata": {},
     "output_type": "display_data"
    }
   ],
   "source": [
    "tail(ts_data[,'Médio SE'])"
   ]
  },
  {
   "cell_type": "code",
   "execution_count": 115,
   "metadata": {},
   "outputs": [
    {
     "data": {
      "image/png": "[encoded data removed]",
      "text/plain": [
       "Plot with title “PLD Sudeste - Patamar Médio - Todo o Período”"
      ]
     },
     "metadata": {},
     "output_type": "display_data"
    }
   ],
   "source": [
    "options(repr.plot.width = 6, repr.plot.height = 4)\n",
    "time=1:NROW(ts_data[,'Médio SE'])\n",
    "            \n",
    "plot(time,ts_data[,'Médio SE'], type =\"l\", col = \"navy\", \n",
    "           main = \"PLD Sudeste - Patamar Médio - Todo o Período\")"
   ]
  },
  {
   "cell_type": "markdown",
   "metadata": {},
   "source": [
    "### Criar objeto contendo apenas os dados do Sudeste"
   ]
  },
  {
   "cell_type": "markdown",
   "metadata": {},
   "source": [
    "### Separar os dados em treinamento e teste"
   ]
  },
  {
   "cell_type": "code",
   "execution_count": 183,
   "metadata": {},
   "outputs": [],
   "source": [
    "df_SE <-  df_med %>% as.data.frame() %>% dplyr::select(-c(4,5,7,8,9, 18:41)) #%>% \n",
    "                    #ts(., freq = 365.25/7, start = lubridate::decimal_date(ymd(\"2001-06-30\"))) "
   ]
  },
  {
   "cell_type": "code",
   "execution_count": 184,
   "metadata": {},
   "outputs": [],
   "source": [
    "train_percentage = 75/100  # Define o percentual dos dados usados no treinamento"
   ]
  },
  {
   "cell_type": "markdown",
   "metadata": {},
   "source": [
    "#### Período de Treinamento"
   ]
  },
  {
   "cell_type": "code",
   "execution_count": 185,
   "metadata": {},
   "outputs": [],
   "source": [
    "dst_train = df_SE[1:floor(train_percentage*NROW(df_SE)),] "
   ]
  },
  {
   "cell_type": "code",
   "execution_count": 186,
   "metadata": {},
   "outputs": [
    {
     "data": {
      "text/html": [
       "<table>\n",
       "<thead><tr><th></th><th scope=col>Ano</th><th scope=col>Mês</th><th scope=col>Semana</th><th scope=col>Médio SE</th><th scope=col>pld_se_lag1</th><th scope=col>pld_se_lag2</th><th scope=col>pld_se_lag3</th><th scope=col>pld_se_lag4</th><th scope=col>pld_se_lag5</th><th scope=col>pld_se_lag6</th><th scope=col>pld_se_lag7</th><th scope=col>pld_se_lag8</th></tr></thead>\n",
       "<tbody>\n",
       "\t<tr><th scope=row>667</th><td>2014  </td><td>3     </td><td>2     </td><td>822.83</td><td>822.83</td><td>822.83</td><td>822.83</td><td>822.83</td><td>822.83</td><td>486.59</td><td>410.67</td><td>391.80</td></tr>\n",
       "\t<tr><th scope=row>668</th><td>2014  </td><td>3     </td><td>3     </td><td>822.83</td><td>822.83</td><td>822.83</td><td>822.83</td><td>822.83</td><td>822.83</td><td>822.83</td><td>486.59</td><td>410.67</td></tr>\n",
       "\t<tr><th scope=row>669</th><td>2014  </td><td>3     </td><td>4     </td><td>822.83</td><td>822.83</td><td>822.83</td><td>822.83</td><td>822.83</td><td>822.83</td><td>822.83</td><td>822.83</td><td>486.59</td></tr>\n",
       "</tbody>\n",
       "</table>\n"
      ],
      "text/latex": [
       "\\begin{tabular}{r|llllllllllll}\n",
       "  & Ano & Mês & Semana & Médio SE & pld\\_se\\_lag1 & pld\\_se\\_lag2 & pld\\_se\\_lag3 & pld\\_se\\_lag4 & pld\\_se\\_lag5 & pld\\_se\\_lag6 & pld\\_se\\_lag7 & pld\\_se\\_lag8\\\\\n",
       "\\hline\n",
       "\t667 & 2014   & 3      & 2      & 822.83 & 822.83 & 822.83 & 822.83 & 822.83 & 822.83 & 486.59 & 410.67 & 391.80\\\\\n",
       "\t668 & 2014   & 3      & 3      & 822.83 & 822.83 & 822.83 & 822.83 & 822.83 & 822.83 & 822.83 & 486.59 & 410.67\\\\\n",
       "\t669 & 2014   & 3      & 4      & 822.83 & 822.83 & 822.83 & 822.83 & 822.83 & 822.83 & 822.83 & 822.83 & 486.59\\\\\n",
       "\\end{tabular}\n"
      ],
      "text/markdown": [
       "\n",
       "| <!--/--> | Ano | Mês | Semana | Médio SE | pld_se_lag1 | pld_se_lag2 | pld_se_lag3 | pld_se_lag4 | pld_se_lag5 | pld_se_lag6 | pld_se_lag7 | pld_se_lag8 | \n",
       "|---|---|---|\n",
       "| 667 | 2014   | 3      | 2      | 822.83 | 822.83 | 822.83 | 822.83 | 822.83 | 822.83 | 486.59 | 410.67 | 391.80 | \n",
       "| 668 | 2014   | 3      | 3      | 822.83 | 822.83 | 822.83 | 822.83 | 822.83 | 822.83 | 822.83 | 486.59 | 410.67 | \n",
       "| 669 | 2014   | 3      | 4      | 822.83 | 822.83 | 822.83 | 822.83 | 822.83 | 822.83 | 822.83 | 822.83 | 486.59 | \n",
       "\n",
       "\n"
      ],
      "text/plain": [
       "    Ano  Mês Semana Médio SE pld_se_lag1 pld_se_lag2 pld_se_lag3 pld_se_lag4\n",
       "667 2014 3   2      822.83   822.83      822.83      822.83      822.83     \n",
       "668 2014 3   3      822.83   822.83      822.83      822.83      822.83     \n",
       "669 2014 3   4      822.83   822.83      822.83      822.83      822.83     \n",
       "    pld_se_lag5 pld_se_lag6 pld_se_lag7 pld_se_lag8\n",
       "667 822.83      486.59      410.67      391.80     \n",
       "668 822.83      822.83      486.59      410.67     \n",
       "669 822.83      822.83      822.83      486.59     "
      ]
     },
     "metadata": {},
     "output_type": "display_data"
    }
   ],
   "source": [
    "tail(dst_train,3)"
   ]
  },
  {
   "cell_type": "markdown",
   "metadata": {},
   "source": [
    "#### Período de Teste"
   ]
  },
  {
   "cell_type": "code",
   "execution_count": 187,
   "metadata": {},
   "outputs": [],
   "source": [
    "dst_test=df_SE[(floor(0.75*NROW(ts_data))+1):NROW(ts_data),]"
   ]
  },
  {
   "cell_type": "code",
   "execution_count": 188,
   "metadata": {},
   "outputs": [
    {
     "data": {
      "text/html": [
       "<table>\n",
       "<thead><tr><th></th><th scope=col>Ano</th><th scope=col>Mês</th><th scope=col>Semana</th><th scope=col>Médio SE</th><th scope=col>pld_se_lag1</th><th scope=col>pld_se_lag2</th><th scope=col>pld_se_lag3</th><th scope=col>pld_se_lag4</th><th scope=col>pld_se_lag5</th><th scope=col>pld_se_lag6</th><th scope=col>pld_se_lag7</th><th scope=col>pld_se_lag8</th></tr></thead>\n",
       "<tbody>\n",
       "\t<tr><th scope=row>670</th><td>2014  </td><td>4     </td><td>1     </td><td>822.83</td><td>822.83</td><td>822.83</td><td>822.83</td><td>822.83</td><td>822.83</td><td>822.83</td><td>822.83</td><td>822.83</td></tr>\n",
       "\t<tr><th scope=row>671</th><td>2014  </td><td>4     </td><td>2     </td><td>822.83</td><td>822.83</td><td>822.83</td><td>822.83</td><td>822.83</td><td>822.83</td><td>822.83</td><td>822.83</td><td>822.83</td></tr>\n",
       "\t<tr><th scope=row>672</th><td>2014  </td><td>4     </td><td>3     </td><td>822.83</td><td>822.83</td><td>822.83</td><td>822.83</td><td>822.83</td><td>822.83</td><td>822.83</td><td>822.83</td><td>822.83</td></tr>\n",
       "</tbody>\n",
       "</table>\n"
      ],
      "text/latex": [
       "\\begin{tabular}{r|llllllllllll}\n",
       "  & Ano & Mês & Semana & Médio SE & pld\\_se\\_lag1 & pld\\_se\\_lag2 & pld\\_se\\_lag3 & pld\\_se\\_lag4 & pld\\_se\\_lag5 & pld\\_se\\_lag6 & pld\\_se\\_lag7 & pld\\_se\\_lag8\\\\\n",
       "\\hline\n",
       "\t670 & 2014   & 4      & 1      & 822.83 & 822.83 & 822.83 & 822.83 & 822.83 & 822.83 & 822.83 & 822.83 & 822.83\\\\\n",
       "\t671 & 2014   & 4      & 2      & 822.83 & 822.83 & 822.83 & 822.83 & 822.83 & 822.83 & 822.83 & 822.83 & 822.83\\\\\n",
       "\t672 & 2014   & 4      & 3      & 822.83 & 822.83 & 822.83 & 822.83 & 822.83 & 822.83 & 822.83 & 822.83 & 822.83\\\\\n",
       "\\end{tabular}\n"
      ],
      "text/markdown": [
       "\n",
       "| <!--/--> | Ano | Mês | Semana | Médio SE | pld_se_lag1 | pld_se_lag2 | pld_se_lag3 | pld_se_lag4 | pld_se_lag5 | pld_se_lag6 | pld_se_lag7 | pld_se_lag8 | \n",
       "|---|---|---|\n",
       "| 670 | 2014   | 4      | 1      | 822.83 | 822.83 | 822.83 | 822.83 | 822.83 | 822.83 | 822.83 | 822.83 | 822.83 | \n",
       "| 671 | 2014   | 4      | 2      | 822.83 | 822.83 | 822.83 | 822.83 | 822.83 | 822.83 | 822.83 | 822.83 | 822.83 | \n",
       "| 672 | 2014   | 4      | 3      | 822.83 | 822.83 | 822.83 | 822.83 | 822.83 | 822.83 | 822.83 | 822.83 | 822.83 | \n",
       "\n",
       "\n"
      ],
      "text/plain": [
       "    Ano  Mês Semana Médio SE pld_se_lag1 pld_se_lag2 pld_se_lag3 pld_se_lag4\n",
       "670 2014 4   1      822.83   822.83      822.83      822.83      822.83     \n",
       "671 2014 4   2      822.83   822.83      822.83      822.83      822.83     \n",
       "672 2014 4   3      822.83   822.83      822.83      822.83      822.83     \n",
       "    pld_se_lag5 pld_se_lag6 pld_se_lag7 pld_se_lag8\n",
       "670 822.83      822.83      822.83      822.83     \n",
       "671 822.83      822.83      822.83      822.83     \n",
       "672 822.83      822.83      822.83      822.83     "
      ]
     },
     "metadata": {},
     "output_type": "display_data"
    }
   ],
   "source": [
    "head(dst_test,3)"
   ]
  },
  {
   "cell_type": "code",
   "execution_count": 189,
   "metadata": {},
   "outputs": [
    {
     "data": {
      "text/html": [
       "<table>\n",
       "<thead><tr><th></th><th scope=col>Ano</th><th scope=col>Mês</th><th scope=col>Semana</th><th scope=col>Médio SE</th><th scope=col>pld_se_lag1</th><th scope=col>pld_se_lag2</th><th scope=col>pld_se_lag3</th><th scope=col>pld_se_lag4</th><th scope=col>pld_se_lag5</th><th scope=col>pld_se_lag6</th><th scope=col>pld_se_lag7</th><th scope=col>pld_se_lag8</th></tr></thead>\n",
       "<tbody>\n",
       "\t<tr><th scope=row>891</th><td>2018  </td><td>6     </td><td>2     </td><td>457.54</td><td>418.96</td><td>348.43</td><td>333.78</td><td>312.82</td><td>222.50</td><td>138.72</td><td>125.33</td><td> 87.61</td></tr>\n",
       "\t<tr><th scope=row>892</th><td>2018  </td><td>6     </td><td>3     </td><td>480.00</td><td>457.54</td><td>418.96</td><td>348.43</td><td>333.78</td><td>312.82</td><td>222.50</td><td>138.72</td><td>125.33</td></tr>\n",
       "\t<tr><th scope=row>893</th><td>2018  </td><td>6     </td><td>4     </td><td>485.85</td><td>480.00</td><td>457.54</td><td>418.96</td><td>348.43</td><td>333.78</td><td>312.82</td><td>222.50</td><td>138.72</td></tr>\n",
       "</tbody>\n",
       "</table>\n"
      ],
      "text/latex": [
       "\\begin{tabular}{r|llllllllllll}\n",
       "  & Ano & Mês & Semana & Médio SE & pld\\_se\\_lag1 & pld\\_se\\_lag2 & pld\\_se\\_lag3 & pld\\_se\\_lag4 & pld\\_se\\_lag5 & pld\\_se\\_lag6 & pld\\_se\\_lag7 & pld\\_se\\_lag8\\\\\n",
       "\\hline\n",
       "\t891 & 2018   & 6      & 2      & 457.54 & 418.96 & 348.43 & 333.78 & 312.82 & 222.50 & 138.72 & 125.33 &  87.61\\\\\n",
       "\t892 & 2018   & 6      & 3      & 480.00 & 457.54 & 418.96 & 348.43 & 333.78 & 312.82 & 222.50 & 138.72 & 125.33\\\\\n",
       "\t893 & 2018   & 6      & 4      & 485.85 & 480.00 & 457.54 & 418.96 & 348.43 & 333.78 & 312.82 & 222.50 & 138.72\\\\\n",
       "\\end{tabular}\n"
      ],
      "text/markdown": [
       "\n",
       "| <!--/--> | Ano | Mês | Semana | Médio SE | pld_se_lag1 | pld_se_lag2 | pld_se_lag3 | pld_se_lag4 | pld_se_lag5 | pld_se_lag6 | pld_se_lag7 | pld_se_lag8 | \n",
       "|---|---|---|\n",
       "| 891 | 2018   | 6      | 2      | 457.54 | 418.96 | 348.43 | 333.78 | 312.82 | 222.50 | 138.72 | 125.33 |  87.61 | \n",
       "| 892 | 2018   | 6      | 3      | 480.00 | 457.54 | 418.96 | 348.43 | 333.78 | 312.82 | 222.50 | 138.72 | 125.33 | \n",
       "| 893 | 2018   | 6      | 4      | 485.85 | 480.00 | 457.54 | 418.96 | 348.43 | 333.78 | 312.82 | 222.50 | 138.72 | \n",
       "\n",
       "\n"
      ],
      "text/plain": [
       "    Ano  Mês Semana Médio SE pld_se_lag1 pld_se_lag2 pld_se_lag3 pld_se_lag4\n",
       "891 2018 6   2      457.54   418.96      348.43      333.78      312.82     \n",
       "892 2018 6   3      480.00   457.54      418.96      348.43      333.78     \n",
       "893 2018 6   4      485.85   480.00      457.54      418.96      348.43     \n",
       "    pld_se_lag5 pld_se_lag6 pld_se_lag7 pld_se_lag8\n",
       "891 222.50      138.72      125.33       87.61     \n",
       "892 312.82      222.50      138.72      125.33     \n",
       "893 333.78      312.82      222.50      138.72     "
      ]
     },
     "metadata": {},
     "output_type": "display_data"
    }
   ],
   "source": [
    "tail(dst_test,3)"
   ]
  },
  {
   "cell_type": "markdown",
   "metadata": {},
   "source": [
    "### Definir a estrutura do modelo"
   ]
  },
  {
   "cell_type": "code",
   "execution_count": 190,
   "metadata": {},
   "outputs": [],
   "source": [
    "model_struc = as.formula(\"dst_train[,'Médio SE'] ~ .\")"
   ]
  },
  {
   "cell_type": "code",
   "execution_count": 191,
   "metadata": {},
   "outputs": [
    {
     "name": "stdout",
     "output_type": "stream",
     "text": [
      "'data.frame':\t669 obs. of  12 variables:\n",
      " $ Ano        : Factor w/ 18 levels \"2001\",\"2002\",..: 1 1 1 1 1 1 1 1 1 1 ...\n",
      " $ Mês        : Factor w/ 12 levels \"1\",\"2\",\"3\",\"4\",..: 7 7 7 7 8 8 8 8 8 9 ...\n",
      " $ Semana     : Factor w/ 5 levels \"1\",\"2\",\"3\",\"4\",..: 1 2 3 4 1 2 3 4 5 1 ...\n",
      " $ Médio SE   : num  684 684 684 684 684 684 684 684 684 684 ...\n",
      " $ pld_se_lag1: num  NA 684 684 684 684 684 684 684 684 684 ...\n",
      " $ pld_se_lag2: num  NA NA 684 684 684 684 684 684 684 684 ...\n",
      " $ pld_se_lag3: num  NA NA NA 684 684 684 684 684 684 684 ...\n",
      " $ pld_se_lag4: num  NA NA NA NA 684 684 684 684 684 684 ...\n",
      " $ pld_se_lag5: num  NA NA NA NA NA 684 684 684 684 684 ...\n",
      " $ pld_se_lag6: num  NA NA NA NA NA NA 684 684 684 684 ...\n",
      " $ pld_se_lag7: num  NA NA NA NA NA NA NA 684 684 684 ...\n",
      " $ pld_se_lag8: num  NA NA NA NA NA NA NA NA 684 684 ...\n"
     ]
    }
   ],
   "source": [
    "str(dst_train)"
   ]
  },
  {
   "cell_type": "code",
   "execution_count": null,
   "metadata": {},
   "outputs": [],
   "source": []
  },
  {
   "cell_type": "code",
   "execution_count": null,
   "metadata": {},
   "outputs": [],
   "source": [
    "### USAR ONE HOT ENCODING - PODE SER QUE O PROBLEMA ESTEJA NA CV, FOLDS QUE NÃO ETM OS DADOS"
   ]
  },
  {
   "cell_type": "code",
   "execution_count": null,
   "metadata": {},
   "outputs": [],
   "source": []
  },
  {
   "cell_type": "code",
   "execution_count": 192,
   "metadata": {},
   "outputs": [
    {
     "ename": "ERROR",
     "evalue": "Error in x[, i]: subscript out of bounds\n",
     "output_type": "error",
     "traceback": [
      "Error in x[, i]: subscript out of bounds\nTraceback:\n",
      "1. gbm(formula = model_struc, distribution = \"gaussian\", n.trees = 1000, \n .     interaction.depth = 3, n.minobsinnode = 2, shrinkage = 0.01, \n .     cv.folds = 2, data = dst_train_small, keep.data = FALSE, \n .     n.cores = NULL)",
      "2. gbmCrossVal(cv.folds, nTrain, n.cores, class.stratify.cv, data, \n .     x, y, offset, distribution, w, var.monotone, n.trees, interaction.depth, \n .     n.minobsinnode, shrinkage, bag.fraction, var.names, response.name, \n .     group)",
      "3. gbmCrossValPredictions(cv.models, cv.folds, cv.group, best.iter.cv, \n .     distribution, data[i.train, ], y)",
      "4. predict(model, newdata = my.data, n.trees = best.iter.cv)",
      "5. predict.gbm(model, newdata = my.data, n.trees = best.iter.cv)",
      "6. is.factor(x[, i])"
     ]
    }
   ],
   "source": [
    "tic = Sys.time()\n",
    "\n",
    "set.seed(123) \n",
    "\n",
    "gbm1 <- gbm(formula = model_struc, distribution = \"gaussian\",\n",
    "            n.trees =  1000, # c(5000, 7500, 10000)\n",
    "            interaction.depth = 3,\n",
    "            n.minobsinnode = 2, #c(1,2)\n",
    "            shrinkage = 0.01,\n",
    "            cv.folds = 2,\n",
    "            data = dst_train_small, keep.data = FALSE,\n",
    "            n.cores = NULL) # Para usar todos os \"cores\" disponíveis na máquina\n",
    "best.iter <- gbm.perf(gbm1, method=\"cv\", plot=FALSE)\n",
    "\n",
    "toc = Sys.time()\n",
    "\n",
    "delta_t = toc - tic  # Computa o tempo decorrido"
   ]
  },
  {
   "cell_type": "code",
   "execution_count": null,
   "metadata": {},
   "outputs": [],
   "source": [
    "print(paste0(\"Tempo necessário para rodar GBM: \" , round(delta_t,2)))"
   ]
  },
  {
   "cell_type": "code",
   "execution_count": null,
   "metadata": {},
   "outputs": [],
   "source": [
    "# print model\n",
    "print(gbm1) "
   ]
  },
  {
   "cell_type": "code",
   "execution_count": null,
   "metadata": {},
   "outputs": [],
   "source": [
    "# check performance using 5-fold cross-validation\n",
    "options(repr.plot.width = 10, repr.plot.height = 5)\n",
    "best.iter <- gbm.perf(gbm1,method=\"cv\")"
   ]
  },
  {
   "cell_type": "code",
   "execution_count": null,
   "metadata": {},
   "outputs": [],
   "source": [
    "# summary - Gradient Boosting Machine - variables in descending order of importance\n",
    "summary(gbm1)"
   ]
  },
  {
   "cell_type": "code",
   "execution_count": null,
   "metadata": {},
   "outputs": [],
   "source": []
  },
  {
   "cell_type": "code",
   "execution_count": null,
   "metadata": {},
   "outputs": [],
   "source": [
    "options(repr.plot.width = 10, repr.plot.height = 5)\n",
    "# check variable importance\n",
    "f_imp <- summary(gbm1, n.trees = best.iter, plot = FALSE) \n",
    "# use a custom plot to show variable importance\n",
    "\n",
    "# Show first 20 variables only\n",
    "barplot(f_imp$rel.inf[1:20], names.arg = f_imp$var[1:20], xlab = \"Feature\", ylab = \"Relative influence\", las = 2, cex.names = 0.7, col=c(\"darkblue\"))"
   ]
  },
  {
   "cell_type": "code",
   "execution_count": null,
   "metadata": {},
   "outputs": [],
   "source": [
    "# Top 20 variables and their relative importances\n",
    "head(f_imp,20)"
   ]
  },
  {
   "cell_type": "code",
   "execution_count": null,
   "metadata": {},
   "outputs": [],
   "source": []
  },
  {
   "cell_type": "code",
   "execution_count": null,
   "metadata": {},
   "outputs": [],
   "source": [
    "# Define prediction function\n",
    "predict_gbm <- function(newdata)\n",
    "{\n",
    "  require(gbm)\n",
    "  predict(gbm1, newdata, best.iter)\n",
    "}"
   ]
  },
  {
   "cell_type": "code",
   "execution_count": null,
   "metadata": {},
   "outputs": [],
   "source": []
  },
  {
   "cell_type": "code",
   "execution_count": null,
   "metadata": {},
   "outputs": [],
   "source": [
    "# test the prediction function\n",
    "newdata <- dst_test_small\n",
    "pred <- predict_gbm(dst_test_small)\n",
    "actual = dst_test_small$Price_Medium"
   ]
  },
  {
   "cell_type": "code",
   "execution_count": null,
   "metadata": {},
   "outputs": [],
   "source": [
    "perc_error = round(100*((actual-pred)/actual), digits = 3)\n",
    "abs_perc_error = abs(perc_error)\n",
    "result_test_period = data.frame(actual, forecast = pred, perc_error, abs_perc_error);"
   ]
  },
  {
   "cell_type": "code",
   "execution_count": null,
   "metadata": {},
   "outputs": [],
   "source": []
  },
  {
   "cell_type": "code",
   "execution_count": null,
   "metadata": {},
   "outputs": [],
   "source": [
    "MAPE = function(real, pred){\n",
    "    y = 100 * mean(abs((real-pred)/real), na.rm = TRUE)\n",
    "    return(y)\n",
    "    }"
   ]
  },
  {
   "cell_type": "code",
   "execution_count": null,
   "metadata": {},
   "outputs": [],
   "source": []
  },
  {
   "cell_type": "code",
   "execution_count": null,
   "metadata": {},
   "outputs": [],
   "source": [
    "print(paste0(\"MAPE = \", round(MAPE(actual,pred),4)))"
   ]
  },
  {
   "cell_type": "code",
   "execution_count": null,
   "metadata": {},
   "outputs": [],
   "source": []
  },
  {
   "cell_type": "code",
   "execution_count": null,
   "metadata": {},
   "outputs": [],
   "source": [
    "head(result_test_period)"
   ]
  },
  {
   "cell_type": "code",
   "execution_count": null,
   "metadata": {},
   "outputs": [],
   "source": []
  },
  {
   "cell_type": "code",
   "execution_count": null,
   "metadata": {},
   "outputs": [],
   "source": [
    "tail(result_test_period)"
   ]
  },
  {
   "cell_type": "code",
   "execution_count": null,
   "metadata": {},
   "outputs": [],
   "source": []
  },
  {
   "cell_type": "code",
   "execution_count": null,
   "metadata": {},
   "outputs": [],
   "source": [
    "time=1:nrow(result_test_period)\n",
    "plot(time,abs_perc_error, type =\"l\", col = \"red\", main = \"GBM Forecast - Absolute % Error - Test Period\")"
   ]
  },
  {
   "cell_type": "code",
   "execution_count": null,
   "metadata": {},
   "outputs": [],
   "source": [
    "# Histogram of Absolute Percentage Errors \n",
    "options(repr.plot.width = 5, repr.plot.height = 5)\n",
    "hist(perc_error, main = \"GBM - Distribution of % Errors\", col = \"green\", xlab = NULL, breaks = seq(-300,300,20))"
   ]
  },
  {
   "cell_type": "code",
   "execution_count": null,
   "metadata": {},
   "outputs": [],
   "source": [
    "# Histogram of Absolute Percentage Errors \n",
    "options(repr.plot.width = 5, repr.plot.height = 5)\n",
    "hist(abs_perc_error, main = \"GBM - Distribution of Absolute % Errors\", col = \"red\", xlab = NULL, breaks = seq(0,300,20))"
   ]
  },
  {
   "cell_type": "code",
   "execution_count": null,
   "metadata": {},
   "outputs": [],
   "source": [
    "MAPE = mean(abs_perc_error)\n",
    "print(paste0(\"MAPE = \", round(MAPE,4)))"
   ]
  },
  {
   "cell_type": "code",
   "execution_count": null,
   "metadata": {},
   "outputs": [],
   "source": [
    "print(paste0(\"Minimum % Error (test period): \", min(perc_error, na.rm = TRUE)))"
   ]
  },
  {
   "cell_type": "code",
   "execution_count": null,
   "metadata": {},
   "outputs": [],
   "source": [
    "print(paste0(\"Maximum  % Error (test period): \",max(perc_error, na.rm = TRUE)))"
   ]
  },
  {
   "cell_type": "code",
   "execution_count": null,
   "metadata": {},
   "outputs": [],
   "source": [
    "head(result_test_period)"
   ]
  },
  {
   "cell_type": "code",
   "execution_count": null,
   "metadata": {},
   "outputs": [],
   "source": [
    "summary(perc_error)"
   ]
  },
  {
   "cell_type": "code",
   "execution_count": null,
   "metadata": {},
   "outputs": [],
   "source": [
    "library(ggplot2)\n",
    "options(repr.plot.width = 10, repr.plot.height = 5)\n",
    "ggplot(result_test_period, aes(x = actual, y = forecast)) + \n",
    "    geom_point(colour = \"blue\", alpha = 0.5) +\n",
    "    stat_smooth(colour = \"red\") + \n",
    "    ggtitle(\"GBM prediction of Spot Price (medium load)- Test Period\")"
   ]
  },
  {
   "cell_type": "code",
   "execution_count": null,
   "metadata": {},
   "outputs": [],
   "source": [
    "rtp = rtp=cbind(result_test_period,dst_test[,c(1,2,3,8,9,10)])  # Contains results and date/time information - will be useful in plotting"
   ]
  },
  {
   "cell_type": "code",
   "execution_count": null,
   "metadata": {},
   "outputs": [],
   "source": [
    "head(rtp)"
   ]
  },
  {
   "cell_type": "code",
   "execution_count": null,
   "metadata": {},
   "outputs": [],
   "source": [
    "# Finding the rows with absolute % errors above 30%\n",
    "subset(rtp, abs_perc_error > 30)"
   ]
  },
  {
   "cell_type": "code",
   "execution_count": null,
   "metadata": {},
   "outputs": [],
   "source": [
    "# Finding the number of rows with absolute % errors above 10%, 20%, 30%\n",
    "\n",
    "print(paste0(\" GBM - Number of forecasts with abs. error > 10%: \",nrow(subset(rtp, abs_perc_error > 10))))\n",
    "print(paste0(\" GBM - Number of forecasts with abs. error > 20%: \",nrow(subset(rtp, abs_perc_error > 20))))\n",
    "print(paste0(\" GBM - Number of forecasts with abs. error > 30%: \",nrow(subset(rtp, abs_perc_error > 30))))"
   ]
  },
  {
   "cell_type": "code",
   "execution_count": null,
   "metadata": {},
   "outputs": [],
   "source": [
    "ggplot(rtp, aes(x = Month, y = abs_perc_error)) + geom_boxplot(colour = \"navy\", fill = \"blanchedalmond\") + ggtitle(\"Box-Plot of ABSOLUTE Percentage Errors - GBM prediction\")"
   ]
  },
  {
   "cell_type": "code",
   "execution_count": null,
   "metadata": {},
   "outputs": [],
   "source": [
    "ggplot(rtp, aes(x = Year, y = perc_error)) + geom_boxplot(colour = \"coral2\", fill = \"bisque2\") + ggtitle(\"Box-Plot of Percentage Errors - GBM prediction\")"
   ]
  },
  {
   "cell_type": "code",
   "execution_count": null,
   "metadata": {},
   "outputs": [],
   "source": [
    "ggplot(rtp, aes(x = Year, y = abs_perc_error)) + geom_boxplot(colour = \"navy\", fill = \"bisque2\") + ggtitle(\"Box-Plot of ABSOLUTE Percentage Errors - GBM prediction\")"
   ]
  },
  {
   "cell_type": "code",
   "execution_count": null,
   "metadata": {},
   "outputs": [],
   "source": []
  }
 ],
 "metadata": {
  "kernelspec": {
   "display_name": "R",
   "language": "R",
   "name": "ir"
  },
  "language_info": {
   "codemirror_mode": "r",
   "file_extension": ".r",
   "mimetype": "text/x-r-source",
   "name": "R",
   "pygments_lexer": "r",
   "version": "3.4.4"
  }
 },
 "nbformat": 4,
 "nbformat_minor": 2
}
